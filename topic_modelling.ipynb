{
 "cells": [
  {
   "cell_type": "markdown",
   "metadata": {},
   "source": [
    "# Topic modelling Example \n",
    "\n",
    "https://pycaret.gitbook.io/docs/learn-pycaret/official-blog/nlp-text-classification-in-python-using-pycaret#iv.-pycaret-approach"
   ]
  },
  {
   "cell_type": "code",
   "execution_count": 2,
   "metadata": {},
   "outputs": [],
   "source": [
    "import pycaret\n",
    "from pycaret.datasets import get_data\n"
   ]
  },
  {
   "cell_type": "code",
   "execution_count": 3,
   "metadata": {},
   "outputs": [
    {
     "data": {
      "text/html": [
       "<div>\n",
       "<style scoped>\n",
       "    .dataframe tbody tr th:only-of-type {\n",
       "        vertical-align: middle;\n",
       "    }\n",
       "\n",
       "    .dataframe tbody tr th {\n",
       "        vertical-align: top;\n",
       "    }\n",
       "\n",
       "    .dataframe thead th {\n",
       "        text-align: right;\n",
       "    }\n",
       "</style>\n",
       "<table border=\"1\" class=\"dataframe\">\n",
       "  <thead>\n",
       "    <tr style=\"text-align: right;\">\n",
       "      <th></th>\n",
       "      <th>country</th>\n",
       "      <th>en</th>\n",
       "      <th>gender</th>\n",
       "      <th>loan_amount</th>\n",
       "      <th>nonpayment</th>\n",
       "      <th>sector</th>\n",
       "      <th>status</th>\n",
       "    </tr>\n",
       "  </thead>\n",
       "  <tbody>\n",
       "    <tr>\n",
       "      <th>0</th>\n",
       "      <td>Dominican Republic</td>\n",
       "      <td>\"Banco Esperanza\" is a group of 10 women looki...</td>\n",
       "      <td>F</td>\n",
       "      <td>1225</td>\n",
       "      <td>partner</td>\n",
       "      <td>Retail</td>\n",
       "      <td>0</td>\n",
       "    </tr>\n",
       "    <tr>\n",
       "      <th>1</th>\n",
       "      <td>Dominican Republic</td>\n",
       "      <td>\"Caminemos Hacia Adelante\" or \"Walking Forward...</td>\n",
       "      <td>F</td>\n",
       "      <td>1975</td>\n",
       "      <td>lender</td>\n",
       "      <td>Clothing</td>\n",
       "      <td>0</td>\n",
       "    </tr>\n",
       "    <tr>\n",
       "      <th>2</th>\n",
       "      <td>Dominican Republic</td>\n",
       "      <td>\"Creciendo Por La Union\" is a group of 10 peop...</td>\n",
       "      <td>F</td>\n",
       "      <td>2175</td>\n",
       "      <td>partner</td>\n",
       "      <td>Clothing</td>\n",
       "      <td>0</td>\n",
       "    </tr>\n",
       "    <tr>\n",
       "      <th>3</th>\n",
       "      <td>Dominican Republic</td>\n",
       "      <td>\"Cristo Vive\" (\"Christ lives\" is a group of 10...</td>\n",
       "      <td>F</td>\n",
       "      <td>1425</td>\n",
       "      <td>partner</td>\n",
       "      <td>Clothing</td>\n",
       "      <td>0</td>\n",
       "    </tr>\n",
       "    <tr>\n",
       "      <th>4</th>\n",
       "      <td>Dominican Republic</td>\n",
       "      <td>\"Cristo Vive\" is a large group of 35 people, 2...</td>\n",
       "      <td>F</td>\n",
       "      <td>4025</td>\n",
       "      <td>partner</td>\n",
       "      <td>Food</td>\n",
       "      <td>0</td>\n",
       "    </tr>\n",
       "  </tbody>\n",
       "</table>\n",
       "</div>"
      ],
      "text/plain": [
       "              country                                                 en  \\\n",
       "0  Dominican Republic  \"Banco Esperanza\" is a group of 10 women looki...   \n",
       "1  Dominican Republic  \"Caminemos Hacia Adelante\" or \"Walking Forward...   \n",
       "2  Dominican Republic  \"Creciendo Por La Union\" is a group of 10 peop...   \n",
       "3  Dominican Republic  \"Cristo Vive\" (\"Christ lives\" is a group of 10...   \n",
       "4  Dominican Republic  \"Cristo Vive\" is a large group of 35 people, 2...   \n",
       "\n",
       "  gender  loan_amount nonpayment    sector  status  \n",
       "0      F         1225    partner    Retail       0  \n",
       "1      F         1975     lender  Clothing       0  \n",
       "2      F         2175    partner  Clothing       0  \n",
       "3      F         1425    partner  Clothing       0  \n",
       "4      F         4025    partner      Food       0  "
      ]
     },
     "metadata": {},
     "output_type": "display_data"
    }
   ],
   "source": [
    "# load dataset\n",
    "data = get_data('kiva')"
   ]
  },
  {
   "cell_type": "code",
   "execution_count": 4,
   "metadata": {},
   "outputs": [
    {
     "data": {
      "text/plain": [
       "(6818, 7)"
      ]
     },
     "execution_count": 4,
     "metadata": {},
     "output_type": "execute_result"
    }
   ],
   "source": [
    "# check shape of data\n",
    "data.shape"
   ]
  },
  {
   "cell_type": "code",
   "execution_count": 5,
   "metadata": {},
   "outputs": [
    {
     "name": "stdout",
     "output_type": "stream",
     "text": [
      "\"Banco Esperanza\" is a group of 10 women looking to receive a small loan. Each of them has taken out a very small loan already, so this would be their second. With this loan the group is going to try and expand their small businesses and start generating more income. <P>\n",
      "\n",
      "Eduviges is the group representative and leader of the group. Eduviges has a lot on the line because she has 6 children that she has to take care of. She told me that those children are the reason she wants to be successful. She wants to be able to provide a different life for them and show them that they can be successful as well. <P>\n",
      "\n",
      "Eduviges has a very small business selling shoes and Avon products. She plans to expand using this loan and dreams of success. The whole group is ready for this new challenge and are on the road to bettering their lives. On behalf of Eduviges, the group, and Esperanza International--------- Thank you for your support!!!!\n"
     ]
    }
   ],
   "source": [
    "# print first document\n",
    "print(data['en'][0])"
   ]
  },
  {
   "cell_type": "code",
   "execution_count": 6,
   "metadata": {},
   "outputs": [
    {
     "data": {
      "text/plain": [
       "(1000, 7)"
      ]
     },
     "execution_count": 6,
     "metadata": {},
     "output_type": "execute_result"
    }
   ],
   "source": [
    "# sampling the data to select only 1000 documents\n",
    "data = data.sample(1000, random_state=786).reset_index(drop=True)\n",
    "data.shape"
   ]
  },
  {
   "cell_type": "markdown",
   "metadata": {},
   "source": [
    "# Setup"
   ]
  },
  {
   "cell_type": "code",
   "execution_count": 7,
   "metadata": {},
   "outputs": [
    {
     "data": {
      "text/html": [
       "<style type=\"text/css\">\n",
       "</style>\n",
       "<table id=\"T_ceae9\">\n",
       "  <thead>\n",
       "    <tr>\n",
       "      <th id=\"T_ceae9_level0_col0\" class=\"col_heading level0 col0\" >Description</th>\n",
       "      <th id=\"T_ceae9_level0_col1\" class=\"col_heading level0 col1\" >Value</th>\n",
       "    </tr>\n",
       "  </thead>\n",
       "  <tbody>\n",
       "    <tr>\n",
       "      <td id=\"T_ceae9_row0_col0\" class=\"data row0 col0\" >session_id</td>\n",
       "      <td id=\"T_ceae9_row0_col1\" class=\"data row0 col1\" >123</td>\n",
       "    </tr>\n",
       "    <tr>\n",
       "      <td id=\"T_ceae9_row1_col0\" class=\"data row1 col0\" >Documents</td>\n",
       "      <td id=\"T_ceae9_row1_col1\" class=\"data row1 col1\" >1000</td>\n",
       "    </tr>\n",
       "    <tr>\n",
       "      <td id=\"T_ceae9_row2_col0\" class=\"data row2 col0\" >Vocab Size</td>\n",
       "      <td id=\"T_ceae9_row2_col1\" class=\"data row2 col1\" >4588</td>\n",
       "    </tr>\n",
       "    <tr>\n",
       "      <td id=\"T_ceae9_row3_col0\" class=\"data row3 col0\" >Custom Stopwords</td>\n",
       "      <td id=\"T_ceae9_row3_col1\" class=\"data row3 col1\" >False</td>\n",
       "    </tr>\n",
       "  </tbody>\n",
       "</table>\n"
      ],
      "text/plain": [
       "<pandas.io.formats.style.Styler at 0x7faabf1d96a0>"
      ]
     },
     "metadata": {},
     "output_type": "display_data"
    }
   ],
   "source": [
    "# init setup\n",
    "from pycaret.nlp import *\n",
    "s = setup(data, target = 'en', session_id=123)"
   ]
  },
  {
   "cell_type": "markdown",
   "metadata": {},
   "source": [
    "# Create Model"
   ]
  },
  {
   "cell_type": "code",
   "execution_count": 8,
   "metadata": {},
   "outputs": [
    {
     "data": {
      "text/html": [
       "<div>\n",
       "<style scoped>\n",
       "    .dataframe tbody tr th:only-of-type {\n",
       "        vertical-align: middle;\n",
       "    }\n",
       "\n",
       "    .dataframe tbody tr th {\n",
       "        vertical-align: top;\n",
       "    }\n",
       "\n",
       "    .dataframe thead th {\n",
       "        text-align: right;\n",
       "    }\n",
       "</style>\n",
       "<table border=\"1\" class=\"dataframe\">\n",
       "  <thead>\n",
       "    <tr style=\"text-align: right;\">\n",
       "      <th></th>\n",
       "      <th>Name</th>\n",
       "      <th>Reference</th>\n",
       "    </tr>\n",
       "    <tr>\n",
       "      <th>ID</th>\n",
       "      <th></th>\n",
       "      <th></th>\n",
       "    </tr>\n",
       "  </thead>\n",
       "  <tbody>\n",
       "    <tr>\n",
       "      <th>lda</th>\n",
       "      <td>Latent Dirichlet Allocation</td>\n",
       "      <td>gensim/models/ldamodel</td>\n",
       "    </tr>\n",
       "    <tr>\n",
       "      <th>lsi</th>\n",
       "      <td>Latent Semantic Indexing</td>\n",
       "      <td>gensim/models/lsimodel</td>\n",
       "    </tr>\n",
       "    <tr>\n",
       "      <th>hdp</th>\n",
       "      <td>Hierarchical Dirichlet Process</td>\n",
       "      <td>gensim/models/hdpmodel</td>\n",
       "    </tr>\n",
       "    <tr>\n",
       "      <th>rp</th>\n",
       "      <td>Random Projections</td>\n",
       "      <td>gensim/models/rpmodel</td>\n",
       "    </tr>\n",
       "    <tr>\n",
       "      <th>nmf</th>\n",
       "      <td>Non-Negative Matrix Factorization</td>\n",
       "      <td>sklearn.decomposition.NMF</td>\n",
       "    </tr>\n",
       "  </tbody>\n",
       "</table>\n",
       "</div>"
      ],
      "text/plain": [
       "                                  Name                  Reference\n",
       "ID                                                               \n",
       "lda        Latent Dirichlet Allocation     gensim/models/ldamodel\n",
       "lsi           Latent Semantic Indexing     gensim/models/lsimodel\n",
       "hdp     Hierarchical Dirichlet Process     gensim/models/hdpmodel\n",
       "rp                  Random Projections      gensim/models/rpmodel\n",
       "nmf  Non-Negative Matrix Factorization  sklearn.decomposition.NMF"
      ]
     },
     "execution_count": 8,
     "metadata": {},
     "output_type": "execute_result"
    }
   ],
   "source": [
    "# the models available in pycaret.nlp\n",
    "models()"
   ]
  },
  {
   "cell_type": "markdown",
   "metadata": {},
   "source": [
    "## To train a model"
   ]
  },
  {
   "cell_type": "code",
   "execution_count": 9,
   "metadata": {},
   "outputs": [
    {
     "name": "stdout",
     "output_type": "stream",
     "text": [
      "LdaModel(num_terms=4588, num_topics=4, decay=0.5, chunksize=100)\n"
     ]
    }
   ],
   "source": [
    "lda = create_model('lda')\n",
    "print(lda)"
   ]
  },
  {
   "cell_type": "markdown",
   "metadata": {},
   "source": [
    "# Assign Model"
   ]
  },
  {
   "cell_type": "code",
   "execution_count": 10,
   "metadata": {},
   "outputs": [
    {
     "data": {
      "text/html": [
       "<div>\n",
       "<style scoped>\n",
       "    .dataframe tbody tr th:only-of-type {\n",
       "        vertical-align: middle;\n",
       "    }\n",
       "\n",
       "    .dataframe tbody tr th {\n",
       "        vertical-align: top;\n",
       "    }\n",
       "\n",
       "    .dataframe thead th {\n",
       "        text-align: right;\n",
       "    }\n",
       "</style>\n",
       "<table border=\"1\" class=\"dataframe\">\n",
       "  <thead>\n",
       "    <tr style=\"text-align: right;\">\n",
       "      <th></th>\n",
       "      <th>country</th>\n",
       "      <th>en</th>\n",
       "      <th>gender</th>\n",
       "      <th>loan_amount</th>\n",
       "      <th>nonpayment</th>\n",
       "      <th>sector</th>\n",
       "      <th>status</th>\n",
       "      <th>Topic_0</th>\n",
       "      <th>Topic_1</th>\n",
       "      <th>Topic_2</th>\n",
       "      <th>Topic_3</th>\n",
       "      <th>Dominant_Topic</th>\n",
       "      <th>Perc_Dominant_Topic</th>\n",
       "    </tr>\n",
       "  </thead>\n",
       "  <tbody>\n",
       "    <tr>\n",
       "      <th>0</th>\n",
       "      <td>Kenya</td>\n",
       "      <td>praxide marry child primary school train tailo...</td>\n",
       "      <td>F</td>\n",
       "      <td>75</td>\n",
       "      <td>partner</td>\n",
       "      <td>Services</td>\n",
       "      <td>0</td>\n",
       "      <td>0.682645</td>\n",
       "      <td>0.174738</td>\n",
       "      <td>0.142211</td>\n",
       "      <td>0.000406</td>\n",
       "      <td>Topic 0</td>\n",
       "      <td>0.68</td>\n",
       "    </tr>\n",
       "    <tr>\n",
       "      <th>1</th>\n",
       "      <td>Kenya</td>\n",
       "      <td>gynaecology practitioner run year old live wif...</td>\n",
       "      <td>M</td>\n",
       "      <td>1200</td>\n",
       "      <td>partner</td>\n",
       "      <td>Health</td>\n",
       "      <td>0</td>\n",
       "      <td>0.003994</td>\n",
       "      <td>0.156257</td>\n",
       "      <td>0.839335</td>\n",
       "      <td>0.000414</td>\n",
       "      <td>Topic 2</td>\n",
       "      <td>0.84</td>\n",
       "    </tr>\n",
       "    <tr>\n",
       "      <th>2</th>\n",
       "      <td>Dominican Republic</td>\n",
       "      <td>live child boy girl range year old sell used w...</td>\n",
       "      <td>F</td>\n",
       "      <td>150</td>\n",
       "      <td>partner</td>\n",
       "      <td>Clothing</td>\n",
       "      <td>0</td>\n",
       "      <td>0.004554</td>\n",
       "      <td>0.852971</td>\n",
       "      <td>0.142008</td>\n",
       "      <td>0.000468</td>\n",
       "      <td>Topic 1</td>\n",
       "      <td>0.85</td>\n",
       "    </tr>\n",
       "    <tr>\n",
       "      <th>3</th>\n",
       "      <td>Kenya</td>\n",
       "      <td>phanice marry child daughter secondary school ...</td>\n",
       "      <td>F</td>\n",
       "      <td>150</td>\n",
       "      <td>lender</td>\n",
       "      <td>Services</td>\n",
       "      <td>1</td>\n",
       "      <td>0.769483</td>\n",
       "      <td>0.225918</td>\n",
       "      <td>0.004099</td>\n",
       "      <td>0.000500</td>\n",
       "      <td>Topic 0</td>\n",
       "      <td>0.77</td>\n",
       "    </tr>\n",
       "    <tr>\n",
       "      <th>4</th>\n",
       "      <td>Kenya</td>\n",
       "      <td>year old hotel kaptembwa operate hotel last ye...</td>\n",
       "      <td>F</td>\n",
       "      <td>300</td>\n",
       "      <td>lender</td>\n",
       "      <td>Food</td>\n",
       "      <td>1</td>\n",
       "      <td>0.636042</td>\n",
       "      <td>0.242644</td>\n",
       "      <td>0.120901</td>\n",
       "      <td>0.000414</td>\n",
       "      <td>Topic 0</td>\n",
       "      <td>0.64</td>\n",
       "    </tr>\n",
       "  </tbody>\n",
       "</table>\n",
       "</div>"
      ],
      "text/plain": [
       "              country                                                 en  \\\n",
       "0               Kenya  praxide marry child primary school train tailo...   \n",
       "1               Kenya  gynaecology practitioner run year old live wif...   \n",
       "2  Dominican Republic  live child boy girl range year old sell used w...   \n",
       "3               Kenya  phanice marry child daughter secondary school ...   \n",
       "4               Kenya  year old hotel kaptembwa operate hotel last ye...   \n",
       "\n",
       "  gender  loan_amount nonpayment    sector  status   Topic_0   Topic_1  \\\n",
       "0      F           75    partner  Services       0  0.682645  0.174738   \n",
       "1      M         1200    partner    Health       0  0.003994  0.156257   \n",
       "2      F          150    partner  Clothing       0  0.004554  0.852971   \n",
       "3      F          150     lender  Services       1  0.769483  0.225918   \n",
       "4      F          300     lender      Food       1  0.636042  0.242644   \n",
       "\n",
       "    Topic_2   Topic_3 Dominant_Topic  Perc_Dominant_Topic  \n",
       "0  0.142211  0.000406        Topic 0                 0.68  \n",
       "1  0.839335  0.000414        Topic 2                 0.84  \n",
       "2  0.142008  0.000468        Topic 1                 0.85  \n",
       "3  0.004099  0.000500        Topic 0                 0.77  \n",
       "4  0.120901  0.000414        Topic 0                 0.64  "
      ]
     },
     "execution_count": 10,
     "metadata": {},
     "output_type": "execute_result"
    }
   ],
   "source": [
    "lda_results = assign_model(lda)\n",
    "lda_results.head()"
   ]
  },
  {
   "cell_type": "markdown",
   "metadata": {},
   "source": [
    "# Analyze Model"
   ]
  },
  {
   "cell_type": "code",
   "execution_count": 11,
   "metadata": {},
   "outputs": [
    {
     "data": {
      "text/html": [
       "        <script type=\"text/javascript\">\n",
       "        window.PlotlyConfig = {MathJaxConfig: 'local'};\n",
       "        if (window.MathJax && window.MathJax.Hub && window.MathJax.Hub.Config) {window.MathJax.Hub.Config({SVG: {font: \"STIX-Web\"}});}\n",
       "        if (typeof require !== 'undefined') {\n",
       "        require.undef(\"plotly\");\n",
       "        requirejs.config({\n",
       "            paths: {\n",
       "                'plotly': ['https://cdn.plot.ly/plotly-2.14.0.min']\n",
       "            }\n",
       "        });\n",
       "        require(['plotly'], function(Plotly) {\n",
       "            window._Plotly = Plotly;\n",
       "        });\n",
       "        }\n",
       "        </script>\n",
       "        "
      ]
     },
     "metadata": {},
     "output_type": "display_data"
    },
    {
     "data": {
      "application/vnd.plotly.v1+json": {
       "config": {
        "linkText": "Export to plot.ly",
        "plotlyServerURL": "https://plot.ly",
        "showLink": true
       },
       "data": [
        {
         "marker": {
          "color": "rgba(255, 153, 51, 0.6)",
          "line": {
           "color": "rgba(255, 153, 51, 1.0)",
           "width": 1
          }
         },
         "name": "count",
         "orientation": "v",
         "text": "",
         "type": "bar",
         "x": [
          "loan",
          "business",
          "child",
          "year",
          "sell",
          "buy",
          "school",
          "also",
          "work",
          "use",
          "old",
          "family",
          "make",
          "able",
          "start",
          "small",
          "live",
          "help",
          "group",
          "purchase",
          "product",
          "income",
          "well",
          "increase",
          "husband",
          "home",
          "woman",
          "community",
          "customer",
          "good",
          "need",
          "order",
          "request",
          "member",
          "pay",
          "hope",
          "marry",
          "stock",
          "want",
          "grow",
          "people",
          "new",
          "time",
          "provide",
          "farmer",
          "store",
          "get",
          "many",
          "client",
          "entrepreneur",
          "expand",
          "support",
          "go",
          "area",
          "money",
          "improve",
          "market",
          "give",
          "shop",
          "hard",
          "rice",
          "first",
          "sale",
          "food",
          "ago",
          "clothing",
          "invest",
          "plan",
          "run",
          "mother",
          "profit",
          "take",
          "clothe",
          "education",
          "life",
          "farm",
          "high",
          "service",
          "continue",
          "capital",
          "month",
          "house",
          "enable",
          "local",
          "young",
          "item",
          "fee",
          "demand",
          "wife",
          "large",
          "part",
          "operate",
          "say",
          "receive",
          "married",
          "repay",
          "meet",
          "day",
          "still",
          "supply"
         ],
         "y": [
          1932,
          1904,
          1199,
          1069,
          1039,
          796,
          668,
          647,
          630,
          597,
          564,
          562,
          529,
          516,
          486,
          472,
          467,
          460,
          455,
          395,
          390,
          357,
          348,
          347,
          345,
          331,
          325,
          319,
          315,
          313,
          291,
          289,
          273,
          268,
          265,
          263,
          259,
          256,
          246,
          243,
          243,
          242,
          242,
          235,
          235,
          230,
          219,
          217,
          216,
          214,
          209,
          209,
          209,
          209,
          205,
          202,
          199,
          198,
          198,
          195,
          192,
          188,
          186,
          184,
          182,
          182,
          181,
          178,
          178,
          174,
          172,
          171,
          168,
          168,
          167,
          165,
          164,
          163,
          162,
          156,
          154,
          153,
          152,
          149,
          149,
          142,
          141,
          140,
          137,
          136,
          133,
          133,
          132,
          131,
          131,
          130,
          130,
          128,
          126,
          124
         ]
        }
       ],
       "layout": {
        "legend": {
         "bgcolor": "#F5F6F9",
         "font": {
          "color": "#4D5663"
         }
        },
        "paper_bgcolor": "#F5F6F9",
        "plot_bgcolor": "#F5F6F9",
        "template": {
         "data": {
          "bar": [
           {
            "error_x": {
             "color": "#2a3f5f"
            },
            "error_y": {
             "color": "#2a3f5f"
            },
            "marker": {
             "line": {
              "color": "#E5ECF6",
              "width": 0.5
             },
             "pattern": {
              "fillmode": "overlay",
              "size": 10,
              "solidity": 0.2
             }
            },
            "type": "bar"
           }
          ],
          "barpolar": [
           {
            "marker": {
             "line": {
              "color": "#E5ECF6",
              "width": 0.5
             },
             "pattern": {
              "fillmode": "overlay",
              "size": 10,
              "solidity": 0.2
             }
            },
            "type": "barpolar"
           }
          ],
          "carpet": [
           {
            "aaxis": {
             "endlinecolor": "#2a3f5f",
             "gridcolor": "white",
             "linecolor": "white",
             "minorgridcolor": "white",
             "startlinecolor": "#2a3f5f"
            },
            "baxis": {
             "endlinecolor": "#2a3f5f",
             "gridcolor": "white",
             "linecolor": "white",
             "minorgridcolor": "white",
             "startlinecolor": "#2a3f5f"
            },
            "type": "carpet"
           }
          ],
          "choropleth": [
           {
            "colorbar": {
             "outlinewidth": 0,
             "ticks": ""
            },
            "type": "choropleth"
           }
          ],
          "contour": [
           {
            "colorbar": {
             "outlinewidth": 0,
             "ticks": ""
            },
            "colorscale": [
             [
              0,
              "#0d0887"
             ],
             [
              0.1111111111111111,
              "#46039f"
             ],
             [
              0.2222222222222222,
              "#7201a8"
             ],
             [
              0.3333333333333333,
              "#9c179e"
             ],
             [
              0.4444444444444444,
              "#bd3786"
             ],
             [
              0.5555555555555556,
              "#d8576b"
             ],
             [
              0.6666666666666666,
              "#ed7953"
             ],
             [
              0.7777777777777778,
              "#fb9f3a"
             ],
             [
              0.8888888888888888,
              "#fdca26"
             ],
             [
              1,
              "#f0f921"
             ]
            ],
            "type": "contour"
           }
          ],
          "contourcarpet": [
           {
            "colorbar": {
             "outlinewidth": 0,
             "ticks": ""
            },
            "type": "contourcarpet"
           }
          ],
          "heatmap": [
           {
            "colorbar": {
             "outlinewidth": 0,
             "ticks": ""
            },
            "colorscale": [
             [
              0,
              "#0d0887"
             ],
             [
              0.1111111111111111,
              "#46039f"
             ],
             [
              0.2222222222222222,
              "#7201a8"
             ],
             [
              0.3333333333333333,
              "#9c179e"
             ],
             [
              0.4444444444444444,
              "#bd3786"
             ],
             [
              0.5555555555555556,
              "#d8576b"
             ],
             [
              0.6666666666666666,
              "#ed7953"
             ],
             [
              0.7777777777777778,
              "#fb9f3a"
             ],
             [
              0.8888888888888888,
              "#fdca26"
             ],
             [
              1,
              "#f0f921"
             ]
            ],
            "type": "heatmap"
           }
          ],
          "heatmapgl": [
           {
            "colorbar": {
             "outlinewidth": 0,
             "ticks": ""
            },
            "colorscale": [
             [
              0,
              "#0d0887"
             ],
             [
              0.1111111111111111,
              "#46039f"
             ],
             [
              0.2222222222222222,
              "#7201a8"
             ],
             [
              0.3333333333333333,
              "#9c179e"
             ],
             [
              0.4444444444444444,
              "#bd3786"
             ],
             [
              0.5555555555555556,
              "#d8576b"
             ],
             [
              0.6666666666666666,
              "#ed7953"
             ],
             [
              0.7777777777777778,
              "#fb9f3a"
             ],
             [
              0.8888888888888888,
              "#fdca26"
             ],
             [
              1,
              "#f0f921"
             ]
            ],
            "type": "heatmapgl"
           }
          ],
          "histogram": [
           {
            "marker": {
             "pattern": {
              "fillmode": "overlay",
              "size": 10,
              "solidity": 0.2
             }
            },
            "type": "histogram"
           }
          ],
          "histogram2d": [
           {
            "colorbar": {
             "outlinewidth": 0,
             "ticks": ""
            },
            "colorscale": [
             [
              0,
              "#0d0887"
             ],
             [
              0.1111111111111111,
              "#46039f"
             ],
             [
              0.2222222222222222,
              "#7201a8"
             ],
             [
              0.3333333333333333,
              "#9c179e"
             ],
             [
              0.4444444444444444,
              "#bd3786"
             ],
             [
              0.5555555555555556,
              "#d8576b"
             ],
             [
              0.6666666666666666,
              "#ed7953"
             ],
             [
              0.7777777777777778,
              "#fb9f3a"
             ],
             [
              0.8888888888888888,
              "#fdca26"
             ],
             [
              1,
              "#f0f921"
             ]
            ],
            "type": "histogram2d"
           }
          ],
          "histogram2dcontour": [
           {
            "colorbar": {
             "outlinewidth": 0,
             "ticks": ""
            },
            "colorscale": [
             [
              0,
              "#0d0887"
             ],
             [
              0.1111111111111111,
              "#46039f"
             ],
             [
              0.2222222222222222,
              "#7201a8"
             ],
             [
              0.3333333333333333,
              "#9c179e"
             ],
             [
              0.4444444444444444,
              "#bd3786"
             ],
             [
              0.5555555555555556,
              "#d8576b"
             ],
             [
              0.6666666666666666,
              "#ed7953"
             ],
             [
              0.7777777777777778,
              "#fb9f3a"
             ],
             [
              0.8888888888888888,
              "#fdca26"
             ],
             [
              1,
              "#f0f921"
             ]
            ],
            "type": "histogram2dcontour"
           }
          ],
          "mesh3d": [
           {
            "colorbar": {
             "outlinewidth": 0,
             "ticks": ""
            },
            "type": "mesh3d"
           }
          ],
          "parcoords": [
           {
            "line": {
             "colorbar": {
              "outlinewidth": 0,
              "ticks": ""
             }
            },
            "type": "parcoords"
           }
          ],
          "pie": [
           {
            "automargin": true,
            "type": "pie"
           }
          ],
          "scatter": [
           {
            "fillpattern": {
             "fillmode": "overlay",
             "size": 10,
             "solidity": 0.2
            },
            "type": "scatter"
           }
          ],
          "scatter3d": [
           {
            "line": {
             "colorbar": {
              "outlinewidth": 0,
              "ticks": ""
             }
            },
            "marker": {
             "colorbar": {
              "outlinewidth": 0,
              "ticks": ""
             }
            },
            "type": "scatter3d"
           }
          ],
          "scattercarpet": [
           {
            "marker": {
             "colorbar": {
              "outlinewidth": 0,
              "ticks": ""
             }
            },
            "type": "scattercarpet"
           }
          ],
          "scattergeo": [
           {
            "marker": {
             "colorbar": {
              "outlinewidth": 0,
              "ticks": ""
             }
            },
            "type": "scattergeo"
           }
          ],
          "scattergl": [
           {
            "marker": {
             "colorbar": {
              "outlinewidth": 0,
              "ticks": ""
             }
            },
            "type": "scattergl"
           }
          ],
          "scattermapbox": [
           {
            "marker": {
             "colorbar": {
              "outlinewidth": 0,
              "ticks": ""
             }
            },
            "type": "scattermapbox"
           }
          ],
          "scatterpolar": [
           {
            "marker": {
             "colorbar": {
              "outlinewidth": 0,
              "ticks": ""
             }
            },
            "type": "scatterpolar"
           }
          ],
          "scatterpolargl": [
           {
            "marker": {
             "colorbar": {
              "outlinewidth": 0,
              "ticks": ""
             }
            },
            "type": "scatterpolargl"
           }
          ],
          "scatterternary": [
           {
            "marker": {
             "colorbar": {
              "outlinewidth": 0,
              "ticks": ""
             }
            },
            "type": "scatterternary"
           }
          ],
          "surface": [
           {
            "colorbar": {
             "outlinewidth": 0,
             "ticks": ""
            },
            "colorscale": [
             [
              0,
              "#0d0887"
             ],
             [
              0.1111111111111111,
              "#46039f"
             ],
             [
              0.2222222222222222,
              "#7201a8"
             ],
             [
              0.3333333333333333,
              "#9c179e"
             ],
             [
              0.4444444444444444,
              "#bd3786"
             ],
             [
              0.5555555555555556,
              "#d8576b"
             ],
             [
              0.6666666666666666,
              "#ed7953"
             ],
             [
              0.7777777777777778,
              "#fb9f3a"
             ],
             [
              0.8888888888888888,
              "#fdca26"
             ],
             [
              1,
              "#f0f921"
             ]
            ],
            "type": "surface"
           }
          ],
          "table": [
           {
            "cells": {
             "fill": {
              "color": "#EBF0F8"
             },
             "line": {
              "color": "white"
             }
            },
            "header": {
             "fill": {
              "color": "#C8D4E3"
             },
             "line": {
              "color": "white"
             }
            },
            "type": "table"
           }
          ]
         },
         "layout": {
          "annotationdefaults": {
           "arrowcolor": "#2a3f5f",
           "arrowhead": 0,
           "arrowwidth": 1
          },
          "autotypenumbers": "strict",
          "coloraxis": {
           "colorbar": {
            "outlinewidth": 0,
            "ticks": ""
           }
          },
          "colorscale": {
           "diverging": [
            [
             0,
             "#8e0152"
            ],
            [
             0.1,
             "#c51b7d"
            ],
            [
             0.2,
             "#de77ae"
            ],
            [
             0.3,
             "#f1b6da"
            ],
            [
             0.4,
             "#fde0ef"
            ],
            [
             0.5,
             "#f7f7f7"
            ],
            [
             0.6,
             "#e6f5d0"
            ],
            [
             0.7,
             "#b8e186"
            ],
            [
             0.8,
             "#7fbc41"
            ],
            [
             0.9,
             "#4d9221"
            ],
            [
             1,
             "#276419"
            ]
           ],
           "sequential": [
            [
             0,
             "#0d0887"
            ],
            [
             0.1111111111111111,
             "#46039f"
            ],
            [
             0.2222222222222222,
             "#7201a8"
            ],
            [
             0.3333333333333333,
             "#9c179e"
            ],
            [
             0.4444444444444444,
             "#bd3786"
            ],
            [
             0.5555555555555556,
             "#d8576b"
            ],
            [
             0.6666666666666666,
             "#ed7953"
            ],
            [
             0.7777777777777778,
             "#fb9f3a"
            ],
            [
             0.8888888888888888,
             "#fdca26"
            ],
            [
             1,
             "#f0f921"
            ]
           ],
           "sequentialminus": [
            [
             0,
             "#0d0887"
            ],
            [
             0.1111111111111111,
             "#46039f"
            ],
            [
             0.2222222222222222,
             "#7201a8"
            ],
            [
             0.3333333333333333,
             "#9c179e"
            ],
            [
             0.4444444444444444,
             "#bd3786"
            ],
            [
             0.5555555555555556,
             "#d8576b"
            ],
            [
             0.6666666666666666,
             "#ed7953"
            ],
            [
             0.7777777777777778,
             "#fb9f3a"
            ],
            [
             0.8888888888888888,
             "#fdca26"
            ],
            [
             1,
             "#f0f921"
            ]
           ]
          },
          "colorway": [
           "#636efa",
           "#EF553B",
           "#00cc96",
           "#ab63fa",
           "#FFA15A",
           "#19d3f3",
           "#FF6692",
           "#B6E880",
           "#FF97FF",
           "#FECB52"
          ],
          "font": {
           "color": "#2a3f5f"
          },
          "geo": {
           "bgcolor": "white",
           "lakecolor": "white",
           "landcolor": "#E5ECF6",
           "showlakes": true,
           "showland": true,
           "subunitcolor": "white"
          },
          "hoverlabel": {
           "align": "left"
          },
          "hovermode": "closest",
          "mapbox": {
           "style": "light"
          },
          "paper_bgcolor": "white",
          "plot_bgcolor": "#E5ECF6",
          "polar": {
           "angularaxis": {
            "gridcolor": "white",
            "linecolor": "white",
            "ticks": ""
           },
           "bgcolor": "#E5ECF6",
           "radialaxis": {
            "gridcolor": "white",
            "linecolor": "white",
            "ticks": ""
           }
          },
          "scene": {
           "xaxis": {
            "backgroundcolor": "#E5ECF6",
            "gridcolor": "white",
            "gridwidth": 2,
            "linecolor": "white",
            "showbackground": true,
            "ticks": "",
            "zerolinecolor": "white"
           },
           "yaxis": {
            "backgroundcolor": "#E5ECF6",
            "gridcolor": "white",
            "gridwidth": 2,
            "linecolor": "white",
            "showbackground": true,
            "ticks": "",
            "zerolinecolor": "white"
           },
           "zaxis": {
            "backgroundcolor": "#E5ECF6",
            "gridcolor": "white",
            "gridwidth": 2,
            "linecolor": "white",
            "showbackground": true,
            "ticks": "",
            "zerolinecolor": "white"
           }
          },
          "shapedefaults": {
           "line": {
            "color": "#2a3f5f"
           }
          },
          "ternary": {
           "aaxis": {
            "gridcolor": "white",
            "linecolor": "white",
            "ticks": ""
           },
           "baxis": {
            "gridcolor": "white",
            "linecolor": "white",
            "ticks": ""
           },
           "bgcolor": "#E5ECF6",
           "caxis": {
            "gridcolor": "white",
            "linecolor": "white",
            "ticks": ""
           }
          },
          "title": {
           "x": 0.05
          },
          "xaxis": {
           "automargin": true,
           "gridcolor": "white",
           "linecolor": "white",
           "ticks": "",
           "title": {
            "standoff": 15
           },
           "zerolinecolor": "white",
           "zerolinewidth": 2
          },
          "yaxis": {
           "automargin": true,
           "gridcolor": "white",
           "linecolor": "white",
           "ticks": "",
           "title": {
            "standoff": 15
           },
           "zerolinecolor": "white",
           "zerolinewidth": 2
          }
         }
        },
        "title": {
         "font": {
          "color": "#4D5663"
         },
         "text": "Top 100 words after removing stop words"
        },
        "xaxis": {
         "gridcolor": "#E1E5ED",
         "linecolor": "black",
         "showgrid": true,
         "tickfont": {
          "color": "#4D5663"
         },
         "title": {
          "font": {
           "color": "#4D5663"
          },
          "text": ""
         },
         "zerolinecolor": "#E1E5ED"
        },
        "yaxis": {
         "gridcolor": "#E1E5ED",
         "linecolor": "black",
         "showgrid": true,
         "tickfont": {
          "color": "#4D5663"
         },
         "title": {
          "font": {
           "color": "#4D5663"
          },
          "text": "Count"
         },
         "zerolinecolor": "#E1E5ED"
        }
       }
      },
      "text/html": [
       "<div>                            <div id=\"31f4fbb2-cf09-4f97-a8b1-5d18f1f9afbf\" class=\"plotly-graph-div\" style=\"height:525px; width:100%;\"></div>            <script type=\"text/javascript\">                require([\"plotly\"], function(Plotly) {                    window.PLOTLYENV=window.PLOTLYENV || {};\n",
       "                    window.PLOTLYENV.BASE_URL='https://plot.ly';                                    if (document.getElementById(\"31f4fbb2-cf09-4f97-a8b1-5d18f1f9afbf\")) {                    Plotly.newPlot(                        \"31f4fbb2-cf09-4f97-a8b1-5d18f1f9afbf\",                        [{\"marker\":{\"color\":\"rgba(255, 153, 51, 0.6)\",\"line\":{\"color\":\"rgba(255, 153, 51, 1.0)\",\"width\":1}},\"name\":\"count\",\"orientation\":\"v\",\"text\":\"\",\"x\":[\"loan\",\"business\",\"child\",\"year\",\"sell\",\"buy\",\"school\",\"also\",\"work\",\"use\",\"old\",\"family\",\"make\",\"able\",\"start\",\"small\",\"live\",\"help\",\"group\",\"purchase\",\"product\",\"income\",\"well\",\"increase\",\"husband\",\"home\",\"woman\",\"community\",\"customer\",\"good\",\"need\",\"order\",\"request\",\"member\",\"pay\",\"hope\",\"marry\",\"stock\",\"want\",\"grow\",\"people\",\"new\",\"time\",\"provide\",\"farmer\",\"store\",\"get\",\"many\",\"client\",\"entrepreneur\",\"expand\",\"support\",\"go\",\"area\",\"money\",\"improve\",\"market\",\"give\",\"shop\",\"hard\",\"rice\",\"first\",\"sale\",\"food\",\"ago\",\"clothing\",\"invest\",\"plan\",\"run\",\"mother\",\"profit\",\"take\",\"clothe\",\"education\",\"life\",\"farm\",\"high\",\"service\",\"continue\",\"capital\",\"month\",\"house\",\"enable\",\"local\",\"young\",\"item\",\"fee\",\"demand\",\"wife\",\"large\",\"part\",\"operate\",\"say\",\"receive\",\"married\",\"repay\",\"meet\",\"day\",\"still\",\"supply\"],\"y\":[1932,1904,1199,1069,1039,796,668,647,630,597,564,562,529,516,486,472,467,460,455,395,390,357,348,347,345,331,325,319,315,313,291,289,273,268,265,263,259,256,246,243,243,242,242,235,235,230,219,217,216,214,209,209,209,209,205,202,199,198,198,195,192,188,186,184,182,182,181,178,178,174,172,171,168,168,167,165,164,163,162,156,154,153,152,149,149,142,141,140,137,136,133,133,132,131,131,130,130,128,126,124],\"type\":\"bar\"}],                        {\"legend\":{\"bgcolor\":\"#F5F6F9\",\"font\":{\"color\":\"#4D5663\"}},\"paper_bgcolor\":\"#F5F6F9\",\"plot_bgcolor\":\"#F5F6F9\",\"template\":{\"data\":{\"barpolar\":[{\"marker\":{\"line\":{\"color\":\"#E5ECF6\",\"width\":0.5},\"pattern\":{\"fillmode\":\"overlay\",\"size\":10,\"solidity\":0.2}},\"type\":\"barpolar\"}],\"bar\":[{\"error_x\":{\"color\":\"#2a3f5f\"},\"error_y\":{\"color\":\"#2a3f5f\"},\"marker\":{\"line\":{\"color\":\"#E5ECF6\",\"width\":0.5},\"pattern\":{\"fillmode\":\"overlay\",\"size\":10,\"solidity\":0.2}},\"type\":\"bar\"}],\"carpet\":[{\"aaxis\":{\"endlinecolor\":\"#2a3f5f\",\"gridcolor\":\"white\",\"linecolor\":\"white\",\"minorgridcolor\":\"white\",\"startlinecolor\":\"#2a3f5f\"},\"baxis\":{\"endlinecolor\":\"#2a3f5f\",\"gridcolor\":\"white\",\"linecolor\":\"white\",\"minorgridcolor\":\"white\",\"startlinecolor\":\"#2a3f5f\"},\"type\":\"carpet\"}],\"choropleth\":[{\"colorbar\":{\"outlinewidth\":0,\"ticks\":\"\"},\"type\":\"choropleth\"}],\"contourcarpet\":[{\"colorbar\":{\"outlinewidth\":0,\"ticks\":\"\"},\"type\":\"contourcarpet\"}],\"contour\":[{\"colorbar\":{\"outlinewidth\":0,\"ticks\":\"\"},\"colorscale\":[[0.0,\"#0d0887\"],[0.1111111111111111,\"#46039f\"],[0.2222222222222222,\"#7201a8\"],[0.3333333333333333,\"#9c179e\"],[0.4444444444444444,\"#bd3786\"],[0.5555555555555556,\"#d8576b\"],[0.6666666666666666,\"#ed7953\"],[0.7777777777777778,\"#fb9f3a\"],[0.8888888888888888,\"#fdca26\"],[1.0,\"#f0f921\"]],\"type\":\"contour\"}],\"heatmapgl\":[{\"colorbar\":{\"outlinewidth\":0,\"ticks\":\"\"},\"colorscale\":[[0.0,\"#0d0887\"],[0.1111111111111111,\"#46039f\"],[0.2222222222222222,\"#7201a8\"],[0.3333333333333333,\"#9c179e\"],[0.4444444444444444,\"#bd3786\"],[0.5555555555555556,\"#d8576b\"],[0.6666666666666666,\"#ed7953\"],[0.7777777777777778,\"#fb9f3a\"],[0.8888888888888888,\"#fdca26\"],[1.0,\"#f0f921\"]],\"type\":\"heatmapgl\"}],\"heatmap\":[{\"colorbar\":{\"outlinewidth\":0,\"ticks\":\"\"},\"colorscale\":[[0.0,\"#0d0887\"],[0.1111111111111111,\"#46039f\"],[0.2222222222222222,\"#7201a8\"],[0.3333333333333333,\"#9c179e\"],[0.4444444444444444,\"#bd3786\"],[0.5555555555555556,\"#d8576b\"],[0.6666666666666666,\"#ed7953\"],[0.7777777777777778,\"#fb9f3a\"],[0.8888888888888888,\"#fdca26\"],[1.0,\"#f0f921\"]],\"type\":\"heatmap\"}],\"histogram2dcontour\":[{\"colorbar\":{\"outlinewidth\":0,\"ticks\":\"\"},\"colorscale\":[[0.0,\"#0d0887\"],[0.1111111111111111,\"#46039f\"],[0.2222222222222222,\"#7201a8\"],[0.3333333333333333,\"#9c179e\"],[0.4444444444444444,\"#bd3786\"],[0.5555555555555556,\"#d8576b\"],[0.6666666666666666,\"#ed7953\"],[0.7777777777777778,\"#fb9f3a\"],[0.8888888888888888,\"#fdca26\"],[1.0,\"#f0f921\"]],\"type\":\"histogram2dcontour\"}],\"histogram2d\":[{\"colorbar\":{\"outlinewidth\":0,\"ticks\":\"\"},\"colorscale\":[[0.0,\"#0d0887\"],[0.1111111111111111,\"#46039f\"],[0.2222222222222222,\"#7201a8\"],[0.3333333333333333,\"#9c179e\"],[0.4444444444444444,\"#bd3786\"],[0.5555555555555556,\"#d8576b\"],[0.6666666666666666,\"#ed7953\"],[0.7777777777777778,\"#fb9f3a\"],[0.8888888888888888,\"#fdca26\"],[1.0,\"#f0f921\"]],\"type\":\"histogram2d\"}],\"histogram\":[{\"marker\":{\"pattern\":{\"fillmode\":\"overlay\",\"size\":10,\"solidity\":0.2}},\"type\":\"histogram\"}],\"mesh3d\":[{\"colorbar\":{\"outlinewidth\":0,\"ticks\":\"\"},\"type\":\"mesh3d\"}],\"parcoords\":[{\"line\":{\"colorbar\":{\"outlinewidth\":0,\"ticks\":\"\"}},\"type\":\"parcoords\"}],\"pie\":[{\"automargin\":true,\"type\":\"pie\"}],\"scatter3d\":[{\"line\":{\"colorbar\":{\"outlinewidth\":0,\"ticks\":\"\"}},\"marker\":{\"colorbar\":{\"outlinewidth\":0,\"ticks\":\"\"}},\"type\":\"scatter3d\"}],\"scattercarpet\":[{\"marker\":{\"colorbar\":{\"outlinewidth\":0,\"ticks\":\"\"}},\"type\":\"scattercarpet\"}],\"scattergeo\":[{\"marker\":{\"colorbar\":{\"outlinewidth\":0,\"ticks\":\"\"}},\"type\":\"scattergeo\"}],\"scattergl\":[{\"marker\":{\"colorbar\":{\"outlinewidth\":0,\"ticks\":\"\"}},\"type\":\"scattergl\"}],\"scattermapbox\":[{\"marker\":{\"colorbar\":{\"outlinewidth\":0,\"ticks\":\"\"}},\"type\":\"scattermapbox\"}],\"scatterpolargl\":[{\"marker\":{\"colorbar\":{\"outlinewidth\":0,\"ticks\":\"\"}},\"type\":\"scatterpolargl\"}],\"scatterpolar\":[{\"marker\":{\"colorbar\":{\"outlinewidth\":0,\"ticks\":\"\"}},\"type\":\"scatterpolar\"}],\"scatter\":[{\"fillpattern\":{\"fillmode\":\"overlay\",\"size\":10,\"solidity\":0.2},\"type\":\"scatter\"}],\"scatterternary\":[{\"marker\":{\"colorbar\":{\"outlinewidth\":0,\"ticks\":\"\"}},\"type\":\"scatterternary\"}],\"surface\":[{\"colorbar\":{\"outlinewidth\":0,\"ticks\":\"\"},\"colorscale\":[[0.0,\"#0d0887\"],[0.1111111111111111,\"#46039f\"],[0.2222222222222222,\"#7201a8\"],[0.3333333333333333,\"#9c179e\"],[0.4444444444444444,\"#bd3786\"],[0.5555555555555556,\"#d8576b\"],[0.6666666666666666,\"#ed7953\"],[0.7777777777777778,\"#fb9f3a\"],[0.8888888888888888,\"#fdca26\"],[1.0,\"#f0f921\"]],\"type\":\"surface\"}],\"table\":[{\"cells\":{\"fill\":{\"color\":\"#EBF0F8\"},\"line\":{\"color\":\"white\"}},\"header\":{\"fill\":{\"color\":\"#C8D4E3\"},\"line\":{\"color\":\"white\"}},\"type\":\"table\"}]},\"layout\":{\"annotationdefaults\":{\"arrowcolor\":\"#2a3f5f\",\"arrowhead\":0,\"arrowwidth\":1},\"autotypenumbers\":\"strict\",\"coloraxis\":{\"colorbar\":{\"outlinewidth\":0,\"ticks\":\"\"}},\"colorscale\":{\"diverging\":[[0,\"#8e0152\"],[0.1,\"#c51b7d\"],[0.2,\"#de77ae\"],[0.3,\"#f1b6da\"],[0.4,\"#fde0ef\"],[0.5,\"#f7f7f7\"],[0.6,\"#e6f5d0\"],[0.7,\"#b8e186\"],[0.8,\"#7fbc41\"],[0.9,\"#4d9221\"],[1,\"#276419\"]],\"sequential\":[[0.0,\"#0d0887\"],[0.1111111111111111,\"#46039f\"],[0.2222222222222222,\"#7201a8\"],[0.3333333333333333,\"#9c179e\"],[0.4444444444444444,\"#bd3786\"],[0.5555555555555556,\"#d8576b\"],[0.6666666666666666,\"#ed7953\"],[0.7777777777777778,\"#fb9f3a\"],[0.8888888888888888,\"#fdca26\"],[1.0,\"#f0f921\"]],\"sequentialminus\":[[0.0,\"#0d0887\"],[0.1111111111111111,\"#46039f\"],[0.2222222222222222,\"#7201a8\"],[0.3333333333333333,\"#9c179e\"],[0.4444444444444444,\"#bd3786\"],[0.5555555555555556,\"#d8576b\"],[0.6666666666666666,\"#ed7953\"],[0.7777777777777778,\"#fb9f3a\"],[0.8888888888888888,\"#fdca26\"],[1.0,\"#f0f921\"]]},\"colorway\":[\"#636efa\",\"#EF553B\",\"#00cc96\",\"#ab63fa\",\"#FFA15A\",\"#19d3f3\",\"#FF6692\",\"#B6E880\",\"#FF97FF\",\"#FECB52\"],\"font\":{\"color\":\"#2a3f5f\"},\"geo\":{\"bgcolor\":\"white\",\"lakecolor\":\"white\",\"landcolor\":\"#E5ECF6\",\"showlakes\":true,\"showland\":true,\"subunitcolor\":\"white\"},\"hoverlabel\":{\"align\":\"left\"},\"hovermode\":\"closest\",\"mapbox\":{\"style\":\"light\"},\"paper_bgcolor\":\"white\",\"plot_bgcolor\":\"#E5ECF6\",\"polar\":{\"angularaxis\":{\"gridcolor\":\"white\",\"linecolor\":\"white\",\"ticks\":\"\"},\"bgcolor\":\"#E5ECF6\",\"radialaxis\":{\"gridcolor\":\"white\",\"linecolor\":\"white\",\"ticks\":\"\"}},\"scene\":{\"xaxis\":{\"backgroundcolor\":\"#E5ECF6\",\"gridcolor\":\"white\",\"gridwidth\":2,\"linecolor\":\"white\",\"showbackground\":true,\"ticks\":\"\",\"zerolinecolor\":\"white\"},\"yaxis\":{\"backgroundcolor\":\"#E5ECF6\",\"gridcolor\":\"white\",\"gridwidth\":2,\"linecolor\":\"white\",\"showbackground\":true,\"ticks\":\"\",\"zerolinecolor\":\"white\"},\"zaxis\":{\"backgroundcolor\":\"#E5ECF6\",\"gridcolor\":\"white\",\"gridwidth\":2,\"linecolor\":\"white\",\"showbackground\":true,\"ticks\":\"\",\"zerolinecolor\":\"white\"}},\"shapedefaults\":{\"line\":{\"color\":\"#2a3f5f\"}},\"ternary\":{\"aaxis\":{\"gridcolor\":\"white\",\"linecolor\":\"white\",\"ticks\":\"\"},\"baxis\":{\"gridcolor\":\"white\",\"linecolor\":\"white\",\"ticks\":\"\"},\"bgcolor\":\"#E5ECF6\",\"caxis\":{\"gridcolor\":\"white\",\"linecolor\":\"white\",\"ticks\":\"\"}},\"title\":{\"x\":0.05},\"xaxis\":{\"automargin\":true,\"gridcolor\":\"white\",\"linecolor\":\"white\",\"ticks\":\"\",\"title\":{\"standoff\":15},\"zerolinecolor\":\"white\",\"zerolinewidth\":2},\"yaxis\":{\"automargin\":true,\"gridcolor\":\"white\",\"linecolor\":\"white\",\"ticks\":\"\",\"title\":{\"standoff\":15},\"zerolinecolor\":\"white\",\"zerolinewidth\":2}}},\"title\":{\"font\":{\"color\":\"#4D5663\"},\"text\":\"Top 100 words after removing stop words\"},\"xaxis\":{\"gridcolor\":\"#E1E5ED\",\"linecolor\":\"black\",\"showgrid\":true,\"tickfont\":{\"color\":\"#4D5663\"},\"title\":{\"font\":{\"color\":\"#4D5663\"},\"text\":\"\"},\"zerolinecolor\":\"#E1E5ED\"},\"yaxis\":{\"gridcolor\":\"#E1E5ED\",\"linecolor\":\"black\",\"showgrid\":true,\"tickfont\":{\"color\":\"#4D5663\"},\"title\":{\"font\":{\"color\":\"#4D5663\"},\"text\":\"Count\"},\"zerolinecolor\":\"#E1E5ED\"}},                        {\"showLink\": true, \"linkText\": \"Export to plot.ly\", \"plotlyServerURL\": \"https://plot.ly\", \"responsive\": true}                    ).then(function(){\n",
       "                            \n",
       "var gd = document.getElementById('31f4fbb2-cf09-4f97-a8b1-5d18f1f9afbf');\n",
       "var x = new MutationObserver(function (mutations, observer) {{\n",
       "        var display = window.getComputedStyle(gd).display;\n",
       "        if (!display || display === 'none') {{\n",
       "            console.log([gd, 'removed!']);\n",
       "            Plotly.purge(gd);\n",
       "            observer.disconnect();\n",
       "        }}\n",
       "}});\n",
       "\n",
       "// Listen for the removal of the full notebook cells\n",
       "var notebookContainer = gd.closest('#notebook-container');\n",
       "if (notebookContainer) {{\n",
       "    x.observe(notebookContainer, {childList: true});\n",
       "}}\n",
       "\n",
       "// Listen for the clearing of the current output cell\n",
       "var outputEl = gd.closest('.output');\n",
       "if (outputEl) {{\n",
       "    x.observe(outputEl, {childList: true});\n",
       "}}\n",
       "\n",
       "                        })                };                });            </script>        </div>"
      ]
     },
     "metadata": {},
     "output_type": "display_data"
    }
   ],
   "source": [
    "# Frequency distribution of entire corpus\n",
    "plot_model()"
   ]
  },
  {
   "cell_type": "code",
   "execution_count": 12,
   "metadata": {},
   "outputs": [
    {
     "data": {
      "text/html": [
       "        <script type=\"text/javascript\">\n",
       "        window.PlotlyConfig = {MathJaxConfig: 'local'};\n",
       "        if (window.MathJax && window.MathJax.Hub && window.MathJax.Hub.Config) {window.MathJax.Hub.Config({SVG: {font: \"STIX-Web\"}});}\n",
       "        if (typeof require !== 'undefined') {\n",
       "        require.undef(\"plotly\");\n",
       "        requirejs.config({\n",
       "            paths: {\n",
       "                'plotly': ['https://cdn.plot.ly/plotly-2.14.0.min']\n",
       "            }\n",
       "        });\n",
       "        require(['plotly'], function(Plotly) {\n",
       "            window._Plotly = Plotly;\n",
       "        });\n",
       "        }\n",
       "        </script>\n",
       "        "
      ]
     },
     "metadata": {},
     "output_type": "display_data"
    },
    {
     "data": {
      "application/vnd.plotly.v1+json": {
       "config": {
        "linkText": "Export to plot.ly",
        "plotlyServerURL": "https://plot.ly",
        "showLink": true
       },
       "data": [
        {
         "marker": {
          "color": "rgba(255, 153, 51, 0.6)",
          "line": {
           "color": "rgba(255, 153, 51, 1.0)",
           "width": 1
          }
         },
         "name": "count",
         "orientation": "v",
         "text": "",
         "type": "bar",
         "x": [
          "year old",
          "request loan",
          "start business",
          "marry child",
          "year ago",
          "loan buy",
          "use loan",
          "expand business",
          "business year",
          "school fee",
          "loan use",
          "child school",
          "old child",
          "repay loan",
          "second loan",
          "first loan",
          "hard work",
          "old married",
          "old marry",
          "primary school",
          "work hard",
          "business sell",
          "loan usd",
          "small business",
          "loan purchase",
          "mother child",
          "business able",
          "married child",
          "pay school",
          "educate child",
          "use buy",
          "need loan",
          "increase stock",
          "increase income",
          "child live",
          "secondary school",
          "loan order",
          "support family",
          "last year",
          "business grow",
          "woman group",
          "business training_educational_programs_information",
          "business selling",
          "start small",
          "run business",
          "apply loan",
          "able buy",
          "training_educational_programs_information org",
          "help business",
          "start sell",
          "group member",
          "loan able",
          "also sell",
          "year experience",
          "husband work",
          "farmer also",
          "high school",
          "business help",
          "business loan",
          "give loan",
          "operate business",
          "child child",
          "loan pemci",
          "loan invest",
          "begin business",
          "pay loan",
          "child age",
          "child primary",
          "sell product",
          "receive loan",
          "able repay",
          "husband child",
          "member group",
          "rice farmer",
          "go school",
          "many loan",
          "provide family",
          "loan help",
          "person group",
          "microinsurance_acces business",
          "loan risk_willing_accept_additional",
          "risk_making loan",
          "risk_willing_accept_additional risk_making",
          "communities_remains_unsettled_affecte many",
          "mifex_offers_client microinsurance_acces",
          "fee child",
          "loan month",
          "sell clothing",
          "loan intend",
          "willing_repay loan",
          "group loan",
          "able provide",
          "attend school",
          "loan group",
          "live husband",
          "run small",
          "high demand",
          "grow business",
          "old mother",
          "old live"
         ],
         "y": [
          403,
          194,
          175,
          168,
          161,
          159,
          147,
          115,
          112,
          105,
          105,
          99,
          87,
          82,
          81,
          80,
          78,
          76,
          76,
          74,
          70,
          68,
          68,
          67,
          67,
          66,
          60,
          59,
          58,
          57,
          57,
          51,
          51,
          50,
          50,
          50,
          49,
          49,
          47,
          46,
          46,
          46,
          46,
          46,
          45,
          45,
          44,
          44,
          43,
          43,
          43,
          42,
          42,
          42,
          42,
          41,
          41,
          41,
          40,
          40,
          39,
          39,
          39,
          39,
          38,
          38,
          37,
          37,
          37,
          37,
          36,
          36,
          35,
          35,
          35,
          34,
          34,
          34,
          33,
          32,
          32,
          32,
          32,
          32,
          31,
          31,
          30,
          29,
          29,
          29,
          29,
          29,
          28,
          28,
          28,
          28,
          28,
          28,
          28,
          27
         ]
        }
       ],
       "layout": {
        "legend": {
         "bgcolor": "#F5F6F9",
         "font": {
          "color": "#4D5663"
         }
        },
        "paper_bgcolor": "#F5F6F9",
        "plot_bgcolor": "#F5F6F9",
        "template": {
         "data": {
          "bar": [
           {
            "error_x": {
             "color": "#2a3f5f"
            },
            "error_y": {
             "color": "#2a3f5f"
            },
            "marker": {
             "line": {
              "color": "#E5ECF6",
              "width": 0.5
             },
             "pattern": {
              "fillmode": "overlay",
              "size": 10,
              "solidity": 0.2
             }
            },
            "type": "bar"
           }
          ],
          "barpolar": [
           {
            "marker": {
             "line": {
              "color": "#E5ECF6",
              "width": 0.5
             },
             "pattern": {
              "fillmode": "overlay",
              "size": 10,
              "solidity": 0.2
             }
            },
            "type": "barpolar"
           }
          ],
          "carpet": [
           {
            "aaxis": {
             "endlinecolor": "#2a3f5f",
             "gridcolor": "white",
             "linecolor": "white",
             "minorgridcolor": "white",
             "startlinecolor": "#2a3f5f"
            },
            "baxis": {
             "endlinecolor": "#2a3f5f",
             "gridcolor": "white",
             "linecolor": "white",
             "minorgridcolor": "white",
             "startlinecolor": "#2a3f5f"
            },
            "type": "carpet"
           }
          ],
          "choropleth": [
           {
            "colorbar": {
             "outlinewidth": 0,
             "ticks": ""
            },
            "type": "choropleth"
           }
          ],
          "contour": [
           {
            "colorbar": {
             "outlinewidth": 0,
             "ticks": ""
            },
            "colorscale": [
             [
              0,
              "#0d0887"
             ],
             [
              0.1111111111111111,
              "#46039f"
             ],
             [
              0.2222222222222222,
              "#7201a8"
             ],
             [
              0.3333333333333333,
              "#9c179e"
             ],
             [
              0.4444444444444444,
              "#bd3786"
             ],
             [
              0.5555555555555556,
              "#d8576b"
             ],
             [
              0.6666666666666666,
              "#ed7953"
             ],
             [
              0.7777777777777778,
              "#fb9f3a"
             ],
             [
              0.8888888888888888,
              "#fdca26"
             ],
             [
              1,
              "#f0f921"
             ]
            ],
            "type": "contour"
           }
          ],
          "contourcarpet": [
           {
            "colorbar": {
             "outlinewidth": 0,
             "ticks": ""
            },
            "type": "contourcarpet"
           }
          ],
          "heatmap": [
           {
            "colorbar": {
             "outlinewidth": 0,
             "ticks": ""
            },
            "colorscale": [
             [
              0,
              "#0d0887"
             ],
             [
              0.1111111111111111,
              "#46039f"
             ],
             [
              0.2222222222222222,
              "#7201a8"
             ],
             [
              0.3333333333333333,
              "#9c179e"
             ],
             [
              0.4444444444444444,
              "#bd3786"
             ],
             [
              0.5555555555555556,
              "#d8576b"
             ],
             [
              0.6666666666666666,
              "#ed7953"
             ],
             [
              0.7777777777777778,
              "#fb9f3a"
             ],
             [
              0.8888888888888888,
              "#fdca26"
             ],
             [
              1,
              "#f0f921"
             ]
            ],
            "type": "heatmap"
           }
          ],
          "heatmapgl": [
           {
            "colorbar": {
             "outlinewidth": 0,
             "ticks": ""
            },
            "colorscale": [
             [
              0,
              "#0d0887"
             ],
             [
              0.1111111111111111,
              "#46039f"
             ],
             [
              0.2222222222222222,
              "#7201a8"
             ],
             [
              0.3333333333333333,
              "#9c179e"
             ],
             [
              0.4444444444444444,
              "#bd3786"
             ],
             [
              0.5555555555555556,
              "#d8576b"
             ],
             [
              0.6666666666666666,
              "#ed7953"
             ],
             [
              0.7777777777777778,
              "#fb9f3a"
             ],
             [
              0.8888888888888888,
              "#fdca26"
             ],
             [
              1,
              "#f0f921"
             ]
            ],
            "type": "heatmapgl"
           }
          ],
          "histogram": [
           {
            "marker": {
             "pattern": {
              "fillmode": "overlay",
              "size": 10,
              "solidity": 0.2
             }
            },
            "type": "histogram"
           }
          ],
          "histogram2d": [
           {
            "colorbar": {
             "outlinewidth": 0,
             "ticks": ""
            },
            "colorscale": [
             [
              0,
              "#0d0887"
             ],
             [
              0.1111111111111111,
              "#46039f"
             ],
             [
              0.2222222222222222,
              "#7201a8"
             ],
             [
              0.3333333333333333,
              "#9c179e"
             ],
             [
              0.4444444444444444,
              "#bd3786"
             ],
             [
              0.5555555555555556,
              "#d8576b"
             ],
             [
              0.6666666666666666,
              "#ed7953"
             ],
             [
              0.7777777777777778,
              "#fb9f3a"
             ],
             [
              0.8888888888888888,
              "#fdca26"
             ],
             [
              1,
              "#f0f921"
             ]
            ],
            "type": "histogram2d"
           }
          ],
          "histogram2dcontour": [
           {
            "colorbar": {
             "outlinewidth": 0,
             "ticks": ""
            },
            "colorscale": [
             [
              0,
              "#0d0887"
             ],
             [
              0.1111111111111111,
              "#46039f"
             ],
             [
              0.2222222222222222,
              "#7201a8"
             ],
             [
              0.3333333333333333,
              "#9c179e"
             ],
             [
              0.4444444444444444,
              "#bd3786"
             ],
             [
              0.5555555555555556,
              "#d8576b"
             ],
             [
              0.6666666666666666,
              "#ed7953"
             ],
             [
              0.7777777777777778,
              "#fb9f3a"
             ],
             [
              0.8888888888888888,
              "#fdca26"
             ],
             [
              1,
              "#f0f921"
             ]
            ],
            "type": "histogram2dcontour"
           }
          ],
          "mesh3d": [
           {
            "colorbar": {
             "outlinewidth": 0,
             "ticks": ""
            },
            "type": "mesh3d"
           }
          ],
          "parcoords": [
           {
            "line": {
             "colorbar": {
              "outlinewidth": 0,
              "ticks": ""
             }
            },
            "type": "parcoords"
           }
          ],
          "pie": [
           {
            "automargin": true,
            "type": "pie"
           }
          ],
          "scatter": [
           {
            "fillpattern": {
             "fillmode": "overlay",
             "size": 10,
             "solidity": 0.2
            },
            "type": "scatter"
           }
          ],
          "scatter3d": [
           {
            "line": {
             "colorbar": {
              "outlinewidth": 0,
              "ticks": ""
             }
            },
            "marker": {
             "colorbar": {
              "outlinewidth": 0,
              "ticks": ""
             }
            },
            "type": "scatter3d"
           }
          ],
          "scattercarpet": [
           {
            "marker": {
             "colorbar": {
              "outlinewidth": 0,
              "ticks": ""
             }
            },
            "type": "scattercarpet"
           }
          ],
          "scattergeo": [
           {
            "marker": {
             "colorbar": {
              "outlinewidth": 0,
              "ticks": ""
             }
            },
            "type": "scattergeo"
           }
          ],
          "scattergl": [
           {
            "marker": {
             "colorbar": {
              "outlinewidth": 0,
              "ticks": ""
             }
            },
            "type": "scattergl"
           }
          ],
          "scattermapbox": [
           {
            "marker": {
             "colorbar": {
              "outlinewidth": 0,
              "ticks": ""
             }
            },
            "type": "scattermapbox"
           }
          ],
          "scatterpolar": [
           {
            "marker": {
             "colorbar": {
              "outlinewidth": 0,
              "ticks": ""
             }
            },
            "type": "scatterpolar"
           }
          ],
          "scatterpolargl": [
           {
            "marker": {
             "colorbar": {
              "outlinewidth": 0,
              "ticks": ""
             }
            },
            "type": "scatterpolargl"
           }
          ],
          "scatterternary": [
           {
            "marker": {
             "colorbar": {
              "outlinewidth": 0,
              "ticks": ""
             }
            },
            "type": "scatterternary"
           }
          ],
          "surface": [
           {
            "colorbar": {
             "outlinewidth": 0,
             "ticks": ""
            },
            "colorscale": [
             [
              0,
              "#0d0887"
             ],
             [
              0.1111111111111111,
              "#46039f"
             ],
             [
              0.2222222222222222,
              "#7201a8"
             ],
             [
              0.3333333333333333,
              "#9c179e"
             ],
             [
              0.4444444444444444,
              "#bd3786"
             ],
             [
              0.5555555555555556,
              "#d8576b"
             ],
             [
              0.6666666666666666,
              "#ed7953"
             ],
             [
              0.7777777777777778,
              "#fb9f3a"
             ],
             [
              0.8888888888888888,
              "#fdca26"
             ],
             [
              1,
              "#f0f921"
             ]
            ],
            "type": "surface"
           }
          ],
          "table": [
           {
            "cells": {
             "fill": {
              "color": "#EBF0F8"
             },
             "line": {
              "color": "white"
             }
            },
            "header": {
             "fill": {
              "color": "#C8D4E3"
             },
             "line": {
              "color": "white"
             }
            },
            "type": "table"
           }
          ]
         },
         "layout": {
          "annotationdefaults": {
           "arrowcolor": "#2a3f5f",
           "arrowhead": 0,
           "arrowwidth": 1
          },
          "autotypenumbers": "strict",
          "coloraxis": {
           "colorbar": {
            "outlinewidth": 0,
            "ticks": ""
           }
          },
          "colorscale": {
           "diverging": [
            [
             0,
             "#8e0152"
            ],
            [
             0.1,
             "#c51b7d"
            ],
            [
             0.2,
             "#de77ae"
            ],
            [
             0.3,
             "#f1b6da"
            ],
            [
             0.4,
             "#fde0ef"
            ],
            [
             0.5,
             "#f7f7f7"
            ],
            [
             0.6,
             "#e6f5d0"
            ],
            [
             0.7,
             "#b8e186"
            ],
            [
             0.8,
             "#7fbc41"
            ],
            [
             0.9,
             "#4d9221"
            ],
            [
             1,
             "#276419"
            ]
           ],
           "sequential": [
            [
             0,
             "#0d0887"
            ],
            [
             0.1111111111111111,
             "#46039f"
            ],
            [
             0.2222222222222222,
             "#7201a8"
            ],
            [
             0.3333333333333333,
             "#9c179e"
            ],
            [
             0.4444444444444444,
             "#bd3786"
            ],
            [
             0.5555555555555556,
             "#d8576b"
            ],
            [
             0.6666666666666666,
             "#ed7953"
            ],
            [
             0.7777777777777778,
             "#fb9f3a"
            ],
            [
             0.8888888888888888,
             "#fdca26"
            ],
            [
             1,
             "#f0f921"
            ]
           ],
           "sequentialminus": [
            [
             0,
             "#0d0887"
            ],
            [
             0.1111111111111111,
             "#46039f"
            ],
            [
             0.2222222222222222,
             "#7201a8"
            ],
            [
             0.3333333333333333,
             "#9c179e"
            ],
            [
             0.4444444444444444,
             "#bd3786"
            ],
            [
             0.5555555555555556,
             "#d8576b"
            ],
            [
             0.6666666666666666,
             "#ed7953"
            ],
            [
             0.7777777777777778,
             "#fb9f3a"
            ],
            [
             0.8888888888888888,
             "#fdca26"
            ],
            [
             1,
             "#f0f921"
            ]
           ]
          },
          "colorway": [
           "#636efa",
           "#EF553B",
           "#00cc96",
           "#ab63fa",
           "#FFA15A",
           "#19d3f3",
           "#FF6692",
           "#B6E880",
           "#FF97FF",
           "#FECB52"
          ],
          "font": {
           "color": "#2a3f5f"
          },
          "geo": {
           "bgcolor": "white",
           "lakecolor": "white",
           "landcolor": "#E5ECF6",
           "showlakes": true,
           "showland": true,
           "subunitcolor": "white"
          },
          "hoverlabel": {
           "align": "left"
          },
          "hovermode": "closest",
          "mapbox": {
           "style": "light"
          },
          "paper_bgcolor": "white",
          "plot_bgcolor": "#E5ECF6",
          "polar": {
           "angularaxis": {
            "gridcolor": "white",
            "linecolor": "white",
            "ticks": ""
           },
           "bgcolor": "#E5ECF6",
           "radialaxis": {
            "gridcolor": "white",
            "linecolor": "white",
            "ticks": ""
           }
          },
          "scene": {
           "xaxis": {
            "backgroundcolor": "#E5ECF6",
            "gridcolor": "white",
            "gridwidth": 2,
            "linecolor": "white",
            "showbackground": true,
            "ticks": "",
            "zerolinecolor": "white"
           },
           "yaxis": {
            "backgroundcolor": "#E5ECF6",
            "gridcolor": "white",
            "gridwidth": 2,
            "linecolor": "white",
            "showbackground": true,
            "ticks": "",
            "zerolinecolor": "white"
           },
           "zaxis": {
            "backgroundcolor": "#E5ECF6",
            "gridcolor": "white",
            "gridwidth": 2,
            "linecolor": "white",
            "showbackground": true,
            "ticks": "",
            "zerolinecolor": "white"
           }
          },
          "shapedefaults": {
           "line": {
            "color": "#2a3f5f"
           }
          },
          "ternary": {
           "aaxis": {
            "gridcolor": "white",
            "linecolor": "white",
            "ticks": ""
           },
           "baxis": {
            "gridcolor": "white",
            "linecolor": "white",
            "ticks": ""
           },
           "bgcolor": "#E5ECF6",
           "caxis": {
            "gridcolor": "white",
            "linecolor": "white",
            "ticks": ""
           }
          },
          "title": {
           "x": 0.05
          },
          "xaxis": {
           "automargin": true,
           "gridcolor": "white",
           "linecolor": "white",
           "ticks": "",
           "title": {
            "standoff": 15
           },
           "zerolinecolor": "white",
           "zerolinewidth": 2
          },
          "yaxis": {
           "automargin": true,
           "gridcolor": "white",
           "linecolor": "white",
           "ticks": "",
           "title": {
            "standoff": 15
           },
           "zerolinecolor": "white",
           "zerolinewidth": 2
          }
         }
        },
        "title": {
         "font": {
          "color": "#4D5663"
         },
         "text": "Top 100 bigrams after removing stop words"
        },
        "xaxis": {
         "gridcolor": "#E1E5ED",
         "linecolor": "black",
         "showgrid": true,
         "tickfont": {
          "color": "#4D5663"
         },
         "title": {
          "font": {
           "color": "#4D5663"
          },
          "text": ""
         },
         "zerolinecolor": "#E1E5ED"
        },
        "yaxis": {
         "gridcolor": "#E1E5ED",
         "linecolor": "black",
         "showgrid": true,
         "tickfont": {
          "color": "#4D5663"
         },
         "title": {
          "font": {
           "color": "#4D5663"
          },
          "text": "Count"
         },
         "zerolinecolor": "#E1E5ED"
        }
       }
      },
      "text/html": [
       "<div>                            <div id=\"5c1e48ef-8074-425f-bf5c-6084849ceb8d\" class=\"plotly-graph-div\" style=\"height:525px; width:100%;\"></div>            <script type=\"text/javascript\">                require([\"plotly\"], function(Plotly) {                    window.PLOTLYENV=window.PLOTLYENV || {};\n",
       "                    window.PLOTLYENV.BASE_URL='https://plot.ly';                                    if (document.getElementById(\"5c1e48ef-8074-425f-bf5c-6084849ceb8d\")) {                    Plotly.newPlot(                        \"5c1e48ef-8074-425f-bf5c-6084849ceb8d\",                        [{\"marker\":{\"color\":\"rgba(255, 153, 51, 0.6)\",\"line\":{\"color\":\"rgba(255, 153, 51, 1.0)\",\"width\":1}},\"name\":\"count\",\"orientation\":\"v\",\"text\":\"\",\"x\":[\"year old\",\"request loan\",\"start business\",\"marry child\",\"year ago\",\"loan buy\",\"use loan\",\"expand business\",\"business year\",\"school fee\",\"loan use\",\"child school\",\"old child\",\"repay loan\",\"second loan\",\"first loan\",\"hard work\",\"old married\",\"old marry\",\"primary school\",\"work hard\",\"business sell\",\"loan usd\",\"small business\",\"loan purchase\",\"mother child\",\"business able\",\"married child\",\"pay school\",\"educate child\",\"use buy\",\"need loan\",\"increase stock\",\"increase income\",\"child live\",\"secondary school\",\"loan order\",\"support family\",\"last year\",\"business grow\",\"woman group\",\"business training_educational_programs_information\",\"business selling\",\"start small\",\"run business\",\"apply loan\",\"able buy\",\"training_educational_programs_information org\",\"help business\",\"start sell\",\"group member\",\"loan able\",\"also sell\",\"year experience\",\"husband work\",\"farmer also\",\"high school\",\"business help\",\"business loan\",\"give loan\",\"operate business\",\"child child\",\"loan pemci\",\"loan invest\",\"begin business\",\"pay loan\",\"child age\",\"child primary\",\"sell product\",\"receive loan\",\"able repay\",\"husband child\",\"member group\",\"rice farmer\",\"go school\",\"many loan\",\"provide family\",\"loan help\",\"person group\",\"microinsurance_acces business\",\"loan risk_willing_accept_additional\",\"risk_making loan\",\"risk_willing_accept_additional risk_making\",\"communities_remains_unsettled_affecte many\",\"mifex_offers_client microinsurance_acces\",\"fee child\",\"loan month\",\"sell clothing\",\"loan intend\",\"willing_repay loan\",\"group loan\",\"able provide\",\"attend school\",\"loan group\",\"live husband\",\"run small\",\"high demand\",\"grow business\",\"old mother\",\"old live\"],\"y\":[403,194,175,168,161,159,147,115,112,105,105,99,87,82,81,80,78,76,76,74,70,68,68,67,67,66,60,59,58,57,57,51,51,50,50,50,49,49,47,46,46,46,46,46,45,45,44,44,43,43,43,42,42,42,42,41,41,41,40,40,39,39,39,39,38,38,37,37,37,37,36,36,35,35,35,34,34,34,33,32,32,32,32,32,31,31,30,29,29,29,29,29,28,28,28,28,28,28,28,27],\"type\":\"bar\"}],                        {\"legend\":{\"bgcolor\":\"#F5F6F9\",\"font\":{\"color\":\"#4D5663\"}},\"paper_bgcolor\":\"#F5F6F9\",\"plot_bgcolor\":\"#F5F6F9\",\"template\":{\"data\":{\"barpolar\":[{\"marker\":{\"line\":{\"color\":\"#E5ECF6\",\"width\":0.5},\"pattern\":{\"fillmode\":\"overlay\",\"size\":10,\"solidity\":0.2}},\"type\":\"barpolar\"}],\"bar\":[{\"error_x\":{\"color\":\"#2a3f5f\"},\"error_y\":{\"color\":\"#2a3f5f\"},\"marker\":{\"line\":{\"color\":\"#E5ECF6\",\"width\":0.5},\"pattern\":{\"fillmode\":\"overlay\",\"size\":10,\"solidity\":0.2}},\"type\":\"bar\"}],\"carpet\":[{\"aaxis\":{\"endlinecolor\":\"#2a3f5f\",\"gridcolor\":\"white\",\"linecolor\":\"white\",\"minorgridcolor\":\"white\",\"startlinecolor\":\"#2a3f5f\"},\"baxis\":{\"endlinecolor\":\"#2a3f5f\",\"gridcolor\":\"white\",\"linecolor\":\"white\",\"minorgridcolor\":\"white\",\"startlinecolor\":\"#2a3f5f\"},\"type\":\"carpet\"}],\"choropleth\":[{\"colorbar\":{\"outlinewidth\":0,\"ticks\":\"\"},\"type\":\"choropleth\"}],\"contourcarpet\":[{\"colorbar\":{\"outlinewidth\":0,\"ticks\":\"\"},\"type\":\"contourcarpet\"}],\"contour\":[{\"colorbar\":{\"outlinewidth\":0,\"ticks\":\"\"},\"colorscale\":[[0.0,\"#0d0887\"],[0.1111111111111111,\"#46039f\"],[0.2222222222222222,\"#7201a8\"],[0.3333333333333333,\"#9c179e\"],[0.4444444444444444,\"#bd3786\"],[0.5555555555555556,\"#d8576b\"],[0.6666666666666666,\"#ed7953\"],[0.7777777777777778,\"#fb9f3a\"],[0.8888888888888888,\"#fdca26\"],[1.0,\"#f0f921\"]],\"type\":\"contour\"}],\"heatmapgl\":[{\"colorbar\":{\"outlinewidth\":0,\"ticks\":\"\"},\"colorscale\":[[0.0,\"#0d0887\"],[0.1111111111111111,\"#46039f\"],[0.2222222222222222,\"#7201a8\"],[0.3333333333333333,\"#9c179e\"],[0.4444444444444444,\"#bd3786\"],[0.5555555555555556,\"#d8576b\"],[0.6666666666666666,\"#ed7953\"],[0.7777777777777778,\"#fb9f3a\"],[0.8888888888888888,\"#fdca26\"],[1.0,\"#f0f921\"]],\"type\":\"heatmapgl\"}],\"heatmap\":[{\"colorbar\":{\"outlinewidth\":0,\"ticks\":\"\"},\"colorscale\":[[0.0,\"#0d0887\"],[0.1111111111111111,\"#46039f\"],[0.2222222222222222,\"#7201a8\"],[0.3333333333333333,\"#9c179e\"],[0.4444444444444444,\"#bd3786\"],[0.5555555555555556,\"#d8576b\"],[0.6666666666666666,\"#ed7953\"],[0.7777777777777778,\"#fb9f3a\"],[0.8888888888888888,\"#fdca26\"],[1.0,\"#f0f921\"]],\"type\":\"heatmap\"}],\"histogram2dcontour\":[{\"colorbar\":{\"outlinewidth\":0,\"ticks\":\"\"},\"colorscale\":[[0.0,\"#0d0887\"],[0.1111111111111111,\"#46039f\"],[0.2222222222222222,\"#7201a8\"],[0.3333333333333333,\"#9c179e\"],[0.4444444444444444,\"#bd3786\"],[0.5555555555555556,\"#d8576b\"],[0.6666666666666666,\"#ed7953\"],[0.7777777777777778,\"#fb9f3a\"],[0.8888888888888888,\"#fdca26\"],[1.0,\"#f0f921\"]],\"type\":\"histogram2dcontour\"}],\"histogram2d\":[{\"colorbar\":{\"outlinewidth\":0,\"ticks\":\"\"},\"colorscale\":[[0.0,\"#0d0887\"],[0.1111111111111111,\"#46039f\"],[0.2222222222222222,\"#7201a8\"],[0.3333333333333333,\"#9c179e\"],[0.4444444444444444,\"#bd3786\"],[0.5555555555555556,\"#d8576b\"],[0.6666666666666666,\"#ed7953\"],[0.7777777777777778,\"#fb9f3a\"],[0.8888888888888888,\"#fdca26\"],[1.0,\"#f0f921\"]],\"type\":\"histogram2d\"}],\"histogram\":[{\"marker\":{\"pattern\":{\"fillmode\":\"overlay\",\"size\":10,\"solidity\":0.2}},\"type\":\"histogram\"}],\"mesh3d\":[{\"colorbar\":{\"outlinewidth\":0,\"ticks\":\"\"},\"type\":\"mesh3d\"}],\"parcoords\":[{\"line\":{\"colorbar\":{\"outlinewidth\":0,\"ticks\":\"\"}},\"type\":\"parcoords\"}],\"pie\":[{\"automargin\":true,\"type\":\"pie\"}],\"scatter3d\":[{\"line\":{\"colorbar\":{\"outlinewidth\":0,\"ticks\":\"\"}},\"marker\":{\"colorbar\":{\"outlinewidth\":0,\"ticks\":\"\"}},\"type\":\"scatter3d\"}],\"scattercarpet\":[{\"marker\":{\"colorbar\":{\"outlinewidth\":0,\"ticks\":\"\"}},\"type\":\"scattercarpet\"}],\"scattergeo\":[{\"marker\":{\"colorbar\":{\"outlinewidth\":0,\"ticks\":\"\"}},\"type\":\"scattergeo\"}],\"scattergl\":[{\"marker\":{\"colorbar\":{\"outlinewidth\":0,\"ticks\":\"\"}},\"type\":\"scattergl\"}],\"scattermapbox\":[{\"marker\":{\"colorbar\":{\"outlinewidth\":0,\"ticks\":\"\"}},\"type\":\"scattermapbox\"}],\"scatterpolargl\":[{\"marker\":{\"colorbar\":{\"outlinewidth\":0,\"ticks\":\"\"}},\"type\":\"scatterpolargl\"}],\"scatterpolar\":[{\"marker\":{\"colorbar\":{\"outlinewidth\":0,\"ticks\":\"\"}},\"type\":\"scatterpolar\"}],\"scatter\":[{\"fillpattern\":{\"fillmode\":\"overlay\",\"size\":10,\"solidity\":0.2},\"type\":\"scatter\"}],\"scatterternary\":[{\"marker\":{\"colorbar\":{\"outlinewidth\":0,\"ticks\":\"\"}},\"type\":\"scatterternary\"}],\"surface\":[{\"colorbar\":{\"outlinewidth\":0,\"ticks\":\"\"},\"colorscale\":[[0.0,\"#0d0887\"],[0.1111111111111111,\"#46039f\"],[0.2222222222222222,\"#7201a8\"],[0.3333333333333333,\"#9c179e\"],[0.4444444444444444,\"#bd3786\"],[0.5555555555555556,\"#d8576b\"],[0.6666666666666666,\"#ed7953\"],[0.7777777777777778,\"#fb9f3a\"],[0.8888888888888888,\"#fdca26\"],[1.0,\"#f0f921\"]],\"type\":\"surface\"}],\"table\":[{\"cells\":{\"fill\":{\"color\":\"#EBF0F8\"},\"line\":{\"color\":\"white\"}},\"header\":{\"fill\":{\"color\":\"#C8D4E3\"},\"line\":{\"color\":\"white\"}},\"type\":\"table\"}]},\"layout\":{\"annotationdefaults\":{\"arrowcolor\":\"#2a3f5f\",\"arrowhead\":0,\"arrowwidth\":1},\"autotypenumbers\":\"strict\",\"coloraxis\":{\"colorbar\":{\"outlinewidth\":0,\"ticks\":\"\"}},\"colorscale\":{\"diverging\":[[0,\"#8e0152\"],[0.1,\"#c51b7d\"],[0.2,\"#de77ae\"],[0.3,\"#f1b6da\"],[0.4,\"#fde0ef\"],[0.5,\"#f7f7f7\"],[0.6,\"#e6f5d0\"],[0.7,\"#b8e186\"],[0.8,\"#7fbc41\"],[0.9,\"#4d9221\"],[1,\"#276419\"]],\"sequential\":[[0.0,\"#0d0887\"],[0.1111111111111111,\"#46039f\"],[0.2222222222222222,\"#7201a8\"],[0.3333333333333333,\"#9c179e\"],[0.4444444444444444,\"#bd3786\"],[0.5555555555555556,\"#d8576b\"],[0.6666666666666666,\"#ed7953\"],[0.7777777777777778,\"#fb9f3a\"],[0.8888888888888888,\"#fdca26\"],[1.0,\"#f0f921\"]],\"sequentialminus\":[[0.0,\"#0d0887\"],[0.1111111111111111,\"#46039f\"],[0.2222222222222222,\"#7201a8\"],[0.3333333333333333,\"#9c179e\"],[0.4444444444444444,\"#bd3786\"],[0.5555555555555556,\"#d8576b\"],[0.6666666666666666,\"#ed7953\"],[0.7777777777777778,\"#fb9f3a\"],[0.8888888888888888,\"#fdca26\"],[1.0,\"#f0f921\"]]},\"colorway\":[\"#636efa\",\"#EF553B\",\"#00cc96\",\"#ab63fa\",\"#FFA15A\",\"#19d3f3\",\"#FF6692\",\"#B6E880\",\"#FF97FF\",\"#FECB52\"],\"font\":{\"color\":\"#2a3f5f\"},\"geo\":{\"bgcolor\":\"white\",\"lakecolor\":\"white\",\"landcolor\":\"#E5ECF6\",\"showlakes\":true,\"showland\":true,\"subunitcolor\":\"white\"},\"hoverlabel\":{\"align\":\"left\"},\"hovermode\":\"closest\",\"mapbox\":{\"style\":\"light\"},\"paper_bgcolor\":\"white\",\"plot_bgcolor\":\"#E5ECF6\",\"polar\":{\"angularaxis\":{\"gridcolor\":\"white\",\"linecolor\":\"white\",\"ticks\":\"\"},\"bgcolor\":\"#E5ECF6\",\"radialaxis\":{\"gridcolor\":\"white\",\"linecolor\":\"white\",\"ticks\":\"\"}},\"scene\":{\"xaxis\":{\"backgroundcolor\":\"#E5ECF6\",\"gridcolor\":\"white\",\"gridwidth\":2,\"linecolor\":\"white\",\"showbackground\":true,\"ticks\":\"\",\"zerolinecolor\":\"white\"},\"yaxis\":{\"backgroundcolor\":\"#E5ECF6\",\"gridcolor\":\"white\",\"gridwidth\":2,\"linecolor\":\"white\",\"showbackground\":true,\"ticks\":\"\",\"zerolinecolor\":\"white\"},\"zaxis\":{\"backgroundcolor\":\"#E5ECF6\",\"gridcolor\":\"white\",\"gridwidth\":2,\"linecolor\":\"white\",\"showbackground\":true,\"ticks\":\"\",\"zerolinecolor\":\"white\"}},\"shapedefaults\":{\"line\":{\"color\":\"#2a3f5f\"}},\"ternary\":{\"aaxis\":{\"gridcolor\":\"white\",\"linecolor\":\"white\",\"ticks\":\"\"},\"baxis\":{\"gridcolor\":\"white\",\"linecolor\":\"white\",\"ticks\":\"\"},\"bgcolor\":\"#E5ECF6\",\"caxis\":{\"gridcolor\":\"white\",\"linecolor\":\"white\",\"ticks\":\"\"}},\"title\":{\"x\":0.05},\"xaxis\":{\"automargin\":true,\"gridcolor\":\"white\",\"linecolor\":\"white\",\"ticks\":\"\",\"title\":{\"standoff\":15},\"zerolinecolor\":\"white\",\"zerolinewidth\":2},\"yaxis\":{\"automargin\":true,\"gridcolor\":\"white\",\"linecolor\":\"white\",\"ticks\":\"\",\"title\":{\"standoff\":15},\"zerolinecolor\":\"white\",\"zerolinewidth\":2}}},\"title\":{\"font\":{\"color\":\"#4D5663\"},\"text\":\"Top 100 bigrams after removing stop words\"},\"xaxis\":{\"gridcolor\":\"#E1E5ED\",\"linecolor\":\"black\",\"showgrid\":true,\"tickfont\":{\"color\":\"#4D5663\"},\"title\":{\"font\":{\"color\":\"#4D5663\"},\"text\":\"\"},\"zerolinecolor\":\"#E1E5ED\"},\"yaxis\":{\"gridcolor\":\"#E1E5ED\",\"linecolor\":\"black\",\"showgrid\":true,\"tickfont\":{\"color\":\"#4D5663\"},\"title\":{\"font\":{\"color\":\"#4D5663\"},\"text\":\"Count\"},\"zerolinecolor\":\"#E1E5ED\"}},                        {\"showLink\": true, \"linkText\": \"Export to plot.ly\", \"plotlyServerURL\": \"https://plot.ly\", \"responsive\": true}                    ).then(function(){\n",
       "                            \n",
       "var gd = document.getElementById('5c1e48ef-8074-425f-bf5c-6084849ceb8d');\n",
       "var x = new MutationObserver(function (mutations, observer) {{\n",
       "        var display = window.getComputedStyle(gd).display;\n",
       "        if (!display || display === 'none') {{\n",
       "            console.log([gd, 'removed!']);\n",
       "            Plotly.purge(gd);\n",
       "            observer.disconnect();\n",
       "        }}\n",
       "}});\n",
       "\n",
       "// Listen for the removal of the full notebook cells\n",
       "var notebookContainer = gd.closest('#notebook-container');\n",
       "if (notebookContainer) {{\n",
       "    x.observe(notebookContainer, {childList: true});\n",
       "}}\n",
       "\n",
       "// Listen for the clearing of the current output cell\n",
       "var outputEl = gd.closest('.output');\n",
       "if (outputEl) {{\n",
       "    x.observe(outputEl, {childList: true});\n",
       "}}\n",
       "\n",
       "                        })                };                });            </script>        </div>"
      ]
     },
     "metadata": {},
     "output_type": "display_data"
    }
   ],
   "source": [
    "# top 100 bigrams on entire corpus\n",
    "plot_model(plot='bigram')"
   ]
  },
  {
   "cell_type": "code",
   "execution_count": 13,
   "metadata": {},
   "outputs": [
    {
     "data": {
      "text/html": [
       "        <script type=\"text/javascript\">\n",
       "        window.PlotlyConfig = {MathJaxConfig: 'local'};\n",
       "        if (window.MathJax && window.MathJax.Hub && window.MathJax.Hub.Config) {window.MathJax.Hub.Config({SVG: {font: \"STIX-Web\"}});}\n",
       "        if (typeof require !== 'undefined') {\n",
       "        require.undef(\"plotly\");\n",
       "        requirejs.config({\n",
       "            paths: {\n",
       "                'plotly': ['https://cdn.plot.ly/plotly-2.14.0.min']\n",
       "            }\n",
       "        });\n",
       "        require(['plotly'], function(Plotly) {\n",
       "            window._Plotly = Plotly;\n",
       "        });\n",
       "        }\n",
       "        </script>\n",
       "        "
      ]
     },
     "metadata": {},
     "output_type": "display_data"
    },
    {
     "data": {
      "application/vnd.plotly.v1+json": {
       "config": {
        "linkText": "Export to plot.ly",
        "plotlyServerURL": "https://plot.ly",
        "showLink": true
       },
       "data": [
        {
         "marker": {
          "color": "rgba(255, 153, 51, 0.6)",
          "line": {
           "color": "rgba(255, 153, 51, 1.0)",
           "width": 1
          }
         },
         "name": "count",
         "orientation": "v",
         "text": "",
         "type": "bar",
         "x": [
          "business",
          "loan",
          "sell",
          "year",
          "child",
          "work",
          "buy",
          "make",
          "product",
          "use",
          "old",
          "help",
          "family",
          "live",
          "start",
          "home",
          "also",
          "small",
          "husband",
          "well",
          "able",
          "community",
          "hope",
          "purchase",
          "customer",
          "store",
          "good",
          "school",
          "order",
          "woman",
          "new",
          "group",
          "increase",
          "need",
          "income",
          "clothing",
          "entrepreneur",
          "want",
          "time",
          "people",
          "improve",
          "invest",
          "provide",
          "money",
          "client",
          "support",
          "grow",
          "continue",
          "house",
          "request",
          "item",
          "hard",
          "run",
          "food",
          "sale",
          "first",
          "go",
          "ago",
          "clothe",
          "life",
          "take",
          "member",
          "say",
          "day",
          "mother",
          "give",
          "offer",
          "large",
          "plan",
          "profit",
          "education",
          "receive",
          "shop",
          "expand",
          "merchandise",
          "begin",
          "son",
          "second",
          "capital",
          "allow",
          "keep",
          "open",
          "daughter",
          "currently",
          "stock",
          "wife",
          "experience",
          "get",
          "marry",
          "many",
          "operate",
          "market",
          "pay",
          "save",
          "goal",
          "neighborhood",
          "demand",
          "shoe",
          "great",
          "service"
         ],
         "y": [
          1231,
          1011,
          747,
          634,
          594,
          428,
          417,
          360,
          345,
          328,
          327,
          327,
          311,
          296,
          291,
          277,
          268,
          267,
          261,
          257,
          254,
          237,
          216,
          215,
          212,
          211,
          210,
          210,
          202,
          198,
          193,
          189,
          184,
          179,
          168,
          167,
          167,
          164,
          151,
          150,
          145,
          143,
          143,
          141,
          135,
          133,
          131,
          131,
          129,
          129,
          127,
          127,
          125,
          124,
          123,
          121,
          120,
          119,
          118,
          113,
          113,
          110,
          107,
          106,
          106,
          103,
          100,
          99,
          98,
          98,
          97,
          97,
          97,
          91,
          91,
          91,
          89,
          89,
          88,
          84,
          82,
          82,
          81,
          80,
          78,
          78,
          78,
          78,
          73,
          73,
          72,
          71,
          71,
          70,
          69,
          68,
          68,
          68,
          68,
          67
         ]
        }
       ],
       "layout": {
        "legend": {
         "bgcolor": "#F5F6F9",
         "font": {
          "color": "#4D5663"
         }
        },
        "paper_bgcolor": "#F5F6F9",
        "plot_bgcolor": "#F5F6F9",
        "template": {
         "data": {
          "bar": [
           {
            "error_x": {
             "color": "#2a3f5f"
            },
            "error_y": {
             "color": "#2a3f5f"
            },
            "marker": {
             "line": {
              "color": "#E5ECF6",
              "width": 0.5
             },
             "pattern": {
              "fillmode": "overlay",
              "size": 10,
              "solidity": 0.2
             }
            },
            "type": "bar"
           }
          ],
          "barpolar": [
           {
            "marker": {
             "line": {
              "color": "#E5ECF6",
              "width": 0.5
             },
             "pattern": {
              "fillmode": "overlay",
              "size": 10,
              "solidity": 0.2
             }
            },
            "type": "barpolar"
           }
          ],
          "carpet": [
           {
            "aaxis": {
             "endlinecolor": "#2a3f5f",
             "gridcolor": "white",
             "linecolor": "white",
             "minorgridcolor": "white",
             "startlinecolor": "#2a3f5f"
            },
            "baxis": {
             "endlinecolor": "#2a3f5f",
             "gridcolor": "white",
             "linecolor": "white",
             "minorgridcolor": "white",
             "startlinecolor": "#2a3f5f"
            },
            "type": "carpet"
           }
          ],
          "choropleth": [
           {
            "colorbar": {
             "outlinewidth": 0,
             "ticks": ""
            },
            "type": "choropleth"
           }
          ],
          "contour": [
           {
            "colorbar": {
             "outlinewidth": 0,
             "ticks": ""
            },
            "colorscale": [
             [
              0,
              "#0d0887"
             ],
             [
              0.1111111111111111,
              "#46039f"
             ],
             [
              0.2222222222222222,
              "#7201a8"
             ],
             [
              0.3333333333333333,
              "#9c179e"
             ],
             [
              0.4444444444444444,
              "#bd3786"
             ],
             [
              0.5555555555555556,
              "#d8576b"
             ],
             [
              0.6666666666666666,
              "#ed7953"
             ],
             [
              0.7777777777777778,
              "#fb9f3a"
             ],
             [
              0.8888888888888888,
              "#fdca26"
             ],
             [
              1,
              "#f0f921"
             ]
            ],
            "type": "contour"
           }
          ],
          "contourcarpet": [
           {
            "colorbar": {
             "outlinewidth": 0,
             "ticks": ""
            },
            "type": "contourcarpet"
           }
          ],
          "heatmap": [
           {
            "colorbar": {
             "outlinewidth": 0,
             "ticks": ""
            },
            "colorscale": [
             [
              0,
              "#0d0887"
             ],
             [
              0.1111111111111111,
              "#46039f"
             ],
             [
              0.2222222222222222,
              "#7201a8"
             ],
             [
              0.3333333333333333,
              "#9c179e"
             ],
             [
              0.4444444444444444,
              "#bd3786"
             ],
             [
              0.5555555555555556,
              "#d8576b"
             ],
             [
              0.6666666666666666,
              "#ed7953"
             ],
             [
              0.7777777777777778,
              "#fb9f3a"
             ],
             [
              0.8888888888888888,
              "#fdca26"
             ],
             [
              1,
              "#f0f921"
             ]
            ],
            "type": "heatmap"
           }
          ],
          "heatmapgl": [
           {
            "colorbar": {
             "outlinewidth": 0,
             "ticks": ""
            },
            "colorscale": [
             [
              0,
              "#0d0887"
             ],
             [
              0.1111111111111111,
              "#46039f"
             ],
             [
              0.2222222222222222,
              "#7201a8"
             ],
             [
              0.3333333333333333,
              "#9c179e"
             ],
             [
              0.4444444444444444,
              "#bd3786"
             ],
             [
              0.5555555555555556,
              "#d8576b"
             ],
             [
              0.6666666666666666,
              "#ed7953"
             ],
             [
              0.7777777777777778,
              "#fb9f3a"
             ],
             [
              0.8888888888888888,
              "#fdca26"
             ],
             [
              1,
              "#f0f921"
             ]
            ],
            "type": "heatmapgl"
           }
          ],
          "histogram": [
           {
            "marker": {
             "pattern": {
              "fillmode": "overlay",
              "size": 10,
              "solidity": 0.2
             }
            },
            "type": "histogram"
           }
          ],
          "histogram2d": [
           {
            "colorbar": {
             "outlinewidth": 0,
             "ticks": ""
            },
            "colorscale": [
             [
              0,
              "#0d0887"
             ],
             [
              0.1111111111111111,
              "#46039f"
             ],
             [
              0.2222222222222222,
              "#7201a8"
             ],
             [
              0.3333333333333333,
              "#9c179e"
             ],
             [
              0.4444444444444444,
              "#bd3786"
             ],
             [
              0.5555555555555556,
              "#d8576b"
             ],
             [
              0.6666666666666666,
              "#ed7953"
             ],
             [
              0.7777777777777778,
              "#fb9f3a"
             ],
             [
              0.8888888888888888,
              "#fdca26"
             ],
             [
              1,
              "#f0f921"
             ]
            ],
            "type": "histogram2d"
           }
          ],
          "histogram2dcontour": [
           {
            "colorbar": {
             "outlinewidth": 0,
             "ticks": ""
            },
            "colorscale": [
             [
              0,
              "#0d0887"
             ],
             [
              0.1111111111111111,
              "#46039f"
             ],
             [
              0.2222222222222222,
              "#7201a8"
             ],
             [
              0.3333333333333333,
              "#9c179e"
             ],
             [
              0.4444444444444444,
              "#bd3786"
             ],
             [
              0.5555555555555556,
              "#d8576b"
             ],
             [
              0.6666666666666666,
              "#ed7953"
             ],
             [
              0.7777777777777778,
              "#fb9f3a"
             ],
             [
              0.8888888888888888,
              "#fdca26"
             ],
             [
              1,
              "#f0f921"
             ]
            ],
            "type": "histogram2dcontour"
           }
          ],
          "mesh3d": [
           {
            "colorbar": {
             "outlinewidth": 0,
             "ticks": ""
            },
            "type": "mesh3d"
           }
          ],
          "parcoords": [
           {
            "line": {
             "colorbar": {
              "outlinewidth": 0,
              "ticks": ""
             }
            },
            "type": "parcoords"
           }
          ],
          "pie": [
           {
            "automargin": true,
            "type": "pie"
           }
          ],
          "scatter": [
           {
            "fillpattern": {
             "fillmode": "overlay",
             "size": 10,
             "solidity": 0.2
            },
            "type": "scatter"
           }
          ],
          "scatter3d": [
           {
            "line": {
             "colorbar": {
              "outlinewidth": 0,
              "ticks": ""
             }
            },
            "marker": {
             "colorbar": {
              "outlinewidth": 0,
              "ticks": ""
             }
            },
            "type": "scatter3d"
           }
          ],
          "scattercarpet": [
           {
            "marker": {
             "colorbar": {
              "outlinewidth": 0,
              "ticks": ""
             }
            },
            "type": "scattercarpet"
           }
          ],
          "scattergeo": [
           {
            "marker": {
             "colorbar": {
              "outlinewidth": 0,
              "ticks": ""
             }
            },
            "type": "scattergeo"
           }
          ],
          "scattergl": [
           {
            "marker": {
             "colorbar": {
              "outlinewidth": 0,
              "ticks": ""
             }
            },
            "type": "scattergl"
           }
          ],
          "scattermapbox": [
           {
            "marker": {
             "colorbar": {
              "outlinewidth": 0,
              "ticks": ""
             }
            },
            "type": "scattermapbox"
           }
          ],
          "scatterpolar": [
           {
            "marker": {
             "colorbar": {
              "outlinewidth": 0,
              "ticks": ""
             }
            },
            "type": "scatterpolar"
           }
          ],
          "scatterpolargl": [
           {
            "marker": {
             "colorbar": {
              "outlinewidth": 0,
              "ticks": ""
             }
            },
            "type": "scatterpolargl"
           }
          ],
          "scatterternary": [
           {
            "marker": {
             "colorbar": {
              "outlinewidth": 0,
              "ticks": ""
             }
            },
            "type": "scatterternary"
           }
          ],
          "surface": [
           {
            "colorbar": {
             "outlinewidth": 0,
             "ticks": ""
            },
            "colorscale": [
             [
              0,
              "#0d0887"
             ],
             [
              0.1111111111111111,
              "#46039f"
             ],
             [
              0.2222222222222222,
              "#7201a8"
             ],
             [
              0.3333333333333333,
              "#9c179e"
             ],
             [
              0.4444444444444444,
              "#bd3786"
             ],
             [
              0.5555555555555556,
              "#d8576b"
             ],
             [
              0.6666666666666666,
              "#ed7953"
             ],
             [
              0.7777777777777778,
              "#fb9f3a"
             ],
             [
              0.8888888888888888,
              "#fdca26"
             ],
             [
              1,
              "#f0f921"
             ]
            ],
            "type": "surface"
           }
          ],
          "table": [
           {
            "cells": {
             "fill": {
              "color": "#EBF0F8"
             },
             "line": {
              "color": "white"
             }
            },
            "header": {
             "fill": {
              "color": "#C8D4E3"
             },
             "line": {
              "color": "white"
             }
            },
            "type": "table"
           }
          ]
         },
         "layout": {
          "annotationdefaults": {
           "arrowcolor": "#2a3f5f",
           "arrowhead": 0,
           "arrowwidth": 1
          },
          "autotypenumbers": "strict",
          "coloraxis": {
           "colorbar": {
            "outlinewidth": 0,
            "ticks": ""
           }
          },
          "colorscale": {
           "diverging": [
            [
             0,
             "#8e0152"
            ],
            [
             0.1,
             "#c51b7d"
            ],
            [
             0.2,
             "#de77ae"
            ],
            [
             0.3,
             "#f1b6da"
            ],
            [
             0.4,
             "#fde0ef"
            ],
            [
             0.5,
             "#f7f7f7"
            ],
            [
             0.6,
             "#e6f5d0"
            ],
            [
             0.7,
             "#b8e186"
            ],
            [
             0.8,
             "#7fbc41"
            ],
            [
             0.9,
             "#4d9221"
            ],
            [
             1,
             "#276419"
            ]
           ],
           "sequential": [
            [
             0,
             "#0d0887"
            ],
            [
             0.1111111111111111,
             "#46039f"
            ],
            [
             0.2222222222222222,
             "#7201a8"
            ],
            [
             0.3333333333333333,
             "#9c179e"
            ],
            [
             0.4444444444444444,
             "#bd3786"
            ],
            [
             0.5555555555555556,
             "#d8576b"
            ],
            [
             0.6666666666666666,
             "#ed7953"
            ],
            [
             0.7777777777777778,
             "#fb9f3a"
            ],
            [
             0.8888888888888888,
             "#fdca26"
            ],
            [
             1,
             "#f0f921"
            ]
           ],
           "sequentialminus": [
            [
             0,
             "#0d0887"
            ],
            [
             0.1111111111111111,
             "#46039f"
            ],
            [
             0.2222222222222222,
             "#7201a8"
            ],
            [
             0.3333333333333333,
             "#9c179e"
            ],
            [
             0.4444444444444444,
             "#bd3786"
            ],
            [
             0.5555555555555556,
             "#d8576b"
            ],
            [
             0.6666666666666666,
             "#ed7953"
            ],
            [
             0.7777777777777778,
             "#fb9f3a"
            ],
            [
             0.8888888888888888,
             "#fdca26"
            ],
            [
             1,
             "#f0f921"
            ]
           ]
          },
          "colorway": [
           "#636efa",
           "#EF553B",
           "#00cc96",
           "#ab63fa",
           "#FFA15A",
           "#19d3f3",
           "#FF6692",
           "#B6E880",
           "#FF97FF",
           "#FECB52"
          ],
          "font": {
           "color": "#2a3f5f"
          },
          "geo": {
           "bgcolor": "white",
           "lakecolor": "white",
           "landcolor": "#E5ECF6",
           "showlakes": true,
           "showland": true,
           "subunitcolor": "white"
          },
          "hoverlabel": {
           "align": "left"
          },
          "hovermode": "closest",
          "mapbox": {
           "style": "light"
          },
          "paper_bgcolor": "white",
          "plot_bgcolor": "#E5ECF6",
          "polar": {
           "angularaxis": {
            "gridcolor": "white",
            "linecolor": "white",
            "ticks": ""
           },
           "bgcolor": "#E5ECF6",
           "radialaxis": {
            "gridcolor": "white",
            "linecolor": "white",
            "ticks": ""
           }
          },
          "scene": {
           "xaxis": {
            "backgroundcolor": "#E5ECF6",
            "gridcolor": "white",
            "gridwidth": 2,
            "linecolor": "white",
            "showbackground": true,
            "ticks": "",
            "zerolinecolor": "white"
           },
           "yaxis": {
            "backgroundcolor": "#E5ECF6",
            "gridcolor": "white",
            "gridwidth": 2,
            "linecolor": "white",
            "showbackground": true,
            "ticks": "",
            "zerolinecolor": "white"
           },
           "zaxis": {
            "backgroundcolor": "#E5ECF6",
            "gridcolor": "white",
            "gridwidth": 2,
            "linecolor": "white",
            "showbackground": true,
            "ticks": "",
            "zerolinecolor": "white"
           }
          },
          "shapedefaults": {
           "line": {
            "color": "#2a3f5f"
           }
          },
          "ternary": {
           "aaxis": {
            "gridcolor": "white",
            "linecolor": "white",
            "ticks": ""
           },
           "baxis": {
            "gridcolor": "white",
            "linecolor": "white",
            "ticks": ""
           },
           "bgcolor": "#E5ECF6",
           "caxis": {
            "gridcolor": "white",
            "linecolor": "white",
            "ticks": ""
           }
          },
          "title": {
           "x": 0.05
          },
          "xaxis": {
           "automargin": true,
           "gridcolor": "white",
           "linecolor": "white",
           "ticks": "",
           "title": {
            "standoff": 15
           },
           "zerolinecolor": "white",
           "zerolinewidth": 2
          },
          "yaxis": {
           "automargin": true,
           "gridcolor": "white",
           "linecolor": "white",
           "ticks": "",
           "title": {
            "standoff": 15
           },
           "zerolinecolor": "white",
           "zerolinewidth": 2
          }
         }
        },
        "title": {
         "font": {
          "color": "#4D5663"
         },
         "text": "Topic 1: Top 100 words after removing stop words"
        },
        "xaxis": {
         "gridcolor": "#E1E5ED",
         "linecolor": "black",
         "showgrid": true,
         "tickfont": {
          "color": "#4D5663"
         },
         "title": {
          "font": {
           "color": "#4D5663"
          },
          "text": ""
         },
         "zerolinecolor": "#E1E5ED"
        },
        "yaxis": {
         "gridcolor": "#E1E5ED",
         "linecolor": "black",
         "showgrid": true,
         "tickfont": {
          "color": "#4D5663"
         },
         "title": {
          "font": {
           "color": "#4D5663"
          },
          "text": "Count"
         },
         "zerolinecolor": "#E1E5ED"
        }
       }
      },
      "text/html": [
       "<div>                            <div id=\"2de9f6d4-600a-4639-9c39-9d0e57cb3f5e\" class=\"plotly-graph-div\" style=\"height:525px; width:100%;\"></div>            <script type=\"text/javascript\">                require([\"plotly\"], function(Plotly) {                    window.PLOTLYENV=window.PLOTLYENV || {};\n",
       "                    window.PLOTLYENV.BASE_URL='https://plot.ly';                                    if (document.getElementById(\"2de9f6d4-600a-4639-9c39-9d0e57cb3f5e\")) {                    Plotly.newPlot(                        \"2de9f6d4-600a-4639-9c39-9d0e57cb3f5e\",                        [{\"marker\":{\"color\":\"rgba(255, 153, 51, 0.6)\",\"line\":{\"color\":\"rgba(255, 153, 51, 1.0)\",\"width\":1}},\"name\":\"count\",\"orientation\":\"v\",\"text\":\"\",\"x\":[\"business\",\"loan\",\"sell\",\"year\",\"child\",\"work\",\"buy\",\"make\",\"product\",\"use\",\"old\",\"help\",\"family\",\"live\",\"start\",\"home\",\"also\",\"small\",\"husband\",\"well\",\"able\",\"community\",\"hope\",\"purchase\",\"customer\",\"store\",\"good\",\"school\",\"order\",\"woman\",\"new\",\"group\",\"increase\",\"need\",\"income\",\"clothing\",\"entrepreneur\",\"want\",\"time\",\"people\",\"improve\",\"invest\",\"provide\",\"money\",\"client\",\"support\",\"grow\",\"continue\",\"house\",\"request\",\"item\",\"hard\",\"run\",\"food\",\"sale\",\"first\",\"go\",\"ago\",\"clothe\",\"life\",\"take\",\"member\",\"say\",\"day\",\"mother\",\"give\",\"offer\",\"large\",\"plan\",\"profit\",\"education\",\"receive\",\"shop\",\"expand\",\"merchandise\",\"begin\",\"son\",\"second\",\"capital\",\"allow\",\"keep\",\"open\",\"daughter\",\"currently\",\"stock\",\"wife\",\"experience\",\"get\",\"marry\",\"many\",\"operate\",\"market\",\"pay\",\"save\",\"goal\",\"neighborhood\",\"demand\",\"shoe\",\"great\",\"service\"],\"y\":[1231,1011,747,634,594,428,417,360,345,328,327,327,311,296,291,277,268,267,261,257,254,237,216,215,212,211,210,210,202,198,193,189,184,179,168,167,167,164,151,150,145,143,143,141,135,133,131,131,129,129,127,127,125,124,123,121,120,119,118,113,113,110,107,106,106,103,100,99,98,98,97,97,97,91,91,91,89,89,88,84,82,82,81,80,78,78,78,78,73,73,72,71,71,70,69,68,68,68,68,67],\"type\":\"bar\"}],                        {\"legend\":{\"bgcolor\":\"#F5F6F9\",\"font\":{\"color\":\"#4D5663\"}},\"paper_bgcolor\":\"#F5F6F9\",\"plot_bgcolor\":\"#F5F6F9\",\"template\":{\"data\":{\"barpolar\":[{\"marker\":{\"line\":{\"color\":\"#E5ECF6\",\"width\":0.5},\"pattern\":{\"fillmode\":\"overlay\",\"size\":10,\"solidity\":0.2}},\"type\":\"barpolar\"}],\"bar\":[{\"error_x\":{\"color\":\"#2a3f5f\"},\"error_y\":{\"color\":\"#2a3f5f\"},\"marker\":{\"line\":{\"color\":\"#E5ECF6\",\"width\":0.5},\"pattern\":{\"fillmode\":\"overlay\",\"size\":10,\"solidity\":0.2}},\"type\":\"bar\"}],\"carpet\":[{\"aaxis\":{\"endlinecolor\":\"#2a3f5f\",\"gridcolor\":\"white\",\"linecolor\":\"white\",\"minorgridcolor\":\"white\",\"startlinecolor\":\"#2a3f5f\"},\"baxis\":{\"endlinecolor\":\"#2a3f5f\",\"gridcolor\":\"white\",\"linecolor\":\"white\",\"minorgridcolor\":\"white\",\"startlinecolor\":\"#2a3f5f\"},\"type\":\"carpet\"}],\"choropleth\":[{\"colorbar\":{\"outlinewidth\":0,\"ticks\":\"\"},\"type\":\"choropleth\"}],\"contourcarpet\":[{\"colorbar\":{\"outlinewidth\":0,\"ticks\":\"\"},\"type\":\"contourcarpet\"}],\"contour\":[{\"colorbar\":{\"outlinewidth\":0,\"ticks\":\"\"},\"colorscale\":[[0.0,\"#0d0887\"],[0.1111111111111111,\"#46039f\"],[0.2222222222222222,\"#7201a8\"],[0.3333333333333333,\"#9c179e\"],[0.4444444444444444,\"#bd3786\"],[0.5555555555555556,\"#d8576b\"],[0.6666666666666666,\"#ed7953\"],[0.7777777777777778,\"#fb9f3a\"],[0.8888888888888888,\"#fdca26\"],[1.0,\"#f0f921\"]],\"type\":\"contour\"}],\"heatmapgl\":[{\"colorbar\":{\"outlinewidth\":0,\"ticks\":\"\"},\"colorscale\":[[0.0,\"#0d0887\"],[0.1111111111111111,\"#46039f\"],[0.2222222222222222,\"#7201a8\"],[0.3333333333333333,\"#9c179e\"],[0.4444444444444444,\"#bd3786\"],[0.5555555555555556,\"#d8576b\"],[0.6666666666666666,\"#ed7953\"],[0.7777777777777778,\"#fb9f3a\"],[0.8888888888888888,\"#fdca26\"],[1.0,\"#f0f921\"]],\"type\":\"heatmapgl\"}],\"heatmap\":[{\"colorbar\":{\"outlinewidth\":0,\"ticks\":\"\"},\"colorscale\":[[0.0,\"#0d0887\"],[0.1111111111111111,\"#46039f\"],[0.2222222222222222,\"#7201a8\"],[0.3333333333333333,\"#9c179e\"],[0.4444444444444444,\"#bd3786\"],[0.5555555555555556,\"#d8576b\"],[0.6666666666666666,\"#ed7953\"],[0.7777777777777778,\"#fb9f3a\"],[0.8888888888888888,\"#fdca26\"],[1.0,\"#f0f921\"]],\"type\":\"heatmap\"}],\"histogram2dcontour\":[{\"colorbar\":{\"outlinewidth\":0,\"ticks\":\"\"},\"colorscale\":[[0.0,\"#0d0887\"],[0.1111111111111111,\"#46039f\"],[0.2222222222222222,\"#7201a8\"],[0.3333333333333333,\"#9c179e\"],[0.4444444444444444,\"#bd3786\"],[0.5555555555555556,\"#d8576b\"],[0.6666666666666666,\"#ed7953\"],[0.7777777777777778,\"#fb9f3a\"],[0.8888888888888888,\"#fdca26\"],[1.0,\"#f0f921\"]],\"type\":\"histogram2dcontour\"}],\"histogram2d\":[{\"colorbar\":{\"outlinewidth\":0,\"ticks\":\"\"},\"colorscale\":[[0.0,\"#0d0887\"],[0.1111111111111111,\"#46039f\"],[0.2222222222222222,\"#7201a8\"],[0.3333333333333333,\"#9c179e\"],[0.4444444444444444,\"#bd3786\"],[0.5555555555555556,\"#d8576b\"],[0.6666666666666666,\"#ed7953\"],[0.7777777777777778,\"#fb9f3a\"],[0.8888888888888888,\"#fdca26\"],[1.0,\"#f0f921\"]],\"type\":\"histogram2d\"}],\"histogram\":[{\"marker\":{\"pattern\":{\"fillmode\":\"overlay\",\"size\":10,\"solidity\":0.2}},\"type\":\"histogram\"}],\"mesh3d\":[{\"colorbar\":{\"outlinewidth\":0,\"ticks\":\"\"},\"type\":\"mesh3d\"}],\"parcoords\":[{\"line\":{\"colorbar\":{\"outlinewidth\":0,\"ticks\":\"\"}},\"type\":\"parcoords\"}],\"pie\":[{\"automargin\":true,\"type\":\"pie\"}],\"scatter3d\":[{\"line\":{\"colorbar\":{\"outlinewidth\":0,\"ticks\":\"\"}},\"marker\":{\"colorbar\":{\"outlinewidth\":0,\"ticks\":\"\"}},\"type\":\"scatter3d\"}],\"scattercarpet\":[{\"marker\":{\"colorbar\":{\"outlinewidth\":0,\"ticks\":\"\"}},\"type\":\"scattercarpet\"}],\"scattergeo\":[{\"marker\":{\"colorbar\":{\"outlinewidth\":0,\"ticks\":\"\"}},\"type\":\"scattergeo\"}],\"scattergl\":[{\"marker\":{\"colorbar\":{\"outlinewidth\":0,\"ticks\":\"\"}},\"type\":\"scattergl\"}],\"scattermapbox\":[{\"marker\":{\"colorbar\":{\"outlinewidth\":0,\"ticks\":\"\"}},\"type\":\"scattermapbox\"}],\"scatterpolargl\":[{\"marker\":{\"colorbar\":{\"outlinewidth\":0,\"ticks\":\"\"}},\"type\":\"scatterpolargl\"}],\"scatterpolar\":[{\"marker\":{\"colorbar\":{\"outlinewidth\":0,\"ticks\":\"\"}},\"type\":\"scatterpolar\"}],\"scatter\":[{\"fillpattern\":{\"fillmode\":\"overlay\",\"size\":10,\"solidity\":0.2},\"type\":\"scatter\"}],\"scatterternary\":[{\"marker\":{\"colorbar\":{\"outlinewidth\":0,\"ticks\":\"\"}},\"type\":\"scatterternary\"}],\"surface\":[{\"colorbar\":{\"outlinewidth\":0,\"ticks\":\"\"},\"colorscale\":[[0.0,\"#0d0887\"],[0.1111111111111111,\"#46039f\"],[0.2222222222222222,\"#7201a8\"],[0.3333333333333333,\"#9c179e\"],[0.4444444444444444,\"#bd3786\"],[0.5555555555555556,\"#d8576b\"],[0.6666666666666666,\"#ed7953\"],[0.7777777777777778,\"#fb9f3a\"],[0.8888888888888888,\"#fdca26\"],[1.0,\"#f0f921\"]],\"type\":\"surface\"}],\"table\":[{\"cells\":{\"fill\":{\"color\":\"#EBF0F8\"},\"line\":{\"color\":\"white\"}},\"header\":{\"fill\":{\"color\":\"#C8D4E3\"},\"line\":{\"color\":\"white\"}},\"type\":\"table\"}]},\"layout\":{\"annotationdefaults\":{\"arrowcolor\":\"#2a3f5f\",\"arrowhead\":0,\"arrowwidth\":1},\"autotypenumbers\":\"strict\",\"coloraxis\":{\"colorbar\":{\"outlinewidth\":0,\"ticks\":\"\"}},\"colorscale\":{\"diverging\":[[0,\"#8e0152\"],[0.1,\"#c51b7d\"],[0.2,\"#de77ae\"],[0.3,\"#f1b6da\"],[0.4,\"#fde0ef\"],[0.5,\"#f7f7f7\"],[0.6,\"#e6f5d0\"],[0.7,\"#b8e186\"],[0.8,\"#7fbc41\"],[0.9,\"#4d9221\"],[1,\"#276419\"]],\"sequential\":[[0.0,\"#0d0887\"],[0.1111111111111111,\"#46039f\"],[0.2222222222222222,\"#7201a8\"],[0.3333333333333333,\"#9c179e\"],[0.4444444444444444,\"#bd3786\"],[0.5555555555555556,\"#d8576b\"],[0.6666666666666666,\"#ed7953\"],[0.7777777777777778,\"#fb9f3a\"],[0.8888888888888888,\"#fdca26\"],[1.0,\"#f0f921\"]],\"sequentialminus\":[[0.0,\"#0d0887\"],[0.1111111111111111,\"#46039f\"],[0.2222222222222222,\"#7201a8\"],[0.3333333333333333,\"#9c179e\"],[0.4444444444444444,\"#bd3786\"],[0.5555555555555556,\"#d8576b\"],[0.6666666666666666,\"#ed7953\"],[0.7777777777777778,\"#fb9f3a\"],[0.8888888888888888,\"#fdca26\"],[1.0,\"#f0f921\"]]},\"colorway\":[\"#636efa\",\"#EF553B\",\"#00cc96\",\"#ab63fa\",\"#FFA15A\",\"#19d3f3\",\"#FF6692\",\"#B6E880\",\"#FF97FF\",\"#FECB52\"],\"font\":{\"color\":\"#2a3f5f\"},\"geo\":{\"bgcolor\":\"white\",\"lakecolor\":\"white\",\"landcolor\":\"#E5ECF6\",\"showlakes\":true,\"showland\":true,\"subunitcolor\":\"white\"},\"hoverlabel\":{\"align\":\"left\"},\"hovermode\":\"closest\",\"mapbox\":{\"style\":\"light\"},\"paper_bgcolor\":\"white\",\"plot_bgcolor\":\"#E5ECF6\",\"polar\":{\"angularaxis\":{\"gridcolor\":\"white\",\"linecolor\":\"white\",\"ticks\":\"\"},\"bgcolor\":\"#E5ECF6\",\"radialaxis\":{\"gridcolor\":\"white\",\"linecolor\":\"white\",\"ticks\":\"\"}},\"scene\":{\"xaxis\":{\"backgroundcolor\":\"#E5ECF6\",\"gridcolor\":\"white\",\"gridwidth\":2,\"linecolor\":\"white\",\"showbackground\":true,\"ticks\":\"\",\"zerolinecolor\":\"white\"},\"yaxis\":{\"backgroundcolor\":\"#E5ECF6\",\"gridcolor\":\"white\",\"gridwidth\":2,\"linecolor\":\"white\",\"showbackground\":true,\"ticks\":\"\",\"zerolinecolor\":\"white\"},\"zaxis\":{\"backgroundcolor\":\"#E5ECF6\",\"gridcolor\":\"white\",\"gridwidth\":2,\"linecolor\":\"white\",\"showbackground\":true,\"ticks\":\"\",\"zerolinecolor\":\"white\"}},\"shapedefaults\":{\"line\":{\"color\":\"#2a3f5f\"}},\"ternary\":{\"aaxis\":{\"gridcolor\":\"white\",\"linecolor\":\"white\",\"ticks\":\"\"},\"baxis\":{\"gridcolor\":\"white\",\"linecolor\":\"white\",\"ticks\":\"\"},\"bgcolor\":\"#E5ECF6\",\"caxis\":{\"gridcolor\":\"white\",\"linecolor\":\"white\",\"ticks\":\"\"}},\"title\":{\"x\":0.05},\"xaxis\":{\"automargin\":true,\"gridcolor\":\"white\",\"linecolor\":\"white\",\"ticks\":\"\",\"title\":{\"standoff\":15},\"zerolinecolor\":\"white\",\"zerolinewidth\":2},\"yaxis\":{\"automargin\":true,\"gridcolor\":\"white\",\"linecolor\":\"white\",\"ticks\":\"\",\"title\":{\"standoff\":15},\"zerolinecolor\":\"white\",\"zerolinewidth\":2}}},\"title\":{\"font\":{\"color\":\"#4D5663\"},\"text\":\"Topic 1: Top 100 words after removing stop words\"},\"xaxis\":{\"gridcolor\":\"#E1E5ED\",\"linecolor\":\"black\",\"showgrid\":true,\"tickfont\":{\"color\":\"#4D5663\"},\"title\":{\"font\":{\"color\":\"#4D5663\"},\"text\":\"\"},\"zerolinecolor\":\"#E1E5ED\"},\"yaxis\":{\"gridcolor\":\"#E1E5ED\",\"linecolor\":\"black\",\"showgrid\":true,\"tickfont\":{\"color\":\"#4D5663\"},\"title\":{\"font\":{\"color\":\"#4D5663\"},\"text\":\"Count\"},\"zerolinecolor\":\"#E1E5ED\"}},                        {\"showLink\": true, \"linkText\": \"Export to plot.ly\", \"plotlyServerURL\": \"https://plot.ly\", \"responsive\": true}                    ).then(function(){\n",
       "                            \n",
       "var gd = document.getElementById('2de9f6d4-600a-4639-9c39-9d0e57cb3f5e');\n",
       "var x = new MutationObserver(function (mutations, observer) {{\n",
       "        var display = window.getComputedStyle(gd).display;\n",
       "        if (!display || display === 'none') {{\n",
       "            console.log([gd, 'removed!']);\n",
       "            Plotly.purge(gd);\n",
       "            observer.disconnect();\n",
       "        }}\n",
       "}});\n",
       "\n",
       "// Listen for the removal of the full notebook cells\n",
       "var notebookContainer = gd.closest('#notebook-container');\n",
       "if (notebookContainer) {{\n",
       "    x.observe(notebookContainer, {childList: true});\n",
       "}}\n",
       "\n",
       "// Listen for the clearing of the current output cell\n",
       "var outputEl = gd.closest('.output');\n",
       "if (outputEl) {{\n",
       "    x.observe(outputEl, {childList: true});\n",
       "}}\n",
       "\n",
       "                        })                };                });            </script>        </div>"
      ]
     },
     "metadata": {},
     "output_type": "display_data"
    }
   ],
   "source": [
    "# frequency distribution of topic 1\n",
    "plot_model(lda, plot = 'frequency', topic_num = 'Topic 1')"
   ]
  },
  {
   "cell_type": "code",
   "execution_count": 14,
   "metadata": {},
   "outputs": [
    {
     "data": {
      "text/html": [
       "        <script type=\"text/javascript\">\n",
       "        window.PlotlyConfig = {MathJaxConfig: 'local'};\n",
       "        if (window.MathJax && window.MathJax.Hub && window.MathJax.Hub.Config) {window.MathJax.Hub.Config({SVG: {font: \"STIX-Web\"}});}\n",
       "        if (typeof require !== 'undefined') {\n",
       "        require.undef(\"plotly\");\n",
       "        requirejs.config({\n",
       "            paths: {\n",
       "                'plotly': ['https://cdn.plot.ly/plotly-2.14.0.min']\n",
       "            }\n",
       "        });\n",
       "        require(['plotly'], function(Plotly) {\n",
       "            window._Plotly = Plotly;\n",
       "        });\n",
       "        }\n",
       "        </script>\n",
       "        "
      ]
     },
     "metadata": {},
     "output_type": "display_data"
    },
    {
     "data": {
      "application/vnd.plotly.v1+json": {
       "config": {
        "plotlyServerURL": "https://plot.ly"
       },
       "data": [
        {
         "alignmentgroup": "True",
         "customdata": [
          [
           "business, school, child, loan, buy, able, year, family, request, pay"
          ],
          [
           "business, loan, sell, year, child, work, buy, make, product, help"
          ],
          [
           "loan, child, group, school, year, member, sell, also, business, buy"
          ],
          [
           "loan, rice, farmer, also, use, land, small, area, sector, many"
          ]
         ],
         "hovertemplate": "Topic=%{x}<br>Documents=%{y}<br>Keyword=%{customdata[0]}<extra></extra>",
         "legendgroup": "",
         "marker": {
          "color": "#636efa",
          "pattern": {
           "shape": ""
          }
         },
         "name": "",
         "offsetgroup": "",
         "orientation": "v",
         "showlegend": false,
         "textposition": "auto",
         "type": "bar",
         "x": [
          "Topic 0",
          "Topic 1",
          "Topic 2",
          "Topic 3"
         ],
         "xaxis": "x",
         "y": [
          212,
          564,
          195,
          29
         ],
         "yaxis": "y"
        }
       ],
       "layout": {
        "barmode": "relative",
        "legend": {
         "tracegroupgap": 0
        },
        "template": {
         "data": {
          "bar": [
           {
            "error_x": {
             "color": "#2a3f5f"
            },
            "error_y": {
             "color": "#2a3f5f"
            },
            "marker": {
             "line": {
              "color": "#E5ECF6",
              "width": 0.5
             },
             "pattern": {
              "fillmode": "overlay",
              "size": 10,
              "solidity": 0.2
             }
            },
            "type": "bar"
           }
          ],
          "barpolar": [
           {
            "marker": {
             "line": {
              "color": "#E5ECF6",
              "width": 0.5
             },
             "pattern": {
              "fillmode": "overlay",
              "size": 10,
              "solidity": 0.2
             }
            },
            "type": "barpolar"
           }
          ],
          "carpet": [
           {
            "aaxis": {
             "endlinecolor": "#2a3f5f",
             "gridcolor": "white",
             "linecolor": "white",
             "minorgridcolor": "white",
             "startlinecolor": "#2a3f5f"
            },
            "baxis": {
             "endlinecolor": "#2a3f5f",
             "gridcolor": "white",
             "linecolor": "white",
             "minorgridcolor": "white",
             "startlinecolor": "#2a3f5f"
            },
            "type": "carpet"
           }
          ],
          "choropleth": [
           {
            "colorbar": {
             "outlinewidth": 0,
             "ticks": ""
            },
            "type": "choropleth"
           }
          ],
          "contour": [
           {
            "colorbar": {
             "outlinewidth": 0,
             "ticks": ""
            },
            "colorscale": [
             [
              0,
              "#0d0887"
             ],
             [
              0.1111111111111111,
              "#46039f"
             ],
             [
              0.2222222222222222,
              "#7201a8"
             ],
             [
              0.3333333333333333,
              "#9c179e"
             ],
             [
              0.4444444444444444,
              "#bd3786"
             ],
             [
              0.5555555555555556,
              "#d8576b"
             ],
             [
              0.6666666666666666,
              "#ed7953"
             ],
             [
              0.7777777777777778,
              "#fb9f3a"
             ],
             [
              0.8888888888888888,
              "#fdca26"
             ],
             [
              1,
              "#f0f921"
             ]
            ],
            "type": "contour"
           }
          ],
          "contourcarpet": [
           {
            "colorbar": {
             "outlinewidth": 0,
             "ticks": ""
            },
            "type": "contourcarpet"
           }
          ],
          "heatmap": [
           {
            "colorbar": {
             "outlinewidth": 0,
             "ticks": ""
            },
            "colorscale": [
             [
              0,
              "#0d0887"
             ],
             [
              0.1111111111111111,
              "#46039f"
             ],
             [
              0.2222222222222222,
              "#7201a8"
             ],
             [
              0.3333333333333333,
              "#9c179e"
             ],
             [
              0.4444444444444444,
              "#bd3786"
             ],
             [
              0.5555555555555556,
              "#d8576b"
             ],
             [
              0.6666666666666666,
              "#ed7953"
             ],
             [
              0.7777777777777778,
              "#fb9f3a"
             ],
             [
              0.8888888888888888,
              "#fdca26"
             ],
             [
              1,
              "#f0f921"
             ]
            ],
            "type": "heatmap"
           }
          ],
          "heatmapgl": [
           {
            "colorbar": {
             "outlinewidth": 0,
             "ticks": ""
            },
            "colorscale": [
             [
              0,
              "#0d0887"
             ],
             [
              0.1111111111111111,
              "#46039f"
             ],
             [
              0.2222222222222222,
              "#7201a8"
             ],
             [
              0.3333333333333333,
              "#9c179e"
             ],
             [
              0.4444444444444444,
              "#bd3786"
             ],
             [
              0.5555555555555556,
              "#d8576b"
             ],
             [
              0.6666666666666666,
              "#ed7953"
             ],
             [
              0.7777777777777778,
              "#fb9f3a"
             ],
             [
              0.8888888888888888,
              "#fdca26"
             ],
             [
              1,
              "#f0f921"
             ]
            ],
            "type": "heatmapgl"
           }
          ],
          "histogram": [
           {
            "marker": {
             "pattern": {
              "fillmode": "overlay",
              "size": 10,
              "solidity": 0.2
             }
            },
            "type": "histogram"
           }
          ],
          "histogram2d": [
           {
            "colorbar": {
             "outlinewidth": 0,
             "ticks": ""
            },
            "colorscale": [
             [
              0,
              "#0d0887"
             ],
             [
              0.1111111111111111,
              "#46039f"
             ],
             [
              0.2222222222222222,
              "#7201a8"
             ],
             [
              0.3333333333333333,
              "#9c179e"
             ],
             [
              0.4444444444444444,
              "#bd3786"
             ],
             [
              0.5555555555555556,
              "#d8576b"
             ],
             [
              0.6666666666666666,
              "#ed7953"
             ],
             [
              0.7777777777777778,
              "#fb9f3a"
             ],
             [
              0.8888888888888888,
              "#fdca26"
             ],
             [
              1,
              "#f0f921"
             ]
            ],
            "type": "histogram2d"
           }
          ],
          "histogram2dcontour": [
           {
            "colorbar": {
             "outlinewidth": 0,
             "ticks": ""
            },
            "colorscale": [
             [
              0,
              "#0d0887"
             ],
             [
              0.1111111111111111,
              "#46039f"
             ],
             [
              0.2222222222222222,
              "#7201a8"
             ],
             [
              0.3333333333333333,
              "#9c179e"
             ],
             [
              0.4444444444444444,
              "#bd3786"
             ],
             [
              0.5555555555555556,
              "#d8576b"
             ],
             [
              0.6666666666666666,
              "#ed7953"
             ],
             [
              0.7777777777777778,
              "#fb9f3a"
             ],
             [
              0.8888888888888888,
              "#fdca26"
             ],
             [
              1,
              "#f0f921"
             ]
            ],
            "type": "histogram2dcontour"
           }
          ],
          "mesh3d": [
           {
            "colorbar": {
             "outlinewidth": 0,
             "ticks": ""
            },
            "type": "mesh3d"
           }
          ],
          "parcoords": [
           {
            "line": {
             "colorbar": {
              "outlinewidth": 0,
              "ticks": ""
             }
            },
            "type": "parcoords"
           }
          ],
          "pie": [
           {
            "automargin": true,
            "type": "pie"
           }
          ],
          "scatter": [
           {
            "fillpattern": {
             "fillmode": "overlay",
             "size": 10,
             "solidity": 0.2
            },
            "type": "scatter"
           }
          ],
          "scatter3d": [
           {
            "line": {
             "colorbar": {
              "outlinewidth": 0,
              "ticks": ""
             }
            },
            "marker": {
             "colorbar": {
              "outlinewidth": 0,
              "ticks": ""
             }
            },
            "type": "scatter3d"
           }
          ],
          "scattercarpet": [
           {
            "marker": {
             "colorbar": {
              "outlinewidth": 0,
              "ticks": ""
             }
            },
            "type": "scattercarpet"
           }
          ],
          "scattergeo": [
           {
            "marker": {
             "colorbar": {
              "outlinewidth": 0,
              "ticks": ""
             }
            },
            "type": "scattergeo"
           }
          ],
          "scattergl": [
           {
            "marker": {
             "colorbar": {
              "outlinewidth": 0,
              "ticks": ""
             }
            },
            "type": "scattergl"
           }
          ],
          "scattermapbox": [
           {
            "marker": {
             "colorbar": {
              "outlinewidth": 0,
              "ticks": ""
             }
            },
            "type": "scattermapbox"
           }
          ],
          "scatterpolar": [
           {
            "marker": {
             "colorbar": {
              "outlinewidth": 0,
              "ticks": ""
             }
            },
            "type": "scatterpolar"
           }
          ],
          "scatterpolargl": [
           {
            "marker": {
             "colorbar": {
              "outlinewidth": 0,
              "ticks": ""
             }
            },
            "type": "scatterpolargl"
           }
          ],
          "scatterternary": [
           {
            "marker": {
             "colorbar": {
              "outlinewidth": 0,
              "ticks": ""
             }
            },
            "type": "scatterternary"
           }
          ],
          "surface": [
           {
            "colorbar": {
             "outlinewidth": 0,
             "ticks": ""
            },
            "colorscale": [
             [
              0,
              "#0d0887"
             ],
             [
              0.1111111111111111,
              "#46039f"
             ],
             [
              0.2222222222222222,
              "#7201a8"
             ],
             [
              0.3333333333333333,
              "#9c179e"
             ],
             [
              0.4444444444444444,
              "#bd3786"
             ],
             [
              0.5555555555555556,
              "#d8576b"
             ],
             [
              0.6666666666666666,
              "#ed7953"
             ],
             [
              0.7777777777777778,
              "#fb9f3a"
             ],
             [
              0.8888888888888888,
              "#fdca26"
             ],
             [
              1,
              "#f0f921"
             ]
            ],
            "type": "surface"
           }
          ],
          "table": [
           {
            "cells": {
             "fill": {
              "color": "#EBF0F8"
             },
             "line": {
              "color": "white"
             }
            },
            "header": {
             "fill": {
              "color": "#C8D4E3"
             },
             "line": {
              "color": "white"
             }
            },
            "type": "table"
           }
          ]
         },
         "layout": {
          "annotationdefaults": {
           "arrowcolor": "#2a3f5f",
           "arrowhead": 0,
           "arrowwidth": 1
          },
          "autotypenumbers": "strict",
          "coloraxis": {
           "colorbar": {
            "outlinewidth": 0,
            "ticks": ""
           }
          },
          "colorscale": {
           "diverging": [
            [
             0,
             "#8e0152"
            ],
            [
             0.1,
             "#c51b7d"
            ],
            [
             0.2,
             "#de77ae"
            ],
            [
             0.3,
             "#f1b6da"
            ],
            [
             0.4,
             "#fde0ef"
            ],
            [
             0.5,
             "#f7f7f7"
            ],
            [
             0.6,
             "#e6f5d0"
            ],
            [
             0.7,
             "#b8e186"
            ],
            [
             0.8,
             "#7fbc41"
            ],
            [
             0.9,
             "#4d9221"
            ],
            [
             1,
             "#276419"
            ]
           ],
           "sequential": [
            [
             0,
             "#0d0887"
            ],
            [
             0.1111111111111111,
             "#46039f"
            ],
            [
             0.2222222222222222,
             "#7201a8"
            ],
            [
             0.3333333333333333,
             "#9c179e"
            ],
            [
             0.4444444444444444,
             "#bd3786"
            ],
            [
             0.5555555555555556,
             "#d8576b"
            ],
            [
             0.6666666666666666,
             "#ed7953"
            ],
            [
             0.7777777777777778,
             "#fb9f3a"
            ],
            [
             0.8888888888888888,
             "#fdca26"
            ],
            [
             1,
             "#f0f921"
            ]
           ],
           "sequentialminus": [
            [
             0,
             "#0d0887"
            ],
            [
             0.1111111111111111,
             "#46039f"
            ],
            [
             0.2222222222222222,
             "#7201a8"
            ],
            [
             0.3333333333333333,
             "#9c179e"
            ],
            [
             0.4444444444444444,
             "#bd3786"
            ],
            [
             0.5555555555555556,
             "#d8576b"
            ],
            [
             0.6666666666666666,
             "#ed7953"
            ],
            [
             0.7777777777777778,
             "#fb9f3a"
            ],
            [
             0.8888888888888888,
             "#fdca26"
            ],
            [
             1,
             "#f0f921"
            ]
           ]
          },
          "colorway": [
           "#636efa",
           "#EF553B",
           "#00cc96",
           "#ab63fa",
           "#FFA15A",
           "#19d3f3",
           "#FF6692",
           "#B6E880",
           "#FF97FF",
           "#FECB52"
          ],
          "font": {
           "color": "#2a3f5f"
          },
          "geo": {
           "bgcolor": "white",
           "lakecolor": "white",
           "landcolor": "#E5ECF6",
           "showlakes": true,
           "showland": true,
           "subunitcolor": "white"
          },
          "hoverlabel": {
           "align": "left"
          },
          "hovermode": "closest",
          "mapbox": {
           "style": "light"
          },
          "paper_bgcolor": "white",
          "plot_bgcolor": "#E5ECF6",
          "polar": {
           "angularaxis": {
            "gridcolor": "white",
            "linecolor": "white",
            "ticks": ""
           },
           "bgcolor": "#E5ECF6",
           "radialaxis": {
            "gridcolor": "white",
            "linecolor": "white",
            "ticks": ""
           }
          },
          "scene": {
           "xaxis": {
            "backgroundcolor": "#E5ECF6",
            "gridcolor": "white",
            "gridwidth": 2,
            "linecolor": "white",
            "showbackground": true,
            "ticks": "",
            "zerolinecolor": "white"
           },
           "yaxis": {
            "backgroundcolor": "#E5ECF6",
            "gridcolor": "white",
            "gridwidth": 2,
            "linecolor": "white",
            "showbackground": true,
            "ticks": "",
            "zerolinecolor": "white"
           },
           "zaxis": {
            "backgroundcolor": "#E5ECF6",
            "gridcolor": "white",
            "gridwidth": 2,
            "linecolor": "white",
            "showbackground": true,
            "ticks": "",
            "zerolinecolor": "white"
           }
          },
          "shapedefaults": {
           "line": {
            "color": "#2a3f5f"
           }
          },
          "ternary": {
           "aaxis": {
            "gridcolor": "white",
            "linecolor": "white",
            "ticks": ""
           },
           "baxis": {
            "gridcolor": "white",
            "linecolor": "white",
            "ticks": ""
           },
           "bgcolor": "#E5ECF6",
           "caxis": {
            "gridcolor": "white",
            "linecolor": "white",
            "ticks": ""
           }
          },
          "title": {
           "x": 0.05
          },
          "xaxis": {
           "automargin": true,
           "gridcolor": "white",
           "linecolor": "white",
           "ticks": "",
           "title": {
            "standoff": 15
           },
           "zerolinecolor": "white",
           "zerolinewidth": 2
          },
          "yaxis": {
           "automargin": true,
           "gridcolor": "white",
           "linecolor": "white",
           "ticks": "",
           "title": {
            "standoff": 15
           },
           "zerolinecolor": "white",
           "zerolinewidth": 2
          }
         }
        },
        "title": {
         "text": "Document Distribution by Topics"
        },
        "xaxis": {
         "anchor": "y",
         "domain": [
          0,
          1
         ],
         "title": {
          "text": "Topic"
         }
        },
        "yaxis": {
         "anchor": "x",
         "domain": [
          0,
          1
         ],
         "title": {
          "text": "Documents"
         }
        }
       }
      },
      "text/html": [
       "<div>                            <div id=\"57a05788-103e-459c-aa90-2fe6e87bea5c\" class=\"plotly-graph-div\" style=\"height:525px; width:100%;\"></div>            <script type=\"text/javascript\">                require([\"plotly\"], function(Plotly) {                    window.PLOTLYENV=window.PLOTLYENV || {};                                    if (document.getElementById(\"57a05788-103e-459c-aa90-2fe6e87bea5c\")) {                    Plotly.newPlot(                        \"57a05788-103e-459c-aa90-2fe6e87bea5c\",                        [{\"alignmentgroup\":\"True\",\"customdata\":[[\"business, school, child, loan, buy, able, year, family, request, pay\"],[\"business, loan, sell, year, child, work, buy, make, product, help\"],[\"loan, child, group, school, year, member, sell, also, business, buy\"],[\"loan, rice, farmer, also, use, land, small, area, sector, many\"]],\"hovertemplate\":\"Topic=%{x}<br>Documents=%{y}<br>Keyword=%{customdata[0]}<extra></extra>\",\"legendgroup\":\"\",\"marker\":{\"color\":\"#636efa\",\"pattern\":{\"shape\":\"\"}},\"name\":\"\",\"offsetgroup\":\"\",\"orientation\":\"v\",\"showlegend\":false,\"textposition\":\"auto\",\"x\":[\"Topic 0\",\"Topic 1\",\"Topic 2\",\"Topic 3\"],\"xaxis\":\"x\",\"y\":[212,564,195,29],\"yaxis\":\"y\",\"type\":\"bar\"}],                        {\"template\":{\"data\":{\"histogram2dcontour\":[{\"type\":\"histogram2dcontour\",\"colorbar\":{\"outlinewidth\":0,\"ticks\":\"\"},\"colorscale\":[[0.0,\"#0d0887\"],[0.1111111111111111,\"#46039f\"],[0.2222222222222222,\"#7201a8\"],[0.3333333333333333,\"#9c179e\"],[0.4444444444444444,\"#bd3786\"],[0.5555555555555556,\"#d8576b\"],[0.6666666666666666,\"#ed7953\"],[0.7777777777777778,\"#fb9f3a\"],[0.8888888888888888,\"#fdca26\"],[1.0,\"#f0f921\"]]}],\"choropleth\":[{\"type\":\"choropleth\",\"colorbar\":{\"outlinewidth\":0,\"ticks\":\"\"}}],\"histogram2d\":[{\"type\":\"histogram2d\",\"colorbar\":{\"outlinewidth\":0,\"ticks\":\"\"},\"colorscale\":[[0.0,\"#0d0887\"],[0.1111111111111111,\"#46039f\"],[0.2222222222222222,\"#7201a8\"],[0.3333333333333333,\"#9c179e\"],[0.4444444444444444,\"#bd3786\"],[0.5555555555555556,\"#d8576b\"],[0.6666666666666666,\"#ed7953\"],[0.7777777777777778,\"#fb9f3a\"],[0.8888888888888888,\"#fdca26\"],[1.0,\"#f0f921\"]]}],\"heatmap\":[{\"type\":\"heatmap\",\"colorbar\":{\"outlinewidth\":0,\"ticks\":\"\"},\"colorscale\":[[0.0,\"#0d0887\"],[0.1111111111111111,\"#46039f\"],[0.2222222222222222,\"#7201a8\"],[0.3333333333333333,\"#9c179e\"],[0.4444444444444444,\"#bd3786\"],[0.5555555555555556,\"#d8576b\"],[0.6666666666666666,\"#ed7953\"],[0.7777777777777778,\"#fb9f3a\"],[0.8888888888888888,\"#fdca26\"],[1.0,\"#f0f921\"]]}],\"heatmapgl\":[{\"type\":\"heatmapgl\",\"colorbar\":{\"outlinewidth\":0,\"ticks\":\"\"},\"colorscale\":[[0.0,\"#0d0887\"],[0.1111111111111111,\"#46039f\"],[0.2222222222222222,\"#7201a8\"],[0.3333333333333333,\"#9c179e\"],[0.4444444444444444,\"#bd3786\"],[0.5555555555555556,\"#d8576b\"],[0.6666666666666666,\"#ed7953\"],[0.7777777777777778,\"#fb9f3a\"],[0.8888888888888888,\"#fdca26\"],[1.0,\"#f0f921\"]]}],\"contourcarpet\":[{\"type\":\"contourcarpet\",\"colorbar\":{\"outlinewidth\":0,\"ticks\":\"\"}}],\"contour\":[{\"type\":\"contour\",\"colorbar\":{\"outlinewidth\":0,\"ticks\":\"\"},\"colorscale\":[[0.0,\"#0d0887\"],[0.1111111111111111,\"#46039f\"],[0.2222222222222222,\"#7201a8\"],[0.3333333333333333,\"#9c179e\"],[0.4444444444444444,\"#bd3786\"],[0.5555555555555556,\"#d8576b\"],[0.6666666666666666,\"#ed7953\"],[0.7777777777777778,\"#fb9f3a\"],[0.8888888888888888,\"#fdca26\"],[1.0,\"#f0f921\"]]}],\"surface\":[{\"type\":\"surface\",\"colorbar\":{\"outlinewidth\":0,\"ticks\":\"\"},\"colorscale\":[[0.0,\"#0d0887\"],[0.1111111111111111,\"#46039f\"],[0.2222222222222222,\"#7201a8\"],[0.3333333333333333,\"#9c179e\"],[0.4444444444444444,\"#bd3786\"],[0.5555555555555556,\"#d8576b\"],[0.6666666666666666,\"#ed7953\"],[0.7777777777777778,\"#fb9f3a\"],[0.8888888888888888,\"#fdca26\"],[1.0,\"#f0f921\"]]}],\"mesh3d\":[{\"type\":\"mesh3d\",\"colorbar\":{\"outlinewidth\":0,\"ticks\":\"\"}}],\"scatter\":[{\"fillpattern\":{\"fillmode\":\"overlay\",\"size\":10,\"solidity\":0.2},\"type\":\"scatter\"}],\"parcoords\":[{\"type\":\"parcoords\",\"line\":{\"colorbar\":{\"outlinewidth\":0,\"ticks\":\"\"}}}],\"scatterpolargl\":[{\"type\":\"scatterpolargl\",\"marker\":{\"colorbar\":{\"outlinewidth\":0,\"ticks\":\"\"}}}],\"bar\":[{\"error_x\":{\"color\":\"#2a3f5f\"},\"error_y\":{\"color\":\"#2a3f5f\"},\"marker\":{\"line\":{\"color\":\"#E5ECF6\",\"width\":0.5},\"pattern\":{\"fillmode\":\"overlay\",\"size\":10,\"solidity\":0.2}},\"type\":\"bar\"}],\"scattergeo\":[{\"type\":\"scattergeo\",\"marker\":{\"colorbar\":{\"outlinewidth\":0,\"ticks\":\"\"}}}],\"scatterpolar\":[{\"type\":\"scatterpolar\",\"marker\":{\"colorbar\":{\"outlinewidth\":0,\"ticks\":\"\"}}}],\"histogram\":[{\"marker\":{\"pattern\":{\"fillmode\":\"overlay\",\"size\":10,\"solidity\":0.2}},\"type\":\"histogram\"}],\"scattergl\":[{\"type\":\"scattergl\",\"marker\":{\"colorbar\":{\"outlinewidth\":0,\"ticks\":\"\"}}}],\"scatter3d\":[{\"type\":\"scatter3d\",\"line\":{\"colorbar\":{\"outlinewidth\":0,\"ticks\":\"\"}},\"marker\":{\"colorbar\":{\"outlinewidth\":0,\"ticks\":\"\"}}}],\"scattermapbox\":[{\"type\":\"scattermapbox\",\"marker\":{\"colorbar\":{\"outlinewidth\":0,\"ticks\":\"\"}}}],\"scatterternary\":[{\"type\":\"scatterternary\",\"marker\":{\"colorbar\":{\"outlinewidth\":0,\"ticks\":\"\"}}}],\"scattercarpet\":[{\"type\":\"scattercarpet\",\"marker\":{\"colorbar\":{\"outlinewidth\":0,\"ticks\":\"\"}}}],\"carpet\":[{\"aaxis\":{\"endlinecolor\":\"#2a3f5f\",\"gridcolor\":\"white\",\"linecolor\":\"white\",\"minorgridcolor\":\"white\",\"startlinecolor\":\"#2a3f5f\"},\"baxis\":{\"endlinecolor\":\"#2a3f5f\",\"gridcolor\":\"white\",\"linecolor\":\"white\",\"minorgridcolor\":\"white\",\"startlinecolor\":\"#2a3f5f\"},\"type\":\"carpet\"}],\"table\":[{\"cells\":{\"fill\":{\"color\":\"#EBF0F8\"},\"line\":{\"color\":\"white\"}},\"header\":{\"fill\":{\"color\":\"#C8D4E3\"},\"line\":{\"color\":\"white\"}},\"type\":\"table\"}],\"barpolar\":[{\"marker\":{\"line\":{\"color\":\"#E5ECF6\",\"width\":0.5},\"pattern\":{\"fillmode\":\"overlay\",\"size\":10,\"solidity\":0.2}},\"type\":\"barpolar\"}],\"pie\":[{\"automargin\":true,\"type\":\"pie\"}]},\"layout\":{\"autotypenumbers\":\"strict\",\"colorway\":[\"#636efa\",\"#EF553B\",\"#00cc96\",\"#ab63fa\",\"#FFA15A\",\"#19d3f3\",\"#FF6692\",\"#B6E880\",\"#FF97FF\",\"#FECB52\"],\"font\":{\"color\":\"#2a3f5f\"},\"hovermode\":\"closest\",\"hoverlabel\":{\"align\":\"left\"},\"paper_bgcolor\":\"white\",\"plot_bgcolor\":\"#E5ECF6\",\"polar\":{\"bgcolor\":\"#E5ECF6\",\"angularaxis\":{\"gridcolor\":\"white\",\"linecolor\":\"white\",\"ticks\":\"\"},\"radialaxis\":{\"gridcolor\":\"white\",\"linecolor\":\"white\",\"ticks\":\"\"}},\"ternary\":{\"bgcolor\":\"#E5ECF6\",\"aaxis\":{\"gridcolor\":\"white\",\"linecolor\":\"white\",\"ticks\":\"\"},\"baxis\":{\"gridcolor\":\"white\",\"linecolor\":\"white\",\"ticks\":\"\"},\"caxis\":{\"gridcolor\":\"white\",\"linecolor\":\"white\",\"ticks\":\"\"}},\"coloraxis\":{\"colorbar\":{\"outlinewidth\":0,\"ticks\":\"\"}},\"colorscale\":{\"sequential\":[[0.0,\"#0d0887\"],[0.1111111111111111,\"#46039f\"],[0.2222222222222222,\"#7201a8\"],[0.3333333333333333,\"#9c179e\"],[0.4444444444444444,\"#bd3786\"],[0.5555555555555556,\"#d8576b\"],[0.6666666666666666,\"#ed7953\"],[0.7777777777777778,\"#fb9f3a\"],[0.8888888888888888,\"#fdca26\"],[1.0,\"#f0f921\"]],\"sequentialminus\":[[0.0,\"#0d0887\"],[0.1111111111111111,\"#46039f\"],[0.2222222222222222,\"#7201a8\"],[0.3333333333333333,\"#9c179e\"],[0.4444444444444444,\"#bd3786\"],[0.5555555555555556,\"#d8576b\"],[0.6666666666666666,\"#ed7953\"],[0.7777777777777778,\"#fb9f3a\"],[0.8888888888888888,\"#fdca26\"],[1.0,\"#f0f921\"]],\"diverging\":[[0,\"#8e0152\"],[0.1,\"#c51b7d\"],[0.2,\"#de77ae\"],[0.3,\"#f1b6da\"],[0.4,\"#fde0ef\"],[0.5,\"#f7f7f7\"],[0.6,\"#e6f5d0\"],[0.7,\"#b8e186\"],[0.8,\"#7fbc41\"],[0.9,\"#4d9221\"],[1,\"#276419\"]]},\"xaxis\":{\"gridcolor\":\"white\",\"linecolor\":\"white\",\"ticks\":\"\",\"title\":{\"standoff\":15},\"zerolinecolor\":\"white\",\"automargin\":true,\"zerolinewidth\":2},\"yaxis\":{\"gridcolor\":\"white\",\"linecolor\":\"white\",\"ticks\":\"\",\"title\":{\"standoff\":15},\"zerolinecolor\":\"white\",\"automargin\":true,\"zerolinewidth\":2},\"scene\":{\"xaxis\":{\"backgroundcolor\":\"#E5ECF6\",\"gridcolor\":\"white\",\"linecolor\":\"white\",\"showbackground\":true,\"ticks\":\"\",\"zerolinecolor\":\"white\",\"gridwidth\":2},\"yaxis\":{\"backgroundcolor\":\"#E5ECF6\",\"gridcolor\":\"white\",\"linecolor\":\"white\",\"showbackground\":true,\"ticks\":\"\",\"zerolinecolor\":\"white\",\"gridwidth\":2},\"zaxis\":{\"backgroundcolor\":\"#E5ECF6\",\"gridcolor\":\"white\",\"linecolor\":\"white\",\"showbackground\":true,\"ticks\":\"\",\"zerolinecolor\":\"white\",\"gridwidth\":2}},\"shapedefaults\":{\"line\":{\"color\":\"#2a3f5f\"}},\"annotationdefaults\":{\"arrowcolor\":\"#2a3f5f\",\"arrowhead\":0,\"arrowwidth\":1},\"geo\":{\"bgcolor\":\"white\",\"landcolor\":\"#E5ECF6\",\"subunitcolor\":\"white\",\"showland\":true,\"showlakes\":true,\"lakecolor\":\"white\"},\"title\":{\"x\":0.05},\"mapbox\":{\"style\":\"light\"}}},\"xaxis\":{\"anchor\":\"y\",\"domain\":[0.0,1.0],\"title\":{\"text\":\"Topic\"}},\"yaxis\":{\"anchor\":\"x\",\"domain\":[0.0,1.0],\"title\":{\"text\":\"Documents\"}},\"legend\":{\"tracegroupgap\":0},\"title\":{\"text\":\"Document Distribution by Topics\"},\"barmode\":\"relative\"},                        {\"responsive\": true}                    ).then(function(){\n",
       "                            \n",
       "var gd = document.getElementById('57a05788-103e-459c-aa90-2fe6e87bea5c');\n",
       "var x = new MutationObserver(function (mutations, observer) {{\n",
       "        var display = window.getComputedStyle(gd).display;\n",
       "        if (!display || display === 'none') {{\n",
       "            console.log([gd, 'removed!']);\n",
       "            Plotly.purge(gd);\n",
       "            observer.disconnect();\n",
       "        }}\n",
       "}});\n",
       "\n",
       "// Listen for the removal of the full notebook cells\n",
       "var notebookContainer = gd.closest('#notebook-container');\n",
       "if (notebookContainer) {{\n",
       "    x.observe(notebookContainer, {childList: true});\n",
       "}}\n",
       "\n",
       "// Listen for the clearing of the current output cell\n",
       "var outputEl = gd.closest('.output');\n",
       "if (outputEl) {{\n",
       "    x.observe(outputEl, {childList: true});\n",
       "}}\n",
       "\n",
       "                        })                };                });            </script>        </div>"
      ]
     },
     "metadata": {},
     "output_type": "display_data"
    }
   ],
   "source": [
    "# Topic distribution \n",
    "plot_model(lda, plot = 'topic_distribution')"
   ]
  },
  {
   "cell_type": "code",
   "execution_count": 15,
   "metadata": {},
   "outputs": [
    {
     "data": {
      "text/html": [
       "        <script type=\"text/javascript\">\n",
       "        window.PlotlyConfig = {MathJaxConfig: 'local'};\n",
       "        if (window.MathJax && window.MathJax.Hub && window.MathJax.Hub.Config) {window.MathJax.Hub.Config({SVG: {font: \"STIX-Web\"}});}\n",
       "        if (typeof require !== 'undefined') {\n",
       "        require.undef(\"plotly\");\n",
       "        requirejs.config({\n",
       "            paths: {\n",
       "                'plotly': ['https://cdn.plot.ly/plotly-2.14.0.min']\n",
       "            }\n",
       "        });\n",
       "        require(['plotly'], function(Plotly) {\n",
       "            window._Plotly = Plotly;\n",
       "        });\n",
       "        }\n",
       "        </script>\n",
       "        "
      ]
     },
     "metadata": {},
     "output_type": "display_data"
    },
    {
     "data": {
      "application/vnd.plotly.v1+json": {
       "config": {
        "plotlyServerURL": "https://plot.ly"
       },
       "data": [
        {
         "hovertemplate": "Dominant_Topic=Topic 0<br>0=%{x}<br>1=%{y}<br>2=%{z}<extra></extra>",
         "legendgroup": "Topic 0",
         "marker": {
          "color": "#636efa",
          "opacity": 0.7,
          "symbol": "circle"
         },
         "mode": "markers",
         "name": "Topic 0",
         "scene": "scene",
         "showlegend": true,
         "type": "scatter3d",
         "x": [
          7.579199314117432,
          3.37284779548645,
          5.68011474609375,
          9.487516403198242,
          7.732166290283203,
          9.082018852233887,
          7.79958438873291,
          4.790989398956299,
          7.172554969787598,
          2.7615396976470947,
          6.66597843170166,
          5.542492866516113,
          8.051039695739746,
          11.559619903564453,
          11.0430908203125,
          7.160377502441406,
          11.805283546447754,
          5.4241156578063965,
          13.266705513000488,
          7.4281134605407715,
          10.514398574829102,
          13.361955642700195,
          13.51163101196289,
          10.186737060546875,
          12.285367012023926,
          8.000534057617188,
          9.393192291259766,
          11.919785499572754,
          7.229020595550537,
          8.5401611328125,
          7.515524864196777,
          4.485204219818115,
          8.701498031616211,
          7.975204944610596,
          5.248958110809326,
          7.531416416168213,
          8.583169937133789,
          11.808133125305176,
          4.084376335144043,
          5.454556941986084,
          9.641318321228027,
          12.50059986114502,
          8.697175979614258,
          13.518272399902344,
          6.230632305145264,
          7.765735626220703,
          8.75070858001709,
          4.295027256011963,
          5.550897598266602,
          5.399494171142578,
          12.566183090209961,
          5.542020797729492,
          6.297569274902344,
          8.38274097442627,
          5.469715595245361,
          4.055026531219482,
          9.726777076721191,
          7.134625434875488,
          4.221401691436768,
          13.467845916748047,
          2.0873007774353027,
          8.019294738769531,
          3.8002712726593018,
          4.557825565338135,
          6.449561595916748,
          6.467480659484863,
          8.7146635055542,
          8.72119140625,
          12.5106782913208,
          7.620549201965332,
          7.765718936920166,
          4.58780574798584,
          6.91370153427124,
          8.073832511901855,
          9.710148811340332,
          8.929506301879883,
          2.5677907466888428,
          10.940469741821289,
          3.994833469390869,
          10.870943069458008,
          11.243064880371094,
          8.553802490234375,
          13.16997241973877,
          2.0206856727600098,
          7.734633445739746,
          3.1221401691436768,
          4.285682201385498,
          2.1244451999664307,
          5.327012538909912,
          1.634812355041504,
          10.788246154785156,
          2.093005418777466,
          12.107583999633789,
          5.578404903411865,
          12.488970756530762,
          7.5436201095581055,
          3.031686305999756,
          8.667679786682129,
          13.700234413146973,
          8.546525001525879,
          7.108307361602783,
          7.62910270690918,
          4.884933948516846,
          9.45396614074707,
          4.666114330291748,
          2.8874690532684326,
          7.9389967918396,
          6.112016677856445,
          2.008075475692749,
          3.859522819519043,
          4.490859508514404,
          5.615206241607666,
          8.173073768615723,
          2.738417863845825,
          5.713164329528809,
          9.533160209655762,
          8.528876304626465,
          6.026740074157715,
          8.57855224609375,
          4.167001724243164,
          4.1753315925598145,
          8.599451065063477,
          10.273396492004395,
          9.246994018554688,
          13.673039436340332,
          5.212493419647217,
          9.244876861572266,
          1.8371676206588745,
          9.039794921875,
          5.404515266418457,
          6.1136474609375,
          10.212282180786133,
          13.27561092376709,
          13.497400283813477,
          4.97487211227417,
          11.548025131225586,
          6.83480167388916,
          4.539875030517578,
          3.931293249130249,
          10.562833786010742,
          3.4491562843322754,
          5.9609174728393555,
          7.964402198791504,
          2.9799373149871826,
          8.97907829284668,
          10.850946426391602,
          13.231104850769043,
          7.586586952209473,
          6.524044990539551,
          5.560270309448242,
          4.054203510284424,
          11.975137710571289,
          9.30342960357666,
          10.916017532348633,
          9.59044361114502,
          13.469656944274902,
          10.875899314880371,
          7.745437145233154,
          6.213610649108887,
          2.96065616607666,
          8.140787124633789,
          8.347159385681152,
          10.180624008178711,
          12.425747871398926,
          4.681065559387207,
          7.976136207580566,
          3.8474771976470947,
          10.3858060836792,
          7.417440414428711,
          6.151698589324951,
          7.120973110198975,
          10.609563827514648,
          4.494067668914795,
          1.7100409269332886,
          13.489360809326172,
          6.042540550231934,
          9.037368774414062,
          8.844646453857422,
          13.487038612365723,
          6.528175354003906,
          8.381420135498047,
          13.795952796936035,
          3.955571413040161,
          3.8717522621154785,
          3.49360990524292,
          3.6211092472076416,
          2.2126662731170654,
          12.919098854064941,
          6.276617527008057,
          11.00935173034668,
          1.6257356405258179,
          8.177750587463379,
          4.064914703369141,
          13.090903282165527,
          13.129853248596191,
          6.11564302444458,
          5.11578893661499,
          10.758478164672852,
          12.656712532043457,
          5.4308085441589355,
          10.630695343017578,
          5.295968055725098,
          7.666172504425049,
          9.95991325378418,
          2.4718759059906006,
          10.310294151306152,
          1.8561064004898071,
          10.892393112182617,
          11.573899269104004,
          7.791909694671631,
          12.664328575134277,
          5.73557186126709
         ],
         "y": [
          1.3015565872192383,
          -2.67321515083313,
          -1.7623261213302612,
          5.656711578369141,
          0.5431775450706482,
          5.337421894073486,
          0.656022310256958,
          2.693990707397461,
          4.528730869293213,
          -0.44287893176078796,
          1.871545433998108,
          -2.5128421783447266,
          0.7721837759017944,
          5.4678425788879395,
          5.589020729064941,
          3.1982409954071045,
          4.073093414306641,
          3.1648669242858887,
          4.3222880363464355,
          1.782455563545227,
          5.563452243804932,
          5.187906265258789,
          5.057662010192871,
          5.673173904418945,
          4.28409481048584,
          5.06572961807251,
          1.2182422876358032,
          5.426715850830078,
          4.576820373535156,
          5.2514328956604,
          3.1379690170288086,
          2.3476603031158447,
          5.490304470062256,
          5.070244312286377,
          -0.9796298742294312,
          -1.594423770904541,
          5.3982930183410645,
          4.302454471588135,
          -1.0862516164779663,
          -0.7263524532318115,
          1.3880287408828735,
          5.316555976867676,
          5.533358097076416,
          5.038458824157715,
          3.8865408897399902,
          3.7864937782287598,
          5.542749404907227,
          0.7812755107879639,
          -0.48821350932121277,
          -2.77583909034729,
          5.329348564147949,
          2.783778429031372,
          -0.9055356979370117,
          0.16368608176708221,
          -3.3278660774230957,
          -1.5514451265335083,
          1.857079267501831,
          -0.3016137182712555,
          -1.400646686553955,
          4.853506088256836,
          0.6166096329689026,
          0.5110202431678772,
          1.7770849466323853,
          0.061937958002090454,
          4.0344953536987305,
          0.8129444122314453,
          -0.7205458879470825,
          0.6357197761535645,
          5.08338737487793,
          0.6718724966049194,
          1.6209642887115479,
          3.125068426132202,
          4.152785301208496,
          -0.8179380297660828,
          5.242421627044678,
          5.581991195678711,
          -1.2278443574905396,
          3.409728527069092,
          0.5099310278892517,
          1.8748040199279785,
          5.2892608642578125,
          5.426485538482666,
          5.001011371612549,
          0.5375542044639587,
          -0.7186516523361206,
          0.638393759727478,
          -1.8235793113708496,
          0.64398592710495,
          3.1361680030822754,
          0.2550352215766907,
          1.861098289489746,
          0.6082278490066528,
          5.054444789886475,
          2.9342153072357178,
          5.345454692840576,
          -1.185098648071289,
          1.2694904804229736,
          -0.8907355070114136,
          4.898807525634766,
          5.429749965667725,
          -1.0455302000045776,
          -1.0807521343231201,
          2.6963744163513184,
          5.6699910163879395,
          2.526236057281494,
          1.0749809741973877,
          5.027988910675049,
          1.2287508249282837,
          0.5817959308624268,
          -1.9298975467681885,
          0.536309003829956,
          2.4803450107574463,
          -1.462111234664917,
          1.0706790685653687,
          0.3960120677947998,
          1.41831374168396,
          5.0752997398376465,
          -1.3455626964569092,
          5.2751264572143555,
          1.2465875148773193,
          0.5780335068702698,
          -0.7744216918945312,
          5.678515911102295,
          0.3591451346874237,
          4.928950786590576,
          -3.2522823810577393,
          0.40144312381744385,
          0.3111240565776825,
          0.974055290222168,
          0.207845538854599,
          3.7819454669952393,
          5.668374061584473,
          5.2150397300720215,
          3.740891933441162,
          -1.9033702611923218,
          5.478074550628662,
          4.25732421875,
          1.1343222856521606,
          -0.8242868185043335,
          1.6245014667510986,
          0.5101756453514099,
          3.530364513397217,
          0.6278467178344727,
          0.27135154604911804,
          1.4202767610549927,
          5.357966899871826,
          4.844407558441162,
          1.853880524635315,
          0.6494191884994507,
          -1.7596136331558228,
          1.6026562452316284,
          5.216844081878662,
          0.847078263759613,
          5.520353317260742,
          5.6683549880981445,
          3.839740037918091,
          1.8857837915420532,
          4.883542060852051,
          1.1366931200027466,
          1.2253398895263672,
          -1.0228830575942993,
          -1.5100785493850708,
          1.9528971910476685,
          5.290626049041748,
          2.5436506271362305,
          3.283860206604004,
          1.8767187595367432,
          5.647449970245361,
          3.8865623474121094,
          -4.08577299118042,
          2.402204751968384,
          2.447939157485962,
          -1.2142720222473145,
          0.37773749232292175,
          5.0792012214660645,
          3.4697937965393066,
          -0.3014620542526245,
          4.795260906219482,
          3.803809642791748,
          4.099717617034912,
          -1.1714787483215332,
          4.848557472229004,
          -1.4267784357070923,
          1.9114811420440674,
          -3.0568981170654297,
          -1.3198262453079224,
          0.7052085995674133,
          5.271387100219727,
          1.444474220275879,
          5.575656890869141,
          0.2847650349140167,
          5.223779201507568,
          -1.7389971017837524,
          5.243271827697754,
          4.258109092712402,
          3.658480644226074,
          0.21018807590007782,
          5.641539096832275,
          5.319962024688721,
          -1.734571099281311,
          1.7390398979187012,
          3.1296722888946533,
          -0.2794440686702728,
          2.1806538105010986,
          0.8230777978897095,
          2.692582130432129,
          0.4735705256462097,
          1.8941686153411865,
          4.941701412200928,
          -1.0777863264083862,
          3.7905142307281494,
          -0.3609166741371155
         ],
         "z": [
          3.847172260284424,
          3.291592597961426,
          2.8767008781433105,
          5.098117351531982,
          3.233527898788452,
          5.093807220458984,
          3.2661099433898926,
          6.848045349121094,
          6.136956691741943,
          5.859631538391113,
          4.861749649047852,
          2.408825397491455,
          3.1770124435424805,
          3.5859344005584717,
          3.9985101222991943,
          5.844729423522949,
          2.6660239696502686,
          6.6469550132751465,
          1.72135591506958,
          4.270794868469238,
          4.323934078216553,
          2.1416893005371094,
          1.9518619775772095,
          4.616452217102051,
          2.4542853832244873,
          5.843660831451416,
          2.5655598640441895,
          3.318098545074463,
          6.1203107833862305,
          5.498783111572266,
          5.023527145385742,
          6.836143970489502,
          5.571780204772949,
          5.865796089172363,
          3.7165181636810303,
          1.9305992126464844,
          5.6078362464904785,
          2.793928384780884,
          4.345487117767334,
          3.7858922481536865,
          2.506338596343994,
          2.8624775409698486,
          5.618208408355713,
          1.9418301582336426,
          6.478789806365967,
          6.186953067779541,
          5.576676845550537,
          5.798197269439697,
          3.905555486679077,
          2.2941384315490723,
          2.821096658706665,
          6.263370037078857,
          3.1354830265045166,
          2.558204174041748,
          1.8635599613189697,
          3.9593043327331543,
          2.739863634109497,
          3.0408387184143066,
          3.992501974105835,
          1.9231771230697632,
          7.710992336273193,
          3.0233407020568848,
          7.057773590087891,
          5.010432720184326,
          6.399083614349365,
          4.248760223388672,
          1.7705533504486084,
          2.643371343612671,
          2.7518606185913086,
          3.3938372135162354,
          3.9340860843658447,
          5.546834945678711,
          6.140622138977051,
          2.1105258464813232,
          4.576923370361328,
          5.4543375968933105,
          5.145883083343506,
          2.85284423828125,
          5.827441692352295,
          1.9938287734985352,
          3.7058491706848145,
          5.6570210456848145,
          2.2496163845062256,
          7.685714244842529,
          2.386284828186035,
          6.729325294494629,
          3.592186450958252,
          7.706885814666748,
          6.71848726272583,
          7.706422328948975,
          2.041712999343872,
          7.69327449798584,
          3.015198230743408,
          6.349081039428711,
          2.8826801776885986,
          2.1894938945770264,
          7.398528575897217,
          1.689763069152832,
          1.6852951049804688,
          5.665020942687988,
          2.543940544128418,
          2.208466053009033,
          6.734975337982178,
          5.130021095275879,
          6.809296131134033,
          7.370094299316406,
          5.870827674865723,
          4.782566070556641,
          7.7462477684021,
          3.7232906818389893,
          5.453317642211914,
          5.995715618133545,
          1.6252014636993408,
          7.517206192016602,
          4.456641674041748,
          2.5974581241607666,
          5.336727619171143,
          2.9785892963409424,
          5.470246315002441,
          6.267655372619629,
          5.735821723937988,
          1.808798909187317,
          4.564108848571777,
          2.119441509246826,
          1.7296745777130127,
          2.040487051010132,
          2.1479344367980957,
          7.5909881591796875,
          2.6465349197387695,
          4.531304836273193,
          6.5088396072387695,
          4.5973663330078125,
          2.2293002605438232,
          3.9116411209106445,
          3.161837577819824,
          3.5990772247314453,
          6.242892742156982,
          5.854844093322754,
          4.672662734985352,
          2.045320987701416,
          6.298493385314941,
          6.476036548614502,
          3.1401138305664062,
          6.481226444244385,
          2.9734575748443604,
          3.992863893508911,
          2.126760959625244,
          4.2079901695251465,
          4.094640731811523,
          2.947503089904785,
          6.659810543060303,
          3.179494619369507,
          2.3897392749786377,
          4.045379638671875,
          5.0327067375183105,
          3.7979793548583984,
          1.998045802116394,
          5.930016040802002,
          4.648965358734131,
          7.431593418121338,
          1.9338738918304443,
          1.4828628301620483,
          2.5020592212677,
          2.9043993949890137,
          6.811458110809326,
          6.331390380859375,
          7.095473766326904,
          4.466989517211914,
          5.535175800323486,
          0.975104033946991,
          4.90960693359375,
          2.5504074096679688,
          3.984344244003296,
          7.790687084197998,
          1.9836101531982422,
          6.382418155670166,
          1.8334907293319702,
          4.818231105804443,
          3.8331429958343506,
          6.373184680938721,
          1.6869306564331055,
          1.561286211013794,
          4.128325462341309,
          7.101871967315674,
          2.9302637577056885,
          4.4255571365356445,
          7.684957027435303,
          2.540003776550293,
          4.822535037994385,
          4.013927936553955,
          7.7524309158325195,
          5.815752983093262,
          3.7865612506866455,
          2.3981235027313232,
          1.7983155250549316,
          6.4416022300720215,
          4.7369303703308105,
          4.218855857849121,
          2.7518653869628906,
          3.039790630340576,
          2.070847511291504,
          6.744377136230469,
          2.723334312438965,
          2.7799487113952637,
          7.56182861328125,
          2.8520896434783936,
          7.7704572677612305,
          1.9917770624160767,
          3.302863359451294,
          2.11234188079834,
          1.8545011281967163,
          3.883089303970337
         ]
        },
        {
         "hovertemplate": "Dominant_Topic=Topic 1<br>0=%{x}<br>1=%{y}<br>2=%{z}<extra></extra>",
         "legendgroup": "Topic 1",
         "marker": {
          "color": "#EF553B",
          "opacity": 0.7,
          "symbol": "circle"
         },
         "mode": "markers",
         "name": "Topic 1",
         "scene": "scene",
         "showlegend": true,
         "type": "scatter3d",
         "x": [
          -10.196356773376465,
          -10.399104118347168,
          -11.524807929992676,
          0.5963827967643738,
          -6.803869247436523,
          4.0384440422058105,
          -5.474599838256836,
          -11.318812370300293,
          -3.9648380279541016,
          -2.7931180000305176,
          -7.448545455932617,
          -11.168867111206055,
          -7.521487236022949,
          7.130829334259033,
          -10.264557838439941,
          -9.963350296020508,
          -6.749440670013428,
          -5.328937530517578,
          -7.0157012939453125,
          -7.7112016677856445,
          -11.133661270141602,
          1.864140272140503,
          1.7849656343460083,
          -3.3835864067077637,
          -10.478139877319336,
          -9.846433639526367,
          -9.381271362304688,
          7.232934474945068,
          -8.832600593566895,
          -9.76848030090332,
          5.866791248321533,
          -11.198385238647461,
          -9.620413780212402,
          -11.454644203186035,
          -10.203619956970215,
          -5.089386463165283,
          -8.21387767791748,
          -5.7897419929504395,
          -2.883648633956909,
          -10.442008972167969,
          -10.759589195251465,
          -0.7873730659484863,
          -11.285699844360352,
          -10.404306411743164,
          -9.318913459777832,
          -4.021472454071045,
          2.453740358352661,
          -11.257547378540039,
          -9.50696849822998,
          -10.954439163208008,
          -10.172754287719727,
          -10.226263046264648,
          5.881716251373291,
          -10.166589736938477,
          -9.723475456237793,
          -1.209328532218933,
          -2.8880746364593506,
          -11.3711576461792,
          -8.342708587646484,
          -8.538474082946777,
          -5.880614757537842,
          -6.250132083892822,
          -1.252278447151184,
          -11.413627624511719,
          -5.293342590332031,
          4.089064121246338,
          -11.126446723937988,
          1.1379637718200684,
          0.5111035108566284,
          -7.280144214630127,
          -9.08043098449707,
          -5.381155490875244,
          0.7066473960876465,
          -9.61133098602295,
          3.0963995456695557,
          3.449349880218506,
          -10.52782917022705,
          -10.55892276763916,
          -7.2603535652160645,
          -9.81340503692627,
          6.94319486618042,
          -9.658393859863281,
          -5.9129180908203125,
          2.970548629760742,
          -5.106597900390625,
          3.5810234546661377,
          -11.452665328979492,
          -7.520514011383057,
          0.9389408230781555,
          -10.449508666992188,
          0.00018337613437324762,
          -5.510964393615723,
          -10.265413284301758,
          4.547256946563721,
          -11.177587509155273,
          -10.497567176818848,
          -10.365897178649902,
          -4.34128475189209,
          -3.2304859161376953,
          1.8064889907836914,
          -8.903602600097656,
          -6.502893924713135,
          -9.656885147094727,
          -11.452779769897461,
          -8.7621431350708,
          -8.295966148376465,
          7.5849480628967285,
          -10.165704727172852,
          -10.038175582885742,
          -9.549139976501465,
          -9.754654884338379,
          -11.400752067565918,
          -10.483824729919434,
          -11.51688003540039,
          -2.7727530002593994,
          1.1215949058532715,
          -6.566849708557129,
          -8.06439208984375,
          6.692225933074951,
          -5.965500354766846,
          -10.405985832214355,
          1.9376071691513062,
          -8.588549613952637,
          -7.059396743774414,
          -9.430329322814941,
          -8.750725746154785,
          -4.872340679168701,
          -10.476350784301758,
          -5.840439319610596,
          -9.850624084472656,
          -3.2938578128814697,
          -5.882588863372803,
          -7.229377746582031,
          -2.2972710132598877,
          -10.465137481689453,
          -6.761260032653809,
          -4.672107696533203,
          6.936166763305664,
          -11.512113571166992,
          -10.466100692749023,
          -10.743694305419922,
          -10.076431274414062,
          -0.1984674334526062,
          -8.452917098999023,
          -7.390456676483154,
          -8.356986045837402,
          7.273396968841553,
          0.4885978102684021,
          7.759851932525635,
          -8.172699928283691,
          -1.8636387586593628,
          7.823904037475586,
          9.667359352111816,
          -8.944880485534668,
          -7.465524673461914,
          -7.074113845825195,
          1.9475955963134766,
          -10.835442543029785,
          -0.11643748730421066,
          -8.657140731811523,
          -2.757915735244751,
          -10.373488426208496,
          -1.353946566581726,
          -8.846907615661621,
          -3.6619739532470703,
          1.2688517570495605,
          9.03696060180664,
          -9.548502922058105,
          -2.5871801376342773,
          -0.2056797742843628,
          -10.939518928527832,
          -2.85786509513855,
          -5.745369911193848,
          -9.397177696228027,
          -6.615365505218506,
          4.387779712677002,
          -11.328808784484863,
          -9.627181053161621,
          1.4663759469985962,
          -6.272877216339111,
          -6.671735763549805,
          -9.911205291748047,
          -10.015931129455566,
          -9.659255027770996,
          0.9996762871742249,
          -9.642436027526855,
          -0.7218955159187317,
          -10.434374809265137,
          -1.2210971117019653,
          8.574091911315918,
          -4.137729644775391,
          -11.309669494628906,
          -10.0305814743042,
          0.9882866740226746,
          -10.279112815856934,
          -7.330111503601074,
          9.615028381347656,
          -0.19070963561534882,
          -8.100193977355957,
          -9.885610580444336,
          -10.293956756591797,
          -11.480587005615234,
          -3.358457326889038,
          1.0639615058898926,
          -8.683515548706055,
          -5.718672752380371,
          -11.366305351257324,
          8.842245101928711,
          -9.902698516845703,
          -8.847101211547852,
          -4.038784980773926,
          -10.559832572937012,
          1.4840681552886963,
          4.824965953826904,
          -10.226608276367188,
          -3.9093406200408936,
          0.5390204191207886,
          -0.05932808667421341,
          -0.052658889442682266,
          -9.96730899810791,
          -11.508852005004883,
          -2.7979962825775146,
          9.236695289611816,
          -10.228273391723633,
          -6.564524173736572,
          -3.75396990776062,
          -10.454510688781738,
          -6.576653957366943,
          9.634197235107422,
          -10.062424659729004,
          -11.525988578796387,
          -5.577596664428711,
          -7.745561122894287,
          -6.753006935119629,
          -8.566946029663086,
          -6.9538726806640625,
          -5.649406909942627,
          -3.416254997253418,
          -4.3597412109375,
          -11.51607608795166,
          -10.445942878723145,
          -11.174408912658691,
          -7.32205057144165,
          -3.8815736770629883,
          -7.637430191040039,
          -2.16975474357605,
          0.8544985055923462,
          -9.487288475036621,
          -1.3102729320526123,
          -3.674548387527466,
          0.8906310796737671,
          8.364445686340332,
          1.5642626285552979,
          -9.847204208374023,
          -9.458194732666016,
          -7.541804313659668,
          -9.149048805236816,
          -4.481800556182861,
          -8.783184051513672,
          -10.214162826538086,
          -0.025106796994805336,
          -10.77820110321045,
          -9.836522102355957,
          0.4177757203578949,
          -6.723724365234375,
          -2.3694727420806885,
          -1.6881436109542847,
          -2.041444778442383,
          -4.541150093078613,
          -4.311527252197266,
          -5.367956161499023,
          -0.17102497816085815,
          -11.425311088562012,
          -9.693763732910156,
          -2.335099220275879,
          -10.565417289733887,
          -7.9393486976623535,
          8.780157089233398,
          -10.224549293518066,
          -2.83280086517334,
          -11.049947738647461,
          -8.711824417114258,
          9.65893268585205,
          -10.011029243469238,
          8.671585083007812,
          3.0625076293945312,
          -10.415626525878906,
          -0.6438295245170593,
          -6.1857757568359375,
          6.147023677825928,
          -10.564573287963867,
          0.0015143707860261202,
          -9.322105407714844,
          -9.644464492797852,
          -9.643060684204102,
          -10.007887840270996,
          -11.24902057647705,
          -8.34415054321289,
          -3.22404408454895,
          -7.83303165435791,
          -10.739559173583984,
          -5.2035651206970215,
          -6.801752090454102,
          -2.8421943187713623,
          -6.092550277709961,
          -11.457351684570312,
          -9.955241203308105,
          -2.434027671813965,
          -1.0036238431930542,
          1.662623643875122,
          -0.11545732617378235,
          1.926816701889038,
          -8.705183029174805,
          -6.36092472076416,
          -5.272369861602783,
          -10.905806541442871,
          -4.7364583015441895,
          -10.410628318786621,
          6.388206481933594,
          -9.989426612854004,
          4.356334209442139,
          4.96197509765625,
          -8.80620288848877,
          -10.968066215515137,
          -0.04976983740925789,
          -6.251756191253662,
          -0.8910473585128784,
          -10.418635368347168,
          3.266136407852173,
          0.4594457745552063,
          -11.335846900939941,
          -11.433358192443848,
          -4.781134605407715,
          2.4768214225769043,
          -5.205361366271973,
          -6.192259788513184,
          -11.171380996704102,
          3.1406874656677246,
          -1.4649872779846191,
          -11.519242286682129,
          -5.4093499183654785,
          -3.7465202808380127,
          -3.283228874206543,
          -2.934715509414673,
          -9.856276512145996,
          -9.790078163146973,
          -9.35401439666748,
          -11.432608604431152,
          -10.214395523071289,
          3.953899383544922,
          -0.5054385662078857,
          -4.815046310424805,
          -6.966056823730469,
          -8.70447826385498,
          -10.473814010620117,
          -3.239957094192505,
          7.525698661804199,
          0.33884018659591675,
          -5.364263534545898,
          9.040995597839355,
          -11.287455558776855,
          -10.403959274291992,
          -9.14454174041748,
          5.157710552215576,
          0.8491592407226562,
          5.218806743621826,
          -11.342456817626953,
          -6.704950332641602,
          8.66608715057373,
          6.393531799316406,
          -11.49362850189209,
          9.21174144744873,
          -9.745288848876953,
          -6.665555953979492,
          -1.7047754526138306,
          9.550936698913574,
          5.379639625549316,
          5.784906387329102,
          -11.059356689453125,
          -7.630173683166504,
          -6.2455668449401855,
          -10.097821235656738,
          -10.244897842407227,
          -5.447000026702881,
          -10.522835731506348,
          -9.060702323913574,
          -1.9986270666122437,
          -8.83800220489502,
          -11.505560874938965,
          -11.30176067352295,
          -3.7974109649658203,
          -2.1955699920654297,
          -10.458361625671387,
          6.690957546234131,
          -0.8010523915290833,
          4.532260417938232,
          -4.318317890167236,
          -0.44128963351249695,
          -10.137571334838867,
          -11.452709197998047,
          -7.656103610992432,
          -9.736944198608398,
          4.413798809051514,
          0.040872372686862946,
          -7.131559371948242,
          -9.453180313110352,
          -10.285541534423828,
          -1.1610674858093262,
          -0.5552217960357666,
          -9.477106094360352,
          -6.189695835113525,
          -10.473950386047363,
          0.35970380902290344,
          -9.096346855163574,
          -9.856508255004883,
          -5.379203796386719,
          -0.04729427397251129,
          -4.811491966247559,
          -4.911274433135986,
          -7.140966415405273,
          8.447519302368164,
          -6.15421724319458,
          -10.181217193603516,
          -5.7441630363464355,
          -11.306029319763184,
          3.785367727279663,
          1.5064462423324585,
          -3.224982976913452,
          -6.2425537109375,
          -11.528657913208008,
          -8.740264892578125,
          1.9716267585754395,
          -0.7923929691314697,
          -11.514331817626953,
          -10.12356948852539,
          -7.3391337394714355,
          -11.502527236938477,
          3.5270559787750244,
          -6.693665981292725,
          -10.972448348999023,
          -10.08891487121582,
          -10.655805587768555,
          -10.264199256896973,
          0.3864715099334717,
          4.286341667175293,
          1.3890661001205444,
          0.5456072092056274,
          -9.846238136291504,
          -2.115823268890381,
          -10.612530708312988,
          -6.797216415405273,
          -4.513490676879883,
          -0.355198472738266,
          -3.4097204208374023,
          -6.981417179107666,
          -11.434091567993164,
          1.8166180849075317,
          -2.8035426139831543,
          9.300271987915039,
          -10.746939659118652,
          -7.284584045410156,
          -8.360257148742676,
          -7.492534637451172,
          5.222354412078857,
          -2.0244674682617188,
          -10.194601058959961,
          -3.8072991371154785,
          -5.121280193328857,
          -6.040911674499512,
          -10.520068168640137,
          -6.646889686584473,
          8.033866882324219,
          -9.143216133117676,
          0.8870683312416077,
          -1.9321837425231934,
          8.247624397277832,
          -8.925636291503906,
          -11.461092948913574,
          -9.61661434173584,
          -10.954668998718262,
          -6.498261451721191,
          2.99556303024292,
          -10.469133377075195,
          -4.71103048324585,
          6.923407554626465,
          -1.517317295074463,
          7.48184061050415,
          -11.503717422485352,
          -10.97113037109375,
          -9.458101272583008,
          -11.16166877746582,
          3.841047763824463,
          -10.7339448928833,
          -8.62101936340332,
          -11.223820686340332,
          -11.25423812866211,
          -7.049089431762695,
          -6.6195454597473145,
          -9.955048561096191,
          -6.657332897186279,
          -3.8720831871032715,
          -3.8653879165649414,
          -10.278244972229004,
          -6.7377471923828125,
          0.7699525952339172,
          -9.636754989624023,
          -9.45673942565918,
          -7.8898186683654785,
          -11.504661560058594,
          9.482276916503906,
          -6.284698486328125,
          1.9266014099121094,
          8.913382530212402,
          -10.241189002990723,
          -8.313078880310059,
          -7.738323211669922,
          -1.8591798543930054,
          -8.490438461303711,
          6.185313701629639,
          1.0446221828460693,
          0.9487224817276001,
          4.850288391113281,
          -0.21652351319789886,
          -10.448448181152344,
          -9.599925994873047,
          -6.758340835571289,
          -0.4826125502586365,
          -6.774994373321533,
          -5.388084888458252,
          -2.0299835205078125,
          -0.5847355127334595,
          -10.014619827270508,
          -8.988810539245605,
          -10.708272933959961,
          -10.766374588012695,
          9.663455963134766,
          -11.155983924865723,
          -7.744568824768066,
          -7.22971248626709,
          1.1589616537094116,
          -2.106039047241211,
          -11.5062837600708,
          6.920128345489502,
          -8.035292625427246,
          -9.98449420928955,
          -10.448189735412598,
          5.8428053855896,
          -3.4842991828918457,
          -8.770381927490234,
          -9.98241138458252,
          6.719481945037842,
          -9.23557186126709,
          -8.096351623535156,
          -10.490814208984375,
          -8.485967636108398,
          -9.788985252380371,
          -4.433142185211182,
          -9.672260284423828,
          6.68823766708374,
          8.713215827941895,
          -11.014431953430176,
          0.1008031889796257,
          -2.181060552597046,
          -1.7994672060012817
         ],
         "y": [
          -0.19566379487514496,
          2.144397497177124,
          6.066932678222656,
          -0.8781429529190063,
          -4.484827518463135,
          3.6649057865142822,
          -4.719390392303467,
          7.305355072021484,
          8.402838706970215,
          7.997589588165283,
          -2.858264446258545,
          3.4927690029144287,
          -2.267448902130127,
          0.7282522320747375,
          2.9194517135620117,
          1.7355401515960693,
          -3.0961222648620605,
          -0.27016377449035645,
          0.344150185585022,
          -2.7395107746124268,
          3.423240900039673,
          5.296421051025391,
          -3.4394683837890625,
          -0.8420420289039612,
          1.6623895168304443,
          9.159199714660645,
          -1.7511097192764282,
          0.6116965413093567,
          1.2834113836288452,
          -1.2780157327651978,
          2.0119590759277344,
          3.564885377883911,
          9.173384666442871,
          6.8228583335876465,
          9.199651718139648,
          -0.3533748984336853,
          0.932573139667511,
          -3.2022500038146973,
          8.069080352783203,
          2.5144550800323486,
          2.887298107147217,
          -4.560647964477539,
          7.646623611450195,
          2.9304428100585938,
          7.642619609832764,
          8.451090812683105,
          4.87558650970459,
          7.671572685241699,
          9.09954833984375,
          9.717449188232422,
          -0.27532124519348145,
          3.5654585361480713,
          1.9972236156463623,
          -0.3693515658378601,
          1.366175889968872,
          -3.1792383193969727,
          -0.9096624255180359,
          7.0022077560424805,
          -1.0967100858688354,
          1.0975936651229858,
          9.378491401672363,
          -4.529126167297363,
          -5.461313724517822,
          7.019512176513672,
          -0.8149818778038025,
          3.6248881816864014,
          8.097710609436035,
          -0.005603152792900801,
          -2.2096500396728516,
          -3.5300886631011963,
          -1.9785104990005493,
          -3.228653907775879,
          -0.6152185201644897,
          1.1815546751022339,
          4.401316165924072,
          4.1338396072387695,
          2.649792194366455,
          9.012762069702148,
          -0.2668324112892151,
          -1.1720352172851562,
          0.929431676864624,
          -1.4645185470581055,
          -3.1993184089660645,
          4.491910934448242,
          -4.610679626464844,
          4.024225234985352,
          4.448110103607178,
          8.273194313049316,
          5.9113616943359375,
          1.1106717586517334,
          6.483395576477051,
          9.320119857788086,
          3.3491642475128174,
          3.2253382205963135,
          3.521498680114746,
          -1.2684729099273682,
          0.4601699709892273,
          8.867935180664062,
          8.239323616027832,
          -3.801898956298828,
          0.5837019681930542,
          -0.8327895998954773,
          -1.4538427591323853,
          6.610438346862793,
          -0.7071856260299683,
          -0.49984830617904663,
          0.2204919308423996,
          3.7729480266571045,
          9.228289604187012,
          7.5307207107543945,
          1.9535096883773804,
          4.1947455406188965,
          1.5329265594482422,
          5.278380870819092,
          7.987545013427734,
          5.79952335357666,
          6.268319129943848,
          -2.561296224594116,
          1.1943473815917969,
          -3.207240581512451,
          2.208380937576294,
          5.2424092292785645,
          -0.3304635286331177,
          9.025442123413086,
          1.6933361291885376,
          -0.7755527496337891,
          -0.42979246377944946,
          2.038743495941162,
          -0.07983309775590897,
          9.175986289978027,
          -0.8554068803787231,
          -0.06599496304988861,
          8.91231918334961,
          -4.482326507568359,
          1.4927228689193726,
          -0.6754664778709412,
          -3.4054126739501953,
          0.9375630021095276,
          4.923928737640381,
          2.295804977416992,
          8.80134105682373,
          4.024195194244385,
          -2.7400166988372803,
          9.334300994873047,
          -0.13940434157848358,
          -2.3806841373443604,
          0.5651259422302246,
          -2.085904359817505,
          0.019414428621530533,
          -1.0275832414627075,
          -0.9632967114448547,
          -0.053078677505254745,
          -1.9870058298110962,
          0.6464139819145203,
          0.5698652267456055,
          6.078758716583252,
          5.236732482910156,
          2.9718265533447266,
          6.55042028427124,
          1.1771265268325806,
          7.980136394500732,
          2.534149169921875,
          -0.9322974681854248,
          -2.1344494819641113,
          8.6270751953125,
          -1.540698766708374,
          -1.4285138845443726,
          7.530375003814697,
          7.890865802764893,
          -3.9097533226013184,
          8.505186080932617,
          -0.908482015132904,
          -3.1954541206359863,
          0.9937843680381775,
          6.23779296875,
          3.355703115463257,
          6.033066272735596,
          1.1779080629348755,
          5.5731120109558105,
          9.356679916381836,
          -3.1205389499664307,
          2.0806689262390137,
          9.234155654907227,
          5.100802898406982,
          5.873640060424805,
          7.497006893157959,
          -0.8322837948799133,
          0.9822617769241333,
          -3.736379861831665,
          -0.8955515623092651,
          -3.5686419010162354,
          7.516690254211426,
          2.1872000694274902,
          -1.7612661123275757,
          3.5292160511016846,
          -0.24764685332775116,
          -1.946027159690857,
          -3.2964227199554443,
          -0.18515872955322266,
          4.53930139541626,
          0.1478865146636963,
          6.626590251922607,
          -0.8336449265480042,
          5.8358306884765625,
          1.1939074993133545,
          -2.1184892654418945,
          7.261789798736572,
          -1.1795004606246948,
          2.073843002319336,
          7.944576263427734,
          -0.7043402194976807,
          9.010071754455566,
          5.560507774353027,
          2.973236560821533,
          9.146153450012207,
          -0.7068780064582825,
          -0.3616798222064972,
          6.516876220703125,
          -0.653917133808136,
          4.333374500274658,
          6.2060866355896,
          8.009469032287598,
          -1.4859683513641357,
          1.3919521570205688,
          6.275577068328857,
          8.604440689086914,
          2.5758209228515625,
          -3.101168155670166,
          -1.958081841468811,
          1.42847740650177,
          5.743973255157471,
          -2.7079265117645264,
          -2.7113680839538574,
          5.755127429962158,
          -2.2776639461517334,
          0.35469135642051697,
          -2.586989402770996,
          -3.7181777954101562,
          9.037273406982422,
          5.1275954246521,
          2.498471975326538,
          7.992945671081543,
          8.851584434509277,
          8.651840209960938,
          8.694531440734863,
          -4.614381790161133,
          -1.1765960454940796,
          5.419910907745361,
          7.2095513343811035,
          -3.7243988513946533,
          5.940896987915039,
          -0.6748180985450745,
          5.506353855133057,
          -1.1396148204803467,
          7.577902793884277,
          0.6101924180984497,
          -0.48392146825790405,
          -0.5398723483085632,
          9.26906681060791,
          3.327082872390747,
          -4.109458923339844,
          8.782485961914062,
          9.155588150024414,
          6.236504554748535,
          -4.495193958282471,
          7.775277614593506,
          7.412901878356934,
          -4.749382495880127,
          -0.5276214480400085,
          8.874042510986328,
          -4.6845879554748535,
          -0.7075201869010925,
          4.32131290435791,
          9.237821578979492,
          -4.440356254577637,
          2.687822103500366,
          -0.05582344904541969,
          -1.170123815536499,
          3.0984904766082764,
          -4.1075358390808105,
          3.263172149658203,
          -2.1869442462921143,
          -1.9813262224197388,
          -0.7472313642501831,
          -1.0231196880340576,
          4.424147129058838,
          0.7873859405517578,
          -0.819354772567749,
          -0.9081873893737793,
          1.7402327060699463,
          2.8930535316467285,
          -0.6206244230270386,
          -1.7966947555541992,
          5.124644756317139,
          7.4975433349609375,
          1.8121654987335205,
          7.637787818908691,
          9.389978408813477,
          -0.8599848747253418,
          -2.6812045574188232,
          2.86462664604187,
          -0.9110020399093628,
          9.176987648010254,
          -1.2678920030593872,
          -3.2095983028411865,
          4.521835803985596,
          -0.8514284491539001,
          -4.3628435134887695,
          7.043227672576904,
          -3.734682321548462,
          6.548576354980469,
          -3.0232760906219482,
          8.04486083984375,
          0.12272799015045166,
          -0.9061456322669983,
          3.051842212677002,
          -4.427475452423096,
          9.092069625854492,
          1.5031230449676514,
          4.266017436981201,
          3.388880729675293,
          2.8524880409240723,
          0.4940156936645508,
          8.447420120239258,
          -2.7378146648406982,
          9.360201835632324,
          -1.3127424716949463,
          3.278430461883545,
          4.27398157119751,
          6.211822986602783,
          5.917897701263428,
          7.0256171226501465,
          -0.45621657371520996,
          4.857905387878418,
          -4.735144138336182,
          0.0557277649641037,
          3.5051467418670654,
          4.365330219268799,
          -4.774425029754639,
          4.997677803039551,
          9.298409461975098,
          -3.6941518783569336,
          -0.8513003587722778,
          -4.053404808044434,
          -1.0534567832946777,
          -1.2381528615951538,
          1.6384433507919312,
          4.360198974609375,
          0.7648081183433533,
          3.71860408782959,
          -0.791377604007721,
          9.083633422851562,
          -3.033940076828003,
          1.1944328546524048,
          1.5270222425460815,
          -0.8983624577522278,
          0.2765674293041229,
          -1.0503787994384766,
          -0.25168636441230774,
          -1.495228886604309,
          3.7855772972106934,
          2.447899103164673,
          -0.4548305571079254,
          2.6754696369171143,
          -1.7267422676086426,
          2.622051477432251,
          4.023799419403076,
          6.154234409332275,
          -1.0039496421813965,
          1.4972110986709595,
          4.90714168548584,
          -1.7629287242889404,
          9.123384475708008,
          5.583713054656982,
          7.4214558601379395,
          -1.8816877603530884,
          2.4685702323913574,
          2.090317487716675,
          8.252902030944824,
          -2.7906835079193115,
          -4.552663803100586,
          -0.5145470499992371,
          -0.04598396271467209,
          -0.22576791048049927,
          9.091418266296387,
          0.4862702190876007,
          -0.9640643000602722,
          -2.124964952468872,
          5.758429050445557,
          3.847454786300659,
          8.61101245880127,
          7.6850056648254395,
          2.3358538150787354,
          1.1952083110809326,
          -3.1377696990966797,
          3.2368009090423584,
          8.974303245544434,
          -3.804617166519165,
          9.199069023132324,
          4.476881504058838,
          8.69325065612793,
          4.911945343017578,
          3.3289127349853516,
          -0.6072229146957397,
          -2.973320960998535,
          7.577928066253662,
          0.0933138057589531,
          7.128640651702881,
          6.799365043640137,
          -1.661760926246643,
          0.05607857182621956,
          1.5205175876617432,
          -0.45912137627601624,
          0.10620037466287613,
          -1.0364869832992554,
          -0.8759053349494934,
          6.512144088745117,
          -0.4468594789505005,
          9.127175331115723,
          8.966388702392578,
          -0.7696588635444641,
          -3.211693048477173,
          -0.3033997118473053,
          9.367412567138672,
          -0.5155212879180908,
          3.861816644668579,
          -1.9273412227630615,
          8.234671592712402,
          0.07916814833879471,
          4.968873500823975,
          1.2139989137649536,
          5.219621181488037,
          -0.8454136848449707,
          4.931488513946533,
          3.8834340572357178,
          -3.721181631088257,
          5.23210334777832,
          4.07180643081665,
          -3.1234400272369385,
          3.1526031494140625,
          1.7870700359344482,
          8.936318397521973,
          2.2700068950653076,
          -4.010945796966553,
          3.4418954849243164,
          -3.9953832626342773,
          6.1595377922058105,
          -1.109691858291626,
          -4.676743030548096,
          9.040515899658203,
          9.179664611816406,
          8.76819896697998,
          -2.729499340057373,
          -0.8183939456939697,
          0.36892014741897583,
          6.953485012054443,
          5.331438064575195,
          8.003419876098633,
          -1.6015528440475464,
          8.833051681518555,
          -0.2576705813407898,
          1.0067330598831177,
          0.5824013948440552,
          2.619699001312256,
          -0.9604690074920654,
          2.1493375301361084,
          -1.0619748830795288,
          9.203001022338867,
          -4.558429718017578,
          2.7479755878448486,
          0.22727887332439423,
          -0.29635319113731384,
          1.4905933141708374,
          5.944801330566406,
          -4.927613735198975,
          -0.5450507998466492,
          -2.07517147064209,
          4.58198881149292,
          5.182743549346924,
          8.477274894714355,
          9.302719116210938,
          4.47392463684082,
          1.4137457609176636,
          9.014483451843262,
          0.9245949983596802,
          -0.9501885175704956,
          0.3306235373020172,
          6.277394771575928,
          8.441987991333008,
          7.577889919281006,
          7.983555316925049,
          3.81168794631958,
          8.804487228393555,
          -1.195696473121643,
          3.636653184890747,
          7.7766289710998535,
          -0.794685959815979,
          9.261659622192383,
          9.217747688293457,
          -3.133737564086914,
          8.485641479492188,
          8.857841491699219,
          0.10650742053985596,
          0.27132320404052734,
          -3.6183371543884277,
          1.857571005821228,
          7.577577590942383,
          -0.29621872305870056,
          6.298160552978516,
          -1.6804628372192383,
          9.355653762817383,
          5.253332614898682,
          -1.2517915964126587,
          9.17271614074707,
          -1.0930269956588745,
          0.6977598667144775,
          -0.9892150163650513,
          1.0782439708709717,
          1.702633261680603,
          -3.39867901802063,
          -0.7676185965538025,
          2.9512574672698975,
          6.607385635375977,
          1.1163455247879028,
          9.119112014770508,
          5.781377792358398,
          6.755718231201172,
          9.188335418701172,
          -0.7663071751594543,
          7.596218109130859,
          6.813658237457275,
          9.233372688293457,
          -2.0387680530548096,
          2.8312041759490967,
          2.8919196128845215,
          -1.9848380088806152,
          8.034614562988281,
          8.6499662399292,
          -2.9225449562072754,
          -0.46642956137657166,
          -0.9611250162124634,
          6.00110387802124,
          0.9625034332275391,
          -0.19255176186561584,
          4.269032001495361,
          2.5891592502593994,
          2.0400474071502686,
          -3.7981739044189453,
          1.2325615882873535,
          9.251640319824219,
          1.1698163747787476,
          9.206258773803711,
          -2.546109676361084,
          3.254429340362549,
          -0.04768699035048485,
          9.213666915893555,
          8.638379096984863,
          1.2984225749969482,
          1.1976900100708008,
          -1.0790966749191284,
          8.362044334411621,
          -2.836174249649048,
          7.675003528594971,
          -3.9591565132141113
         ],
         "z": [
          -1.9288398027420044,
          0.04776325821876526,
          3.2756130695343018,
          7.105766773223877,
          6.0296630859375,
          -10.965810775756836,
          6.989023685455322,
          1.7908848524093628,
          -8.929119110107422,
          -9.130656242370605,
          1.5378307104110718,
          6.0056962966918945,
          2.27500581741333,
          -11.616649627685547,
          -4.629926681518555,
          2.7742865085601807,
          1.950804591178894,
          8.846755027770996,
          8.600822448730469,
          1.3587616682052612,
          6.067754745483398,
          -10.358059883117676,
          3.231147527694702,
          8.688738822937012,
          -3.283679246902466,
          -2.9049015045166016,
          -0.4556138217449188,
          -11.627739906311035,
          8.218688011169434,
          -1.0513145923614502,
          -11.38603687286377,
          5.8656439781188965,
          -3.3273849487304688,
          2.5589470863342285,
          -1.9494935274124146,
          8.841721534729004,
          8.40684700012207,
          2.4329917430877686,
          -9.135584831237793,
          -4.135995864868164,
          6.797782897949219,
          2.5146384239196777,
          1.6337699890136719,
          -4.685288429260254,
          -4.9600982666015625,
          -9.072168350219727,
          -10.528973579406738,
          1.51237154006958,
          -3.5835697650909424,
          -1.104680061340332,
          -1.8724498748779297,
          -4.9740424156188965,
          -11.38994312286377,
          -1.5865525007247925,
          2.887683391571045,
          3.8601233959198,
          8.62352466583252,
          2.0882105827331543,
          2.6131656169891357,
          8.300788879394531,
          -8.340736389160156,
          6.144813537597656,
          1.7882267236709595,
          2.3064651489257812,
          7.043526649475098,
          -10.984200477600098,
          0.9764151573181152,
          7.821971416473389,
          5.029711723327637,
          2.474489212036133,
          0.004963125102221966,
          2.5988147258758545,
          7.388720512390137,
          2.9042792320251465,
          -10.712214469909668,
          -10.811775207519531,
          7.046800136566162,
          -0.9163148403167725,
          6.085034370422363,
          -1.182773470878601,
          -11.592314720153809,
          -0.8276581168174744,
          2.3762495517730713,
          -10.677757263183594,
          7.240689277648926,
          -10.847614288330078,
          4.726894855499268,
          -7.5492777824401855,
          -10.09046459197998,
          -2.6896140575408936,
          -9.828359603881836,
          -8.533775329589844,
          -4.7939558029174805,
          -11.098706245422363,
          5.921288967132568,
          -0.915199875831604,
          -2.186166286468506,
          -9.07773494720459,
          -9.077770233154297,
          2.905225992202759,
          4.533257484436035,
          5.565160751342773,
          -0.8954280018806458,
          2.612407922744751,
          2.332573175430298,
          3.620112657546997,
          -11.671013832092285,
          -5.071329593658447,
          -2.3704750537872314,
          -4.704473495483398,
          7.683289051055908,
          5.0650177001953125,
          -1.9320558309555054,
          3.901061534881592,
          -9.143117904663086,
          -10.14182186126709,
          -5.6007537841796875,
          1.0798306465148926,
          -11.551727294921875,
          2.334260940551758,
          0.1048581451177597,
          -10.377922058105469,
          3.2438161373138428,
          -7.431292533874512,
          7.892787456512451,
          2.26953125,
          8.820127487182617,
          -3.634798288345337,
          8.853761672973633,
          -2.8794310092926025,
          8.683486938476562,
          8.847400665283203,
          -7.256661891937256,
          2.4284605979919434,
          -1.6410930156707764,
          5.619532585144043,
          2.6894683837890625,
          -11.568965911865234,
          4.252209663391113,
          -3.9113476276397705,
          -0.3177880644798279,
          -5.209897994995117,
          4.458070278167725,
          -5.071953296661377,
          6.2917280197143555,
          0.8557379841804504,
          -11.632643699645996,
          5.225950241088867,
          -11.69189453125,
          3.0298285484313965,
          8.381071090698242,
          -11.701704025268555,
          -12.286811828613281,
          4.638008117675781,
          8.573588371276855,
          -5.455513000488281,
          -10.381471633911133,
          6.692784786224365,
          -9.798120498657227,
          8.27662467956543,
          -9.134180068969727,
          -4.2807230949401855,
          8.255433082580566,
          0.2976202070713043,
          -8.914077758789062,
          5.611133575439453,
          -11.870267868041992,
          -4.705548286437988,
          -9.180708885192871,
          3.0882792472839355,
          0.31266799569129944,
          8.62948989868164,
          2.467332124710083,
          3.379420042037964,
          -5.534301280975342,
          -11.059203147888184,
          2.0954840183258057,
          2.8167972564697266,
          -10.24039363861084,
          -8.088504791259766,
          1.9798939228057861,
          7.564558506011963,
          -2.411229133605957,
          -5.7432756423950195,
          -10.107779502868652,
          -4.597792625427246,
          8.10501766204834,
          -2.6711552143096924,
          3.2404115200042725,
          -11.79484748840332,
          2.708493232727051,
          1.7456700801849365,
          7.477198600769043,
          5.468442440032959,
          -4.913133144378662,
          6.030442237854004,
          -12.246124267578125,
          3.767610788345337,
          4.635657787322998,
          -5.459388732910156,
          -2.11600923538208,
          2.760493516921997,
          8.723814010620117,
          -10.121678352355957,
          8.27106761932373,
          4.044548988342285,
          2.040321111679077,
          -11.822368621826172,
          7.570865154266357,
          -5.458604335784912,
          8.69720458984375,
          -0.9112982153892517,
          -10.243709564208984,
          -11.157187461853027,
          -1.7607076168060303,
          8.781408309936523,
          7.879819393157959,
          -9.812932014465332,
          7.95095682144165,
          -5.344606399536133,
          3.1055703163146973,
          -9.138907432556152,
          -11.912638664245605,
          0.29670947790145874,
          -5.612889766693115,
          -9.124186515808105,
          7.110579967498779,
          2.1518394947052,
          -12.262678146362305,
          1.2778875827789307,
          3.5243194103240967,
          3.2599756717681885,
          1.349666714668274,
          -4.275323867797852,
          0.629318356513977,
          8.712615013122559,
          3.3936121463775635,
          2.79484486579895,
          -8.8944091796875,
          4.0592546463012695,
          -4.112654209136963,
          1.156365990638733,
          -7.1566925048828125,
          -9.155414581298828,
          -6.737581729888916,
          2.348907232284546,
          6.455626487731934,
          -5.986680030822754,
          -9.497475624084473,
          2.7099392414093018,
          -10.075220108032227,
          -11.764876365661621,
          -10.268146514892578,
          -0.8486957550048828,
          -4.806461334228516,
          8.568467140197754,
          6.019438743591309,
          8.832996368408203,
          -4.618068695068359,
          -4.9728684425354,
          2.8880209922790527,
          -0.24408479034900665,
          -2.9270901679992676,
          -9.945380210876465,
          6.059815406799316,
          -9.241318702697754,
          -9.4049072265625,
          2.26193904876709,
          8.818182945251465,
          -8.64754581451416,
          7.067751884460449,
          7.953719139099121,
          4.894374847412109,
          -3.132972240447998,
          2.4532992839813232,
          7.003964424133301,
          5.417057991027832,
          -11.820937156677246,
          -4.685426235198975,
          2.6095328330993652,
          6.3208417892456055,
          0.49070000648498535,
          -12.282364845275879,
          -1.433626413345337,
          -11.800942420959473,
          -10.702317237854004,
          -2.363400459289551,
          8.082588195800781,
          5.763054847717285,
          -11.44296646118164,
          -4.439113140106201,
          7.958151340484619,
          -0.35496920347213745,
          -5.771391868591309,
          -4.597198009490967,
          2.786181688308716,
          1.4595221281051636,
          -5.196145534515381,
          8.69227123260498,
          1.2665607929229736,
          6.801547050476074,
          6.815033912658691,
          -7.6706156730651855,
          7.594297885894775,
          2.2565290927886963,
          4.603899002075195,
          -1.4581812620162964,
          2.4945271015167236,
          -9.572806358337402,
          2.9978322982788086,
          -9.798471450805664,
          3.584993362426758,
          -5.60005521774292,
          8.827162742614746,
          6.759783744812012,
          6.588125228881836,
          7.448190212249756,
          -1.3186423778533936,
          -11.489655494689941,
          -5.322954177856445,
          -11.052844047546387,
          -11.192020416259766,
          4.6005859375,
          0.4071072041988373,
          4.446312427520752,
          -8.10513687133789,
          7.334949016571045,
          -4.670864105224609,
          -10.760915756225586,
          -9.955703735351562,
          2.1954736709594727,
          2.4070911407470703,
          8.829496383666992,
          -10.535321235656738,
          7.213644027709961,
          8.836421966552734,
          5.973808288574219,
          -10.724504470825195,
          2.304435968399048,
          4.199088096618652,
          -8.59005069732666,
          2.7164177894592285,
          8.699078559875488,
          2.6296424865722656,
          -1.3388025760650635,
          -1.0806190967559814,
          7.932692527770996,
          4.842369556427002,
          -0.3189581632614136,
          -10.942370414733887,
          8.045117378234863,
          -8.782206535339355,
          1.8264511823654175,
          8.244101524353027,
          -3.1099190711975098,
          8.58310604095459,
          -11.660026550292969,
          7.038865089416504,
          8.865763664245605,
          -11.903663635253906,
          5.580594062805176,
          -4.182126045227051,
          6.020795822143555,
          -11.234957695007324,
          5.604109287261963,
          -11.248034477233887,
          5.095129489898682,
          -5.311152458190918,
          -11.808869361877441,
          -11.490903854370117,
          4.203735828399658,
          -12.050946235656738,
          -3.130150556564331,
          -3.9537880420684814,
          -9.40131664276123,
          -12.189509391784668,
          -11.28527545928955,
          -11.37002182006836,
          0.7181744575500488,
          1.4024423360824585,
          6.2678327560424805,
          -1.6685574054718018,
          -2.0036487579345703,
          8.853963851928711,
          -1.0917859077453613,
          3.4155020713806152,
          8.415236473083496,
          0.3336239457130432,
          3.3950908184051514,
          5.46121883392334,
          -8.762805938720703,
          -9.285836219787598,
          -3.9741110801696777,
          -11.549019813537598,
          3.950821876525879,
          -11.09378433227539,
          -8.705604553222656,
          3.2032415866851807,
          -2.0938897132873535,
          4.667393684387207,
          -6.703625679016113,
          -5.653094291687012,
          -11.06477165222168,
          7.949893951416016,
          1.7452518939971924,
          -4.814039707183838,
          -2.0455660820007324,
          -9.533945083618164,
          -9.684002876281738,
          -0.5600869059562683,
          8.840899467468262,
          -3.089421272277832,
          7.900136470794678,
          2.6369411945343018,
          -1.375628113746643,
          6.738420486450195,
          -9.815930366516113,
          8.828758239746094,
          -8.750238418579102,
          -7.353264808654785,
          -11.772418022155762,
          2.216059446334839,
          -1.7264517545700073,
          -8.419596672058105,
          -1.4695062637329102,
          -10.908459663391113,
          4.980223655700684,
          -9.078520774841309,
          8.846234321594238,
          4.254153728485107,
          8.22757339477539,
          -10.388246536254883,
          8.12179183959961,
          4.249858379364014,
          -5.136119842529297,
          2.7438173294067383,
          3.879629135131836,
          -10.839912414550781,
          1.933143973350525,
          6.479039669036865,
          2.0328822135925293,
          -0.641101062297821,
          3.1514008045196533,
          2.9441747665405273,
          -11.031012535095215,
          2.8314566612243652,
          -9.978425979614258,
          -1.2145087718963623,
          2.3087589740753174,
          -0.8513351082801819,
          -7.6749725341796875,
          -8.985771179199219,
          4.4862141609191895,
          8.745219230651855,
          8.713642120361328,
          2.4268670082092285,
          -10.344107627868652,
          -9.129695892333984,
          -11.925971031188965,
          -0.35632002353668213,
          6.076200485229492,
          8.366374969482422,
          8.567854881286621,
          -11.249236106872559,
          8.430685997009277,
          2.889542579650879,
          7.658156871795654,
          -8.692190170288086,
          6.255924701690674,
          -4.262239456176758,
          8.767643928527832,
          -11.728506088256836,
          8.061396598815918,
          -10.073833465576172,
          2.138556480407715,
          -11.75185489654541,
          0.22211673855781555,
          4.505398273468018,
          -5.8120341300964355,
          0.36249983310699463,
          -7.92754602432251,
          -10.685351371765137,
          -3.0196027755737305,
          -8.833322525024414,
          -11.603471755981445,
          8.293683052062988,
          -11.656709671020508,
          3.0327672958374023,
          0.4165448844432831,
          -4.806443691253662,
          1.1133803129196167,
          -10.924118041992188,
          -0.3379834294319153,
          1.9784514904022217,
          5.751617908477783,
          1.4899730682373047,
          4.898280620574951,
          -7.829358100891113,
          -2.5900282859802246,
          1.9520587921142578,
          -8.77359390258789,
          -8.940832138061523,
          -2.1398725509643555,
          8.773099899291992,
          3.2846474647521973,
          7.762994289398193,
          -4.808582782745361,
          4.775175094604492,
          3.0352134704589844,
          -12.088037490844727,
          -8.082313537597656,
          -10.377089500427246,
          -11.832813262939453,
          -1.7988168001174927,
          2.6733314990997314,
          8.514171600341797,
          8.319649696350098,
          8.332661628723145,
          -11.451813697814941,
          3.464289665222168,
          6.969563007354736,
          -11.163069725036621,
          -9.774269104003906,
          -2.768843173980713,
          -3.405825614929199,
          -4.331851959228516,
          -9.70373821258545,
          -7.697419166564941,
          7.097484111785889,
          -9.320818901062012,
          -9.676901817321777,
          -2.419297933578491,
          0.14113634824752808,
          6.851820945739746,
          6.7722063064575195,
          -12.284330368041992,
          1.088017225265503,
          -6.591944694519043,
          1.7217198610305786,
          7.196281909942627,
          8.447922706604004,
          3.2086899280548096,
          -11.552857398986816,
          4.7623820304870605,
          -5.3375372886657715,
          -4.211919784545898,
          -11.37985610961914,
          2.7002651691436768,
          8.21847915649414,
          -2.4494757652282715,
          -11.555266380310059,
          -3.950103282928467,
          1.0503885746002197,
          -4.6496500968933105,
          4.0207905769348145,
          -2.9637022018432617,
          -8.79997444152832,
          2.945662260055542,
          -11.547757148742676,
          -11.814087867736816,
          0.5503774285316467,
          4.303230285644531,
          -9.288747787475586,
          2.944810390472412
         ]
        },
        {
         "hovertemplate": "Dominant_Topic=Topic 2<br>0=%{x}<br>1=%{y}<br>2=%{z}<extra></extra>",
         "legendgroup": "Topic 2",
         "marker": {
          "color": "#00cc96",
          "opacity": 0.7,
          "symbol": "circle"
         },
         "mode": "markers",
         "name": "Topic 2",
         "scene": "scene",
         "showlegend": true,
         "type": "scatter3d",
         "x": [
          4.067872047424316,
          2.4931938648223877,
          4.278181076049805,
          0.9209491610527039,
          0.17402388155460358,
          -0.5402629971504211,
          5.991819858551025,
          3.529956340789795,
          3.6011483669281006,
          -0.22660981118679047,
          5.965456008911133,
          4.8374409675598145,
          3.1467702388763428,
          5.474429130554199,
          -0.29467085003852844,
          3.5371081829071045,
          3.8598618507385254,
          5.958491325378418,
          2.7482552528381348,
          6.28600549697876,
          2.759122610092163,
          3.9076414108276367,
          0.10960584133863449,
          6.537230491638184,
          5.396661281585693,
          6.786517143249512,
          6.649165153503418,
          3.7779741287231445,
          2.291522264480591,
          -0.9552033543586731,
          5.536321640014648,
          5.2131028175354,
          4.0358991622924805,
          3.3682706356048584,
          -1.0364631414413452,
          3.832030773162842,
          3.4029226303100586,
          2.134988784790039,
          4.840745449066162,
          -1.366921067237854,
          4.7837233543396,
          6.85059928894043,
          0.41340336203575134,
          5.551969051361084,
          1.5778346061706543,
          3.596595287322998,
          -0.3073124885559082,
          -0.79178386926651,
          3.377199172973633,
          6.206906795501709,
          6.150929927825928,
          2.5453109741210938,
          1.5230227708816528,
          0.11825713515281677,
          1.5045093297958374,
          4.216023921966553,
          4.2084197998046875,
          4.121955394744873,
          4.3206682205200195,
          5.196885585784912,
          -0.3812480866909027,
          5.268511772155762,
          0.5447506904602051,
          0.09290384501218796,
          5.244777679443359,
          2.1139888763427734,
          6.7259626388549805,
          3.5494730472564697,
          6.211033344268799,
          0.039782218635082245,
          1.920319676399231,
          4.053747177124023,
          -0.8775524497032166,
          6.1851091384887695,
          2.191075325012207,
          5.996737480163574,
          0.3377271592617035,
          5.087917804718018,
          5.985352516174316,
          1.6598485708236694,
          6.33838415145874,
          0.6988810300827026,
          6.951289176940918,
          3.8089523315429688,
          2.0464389324188232,
          6.434111595153809,
          3.3554270267486572,
          5.946310997009277,
          6.000954627990723,
          5.858249664306641,
          5.7101569175720215,
          3.7815001010894775,
          0.7263798713684082,
          3.918959140777588,
          6.0884690284729,
          6.8711137771606445,
          4.99822998046875,
          2.012620210647583,
          2.303567409515381,
          5.822490215301514,
          0.7472022771835327,
          4.138579368591309,
          2.2933855056762695,
          3.3067829608917236,
          6.1926140785217285,
          6.246434211730957,
          4.192396640777588,
          6.829991340637207,
          -0.9308444857597351,
          0.05816665664315224,
          6.367784023284912,
          0.6390969157218933,
          4.112569808959961,
          6.1833977699279785,
          4.668416500091553,
          6.058712005615234,
          -0.9611997604370117,
          6.002284049987793,
          2.6930196285247803,
          3.004288911819458,
          5.6118950843811035,
          4.035894870758057,
          6.04916524887085,
          6.810374736785889,
          1.215751051902771,
          0.7946022152900696,
          0.09561815112829208,
          1.4921051263809204,
          -0.8526858687400818,
          3.161498546600342,
          6.079265117645264,
          6.0466628074646,
          6.058411121368408,
          4.472672939300537,
          4.636727809906006,
          2.569485902786255,
          -0.42953988909721375,
          5.332686901092529,
          -0.6745821833610535,
          2.41880464553833,
          0.41584500670433044,
          2.001089334487915,
          6.912187099456787,
          5.9751973152160645,
          5.867947578430176,
          5.267591953277588,
          2.7496330738067627,
          5.632646560668945,
          2.980908155441284,
          2.3777427673339844,
          6.1216936111450195,
          6.054833889007568,
          5.8161940574646,
          0.6700102686882019,
          6.519778728485107,
          0.7839500904083252,
          3.9274191856384277,
          0.4770181179046631,
          1.5726221799850464,
          2.6856870651245117,
          5.149914741516113,
          5.907506465911865,
          0.8356552720069885,
          1.50571870803833,
          6.083494663238525,
          -1.307597279548645,
          2.090089797973633,
          1.030785322189331,
          4.88844633102417,
          5.961116313934326,
          -0.6737779974937439,
          4.612355709075928,
          -0.8943843841552734,
          -1.3377057313919067,
          -1.0862441062927246,
          -0.8789669275283813,
          6.003635883331299,
          2.463623285293579,
          6.430108070373535,
          6.03822135925293,
          1.7195193767547607,
          4.367563247680664,
          5.983421802520752,
          5.681300640106201,
          6.1072564125061035,
          5.68772554397583,
          2.4816536903381348,
          3.5031485557556152,
          2.103065013885498,
          6.407647132873535,
          3.8973405361175537,
          -0.10222527384757996,
          1.4554060697555542,
          -0.6065133213996887,
          6.082862854003906
         ],
         "y": [
          -10.582257270812988,
          -4.091534614562988,
          -10.642282485961914,
          -9.656174659729004,
          -9.231507301330566,
          -6.579885005950928,
          -8.91526985168457,
          -8.319108009338379,
          -6.042607307434082,
          -8.73739242553711,
          -7.8929924964904785,
          -10.841354370117188,
          -8.382898330688477,
          -4.733588695526123,
          -8.566730499267578,
          -5.9935197830200195,
          -6.536182403564453,
          -6.693540096282959,
          -10.423271179199219,
          -11.538642883300781,
          -10.08814525604248,
          -4.116912841796875,
          -9.134574890136719,
          -11.604326248168945,
          -8.975954055786133,
          -11.435111045837402,
          -10.940206527709961,
          -7.176690578460693,
          -5.3557562828063965,
          -6.976416110992432,
          -11.006627082824707,
          -10.9393310546875,
          -6.573747158050537,
          -10.501202583312988,
          -6.70372200012207,
          -8.321775436401367,
          -8.572959899902344,
          -7.059316635131836,
          -5.547551155090332,
          -5.8996148109436035,
          -10.820442199707031,
          -11.491037368774414,
          -6.413390636444092,
          -9.025245666503906,
          -9.951865196228027,
          -10.522591590881348,
          -5.9156365394592285,
          -6.141992568969727,
          -9.192827224731445,
          -9.372455596923828,
          -4.2219767570495605,
          -10.384931564331055,
          -7.085110664367676,
          -9.00147819519043,
          -5.487696647644043,
          -4.481850624084473,
          -10.625164031982422,
          -5.847250938415527,
          -4.53757905960083,
          -10.918378829956055,
          -8.467665672302246,
          -6.615912437438965,
          -5.80911922454834,
          -9.114897727966309,
          -4.577497482299805,
          -5.092214107513428,
          -11.63243579864502,
          -8.439391136169434,
          -11.205763816833496,
          -8.961499214172363,
          -5.770342826843262,
          -6.855310440063477,
          -7.138962268829346,
          -9.53724193572998,
          -10.065025329589844,
          -6.630342483520508,
          -9.3014554977417,
          -10.896666526794434,
          -4.111351490020752,
          -9.999707221984863,
          -10.791200637817383,
          -9.567586898803711,
          -11.250066757202148,
          -7.173673152923584,
          -6.224362850189209,
          -11.295083999633789,
          -8.540626525878906,
          -11.05239486694336,
          -7.996603012084961,
          -10.891228675842285,
          -11.045056343078613,
          -7.7233967781066895,
          -9.568806648254395,
          -8.396531105041504,
          -11.407879829406738,
          -10.954608917236328,
          -9.689318656921387,
          -6.112527370452881,
          -10.30395793914795,
          -4.431027412414551,
          -9.576544761657715,
          -4.319418907165527,
          -5.113028526306152,
          -8.833410263061523,
          -10.875900268554688,
          -9.9811372756958,
          -10.61083698272705,
          -11.454580307006836,
          -7.040412425994873,
          -9.007253646850586,
          -11.145787239074707,
          -9.51535415649414,
          -10.586697578430176,
          -9.38475227355957,
          -8.057380676269531,
          -5.091185569763184,
          -6.259207248687744,
          -11.380152702331543,
          -3.6524815559387207,
          -5.724170207977295,
          -7.969197750091553,
          -5.364840984344482,
          -7.802469730377197,
          -11.111658096313477,
          -9.393410682678223,
          -5.308684825897217,
          -9.077116966247559,
          -8.161652565002441,
          -7.318108558654785,
          -10.48044204711914,
          -5.011006832122803,
          -7.135659694671631,
          -5.278268337249756,
          -4.789710998535156,
          -5.1531572341918945,
          -6.659743785858154,
          -8.38105583190918,
          -8.722461700439453,
          -7.8079681396484375,
          -10.355294227600098,
          -9.394641876220703,
          -10.165292739868164,
          -10.989151954650879,
          -6.165406703948975,
          -6.123147487640381,
          -9.44524097442627,
          -10.431350708007812,
          -6.416171073913574,
          -10.458059310913086,
          -6.038009166717529,
          -10.955984115600586,
          -7.783870697021484,
          -7.412289142608643,
          -9.516539573669434,
          -11.055484771728516,
          -9.226715087890625,
          -6.147951602935791,
          -6.2824859619140625,
          -4.455844879150391,
          -9.759557723999023,
          -4.6402130126953125,
          -8.07835578918457,
          -9.606401443481445,
          -6.022129058837891,
          -8.025626182556152,
          -6.077385902404785,
          -10.202954292297363,
          -8.92491626739502,
          -8.043912887573242,
          -7.974161624908447,
          -7.856160640716553,
          -7.859457969665527,
          -7.125154972076416,
          -5.942590236663818,
          -6.590006351470947,
          -7.0899786949157715,
          -8.547893524169922,
          -9.47326946258545,
          -10.8001070022583,
          -5.532074928283691,
          -4.132667541503906,
          -10.045912742614746,
          -5.194040298461914,
          -8.725276947021484,
          -9.224328994750977,
          -8.518872261047363,
          -8.799286842346191,
          -8.278844833374023,
          -3.859443187713623,
          -11.644221305847168,
          -6.527399063110352,
          -8.883358001708984,
          -7.2567243576049805,
          -8.026326179504395,
          -8.053145408630371
         ],
         "z": [
          -5.162503719329834,
          2.4840073585510254,
          -5.35084867477417,
          -2.424544095993042,
          -1.6932018995285034,
          0.9159253835678101,
          -4.040627956390381,
          -1.129169225692749,
          0.7757755517959595,
          -1.072689175605774,
          -2.525280714035034,
          -5.8995819091796875,
          -1.0987988710403442,
          0.845467209815979,
          -0.8937191367149353,
          0.8287705183029175,
          0.34392911195755005,
          -1.1442710161209106,
          -4.280472755432129,
          -7.460503578186035,
          -4.346515655517578,
          1.98983633518219,
          -1.5967581272125244,
          -6.9586381912231445,
          -3.7339160442352295,
          -7.6116719245910645,
          -7.556426048278809,
          -0.12032226473093033,
          1.6145625114440918,
          0.6014593243598938,
          -6.465169429779053,
          -6.212313175201416,
          0.24669291079044342,
          -4.690096855163574,
          0.82635498046875,
          -1.1965341567993164,
          -1.4142982959747314,
          0.35538145899772644,
          0.5767497420310974,
          1.451046347618103,
          -5.843294143676758,
          -7.497801303863525,
          1.0071662664413452,
          -3.931825637817383,
          -3.1349563598632812,
          -4.840872764587402,
          1.4372200965881348,
          1.2710671424865723,
          -4.701465606689453,
          -4.751038074493408,
          0.8745387196540833,
          -4.130029201507568,
          0.37031129002571106,
          -1.3912742137908936,
          1.6457889080047607,
          1.6193196773529053,
          -5.289097785949707,
          0.7226912379264832,
          1.5432581901550293,
          -6.177806377410889,
          -0.7945585250854492,
          -0.5204805135726929,
          1.4811842441558838,
          -1.5515882968902588,
          1.081534504890442,
          1.849906325340271,
          -7.383860111236572,
          -1.2887619733810425,
          -6.659811496734619,
          -1.32345712184906,
          1.3718197345733643,
          0.033067334443330765,
          0.46007412672042847,
          -4.9459075927734375,
          -3.8525614738464355,
          -1.1151386499404907,
          -1.7642179727554321,
          -6.113656520843506,
          1.043211817741394,
          -3.2432289123535156,
          -7.245794296264648,
          -2.2051968574523926,
          -7.079914093017578,
          -0.12706144154071808,
          1.0021873712539673,
          -7.684988498687744,
          -1.349361538887024,
          -7.056238174438477,
          -2.715024471282959,
          -6.4811601638793945,
          -6.604010105133057,
          -0.6145507097244263,
          -2.2226336002349854,
          -1.4588513374328613,
          -7.33437967300415,
          -7.3621039390563965,
          -4.536635398864746,
          1.094362497329712,
          -3.9232192039489746,
          0.8906035423278809,
          -2.2463932037353516,
          1.7611749172210693,
          1.7930692434310913,
          -1.7941462993621826,
          -6.815353870391846,
          -5.532610893249512,
          -5.263738632202148,
          -6.98546838760376,
          0.5468276739120483,
          -1.3930678367614746,
          -6.663450241088867,
          -2.1115219593048096,
          -5.191432476043701,
          -4.758917808532715,
          -0.5918422937393188,
          0.2413162887096405,
          1.1802277565002441,
          -6.930138111114502,
          2.7543394565582275,
          1.1643623113632202,
          -2.2835476398468018,
          1.0864590406417847,
          -2.485633611679077,
          -6.905542850494385,
          -2.0335376262664795,
          1.8614304065704346,
          -1.5109882354736328,
          -0.6386304497718811,
          0.30138441920280457,
          -4.556161880493164,
          0.29530954360961914,
          -1.703955054283142,
          0.08522795885801315,
          1.300512433052063,
          0.9726081490516663,
          0.5644517540931702,
          -0.7075838446617126,
          -3.2470803260803223,
          -0.1506897360086441,
          -4.032486438751221,
          -1.3763909339904785,
          -3.6185660362243652,
          -7.247069835662842,
          -0.6404922604560852,
          -0.521990180015564,
          -4.3603315353393555,
          -4.285070419311523,
          -0.6096258163452148,
          -4.4357123374938965,
          1.0840624570846558,
          -7.33968448638916,
          -2.466841459274292,
          -1.7731754779815674,
          -2.117703437805176,
          -7.650498867034912,
          -1.712874412536621,
          0.593201220035553,
          1.1095181703567505,
          2.435340642929077,
          -4.351261138916016,
          1.0839546918869019,
          -2.7502682209014893,
          -2.317094564437866,
          1.2293226718902588,
          -2.834472179412842,
          1.318741798400879,
          -3.7085540294647217,
          -1.3749884366989136,
          -0.5792959332466125,
          -2.6446614265441895,
          -0.19669480621814728,
          -0.502834141254425,
          0.4725564420223236,
          1.4183791875839233,
          0.9215410351753235,
          0.5027084350585938,
          -3.548450469970703,
          -4.260814189910889,
          -6.96089506149292,
          -0.11794286221265793,
          2.658689260482788,
          -4.658684253692627,
          0.19913141429424286,
          -4.197760581970215,
          -4.519552707672119,
          -4.123023509979248,
          -1.4749481678009033,
          -1.0741339921951294,
          2.7784881591796875,
          -7.068366050720215,
          0.3365195393562317,
          -1.2285702228546143,
          0.22726333141326904,
          -0.35998931527137756,
          -2.87553334236145
         ]
        },
        {
         "hovertemplate": "Dominant_Topic=Topic 3<br>0=%{x}<br>1=%{y}<br>2=%{z}<extra></extra>",
         "legendgroup": "Topic 3",
         "marker": {
          "color": "#ab63fa",
          "opacity": 0.7,
          "symbol": "circle"
         },
         "mode": "markers",
         "name": "Topic 3",
         "scene": "scene",
         "showlegend": true,
         "type": "scatter3d",
         "x": [
          -6.208475112915039,
          -5.399179935455322,
          -5.4517974853515625,
          -5.544582843780518,
          -5.556493759155273,
          -6.108826160430908,
          -6.118648529052734,
          -6.048877239227295,
          -5.64821195602417,
          -5.979484558105469,
          -6.183820724487305,
          -5.773375988006592,
          -5.8880181312561035,
          -5.669170379638672,
          -5.69296407699585,
          -5.352059364318848,
          -6.09763765335083,
          -5.609463691711426,
          -6.345526218414307,
          -6.076570510864258,
          -5.843845367431641,
          -6.039160251617432,
          -5.683829307556152,
          -6.182461738586426,
          -6.3206305503845215,
          -5.813172817230225,
          -5.498107433319092,
          -5.526543140411377,
          -5.800114631652832
         ],
         "y": [
          -9.301158905029297,
          -9.834186553955078,
          -9.216829299926758,
          -9.374727249145508,
          -9.175507545471191,
          -10.18581771850586,
          -10.118165016174316,
          -9.370369911193848,
          -10.134391784667969,
          -9.249815940856934,
          -9.775093078613281,
          -8.233695030212402,
          -9.690783500671387,
          -10.091561317443848,
          -9.800565719604492,
          -9.716024398803711,
          -10.086082458496094,
          -9.758411407470703,
          -9.672103881835938,
          -10.09876823425293,
          -9.759576797485352,
          -9.171706199645996,
          -10.232955932617188,
          -9.532033920288086,
          -9.742308616638184,
          -8.708640098571777,
          -10.008556365966797,
          -9.08730697631836,
          -9.368913650512695
         ],
         "z": [
          8.92833137512207,
          9.119266510009766,
          8.968415260314941,
          8.610390663146973,
          8.803382873535156,
          8.853643417358398,
          9.228796005249023,
          8.563420295715332,
          9.246304512023926,
          9.231561660766602,
          8.595531463623047,
          8.431715965270996,
          8.455449104309082,
          8.668803215026855,
          9.439509391784668,
          9.13783073425293,
          8.695525169372559,
          8.534294128417969,
          8.889376640319824,
          9.286664962768555,
          9.469120025634766,
          8.708524703979492,
          9.009902954101562,
          9.293185234069824,
          9.138041496276855,
          8.616037368774414,
          8.761138916015625,
          8.950545310974121,
          9.357147216796875
         ]
        }
       ],
       "layout": {
        "height": 800,
        "legend": {
         "title": {
          "text": "Dominant_Topic"
         },
         "tracegroupgap": 0
        },
        "scene": {
         "domain": {
          "x": [
           0,
           1
          ],
          "y": [
           0,
           1
          ]
         },
         "xaxis": {
          "title": {
           "text": "0"
          }
         },
         "yaxis": {
          "title": {
           "text": "1"
          }
         },
         "zaxis": {
          "title": {
           "text": "2"
          }
         }
        },
        "template": {
         "data": {
          "bar": [
           {
            "error_x": {
             "color": "#2a3f5f"
            },
            "error_y": {
             "color": "#2a3f5f"
            },
            "marker": {
             "line": {
              "color": "#E5ECF6",
              "width": 0.5
             },
             "pattern": {
              "fillmode": "overlay",
              "size": 10,
              "solidity": 0.2
             }
            },
            "type": "bar"
           }
          ],
          "barpolar": [
           {
            "marker": {
             "line": {
              "color": "#E5ECF6",
              "width": 0.5
             },
             "pattern": {
              "fillmode": "overlay",
              "size": 10,
              "solidity": 0.2
             }
            },
            "type": "barpolar"
           }
          ],
          "carpet": [
           {
            "aaxis": {
             "endlinecolor": "#2a3f5f",
             "gridcolor": "white",
             "linecolor": "white",
             "minorgridcolor": "white",
             "startlinecolor": "#2a3f5f"
            },
            "baxis": {
             "endlinecolor": "#2a3f5f",
             "gridcolor": "white",
             "linecolor": "white",
             "minorgridcolor": "white",
             "startlinecolor": "#2a3f5f"
            },
            "type": "carpet"
           }
          ],
          "choropleth": [
           {
            "colorbar": {
             "outlinewidth": 0,
             "ticks": ""
            },
            "type": "choropleth"
           }
          ],
          "contour": [
           {
            "colorbar": {
             "outlinewidth": 0,
             "ticks": ""
            },
            "colorscale": [
             [
              0,
              "#0d0887"
             ],
             [
              0.1111111111111111,
              "#46039f"
             ],
             [
              0.2222222222222222,
              "#7201a8"
             ],
             [
              0.3333333333333333,
              "#9c179e"
             ],
             [
              0.4444444444444444,
              "#bd3786"
             ],
             [
              0.5555555555555556,
              "#d8576b"
             ],
             [
              0.6666666666666666,
              "#ed7953"
             ],
             [
              0.7777777777777778,
              "#fb9f3a"
             ],
             [
              0.8888888888888888,
              "#fdca26"
             ],
             [
              1,
              "#f0f921"
             ]
            ],
            "type": "contour"
           }
          ],
          "contourcarpet": [
           {
            "colorbar": {
             "outlinewidth": 0,
             "ticks": ""
            },
            "type": "contourcarpet"
           }
          ],
          "heatmap": [
           {
            "colorbar": {
             "outlinewidth": 0,
             "ticks": ""
            },
            "colorscale": [
             [
              0,
              "#0d0887"
             ],
             [
              0.1111111111111111,
              "#46039f"
             ],
             [
              0.2222222222222222,
              "#7201a8"
             ],
             [
              0.3333333333333333,
              "#9c179e"
             ],
             [
              0.4444444444444444,
              "#bd3786"
             ],
             [
              0.5555555555555556,
              "#d8576b"
             ],
             [
              0.6666666666666666,
              "#ed7953"
             ],
             [
              0.7777777777777778,
              "#fb9f3a"
             ],
             [
              0.8888888888888888,
              "#fdca26"
             ],
             [
              1,
              "#f0f921"
             ]
            ],
            "type": "heatmap"
           }
          ],
          "heatmapgl": [
           {
            "colorbar": {
             "outlinewidth": 0,
             "ticks": ""
            },
            "colorscale": [
             [
              0,
              "#0d0887"
             ],
             [
              0.1111111111111111,
              "#46039f"
             ],
             [
              0.2222222222222222,
              "#7201a8"
             ],
             [
              0.3333333333333333,
              "#9c179e"
             ],
             [
              0.4444444444444444,
              "#bd3786"
             ],
             [
              0.5555555555555556,
              "#d8576b"
             ],
             [
              0.6666666666666666,
              "#ed7953"
             ],
             [
              0.7777777777777778,
              "#fb9f3a"
             ],
             [
              0.8888888888888888,
              "#fdca26"
             ],
             [
              1,
              "#f0f921"
             ]
            ],
            "type": "heatmapgl"
           }
          ],
          "histogram": [
           {
            "marker": {
             "pattern": {
              "fillmode": "overlay",
              "size": 10,
              "solidity": 0.2
             }
            },
            "type": "histogram"
           }
          ],
          "histogram2d": [
           {
            "colorbar": {
             "outlinewidth": 0,
             "ticks": ""
            },
            "colorscale": [
             [
              0,
              "#0d0887"
             ],
             [
              0.1111111111111111,
              "#46039f"
             ],
             [
              0.2222222222222222,
              "#7201a8"
             ],
             [
              0.3333333333333333,
              "#9c179e"
             ],
             [
              0.4444444444444444,
              "#bd3786"
             ],
             [
              0.5555555555555556,
              "#d8576b"
             ],
             [
              0.6666666666666666,
              "#ed7953"
             ],
             [
              0.7777777777777778,
              "#fb9f3a"
             ],
             [
              0.8888888888888888,
              "#fdca26"
             ],
             [
              1,
              "#f0f921"
             ]
            ],
            "type": "histogram2d"
           }
          ],
          "histogram2dcontour": [
           {
            "colorbar": {
             "outlinewidth": 0,
             "ticks": ""
            },
            "colorscale": [
             [
              0,
              "#0d0887"
             ],
             [
              0.1111111111111111,
              "#46039f"
             ],
             [
              0.2222222222222222,
              "#7201a8"
             ],
             [
              0.3333333333333333,
              "#9c179e"
             ],
             [
              0.4444444444444444,
              "#bd3786"
             ],
             [
              0.5555555555555556,
              "#d8576b"
             ],
             [
              0.6666666666666666,
              "#ed7953"
             ],
             [
              0.7777777777777778,
              "#fb9f3a"
             ],
             [
              0.8888888888888888,
              "#fdca26"
             ],
             [
              1,
              "#f0f921"
             ]
            ],
            "type": "histogram2dcontour"
           }
          ],
          "mesh3d": [
           {
            "colorbar": {
             "outlinewidth": 0,
             "ticks": ""
            },
            "type": "mesh3d"
           }
          ],
          "parcoords": [
           {
            "line": {
             "colorbar": {
              "outlinewidth": 0,
              "ticks": ""
             }
            },
            "type": "parcoords"
           }
          ],
          "pie": [
           {
            "automargin": true,
            "type": "pie"
           }
          ],
          "scatter": [
           {
            "fillpattern": {
             "fillmode": "overlay",
             "size": 10,
             "solidity": 0.2
            },
            "type": "scatter"
           }
          ],
          "scatter3d": [
           {
            "line": {
             "colorbar": {
              "outlinewidth": 0,
              "ticks": ""
             }
            },
            "marker": {
             "colorbar": {
              "outlinewidth": 0,
              "ticks": ""
             }
            },
            "type": "scatter3d"
           }
          ],
          "scattercarpet": [
           {
            "marker": {
             "colorbar": {
              "outlinewidth": 0,
              "ticks": ""
             }
            },
            "type": "scattercarpet"
           }
          ],
          "scattergeo": [
           {
            "marker": {
             "colorbar": {
              "outlinewidth": 0,
              "ticks": ""
             }
            },
            "type": "scattergeo"
           }
          ],
          "scattergl": [
           {
            "marker": {
             "colorbar": {
              "outlinewidth": 0,
              "ticks": ""
             }
            },
            "type": "scattergl"
           }
          ],
          "scattermapbox": [
           {
            "marker": {
             "colorbar": {
              "outlinewidth": 0,
              "ticks": ""
             }
            },
            "type": "scattermapbox"
           }
          ],
          "scatterpolar": [
           {
            "marker": {
             "colorbar": {
              "outlinewidth": 0,
              "ticks": ""
             }
            },
            "type": "scatterpolar"
           }
          ],
          "scatterpolargl": [
           {
            "marker": {
             "colorbar": {
              "outlinewidth": 0,
              "ticks": ""
             }
            },
            "type": "scatterpolargl"
           }
          ],
          "scatterternary": [
           {
            "marker": {
             "colorbar": {
              "outlinewidth": 0,
              "ticks": ""
             }
            },
            "type": "scatterternary"
           }
          ],
          "surface": [
           {
            "colorbar": {
             "outlinewidth": 0,
             "ticks": ""
            },
            "colorscale": [
             [
              0,
              "#0d0887"
             ],
             [
              0.1111111111111111,
              "#46039f"
             ],
             [
              0.2222222222222222,
              "#7201a8"
             ],
             [
              0.3333333333333333,
              "#9c179e"
             ],
             [
              0.4444444444444444,
              "#bd3786"
             ],
             [
              0.5555555555555556,
              "#d8576b"
             ],
             [
              0.6666666666666666,
              "#ed7953"
             ],
             [
              0.7777777777777778,
              "#fb9f3a"
             ],
             [
              0.8888888888888888,
              "#fdca26"
             ],
             [
              1,
              "#f0f921"
             ]
            ],
            "type": "surface"
           }
          ],
          "table": [
           {
            "cells": {
             "fill": {
              "color": "#EBF0F8"
             },
             "line": {
              "color": "white"
             }
            },
            "header": {
             "fill": {
              "color": "#C8D4E3"
             },
             "line": {
              "color": "white"
             }
            },
            "type": "table"
           }
          ]
         },
         "layout": {
          "annotationdefaults": {
           "arrowcolor": "#2a3f5f",
           "arrowhead": 0,
           "arrowwidth": 1
          },
          "autotypenumbers": "strict",
          "coloraxis": {
           "colorbar": {
            "outlinewidth": 0,
            "ticks": ""
           }
          },
          "colorscale": {
           "diverging": [
            [
             0,
             "#8e0152"
            ],
            [
             0.1,
             "#c51b7d"
            ],
            [
             0.2,
             "#de77ae"
            ],
            [
             0.3,
             "#f1b6da"
            ],
            [
             0.4,
             "#fde0ef"
            ],
            [
             0.5,
             "#f7f7f7"
            ],
            [
             0.6,
             "#e6f5d0"
            ],
            [
             0.7,
             "#b8e186"
            ],
            [
             0.8,
             "#7fbc41"
            ],
            [
             0.9,
             "#4d9221"
            ],
            [
             1,
             "#276419"
            ]
           ],
           "sequential": [
            [
             0,
             "#0d0887"
            ],
            [
             0.1111111111111111,
             "#46039f"
            ],
            [
             0.2222222222222222,
             "#7201a8"
            ],
            [
             0.3333333333333333,
             "#9c179e"
            ],
            [
             0.4444444444444444,
             "#bd3786"
            ],
            [
             0.5555555555555556,
             "#d8576b"
            ],
            [
             0.6666666666666666,
             "#ed7953"
            ],
            [
             0.7777777777777778,
             "#fb9f3a"
            ],
            [
             0.8888888888888888,
             "#fdca26"
            ],
            [
             1,
             "#f0f921"
            ]
           ],
           "sequentialminus": [
            [
             0,
             "#0d0887"
            ],
            [
             0.1111111111111111,
             "#46039f"
            ],
            [
             0.2222222222222222,
             "#7201a8"
            ],
            [
             0.3333333333333333,
             "#9c179e"
            ],
            [
             0.4444444444444444,
             "#bd3786"
            ],
            [
             0.5555555555555556,
             "#d8576b"
            ],
            [
             0.6666666666666666,
             "#ed7953"
            ],
            [
             0.7777777777777778,
             "#fb9f3a"
            ],
            [
             0.8888888888888888,
             "#fdca26"
            ],
            [
             1,
             "#f0f921"
            ]
           ]
          },
          "colorway": [
           "#636efa",
           "#EF553B",
           "#00cc96",
           "#ab63fa",
           "#FFA15A",
           "#19d3f3",
           "#FF6692",
           "#B6E880",
           "#FF97FF",
           "#FECB52"
          ],
          "font": {
           "color": "#2a3f5f"
          },
          "geo": {
           "bgcolor": "white",
           "lakecolor": "white",
           "landcolor": "#E5ECF6",
           "showlakes": true,
           "showland": true,
           "subunitcolor": "white"
          },
          "hoverlabel": {
           "align": "left"
          },
          "hovermode": "closest",
          "mapbox": {
           "style": "light"
          },
          "paper_bgcolor": "white",
          "plot_bgcolor": "#E5ECF6",
          "polar": {
           "angularaxis": {
            "gridcolor": "white",
            "linecolor": "white",
            "ticks": ""
           },
           "bgcolor": "#E5ECF6",
           "radialaxis": {
            "gridcolor": "white",
            "linecolor": "white",
            "ticks": ""
           }
          },
          "scene": {
           "xaxis": {
            "backgroundcolor": "#E5ECF6",
            "gridcolor": "white",
            "gridwidth": 2,
            "linecolor": "white",
            "showbackground": true,
            "ticks": "",
            "zerolinecolor": "white"
           },
           "yaxis": {
            "backgroundcolor": "#E5ECF6",
            "gridcolor": "white",
            "gridwidth": 2,
            "linecolor": "white",
            "showbackground": true,
            "ticks": "",
            "zerolinecolor": "white"
           },
           "zaxis": {
            "backgroundcolor": "#E5ECF6",
            "gridcolor": "white",
            "gridwidth": 2,
            "linecolor": "white",
            "showbackground": true,
            "ticks": "",
            "zerolinecolor": "white"
           }
          },
          "shapedefaults": {
           "line": {
            "color": "#2a3f5f"
           }
          },
          "ternary": {
           "aaxis": {
            "gridcolor": "white",
            "linecolor": "white",
            "ticks": ""
           },
           "baxis": {
            "gridcolor": "white",
            "linecolor": "white",
            "ticks": ""
           },
           "bgcolor": "#E5ECF6",
           "caxis": {
            "gridcolor": "white",
            "linecolor": "white",
            "ticks": ""
           }
          },
          "title": {
           "x": 0.05
          },
          "xaxis": {
           "automargin": true,
           "gridcolor": "white",
           "linecolor": "white",
           "ticks": "",
           "title": {
            "standoff": 15
           },
           "zerolinecolor": "white",
           "zerolinewidth": 2
          },
          "yaxis": {
           "automargin": true,
           "gridcolor": "white",
           "linecolor": "white",
           "ticks": "",
           "title": {
            "standoff": 15
           },
           "zerolinecolor": "white",
           "zerolinewidth": 2
          }
         }
        },
        "title": {
         "text": "3d TSNE Plot for Topic Model"
        },
        "width": 900
       }
      },
      "text/html": [
       "<div>                            <div id=\"83be5c70-31c4-434f-bc3c-9a9dd3d15013\" class=\"plotly-graph-div\" style=\"height:800px; width:900px;\"></div>            <script type=\"text/javascript\">                require([\"plotly\"], function(Plotly) {                    window.PLOTLYENV=window.PLOTLYENV || {};                                    if (document.getElementById(\"83be5c70-31c4-434f-bc3c-9a9dd3d15013\")) {                    Plotly.newPlot(                        \"83be5c70-31c4-434f-bc3c-9a9dd3d15013\",                        [{\"hovertemplate\":\"Dominant_Topic=Topic 0<br>0=%{x}<br>1=%{y}<br>2=%{z}<extra></extra>\",\"legendgroup\":\"Topic 0\",\"marker\":{\"color\":\"#636efa\",\"opacity\":0.7,\"symbol\":\"circle\"},\"mode\":\"markers\",\"name\":\"Topic 0\",\"scene\":\"scene\",\"showlegend\":true,\"x\":[7.579199314117432,3.37284779548645,5.68011474609375,9.487516403198242,7.732166290283203,9.082018852233887,7.79958438873291,4.790989398956299,7.172554969787598,2.7615396976470947,6.66597843170166,5.542492866516113,8.051039695739746,11.559619903564453,11.0430908203125,7.160377502441406,11.805283546447754,5.4241156578063965,13.266705513000488,7.4281134605407715,10.514398574829102,13.361955642700195,13.51163101196289,10.186737060546875,12.285367012023926,8.000534057617188,9.393192291259766,11.919785499572754,7.229020595550537,8.5401611328125,7.515524864196777,4.485204219818115,8.701498031616211,7.975204944610596,5.248958110809326,7.531416416168213,8.583169937133789,11.808133125305176,4.084376335144043,5.454556941986084,9.641318321228027,12.50059986114502,8.697175979614258,13.518272399902344,6.230632305145264,7.765735626220703,8.75070858001709,4.295027256011963,5.550897598266602,5.399494171142578,12.566183090209961,5.542020797729492,6.297569274902344,8.38274097442627,5.469715595245361,4.055026531219482,9.726777076721191,7.134625434875488,4.221401691436768,13.467845916748047,2.0873007774353027,8.019294738769531,3.8002712726593018,4.557825565338135,6.449561595916748,6.467480659484863,8.7146635055542,8.72119140625,12.5106782913208,7.620549201965332,7.765718936920166,4.58780574798584,6.91370153427124,8.073832511901855,9.710148811340332,8.929506301879883,2.5677907466888428,10.940469741821289,3.994833469390869,10.870943069458008,11.243064880371094,8.553802490234375,13.16997241973877,2.0206856727600098,7.734633445739746,3.1221401691436768,4.285682201385498,2.1244451999664307,5.327012538909912,1.634812355041504,10.788246154785156,2.093005418777466,12.107583999633789,5.578404903411865,12.488970756530762,7.5436201095581055,3.031686305999756,8.667679786682129,13.700234413146973,8.546525001525879,7.108307361602783,7.62910270690918,4.884933948516846,9.45396614074707,4.666114330291748,2.8874690532684326,7.9389967918396,6.112016677856445,2.008075475692749,3.859522819519043,4.490859508514404,5.615206241607666,8.173073768615723,2.738417863845825,5.713164329528809,9.533160209655762,8.528876304626465,6.026740074157715,8.57855224609375,4.167001724243164,4.1753315925598145,8.599451065063477,10.273396492004395,9.246994018554688,13.673039436340332,5.212493419647217,9.244876861572266,1.8371676206588745,9.039794921875,5.404515266418457,6.1136474609375,10.212282180786133,13.27561092376709,13.497400283813477,4.97487211227417,11.548025131225586,6.83480167388916,4.539875030517578,3.931293249130249,10.562833786010742,3.4491562843322754,5.9609174728393555,7.964402198791504,2.9799373149871826,8.97907829284668,10.850946426391602,13.231104850769043,7.586586952209473,6.524044990539551,5.560270309448242,4.054203510284424,11.975137710571289,9.30342960357666,10.916017532348633,9.59044361114502,13.469656944274902,10.875899314880371,7.745437145233154,6.213610649108887,2.96065616607666,8.140787124633789,8.347159385681152,10.180624008178711,12.425747871398926,4.681065559387207,7.976136207580566,3.8474771976470947,10.3858060836792,7.417440414428711,6.151698589324951,7.120973110198975,10.609563827514648,4.494067668914795,1.7100409269332886,13.489360809326172,6.042540550231934,9.037368774414062,8.844646453857422,13.487038612365723,6.528175354003906,8.381420135498047,13.795952796936035,3.955571413040161,3.8717522621154785,3.49360990524292,3.6211092472076416,2.2126662731170654,12.919098854064941,6.276617527008057,11.00935173034668,1.6257356405258179,8.177750587463379,4.064914703369141,13.090903282165527,13.129853248596191,6.11564302444458,5.11578893661499,10.758478164672852,12.656712532043457,5.4308085441589355,10.630695343017578,5.295968055725098,7.666172504425049,9.95991325378418,2.4718759059906006,10.310294151306152,1.8561064004898071,10.892393112182617,11.573899269104004,7.791909694671631,12.664328575134277,5.73557186126709],\"y\":[1.3015565872192383,-2.67321515083313,-1.7623261213302612,5.656711578369141,0.5431775450706482,5.337421894073486,0.656022310256958,2.693990707397461,4.528730869293213,-0.44287893176078796,1.871545433998108,-2.5128421783447266,0.7721837759017944,5.4678425788879395,5.589020729064941,3.1982409954071045,4.073093414306641,3.1648669242858887,4.3222880363464355,1.782455563545227,5.563452243804932,5.187906265258789,5.057662010192871,5.673173904418945,4.28409481048584,5.06572961807251,1.2182422876358032,5.426715850830078,4.576820373535156,5.2514328956604,3.1379690170288086,2.3476603031158447,5.490304470062256,5.070244312286377,-0.9796298742294312,-1.594423770904541,5.3982930183410645,4.302454471588135,-1.0862516164779663,-0.7263524532318115,1.3880287408828735,5.316555976867676,5.533358097076416,5.038458824157715,3.8865408897399902,3.7864937782287598,5.542749404907227,0.7812755107879639,-0.48821350932121277,-2.77583909034729,5.329348564147949,2.783778429031372,-0.9055356979370117,0.16368608176708221,-3.3278660774230957,-1.5514451265335083,1.857079267501831,-0.3016137182712555,-1.400646686553955,4.853506088256836,0.6166096329689026,0.5110202431678772,1.7770849466323853,0.061937958002090454,4.0344953536987305,0.8129444122314453,-0.7205458879470825,0.6357197761535645,5.08338737487793,0.6718724966049194,1.6209642887115479,3.125068426132202,4.152785301208496,-0.8179380297660828,5.242421627044678,5.581991195678711,-1.2278443574905396,3.409728527069092,0.5099310278892517,1.8748040199279785,5.2892608642578125,5.426485538482666,5.001011371612549,0.5375542044639587,-0.7186516523361206,0.638393759727478,-1.8235793113708496,0.64398592710495,3.1361680030822754,0.2550352215766907,1.861098289489746,0.6082278490066528,5.054444789886475,2.9342153072357178,5.345454692840576,-1.185098648071289,1.2694904804229736,-0.8907355070114136,4.898807525634766,5.429749965667725,-1.0455302000045776,-1.0807521343231201,2.6963744163513184,5.6699910163879395,2.526236057281494,1.0749809741973877,5.027988910675049,1.2287508249282837,0.5817959308624268,-1.9298975467681885,0.536309003829956,2.4803450107574463,-1.462111234664917,1.0706790685653687,0.3960120677947998,1.41831374168396,5.0752997398376465,-1.3455626964569092,5.2751264572143555,1.2465875148773193,0.5780335068702698,-0.7744216918945312,5.678515911102295,0.3591451346874237,4.928950786590576,-3.2522823810577393,0.40144312381744385,0.3111240565776825,0.974055290222168,0.207845538854599,3.7819454669952393,5.668374061584473,5.2150397300720215,3.740891933441162,-1.9033702611923218,5.478074550628662,4.25732421875,1.1343222856521606,-0.8242868185043335,1.6245014667510986,0.5101756453514099,3.530364513397217,0.6278467178344727,0.27135154604911804,1.4202767610549927,5.357966899871826,4.844407558441162,1.853880524635315,0.6494191884994507,-1.7596136331558228,1.6026562452316284,5.216844081878662,0.847078263759613,5.520353317260742,5.6683549880981445,3.839740037918091,1.8857837915420532,4.883542060852051,1.1366931200027466,1.2253398895263672,-1.0228830575942993,-1.5100785493850708,1.9528971910476685,5.290626049041748,2.5436506271362305,3.283860206604004,1.8767187595367432,5.647449970245361,3.8865623474121094,-4.08577299118042,2.402204751968384,2.447939157485962,-1.2142720222473145,0.37773749232292175,5.0792012214660645,3.4697937965393066,-0.3014620542526245,4.795260906219482,3.803809642791748,4.099717617034912,-1.1714787483215332,4.848557472229004,-1.4267784357070923,1.9114811420440674,-3.0568981170654297,-1.3198262453079224,0.7052085995674133,5.271387100219727,1.444474220275879,5.575656890869141,0.2847650349140167,5.223779201507568,-1.7389971017837524,5.243271827697754,4.258109092712402,3.658480644226074,0.21018807590007782,5.641539096832275,5.319962024688721,-1.734571099281311,1.7390398979187012,3.1296722888946533,-0.2794440686702728,2.1806538105010986,0.8230777978897095,2.692582130432129,0.4735705256462097,1.8941686153411865,4.941701412200928,-1.0777863264083862,3.7905142307281494,-0.3609166741371155],\"z\":[3.847172260284424,3.291592597961426,2.8767008781433105,5.098117351531982,3.233527898788452,5.093807220458984,3.2661099433898926,6.848045349121094,6.136956691741943,5.859631538391113,4.861749649047852,2.408825397491455,3.1770124435424805,3.5859344005584717,3.9985101222991943,5.844729423522949,2.6660239696502686,6.6469550132751465,1.72135591506958,4.270794868469238,4.323934078216553,2.1416893005371094,1.9518619775772095,4.616452217102051,2.4542853832244873,5.843660831451416,2.5655598640441895,3.318098545074463,6.1203107833862305,5.498783111572266,5.023527145385742,6.836143970489502,5.571780204772949,5.865796089172363,3.7165181636810303,1.9305992126464844,5.6078362464904785,2.793928384780884,4.345487117767334,3.7858922481536865,2.506338596343994,2.8624775409698486,5.618208408355713,1.9418301582336426,6.478789806365967,6.186953067779541,5.576676845550537,5.798197269439697,3.905555486679077,2.2941384315490723,2.821096658706665,6.263370037078857,3.1354830265045166,2.558204174041748,1.8635599613189697,3.9593043327331543,2.739863634109497,3.0408387184143066,3.992501974105835,1.9231771230697632,7.710992336273193,3.0233407020568848,7.057773590087891,5.010432720184326,6.399083614349365,4.248760223388672,1.7705533504486084,2.643371343612671,2.7518606185913086,3.3938372135162354,3.9340860843658447,5.546834945678711,6.140622138977051,2.1105258464813232,4.576923370361328,5.4543375968933105,5.145883083343506,2.85284423828125,5.827441692352295,1.9938287734985352,3.7058491706848145,5.6570210456848145,2.2496163845062256,7.685714244842529,2.386284828186035,6.729325294494629,3.592186450958252,7.706885814666748,6.71848726272583,7.706422328948975,2.041712999343872,7.69327449798584,3.015198230743408,6.349081039428711,2.8826801776885986,2.1894938945770264,7.398528575897217,1.689763069152832,1.6852951049804688,5.665020942687988,2.543940544128418,2.208466053009033,6.734975337982178,5.130021095275879,6.809296131134033,7.370094299316406,5.870827674865723,4.782566070556641,7.7462477684021,3.7232906818389893,5.453317642211914,5.995715618133545,1.6252014636993408,7.517206192016602,4.456641674041748,2.5974581241607666,5.336727619171143,2.9785892963409424,5.470246315002441,6.267655372619629,5.735821723937988,1.808798909187317,4.564108848571777,2.119441509246826,1.7296745777130127,2.040487051010132,2.1479344367980957,7.5909881591796875,2.6465349197387695,4.531304836273193,6.5088396072387695,4.5973663330078125,2.2293002605438232,3.9116411209106445,3.161837577819824,3.5990772247314453,6.242892742156982,5.854844093322754,4.672662734985352,2.045320987701416,6.298493385314941,6.476036548614502,3.1401138305664062,6.481226444244385,2.9734575748443604,3.992863893508911,2.126760959625244,4.2079901695251465,4.094640731811523,2.947503089904785,6.659810543060303,3.179494619369507,2.3897392749786377,4.045379638671875,5.0327067375183105,3.7979793548583984,1.998045802116394,5.930016040802002,4.648965358734131,7.431593418121338,1.9338738918304443,1.4828628301620483,2.5020592212677,2.9043993949890137,6.811458110809326,6.331390380859375,7.095473766326904,4.466989517211914,5.535175800323486,0.975104033946991,4.90960693359375,2.5504074096679688,3.984344244003296,7.790687084197998,1.9836101531982422,6.382418155670166,1.8334907293319702,4.818231105804443,3.8331429958343506,6.373184680938721,1.6869306564331055,1.561286211013794,4.128325462341309,7.101871967315674,2.9302637577056885,4.4255571365356445,7.684957027435303,2.540003776550293,4.822535037994385,4.013927936553955,7.7524309158325195,5.815752983093262,3.7865612506866455,2.3981235027313232,1.7983155250549316,6.4416022300720215,4.7369303703308105,4.218855857849121,2.7518653869628906,3.039790630340576,2.070847511291504,6.744377136230469,2.723334312438965,2.7799487113952637,7.56182861328125,2.8520896434783936,7.7704572677612305,1.9917770624160767,3.302863359451294,2.11234188079834,1.8545011281967163,3.883089303970337],\"type\":\"scatter3d\"},{\"hovertemplate\":\"Dominant_Topic=Topic 1<br>0=%{x}<br>1=%{y}<br>2=%{z}<extra></extra>\",\"legendgroup\":\"Topic 1\",\"marker\":{\"color\":\"#EF553B\",\"opacity\":0.7,\"symbol\":\"circle\"},\"mode\":\"markers\",\"name\":\"Topic 1\",\"scene\":\"scene\",\"showlegend\":true,\"x\":[-10.196356773376465,-10.399104118347168,-11.524807929992676,0.5963827967643738,-6.803869247436523,4.0384440422058105,-5.474599838256836,-11.318812370300293,-3.9648380279541016,-2.7931180000305176,-7.448545455932617,-11.168867111206055,-7.521487236022949,7.130829334259033,-10.264557838439941,-9.963350296020508,-6.749440670013428,-5.328937530517578,-7.0157012939453125,-7.7112016677856445,-11.133661270141602,1.864140272140503,1.7849656343460083,-3.3835864067077637,-10.478139877319336,-9.846433639526367,-9.381271362304688,7.232934474945068,-8.832600593566895,-9.76848030090332,5.866791248321533,-11.198385238647461,-9.620413780212402,-11.454644203186035,-10.203619956970215,-5.089386463165283,-8.21387767791748,-5.7897419929504395,-2.883648633956909,-10.442008972167969,-10.759589195251465,-0.7873730659484863,-11.285699844360352,-10.404306411743164,-9.318913459777832,-4.021472454071045,2.453740358352661,-11.257547378540039,-9.50696849822998,-10.954439163208008,-10.172754287719727,-10.226263046264648,5.881716251373291,-10.166589736938477,-9.723475456237793,-1.209328532218933,-2.8880746364593506,-11.3711576461792,-8.342708587646484,-8.538474082946777,-5.880614757537842,-6.250132083892822,-1.252278447151184,-11.413627624511719,-5.293342590332031,4.089064121246338,-11.126446723937988,1.1379637718200684,0.5111035108566284,-7.280144214630127,-9.08043098449707,-5.381155490875244,0.7066473960876465,-9.61133098602295,3.0963995456695557,3.449349880218506,-10.52782917022705,-10.55892276763916,-7.2603535652160645,-9.81340503692627,6.94319486618042,-9.658393859863281,-5.9129180908203125,2.970548629760742,-5.106597900390625,3.5810234546661377,-11.452665328979492,-7.520514011383057,0.9389408230781555,-10.449508666992188,0.00018337613437324762,-5.510964393615723,-10.265413284301758,4.547256946563721,-11.177587509155273,-10.497567176818848,-10.365897178649902,-4.34128475189209,-3.2304859161376953,1.8064889907836914,-8.903602600097656,-6.502893924713135,-9.656885147094727,-11.452779769897461,-8.7621431350708,-8.295966148376465,7.5849480628967285,-10.165704727172852,-10.038175582885742,-9.549139976501465,-9.754654884338379,-11.400752067565918,-10.483824729919434,-11.51688003540039,-2.7727530002593994,1.1215949058532715,-6.566849708557129,-8.06439208984375,6.692225933074951,-5.965500354766846,-10.405985832214355,1.9376071691513062,-8.588549613952637,-7.059396743774414,-9.430329322814941,-8.750725746154785,-4.872340679168701,-10.476350784301758,-5.840439319610596,-9.850624084472656,-3.2938578128814697,-5.882588863372803,-7.229377746582031,-2.2972710132598877,-10.465137481689453,-6.761260032653809,-4.672107696533203,6.936166763305664,-11.512113571166992,-10.466100692749023,-10.743694305419922,-10.076431274414062,-0.1984674334526062,-8.452917098999023,-7.390456676483154,-8.356986045837402,7.273396968841553,0.4885978102684021,7.759851932525635,-8.172699928283691,-1.8636387586593628,7.823904037475586,9.667359352111816,-8.944880485534668,-7.465524673461914,-7.074113845825195,1.9475955963134766,-10.835442543029785,-0.11643748730421066,-8.657140731811523,-2.757915735244751,-10.373488426208496,-1.353946566581726,-8.846907615661621,-3.6619739532470703,1.2688517570495605,9.03696060180664,-9.548502922058105,-2.5871801376342773,-0.2056797742843628,-10.939518928527832,-2.85786509513855,-5.745369911193848,-9.397177696228027,-6.615365505218506,4.387779712677002,-11.328808784484863,-9.627181053161621,1.4663759469985962,-6.272877216339111,-6.671735763549805,-9.911205291748047,-10.015931129455566,-9.659255027770996,0.9996762871742249,-9.642436027526855,-0.7218955159187317,-10.434374809265137,-1.2210971117019653,8.574091911315918,-4.137729644775391,-11.309669494628906,-10.0305814743042,0.9882866740226746,-10.279112815856934,-7.330111503601074,9.615028381347656,-0.19070963561534882,-8.100193977355957,-9.885610580444336,-10.293956756591797,-11.480587005615234,-3.358457326889038,1.0639615058898926,-8.683515548706055,-5.718672752380371,-11.366305351257324,8.842245101928711,-9.902698516845703,-8.847101211547852,-4.038784980773926,-10.559832572937012,1.4840681552886963,4.824965953826904,-10.226608276367188,-3.9093406200408936,0.5390204191207886,-0.05932808667421341,-0.052658889442682266,-9.96730899810791,-11.508852005004883,-2.7979962825775146,9.236695289611816,-10.228273391723633,-6.564524173736572,-3.75396990776062,-10.454510688781738,-6.576653957366943,9.634197235107422,-10.062424659729004,-11.525988578796387,-5.577596664428711,-7.745561122894287,-6.753006935119629,-8.566946029663086,-6.9538726806640625,-5.649406909942627,-3.416254997253418,-4.3597412109375,-11.51607608795166,-10.445942878723145,-11.174408912658691,-7.32205057144165,-3.8815736770629883,-7.637430191040039,-2.16975474357605,0.8544985055923462,-9.487288475036621,-1.3102729320526123,-3.674548387527466,0.8906310796737671,8.364445686340332,1.5642626285552979,-9.847204208374023,-9.458194732666016,-7.541804313659668,-9.149048805236816,-4.481800556182861,-8.783184051513672,-10.214162826538086,-0.025106796994805336,-10.77820110321045,-9.836522102355957,0.4177757203578949,-6.723724365234375,-2.3694727420806885,-1.6881436109542847,-2.041444778442383,-4.541150093078613,-4.311527252197266,-5.367956161499023,-0.17102497816085815,-11.425311088562012,-9.693763732910156,-2.335099220275879,-10.565417289733887,-7.9393486976623535,8.780157089233398,-10.224549293518066,-2.83280086517334,-11.049947738647461,-8.711824417114258,9.65893268585205,-10.011029243469238,8.671585083007812,3.0625076293945312,-10.415626525878906,-0.6438295245170593,-6.1857757568359375,6.147023677825928,-10.564573287963867,0.0015143707860261202,-9.322105407714844,-9.644464492797852,-9.643060684204102,-10.007887840270996,-11.24902057647705,-8.34415054321289,-3.22404408454895,-7.83303165435791,-10.739559173583984,-5.2035651206970215,-6.801752090454102,-2.8421943187713623,-6.092550277709961,-11.457351684570312,-9.955241203308105,-2.434027671813965,-1.0036238431930542,1.662623643875122,-0.11545732617378235,1.926816701889038,-8.705183029174805,-6.36092472076416,-5.272369861602783,-10.905806541442871,-4.7364583015441895,-10.410628318786621,6.388206481933594,-9.989426612854004,4.356334209442139,4.96197509765625,-8.80620288848877,-10.968066215515137,-0.04976983740925789,-6.251756191253662,-0.8910473585128784,-10.418635368347168,3.266136407852173,0.4594457745552063,-11.335846900939941,-11.433358192443848,-4.781134605407715,2.4768214225769043,-5.205361366271973,-6.192259788513184,-11.171380996704102,3.1406874656677246,-1.4649872779846191,-11.519242286682129,-5.4093499183654785,-3.7465202808380127,-3.283228874206543,-2.934715509414673,-9.856276512145996,-9.790078163146973,-9.35401439666748,-11.432608604431152,-10.214395523071289,3.953899383544922,-0.5054385662078857,-4.815046310424805,-6.966056823730469,-8.70447826385498,-10.473814010620117,-3.239957094192505,7.525698661804199,0.33884018659591675,-5.364263534545898,9.040995597839355,-11.287455558776855,-10.403959274291992,-9.14454174041748,5.157710552215576,0.8491592407226562,5.218806743621826,-11.342456817626953,-6.704950332641602,8.66608715057373,6.393531799316406,-11.49362850189209,9.21174144744873,-9.745288848876953,-6.665555953979492,-1.7047754526138306,9.550936698913574,5.379639625549316,5.784906387329102,-11.059356689453125,-7.630173683166504,-6.2455668449401855,-10.097821235656738,-10.244897842407227,-5.447000026702881,-10.522835731506348,-9.060702323913574,-1.9986270666122437,-8.83800220489502,-11.505560874938965,-11.30176067352295,-3.7974109649658203,-2.1955699920654297,-10.458361625671387,6.690957546234131,-0.8010523915290833,4.532260417938232,-4.318317890167236,-0.44128963351249695,-10.137571334838867,-11.452709197998047,-7.656103610992432,-9.736944198608398,4.413798809051514,0.040872372686862946,-7.131559371948242,-9.453180313110352,-10.285541534423828,-1.1610674858093262,-0.5552217960357666,-9.477106094360352,-6.189695835113525,-10.473950386047363,0.35970380902290344,-9.096346855163574,-9.856508255004883,-5.379203796386719,-0.04729427397251129,-4.811491966247559,-4.911274433135986,-7.140966415405273,8.447519302368164,-6.15421724319458,-10.181217193603516,-5.7441630363464355,-11.306029319763184,3.785367727279663,1.5064462423324585,-3.224982976913452,-6.2425537109375,-11.528657913208008,-8.740264892578125,1.9716267585754395,-0.7923929691314697,-11.514331817626953,-10.12356948852539,-7.3391337394714355,-11.502527236938477,3.5270559787750244,-6.693665981292725,-10.972448348999023,-10.08891487121582,-10.655805587768555,-10.264199256896973,0.3864715099334717,4.286341667175293,1.3890661001205444,0.5456072092056274,-9.846238136291504,-2.115823268890381,-10.612530708312988,-6.797216415405273,-4.513490676879883,-0.355198472738266,-3.4097204208374023,-6.981417179107666,-11.434091567993164,1.8166180849075317,-2.8035426139831543,9.300271987915039,-10.746939659118652,-7.284584045410156,-8.360257148742676,-7.492534637451172,5.222354412078857,-2.0244674682617188,-10.194601058959961,-3.8072991371154785,-5.121280193328857,-6.040911674499512,-10.520068168640137,-6.646889686584473,8.033866882324219,-9.143216133117676,0.8870683312416077,-1.9321837425231934,8.247624397277832,-8.925636291503906,-11.461092948913574,-9.61661434173584,-10.954668998718262,-6.498261451721191,2.99556303024292,-10.469133377075195,-4.71103048324585,6.923407554626465,-1.517317295074463,7.48184061050415,-11.503717422485352,-10.97113037109375,-9.458101272583008,-11.16166877746582,3.841047763824463,-10.7339448928833,-8.62101936340332,-11.223820686340332,-11.25423812866211,-7.049089431762695,-6.6195454597473145,-9.955048561096191,-6.657332897186279,-3.8720831871032715,-3.8653879165649414,-10.278244972229004,-6.7377471923828125,0.7699525952339172,-9.636754989624023,-9.45673942565918,-7.8898186683654785,-11.504661560058594,9.482276916503906,-6.284698486328125,1.9266014099121094,8.913382530212402,-10.241189002990723,-8.313078880310059,-7.738323211669922,-1.8591798543930054,-8.490438461303711,6.185313701629639,1.0446221828460693,0.9487224817276001,4.850288391113281,-0.21652351319789886,-10.448448181152344,-9.599925994873047,-6.758340835571289,-0.4826125502586365,-6.774994373321533,-5.388084888458252,-2.0299835205078125,-0.5847355127334595,-10.014619827270508,-8.988810539245605,-10.708272933959961,-10.766374588012695,9.663455963134766,-11.155983924865723,-7.744568824768066,-7.22971248626709,1.1589616537094116,-2.106039047241211,-11.5062837600708,6.920128345489502,-8.035292625427246,-9.98449420928955,-10.448189735412598,5.8428053855896,-3.4842991828918457,-8.770381927490234,-9.98241138458252,6.719481945037842,-9.23557186126709,-8.096351623535156,-10.490814208984375,-8.485967636108398,-9.788985252380371,-4.433142185211182,-9.672260284423828,6.68823766708374,8.713215827941895,-11.014431953430176,0.1008031889796257,-2.181060552597046,-1.7994672060012817],\"y\":[-0.19566379487514496,2.144397497177124,6.066932678222656,-0.8781429529190063,-4.484827518463135,3.6649057865142822,-4.719390392303467,7.305355072021484,8.402838706970215,7.997589588165283,-2.858264446258545,3.4927690029144287,-2.267448902130127,0.7282522320747375,2.9194517135620117,1.7355401515960693,-3.0961222648620605,-0.27016377449035645,0.344150185585022,-2.7395107746124268,3.423240900039673,5.296421051025391,-3.4394683837890625,-0.8420420289039612,1.6623895168304443,9.159199714660645,-1.7511097192764282,0.6116965413093567,1.2834113836288452,-1.2780157327651978,2.0119590759277344,3.564885377883911,9.173384666442871,6.8228583335876465,9.199651718139648,-0.3533748984336853,0.932573139667511,-3.2022500038146973,8.069080352783203,2.5144550800323486,2.887298107147217,-4.560647964477539,7.646623611450195,2.9304428100585938,7.642619609832764,8.451090812683105,4.87558650970459,7.671572685241699,9.09954833984375,9.717449188232422,-0.27532124519348145,3.5654585361480713,1.9972236156463623,-0.3693515658378601,1.366175889968872,-3.1792383193969727,-0.9096624255180359,7.0022077560424805,-1.0967100858688354,1.0975936651229858,9.378491401672363,-4.529126167297363,-5.461313724517822,7.019512176513672,-0.8149818778038025,3.6248881816864014,8.097710609436035,-0.005603152792900801,-2.2096500396728516,-3.5300886631011963,-1.9785104990005493,-3.228653907775879,-0.6152185201644897,1.1815546751022339,4.401316165924072,4.1338396072387695,2.649792194366455,9.012762069702148,-0.2668324112892151,-1.1720352172851562,0.929431676864624,-1.4645185470581055,-3.1993184089660645,4.491910934448242,-4.610679626464844,4.024225234985352,4.448110103607178,8.273194313049316,5.9113616943359375,1.1106717586517334,6.483395576477051,9.320119857788086,3.3491642475128174,3.2253382205963135,3.521498680114746,-1.2684729099273682,0.4601699709892273,8.867935180664062,8.239323616027832,-3.801898956298828,0.5837019681930542,-0.8327895998954773,-1.4538427591323853,6.610438346862793,-0.7071856260299683,-0.49984830617904663,0.2204919308423996,3.7729480266571045,9.228289604187012,7.5307207107543945,1.9535096883773804,4.1947455406188965,1.5329265594482422,5.278380870819092,7.987545013427734,5.79952335357666,6.268319129943848,-2.561296224594116,1.1943473815917969,-3.207240581512451,2.208380937576294,5.2424092292785645,-0.3304635286331177,9.025442123413086,1.6933361291885376,-0.7755527496337891,-0.42979246377944946,2.038743495941162,-0.07983309775590897,9.175986289978027,-0.8554068803787231,-0.06599496304988861,8.91231918334961,-4.482326507568359,1.4927228689193726,-0.6754664778709412,-3.4054126739501953,0.9375630021095276,4.923928737640381,2.295804977416992,8.80134105682373,4.024195194244385,-2.7400166988372803,9.334300994873047,-0.13940434157848358,-2.3806841373443604,0.5651259422302246,-2.085904359817505,0.019414428621530533,-1.0275832414627075,-0.9632967114448547,-0.053078677505254745,-1.9870058298110962,0.6464139819145203,0.5698652267456055,6.078758716583252,5.236732482910156,2.9718265533447266,6.55042028427124,1.1771265268325806,7.980136394500732,2.534149169921875,-0.9322974681854248,-2.1344494819641113,8.6270751953125,-1.540698766708374,-1.4285138845443726,7.530375003814697,7.890865802764893,-3.9097533226013184,8.505186080932617,-0.908482015132904,-3.1954541206359863,0.9937843680381775,6.23779296875,3.355703115463257,6.033066272735596,1.1779080629348755,5.5731120109558105,9.356679916381836,-3.1205389499664307,2.0806689262390137,9.234155654907227,5.100802898406982,5.873640060424805,7.497006893157959,-0.8322837948799133,0.9822617769241333,-3.736379861831665,-0.8955515623092651,-3.5686419010162354,7.516690254211426,2.1872000694274902,-1.7612661123275757,3.5292160511016846,-0.24764685332775116,-1.946027159690857,-3.2964227199554443,-0.18515872955322266,4.53930139541626,0.1478865146636963,6.626590251922607,-0.8336449265480042,5.8358306884765625,1.1939074993133545,-2.1184892654418945,7.261789798736572,-1.1795004606246948,2.073843002319336,7.944576263427734,-0.7043402194976807,9.010071754455566,5.560507774353027,2.973236560821533,9.146153450012207,-0.7068780064582825,-0.3616798222064972,6.516876220703125,-0.653917133808136,4.333374500274658,6.2060866355896,8.009469032287598,-1.4859683513641357,1.3919521570205688,6.275577068328857,8.604440689086914,2.5758209228515625,-3.101168155670166,-1.958081841468811,1.42847740650177,5.743973255157471,-2.7079265117645264,-2.7113680839538574,5.755127429962158,-2.2776639461517334,0.35469135642051697,-2.586989402770996,-3.7181777954101562,9.037273406982422,5.1275954246521,2.498471975326538,7.992945671081543,8.851584434509277,8.651840209960938,8.694531440734863,-4.614381790161133,-1.1765960454940796,5.419910907745361,7.2095513343811035,-3.7243988513946533,5.940896987915039,-0.6748180985450745,5.506353855133057,-1.1396148204803467,7.577902793884277,0.6101924180984497,-0.48392146825790405,-0.5398723483085632,9.26906681060791,3.327082872390747,-4.109458923339844,8.782485961914062,9.155588150024414,6.236504554748535,-4.495193958282471,7.775277614593506,7.412901878356934,-4.749382495880127,-0.5276214480400085,8.874042510986328,-4.6845879554748535,-0.7075201869010925,4.32131290435791,9.237821578979492,-4.440356254577637,2.687822103500366,-0.05582344904541969,-1.170123815536499,3.0984904766082764,-4.1075358390808105,3.263172149658203,-2.1869442462921143,-1.9813262224197388,-0.7472313642501831,-1.0231196880340576,4.424147129058838,0.7873859405517578,-0.819354772567749,-0.9081873893737793,1.7402327060699463,2.8930535316467285,-0.6206244230270386,-1.7966947555541992,5.124644756317139,7.4975433349609375,1.8121654987335205,7.637787818908691,9.389978408813477,-0.8599848747253418,-2.6812045574188232,2.86462664604187,-0.9110020399093628,9.176987648010254,-1.2678920030593872,-3.2095983028411865,4.521835803985596,-0.8514284491539001,-4.3628435134887695,7.043227672576904,-3.734682321548462,6.548576354980469,-3.0232760906219482,8.04486083984375,0.12272799015045166,-0.9061456322669983,3.051842212677002,-4.427475452423096,9.092069625854492,1.5031230449676514,4.266017436981201,3.388880729675293,2.8524880409240723,0.4940156936645508,8.447420120239258,-2.7378146648406982,9.360201835632324,-1.3127424716949463,3.278430461883545,4.27398157119751,6.211822986602783,5.917897701263428,7.0256171226501465,-0.45621657371520996,4.857905387878418,-4.735144138336182,0.0557277649641037,3.5051467418670654,4.365330219268799,-4.774425029754639,4.997677803039551,9.298409461975098,-3.6941518783569336,-0.8513003587722778,-4.053404808044434,-1.0534567832946777,-1.2381528615951538,1.6384433507919312,4.360198974609375,0.7648081183433533,3.71860408782959,-0.791377604007721,9.083633422851562,-3.033940076828003,1.1944328546524048,1.5270222425460815,-0.8983624577522278,0.2765674293041229,-1.0503787994384766,-0.25168636441230774,-1.495228886604309,3.7855772972106934,2.447899103164673,-0.4548305571079254,2.6754696369171143,-1.7267422676086426,2.622051477432251,4.023799419403076,6.154234409332275,-1.0039496421813965,1.4972110986709595,4.90714168548584,-1.7629287242889404,9.123384475708008,5.583713054656982,7.4214558601379395,-1.8816877603530884,2.4685702323913574,2.090317487716675,8.252902030944824,-2.7906835079193115,-4.552663803100586,-0.5145470499992371,-0.04598396271467209,-0.22576791048049927,9.091418266296387,0.4862702190876007,-0.9640643000602722,-2.124964952468872,5.758429050445557,3.847454786300659,8.61101245880127,7.6850056648254395,2.3358538150787354,1.1952083110809326,-3.1377696990966797,3.2368009090423584,8.974303245544434,-3.804617166519165,9.199069023132324,4.476881504058838,8.69325065612793,4.911945343017578,3.3289127349853516,-0.6072229146957397,-2.973320960998535,7.577928066253662,0.0933138057589531,7.128640651702881,6.799365043640137,-1.661760926246643,0.05607857182621956,1.5205175876617432,-0.45912137627601624,0.10620037466287613,-1.0364869832992554,-0.8759053349494934,6.512144088745117,-0.4468594789505005,9.127175331115723,8.966388702392578,-0.7696588635444641,-3.211693048477173,-0.3033997118473053,9.367412567138672,-0.5155212879180908,3.861816644668579,-1.9273412227630615,8.234671592712402,0.07916814833879471,4.968873500823975,1.2139989137649536,5.219621181488037,-0.8454136848449707,4.931488513946533,3.8834340572357178,-3.721181631088257,5.23210334777832,4.07180643081665,-3.1234400272369385,3.1526031494140625,1.7870700359344482,8.936318397521973,2.2700068950653076,-4.010945796966553,3.4418954849243164,-3.9953832626342773,6.1595377922058105,-1.109691858291626,-4.676743030548096,9.040515899658203,9.179664611816406,8.76819896697998,-2.729499340057373,-0.8183939456939697,0.36892014741897583,6.953485012054443,5.331438064575195,8.003419876098633,-1.6015528440475464,8.833051681518555,-0.2576705813407898,1.0067330598831177,0.5824013948440552,2.619699001312256,-0.9604690074920654,2.1493375301361084,-1.0619748830795288,9.203001022338867,-4.558429718017578,2.7479755878448486,0.22727887332439423,-0.29635319113731384,1.4905933141708374,5.944801330566406,-4.927613735198975,-0.5450507998466492,-2.07517147064209,4.58198881149292,5.182743549346924,8.477274894714355,9.302719116210938,4.47392463684082,1.4137457609176636,9.014483451843262,0.9245949983596802,-0.9501885175704956,0.3306235373020172,6.277394771575928,8.441987991333008,7.577889919281006,7.983555316925049,3.81168794631958,8.804487228393555,-1.195696473121643,3.636653184890747,7.7766289710998535,-0.794685959815979,9.261659622192383,9.217747688293457,-3.133737564086914,8.485641479492188,8.857841491699219,0.10650742053985596,0.27132320404052734,-3.6183371543884277,1.857571005821228,7.577577590942383,-0.29621872305870056,6.298160552978516,-1.6804628372192383,9.355653762817383,5.253332614898682,-1.2517915964126587,9.17271614074707,-1.0930269956588745,0.6977598667144775,-0.9892150163650513,1.0782439708709717,1.702633261680603,-3.39867901802063,-0.7676185965538025,2.9512574672698975,6.607385635375977,1.1163455247879028,9.119112014770508,5.781377792358398,6.755718231201172,9.188335418701172,-0.7663071751594543,7.596218109130859,6.813658237457275,9.233372688293457,-2.0387680530548096,2.8312041759490967,2.8919196128845215,-1.9848380088806152,8.034614562988281,8.6499662399292,-2.9225449562072754,-0.46642956137657166,-0.9611250162124634,6.00110387802124,0.9625034332275391,-0.19255176186561584,4.269032001495361,2.5891592502593994,2.0400474071502686,-3.7981739044189453,1.2325615882873535,9.251640319824219,1.1698163747787476,9.206258773803711,-2.546109676361084,3.254429340362549,-0.04768699035048485,9.213666915893555,8.638379096984863,1.2984225749969482,1.1976900100708008,-1.0790966749191284,8.362044334411621,-2.836174249649048,7.675003528594971,-3.9591565132141113],\"z\":[-1.9288398027420044,0.04776325821876526,3.2756130695343018,7.105766773223877,6.0296630859375,-10.965810775756836,6.989023685455322,1.7908848524093628,-8.929119110107422,-9.130656242370605,1.5378307104110718,6.0056962966918945,2.27500581741333,-11.616649627685547,-4.629926681518555,2.7742865085601807,1.950804591178894,8.846755027770996,8.600822448730469,1.3587616682052612,6.067754745483398,-10.358059883117676,3.231147527694702,8.688738822937012,-3.283679246902466,-2.9049015045166016,-0.4556138217449188,-11.627739906311035,8.218688011169434,-1.0513145923614502,-11.38603687286377,5.8656439781188965,-3.3273849487304688,2.5589470863342285,-1.9494935274124146,8.841721534729004,8.40684700012207,2.4329917430877686,-9.135584831237793,-4.135995864868164,6.797782897949219,2.5146384239196777,1.6337699890136719,-4.685288429260254,-4.9600982666015625,-9.072168350219727,-10.528973579406738,1.51237154006958,-3.5835697650909424,-1.104680061340332,-1.8724498748779297,-4.9740424156188965,-11.38994312286377,-1.5865525007247925,2.887683391571045,3.8601233959198,8.62352466583252,2.0882105827331543,2.6131656169891357,8.300788879394531,-8.340736389160156,6.144813537597656,1.7882267236709595,2.3064651489257812,7.043526649475098,-10.984200477600098,0.9764151573181152,7.821971416473389,5.029711723327637,2.474489212036133,0.004963125102221966,2.5988147258758545,7.388720512390137,2.9042792320251465,-10.712214469909668,-10.811775207519531,7.046800136566162,-0.9163148403167725,6.085034370422363,-1.182773470878601,-11.592314720153809,-0.8276581168174744,2.3762495517730713,-10.677757263183594,7.240689277648926,-10.847614288330078,4.726894855499268,-7.5492777824401855,-10.09046459197998,-2.6896140575408936,-9.828359603881836,-8.533775329589844,-4.7939558029174805,-11.098706245422363,5.921288967132568,-0.915199875831604,-2.186166286468506,-9.07773494720459,-9.077770233154297,2.905225992202759,4.533257484436035,5.565160751342773,-0.8954280018806458,2.612407922744751,2.332573175430298,3.620112657546997,-11.671013832092285,-5.071329593658447,-2.3704750537872314,-4.704473495483398,7.683289051055908,5.0650177001953125,-1.9320558309555054,3.901061534881592,-9.143117904663086,-10.14182186126709,-5.6007537841796875,1.0798306465148926,-11.551727294921875,2.334260940551758,0.1048581451177597,-10.377922058105469,3.2438161373138428,-7.431292533874512,7.892787456512451,2.26953125,8.820127487182617,-3.634798288345337,8.853761672973633,-2.8794310092926025,8.683486938476562,8.847400665283203,-7.256661891937256,2.4284605979919434,-1.6410930156707764,5.619532585144043,2.6894683837890625,-11.568965911865234,4.252209663391113,-3.9113476276397705,-0.3177880644798279,-5.209897994995117,4.458070278167725,-5.071953296661377,6.2917280197143555,0.8557379841804504,-11.632643699645996,5.225950241088867,-11.69189453125,3.0298285484313965,8.381071090698242,-11.701704025268555,-12.286811828613281,4.638008117675781,8.573588371276855,-5.455513000488281,-10.381471633911133,6.692784786224365,-9.798120498657227,8.27662467956543,-9.134180068969727,-4.2807230949401855,8.255433082580566,0.2976202070713043,-8.914077758789062,5.611133575439453,-11.870267868041992,-4.705548286437988,-9.180708885192871,3.0882792472839355,0.31266799569129944,8.62948989868164,2.467332124710083,3.379420042037964,-5.534301280975342,-11.059203147888184,2.0954840183258057,2.8167972564697266,-10.24039363861084,-8.088504791259766,1.9798939228057861,7.564558506011963,-2.411229133605957,-5.7432756423950195,-10.107779502868652,-4.597792625427246,8.10501766204834,-2.6711552143096924,3.2404115200042725,-11.79484748840332,2.708493232727051,1.7456700801849365,7.477198600769043,5.468442440032959,-4.913133144378662,6.030442237854004,-12.246124267578125,3.767610788345337,4.635657787322998,-5.459388732910156,-2.11600923538208,2.760493516921997,8.723814010620117,-10.121678352355957,8.27106761932373,4.044548988342285,2.040321111679077,-11.822368621826172,7.570865154266357,-5.458604335784912,8.69720458984375,-0.9112982153892517,-10.243709564208984,-11.157187461853027,-1.7607076168060303,8.781408309936523,7.879819393157959,-9.812932014465332,7.95095682144165,-5.344606399536133,3.1055703163146973,-9.138907432556152,-11.912638664245605,0.29670947790145874,-5.612889766693115,-9.124186515808105,7.110579967498779,2.1518394947052,-12.262678146362305,1.2778875827789307,3.5243194103240967,3.2599756717681885,1.349666714668274,-4.275323867797852,0.629318356513977,8.712615013122559,3.3936121463775635,2.79484486579895,-8.8944091796875,4.0592546463012695,-4.112654209136963,1.156365990638733,-7.1566925048828125,-9.155414581298828,-6.737581729888916,2.348907232284546,6.455626487731934,-5.986680030822754,-9.497475624084473,2.7099392414093018,-10.075220108032227,-11.764876365661621,-10.268146514892578,-0.8486957550048828,-4.806461334228516,8.568467140197754,6.019438743591309,8.832996368408203,-4.618068695068359,-4.9728684425354,2.8880209922790527,-0.24408479034900665,-2.9270901679992676,-9.945380210876465,6.059815406799316,-9.241318702697754,-9.4049072265625,2.26193904876709,8.818182945251465,-8.64754581451416,7.067751884460449,7.953719139099121,4.894374847412109,-3.132972240447998,2.4532992839813232,7.003964424133301,5.417057991027832,-11.820937156677246,-4.685426235198975,2.6095328330993652,6.3208417892456055,0.49070000648498535,-12.282364845275879,-1.433626413345337,-11.800942420959473,-10.702317237854004,-2.363400459289551,8.082588195800781,5.763054847717285,-11.44296646118164,-4.439113140106201,7.958151340484619,-0.35496920347213745,-5.771391868591309,-4.597198009490967,2.786181688308716,1.4595221281051636,-5.196145534515381,8.69227123260498,1.2665607929229736,6.801547050476074,6.815033912658691,-7.6706156730651855,7.594297885894775,2.2565290927886963,4.603899002075195,-1.4581812620162964,2.4945271015167236,-9.572806358337402,2.9978322982788086,-9.798471450805664,3.584993362426758,-5.60005521774292,8.827162742614746,6.759783744812012,6.588125228881836,7.448190212249756,-1.3186423778533936,-11.489655494689941,-5.322954177856445,-11.052844047546387,-11.192020416259766,4.6005859375,0.4071072041988373,4.446312427520752,-8.10513687133789,7.334949016571045,-4.670864105224609,-10.760915756225586,-9.955703735351562,2.1954736709594727,2.4070911407470703,8.829496383666992,-10.535321235656738,7.213644027709961,8.836421966552734,5.973808288574219,-10.724504470825195,2.304435968399048,4.199088096618652,-8.59005069732666,2.7164177894592285,8.699078559875488,2.6296424865722656,-1.3388025760650635,-1.0806190967559814,7.932692527770996,4.842369556427002,-0.3189581632614136,-10.942370414733887,8.045117378234863,-8.782206535339355,1.8264511823654175,8.244101524353027,-3.1099190711975098,8.58310604095459,-11.660026550292969,7.038865089416504,8.865763664245605,-11.903663635253906,5.580594062805176,-4.182126045227051,6.020795822143555,-11.234957695007324,5.604109287261963,-11.248034477233887,5.095129489898682,-5.311152458190918,-11.808869361877441,-11.490903854370117,4.203735828399658,-12.050946235656738,-3.130150556564331,-3.9537880420684814,-9.40131664276123,-12.189509391784668,-11.28527545928955,-11.37002182006836,0.7181744575500488,1.4024423360824585,6.2678327560424805,-1.6685574054718018,-2.0036487579345703,8.853963851928711,-1.0917859077453613,3.4155020713806152,8.415236473083496,0.3336239457130432,3.3950908184051514,5.46121883392334,-8.762805938720703,-9.285836219787598,-3.9741110801696777,-11.549019813537598,3.950821876525879,-11.09378433227539,-8.705604553222656,3.2032415866851807,-2.0938897132873535,4.667393684387207,-6.703625679016113,-5.653094291687012,-11.06477165222168,7.949893951416016,1.7452518939971924,-4.814039707183838,-2.0455660820007324,-9.533945083618164,-9.684002876281738,-0.5600869059562683,8.840899467468262,-3.089421272277832,7.900136470794678,2.6369411945343018,-1.375628113746643,6.738420486450195,-9.815930366516113,8.828758239746094,-8.750238418579102,-7.353264808654785,-11.772418022155762,2.216059446334839,-1.7264517545700073,-8.419596672058105,-1.4695062637329102,-10.908459663391113,4.980223655700684,-9.078520774841309,8.846234321594238,4.254153728485107,8.22757339477539,-10.388246536254883,8.12179183959961,4.249858379364014,-5.136119842529297,2.7438173294067383,3.879629135131836,-10.839912414550781,1.933143973350525,6.479039669036865,2.0328822135925293,-0.641101062297821,3.1514008045196533,2.9441747665405273,-11.031012535095215,2.8314566612243652,-9.978425979614258,-1.2145087718963623,2.3087589740753174,-0.8513351082801819,-7.6749725341796875,-8.985771179199219,4.4862141609191895,8.745219230651855,8.713642120361328,2.4268670082092285,-10.344107627868652,-9.129695892333984,-11.925971031188965,-0.35632002353668213,6.076200485229492,8.366374969482422,8.567854881286621,-11.249236106872559,8.430685997009277,2.889542579650879,7.658156871795654,-8.692190170288086,6.255924701690674,-4.262239456176758,8.767643928527832,-11.728506088256836,8.061396598815918,-10.073833465576172,2.138556480407715,-11.75185489654541,0.22211673855781555,4.505398273468018,-5.8120341300964355,0.36249983310699463,-7.92754602432251,-10.685351371765137,-3.0196027755737305,-8.833322525024414,-11.603471755981445,8.293683052062988,-11.656709671020508,3.0327672958374023,0.4165448844432831,-4.806443691253662,1.1133803129196167,-10.924118041992188,-0.3379834294319153,1.9784514904022217,5.751617908477783,1.4899730682373047,4.898280620574951,-7.829358100891113,-2.5900282859802246,1.9520587921142578,-8.77359390258789,-8.940832138061523,-2.1398725509643555,8.773099899291992,3.2846474647521973,7.762994289398193,-4.808582782745361,4.775175094604492,3.0352134704589844,-12.088037490844727,-8.082313537597656,-10.377089500427246,-11.832813262939453,-1.7988168001174927,2.6733314990997314,8.514171600341797,8.319649696350098,8.332661628723145,-11.451813697814941,3.464289665222168,6.969563007354736,-11.163069725036621,-9.774269104003906,-2.768843173980713,-3.405825614929199,-4.331851959228516,-9.70373821258545,-7.697419166564941,7.097484111785889,-9.320818901062012,-9.676901817321777,-2.419297933578491,0.14113634824752808,6.851820945739746,6.7722063064575195,-12.284330368041992,1.088017225265503,-6.591944694519043,1.7217198610305786,7.196281909942627,8.447922706604004,3.2086899280548096,-11.552857398986816,4.7623820304870605,-5.3375372886657715,-4.211919784545898,-11.37985610961914,2.7002651691436768,8.21847915649414,-2.4494757652282715,-11.555266380310059,-3.950103282928467,1.0503885746002197,-4.6496500968933105,4.0207905769348145,-2.9637022018432617,-8.79997444152832,2.945662260055542,-11.547757148742676,-11.814087867736816,0.5503774285316467,4.303230285644531,-9.288747787475586,2.944810390472412],\"type\":\"scatter3d\"},{\"hovertemplate\":\"Dominant_Topic=Topic 2<br>0=%{x}<br>1=%{y}<br>2=%{z}<extra></extra>\",\"legendgroup\":\"Topic 2\",\"marker\":{\"color\":\"#00cc96\",\"opacity\":0.7,\"symbol\":\"circle\"},\"mode\":\"markers\",\"name\":\"Topic 2\",\"scene\":\"scene\",\"showlegend\":true,\"x\":[4.067872047424316,2.4931938648223877,4.278181076049805,0.9209491610527039,0.17402388155460358,-0.5402629971504211,5.991819858551025,3.529956340789795,3.6011483669281006,-0.22660981118679047,5.965456008911133,4.8374409675598145,3.1467702388763428,5.474429130554199,-0.29467085003852844,3.5371081829071045,3.8598618507385254,5.958491325378418,2.7482552528381348,6.28600549697876,2.759122610092163,3.9076414108276367,0.10960584133863449,6.537230491638184,5.396661281585693,6.786517143249512,6.649165153503418,3.7779741287231445,2.291522264480591,-0.9552033543586731,5.536321640014648,5.2131028175354,4.0358991622924805,3.3682706356048584,-1.0364631414413452,3.832030773162842,3.4029226303100586,2.134988784790039,4.840745449066162,-1.366921067237854,4.7837233543396,6.85059928894043,0.41340336203575134,5.551969051361084,1.5778346061706543,3.596595287322998,-0.3073124885559082,-0.79178386926651,3.377199172973633,6.206906795501709,6.150929927825928,2.5453109741210938,1.5230227708816528,0.11825713515281677,1.5045093297958374,4.216023921966553,4.2084197998046875,4.121955394744873,4.3206682205200195,5.196885585784912,-0.3812480866909027,5.268511772155762,0.5447506904602051,0.09290384501218796,5.244777679443359,2.1139888763427734,6.7259626388549805,3.5494730472564697,6.211033344268799,0.039782218635082245,1.920319676399231,4.053747177124023,-0.8775524497032166,6.1851091384887695,2.191075325012207,5.996737480163574,0.3377271592617035,5.087917804718018,5.985352516174316,1.6598485708236694,6.33838415145874,0.6988810300827026,6.951289176940918,3.8089523315429688,2.0464389324188232,6.434111595153809,3.3554270267486572,5.946310997009277,6.000954627990723,5.858249664306641,5.7101569175720215,3.7815001010894775,0.7263798713684082,3.918959140777588,6.0884690284729,6.8711137771606445,4.99822998046875,2.012620210647583,2.303567409515381,5.822490215301514,0.7472022771835327,4.138579368591309,2.2933855056762695,3.3067829608917236,6.1926140785217285,6.246434211730957,4.192396640777588,6.829991340637207,-0.9308444857597351,0.05816665664315224,6.367784023284912,0.6390969157218933,4.112569808959961,6.1833977699279785,4.668416500091553,6.058712005615234,-0.9611997604370117,6.002284049987793,2.6930196285247803,3.004288911819458,5.6118950843811035,4.035894870758057,6.04916524887085,6.810374736785889,1.215751051902771,0.7946022152900696,0.09561815112829208,1.4921051263809204,-0.8526858687400818,3.161498546600342,6.079265117645264,6.0466628074646,6.058411121368408,4.472672939300537,4.636727809906006,2.569485902786255,-0.42953988909721375,5.332686901092529,-0.6745821833610535,2.41880464553833,0.41584500670433044,2.001089334487915,6.912187099456787,5.9751973152160645,5.867947578430176,5.267591953277588,2.7496330738067627,5.632646560668945,2.980908155441284,2.3777427673339844,6.1216936111450195,6.054833889007568,5.8161940574646,0.6700102686882019,6.519778728485107,0.7839500904083252,3.9274191856384277,0.4770181179046631,1.5726221799850464,2.6856870651245117,5.149914741516113,5.907506465911865,0.8356552720069885,1.50571870803833,6.083494663238525,-1.307597279548645,2.090089797973633,1.030785322189331,4.88844633102417,5.961116313934326,-0.6737779974937439,4.612355709075928,-0.8943843841552734,-1.3377057313919067,-1.0862441062927246,-0.8789669275283813,6.003635883331299,2.463623285293579,6.430108070373535,6.03822135925293,1.7195193767547607,4.367563247680664,5.983421802520752,5.681300640106201,6.1072564125061035,5.68772554397583,2.4816536903381348,3.5031485557556152,2.103065013885498,6.407647132873535,3.8973405361175537,-0.10222527384757996,1.4554060697555542,-0.6065133213996887,6.082862854003906],\"y\":[-10.582257270812988,-4.091534614562988,-10.642282485961914,-9.656174659729004,-9.231507301330566,-6.579885005950928,-8.91526985168457,-8.319108009338379,-6.042607307434082,-8.73739242553711,-7.8929924964904785,-10.841354370117188,-8.382898330688477,-4.733588695526123,-8.566730499267578,-5.9935197830200195,-6.536182403564453,-6.693540096282959,-10.423271179199219,-11.538642883300781,-10.08814525604248,-4.116912841796875,-9.134574890136719,-11.604326248168945,-8.975954055786133,-11.435111045837402,-10.940206527709961,-7.176690578460693,-5.3557562828063965,-6.976416110992432,-11.006627082824707,-10.9393310546875,-6.573747158050537,-10.501202583312988,-6.70372200012207,-8.321775436401367,-8.572959899902344,-7.059316635131836,-5.547551155090332,-5.8996148109436035,-10.820442199707031,-11.491037368774414,-6.413390636444092,-9.025245666503906,-9.951865196228027,-10.522591590881348,-5.9156365394592285,-6.141992568969727,-9.192827224731445,-9.372455596923828,-4.2219767570495605,-10.384931564331055,-7.085110664367676,-9.00147819519043,-5.487696647644043,-4.481850624084473,-10.625164031982422,-5.847250938415527,-4.53757905960083,-10.918378829956055,-8.467665672302246,-6.615912437438965,-5.80911922454834,-9.114897727966309,-4.577497482299805,-5.092214107513428,-11.63243579864502,-8.439391136169434,-11.205763816833496,-8.961499214172363,-5.770342826843262,-6.855310440063477,-7.138962268829346,-9.53724193572998,-10.065025329589844,-6.630342483520508,-9.3014554977417,-10.896666526794434,-4.111351490020752,-9.999707221984863,-10.791200637817383,-9.567586898803711,-11.250066757202148,-7.173673152923584,-6.224362850189209,-11.295083999633789,-8.540626525878906,-11.05239486694336,-7.996603012084961,-10.891228675842285,-11.045056343078613,-7.7233967781066895,-9.568806648254395,-8.396531105041504,-11.407879829406738,-10.954608917236328,-9.689318656921387,-6.112527370452881,-10.30395793914795,-4.431027412414551,-9.576544761657715,-4.319418907165527,-5.113028526306152,-8.833410263061523,-10.875900268554688,-9.9811372756958,-10.61083698272705,-11.454580307006836,-7.040412425994873,-9.007253646850586,-11.145787239074707,-9.51535415649414,-10.586697578430176,-9.38475227355957,-8.057380676269531,-5.091185569763184,-6.259207248687744,-11.380152702331543,-3.6524815559387207,-5.724170207977295,-7.969197750091553,-5.364840984344482,-7.802469730377197,-11.111658096313477,-9.393410682678223,-5.308684825897217,-9.077116966247559,-8.161652565002441,-7.318108558654785,-10.48044204711914,-5.011006832122803,-7.135659694671631,-5.278268337249756,-4.789710998535156,-5.1531572341918945,-6.659743785858154,-8.38105583190918,-8.722461700439453,-7.8079681396484375,-10.355294227600098,-9.394641876220703,-10.165292739868164,-10.989151954650879,-6.165406703948975,-6.123147487640381,-9.44524097442627,-10.431350708007812,-6.416171073913574,-10.458059310913086,-6.038009166717529,-10.955984115600586,-7.783870697021484,-7.412289142608643,-9.516539573669434,-11.055484771728516,-9.226715087890625,-6.147951602935791,-6.2824859619140625,-4.455844879150391,-9.759557723999023,-4.6402130126953125,-8.07835578918457,-9.606401443481445,-6.022129058837891,-8.025626182556152,-6.077385902404785,-10.202954292297363,-8.92491626739502,-8.043912887573242,-7.974161624908447,-7.856160640716553,-7.859457969665527,-7.125154972076416,-5.942590236663818,-6.590006351470947,-7.0899786949157715,-8.547893524169922,-9.47326946258545,-10.8001070022583,-5.532074928283691,-4.132667541503906,-10.045912742614746,-5.194040298461914,-8.725276947021484,-9.224328994750977,-8.518872261047363,-8.799286842346191,-8.278844833374023,-3.859443187713623,-11.644221305847168,-6.527399063110352,-8.883358001708984,-7.2567243576049805,-8.026326179504395,-8.053145408630371],\"z\":[-5.162503719329834,2.4840073585510254,-5.35084867477417,-2.424544095993042,-1.6932018995285034,0.9159253835678101,-4.040627956390381,-1.129169225692749,0.7757755517959595,-1.072689175605774,-2.525280714035034,-5.8995819091796875,-1.0987988710403442,0.845467209815979,-0.8937191367149353,0.8287705183029175,0.34392911195755005,-1.1442710161209106,-4.280472755432129,-7.460503578186035,-4.346515655517578,1.98983633518219,-1.5967581272125244,-6.9586381912231445,-3.7339160442352295,-7.6116719245910645,-7.556426048278809,-0.12032226473093033,1.6145625114440918,0.6014593243598938,-6.465169429779053,-6.212313175201416,0.24669291079044342,-4.690096855163574,0.82635498046875,-1.1965341567993164,-1.4142982959747314,0.35538145899772644,0.5767497420310974,1.451046347618103,-5.843294143676758,-7.497801303863525,1.0071662664413452,-3.931825637817383,-3.1349563598632812,-4.840872764587402,1.4372200965881348,1.2710671424865723,-4.701465606689453,-4.751038074493408,0.8745387196540833,-4.130029201507568,0.37031129002571106,-1.3912742137908936,1.6457889080047607,1.6193196773529053,-5.289097785949707,0.7226912379264832,1.5432581901550293,-6.177806377410889,-0.7945585250854492,-0.5204805135726929,1.4811842441558838,-1.5515882968902588,1.081534504890442,1.849906325340271,-7.383860111236572,-1.2887619733810425,-6.659811496734619,-1.32345712184906,1.3718197345733643,0.033067334443330765,0.46007412672042847,-4.9459075927734375,-3.8525614738464355,-1.1151386499404907,-1.7642179727554321,-6.113656520843506,1.043211817741394,-3.2432289123535156,-7.245794296264648,-2.2051968574523926,-7.079914093017578,-0.12706144154071808,1.0021873712539673,-7.684988498687744,-1.349361538887024,-7.056238174438477,-2.715024471282959,-6.4811601638793945,-6.604010105133057,-0.6145507097244263,-2.2226336002349854,-1.4588513374328613,-7.33437967300415,-7.3621039390563965,-4.536635398864746,1.094362497329712,-3.9232192039489746,0.8906035423278809,-2.2463932037353516,1.7611749172210693,1.7930692434310913,-1.7941462993621826,-6.815353870391846,-5.532610893249512,-5.263738632202148,-6.98546838760376,0.5468276739120483,-1.3930678367614746,-6.663450241088867,-2.1115219593048096,-5.191432476043701,-4.758917808532715,-0.5918422937393188,0.2413162887096405,1.1802277565002441,-6.930138111114502,2.7543394565582275,1.1643623113632202,-2.2835476398468018,1.0864590406417847,-2.485633611679077,-6.905542850494385,-2.0335376262664795,1.8614304065704346,-1.5109882354736328,-0.6386304497718811,0.30138441920280457,-4.556161880493164,0.29530954360961914,-1.703955054283142,0.08522795885801315,1.300512433052063,0.9726081490516663,0.5644517540931702,-0.7075838446617126,-3.2470803260803223,-0.1506897360086441,-4.032486438751221,-1.3763909339904785,-3.6185660362243652,-7.247069835662842,-0.6404922604560852,-0.521990180015564,-4.3603315353393555,-4.285070419311523,-0.6096258163452148,-4.4357123374938965,1.0840624570846558,-7.33968448638916,-2.466841459274292,-1.7731754779815674,-2.117703437805176,-7.650498867034912,-1.712874412536621,0.593201220035553,1.1095181703567505,2.435340642929077,-4.351261138916016,1.0839546918869019,-2.7502682209014893,-2.317094564437866,1.2293226718902588,-2.834472179412842,1.318741798400879,-3.7085540294647217,-1.3749884366989136,-0.5792959332466125,-2.6446614265441895,-0.19669480621814728,-0.502834141254425,0.4725564420223236,1.4183791875839233,0.9215410351753235,0.5027084350585938,-3.548450469970703,-4.260814189910889,-6.96089506149292,-0.11794286221265793,2.658689260482788,-4.658684253692627,0.19913141429424286,-4.197760581970215,-4.519552707672119,-4.123023509979248,-1.4749481678009033,-1.0741339921951294,2.7784881591796875,-7.068366050720215,0.3365195393562317,-1.2285702228546143,0.22726333141326904,-0.35998931527137756,-2.87553334236145],\"type\":\"scatter3d\"},{\"hovertemplate\":\"Dominant_Topic=Topic 3<br>0=%{x}<br>1=%{y}<br>2=%{z}<extra></extra>\",\"legendgroup\":\"Topic 3\",\"marker\":{\"color\":\"#ab63fa\",\"opacity\":0.7,\"symbol\":\"circle\"},\"mode\":\"markers\",\"name\":\"Topic 3\",\"scene\":\"scene\",\"showlegend\":true,\"x\":[-6.208475112915039,-5.399179935455322,-5.4517974853515625,-5.544582843780518,-5.556493759155273,-6.108826160430908,-6.118648529052734,-6.048877239227295,-5.64821195602417,-5.979484558105469,-6.183820724487305,-5.773375988006592,-5.8880181312561035,-5.669170379638672,-5.69296407699585,-5.352059364318848,-6.09763765335083,-5.609463691711426,-6.345526218414307,-6.076570510864258,-5.843845367431641,-6.039160251617432,-5.683829307556152,-6.182461738586426,-6.3206305503845215,-5.813172817230225,-5.498107433319092,-5.526543140411377,-5.800114631652832],\"y\":[-9.301158905029297,-9.834186553955078,-9.216829299926758,-9.374727249145508,-9.175507545471191,-10.18581771850586,-10.118165016174316,-9.370369911193848,-10.134391784667969,-9.249815940856934,-9.775093078613281,-8.233695030212402,-9.690783500671387,-10.091561317443848,-9.800565719604492,-9.716024398803711,-10.086082458496094,-9.758411407470703,-9.672103881835938,-10.09876823425293,-9.759576797485352,-9.171706199645996,-10.232955932617188,-9.532033920288086,-9.742308616638184,-8.708640098571777,-10.008556365966797,-9.08730697631836,-9.368913650512695],\"z\":[8.92833137512207,9.119266510009766,8.968415260314941,8.610390663146973,8.803382873535156,8.853643417358398,9.228796005249023,8.563420295715332,9.246304512023926,9.231561660766602,8.595531463623047,8.431715965270996,8.455449104309082,8.668803215026855,9.439509391784668,9.13783073425293,8.695525169372559,8.534294128417969,8.889376640319824,9.286664962768555,9.469120025634766,8.708524703979492,9.009902954101562,9.293185234069824,9.138041496276855,8.616037368774414,8.761138916015625,8.950545310974121,9.357147216796875],\"type\":\"scatter3d\"}],                        {\"template\":{\"data\":{\"histogram2dcontour\":[{\"type\":\"histogram2dcontour\",\"colorbar\":{\"outlinewidth\":0,\"ticks\":\"\"},\"colorscale\":[[0.0,\"#0d0887\"],[0.1111111111111111,\"#46039f\"],[0.2222222222222222,\"#7201a8\"],[0.3333333333333333,\"#9c179e\"],[0.4444444444444444,\"#bd3786\"],[0.5555555555555556,\"#d8576b\"],[0.6666666666666666,\"#ed7953\"],[0.7777777777777778,\"#fb9f3a\"],[0.8888888888888888,\"#fdca26\"],[1.0,\"#f0f921\"]]}],\"choropleth\":[{\"type\":\"choropleth\",\"colorbar\":{\"outlinewidth\":0,\"ticks\":\"\"}}],\"histogram2d\":[{\"type\":\"histogram2d\",\"colorbar\":{\"outlinewidth\":0,\"ticks\":\"\"},\"colorscale\":[[0.0,\"#0d0887\"],[0.1111111111111111,\"#46039f\"],[0.2222222222222222,\"#7201a8\"],[0.3333333333333333,\"#9c179e\"],[0.4444444444444444,\"#bd3786\"],[0.5555555555555556,\"#d8576b\"],[0.6666666666666666,\"#ed7953\"],[0.7777777777777778,\"#fb9f3a\"],[0.8888888888888888,\"#fdca26\"],[1.0,\"#f0f921\"]]}],\"heatmap\":[{\"type\":\"heatmap\",\"colorbar\":{\"outlinewidth\":0,\"ticks\":\"\"},\"colorscale\":[[0.0,\"#0d0887\"],[0.1111111111111111,\"#46039f\"],[0.2222222222222222,\"#7201a8\"],[0.3333333333333333,\"#9c179e\"],[0.4444444444444444,\"#bd3786\"],[0.5555555555555556,\"#d8576b\"],[0.6666666666666666,\"#ed7953\"],[0.7777777777777778,\"#fb9f3a\"],[0.8888888888888888,\"#fdca26\"],[1.0,\"#f0f921\"]]}],\"heatmapgl\":[{\"type\":\"heatmapgl\",\"colorbar\":{\"outlinewidth\":0,\"ticks\":\"\"},\"colorscale\":[[0.0,\"#0d0887\"],[0.1111111111111111,\"#46039f\"],[0.2222222222222222,\"#7201a8\"],[0.3333333333333333,\"#9c179e\"],[0.4444444444444444,\"#bd3786\"],[0.5555555555555556,\"#d8576b\"],[0.6666666666666666,\"#ed7953\"],[0.7777777777777778,\"#fb9f3a\"],[0.8888888888888888,\"#fdca26\"],[1.0,\"#f0f921\"]]}],\"contourcarpet\":[{\"type\":\"contourcarpet\",\"colorbar\":{\"outlinewidth\":0,\"ticks\":\"\"}}],\"contour\":[{\"type\":\"contour\",\"colorbar\":{\"outlinewidth\":0,\"ticks\":\"\"},\"colorscale\":[[0.0,\"#0d0887\"],[0.1111111111111111,\"#46039f\"],[0.2222222222222222,\"#7201a8\"],[0.3333333333333333,\"#9c179e\"],[0.4444444444444444,\"#bd3786\"],[0.5555555555555556,\"#d8576b\"],[0.6666666666666666,\"#ed7953\"],[0.7777777777777778,\"#fb9f3a\"],[0.8888888888888888,\"#fdca26\"],[1.0,\"#f0f921\"]]}],\"surface\":[{\"type\":\"surface\",\"colorbar\":{\"outlinewidth\":0,\"ticks\":\"\"},\"colorscale\":[[0.0,\"#0d0887\"],[0.1111111111111111,\"#46039f\"],[0.2222222222222222,\"#7201a8\"],[0.3333333333333333,\"#9c179e\"],[0.4444444444444444,\"#bd3786\"],[0.5555555555555556,\"#d8576b\"],[0.6666666666666666,\"#ed7953\"],[0.7777777777777778,\"#fb9f3a\"],[0.8888888888888888,\"#fdca26\"],[1.0,\"#f0f921\"]]}],\"mesh3d\":[{\"type\":\"mesh3d\",\"colorbar\":{\"outlinewidth\":0,\"ticks\":\"\"}}],\"scatter\":[{\"fillpattern\":{\"fillmode\":\"overlay\",\"size\":10,\"solidity\":0.2},\"type\":\"scatter\"}],\"parcoords\":[{\"type\":\"parcoords\",\"line\":{\"colorbar\":{\"outlinewidth\":0,\"ticks\":\"\"}}}],\"scatterpolargl\":[{\"type\":\"scatterpolargl\",\"marker\":{\"colorbar\":{\"outlinewidth\":0,\"ticks\":\"\"}}}],\"bar\":[{\"error_x\":{\"color\":\"#2a3f5f\"},\"error_y\":{\"color\":\"#2a3f5f\"},\"marker\":{\"line\":{\"color\":\"#E5ECF6\",\"width\":0.5},\"pattern\":{\"fillmode\":\"overlay\",\"size\":10,\"solidity\":0.2}},\"type\":\"bar\"}],\"scattergeo\":[{\"type\":\"scattergeo\",\"marker\":{\"colorbar\":{\"outlinewidth\":0,\"ticks\":\"\"}}}],\"scatterpolar\":[{\"type\":\"scatterpolar\",\"marker\":{\"colorbar\":{\"outlinewidth\":0,\"ticks\":\"\"}}}],\"histogram\":[{\"marker\":{\"pattern\":{\"fillmode\":\"overlay\",\"size\":10,\"solidity\":0.2}},\"type\":\"histogram\"}],\"scattergl\":[{\"type\":\"scattergl\",\"marker\":{\"colorbar\":{\"outlinewidth\":0,\"ticks\":\"\"}}}],\"scatter3d\":[{\"type\":\"scatter3d\",\"line\":{\"colorbar\":{\"outlinewidth\":0,\"ticks\":\"\"}},\"marker\":{\"colorbar\":{\"outlinewidth\":0,\"ticks\":\"\"}}}],\"scattermapbox\":[{\"type\":\"scattermapbox\",\"marker\":{\"colorbar\":{\"outlinewidth\":0,\"ticks\":\"\"}}}],\"scatterternary\":[{\"type\":\"scatterternary\",\"marker\":{\"colorbar\":{\"outlinewidth\":0,\"ticks\":\"\"}}}],\"scattercarpet\":[{\"type\":\"scattercarpet\",\"marker\":{\"colorbar\":{\"outlinewidth\":0,\"ticks\":\"\"}}}],\"carpet\":[{\"aaxis\":{\"endlinecolor\":\"#2a3f5f\",\"gridcolor\":\"white\",\"linecolor\":\"white\",\"minorgridcolor\":\"white\",\"startlinecolor\":\"#2a3f5f\"},\"baxis\":{\"endlinecolor\":\"#2a3f5f\",\"gridcolor\":\"white\",\"linecolor\":\"white\",\"minorgridcolor\":\"white\",\"startlinecolor\":\"#2a3f5f\"},\"type\":\"carpet\"}],\"table\":[{\"cells\":{\"fill\":{\"color\":\"#EBF0F8\"},\"line\":{\"color\":\"white\"}},\"header\":{\"fill\":{\"color\":\"#C8D4E3\"},\"line\":{\"color\":\"white\"}},\"type\":\"table\"}],\"barpolar\":[{\"marker\":{\"line\":{\"color\":\"#E5ECF6\",\"width\":0.5},\"pattern\":{\"fillmode\":\"overlay\",\"size\":10,\"solidity\":0.2}},\"type\":\"barpolar\"}],\"pie\":[{\"automargin\":true,\"type\":\"pie\"}]},\"layout\":{\"autotypenumbers\":\"strict\",\"colorway\":[\"#636efa\",\"#EF553B\",\"#00cc96\",\"#ab63fa\",\"#FFA15A\",\"#19d3f3\",\"#FF6692\",\"#B6E880\",\"#FF97FF\",\"#FECB52\"],\"font\":{\"color\":\"#2a3f5f\"},\"hovermode\":\"closest\",\"hoverlabel\":{\"align\":\"left\"},\"paper_bgcolor\":\"white\",\"plot_bgcolor\":\"#E5ECF6\",\"polar\":{\"bgcolor\":\"#E5ECF6\",\"angularaxis\":{\"gridcolor\":\"white\",\"linecolor\":\"white\",\"ticks\":\"\"},\"radialaxis\":{\"gridcolor\":\"white\",\"linecolor\":\"white\",\"ticks\":\"\"}},\"ternary\":{\"bgcolor\":\"#E5ECF6\",\"aaxis\":{\"gridcolor\":\"white\",\"linecolor\":\"white\",\"ticks\":\"\"},\"baxis\":{\"gridcolor\":\"white\",\"linecolor\":\"white\",\"ticks\":\"\"},\"caxis\":{\"gridcolor\":\"white\",\"linecolor\":\"white\",\"ticks\":\"\"}},\"coloraxis\":{\"colorbar\":{\"outlinewidth\":0,\"ticks\":\"\"}},\"colorscale\":{\"sequential\":[[0.0,\"#0d0887\"],[0.1111111111111111,\"#46039f\"],[0.2222222222222222,\"#7201a8\"],[0.3333333333333333,\"#9c179e\"],[0.4444444444444444,\"#bd3786\"],[0.5555555555555556,\"#d8576b\"],[0.6666666666666666,\"#ed7953\"],[0.7777777777777778,\"#fb9f3a\"],[0.8888888888888888,\"#fdca26\"],[1.0,\"#f0f921\"]],\"sequentialminus\":[[0.0,\"#0d0887\"],[0.1111111111111111,\"#46039f\"],[0.2222222222222222,\"#7201a8\"],[0.3333333333333333,\"#9c179e\"],[0.4444444444444444,\"#bd3786\"],[0.5555555555555556,\"#d8576b\"],[0.6666666666666666,\"#ed7953\"],[0.7777777777777778,\"#fb9f3a\"],[0.8888888888888888,\"#fdca26\"],[1.0,\"#f0f921\"]],\"diverging\":[[0,\"#8e0152\"],[0.1,\"#c51b7d\"],[0.2,\"#de77ae\"],[0.3,\"#f1b6da\"],[0.4,\"#fde0ef\"],[0.5,\"#f7f7f7\"],[0.6,\"#e6f5d0\"],[0.7,\"#b8e186\"],[0.8,\"#7fbc41\"],[0.9,\"#4d9221\"],[1,\"#276419\"]]},\"xaxis\":{\"gridcolor\":\"white\",\"linecolor\":\"white\",\"ticks\":\"\",\"title\":{\"standoff\":15},\"zerolinecolor\":\"white\",\"automargin\":true,\"zerolinewidth\":2},\"yaxis\":{\"gridcolor\":\"white\",\"linecolor\":\"white\",\"ticks\":\"\",\"title\":{\"standoff\":15},\"zerolinecolor\":\"white\",\"automargin\":true,\"zerolinewidth\":2},\"scene\":{\"xaxis\":{\"backgroundcolor\":\"#E5ECF6\",\"gridcolor\":\"white\",\"linecolor\":\"white\",\"showbackground\":true,\"ticks\":\"\",\"zerolinecolor\":\"white\",\"gridwidth\":2},\"yaxis\":{\"backgroundcolor\":\"#E5ECF6\",\"gridcolor\":\"white\",\"linecolor\":\"white\",\"showbackground\":true,\"ticks\":\"\",\"zerolinecolor\":\"white\",\"gridwidth\":2},\"zaxis\":{\"backgroundcolor\":\"#E5ECF6\",\"gridcolor\":\"white\",\"linecolor\":\"white\",\"showbackground\":true,\"ticks\":\"\",\"zerolinecolor\":\"white\",\"gridwidth\":2}},\"shapedefaults\":{\"line\":{\"color\":\"#2a3f5f\"}},\"annotationdefaults\":{\"arrowcolor\":\"#2a3f5f\",\"arrowhead\":0,\"arrowwidth\":1},\"geo\":{\"bgcolor\":\"white\",\"landcolor\":\"#E5ECF6\",\"subunitcolor\":\"white\",\"showland\":true,\"showlakes\":true,\"lakecolor\":\"white\"},\"title\":{\"x\":0.05},\"mapbox\":{\"style\":\"light\"}}},\"scene\":{\"domain\":{\"x\":[0.0,1.0],\"y\":[0.0,1.0]},\"xaxis\":{\"title\":{\"text\":\"0\"}},\"yaxis\":{\"title\":{\"text\":\"1\"}},\"zaxis\":{\"title\":{\"text\":\"2\"}}},\"legend\":{\"title\":{\"text\":\"Dominant_Topic\"},\"tracegroupgap\":0},\"title\":{\"text\":\"3d TSNE Plot for Topic Model\"},\"height\":800,\"width\":900},                        {\"responsive\": true}                    ).then(function(){\n",
       "                            \n",
       "var gd = document.getElementById('83be5c70-31c4-434f-bc3c-9a9dd3d15013');\n",
       "var x = new MutationObserver(function (mutations, observer) {{\n",
       "        var display = window.getComputedStyle(gd).display;\n",
       "        if (!display || display === 'none') {{\n",
       "            console.log([gd, 'removed!']);\n",
       "            Plotly.purge(gd);\n",
       "            observer.disconnect();\n",
       "        }}\n",
       "}});\n",
       "\n",
       "// Listen for the removal of the full notebook cells\n",
       "var notebookContainer = gd.closest('#notebook-container');\n",
       "if (notebookContainer) {{\n",
       "    x.observe(notebookContainer, {childList: true});\n",
       "}}\n",
       "\n",
       "// Listen for the clearing of the current output cell\n",
       "var outputEl = gd.closest('.output');\n",
       "if (outputEl) {{\n",
       "    x.observe(outputEl, {childList: true});\n",
       "}}\n",
       "\n",
       "                        })                };                });            </script>        </div>"
      ]
     },
     "metadata": {},
     "output_type": "display_data"
    }
   ],
   "source": [
    "# T-distributed Stochastic Neighbor Embedding (t-SNE)\n",
    "plot_model(lda, plot = 'tsne')"
   ]
  },
  {
   "cell_type": "code",
   "execution_count": 16,
   "metadata": {},
   "outputs": [
    {
     "data": {
      "text/html": [
       "        <script type=\"text/javascript\">\n",
       "        window.PlotlyConfig = {MathJaxConfig: 'local'};\n",
       "        if (window.MathJax && window.MathJax.Hub && window.MathJax.Hub.Config) {window.MathJax.Hub.Config({SVG: {font: \"STIX-Web\"}});}\n",
       "        if (typeof require !== 'undefined') {\n",
       "        require.undef(\"plotly\");\n",
       "        requirejs.config({\n",
       "            paths: {\n",
       "                'plotly': ['https://cdn.plot.ly/plotly-2.14.0.min']\n",
       "            }\n",
       "        });\n",
       "        require(['plotly'], function(Plotly) {\n",
       "            window._Plotly = Plotly;\n",
       "        });\n",
       "        }\n",
       "        </script>\n",
       "        "
      ]
     },
     "metadata": {},
     "output_type": "display_data"
    },
    {
     "name": "stderr",
     "output_type": "stream",
     "text": [
      "OMP: Info #276: omp_set_nested routine deprecated, please use omp_set_max_active_levels instead.\n"
     ]
    },
    {
     "data": {
      "image/png": "[encoded data removed]",
      "text/plain": [
       "<Figure size 1000x600 with 1 Axes>"
      ]
     },
     "metadata": {},
     "output_type": "display_data"
    }
   ],
   "source": [
    "# Uniform Manifold Approximation and Projection Plot\n",
    "plot_model(lda, plot = 'umap')"
   ]
  },
  {
   "cell_type": "markdown",
   "metadata": {},
   "source": [
    "# Evaluate Model"
   ]
  },
  {
   "cell_type": "code",
   "execution_count": 17,
   "metadata": {},
   "outputs": [
    {
     "data": {
      "application/vnd.jupyter.widget-view+json": {
       "model_id": "287b1569279241deaaa165383f3ededc",
       "version_major": 2,
       "version_minor": 0
      },
      "text/plain": [
       "interactive(children=(ToggleButtons(description='Plot Type:', icons=('',), options=(('Frequency Plot', 'freque…"
      ]
     },
     "metadata": {},
     "output_type": "display_data"
    }
   ],
   "source": [
    "evaluate_model(lda)"
   ]
  },
  {
   "cell_type": "markdown",
   "metadata": {},
   "source": [
    "# Model Building"
   ]
  },
  {
   "cell_type": "code",
   "execution_count": 18,
   "metadata": {},
   "outputs": [
    {
     "data": {
      "text/html": [
       "<div>\n",
       "<style scoped>\n",
       "    .dataframe tbody tr th:only-of-type {\n",
       "        vertical-align: middle;\n",
       "    }\n",
       "\n",
       "    .dataframe tbody tr th {\n",
       "        vertical-align: top;\n",
       "    }\n",
       "\n",
       "    .dataframe thead th {\n",
       "        text-align: right;\n",
       "    }\n",
       "</style>\n",
       "<table border=\"1\" class=\"dataframe\">\n",
       "  <thead>\n",
       "    <tr style=\"text-align: right;\">\n",
       "      <th></th>\n",
       "      <th>status</th>\n",
       "      <th>Topic_0</th>\n",
       "      <th>Topic_1</th>\n",
       "      <th>Topic_2</th>\n",
       "      <th>Topic_3</th>\n",
       "    </tr>\n",
       "  </thead>\n",
       "  <tbody>\n",
       "    <tr>\n",
       "      <th>0</th>\n",
       "      <td>0</td>\n",
       "      <td>0.682645</td>\n",
       "      <td>0.174738</td>\n",
       "      <td>0.142211</td>\n",
       "      <td>0.000406</td>\n",
       "    </tr>\n",
       "    <tr>\n",
       "      <th>1</th>\n",
       "      <td>0</td>\n",
       "      <td>0.003994</td>\n",
       "      <td>0.156257</td>\n",
       "      <td>0.839335</td>\n",
       "      <td>0.000414</td>\n",
       "    </tr>\n",
       "    <tr>\n",
       "      <th>2</th>\n",
       "      <td>0</td>\n",
       "      <td>0.004554</td>\n",
       "      <td>0.852971</td>\n",
       "      <td>0.142008</td>\n",
       "      <td>0.000468</td>\n",
       "    </tr>\n",
       "    <tr>\n",
       "      <th>3</th>\n",
       "      <td>1</td>\n",
       "      <td>0.769483</td>\n",
       "      <td>0.225918</td>\n",
       "      <td>0.004099</td>\n",
       "      <td>0.000500</td>\n",
       "    </tr>\n",
       "    <tr>\n",
       "      <th>4</th>\n",
       "      <td>1</td>\n",
       "      <td>0.636042</td>\n",
       "      <td>0.242644</td>\n",
       "      <td>0.120901</td>\n",
       "      <td>0.000414</td>\n",
       "    </tr>\n",
       "  </tbody>\n",
       "</table>\n",
       "</div>"
      ],
      "text/plain": [
       "   status   Topic_0   Topic_1   Topic_2   Topic_3\n",
       "0       0  0.682645  0.174738  0.142211  0.000406\n",
       "1       0  0.003994  0.156257  0.839335  0.000414\n",
       "2       0  0.004554  0.852971  0.142008  0.000468\n",
       "3       1  0.769483  0.225918  0.004099  0.000500\n",
       "4       1  0.636042  0.242644  0.120901  0.000414"
      ]
     },
     "execution_count": 18,
     "metadata": {},
     "output_type": "execute_result"
    }
   ],
   "source": [
    "lda_results.drop(['country','en','gender','loan_amount','nonpayment','sector','Dominant_Topic','Perc_Dominant_Topic'],\n",
    "    axis=1, inplace=True)\n",
    "lda_results.head()"
   ]
  },
  {
   "cell_type": "code",
   "execution_count": 19,
   "metadata": {},
   "outputs": [
    {
     "data": {
      "text/html": [
       "<style type=\"text/css\">\n",
       "#T_1de91_row44_col1 {\n",
       "  background-color: lightgreen;\n",
       "}\n",
       "</style>\n",
       "<table id=\"T_1de91\">\n",
       "  <thead>\n",
       "    <tr>\n",
       "      <th class=\"blank level0\" >&nbsp;</th>\n",
       "      <th id=\"T_1de91_level0_col0\" class=\"col_heading level0 col0\" >Description</th>\n",
       "      <th id=\"T_1de91_level0_col1\" class=\"col_heading level0 col1\" >Value</th>\n",
       "    </tr>\n",
       "  </thead>\n",
       "  <tbody>\n",
       "    <tr>\n",
       "      <th id=\"T_1de91_level0_row0\" class=\"row_heading level0 row0\" >0</th>\n",
       "      <td id=\"T_1de91_row0_col0\" class=\"data row0 col0\" >session_id</td>\n",
       "      <td id=\"T_1de91_row0_col1\" class=\"data row0 col1\" >5</td>\n",
       "    </tr>\n",
       "    <tr>\n",
       "      <th id=\"T_1de91_level0_row1\" class=\"row_heading level0 row1\" >1</th>\n",
       "      <td id=\"T_1de91_row1_col0\" class=\"data row1 col0\" >Target</td>\n",
       "      <td id=\"T_1de91_row1_col1\" class=\"data row1 col1\" >status</td>\n",
       "    </tr>\n",
       "    <tr>\n",
       "      <th id=\"T_1de91_level0_row2\" class=\"row_heading level0 row2\" >2</th>\n",
       "      <td id=\"T_1de91_row2_col0\" class=\"data row2 col0\" >Target Type</td>\n",
       "      <td id=\"T_1de91_row2_col1\" class=\"data row2 col1\" >Binary</td>\n",
       "    </tr>\n",
       "    <tr>\n",
       "      <th id=\"T_1de91_level0_row3\" class=\"row_heading level0 row3\" >3</th>\n",
       "      <td id=\"T_1de91_row3_col0\" class=\"data row3 col0\" >Label Encoded</td>\n",
       "      <td id=\"T_1de91_row3_col1\" class=\"data row3 col1\" >None</td>\n",
       "    </tr>\n",
       "    <tr>\n",
       "      <th id=\"T_1de91_level0_row4\" class=\"row_heading level0 row4\" >4</th>\n",
       "      <td id=\"T_1de91_row4_col0\" class=\"data row4 col0\" >Original Data</td>\n",
       "      <td id=\"T_1de91_row4_col1\" class=\"data row4 col1\" >(1000, 5)</td>\n",
       "    </tr>\n",
       "    <tr>\n",
       "      <th id=\"T_1de91_level0_row5\" class=\"row_heading level0 row5\" >5</th>\n",
       "      <td id=\"T_1de91_row5_col0\" class=\"data row5 col0\" >Missing Values</td>\n",
       "      <td id=\"T_1de91_row5_col1\" class=\"data row5 col1\" >False</td>\n",
       "    </tr>\n",
       "    <tr>\n",
       "      <th id=\"T_1de91_level0_row6\" class=\"row_heading level0 row6\" >6</th>\n",
       "      <td id=\"T_1de91_row6_col0\" class=\"data row6 col0\" >Numeric Features</td>\n",
       "      <td id=\"T_1de91_row6_col1\" class=\"data row6 col1\" >4</td>\n",
       "    </tr>\n",
       "    <tr>\n",
       "      <th id=\"T_1de91_level0_row7\" class=\"row_heading level0 row7\" >7</th>\n",
       "      <td id=\"T_1de91_row7_col0\" class=\"data row7 col0\" >Categorical Features</td>\n",
       "      <td id=\"T_1de91_row7_col1\" class=\"data row7 col1\" >0</td>\n",
       "    </tr>\n",
       "    <tr>\n",
       "      <th id=\"T_1de91_level0_row8\" class=\"row_heading level0 row8\" >8</th>\n",
       "      <td id=\"T_1de91_row8_col0\" class=\"data row8 col0\" >Ordinal Features</td>\n",
       "      <td id=\"T_1de91_row8_col1\" class=\"data row8 col1\" >False</td>\n",
       "    </tr>\n",
       "    <tr>\n",
       "      <th id=\"T_1de91_level0_row9\" class=\"row_heading level0 row9\" >9</th>\n",
       "      <td id=\"T_1de91_row9_col0\" class=\"data row9 col0\" >High Cardinality Features</td>\n",
       "      <td id=\"T_1de91_row9_col1\" class=\"data row9 col1\" >False</td>\n",
       "    </tr>\n",
       "    <tr>\n",
       "      <th id=\"T_1de91_level0_row10\" class=\"row_heading level0 row10\" >10</th>\n",
       "      <td id=\"T_1de91_row10_col0\" class=\"data row10 col0\" >High Cardinality Method</td>\n",
       "      <td id=\"T_1de91_row10_col1\" class=\"data row10 col1\" >None</td>\n",
       "    </tr>\n",
       "    <tr>\n",
       "      <th id=\"T_1de91_level0_row11\" class=\"row_heading level0 row11\" >11</th>\n",
       "      <td id=\"T_1de91_row11_col0\" class=\"data row11 col0\" >Transformed Train Set</td>\n",
       "      <td id=\"T_1de91_row11_col1\" class=\"data row11 col1\" >(849, 4)</td>\n",
       "    </tr>\n",
       "    <tr>\n",
       "      <th id=\"T_1de91_level0_row12\" class=\"row_heading level0 row12\" >12</th>\n",
       "      <td id=\"T_1de91_row12_col0\" class=\"data row12 col0\" >Transformed Test Set</td>\n",
       "      <td id=\"T_1de91_row12_col1\" class=\"data row12 col1\" >(151, 4)</td>\n",
       "    </tr>\n",
       "    <tr>\n",
       "      <th id=\"T_1de91_level0_row13\" class=\"row_heading level0 row13\" >13</th>\n",
       "      <td id=\"T_1de91_row13_col0\" class=\"data row13 col0\" >Shuffle Train-Test</td>\n",
       "      <td id=\"T_1de91_row13_col1\" class=\"data row13 col1\" >True</td>\n",
       "    </tr>\n",
       "    <tr>\n",
       "      <th id=\"T_1de91_level0_row14\" class=\"row_heading level0 row14\" >14</th>\n",
       "      <td id=\"T_1de91_row14_col0\" class=\"data row14 col0\" >Stratify Train-Test</td>\n",
       "      <td id=\"T_1de91_row14_col1\" class=\"data row14 col1\" >False</td>\n",
       "    </tr>\n",
       "    <tr>\n",
       "      <th id=\"T_1de91_level0_row15\" class=\"row_heading level0 row15\" >15</th>\n",
       "      <td id=\"T_1de91_row15_col0\" class=\"data row15 col0\" >Fold Generator</td>\n",
       "      <td id=\"T_1de91_row15_col1\" class=\"data row15 col1\" >StratifiedKFold</td>\n",
       "    </tr>\n",
       "    <tr>\n",
       "      <th id=\"T_1de91_level0_row16\" class=\"row_heading level0 row16\" >16</th>\n",
       "      <td id=\"T_1de91_row16_col0\" class=\"data row16 col0\" >Fold Number</td>\n",
       "      <td id=\"T_1de91_row16_col1\" class=\"data row16 col1\" >10</td>\n",
       "    </tr>\n",
       "    <tr>\n",
       "      <th id=\"T_1de91_level0_row17\" class=\"row_heading level0 row17\" >17</th>\n",
       "      <td id=\"T_1de91_row17_col0\" class=\"data row17 col0\" >CPU Jobs</td>\n",
       "      <td id=\"T_1de91_row17_col1\" class=\"data row17 col1\" >-1</td>\n",
       "    </tr>\n",
       "    <tr>\n",
       "      <th id=\"T_1de91_level0_row18\" class=\"row_heading level0 row18\" >18</th>\n",
       "      <td id=\"T_1de91_row18_col0\" class=\"data row18 col0\" >Use GPU</td>\n",
       "      <td id=\"T_1de91_row18_col1\" class=\"data row18 col1\" >False</td>\n",
       "    </tr>\n",
       "    <tr>\n",
       "      <th id=\"T_1de91_level0_row19\" class=\"row_heading level0 row19\" >19</th>\n",
       "      <td id=\"T_1de91_row19_col0\" class=\"data row19 col0\" >Log Experiment</td>\n",
       "      <td id=\"T_1de91_row19_col1\" class=\"data row19 col1\" >False</td>\n",
       "    </tr>\n",
       "    <tr>\n",
       "      <th id=\"T_1de91_level0_row20\" class=\"row_heading level0 row20\" >20</th>\n",
       "      <td id=\"T_1de91_row20_col0\" class=\"data row20 col0\" >Experiment Name</td>\n",
       "      <td id=\"T_1de91_row20_col1\" class=\"data row20 col1\" >clf-default-name</td>\n",
       "    </tr>\n",
       "    <tr>\n",
       "      <th id=\"T_1de91_level0_row21\" class=\"row_heading level0 row21\" >21</th>\n",
       "      <td id=\"T_1de91_row21_col0\" class=\"data row21 col0\" >USI</td>\n",
       "      <td id=\"T_1de91_row21_col1\" class=\"data row21 col1\" >327c</td>\n",
       "    </tr>\n",
       "    <tr>\n",
       "      <th id=\"T_1de91_level0_row22\" class=\"row_heading level0 row22\" >22</th>\n",
       "      <td id=\"T_1de91_row22_col0\" class=\"data row22 col0\" >Imputation Type</td>\n",
       "      <td id=\"T_1de91_row22_col1\" class=\"data row22 col1\" >simple</td>\n",
       "    </tr>\n",
       "    <tr>\n",
       "      <th id=\"T_1de91_level0_row23\" class=\"row_heading level0 row23\" >23</th>\n",
       "      <td id=\"T_1de91_row23_col0\" class=\"data row23 col0\" >Iterative Imputation Iteration</td>\n",
       "      <td id=\"T_1de91_row23_col1\" class=\"data row23 col1\" >None</td>\n",
       "    </tr>\n",
       "    <tr>\n",
       "      <th id=\"T_1de91_level0_row24\" class=\"row_heading level0 row24\" >24</th>\n",
       "      <td id=\"T_1de91_row24_col0\" class=\"data row24 col0\" >Numeric Imputer</td>\n",
       "      <td id=\"T_1de91_row24_col1\" class=\"data row24 col1\" >mean</td>\n",
       "    </tr>\n",
       "    <tr>\n",
       "      <th id=\"T_1de91_level0_row25\" class=\"row_heading level0 row25\" >25</th>\n",
       "      <td id=\"T_1de91_row25_col0\" class=\"data row25 col0\" >Iterative Imputation Numeric Model</td>\n",
       "      <td id=\"T_1de91_row25_col1\" class=\"data row25 col1\" >None</td>\n",
       "    </tr>\n",
       "    <tr>\n",
       "      <th id=\"T_1de91_level0_row26\" class=\"row_heading level0 row26\" >26</th>\n",
       "      <td id=\"T_1de91_row26_col0\" class=\"data row26 col0\" >Categorical Imputer</td>\n",
       "      <td id=\"T_1de91_row26_col1\" class=\"data row26 col1\" >constant</td>\n",
       "    </tr>\n",
       "    <tr>\n",
       "      <th id=\"T_1de91_level0_row27\" class=\"row_heading level0 row27\" >27</th>\n",
       "      <td id=\"T_1de91_row27_col0\" class=\"data row27 col0\" >Iterative Imputation Categorical Model</td>\n",
       "      <td id=\"T_1de91_row27_col1\" class=\"data row27 col1\" >None</td>\n",
       "    </tr>\n",
       "    <tr>\n",
       "      <th id=\"T_1de91_level0_row28\" class=\"row_heading level0 row28\" >28</th>\n",
       "      <td id=\"T_1de91_row28_col0\" class=\"data row28 col0\" >Unknown Categoricals Handling</td>\n",
       "      <td id=\"T_1de91_row28_col1\" class=\"data row28 col1\" >least_frequent</td>\n",
       "    </tr>\n",
       "    <tr>\n",
       "      <th id=\"T_1de91_level0_row29\" class=\"row_heading level0 row29\" >29</th>\n",
       "      <td id=\"T_1de91_row29_col0\" class=\"data row29 col0\" >Normalize</td>\n",
       "      <td id=\"T_1de91_row29_col1\" class=\"data row29 col1\" >False</td>\n",
       "    </tr>\n",
       "    <tr>\n",
       "      <th id=\"T_1de91_level0_row30\" class=\"row_heading level0 row30\" >30</th>\n",
       "      <td id=\"T_1de91_row30_col0\" class=\"data row30 col0\" >Normalize Method</td>\n",
       "      <td id=\"T_1de91_row30_col1\" class=\"data row30 col1\" >None</td>\n",
       "    </tr>\n",
       "    <tr>\n",
       "      <th id=\"T_1de91_level0_row31\" class=\"row_heading level0 row31\" >31</th>\n",
       "      <td id=\"T_1de91_row31_col0\" class=\"data row31 col0\" >Transformation</td>\n",
       "      <td id=\"T_1de91_row31_col1\" class=\"data row31 col1\" >False</td>\n",
       "    </tr>\n",
       "    <tr>\n",
       "      <th id=\"T_1de91_level0_row32\" class=\"row_heading level0 row32\" >32</th>\n",
       "      <td id=\"T_1de91_row32_col0\" class=\"data row32 col0\" >Transformation Method</td>\n",
       "      <td id=\"T_1de91_row32_col1\" class=\"data row32 col1\" >None</td>\n",
       "    </tr>\n",
       "    <tr>\n",
       "      <th id=\"T_1de91_level0_row33\" class=\"row_heading level0 row33\" >33</th>\n",
       "      <td id=\"T_1de91_row33_col0\" class=\"data row33 col0\" >PCA</td>\n",
       "      <td id=\"T_1de91_row33_col1\" class=\"data row33 col1\" >False</td>\n",
       "    </tr>\n",
       "    <tr>\n",
       "      <th id=\"T_1de91_level0_row34\" class=\"row_heading level0 row34\" >34</th>\n",
       "      <td id=\"T_1de91_row34_col0\" class=\"data row34 col0\" >PCA Method</td>\n",
       "      <td id=\"T_1de91_row34_col1\" class=\"data row34 col1\" >None</td>\n",
       "    </tr>\n",
       "    <tr>\n",
       "      <th id=\"T_1de91_level0_row35\" class=\"row_heading level0 row35\" >35</th>\n",
       "      <td id=\"T_1de91_row35_col0\" class=\"data row35 col0\" >PCA Components</td>\n",
       "      <td id=\"T_1de91_row35_col1\" class=\"data row35 col1\" >None</td>\n",
       "    </tr>\n",
       "    <tr>\n",
       "      <th id=\"T_1de91_level0_row36\" class=\"row_heading level0 row36\" >36</th>\n",
       "      <td id=\"T_1de91_row36_col0\" class=\"data row36 col0\" >Ignore Low Variance</td>\n",
       "      <td id=\"T_1de91_row36_col1\" class=\"data row36 col1\" >False</td>\n",
       "    </tr>\n",
       "    <tr>\n",
       "      <th id=\"T_1de91_level0_row37\" class=\"row_heading level0 row37\" >37</th>\n",
       "      <td id=\"T_1de91_row37_col0\" class=\"data row37 col0\" >Combine Rare Levels</td>\n",
       "      <td id=\"T_1de91_row37_col1\" class=\"data row37 col1\" >False</td>\n",
       "    </tr>\n",
       "    <tr>\n",
       "      <th id=\"T_1de91_level0_row38\" class=\"row_heading level0 row38\" >38</th>\n",
       "      <td id=\"T_1de91_row38_col0\" class=\"data row38 col0\" >Rare Level Threshold</td>\n",
       "      <td id=\"T_1de91_row38_col1\" class=\"data row38 col1\" >None</td>\n",
       "    </tr>\n",
       "    <tr>\n",
       "      <th id=\"T_1de91_level0_row39\" class=\"row_heading level0 row39\" >39</th>\n",
       "      <td id=\"T_1de91_row39_col0\" class=\"data row39 col0\" >Numeric Binning</td>\n",
       "      <td id=\"T_1de91_row39_col1\" class=\"data row39 col1\" >False</td>\n",
       "    </tr>\n",
       "    <tr>\n",
       "      <th id=\"T_1de91_level0_row40\" class=\"row_heading level0 row40\" >40</th>\n",
       "      <td id=\"T_1de91_row40_col0\" class=\"data row40 col0\" >Remove Outliers</td>\n",
       "      <td id=\"T_1de91_row40_col1\" class=\"data row40 col1\" >False</td>\n",
       "    </tr>\n",
       "    <tr>\n",
       "      <th id=\"T_1de91_level0_row41\" class=\"row_heading level0 row41\" >41</th>\n",
       "      <td id=\"T_1de91_row41_col0\" class=\"data row41 col0\" >Outliers Threshold</td>\n",
       "      <td id=\"T_1de91_row41_col1\" class=\"data row41 col1\" >None</td>\n",
       "    </tr>\n",
       "    <tr>\n",
       "      <th id=\"T_1de91_level0_row42\" class=\"row_heading level0 row42\" >42</th>\n",
       "      <td id=\"T_1de91_row42_col0\" class=\"data row42 col0\" >Remove Multicollinearity</td>\n",
       "      <td id=\"T_1de91_row42_col1\" class=\"data row42 col1\" >False</td>\n",
       "    </tr>\n",
       "    <tr>\n",
       "      <th id=\"T_1de91_level0_row43\" class=\"row_heading level0 row43\" >43</th>\n",
       "      <td id=\"T_1de91_row43_col0\" class=\"data row43 col0\" >Multicollinearity Threshold</td>\n",
       "      <td id=\"T_1de91_row43_col1\" class=\"data row43 col1\" >None</td>\n",
       "    </tr>\n",
       "    <tr>\n",
       "      <th id=\"T_1de91_level0_row44\" class=\"row_heading level0 row44\" >44</th>\n",
       "      <td id=\"T_1de91_row44_col0\" class=\"data row44 col0\" >Remove Perfect Collinearity</td>\n",
       "      <td id=\"T_1de91_row44_col1\" class=\"data row44 col1\" >True</td>\n",
       "    </tr>\n",
       "    <tr>\n",
       "      <th id=\"T_1de91_level0_row45\" class=\"row_heading level0 row45\" >45</th>\n",
       "      <td id=\"T_1de91_row45_col0\" class=\"data row45 col0\" >Clustering</td>\n",
       "      <td id=\"T_1de91_row45_col1\" class=\"data row45 col1\" >False</td>\n",
       "    </tr>\n",
       "    <tr>\n",
       "      <th id=\"T_1de91_level0_row46\" class=\"row_heading level0 row46\" >46</th>\n",
       "      <td id=\"T_1de91_row46_col0\" class=\"data row46 col0\" >Clustering Iteration</td>\n",
       "      <td id=\"T_1de91_row46_col1\" class=\"data row46 col1\" >None</td>\n",
       "    </tr>\n",
       "    <tr>\n",
       "      <th id=\"T_1de91_level0_row47\" class=\"row_heading level0 row47\" >47</th>\n",
       "      <td id=\"T_1de91_row47_col0\" class=\"data row47 col0\" >Polynomial Features</td>\n",
       "      <td id=\"T_1de91_row47_col1\" class=\"data row47 col1\" >False</td>\n",
       "    </tr>\n",
       "    <tr>\n",
       "      <th id=\"T_1de91_level0_row48\" class=\"row_heading level0 row48\" >48</th>\n",
       "      <td id=\"T_1de91_row48_col0\" class=\"data row48 col0\" >Polynomial Degree</td>\n",
       "      <td id=\"T_1de91_row48_col1\" class=\"data row48 col1\" >None</td>\n",
       "    </tr>\n",
       "    <tr>\n",
       "      <th id=\"T_1de91_level0_row49\" class=\"row_heading level0 row49\" >49</th>\n",
       "      <td id=\"T_1de91_row49_col0\" class=\"data row49 col0\" >Trignometry Features</td>\n",
       "      <td id=\"T_1de91_row49_col1\" class=\"data row49 col1\" >False</td>\n",
       "    </tr>\n",
       "    <tr>\n",
       "      <th id=\"T_1de91_level0_row50\" class=\"row_heading level0 row50\" >50</th>\n",
       "      <td id=\"T_1de91_row50_col0\" class=\"data row50 col0\" >Polynomial Threshold</td>\n",
       "      <td id=\"T_1de91_row50_col1\" class=\"data row50 col1\" >None</td>\n",
       "    </tr>\n",
       "    <tr>\n",
       "      <th id=\"T_1de91_level0_row51\" class=\"row_heading level0 row51\" >51</th>\n",
       "      <td id=\"T_1de91_row51_col0\" class=\"data row51 col0\" >Group Features</td>\n",
       "      <td id=\"T_1de91_row51_col1\" class=\"data row51 col1\" >False</td>\n",
       "    </tr>\n",
       "    <tr>\n",
       "      <th id=\"T_1de91_level0_row52\" class=\"row_heading level0 row52\" >52</th>\n",
       "      <td id=\"T_1de91_row52_col0\" class=\"data row52 col0\" >Feature Selection</td>\n",
       "      <td id=\"T_1de91_row52_col1\" class=\"data row52 col1\" >False</td>\n",
       "    </tr>\n",
       "    <tr>\n",
       "      <th id=\"T_1de91_level0_row53\" class=\"row_heading level0 row53\" >53</th>\n",
       "      <td id=\"T_1de91_row53_col0\" class=\"data row53 col0\" >Feature Selection Method</td>\n",
       "      <td id=\"T_1de91_row53_col1\" class=\"data row53 col1\" >classic</td>\n",
       "    </tr>\n",
       "    <tr>\n",
       "      <th id=\"T_1de91_level0_row54\" class=\"row_heading level0 row54\" >54</th>\n",
       "      <td id=\"T_1de91_row54_col0\" class=\"data row54 col0\" >Features Selection Threshold</td>\n",
       "      <td id=\"T_1de91_row54_col1\" class=\"data row54 col1\" >None</td>\n",
       "    </tr>\n",
       "    <tr>\n",
       "      <th id=\"T_1de91_level0_row55\" class=\"row_heading level0 row55\" >55</th>\n",
       "      <td id=\"T_1de91_row55_col0\" class=\"data row55 col0\" >Feature Interaction</td>\n",
       "      <td id=\"T_1de91_row55_col1\" class=\"data row55 col1\" >False</td>\n",
       "    </tr>\n",
       "    <tr>\n",
       "      <th id=\"T_1de91_level0_row56\" class=\"row_heading level0 row56\" >56</th>\n",
       "      <td id=\"T_1de91_row56_col0\" class=\"data row56 col0\" >Feature Ratio</td>\n",
       "      <td id=\"T_1de91_row56_col1\" class=\"data row56 col1\" >False</td>\n",
       "    </tr>\n",
       "    <tr>\n",
       "      <th id=\"T_1de91_level0_row57\" class=\"row_heading level0 row57\" >57</th>\n",
       "      <td id=\"T_1de91_row57_col0\" class=\"data row57 col0\" >Interaction Threshold</td>\n",
       "      <td id=\"T_1de91_row57_col1\" class=\"data row57 col1\" >None</td>\n",
       "    </tr>\n",
       "    <tr>\n",
       "      <th id=\"T_1de91_level0_row58\" class=\"row_heading level0 row58\" >58</th>\n",
       "      <td id=\"T_1de91_row58_col0\" class=\"data row58 col0\" >Fix Imbalance</td>\n",
       "      <td id=\"T_1de91_row58_col1\" class=\"data row58 col1\" >False</td>\n",
       "    </tr>\n",
       "    <tr>\n",
       "      <th id=\"T_1de91_level0_row59\" class=\"row_heading level0 row59\" >59</th>\n",
       "      <td id=\"T_1de91_row59_col0\" class=\"data row59 col0\" >Fix Imbalance Method</td>\n",
       "      <td id=\"T_1de91_row59_col1\" class=\"data row59 col1\" >SMOTE</td>\n",
       "    </tr>\n",
       "  </tbody>\n",
       "</table>\n"
      ],
      "text/plain": [
       "<pandas.io.formats.style.Styler at 0x7faac839ca90>"
      ]
     },
     "metadata": {},
     "output_type": "display_data"
    }
   ],
   "source": [
    "from pycaret.classification import *\n",
    "pce_1 = setup(data = lda_results, target = 'status', session_id=5, train_size=0.85)"
   ]
  },
  {
   "cell_type": "code",
   "execution_count": 20,
   "metadata": {},
   "outputs": [
    {
     "data": {
      "text/html": [
       "<style type=\"text/css\">\n",
       "#T_485fd th {\n",
       "  text-align: left;\n",
       "}\n",
       "#T_485fd_row0_col0, #T_485fd_row0_col3, #T_485fd_row0_col5, #T_485fd_row1_col0, #T_485fd_row1_col1, #T_485fd_row1_col2, #T_485fd_row1_col3, #T_485fd_row1_col4, #T_485fd_row1_col5, #T_485fd_row1_col6, #T_485fd_row1_col7, #T_485fd_row2_col0, #T_485fd_row2_col1, #T_485fd_row2_col2, #T_485fd_row2_col3, #T_485fd_row2_col4, #T_485fd_row2_col5, #T_485fd_row2_col6, #T_485fd_row2_col7, #T_485fd_row3_col0, #T_485fd_row3_col1, #T_485fd_row3_col2, #T_485fd_row3_col3, #T_485fd_row3_col4, #T_485fd_row3_col5, #T_485fd_row3_col6, #T_485fd_row3_col7, #T_485fd_row4_col0, #T_485fd_row4_col1, #T_485fd_row4_col2, #T_485fd_row4_col3, #T_485fd_row4_col4, #T_485fd_row4_col5, #T_485fd_row4_col6, #T_485fd_row4_col7, #T_485fd_row5_col0, #T_485fd_row5_col1, #T_485fd_row5_col2, #T_485fd_row5_col3, #T_485fd_row5_col4, #T_485fd_row5_col5, #T_485fd_row5_col6, #T_485fd_row5_col7, #T_485fd_row6_col0, #T_485fd_row6_col1, #T_485fd_row6_col2, #T_485fd_row6_col3, #T_485fd_row6_col4, #T_485fd_row6_col6, #T_485fd_row6_col7, #T_485fd_row7_col0, #T_485fd_row7_col1, #T_485fd_row7_col2, #T_485fd_row7_col3, #T_485fd_row7_col4, #T_485fd_row7_col5, #T_485fd_row7_col6, #T_485fd_row7_col7, #T_485fd_row8_col0, #T_485fd_row8_col1, #T_485fd_row8_col2, #T_485fd_row8_col3, #T_485fd_row8_col4, #T_485fd_row8_col5, #T_485fd_row8_col6, #T_485fd_row8_col7, #T_485fd_row9_col0, #T_485fd_row9_col1, #T_485fd_row9_col2, #T_485fd_row9_col3, #T_485fd_row9_col4, #T_485fd_row9_col5, #T_485fd_row9_col6, #T_485fd_row9_col7, #T_485fd_row10_col0, #T_485fd_row10_col1, #T_485fd_row10_col2, #T_485fd_row10_col3, #T_485fd_row10_col4, #T_485fd_row10_col5, #T_485fd_row10_col6, #T_485fd_row10_col7, #T_485fd_row11_col0, #T_485fd_row11_col1, #T_485fd_row11_col2, #T_485fd_row11_col3, #T_485fd_row11_col4, #T_485fd_row11_col5, #T_485fd_row11_col6, #T_485fd_row11_col7, #T_485fd_row12_col0, #T_485fd_row12_col1, #T_485fd_row12_col2, #T_485fd_row12_col3, #T_485fd_row12_col4, #T_485fd_row12_col5, #T_485fd_row12_col6, #T_485fd_row12_col7, #T_485fd_row13_col0, #T_485fd_row13_col1, #T_485fd_row13_col2, #T_485fd_row13_col4, #T_485fd_row13_col5, #T_485fd_row13_col6, #T_485fd_row13_col7 {\n",
       "  text-align: left;\n",
       "}\n",
       "#T_485fd_row0_col1, #T_485fd_row0_col2, #T_485fd_row0_col4, #T_485fd_row0_col6, #T_485fd_row0_col7, #T_485fd_row6_col5, #T_485fd_row13_col3 {\n",
       "  text-align: left;\n",
       "  background-color: yellow;\n",
       "}\n",
       "#T_485fd_row0_col8, #T_485fd_row1_col8, #T_485fd_row2_col8, #T_485fd_row3_col8, #T_485fd_row4_col8, #T_485fd_row5_col8, #T_485fd_row6_col8, #T_485fd_row7_col8, #T_485fd_row8_col8, #T_485fd_row9_col8, #T_485fd_row10_col8, #T_485fd_row11_col8, #T_485fd_row12_col8 {\n",
       "  text-align: left;\n",
       "  background-color: lightgrey;\n",
       "}\n",
       "#T_485fd_row13_col8 {\n",
       "  text-align: left;\n",
       "  background-color: yellow;\n",
       "  background-color: lightgrey;\n",
       "}\n",
       "</style>\n",
       "<table id=\"T_485fd\">\n",
       "  <thead>\n",
       "    <tr>\n",
       "      <th class=\"blank level0\" >&nbsp;</th>\n",
       "      <th id=\"T_485fd_level0_col0\" class=\"col_heading level0 col0\" >Model</th>\n",
       "      <th id=\"T_485fd_level0_col1\" class=\"col_heading level0 col1\" >Accuracy</th>\n",
       "      <th id=\"T_485fd_level0_col2\" class=\"col_heading level0 col2\" >AUC</th>\n",
       "      <th id=\"T_485fd_level0_col3\" class=\"col_heading level0 col3\" >Recall</th>\n",
       "      <th id=\"T_485fd_level0_col4\" class=\"col_heading level0 col4\" >Prec.</th>\n",
       "      <th id=\"T_485fd_level0_col5\" class=\"col_heading level0 col5\" >F1</th>\n",
       "      <th id=\"T_485fd_level0_col6\" class=\"col_heading level0 col6\" >Kappa</th>\n",
       "      <th id=\"T_485fd_level0_col7\" class=\"col_heading level0 col7\" >MCC</th>\n",
       "      <th id=\"T_485fd_level0_col8\" class=\"col_heading level0 col8\" >TT (Sec)</th>\n",
       "    </tr>\n",
       "  </thead>\n",
       "  <tbody>\n",
       "    <tr>\n",
       "      <th id=\"T_485fd_level0_row0\" class=\"row_heading level0 row0\" >gbc</th>\n",
       "      <td id=\"T_485fd_row0_col0\" class=\"data row0 col0\" >Gradient Boosting Classifier</td>\n",
       "      <td id=\"T_485fd_row0_col1\" class=\"data row0 col1\" >0.7032</td>\n",
       "      <td id=\"T_485fd_row0_col2\" class=\"data row0 col2\" >0.7494</td>\n",
       "      <td id=\"T_485fd_row0_col3\" class=\"data row0 col3\" >0.6558</td>\n",
       "      <td id=\"T_485fd_row0_col4\" class=\"data row0 col4\" >0.7283</td>\n",
       "      <td id=\"T_485fd_row0_col5\" class=\"data row0 col5\" >0.6877</td>\n",
       "      <td id=\"T_485fd_row0_col6\" class=\"data row0 col6\" >0.4067</td>\n",
       "      <td id=\"T_485fd_row0_col7\" class=\"data row0 col7\" >0.4109</td>\n",
       "      <td id=\"T_485fd_row0_col8\" class=\"data row0 col8\" >0.0380</td>\n",
       "    </tr>\n",
       "    <tr>\n",
       "      <th id=\"T_485fd_level0_row1\" class=\"row_heading level0 row1\" >ada</th>\n",
       "      <td id=\"T_485fd_row1_col0\" class=\"data row1 col0\" >Ada Boost Classifier</td>\n",
       "      <td id=\"T_485fd_row1_col1\" class=\"data row1 col1\" >0.7020</td>\n",
       "      <td id=\"T_485fd_row1_col2\" class=\"data row1 col2\" >0.7309</td>\n",
       "      <td id=\"T_485fd_row1_col3\" class=\"data row1 col3\" >0.6560</td>\n",
       "      <td id=\"T_485fd_row1_col4\" class=\"data row1 col4\" >0.7244</td>\n",
       "      <td id=\"T_485fd_row1_col5\" class=\"data row1 col5\" >0.6864</td>\n",
       "      <td id=\"T_485fd_row1_col6\" class=\"data row1 col6\" >0.4046</td>\n",
       "      <td id=\"T_485fd_row1_col7\" class=\"data row1 col7\" >0.4080</td>\n",
       "      <td id=\"T_485fd_row1_col8\" class=\"data row1 col8\" >0.0300</td>\n",
       "    </tr>\n",
       "    <tr>\n",
       "      <th id=\"T_485fd_level0_row2\" class=\"row_heading level0 row2\" >lr</th>\n",
       "      <td id=\"T_485fd_row2_col0\" class=\"data row2 col0\" >Logistic Regression</td>\n",
       "      <td id=\"T_485fd_row2_col1\" class=\"data row2 col1\" >0.7009</td>\n",
       "      <td id=\"T_485fd_row2_col2\" class=\"data row2 col2\" >0.7101</td>\n",
       "      <td id=\"T_485fd_row2_col3\" class=\"data row2 col3\" >0.6630</td>\n",
       "      <td id=\"T_485fd_row2_col4\" class=\"data row2 col4\" >0.7197</td>\n",
       "      <td id=\"T_485fd_row2_col5\" class=\"data row2 col5\" >0.6882</td>\n",
       "      <td id=\"T_485fd_row2_col6\" class=\"data row2 col6\" >0.4021</td>\n",
       "      <td id=\"T_485fd_row2_col7\" class=\"data row2 col7\" >0.4052</td>\n",
       "      <td id=\"T_485fd_row2_col8\" class=\"data row2 col8\" >0.5400</td>\n",
       "    </tr>\n",
       "    <tr>\n",
       "      <th id=\"T_485fd_level0_row3\" class=\"row_heading level0 row3\" >ridge</th>\n",
       "      <td id=\"T_485fd_row3_col0\" class=\"data row3 col0\" >Ridge Classifier</td>\n",
       "      <td id=\"T_485fd_row3_col1\" class=\"data row3 col1\" >0.7009</td>\n",
       "      <td id=\"T_485fd_row3_col2\" class=\"data row3 col2\" >0.0000</td>\n",
       "      <td id=\"T_485fd_row3_col3\" class=\"data row3 col3\" >0.6630</td>\n",
       "      <td id=\"T_485fd_row3_col4\" class=\"data row3 col4\" >0.7197</td>\n",
       "      <td id=\"T_485fd_row3_col5\" class=\"data row3 col5\" >0.6882</td>\n",
       "      <td id=\"T_485fd_row3_col6\" class=\"data row3 col6\" >0.4021</td>\n",
       "      <td id=\"T_485fd_row3_col7\" class=\"data row3 col7\" >0.4052</td>\n",
       "      <td id=\"T_485fd_row3_col8\" class=\"data row3 col8\" >0.0040</td>\n",
       "    </tr>\n",
       "    <tr>\n",
       "      <th id=\"T_485fd_level0_row4\" class=\"row_heading level0 row4\" >lda</th>\n",
       "      <td id=\"T_485fd_row4_col0\" class=\"data row4 col0\" >Linear Discriminant Analysis</td>\n",
       "      <td id=\"T_485fd_row4_col1\" class=\"data row4 col1\" >0.7009</td>\n",
       "      <td id=\"T_485fd_row4_col2\" class=\"data row4 col2\" >0.7066</td>\n",
       "      <td id=\"T_485fd_row4_col3\" class=\"data row4 col3\" >0.6630</td>\n",
       "      <td id=\"T_485fd_row4_col4\" class=\"data row4 col4\" >0.7197</td>\n",
       "      <td id=\"T_485fd_row4_col5\" class=\"data row4 col5\" >0.6882</td>\n",
       "      <td id=\"T_485fd_row4_col6\" class=\"data row4 col6\" >0.4021</td>\n",
       "      <td id=\"T_485fd_row4_col7\" class=\"data row4 col7\" >0.4052</td>\n",
       "      <td id=\"T_485fd_row4_col8\" class=\"data row4 col8\" >0.0050</td>\n",
       "    </tr>\n",
       "    <tr>\n",
       "      <th id=\"T_485fd_level0_row5\" class=\"row_heading level0 row5\" >nb</th>\n",
       "      <td id=\"T_485fd_row5_col0\" class=\"data row5 col0\" >Naive Bayes</td>\n",
       "      <td id=\"T_485fd_row5_col1\" class=\"data row5 col1\" >0.6961</td>\n",
       "      <td id=\"T_485fd_row5_col2\" class=\"data row5 col2\" >0.7077</td>\n",
       "      <td id=\"T_485fd_row5_col3\" class=\"data row5 col3\" >0.6440</td>\n",
       "      <td id=\"T_485fd_row5_col4\" class=\"data row5 col4\" >0.7228</td>\n",
       "      <td id=\"T_485fd_row5_col5\" class=\"data row5 col5\" >0.6797</td>\n",
       "      <td id=\"T_485fd_row5_col6\" class=\"data row5 col6\" >0.3925</td>\n",
       "      <td id=\"T_485fd_row5_col7\" class=\"data row5 col7\" >0.3962</td>\n",
       "      <td id=\"T_485fd_row5_col8\" class=\"data row5 col8\" >0.0050</td>\n",
       "    </tr>\n",
       "    <tr>\n",
       "      <th id=\"T_485fd_level0_row6\" class=\"row_heading level0 row6\" >rf</th>\n",
       "      <td id=\"T_485fd_row6_col0\" class=\"data row6 col0\" >Random Forest Classifier</td>\n",
       "      <td id=\"T_485fd_row6_col1\" class=\"data row6 col1\" >0.6926</td>\n",
       "      <td id=\"T_485fd_row6_col2\" class=\"data row6 col2\" >0.7460</td>\n",
       "      <td id=\"T_485fd_row6_col3\" class=\"data row6 col3\" >0.6819</td>\n",
       "      <td id=\"T_485fd_row6_col4\" class=\"data row6 col4\" >0.7013</td>\n",
       "      <td id=\"T_485fd_row6_col5\" class=\"data row6 col5\" >0.6891</td>\n",
       "      <td id=\"T_485fd_row6_col6\" class=\"data row6 col6\" >0.3855</td>\n",
       "      <td id=\"T_485fd_row6_col7\" class=\"data row6 col7\" >0.3878</td>\n",
       "      <td id=\"T_485fd_row6_col8\" class=\"data row6 col8\" >0.0800</td>\n",
       "    </tr>\n",
       "    <tr>\n",
       "      <th id=\"T_485fd_level0_row7\" class=\"row_heading level0 row7\" >lightgbm</th>\n",
       "      <td id=\"T_485fd_row7_col0\" class=\"data row7 col0\" >Light Gradient Boosting Machine</td>\n",
       "      <td id=\"T_485fd_row7_col1\" class=\"data row7 col1\" >0.6773</td>\n",
       "      <td id=\"T_485fd_row7_col2\" class=\"data row7 col2\" >0.7308</td>\n",
       "      <td id=\"T_485fd_row7_col3\" class=\"data row7 col3\" >0.6609</td>\n",
       "      <td id=\"T_485fd_row7_col4\" class=\"data row7 col4\" >0.6886</td>\n",
       "      <td id=\"T_485fd_row7_col5\" class=\"data row7 col5\" >0.6714</td>\n",
       "      <td id=\"T_485fd_row7_col6\" class=\"data row7 col6\" >0.3551</td>\n",
       "      <td id=\"T_485fd_row7_col7\" class=\"data row7 col7\" >0.3582</td>\n",
       "      <td id=\"T_485fd_row7_col8\" class=\"data row7 col8\" >0.0190</td>\n",
       "    </tr>\n",
       "    <tr>\n",
       "      <th id=\"T_485fd_level0_row8\" class=\"row_heading level0 row8\" >svm</th>\n",
       "      <td id=\"T_485fd_row8_col0\" class=\"data row8 col0\" >SVM - Linear Kernel</td>\n",
       "      <td id=\"T_485fd_row8_col1\" class=\"data row8 col1\" >0.6750</td>\n",
       "      <td id=\"T_485fd_row8_col2\" class=\"data row8 col2\" >0.0000</td>\n",
       "      <td id=\"T_485fd_row8_col3\" class=\"data row8 col3\" >0.7095</td>\n",
       "      <td id=\"T_485fd_row8_col4\" class=\"data row8 col4\" >0.6796</td>\n",
       "      <td id=\"T_485fd_row8_col5\" class=\"data row8 col5\" >0.6861</td>\n",
       "      <td id=\"T_485fd_row8_col6\" class=\"data row8 col6\" >0.3489</td>\n",
       "      <td id=\"T_485fd_row8_col7\" class=\"data row8 col7\" >0.3557</td>\n",
       "      <td id=\"T_485fd_row8_col8\" class=\"data row8 col8\" >0.0050</td>\n",
       "    </tr>\n",
       "    <tr>\n",
       "      <th id=\"T_485fd_level0_row9\" class=\"row_heading level0 row9\" >et</th>\n",
       "      <td id=\"T_485fd_row9_col0\" class=\"data row9 col0\" >Extra Trees Classifier</td>\n",
       "      <td id=\"T_485fd_row9_col1\" class=\"data row9 col1\" >0.6725</td>\n",
       "      <td id=\"T_485fd_row9_col2\" class=\"data row9 col2\" >0.7149</td>\n",
       "      <td id=\"T_485fd_row9_col3\" class=\"data row9 col3\" >0.6748</td>\n",
       "      <td id=\"T_485fd_row9_col4\" class=\"data row9 col4\" >0.6748</td>\n",
       "      <td id=\"T_485fd_row9_col5\" class=\"data row9 col5\" >0.6708</td>\n",
       "      <td id=\"T_485fd_row9_col6\" class=\"data row9 col6\" >0.3453</td>\n",
       "      <td id=\"T_485fd_row9_col7\" class=\"data row9 col7\" >0.3491</td>\n",
       "      <td id=\"T_485fd_row9_col8\" class=\"data row9 col8\" >0.0820</td>\n",
       "    </tr>\n",
       "    <tr>\n",
       "      <th id=\"T_485fd_level0_row10\" class=\"row_heading level0 row10\" >knn</th>\n",
       "      <td id=\"T_485fd_row10_col0\" class=\"data row10 col0\" >K Neighbors Classifier</td>\n",
       "      <td id=\"T_485fd_row10_col1\" class=\"data row10 col1\" >0.6655</td>\n",
       "      <td id=\"T_485fd_row10_col2\" class=\"data row10 col2\" >0.7082</td>\n",
       "      <td id=\"T_485fd_row10_col3\" class=\"data row10 col3\" >0.6518</td>\n",
       "      <td id=\"T_485fd_row10_col4\" class=\"data row10 col4\" >0.6728</td>\n",
       "      <td id=\"T_485fd_row10_col5\" class=\"data row10 col5\" >0.6595</td>\n",
       "      <td id=\"T_485fd_row10_col6\" class=\"data row10 col6\" >0.3315</td>\n",
       "      <td id=\"T_485fd_row10_col7\" class=\"data row10 col7\" >0.3345</td>\n",
       "      <td id=\"T_485fd_row10_col8\" class=\"data row10 col8\" >0.0090</td>\n",
       "    </tr>\n",
       "    <tr>\n",
       "      <th id=\"T_485fd_level0_row11\" class=\"row_heading level0 row11\" >dt</th>\n",
       "      <td id=\"T_485fd_row11_col0\" class=\"data row11 col0\" >Decision Tree Classifier</td>\n",
       "      <td id=\"T_485fd_row11_col1\" class=\"data row11 col1\" >0.6337</td>\n",
       "      <td id=\"T_485fd_row11_col2\" class=\"data row11 col2\" >0.6338</td>\n",
       "      <td id=\"T_485fd_row11_col3\" class=\"data row11 col3\" >0.6373</td>\n",
       "      <td id=\"T_485fd_row11_col4\" class=\"data row11 col4\" >0.6359</td>\n",
       "      <td id=\"T_485fd_row11_col5\" class=\"data row11 col5\" >0.6349</td>\n",
       "      <td id=\"T_485fd_row11_col6\" class=\"data row11 col6\" >0.2675</td>\n",
       "      <td id=\"T_485fd_row11_col7\" class=\"data row11 col7\" >0.2692</td>\n",
       "      <td id=\"T_485fd_row11_col8\" class=\"data row11 col8\" >0.0050</td>\n",
       "    </tr>\n",
       "    <tr>\n",
       "      <th id=\"T_485fd_level0_row12\" class=\"row_heading level0 row12\" >qda</th>\n",
       "      <td id=\"T_485fd_row12_col0\" class=\"data row12 col0\" >Quadratic Discriminant Analysis</td>\n",
       "      <td id=\"T_485fd_row12_col1\" class=\"data row12 col1\" >0.5771</td>\n",
       "      <td id=\"T_485fd_row12_col2\" class=\"data row12 col2\" >0.7095</td>\n",
       "      <td id=\"T_485fd_row12_col3\" class=\"data row12 col3\" >0.8470</td>\n",
       "      <td id=\"T_485fd_row12_col4\" class=\"data row12 col4\" >0.5635</td>\n",
       "      <td id=\"T_485fd_row12_col5\" class=\"data row12 col5\" >0.6673</td>\n",
       "      <td id=\"T_485fd_row12_col6\" class=\"data row12 col6\" >0.1490</td>\n",
       "      <td id=\"T_485fd_row12_col7\" class=\"data row12 col7\" >0.1749</td>\n",
       "      <td id=\"T_485fd_row12_col8\" class=\"data row12 col8\" >0.0050</td>\n",
       "    </tr>\n",
       "    <tr>\n",
       "      <th id=\"T_485fd_level0_row13\" class=\"row_heading level0 row13\" >dummy</th>\n",
       "      <td id=\"T_485fd_row13_col0\" class=\"data row13 col0\" >Dummy Classifier</td>\n",
       "      <td id=\"T_485fd_row13_col1\" class=\"data row13 col1\" >0.5029</td>\n",
       "      <td id=\"T_485fd_row13_col2\" class=\"data row13 col2\" >0.5000</td>\n",
       "      <td id=\"T_485fd_row13_col3\" class=\"data row13 col3\" >1.0000</td>\n",
       "      <td id=\"T_485fd_row13_col4\" class=\"data row13 col4\" >0.5029</td>\n",
       "      <td id=\"T_485fd_row13_col5\" class=\"data row13 col5\" >0.6693</td>\n",
       "      <td id=\"T_485fd_row13_col6\" class=\"data row13 col6\" >0.0000</td>\n",
       "      <td id=\"T_485fd_row13_col7\" class=\"data row13 col7\" >0.0000</td>\n",
       "      <td id=\"T_485fd_row13_col8\" class=\"data row13 col8\" >0.0030</td>\n",
       "    </tr>\n",
       "  </tbody>\n",
       "</table>\n"
      ],
      "text/plain": [
       "<pandas.io.formats.style.Styler at 0x7faac832adc0>"
      ]
     },
     "metadata": {},
     "output_type": "display_data"
    },
    {
     "data": {
      "text/plain": [
       "GradientBoostingClassifier(ccp_alpha=0.0, criterion='friedman_mse', init=None,\n",
       "                           learning_rate=0.1, loss='deviance', max_depth=3,\n",
       "                           max_features=None, max_leaf_nodes=None,\n",
       "                           min_impurity_decrease=0.0, min_impurity_split=None,\n",
       "                           min_samples_leaf=1, min_samples_split=2,\n",
       "                           min_weight_fraction_leaf=0.0, n_estimators=100,\n",
       "                           n_iter_no_change=None, presort='deprecated',\n",
       "                           random_state=5, subsample=1.0, tol=0.0001,\n",
       "                           validation_fraction=0.1, verbose=0,\n",
       "                           warm_start=False)"
      ]
     },
     "execution_count": 20,
     "metadata": {},
     "output_type": "execute_result"
    }
   ],
   "source": [
    "compare_models()"
   ]
  },
  {
   "cell_type": "markdown",
   "metadata": {},
   "source": [
    "# Hyperparameters Tuning"
   ]
  },
  {
   "cell_type": "code",
   "execution_count": 21,
   "metadata": {},
   "outputs": [
    {
     "data": {
      "text/html": [
       "<style type=\"text/css\">\n",
       "#T_dbaac_row10_col0, #T_dbaac_row10_col1, #T_dbaac_row10_col2, #T_dbaac_row10_col3, #T_dbaac_row10_col4, #T_dbaac_row10_col5, #T_dbaac_row10_col6 {\n",
       "  background: yellow;\n",
       "}\n",
       "</style>\n",
       "<table id=\"T_dbaac\">\n",
       "  <thead>\n",
       "    <tr>\n",
       "      <th class=\"blank level0\" >&nbsp;</th>\n",
       "      <th id=\"T_dbaac_level0_col0\" class=\"col_heading level0 col0\" >Accuracy</th>\n",
       "      <th id=\"T_dbaac_level0_col1\" class=\"col_heading level0 col1\" >AUC</th>\n",
       "      <th id=\"T_dbaac_level0_col2\" class=\"col_heading level0 col2\" >Recall</th>\n",
       "      <th id=\"T_dbaac_level0_col3\" class=\"col_heading level0 col3\" >Prec.</th>\n",
       "      <th id=\"T_dbaac_level0_col4\" class=\"col_heading level0 col4\" >F1</th>\n",
       "      <th id=\"T_dbaac_level0_col5\" class=\"col_heading level0 col5\" >Kappa</th>\n",
       "      <th id=\"T_dbaac_level0_col6\" class=\"col_heading level0 col6\" >MCC</th>\n",
       "    </tr>\n",
       "    <tr>\n",
       "      <th class=\"index_name level0\" >Fold</th>\n",
       "      <th class=\"blank col0\" >&nbsp;</th>\n",
       "      <th class=\"blank col1\" >&nbsp;</th>\n",
       "      <th class=\"blank col2\" >&nbsp;</th>\n",
       "      <th class=\"blank col3\" >&nbsp;</th>\n",
       "      <th class=\"blank col4\" >&nbsp;</th>\n",
       "      <th class=\"blank col5\" >&nbsp;</th>\n",
       "      <th class=\"blank col6\" >&nbsp;</th>\n",
       "    </tr>\n",
       "  </thead>\n",
       "  <tbody>\n",
       "    <tr>\n",
       "      <th id=\"T_dbaac_level0_row0\" class=\"row_heading level0 row0\" >0</th>\n",
       "      <td id=\"T_dbaac_row0_col0\" class=\"data row0 col0\" >0.6588</td>\n",
       "      <td id=\"T_dbaac_row0_col1\" class=\"data row0 col1\" >0.6788</td>\n",
       "      <td id=\"T_dbaac_row0_col2\" class=\"data row0 col2\" >0.5814</td>\n",
       "      <td id=\"T_dbaac_row0_col3\" class=\"data row0 col3\" >0.6944</td>\n",
       "      <td id=\"T_dbaac_row0_col4\" class=\"data row0 col4\" >0.6329</td>\n",
       "      <td id=\"T_dbaac_row0_col5\" class=\"data row0 col5\" >0.3189</td>\n",
       "      <td id=\"T_dbaac_row0_col6\" class=\"data row0 col6\" >0.3233</td>\n",
       "    </tr>\n",
       "    <tr>\n",
       "      <th id=\"T_dbaac_level0_row1\" class=\"row_heading level0 row1\" >1</th>\n",
       "      <td id=\"T_dbaac_row1_col0\" class=\"data row1 col0\" >0.7294</td>\n",
       "      <td id=\"T_dbaac_row1_col1\" class=\"data row1 col1\" >0.8112</td>\n",
       "      <td id=\"T_dbaac_row1_col2\" class=\"data row1 col2\" >0.6977</td>\n",
       "      <td id=\"T_dbaac_row1_col3\" class=\"data row1 col3\" >0.7500</td>\n",
       "      <td id=\"T_dbaac_row1_col4\" class=\"data row1 col4\" >0.7229</td>\n",
       "      <td id=\"T_dbaac_row1_col5\" class=\"data row1 col5\" >0.4592</td>\n",
       "      <td id=\"T_dbaac_row1_col6\" class=\"data row1 col6\" >0.4603</td>\n",
       "    </tr>\n",
       "    <tr>\n",
       "      <th id=\"T_dbaac_level0_row2\" class=\"row_heading level0 row2\" >2</th>\n",
       "      <td id=\"T_dbaac_row2_col0\" class=\"data row2 col0\" >0.6941</td>\n",
       "      <td id=\"T_dbaac_row2_col1\" class=\"data row2 col1\" >0.7046</td>\n",
       "      <td id=\"T_dbaac_row2_col2\" class=\"data row2 col2\" >0.5814</td>\n",
       "      <td id=\"T_dbaac_row2_col3\" class=\"data row2 col3\" >0.7576</td>\n",
       "      <td id=\"T_dbaac_row2_col4\" class=\"data row2 col4\" >0.6579</td>\n",
       "      <td id=\"T_dbaac_row2_col5\" class=\"data row2 col5\" >0.3898</td>\n",
       "      <td id=\"T_dbaac_row2_col6\" class=\"data row2 col6\" >0.4010</td>\n",
       "    </tr>\n",
       "    <tr>\n",
       "      <th id=\"T_dbaac_level0_row3\" class=\"row_heading level0 row3\" >3</th>\n",
       "      <td id=\"T_dbaac_row3_col0\" class=\"data row3 col0\" >0.7412</td>\n",
       "      <td id=\"T_dbaac_row3_col1\" class=\"data row3 col1\" >0.7979</td>\n",
       "      <td id=\"T_dbaac_row3_col2\" class=\"data row3 col2\" >0.7907</td>\n",
       "      <td id=\"T_dbaac_row3_col3\" class=\"data row3 col3\" >0.7234</td>\n",
       "      <td id=\"T_dbaac_row3_col4\" class=\"data row3 col4\" >0.7556</td>\n",
       "      <td id=\"T_dbaac_row3_col5\" class=\"data row3 col5\" >0.4817</td>\n",
       "      <td id=\"T_dbaac_row3_col6\" class=\"data row3 col6\" >0.4839</td>\n",
       "    </tr>\n",
       "    <tr>\n",
       "      <th id=\"T_dbaac_level0_row4\" class=\"row_heading level0 row4\" >4</th>\n",
       "      <td id=\"T_dbaac_row4_col0\" class=\"data row4 col0\" >0.6706</td>\n",
       "      <td id=\"T_dbaac_row4_col1\" class=\"data row4 col1\" >0.7198</td>\n",
       "      <td id=\"T_dbaac_row4_col2\" class=\"data row4 col2\" >0.5581</td>\n",
       "      <td id=\"T_dbaac_row4_col3\" class=\"data row4 col3\" >0.7273</td>\n",
       "      <td id=\"T_dbaac_row4_col4\" class=\"data row4 col4\" >0.6316</td>\n",
       "      <td id=\"T_dbaac_row4_col5\" class=\"data row4 col5\" >0.3429</td>\n",
       "      <td id=\"T_dbaac_row4_col6\" class=\"data row4 col6\" >0.3528</td>\n",
       "    </tr>\n",
       "    <tr>\n",
       "      <th id=\"T_dbaac_level0_row5\" class=\"row_heading level0 row5\" >5</th>\n",
       "      <td id=\"T_dbaac_row5_col0\" class=\"data row5 col0\" >0.6824</td>\n",
       "      <td id=\"T_dbaac_row5_col1\" class=\"data row5 col1\" >0.7121</td>\n",
       "      <td id=\"T_dbaac_row5_col2\" class=\"data row5 col2\" >0.6047</td>\n",
       "      <td id=\"T_dbaac_row5_col3\" class=\"data row5 col3\" >0.7222</td>\n",
       "      <td id=\"T_dbaac_row5_col4\" class=\"data row5 col4\" >0.6582</td>\n",
       "      <td id=\"T_dbaac_row5_col5\" class=\"data row5 col5\" >0.3658</td>\n",
       "      <td id=\"T_dbaac_row5_col6\" class=\"data row5 col6\" >0.3709</td>\n",
       "    </tr>\n",
       "    <tr>\n",
       "      <th id=\"T_dbaac_level0_row6\" class=\"row_heading level0 row6\" >6</th>\n",
       "      <td id=\"T_dbaac_row6_col0\" class=\"data row6 col0\" >0.7412</td>\n",
       "      <td id=\"T_dbaac_row6_col1\" class=\"data row6 col1\" >0.7647</td>\n",
       "      <td id=\"T_dbaac_row6_col2\" class=\"data row6 col2\" >0.7442</td>\n",
       "      <td id=\"T_dbaac_row6_col3\" class=\"data row6 col3\" >0.7442</td>\n",
       "      <td id=\"T_dbaac_row6_col4\" class=\"data row6 col4\" >0.7442</td>\n",
       "      <td id=\"T_dbaac_row6_col5\" class=\"data row6 col5\" >0.4823</td>\n",
       "      <td id=\"T_dbaac_row6_col6\" class=\"data row6 col6\" >0.4823</td>\n",
       "    </tr>\n",
       "    <tr>\n",
       "      <th id=\"T_dbaac_level0_row7\" class=\"row_heading level0 row7\" >7</th>\n",
       "      <td id=\"T_dbaac_row7_col0\" class=\"data row7 col0\" >0.6941</td>\n",
       "      <td id=\"T_dbaac_row7_col1\" class=\"data row7 col1\" >0.7572</td>\n",
       "      <td id=\"T_dbaac_row7_col2\" class=\"data row7 col2\" >0.6429</td>\n",
       "      <td id=\"T_dbaac_row7_col3\" class=\"data row7 col3\" >0.7105</td>\n",
       "      <td id=\"T_dbaac_row7_col4\" class=\"data row7 col4\" >0.6750</td>\n",
       "      <td id=\"T_dbaac_row7_col5\" class=\"data row7 col5\" >0.3875</td>\n",
       "      <td id=\"T_dbaac_row7_col6\" class=\"data row7 col6\" >0.3892</td>\n",
       "    </tr>\n",
       "    <tr>\n",
       "      <th id=\"T_dbaac_level0_row8\" class=\"row_heading level0 row8\" >8</th>\n",
       "      <td id=\"T_dbaac_row8_col0\" class=\"data row8 col0\" >0.7294</td>\n",
       "      <td id=\"T_dbaac_row8_col1\" class=\"data row8 col1\" >0.7788</td>\n",
       "      <td id=\"T_dbaac_row8_col2\" class=\"data row8 col2\" >0.6429</td>\n",
       "      <td id=\"T_dbaac_row8_col3\" class=\"data row8 col3\" >0.7714</td>\n",
       "      <td id=\"T_dbaac_row8_col4\" class=\"data row8 col4\" >0.7013</td>\n",
       "      <td id=\"T_dbaac_row8_col5\" class=\"data row8 col5\" >0.4577</td>\n",
       "      <td id=\"T_dbaac_row8_col6\" class=\"data row8 col6\" >0.4641</td>\n",
       "    </tr>\n",
       "    <tr>\n",
       "      <th id=\"T_dbaac_level0_row9\" class=\"row_heading level0 row9\" >9</th>\n",
       "      <td id=\"T_dbaac_row9_col0\" class=\"data row9 col0\" >0.6905</td>\n",
       "      <td id=\"T_dbaac_row9_col1\" class=\"data row9 col1\" >0.7684</td>\n",
       "      <td id=\"T_dbaac_row9_col2\" class=\"data row9 col2\" >0.7143</td>\n",
       "      <td id=\"T_dbaac_row9_col3\" class=\"data row9 col3\" >0.6818</td>\n",
       "      <td id=\"T_dbaac_row9_col4\" class=\"data row9 col4\" >0.6977</td>\n",
       "      <td id=\"T_dbaac_row9_col5\" class=\"data row9 col5\" >0.3810</td>\n",
       "      <td id=\"T_dbaac_row9_col6\" class=\"data row9 col6\" >0.3814</td>\n",
       "    </tr>\n",
       "    <tr>\n",
       "      <th id=\"T_dbaac_level0_row10\" class=\"row_heading level0 row10\" >Mean</th>\n",
       "      <td id=\"T_dbaac_row10_col0\" class=\"data row10 col0\" >0.7032</td>\n",
       "      <td id=\"T_dbaac_row10_col1\" class=\"data row10 col1\" >0.7494</td>\n",
       "      <td id=\"T_dbaac_row10_col2\" class=\"data row10 col2\" >0.6558</td>\n",
       "      <td id=\"T_dbaac_row10_col3\" class=\"data row10 col3\" >0.7283</td>\n",
       "      <td id=\"T_dbaac_row10_col4\" class=\"data row10 col4\" >0.6877</td>\n",
       "      <td id=\"T_dbaac_row10_col5\" class=\"data row10 col5\" >0.4067</td>\n",
       "      <td id=\"T_dbaac_row10_col6\" class=\"data row10 col6\" >0.4109</td>\n",
       "    </tr>\n",
       "    <tr>\n",
       "      <th id=\"T_dbaac_level0_row11\" class=\"row_heading level0 row11\" >Std</th>\n",
       "      <td id=\"T_dbaac_row11_col0\" class=\"data row11 col0\" >0.0284</td>\n",
       "      <td id=\"T_dbaac_row11_col1\" class=\"data row11 col1\" >0.0412</td>\n",
       "      <td id=\"T_dbaac_row11_col2\" class=\"data row11 col2\" >0.0740</td>\n",
       "      <td id=\"T_dbaac_row11_col3\" class=\"data row11 col3\" >0.0267</td>\n",
       "      <td id=\"T_dbaac_row11_col4\" class=\"data row11 col4\" >0.0417</td>\n",
       "      <td id=\"T_dbaac_row11_col5\" class=\"data row11 col5\" >0.0561</td>\n",
       "      <td id=\"T_dbaac_row11_col6\" class=\"data row11 col6\" >0.0546</td>\n",
       "    </tr>\n",
       "  </tbody>\n",
       "</table>\n"
      ],
      "text/plain": [
       "<pandas.io.formats.style.Styler at 0x7faac6bed0d0>"
      ]
     },
     "metadata": {},
     "output_type": "display_data"
    }
   ],
   "source": [
    "# creating model based on above results \n",
    "pce_1_m1 = create_model('gbc')"
   ]
  },
  {
   "cell_type": "code",
   "execution_count": 22,
   "metadata": {},
   "outputs": [
    {
     "data": {
      "text/html": [
       "<style type=\"text/css\">\n",
       "#T_a7a1d_row10_col0, #T_a7a1d_row10_col1, #T_a7a1d_row10_col2, #T_a7a1d_row10_col3, #T_a7a1d_row10_col4, #T_a7a1d_row10_col5, #T_a7a1d_row10_col6 {\n",
       "  background: yellow;\n",
       "}\n",
       "</style>\n",
       "<table id=\"T_a7a1d\">\n",
       "  <thead>\n",
       "    <tr>\n",
       "      <th class=\"blank level0\" >&nbsp;</th>\n",
       "      <th id=\"T_a7a1d_level0_col0\" class=\"col_heading level0 col0\" >Accuracy</th>\n",
       "      <th id=\"T_a7a1d_level0_col1\" class=\"col_heading level0 col1\" >AUC</th>\n",
       "      <th id=\"T_a7a1d_level0_col2\" class=\"col_heading level0 col2\" >Recall</th>\n",
       "      <th id=\"T_a7a1d_level0_col3\" class=\"col_heading level0 col3\" >Prec.</th>\n",
       "      <th id=\"T_a7a1d_level0_col4\" class=\"col_heading level0 col4\" >F1</th>\n",
       "      <th id=\"T_a7a1d_level0_col5\" class=\"col_heading level0 col5\" >Kappa</th>\n",
       "      <th id=\"T_a7a1d_level0_col6\" class=\"col_heading level0 col6\" >MCC</th>\n",
       "    </tr>\n",
       "    <tr>\n",
       "      <th class=\"index_name level0\" >Fold</th>\n",
       "      <th class=\"blank col0\" >&nbsp;</th>\n",
       "      <th class=\"blank col1\" >&nbsp;</th>\n",
       "      <th class=\"blank col2\" >&nbsp;</th>\n",
       "      <th class=\"blank col3\" >&nbsp;</th>\n",
       "      <th class=\"blank col4\" >&nbsp;</th>\n",
       "      <th class=\"blank col5\" >&nbsp;</th>\n",
       "      <th class=\"blank col6\" >&nbsp;</th>\n",
       "    </tr>\n",
       "  </thead>\n",
       "  <tbody>\n",
       "    <tr>\n",
       "      <th id=\"T_a7a1d_level0_row0\" class=\"row_heading level0 row0\" >0</th>\n",
       "      <td id=\"T_a7a1d_row0_col0\" class=\"data row0 col0\" >0.6353</td>\n",
       "      <td id=\"T_a7a1d_row0_col1\" class=\"data row0 col1\" >0.6883</td>\n",
       "      <td id=\"T_a7a1d_row0_col2\" class=\"data row0 col2\" >0.5581</td>\n",
       "      <td id=\"T_a7a1d_row0_col3\" class=\"data row0 col3\" >0.6667</td>\n",
       "      <td id=\"T_a7a1d_row0_col4\" class=\"data row0 col4\" >0.6076</td>\n",
       "      <td id=\"T_a7a1d_row0_col5\" class=\"data row0 col5\" >0.2719</td>\n",
       "      <td id=\"T_a7a1d_row0_col6\" class=\"data row0 col6\" >0.2756</td>\n",
       "    </tr>\n",
       "    <tr>\n",
       "      <th id=\"T_a7a1d_level0_row1\" class=\"row_heading level0 row1\" >1</th>\n",
       "      <td id=\"T_a7a1d_row1_col0\" class=\"data row1 col0\" >0.7059</td>\n",
       "      <td id=\"T_a7a1d_row1_col1\" class=\"data row1 col1\" >0.7857</td>\n",
       "      <td id=\"T_a7a1d_row1_col2\" class=\"data row1 col2\" >0.6512</td>\n",
       "      <td id=\"T_a7a1d_row1_col3\" class=\"data row1 col3\" >0.7368</td>\n",
       "      <td id=\"T_a7a1d_row1_col4\" class=\"data row1 col4\" >0.6914</td>\n",
       "      <td id=\"T_a7a1d_row1_col5\" class=\"data row1 col5\" >0.4125</td>\n",
       "      <td id=\"T_a7a1d_row1_col6\" class=\"data row1 col6\" >0.4154</td>\n",
       "    </tr>\n",
       "    <tr>\n",
       "      <th id=\"T_a7a1d_level0_row2\" class=\"row_heading level0 row2\" >2</th>\n",
       "      <td id=\"T_a7a1d_row2_col0\" class=\"data row2 col0\" >0.7412</td>\n",
       "      <td id=\"T_a7a1d_row2_col1\" class=\"data row2 col1\" >0.7641</td>\n",
       "      <td id=\"T_a7a1d_row2_col2\" class=\"data row2 col2\" >0.6977</td>\n",
       "      <td id=\"T_a7a1d_row2_col3\" class=\"data row2 col3\" >0.7692</td>\n",
       "      <td id=\"T_a7a1d_row2_col4\" class=\"data row2 col4\" >0.7317</td>\n",
       "      <td id=\"T_a7a1d_row2_col5\" class=\"data row2 col5\" >0.4829</td>\n",
       "      <td id=\"T_a7a1d_row2_col6\" class=\"data row2 col6\" >0.4850</td>\n",
       "    </tr>\n",
       "    <tr>\n",
       "      <th id=\"T_a7a1d_level0_row3\" class=\"row_heading level0 row3\" >3</th>\n",
       "      <td id=\"T_a7a1d_row3_col0\" class=\"data row3 col0\" >0.7529</td>\n",
       "      <td id=\"T_a7a1d_row3_col1\" class=\"data row3 col1\" >0.8101</td>\n",
       "      <td id=\"T_a7a1d_row3_col2\" class=\"data row3 col2\" >0.7907</td>\n",
       "      <td id=\"T_a7a1d_row3_col3\" class=\"data row3 col3\" >0.7391</td>\n",
       "      <td id=\"T_a7a1d_row3_col4\" class=\"data row3 col4\" >0.7640</td>\n",
       "      <td id=\"T_a7a1d_row3_col5\" class=\"data row3 col5\" >0.5054</td>\n",
       "      <td id=\"T_a7a1d_row3_col6\" class=\"data row3 col6\" >0.5067</td>\n",
       "    </tr>\n",
       "    <tr>\n",
       "      <th id=\"T_a7a1d_level0_row4\" class=\"row_heading level0 row4\" >4</th>\n",
       "      <td id=\"T_a7a1d_row4_col0\" class=\"data row4 col0\" >0.7294</td>\n",
       "      <td id=\"T_a7a1d_row4_col1\" class=\"data row4 col1\" >0.7301</td>\n",
       "      <td id=\"T_a7a1d_row4_col2\" class=\"data row4 col2\" >0.6512</td>\n",
       "      <td id=\"T_a7a1d_row4_col3\" class=\"data row4 col3\" >0.7778</td>\n",
       "      <td id=\"T_a7a1d_row4_col4\" class=\"data row4 col4\" >0.7089</td>\n",
       "      <td id=\"T_a7a1d_row4_col5\" class=\"data row4 col5\" >0.4598</td>\n",
       "      <td id=\"T_a7a1d_row4_col6\" class=\"data row4 col6\" >0.4661</td>\n",
       "    </tr>\n",
       "    <tr>\n",
       "      <th id=\"T_a7a1d_level0_row5\" class=\"row_heading level0 row5\" >5</th>\n",
       "      <td id=\"T_a7a1d_row5_col0\" class=\"data row5 col0\" >0.6941</td>\n",
       "      <td id=\"T_a7a1d_row5_col1\" class=\"data row5 col1\" >0.7110</td>\n",
       "      <td id=\"T_a7a1d_row5_col2\" class=\"data row5 col2\" >0.6744</td>\n",
       "      <td id=\"T_a7a1d_row5_col3\" class=\"data row5 col3\" >0.7073</td>\n",
       "      <td id=\"T_a7a1d_row5_col4\" class=\"data row5 col4\" >0.6905</td>\n",
       "      <td id=\"T_a7a1d_row5_col5\" class=\"data row5 col5\" >0.3885</td>\n",
       "      <td id=\"T_a7a1d_row5_col6\" class=\"data row5 col6\" >0.3889</td>\n",
       "    </tr>\n",
       "    <tr>\n",
       "      <th id=\"T_a7a1d_level0_row6\" class=\"row_heading level0 row6\" >6</th>\n",
       "      <td id=\"T_a7a1d_row6_col0\" class=\"data row6 col0\" >0.7412</td>\n",
       "      <td id=\"T_a7a1d_row6_col1\" class=\"data row6 col1\" >0.7425</td>\n",
       "      <td id=\"T_a7a1d_row6_col2\" class=\"data row6 col2\" >0.7442</td>\n",
       "      <td id=\"T_a7a1d_row6_col3\" class=\"data row6 col3\" >0.7442</td>\n",
       "      <td id=\"T_a7a1d_row6_col4\" class=\"data row6 col4\" >0.7442</td>\n",
       "      <td id=\"T_a7a1d_row6_col5\" class=\"data row6 col5\" >0.4823</td>\n",
       "      <td id=\"T_a7a1d_row6_col6\" class=\"data row6 col6\" >0.4823</td>\n",
       "    </tr>\n",
       "    <tr>\n",
       "      <th id=\"T_a7a1d_level0_row7\" class=\"row_heading level0 row7\" >7</th>\n",
       "      <td id=\"T_a7a1d_row7_col0\" class=\"data row7 col0\" >0.7412</td>\n",
       "      <td id=\"T_a7a1d_row7_col1\" class=\"data row7 col1\" >0.7918</td>\n",
       "      <td id=\"T_a7a1d_row7_col2\" class=\"data row7 col2\" >0.7143</td>\n",
       "      <td id=\"T_a7a1d_row7_col3\" class=\"data row7 col3\" >0.7500</td>\n",
       "      <td id=\"T_a7a1d_row7_col4\" class=\"data row7 col4\" >0.7317</td>\n",
       "      <td id=\"T_a7a1d_row7_col5\" class=\"data row7 col5\" >0.4820</td>\n",
       "      <td id=\"T_a7a1d_row7_col6\" class=\"data row7 col6\" >0.4825</td>\n",
       "    </tr>\n",
       "    <tr>\n",
       "      <th id=\"T_a7a1d_level0_row8\" class=\"row_heading level0 row8\" >8</th>\n",
       "      <td id=\"T_a7a1d_row8_col0\" class=\"data row8 col0\" >0.7176</td>\n",
       "      <td id=\"T_a7a1d_row8_col1\" class=\"data row8 col1\" >0.7591</td>\n",
       "      <td id=\"T_a7a1d_row8_col2\" class=\"data row8 col2\" >0.6905</td>\n",
       "      <td id=\"T_a7a1d_row8_col3\" class=\"data row8 col3\" >0.7250</td>\n",
       "      <td id=\"T_a7a1d_row8_col4\" class=\"data row8 col4\" >0.7073</td>\n",
       "      <td id=\"T_a7a1d_row8_col5\" class=\"data row8 col5\" >0.4349</td>\n",
       "      <td id=\"T_a7a1d_row8_col6\" class=\"data row8 col6\" >0.4354</td>\n",
       "    </tr>\n",
       "    <tr>\n",
       "      <th id=\"T_a7a1d_level0_row9\" class=\"row_heading level0 row9\" >9</th>\n",
       "      <td id=\"T_a7a1d_row9_col0\" class=\"data row9 col0\" >0.7262</td>\n",
       "      <td id=\"T_a7a1d_row9_col1\" class=\"data row9 col1\" >0.7999</td>\n",
       "      <td id=\"T_a7a1d_row9_col2\" class=\"data row9 col2\" >0.7619</td>\n",
       "      <td id=\"T_a7a1d_row9_col3\" class=\"data row9 col3\" >0.7111</td>\n",
       "      <td id=\"T_a7a1d_row9_col4\" class=\"data row9 col4\" >0.7356</td>\n",
       "      <td id=\"T_a7a1d_row9_col5\" class=\"data row9 col5\" >0.4524</td>\n",
       "      <td id=\"T_a7a1d_row9_col6\" class=\"data row9 col6\" >0.4535</td>\n",
       "    </tr>\n",
       "    <tr>\n",
       "      <th id=\"T_a7a1d_level0_row10\" class=\"row_heading level0 row10\" >Mean</th>\n",
       "      <td id=\"T_a7a1d_row10_col0\" class=\"data row10 col0\" >0.7185</td>\n",
       "      <td id=\"T_a7a1d_row10_col1\" class=\"data row10 col1\" >0.7583</td>\n",
       "      <td id=\"T_a7a1d_row10_col2\" class=\"data row10 col2\" >0.6934</td>\n",
       "      <td id=\"T_a7a1d_row10_col3\" class=\"data row10 col3\" >0.7327</td>\n",
       "      <td id=\"T_a7a1d_row10_col4\" class=\"data row10 col4\" >0.7113</td>\n",
       "      <td id=\"T_a7a1d_row10_col5\" class=\"data row10 col5\" >0.4372</td>\n",
       "      <td id=\"T_a7a1d_row10_col6\" class=\"data row10 col6\" >0.4391</td>\n",
       "    </tr>\n",
       "    <tr>\n",
       "      <th id=\"T_a7a1d_level0_row11\" class=\"row_heading level0 row11\" >Std</th>\n",
       "      <td id=\"T_a7a1d_row11_col0\" class=\"data row11 col0\" >0.0325</td>\n",
       "      <td id=\"T_a7a1d_row11_col1\" class=\"data row11 col1\" >0.0381</td>\n",
       "      <td id=\"T_a7a1d_row11_col2\" class=\"data row11 col2\" >0.0628</td>\n",
       "      <td id=\"T_a7a1d_row11_col3\" class=\"data row11 col3\" >0.0306</td>\n",
       "      <td id=\"T_a7a1d_row11_col4\" class=\"data row11 col4\" >0.0411</td>\n",
       "      <td id=\"T_a7a1d_row11_col5\" class=\"data row11 col5\" >0.0647</td>\n",
       "      <td id=\"T_a7a1d_row11_col6\" class=\"data row11 col6\" >0.0642</td>\n",
       "    </tr>\n",
       "  </tbody>\n",
       "</table>\n"
      ],
      "text/plain": [
       "<pandas.io.formats.style.Styler at 0x7faac7dbedf0>"
      ]
     },
     "metadata": {},
     "output_type": "display_data"
    }
   ],
   "source": [
    "# model tuning\n",
    "tuned_pce_1_m1 = tune_model(pce_1_m1, n_iter=50)"
   ]
  },
  {
   "cell_type": "code",
   "execution_count": 23,
   "metadata": {},
   "outputs": [
    {
     "data": {
      "application/vnd.jupyter.widget-view+json": {
       "model_id": "a872feb9a4684cd784fa575c1169eecd",
       "version_major": 2,
       "version_minor": 0
      },
      "text/plain": [
       "interactive(children=(ToggleButtons(description='Plot Type:', icons=('',), options=(('Hyperparameters', 'param…"
      ]
     },
     "metadata": {},
     "output_type": "display_data"
    }
   ],
   "source": [
    "# getting insights from model performance\n",
    "evaluate_model(tuned_pce_1_m1)"
   ]
  }
 ],
 "metadata": {
  "kernelspec": {
   "display_name": "Python 3.8.13 ('test')",
   "language": "python",
   "name": "python3"
  },
  "language_info": {
   "codemirror_mode": {
    "name": "ipython",
    "version": 3
   },
   "file_extension": ".py",
   "mimetype": "text/x-python",
   "name": "python",
   "nbconvert_exporter": "python",
   "pygments_lexer": "ipython3",
   "version": "3.8.13"
  },
  "orig_nbformat": 4,
  "vscode": {
   "interpreter": {
    "hash": "3d664b8fc6c27e44ba8ee3c1eb952d46189ab2ef83a31df39349ad42e7bfa8fc"
   }
  }
 },
 "nbformat": 4,
 "nbformat_minor": 2
}
