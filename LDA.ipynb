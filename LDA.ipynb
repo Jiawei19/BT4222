{
 "cells": [
  {
   "cell_type": "code",
   "execution_count": 71,
   "metadata": {},
   "outputs": [],
   "source": [
    "import pycaret\n",
    "import pandas as pd"
   ]
  },
  {
   "cell_type": "code",
   "execution_count": 72,
   "metadata": {},
   "outputs": [],
   "source": [
    "fake_news = pd.read_csv(\"Fake.csv\")\n",
    "real_news = pd.read_csv(\"True.csv\")\n",
    "fake_news['fake'] = 1\n",
    "real_news['fake'] = 0\n",
    "news = pd.concat([fake_news, real_news])"
   ]
  },
  {
   "cell_type": "code",
   "execution_count": 73,
   "metadata": {},
   "outputs": [
    {
     "data": {
      "text/html": [
       "<div>\n",
       "<style scoped>\n",
       "    .dataframe tbody tr th:only-of-type {\n",
       "        vertical-align: middle;\n",
       "    }\n",
       "\n",
       "    .dataframe tbody tr th {\n",
       "        vertical-align: top;\n",
       "    }\n",
       "\n",
       "    .dataframe thead th {\n",
       "        text-align: right;\n",
       "    }\n",
       "</style>\n",
       "<table border=\"1\" class=\"dataframe\">\n",
       "  <thead>\n",
       "    <tr style=\"text-align: right;\">\n",
       "      <th></th>\n",
       "      <th>title</th>\n",
       "      <th>text</th>\n",
       "      <th>subject</th>\n",
       "      <th>date</th>\n",
       "      <th>fake</th>\n",
       "    </tr>\n",
       "  </thead>\n",
       "  <tbody>\n",
       "    <tr>\n",
       "      <th>0</th>\n",
       "      <td>Donald Trump Sends Out Embarrassing New Year’...</td>\n",
       "      <td>Donald Trump just couldn t wish all Americans ...</td>\n",
       "      <td>News</td>\n",
       "      <td>December 31, 2017</td>\n",
       "      <td>1</td>\n",
       "    </tr>\n",
       "    <tr>\n",
       "      <th>1</th>\n",
       "      <td>Drunk Bragging Trump Staffer Started Russian ...</td>\n",
       "      <td>House Intelligence Committee Chairman Devin Nu...</td>\n",
       "      <td>News</td>\n",
       "      <td>December 31, 2017</td>\n",
       "      <td>1</td>\n",
       "    </tr>\n",
       "    <tr>\n",
       "      <th>2</th>\n",
       "      <td>Sheriff David Clarke Becomes An Internet Joke...</td>\n",
       "      <td>On Friday, it was revealed that former Milwauk...</td>\n",
       "      <td>News</td>\n",
       "      <td>December 30, 2017</td>\n",
       "      <td>1</td>\n",
       "    </tr>\n",
       "    <tr>\n",
       "      <th>3</th>\n",
       "      <td>Trump Is So Obsessed He Even Has Obama’s Name...</td>\n",
       "      <td>On Christmas day, Donald Trump announced that ...</td>\n",
       "      <td>News</td>\n",
       "      <td>December 29, 2017</td>\n",
       "      <td>1</td>\n",
       "    </tr>\n",
       "    <tr>\n",
       "      <th>4</th>\n",
       "      <td>Pope Francis Just Called Out Donald Trump Dur...</td>\n",
       "      <td>Pope Francis used his annual Christmas Day mes...</td>\n",
       "      <td>News</td>\n",
       "      <td>December 25, 2017</td>\n",
       "      <td>1</td>\n",
       "    </tr>\n",
       "  </tbody>\n",
       "</table>\n",
       "</div>"
      ],
      "text/plain": [
       "                                               title  \\\n",
       "0   Donald Trump Sends Out Embarrassing New Year’...   \n",
       "1   Drunk Bragging Trump Staffer Started Russian ...   \n",
       "2   Sheriff David Clarke Becomes An Internet Joke...   \n",
       "3   Trump Is So Obsessed He Even Has Obama’s Name...   \n",
       "4   Pope Francis Just Called Out Donald Trump Dur...   \n",
       "\n",
       "                                                text subject  \\\n",
       "0  Donald Trump just couldn t wish all Americans ...    News   \n",
       "1  House Intelligence Committee Chairman Devin Nu...    News   \n",
       "2  On Friday, it was revealed that former Milwauk...    News   \n",
       "3  On Christmas day, Donald Trump announced that ...    News   \n",
       "4  Pope Francis used his annual Christmas Day mes...    News   \n",
       "\n",
       "                date  fake  \n",
       "0  December 31, 2017     1  \n",
       "1  December 31, 2017     1  \n",
       "2  December 30, 2017     1  \n",
       "3  December 29, 2017     1  \n",
       "4  December 25, 2017     1  "
      ]
     },
     "execution_count": 73,
     "metadata": {},
     "output_type": "execute_result"
    }
   ],
   "source": [
    "news.head()"
   ]
  },
  {
   "cell_type": "code",
   "execution_count": 74,
   "metadata": {},
   "outputs": [
    {
     "data": {
      "text/plain": [
       "(44898, 5)"
      ]
     },
     "execution_count": 74,
     "metadata": {},
     "output_type": "execute_result"
    }
   ],
   "source": [
    "news.shape"
   ]
  },
  {
   "cell_type": "code",
   "execution_count": 75,
   "metadata": {},
   "outputs": [
    {
     "data": {
      "text/plain": [
       "(39105, 6)"
      ]
     },
     "execution_count": 75,
     "metadata": {},
     "output_type": "execute_result"
    }
   ],
   "source": [
    "news['all_text'] = news['title'] + news['text']\n",
    "news.drop_duplicates(subset=['all_text'], inplace = True)\n",
    "news.shape"
   ]
  },
  {
   "cell_type": "code",
   "execution_count": 76,
   "metadata": {},
   "outputs": [
    {
     "data": {
      "text/html": [
       "<div>\n",
       "<style scoped>\n",
       "    .dataframe tbody tr th:only-of-type {\n",
       "        vertical-align: middle;\n",
       "    }\n",
       "\n",
       "    .dataframe tbody tr th {\n",
       "        vertical-align: top;\n",
       "    }\n",
       "\n",
       "    .dataframe thead th {\n",
       "        text-align: right;\n",
       "    }\n",
       "</style>\n",
       "<table border=\"1\" class=\"dataframe\">\n",
       "  <thead>\n",
       "    <tr style=\"text-align: right;\">\n",
       "      <th></th>\n",
       "      <th>title</th>\n",
       "      <th>text</th>\n",
       "      <th>subject</th>\n",
       "      <th>date</th>\n",
       "      <th>fake</th>\n",
       "      <th>all_text</th>\n",
       "    </tr>\n",
       "  </thead>\n",
       "  <tbody>\n",
       "    <tr>\n",
       "      <th>0</th>\n",
       "      <td>Donald Trump Sends Out Embarrassing New Year’...</td>\n",
       "      <td>Donald Trump just couldn t wish all Americans ...</td>\n",
       "      <td>News</td>\n",
       "      <td>December 31, 2017</td>\n",
       "      <td>1</td>\n",
       "      <td>Donald Trump Sends Out Embarrassing New Year’...</td>\n",
       "    </tr>\n",
       "    <tr>\n",
       "      <th>1</th>\n",
       "      <td>Drunk Bragging Trump Staffer Started Russian ...</td>\n",
       "      <td>House Intelligence Committee Chairman Devin Nu...</td>\n",
       "      <td>News</td>\n",
       "      <td>December 31, 2017</td>\n",
       "      <td>1</td>\n",
       "      <td>Drunk Bragging Trump Staffer Started Russian ...</td>\n",
       "    </tr>\n",
       "    <tr>\n",
       "      <th>2</th>\n",
       "      <td>Sheriff David Clarke Becomes An Internet Joke...</td>\n",
       "      <td>On Friday, it was revealed that former Milwauk...</td>\n",
       "      <td>News</td>\n",
       "      <td>December 30, 2017</td>\n",
       "      <td>1</td>\n",
       "      <td>Sheriff David Clarke Becomes An Internet Joke...</td>\n",
       "    </tr>\n",
       "    <tr>\n",
       "      <th>3</th>\n",
       "      <td>Trump Is So Obsessed He Even Has Obama’s Name...</td>\n",
       "      <td>On Christmas day, Donald Trump announced that ...</td>\n",
       "      <td>News</td>\n",
       "      <td>December 29, 2017</td>\n",
       "      <td>1</td>\n",
       "      <td>Trump Is So Obsessed He Even Has Obama’s Name...</td>\n",
       "    </tr>\n",
       "    <tr>\n",
       "      <th>4</th>\n",
       "      <td>Pope Francis Just Called Out Donald Trump Dur...</td>\n",
       "      <td>Pope Francis used his annual Christmas Day mes...</td>\n",
       "      <td>News</td>\n",
       "      <td>December 25, 2017</td>\n",
       "      <td>1</td>\n",
       "      <td>Pope Francis Just Called Out Donald Trump Dur...</td>\n",
       "    </tr>\n",
       "  </tbody>\n",
       "</table>\n",
       "</div>"
      ],
      "text/plain": [
       "                                               title  \\\n",
       "0   Donald Trump Sends Out Embarrassing New Year’...   \n",
       "1   Drunk Bragging Trump Staffer Started Russian ...   \n",
       "2   Sheriff David Clarke Becomes An Internet Joke...   \n",
       "3   Trump Is So Obsessed He Even Has Obama’s Name...   \n",
       "4   Pope Francis Just Called Out Donald Trump Dur...   \n",
       "\n",
       "                                                text subject  \\\n",
       "0  Donald Trump just couldn t wish all Americans ...    News   \n",
       "1  House Intelligence Committee Chairman Devin Nu...    News   \n",
       "2  On Friday, it was revealed that former Milwauk...    News   \n",
       "3  On Christmas day, Donald Trump announced that ...    News   \n",
       "4  Pope Francis used his annual Christmas Day mes...    News   \n",
       "\n",
       "                date  fake                                           all_text  \n",
       "0  December 31, 2017     1   Donald Trump Sends Out Embarrassing New Year’...  \n",
       "1  December 31, 2017     1   Drunk Bragging Trump Staffer Started Russian ...  \n",
       "2  December 30, 2017     1   Sheriff David Clarke Becomes An Internet Joke...  \n",
       "3  December 29, 2017     1   Trump Is So Obsessed He Even Has Obama’s Name...  \n",
       "4  December 25, 2017     1   Pope Francis Just Called Out Donald Trump Dur...  "
      ]
     },
     "execution_count": 76,
     "metadata": {},
     "output_type": "execute_result"
    }
   ],
   "source": [
    "news.head()"
   ]
  },
  {
   "cell_type": "code",
   "execution_count": 77,
   "metadata": {},
   "outputs": [],
   "source": [
    "# news = news.sample(1000, random_state=786).reset_index(drop=True)\n",
    "# news.shape"
   ]
  },
  {
   "cell_type": "code",
   "execution_count": 78,
   "metadata": {},
   "outputs": [
    {
     "data": {
      "text/html": [
       "<div>\n",
       "<style scoped>\n",
       "    .dataframe tbody tr th:only-of-type {\n",
       "        vertical-align: middle;\n",
       "    }\n",
       "\n",
       "    .dataframe tbody tr th {\n",
       "        vertical-align: top;\n",
       "    }\n",
       "\n",
       "    .dataframe thead th {\n",
       "        text-align: right;\n",
       "    }\n",
       "</style>\n",
       "<table border=\"1\" class=\"dataframe\">\n",
       "  <thead>\n",
       "    <tr style=\"text-align: right;\">\n",
       "      <th></th>\n",
       "      <th>fake</th>\n",
       "      <th>all_text</th>\n",
       "    </tr>\n",
       "  </thead>\n",
       "  <tbody>\n",
       "    <tr>\n",
       "      <th>0</th>\n",
       "      <td>1</td>\n",
       "      <td>Donald Trump Sends Out Embarrassing New Year’...</td>\n",
       "    </tr>\n",
       "    <tr>\n",
       "      <th>1</th>\n",
       "      <td>1</td>\n",
       "      <td>Drunk Bragging Trump Staffer Started Russian ...</td>\n",
       "    </tr>\n",
       "    <tr>\n",
       "      <th>2</th>\n",
       "      <td>1</td>\n",
       "      <td>Sheriff David Clarke Becomes An Internet Joke...</td>\n",
       "    </tr>\n",
       "    <tr>\n",
       "      <th>3</th>\n",
       "      <td>1</td>\n",
       "      <td>Trump Is So Obsessed He Even Has Obama’s Name...</td>\n",
       "    </tr>\n",
       "    <tr>\n",
       "      <th>4</th>\n",
       "      <td>1</td>\n",
       "      <td>Pope Francis Just Called Out Donald Trump Dur...</td>\n",
       "    </tr>\n",
       "  </tbody>\n",
       "</table>\n",
       "</div>"
      ],
      "text/plain": [
       "   fake                                           all_text\n",
       "0     1   Donald Trump Sends Out Embarrassing New Year’...\n",
       "1     1   Drunk Bragging Trump Staffer Started Russian ...\n",
       "2     1   Sheriff David Clarke Becomes An Internet Joke...\n",
       "3     1   Trump Is So Obsessed He Even Has Obama’s Name...\n",
       "4     1   Pope Francis Just Called Out Donald Trump Dur..."
      ]
     },
     "execution_count": 78,
     "metadata": {},
     "output_type": "execute_result"
    }
   ],
   "source": [
    "modified_news = news.drop(['title','text','subject','date'], axis=1).reset_index(drop=True)\n",
    "modified_news.head()"
   ]
  },
  {
   "cell_type": "code",
   "execution_count": 79,
   "metadata": {},
   "outputs": [],
   "source": [
    "from pycaret.nlp import *"
   ]
  },
  {
   "cell_type": "code",
   "execution_count": 80,
   "metadata": {},
   "outputs": [
    {
     "data": {
      "text/html": [
       "<style type=\"text/css\">\n",
       "</style>\n",
       "<table id=\"T_c17e3\">\n",
       "  <thead>\n",
       "    <tr>\n",
       "      <th id=\"T_c17e3_level0_col0\" class=\"col_heading level0 col0\" >Description</th>\n",
       "      <th id=\"T_c17e3_level0_col1\" class=\"col_heading level0 col1\" >Value</th>\n",
       "    </tr>\n",
       "  </thead>\n",
       "  <tbody>\n",
       "    <tr>\n",
       "      <td id=\"T_c17e3_row0_col0\" class=\"data row0 col0\" >session_id</td>\n",
       "      <td id=\"T_c17e3_row0_col1\" class=\"data row0 col1\" >123</td>\n",
       "    </tr>\n",
       "    <tr>\n",
       "      <td id=\"T_c17e3_row1_col0\" class=\"data row1 col0\" >Documents</td>\n",
       "      <td id=\"T_c17e3_row1_col1\" class=\"data row1 col1\" >39105</td>\n",
       "    </tr>\n",
       "    <tr>\n",
       "      <td id=\"T_c17e3_row2_col0\" class=\"data row2 col0\" >Vocab Size</td>\n",
       "      <td id=\"T_c17e3_row2_col1\" class=\"data row2 col1\" >75475</td>\n",
       "    </tr>\n",
       "    <tr>\n",
       "      <td id=\"T_c17e3_row3_col0\" class=\"data row3 col0\" >Custom Stopwords</td>\n",
       "      <td id=\"T_c17e3_row3_col1\" class=\"data row3 col1\" >False</td>\n",
       "    </tr>\n",
       "  </tbody>\n",
       "</table>\n"
      ],
      "text/plain": [
       "<pandas.io.formats.style.Styler at 0x7fd1fdc662e0>"
      ]
     },
     "metadata": {},
     "output_type": "display_data"
    }
   ],
   "source": [
    "fake_news_nlp = setup(data = modified_news, target = 'all_text', session_id = 123)"
   ]
  },
  {
   "cell_type": "code",
   "execution_count": 81,
   "metadata": {},
   "outputs": [],
   "source": [
    "lda = create_model('lda',multi_core=True)"
   ]
  },
  {
   "cell_type": "code",
   "execution_count": 82,
   "metadata": {},
   "outputs": [
    {
     "data": {
      "text/html": [
       "<div>\n",
       "<style scoped>\n",
       "    .dataframe tbody tr th:only-of-type {\n",
       "        vertical-align: middle;\n",
       "    }\n",
       "\n",
       "    .dataframe tbody tr th {\n",
       "        vertical-align: top;\n",
       "    }\n",
       "\n",
       "    .dataframe thead th {\n",
       "        text-align: right;\n",
       "    }\n",
       "</style>\n",
       "<table border=\"1\" class=\"dataframe\">\n",
       "  <thead>\n",
       "    <tr style=\"text-align: right;\">\n",
       "      <th></th>\n",
       "      <th>fake</th>\n",
       "      <th>all_text</th>\n",
       "      <th>Topic_0</th>\n",
       "      <th>Topic_1</th>\n",
       "      <th>Topic_2</th>\n",
       "      <th>Topic_3</th>\n",
       "      <th>Dominant_Topic</th>\n",
       "      <th>Perc_Dominant_Topic</th>\n",
       "    </tr>\n",
       "  </thead>\n",
       "  <tbody>\n",
       "    <tr>\n",
       "      <th>0</th>\n",
       "      <td>1</td>\n",
       "      <td>send embarrass new year message wish happy new...</td>\n",
       "      <td>0.926613</td>\n",
       "      <td>0.014157</td>\n",
       "      <td>0.057599</td>\n",
       "      <td>0.001631</td>\n",
       "      <td>Topic 0</td>\n",
       "      <td>0.93</td>\n",
       "    </tr>\n",
       "    <tr>\n",
       "      <th>1</th>\n",
       "      <td>1</td>\n",
       "      <td>drunk bragging trump staffer start russian col...</td>\n",
       "      <td>0.375756</td>\n",
       "      <td>0.002352</td>\n",
       "      <td>0.619573</td>\n",
       "      <td>0.002319</td>\n",
       "      <td>Topic 2</td>\n",
       "      <td>0.62</td>\n",
       "    </tr>\n",
       "    <tr>\n",
       "      <th>2</th>\n",
       "      <td>1</td>\n",
       "      <td>become internet joke threaten poke people eye ...</td>\n",
       "      <td>0.701940</td>\n",
       "      <td>0.001383</td>\n",
       "      <td>0.240402</td>\n",
       "      <td>0.056276</td>\n",
       "      <td>Topic 0</td>\n",
       "      <td>0.70</td>\n",
       "    </tr>\n",
       "    <tr>\n",
       "      <th>3</th>\n",
       "      <td>1</td>\n",
       "      <td>obsess even name code website image announce b...</td>\n",
       "      <td>0.726390</td>\n",
       "      <td>0.001629</td>\n",
       "      <td>0.270359</td>\n",
       "      <td>0.001622</td>\n",
       "      <td>Topic 0</td>\n",
       "      <td>0.73</td>\n",
       "    </tr>\n",
       "    <tr>\n",
       "      <th>4</th>\n",
       "      <td>1</td>\n",
       "      <td>call speechpope use annual message even mentio...</td>\n",
       "      <td>0.568869</td>\n",
       "      <td>0.208885</td>\n",
       "      <td>0.001700</td>\n",
       "      <td>0.220546</td>\n",
       "      <td>Topic 0</td>\n",
       "      <td>0.57</td>\n",
       "    </tr>\n",
       "  </tbody>\n",
       "</table>\n",
       "</div>"
      ],
      "text/plain": [
       "   fake                                           all_text   Topic_0  \\\n",
       "0     1  send embarrass new year message wish happy new...  0.926613   \n",
       "1     1  drunk bragging trump staffer start russian col...  0.375756   \n",
       "2     1  become internet joke threaten poke people eye ...  0.701940   \n",
       "3     1  obsess even name code website image announce b...  0.726390   \n",
       "4     1  call speechpope use annual message even mentio...  0.568869   \n",
       "\n",
       "    Topic_1   Topic_2   Topic_3 Dominant_Topic  Perc_Dominant_Topic  \n",
       "0  0.014157  0.057599  0.001631        Topic 0                 0.93  \n",
       "1  0.002352  0.619573  0.002319        Topic 2                 0.62  \n",
       "2  0.001383  0.240402  0.056276        Topic 0                 0.70  \n",
       "3  0.001629  0.270359  0.001622        Topic 0                 0.73  \n",
       "4  0.208885  0.001700  0.220546        Topic 0                 0.57  "
      ]
     },
     "execution_count": 82,
     "metadata": {},
     "output_type": "execute_result"
    }
   ],
   "source": [
    "lda_df = assign_model(lda)\n",
    "lda_df.head()"
   ]
  },
  {
   "cell_type": "code",
   "execution_count": 83,
   "metadata": {},
   "outputs": [
    {
     "data": {
      "text/html": [
       "        <script type=\"text/javascript\">\n",
       "        window.PlotlyConfig = {MathJaxConfig: 'local'};\n",
       "        if (window.MathJax && window.MathJax.Hub && window.MathJax.Hub.Config) {window.MathJax.Hub.Config({SVG: {font: \"STIX-Web\"}});}\n",
       "        if (typeof require !== 'undefined') {\n",
       "        require.undef(\"plotly\");\n",
       "        requirejs.config({\n",
       "            paths: {\n",
       "                'plotly': ['https://cdn.plot.ly/plotly-2.14.0.min']\n",
       "            }\n",
       "        });\n",
       "        require(['plotly'], function(Plotly) {\n",
       "            window._Plotly = Plotly;\n",
       "        });\n",
       "        }\n",
       "        </script>\n",
       "        "
      ]
     },
     "metadata": {},
     "output_type": "display_data"
    },
    {
     "data": {
      "application/vnd.plotly.v1+json": {
       "config": {
        "plotlyServerURL": "https://plot.ly"
       },
       "data": [
        {
         "alignmentgroup": "True",
         "customdata": [
          [
           "say, people, trump, woman, go, make, get, show, time, know"
          ],
          [
           "say, government, election, party, vote, year, percent, leader, also, make"
          ],
          [
           "say, former, report, russian, official, campaign, investigation, election, case, charge"
          ],
          [
           "say, government, state, people, police, year, kill, military, force, country"
          ]
         ],
         "hovertemplate": "Topic=%{x}<br>Documents=%{y}<br>Keyword=%{customdata[0]}<extra></extra>",
         "legendgroup": "",
         "marker": {
          "color": "#636efa",
          "pattern": {
           "shape": ""
          }
         },
         "name": "",
         "offsetgroup": "",
         "orientation": "v",
         "showlegend": false,
         "textposition": "auto",
         "type": "bar",
         "x": [
          "Topic 0",
          "Topic 1",
          "Topic 2",
          "Topic 3"
         ],
         "xaxis": "x",
         "y": [
          14573,
          12868,
          4963,
          6701
         ],
         "yaxis": "y"
        }
       ],
       "layout": {
        "barmode": "relative",
        "legend": {
         "tracegroupgap": 0
        },
        "template": {
         "data": {
          "bar": [
           {
            "error_x": {
             "color": "#2a3f5f"
            },
            "error_y": {
             "color": "#2a3f5f"
            },
            "marker": {
             "line": {
              "color": "#E5ECF6",
              "width": 0.5
             },
             "pattern": {
              "fillmode": "overlay",
              "size": 10,
              "solidity": 0.2
             }
            },
            "type": "bar"
           }
          ],
          "barpolar": [
           {
            "marker": {
             "line": {
              "color": "#E5ECF6",
              "width": 0.5
             },
             "pattern": {
              "fillmode": "overlay",
              "size": 10,
              "solidity": 0.2
             }
            },
            "type": "barpolar"
           }
          ],
          "carpet": [
           {
            "aaxis": {
             "endlinecolor": "#2a3f5f",
             "gridcolor": "white",
             "linecolor": "white",
             "minorgridcolor": "white",
             "startlinecolor": "#2a3f5f"
            },
            "baxis": {
             "endlinecolor": "#2a3f5f",
             "gridcolor": "white",
             "linecolor": "white",
             "minorgridcolor": "white",
             "startlinecolor": "#2a3f5f"
            },
            "type": "carpet"
           }
          ],
          "choropleth": [
           {
            "colorbar": {
             "outlinewidth": 0,
             "ticks": ""
            },
            "type": "choropleth"
           }
          ],
          "contour": [
           {
            "colorbar": {
             "outlinewidth": 0,
             "ticks": ""
            },
            "colorscale": [
             [
              0,
              "#0d0887"
             ],
             [
              0.1111111111111111,
              "#46039f"
             ],
             [
              0.2222222222222222,
              "#7201a8"
             ],
             [
              0.3333333333333333,
              "#9c179e"
             ],
             [
              0.4444444444444444,
              "#bd3786"
             ],
             [
              0.5555555555555556,
              "#d8576b"
             ],
             [
              0.6666666666666666,
              "#ed7953"
             ],
             [
              0.7777777777777778,
              "#fb9f3a"
             ],
             [
              0.8888888888888888,
              "#fdca26"
             ],
             [
              1,
              "#f0f921"
             ]
            ],
            "type": "contour"
           }
          ],
          "contourcarpet": [
           {
            "colorbar": {
             "outlinewidth": 0,
             "ticks": ""
            },
            "type": "contourcarpet"
           }
          ],
          "heatmap": [
           {
            "colorbar": {
             "outlinewidth": 0,
             "ticks": ""
            },
            "colorscale": [
             [
              0,
              "#0d0887"
             ],
             [
              0.1111111111111111,
              "#46039f"
             ],
             [
              0.2222222222222222,
              "#7201a8"
             ],
             [
              0.3333333333333333,
              "#9c179e"
             ],
             [
              0.4444444444444444,
              "#bd3786"
             ],
             [
              0.5555555555555556,
              "#d8576b"
             ],
             [
              0.6666666666666666,
              "#ed7953"
             ],
             [
              0.7777777777777778,
              "#fb9f3a"
             ],
             [
              0.8888888888888888,
              "#fdca26"
             ],
             [
              1,
              "#f0f921"
             ]
            ],
            "type": "heatmap"
           }
          ],
          "heatmapgl": [
           {
            "colorbar": {
             "outlinewidth": 0,
             "ticks": ""
            },
            "colorscale": [
             [
              0,
              "#0d0887"
             ],
             [
              0.1111111111111111,
              "#46039f"
             ],
             [
              0.2222222222222222,
              "#7201a8"
             ],
             [
              0.3333333333333333,
              "#9c179e"
             ],
             [
              0.4444444444444444,
              "#bd3786"
             ],
             [
              0.5555555555555556,
              "#d8576b"
             ],
             [
              0.6666666666666666,
              "#ed7953"
             ],
             [
              0.7777777777777778,
              "#fb9f3a"
             ],
             [
              0.8888888888888888,
              "#fdca26"
             ],
             [
              1,
              "#f0f921"
             ]
            ],
            "type": "heatmapgl"
           }
          ],
          "histogram": [
           {
            "marker": {
             "pattern": {
              "fillmode": "overlay",
              "size": 10,
              "solidity": 0.2
             }
            },
            "type": "histogram"
           }
          ],
          "histogram2d": [
           {
            "colorbar": {
             "outlinewidth": 0,
             "ticks": ""
            },
            "colorscale": [
             [
              0,
              "#0d0887"
             ],
             [
              0.1111111111111111,
              "#46039f"
             ],
             [
              0.2222222222222222,
              "#7201a8"
             ],
             [
              0.3333333333333333,
              "#9c179e"
             ],
             [
              0.4444444444444444,
              "#bd3786"
             ],
             [
              0.5555555555555556,
              "#d8576b"
             ],
             [
              0.6666666666666666,
              "#ed7953"
             ],
             [
              0.7777777777777778,
              "#fb9f3a"
             ],
             [
              0.8888888888888888,
              "#fdca26"
             ],
             [
              1,
              "#f0f921"
             ]
            ],
            "type": "histogram2d"
           }
          ],
          "histogram2dcontour": [
           {
            "colorbar": {
             "outlinewidth": 0,
             "ticks": ""
            },
            "colorscale": [
             [
              0,
              "#0d0887"
             ],
             [
              0.1111111111111111,
              "#46039f"
             ],
             [
              0.2222222222222222,
              "#7201a8"
             ],
             [
              0.3333333333333333,
              "#9c179e"
             ],
             [
              0.4444444444444444,
              "#bd3786"
             ],
             [
              0.5555555555555556,
              "#d8576b"
             ],
             [
              0.6666666666666666,
              "#ed7953"
             ],
             [
              0.7777777777777778,
              "#fb9f3a"
             ],
             [
              0.8888888888888888,
              "#fdca26"
             ],
             [
              1,
              "#f0f921"
             ]
            ],
            "type": "histogram2dcontour"
           }
          ],
          "mesh3d": [
           {
            "colorbar": {
             "outlinewidth": 0,
             "ticks": ""
            },
            "type": "mesh3d"
           }
          ],
          "parcoords": [
           {
            "line": {
             "colorbar": {
              "outlinewidth": 0,
              "ticks": ""
             }
            },
            "type": "parcoords"
           }
          ],
          "pie": [
           {
            "automargin": true,
            "type": "pie"
           }
          ],
          "scatter": [
           {
            "fillpattern": {
             "fillmode": "overlay",
             "size": 10,
             "solidity": 0.2
            },
            "type": "scatter"
           }
          ],
          "scatter3d": [
           {
            "line": {
             "colorbar": {
              "outlinewidth": 0,
              "ticks": ""
             }
            },
            "marker": {
             "colorbar": {
              "outlinewidth": 0,
              "ticks": ""
             }
            },
            "type": "scatter3d"
           }
          ],
          "scattercarpet": [
           {
            "marker": {
             "colorbar": {
              "outlinewidth": 0,
              "ticks": ""
             }
            },
            "type": "scattercarpet"
           }
          ],
          "scattergeo": [
           {
            "marker": {
             "colorbar": {
              "outlinewidth": 0,
              "ticks": ""
             }
            },
            "type": "scattergeo"
           }
          ],
          "scattergl": [
           {
            "marker": {
             "colorbar": {
              "outlinewidth": 0,
              "ticks": ""
             }
            },
            "type": "scattergl"
           }
          ],
          "scattermapbox": [
           {
            "marker": {
             "colorbar": {
              "outlinewidth": 0,
              "ticks": ""
             }
            },
            "type": "scattermapbox"
           }
          ],
          "scatterpolar": [
           {
            "marker": {
             "colorbar": {
              "outlinewidth": 0,
              "ticks": ""
             }
            },
            "type": "scatterpolar"
           }
          ],
          "scatterpolargl": [
           {
            "marker": {
             "colorbar": {
              "outlinewidth": 0,
              "ticks": ""
             }
            },
            "type": "scatterpolargl"
           }
          ],
          "scatterternary": [
           {
            "marker": {
             "colorbar": {
              "outlinewidth": 0,
              "ticks": ""
             }
            },
            "type": "scatterternary"
           }
          ],
          "surface": [
           {
            "colorbar": {
             "outlinewidth": 0,
             "ticks": ""
            },
            "colorscale": [
             [
              0,
              "#0d0887"
             ],
             [
              0.1111111111111111,
              "#46039f"
             ],
             [
              0.2222222222222222,
              "#7201a8"
             ],
             [
              0.3333333333333333,
              "#9c179e"
             ],
             [
              0.4444444444444444,
              "#bd3786"
             ],
             [
              0.5555555555555556,
              "#d8576b"
             ],
             [
              0.6666666666666666,
              "#ed7953"
             ],
             [
              0.7777777777777778,
              "#fb9f3a"
             ],
             [
              0.8888888888888888,
              "#fdca26"
             ],
             [
              1,
              "#f0f921"
             ]
            ],
            "type": "surface"
           }
          ],
          "table": [
           {
            "cells": {
             "fill": {
              "color": "#EBF0F8"
             },
             "line": {
              "color": "white"
             }
            },
            "header": {
             "fill": {
              "color": "#C8D4E3"
             },
             "line": {
              "color": "white"
             }
            },
            "type": "table"
           }
          ]
         },
         "layout": {
          "annotationdefaults": {
           "arrowcolor": "#2a3f5f",
           "arrowhead": 0,
           "arrowwidth": 1
          },
          "autotypenumbers": "strict",
          "coloraxis": {
           "colorbar": {
            "outlinewidth": 0,
            "ticks": ""
           }
          },
          "colorscale": {
           "diverging": [
            [
             0,
             "#8e0152"
            ],
            [
             0.1,
             "#c51b7d"
            ],
            [
             0.2,
             "#de77ae"
            ],
            [
             0.3,
             "#f1b6da"
            ],
            [
             0.4,
             "#fde0ef"
            ],
            [
             0.5,
             "#f7f7f7"
            ],
            [
             0.6,
             "#e6f5d0"
            ],
            [
             0.7,
             "#b8e186"
            ],
            [
             0.8,
             "#7fbc41"
            ],
            [
             0.9,
             "#4d9221"
            ],
            [
             1,
             "#276419"
            ]
           ],
           "sequential": [
            [
             0,
             "#0d0887"
            ],
            [
             0.1111111111111111,
             "#46039f"
            ],
            [
             0.2222222222222222,
             "#7201a8"
            ],
            [
             0.3333333333333333,
             "#9c179e"
            ],
            [
             0.4444444444444444,
             "#bd3786"
            ],
            [
             0.5555555555555556,
             "#d8576b"
            ],
            [
             0.6666666666666666,
             "#ed7953"
            ],
            [
             0.7777777777777778,
             "#fb9f3a"
            ],
            [
             0.8888888888888888,
             "#fdca26"
            ],
            [
             1,
             "#f0f921"
            ]
           ],
           "sequentialminus": [
            [
             0,
             "#0d0887"
            ],
            [
             0.1111111111111111,
             "#46039f"
            ],
            [
             0.2222222222222222,
             "#7201a8"
            ],
            [
             0.3333333333333333,
             "#9c179e"
            ],
            [
             0.4444444444444444,
             "#bd3786"
            ],
            [
             0.5555555555555556,
             "#d8576b"
            ],
            [
             0.6666666666666666,
             "#ed7953"
            ],
            [
             0.7777777777777778,
             "#fb9f3a"
            ],
            [
             0.8888888888888888,
             "#fdca26"
            ],
            [
             1,
             "#f0f921"
            ]
           ]
          },
          "colorway": [
           "#636efa",
           "#EF553B",
           "#00cc96",
           "#ab63fa",
           "#FFA15A",
           "#19d3f3",
           "#FF6692",
           "#B6E880",
           "#FF97FF",
           "#FECB52"
          ],
          "font": {
           "color": "#2a3f5f"
          },
          "geo": {
           "bgcolor": "white",
           "lakecolor": "white",
           "landcolor": "#E5ECF6",
           "showlakes": true,
           "showland": true,
           "subunitcolor": "white"
          },
          "hoverlabel": {
           "align": "left"
          },
          "hovermode": "closest",
          "mapbox": {
           "style": "light"
          },
          "paper_bgcolor": "white",
          "plot_bgcolor": "#E5ECF6",
          "polar": {
           "angularaxis": {
            "gridcolor": "white",
            "linecolor": "white",
            "ticks": ""
           },
           "bgcolor": "#E5ECF6",
           "radialaxis": {
            "gridcolor": "white",
            "linecolor": "white",
            "ticks": ""
           }
          },
          "scene": {
           "xaxis": {
            "backgroundcolor": "#E5ECF6",
            "gridcolor": "white",
            "gridwidth": 2,
            "linecolor": "white",
            "showbackground": true,
            "ticks": "",
            "zerolinecolor": "white"
           },
           "yaxis": {
            "backgroundcolor": "#E5ECF6",
            "gridcolor": "white",
            "gridwidth": 2,
            "linecolor": "white",
            "showbackground": true,
            "ticks": "",
            "zerolinecolor": "white"
           },
           "zaxis": {
            "backgroundcolor": "#E5ECF6",
            "gridcolor": "white",
            "gridwidth": 2,
            "linecolor": "white",
            "showbackground": true,
            "ticks": "",
            "zerolinecolor": "white"
           }
          },
          "shapedefaults": {
           "line": {
            "color": "#2a3f5f"
           }
          },
          "ternary": {
           "aaxis": {
            "gridcolor": "white",
            "linecolor": "white",
            "ticks": ""
           },
           "baxis": {
            "gridcolor": "white",
            "linecolor": "white",
            "ticks": ""
           },
           "bgcolor": "#E5ECF6",
           "caxis": {
            "gridcolor": "white",
            "linecolor": "white",
            "ticks": ""
           }
          },
          "title": {
           "x": 0.05
          },
          "xaxis": {
           "automargin": true,
           "gridcolor": "white",
           "linecolor": "white",
           "ticks": "",
           "title": {
            "standoff": 15
           },
           "zerolinecolor": "white",
           "zerolinewidth": 2
          },
          "yaxis": {
           "automargin": true,
           "gridcolor": "white",
           "linecolor": "white",
           "ticks": "",
           "title": {
            "standoff": 15
           },
           "zerolinecolor": "white",
           "zerolinewidth": 2
          }
         }
        },
        "title": {
         "text": "Document Distribution by Topics"
        },
        "xaxis": {
         "anchor": "y",
         "domain": [
          0,
          1
         ],
         "title": {
          "text": "Topic"
         }
        },
        "yaxis": {
         "anchor": "x",
         "domain": [
          0,
          1
         ],
         "title": {
          "text": "Documents"
         }
        }
       }
      },
      "text/html": [
       "<div>                            <div id=\"282193bf-29b8-4070-afe9-3a2c9fa89f56\" class=\"plotly-graph-div\" style=\"height:525px; width:100%;\"></div>            <script type=\"text/javascript\">                require([\"plotly\"], function(Plotly) {                    window.PLOTLYENV=window.PLOTLYENV || {};                                    if (document.getElementById(\"282193bf-29b8-4070-afe9-3a2c9fa89f56\")) {                    Plotly.newPlot(                        \"282193bf-29b8-4070-afe9-3a2c9fa89f56\",                        [{\"alignmentgroup\":\"True\",\"customdata\":[[\"say, people, trump, woman, go, make, get, show, time, know\"],[\"say, government, election, party, vote, year, percent, leader, also, make\"],[\"say, former, report, russian, official, campaign, investigation, election, case, charge\"],[\"say, government, state, people, police, year, kill, military, force, country\"]],\"hovertemplate\":\"Topic=%{x}<br>Documents=%{y}<br>Keyword=%{customdata[0]}<extra></extra>\",\"legendgroup\":\"\",\"marker\":{\"color\":\"#636efa\",\"pattern\":{\"shape\":\"\"}},\"name\":\"\",\"offsetgroup\":\"\",\"orientation\":\"v\",\"showlegend\":false,\"textposition\":\"auto\",\"x\":[\"Topic 0\",\"Topic 1\",\"Topic 2\",\"Topic 3\"],\"xaxis\":\"x\",\"y\":[14573,12868,4963,6701],\"yaxis\":\"y\",\"type\":\"bar\"}],                        {\"template\":{\"data\":{\"histogram2dcontour\":[{\"type\":\"histogram2dcontour\",\"colorbar\":{\"outlinewidth\":0,\"ticks\":\"\"},\"colorscale\":[[0.0,\"#0d0887\"],[0.1111111111111111,\"#46039f\"],[0.2222222222222222,\"#7201a8\"],[0.3333333333333333,\"#9c179e\"],[0.4444444444444444,\"#bd3786\"],[0.5555555555555556,\"#d8576b\"],[0.6666666666666666,\"#ed7953\"],[0.7777777777777778,\"#fb9f3a\"],[0.8888888888888888,\"#fdca26\"],[1.0,\"#f0f921\"]]}],\"choropleth\":[{\"type\":\"choropleth\",\"colorbar\":{\"outlinewidth\":0,\"ticks\":\"\"}}],\"histogram2d\":[{\"type\":\"histogram2d\",\"colorbar\":{\"outlinewidth\":0,\"ticks\":\"\"},\"colorscale\":[[0.0,\"#0d0887\"],[0.1111111111111111,\"#46039f\"],[0.2222222222222222,\"#7201a8\"],[0.3333333333333333,\"#9c179e\"],[0.4444444444444444,\"#bd3786\"],[0.5555555555555556,\"#d8576b\"],[0.6666666666666666,\"#ed7953\"],[0.7777777777777778,\"#fb9f3a\"],[0.8888888888888888,\"#fdca26\"],[1.0,\"#f0f921\"]]}],\"heatmap\":[{\"type\":\"heatmap\",\"colorbar\":{\"outlinewidth\":0,\"ticks\":\"\"},\"colorscale\":[[0.0,\"#0d0887\"],[0.1111111111111111,\"#46039f\"],[0.2222222222222222,\"#7201a8\"],[0.3333333333333333,\"#9c179e\"],[0.4444444444444444,\"#bd3786\"],[0.5555555555555556,\"#d8576b\"],[0.6666666666666666,\"#ed7953\"],[0.7777777777777778,\"#fb9f3a\"],[0.8888888888888888,\"#fdca26\"],[1.0,\"#f0f921\"]]}],\"heatmapgl\":[{\"type\":\"heatmapgl\",\"colorbar\":{\"outlinewidth\":0,\"ticks\":\"\"},\"colorscale\":[[0.0,\"#0d0887\"],[0.1111111111111111,\"#46039f\"],[0.2222222222222222,\"#7201a8\"],[0.3333333333333333,\"#9c179e\"],[0.4444444444444444,\"#bd3786\"],[0.5555555555555556,\"#d8576b\"],[0.6666666666666666,\"#ed7953\"],[0.7777777777777778,\"#fb9f3a\"],[0.8888888888888888,\"#fdca26\"],[1.0,\"#f0f921\"]]}],\"contourcarpet\":[{\"type\":\"contourcarpet\",\"colorbar\":{\"outlinewidth\":0,\"ticks\":\"\"}}],\"contour\":[{\"type\":\"contour\",\"colorbar\":{\"outlinewidth\":0,\"ticks\":\"\"},\"colorscale\":[[0.0,\"#0d0887\"],[0.1111111111111111,\"#46039f\"],[0.2222222222222222,\"#7201a8\"],[0.3333333333333333,\"#9c179e\"],[0.4444444444444444,\"#bd3786\"],[0.5555555555555556,\"#d8576b\"],[0.6666666666666666,\"#ed7953\"],[0.7777777777777778,\"#fb9f3a\"],[0.8888888888888888,\"#fdca26\"],[1.0,\"#f0f921\"]]}],\"surface\":[{\"type\":\"surface\",\"colorbar\":{\"outlinewidth\":0,\"ticks\":\"\"},\"colorscale\":[[0.0,\"#0d0887\"],[0.1111111111111111,\"#46039f\"],[0.2222222222222222,\"#7201a8\"],[0.3333333333333333,\"#9c179e\"],[0.4444444444444444,\"#bd3786\"],[0.5555555555555556,\"#d8576b\"],[0.6666666666666666,\"#ed7953\"],[0.7777777777777778,\"#fb9f3a\"],[0.8888888888888888,\"#fdca26\"],[1.0,\"#f0f921\"]]}],\"mesh3d\":[{\"type\":\"mesh3d\",\"colorbar\":{\"outlinewidth\":0,\"ticks\":\"\"}}],\"scatter\":[{\"fillpattern\":{\"fillmode\":\"overlay\",\"size\":10,\"solidity\":0.2},\"type\":\"scatter\"}],\"parcoords\":[{\"type\":\"parcoords\",\"line\":{\"colorbar\":{\"outlinewidth\":0,\"ticks\":\"\"}}}],\"scatterpolargl\":[{\"type\":\"scatterpolargl\",\"marker\":{\"colorbar\":{\"outlinewidth\":0,\"ticks\":\"\"}}}],\"bar\":[{\"error_x\":{\"color\":\"#2a3f5f\"},\"error_y\":{\"color\":\"#2a3f5f\"},\"marker\":{\"line\":{\"color\":\"#E5ECF6\",\"width\":0.5},\"pattern\":{\"fillmode\":\"overlay\",\"size\":10,\"solidity\":0.2}},\"type\":\"bar\"}],\"scattergeo\":[{\"type\":\"scattergeo\",\"marker\":{\"colorbar\":{\"outlinewidth\":0,\"ticks\":\"\"}}}],\"scatterpolar\":[{\"type\":\"scatterpolar\",\"marker\":{\"colorbar\":{\"outlinewidth\":0,\"ticks\":\"\"}}}],\"histogram\":[{\"marker\":{\"pattern\":{\"fillmode\":\"overlay\",\"size\":10,\"solidity\":0.2}},\"type\":\"histogram\"}],\"scattergl\":[{\"type\":\"scattergl\",\"marker\":{\"colorbar\":{\"outlinewidth\":0,\"ticks\":\"\"}}}],\"scatter3d\":[{\"type\":\"scatter3d\",\"line\":{\"colorbar\":{\"outlinewidth\":0,\"ticks\":\"\"}},\"marker\":{\"colorbar\":{\"outlinewidth\":0,\"ticks\":\"\"}}}],\"scattermapbox\":[{\"type\":\"scattermapbox\",\"marker\":{\"colorbar\":{\"outlinewidth\":0,\"ticks\":\"\"}}}],\"scatterternary\":[{\"type\":\"scatterternary\",\"marker\":{\"colorbar\":{\"outlinewidth\":0,\"ticks\":\"\"}}}],\"scattercarpet\":[{\"type\":\"scattercarpet\",\"marker\":{\"colorbar\":{\"outlinewidth\":0,\"ticks\":\"\"}}}],\"carpet\":[{\"aaxis\":{\"endlinecolor\":\"#2a3f5f\",\"gridcolor\":\"white\",\"linecolor\":\"white\",\"minorgridcolor\":\"white\",\"startlinecolor\":\"#2a3f5f\"},\"baxis\":{\"endlinecolor\":\"#2a3f5f\",\"gridcolor\":\"white\",\"linecolor\":\"white\",\"minorgridcolor\":\"white\",\"startlinecolor\":\"#2a3f5f\"},\"type\":\"carpet\"}],\"table\":[{\"cells\":{\"fill\":{\"color\":\"#EBF0F8\"},\"line\":{\"color\":\"white\"}},\"header\":{\"fill\":{\"color\":\"#C8D4E3\"},\"line\":{\"color\":\"white\"}},\"type\":\"table\"}],\"barpolar\":[{\"marker\":{\"line\":{\"color\":\"#E5ECF6\",\"width\":0.5},\"pattern\":{\"fillmode\":\"overlay\",\"size\":10,\"solidity\":0.2}},\"type\":\"barpolar\"}],\"pie\":[{\"automargin\":true,\"type\":\"pie\"}]},\"layout\":{\"autotypenumbers\":\"strict\",\"colorway\":[\"#636efa\",\"#EF553B\",\"#00cc96\",\"#ab63fa\",\"#FFA15A\",\"#19d3f3\",\"#FF6692\",\"#B6E880\",\"#FF97FF\",\"#FECB52\"],\"font\":{\"color\":\"#2a3f5f\"},\"hovermode\":\"closest\",\"hoverlabel\":{\"align\":\"left\"},\"paper_bgcolor\":\"white\",\"plot_bgcolor\":\"#E5ECF6\",\"polar\":{\"bgcolor\":\"#E5ECF6\",\"angularaxis\":{\"gridcolor\":\"white\",\"linecolor\":\"white\",\"ticks\":\"\"},\"radialaxis\":{\"gridcolor\":\"white\",\"linecolor\":\"white\",\"ticks\":\"\"}},\"ternary\":{\"bgcolor\":\"#E5ECF6\",\"aaxis\":{\"gridcolor\":\"white\",\"linecolor\":\"white\",\"ticks\":\"\"},\"baxis\":{\"gridcolor\":\"white\",\"linecolor\":\"white\",\"ticks\":\"\"},\"caxis\":{\"gridcolor\":\"white\",\"linecolor\":\"white\",\"ticks\":\"\"}},\"coloraxis\":{\"colorbar\":{\"outlinewidth\":0,\"ticks\":\"\"}},\"colorscale\":{\"sequential\":[[0.0,\"#0d0887\"],[0.1111111111111111,\"#46039f\"],[0.2222222222222222,\"#7201a8\"],[0.3333333333333333,\"#9c179e\"],[0.4444444444444444,\"#bd3786\"],[0.5555555555555556,\"#d8576b\"],[0.6666666666666666,\"#ed7953\"],[0.7777777777777778,\"#fb9f3a\"],[0.8888888888888888,\"#fdca26\"],[1.0,\"#f0f921\"]],\"sequentialminus\":[[0.0,\"#0d0887\"],[0.1111111111111111,\"#46039f\"],[0.2222222222222222,\"#7201a8\"],[0.3333333333333333,\"#9c179e\"],[0.4444444444444444,\"#bd3786\"],[0.5555555555555556,\"#d8576b\"],[0.6666666666666666,\"#ed7953\"],[0.7777777777777778,\"#fb9f3a\"],[0.8888888888888888,\"#fdca26\"],[1.0,\"#f0f921\"]],\"diverging\":[[0,\"#8e0152\"],[0.1,\"#c51b7d\"],[0.2,\"#de77ae\"],[0.3,\"#f1b6da\"],[0.4,\"#fde0ef\"],[0.5,\"#f7f7f7\"],[0.6,\"#e6f5d0\"],[0.7,\"#b8e186\"],[0.8,\"#7fbc41\"],[0.9,\"#4d9221\"],[1,\"#276419\"]]},\"xaxis\":{\"gridcolor\":\"white\",\"linecolor\":\"white\",\"ticks\":\"\",\"title\":{\"standoff\":15},\"zerolinecolor\":\"white\",\"automargin\":true,\"zerolinewidth\":2},\"yaxis\":{\"gridcolor\":\"white\",\"linecolor\":\"white\",\"ticks\":\"\",\"title\":{\"standoff\":15},\"zerolinecolor\":\"white\",\"automargin\":true,\"zerolinewidth\":2},\"scene\":{\"xaxis\":{\"backgroundcolor\":\"#E5ECF6\",\"gridcolor\":\"white\",\"linecolor\":\"white\",\"showbackground\":true,\"ticks\":\"\",\"zerolinecolor\":\"white\",\"gridwidth\":2},\"yaxis\":{\"backgroundcolor\":\"#E5ECF6\",\"gridcolor\":\"white\",\"linecolor\":\"white\",\"showbackground\":true,\"ticks\":\"\",\"zerolinecolor\":\"white\",\"gridwidth\":2},\"zaxis\":{\"backgroundcolor\":\"#E5ECF6\",\"gridcolor\":\"white\",\"linecolor\":\"white\",\"showbackground\":true,\"ticks\":\"\",\"zerolinecolor\":\"white\",\"gridwidth\":2}},\"shapedefaults\":{\"line\":{\"color\":\"#2a3f5f\"}},\"annotationdefaults\":{\"arrowcolor\":\"#2a3f5f\",\"arrowhead\":0,\"arrowwidth\":1},\"geo\":{\"bgcolor\":\"white\",\"landcolor\":\"#E5ECF6\",\"subunitcolor\":\"white\",\"showland\":true,\"showlakes\":true,\"lakecolor\":\"white\"},\"title\":{\"x\":0.05},\"mapbox\":{\"style\":\"light\"}}},\"xaxis\":{\"anchor\":\"y\",\"domain\":[0.0,1.0],\"title\":{\"text\":\"Topic\"}},\"yaxis\":{\"anchor\":\"x\",\"domain\":[0.0,1.0],\"title\":{\"text\":\"Documents\"}},\"legend\":{\"tracegroupgap\":0},\"title\":{\"text\":\"Document Distribution by Topics\"},\"barmode\":\"relative\"},                        {\"responsive\": true}                    ).then(function(){\n",
       "                            \n",
       "var gd = document.getElementById('282193bf-29b8-4070-afe9-3a2c9fa89f56');\n",
       "var x = new MutationObserver(function (mutations, observer) {{\n",
       "        var display = window.getComputedStyle(gd).display;\n",
       "        if (!display || display === 'none') {{\n",
       "            console.log([gd, 'removed!']);\n",
       "            Plotly.purge(gd);\n",
       "            observer.disconnect();\n",
       "        }}\n",
       "}});\n",
       "\n",
       "// Listen for the removal of the full notebook cells\n",
       "var notebookContainer = gd.closest('#notebook-container');\n",
       "if (notebookContainer) {{\n",
       "    x.observe(notebookContainer, {childList: true});\n",
       "}}\n",
       "\n",
       "// Listen for the clearing of the current output cell\n",
       "var outputEl = gd.closest('.output');\n",
       "if (outputEl) {{\n",
       "    x.observe(outputEl, {childList: true});\n",
       "}}\n",
       "\n",
       "                        })                };                });            </script>        </div>"
      ]
     },
     "metadata": {},
     "output_type": "display_data"
    }
   ],
   "source": [
    "plot_model(lda, plot = 'topic_distribution')"
   ]
  },
  {
   "cell_type": "code",
   "execution_count": 84,
   "metadata": {},
   "outputs": [
    {
     "data": {
      "application/vnd.jupyter.widget-view+json": {
       "model_id": "f1b53bddb4164b64b53684c3b1f37ac9",
       "version_major": 2,
       "version_minor": 0
      },
      "text/plain": [
       "interactive(children=(ToggleButtons(description='Plot Type:', icons=('',), options=(('Frequency Plot', 'freque…"
      ]
     },
     "metadata": {},
     "output_type": "display_data"
    }
   ],
   "source": [
    "evaluate_model(lda)"
   ]
  },
  {
   "cell_type": "code",
   "execution_count": 85,
   "metadata": {},
   "outputs": [
    {
     "data": {
      "text/html": [
       "<div>\n",
       "<style scoped>\n",
       "    .dataframe tbody tr th:only-of-type {\n",
       "        vertical-align: middle;\n",
       "    }\n",
       "\n",
       "    .dataframe tbody tr th {\n",
       "        vertical-align: top;\n",
       "    }\n",
       "\n",
       "    .dataframe thead th {\n",
       "        text-align: right;\n",
       "    }\n",
       "</style>\n",
       "<table border=\"1\" class=\"dataframe\">\n",
       "  <thead>\n",
       "    <tr style=\"text-align: right;\">\n",
       "      <th></th>\n",
       "      <th>fake</th>\n",
       "      <th>Topic_0</th>\n",
       "      <th>Topic_1</th>\n",
       "      <th>Topic_2</th>\n",
       "      <th>Topic_3</th>\n",
       "    </tr>\n",
       "  </thead>\n",
       "  <tbody>\n",
       "    <tr>\n",
       "      <th>0</th>\n",
       "      <td>1</td>\n",
       "      <td>0.926613</td>\n",
       "      <td>0.014157</td>\n",
       "      <td>0.057599</td>\n",
       "      <td>0.001631</td>\n",
       "    </tr>\n",
       "    <tr>\n",
       "      <th>1</th>\n",
       "      <td>1</td>\n",
       "      <td>0.375756</td>\n",
       "      <td>0.002352</td>\n",
       "      <td>0.619573</td>\n",
       "      <td>0.002319</td>\n",
       "    </tr>\n",
       "    <tr>\n",
       "      <th>2</th>\n",
       "      <td>1</td>\n",
       "      <td>0.701940</td>\n",
       "      <td>0.001383</td>\n",
       "      <td>0.240402</td>\n",
       "      <td>0.056276</td>\n",
       "    </tr>\n",
       "    <tr>\n",
       "      <th>3</th>\n",
       "      <td>1</td>\n",
       "      <td>0.726390</td>\n",
       "      <td>0.001629</td>\n",
       "      <td>0.270359</td>\n",
       "      <td>0.001622</td>\n",
       "    </tr>\n",
       "    <tr>\n",
       "      <th>4</th>\n",
       "      <td>1</td>\n",
       "      <td>0.568869</td>\n",
       "      <td>0.208885</td>\n",
       "      <td>0.001700</td>\n",
       "      <td>0.220546</td>\n",
       "    </tr>\n",
       "  </tbody>\n",
       "</table>\n",
       "</div>"
      ],
      "text/plain": [
       "   fake   Topic_0   Topic_1   Topic_2   Topic_3\n",
       "0     1  0.926613  0.014157  0.057599  0.001631\n",
       "1     1  0.375756  0.002352  0.619573  0.002319\n",
       "2     1  0.701940  0.001383  0.240402  0.056276\n",
       "3     1  0.726390  0.001629  0.270359  0.001622\n",
       "4     1  0.568869  0.208885  0.001700  0.220546"
      ]
     },
     "execution_count": 85,
     "metadata": {},
     "output_type": "execute_result"
    }
   ],
   "source": [
    "lda_df.drop(['all_text','Dominant_Topic','Perc_Dominant_Topic'], axis=1, inplace=True)\n",
    "lda_df.head()"
   ]
  },
  {
   "cell_type": "markdown",
   "metadata": {},
   "source": [
    "# Classification"
   ]
  },
  {
   "cell_type": "code",
   "execution_count": 86,
   "metadata": {},
   "outputs": [],
   "source": [
    "from pycaret.classification import *"
   ]
  },
  {
   "cell_type": "code",
   "execution_count": 87,
   "metadata": {},
   "outputs": [
    {
     "data": {
      "text/html": [
       "<style type=\"text/css\">\n",
       "#T_211e3_row44_col1 {\n",
       "  background-color: lightgreen;\n",
       "}\n",
       "</style>\n",
       "<table id=\"T_211e3\">\n",
       "  <thead>\n",
       "    <tr>\n",
       "      <th class=\"blank level0\" >&nbsp;</th>\n",
       "      <th id=\"T_211e3_level0_col0\" class=\"col_heading level0 col0\" >Description</th>\n",
       "      <th id=\"T_211e3_level0_col1\" class=\"col_heading level0 col1\" >Value</th>\n",
       "    </tr>\n",
       "  </thead>\n",
       "  <tbody>\n",
       "    <tr>\n",
       "      <th id=\"T_211e3_level0_row0\" class=\"row_heading level0 row0\" >0</th>\n",
       "      <td id=\"T_211e3_row0_col0\" class=\"data row0 col0\" >session_id</td>\n",
       "      <td id=\"T_211e3_row0_col1\" class=\"data row0 col1\" >5</td>\n",
       "    </tr>\n",
       "    <tr>\n",
       "      <th id=\"T_211e3_level0_row1\" class=\"row_heading level0 row1\" >1</th>\n",
       "      <td id=\"T_211e3_row1_col0\" class=\"data row1 col0\" >Target</td>\n",
       "      <td id=\"T_211e3_row1_col1\" class=\"data row1 col1\" >fake</td>\n",
       "    </tr>\n",
       "    <tr>\n",
       "      <th id=\"T_211e3_level0_row2\" class=\"row_heading level0 row2\" >2</th>\n",
       "      <td id=\"T_211e3_row2_col0\" class=\"data row2 col0\" >Target Type</td>\n",
       "      <td id=\"T_211e3_row2_col1\" class=\"data row2 col1\" >Binary</td>\n",
       "    </tr>\n",
       "    <tr>\n",
       "      <th id=\"T_211e3_level0_row3\" class=\"row_heading level0 row3\" >3</th>\n",
       "      <td id=\"T_211e3_row3_col0\" class=\"data row3 col0\" >Label Encoded</td>\n",
       "      <td id=\"T_211e3_row3_col1\" class=\"data row3 col1\" >None</td>\n",
       "    </tr>\n",
       "    <tr>\n",
       "      <th id=\"T_211e3_level0_row4\" class=\"row_heading level0 row4\" >4</th>\n",
       "      <td id=\"T_211e3_row4_col0\" class=\"data row4 col0\" >Original Data</td>\n",
       "      <td id=\"T_211e3_row4_col1\" class=\"data row4 col1\" >(39105, 5)</td>\n",
       "    </tr>\n",
       "    <tr>\n",
       "      <th id=\"T_211e3_level0_row5\" class=\"row_heading level0 row5\" >5</th>\n",
       "      <td id=\"T_211e3_row5_col0\" class=\"data row5 col0\" >Missing Values</td>\n",
       "      <td id=\"T_211e3_row5_col1\" class=\"data row5 col1\" >False</td>\n",
       "    </tr>\n",
       "    <tr>\n",
       "      <th id=\"T_211e3_level0_row6\" class=\"row_heading level0 row6\" >6</th>\n",
       "      <td id=\"T_211e3_row6_col0\" class=\"data row6 col0\" >Numeric Features</td>\n",
       "      <td id=\"T_211e3_row6_col1\" class=\"data row6 col1\" >4</td>\n",
       "    </tr>\n",
       "    <tr>\n",
       "      <th id=\"T_211e3_level0_row7\" class=\"row_heading level0 row7\" >7</th>\n",
       "      <td id=\"T_211e3_row7_col0\" class=\"data row7 col0\" >Categorical Features</td>\n",
       "      <td id=\"T_211e3_row7_col1\" class=\"data row7 col1\" >0</td>\n",
       "    </tr>\n",
       "    <tr>\n",
       "      <th id=\"T_211e3_level0_row8\" class=\"row_heading level0 row8\" >8</th>\n",
       "      <td id=\"T_211e3_row8_col0\" class=\"data row8 col0\" >Ordinal Features</td>\n",
       "      <td id=\"T_211e3_row8_col1\" class=\"data row8 col1\" >False</td>\n",
       "    </tr>\n",
       "    <tr>\n",
       "      <th id=\"T_211e3_level0_row9\" class=\"row_heading level0 row9\" >9</th>\n",
       "      <td id=\"T_211e3_row9_col0\" class=\"data row9 col0\" >High Cardinality Features</td>\n",
       "      <td id=\"T_211e3_row9_col1\" class=\"data row9 col1\" >False</td>\n",
       "    </tr>\n",
       "    <tr>\n",
       "      <th id=\"T_211e3_level0_row10\" class=\"row_heading level0 row10\" >10</th>\n",
       "      <td id=\"T_211e3_row10_col0\" class=\"data row10 col0\" >High Cardinality Method</td>\n",
       "      <td id=\"T_211e3_row10_col1\" class=\"data row10 col1\" >None</td>\n",
       "    </tr>\n",
       "    <tr>\n",
       "      <th id=\"T_211e3_level0_row11\" class=\"row_heading level0 row11\" >11</th>\n",
       "      <td id=\"T_211e3_row11_col0\" class=\"data row11 col0\" >Transformed Train Set</td>\n",
       "      <td id=\"T_211e3_row11_col1\" class=\"data row11 col1\" >(33239, 4)</td>\n",
       "    </tr>\n",
       "    <tr>\n",
       "      <th id=\"T_211e3_level0_row12\" class=\"row_heading level0 row12\" >12</th>\n",
       "      <td id=\"T_211e3_row12_col0\" class=\"data row12 col0\" >Transformed Test Set</td>\n",
       "      <td id=\"T_211e3_row12_col1\" class=\"data row12 col1\" >(5866, 4)</td>\n",
       "    </tr>\n",
       "    <tr>\n",
       "      <th id=\"T_211e3_level0_row13\" class=\"row_heading level0 row13\" >13</th>\n",
       "      <td id=\"T_211e3_row13_col0\" class=\"data row13 col0\" >Shuffle Train-Test</td>\n",
       "      <td id=\"T_211e3_row13_col1\" class=\"data row13 col1\" >True</td>\n",
       "    </tr>\n",
       "    <tr>\n",
       "      <th id=\"T_211e3_level0_row14\" class=\"row_heading level0 row14\" >14</th>\n",
       "      <td id=\"T_211e3_row14_col0\" class=\"data row14 col0\" >Stratify Train-Test</td>\n",
       "      <td id=\"T_211e3_row14_col1\" class=\"data row14 col1\" >False</td>\n",
       "    </tr>\n",
       "    <tr>\n",
       "      <th id=\"T_211e3_level0_row15\" class=\"row_heading level0 row15\" >15</th>\n",
       "      <td id=\"T_211e3_row15_col0\" class=\"data row15 col0\" >Fold Generator</td>\n",
       "      <td id=\"T_211e3_row15_col1\" class=\"data row15 col1\" >StratifiedKFold</td>\n",
       "    </tr>\n",
       "    <tr>\n",
       "      <th id=\"T_211e3_level0_row16\" class=\"row_heading level0 row16\" >16</th>\n",
       "      <td id=\"T_211e3_row16_col0\" class=\"data row16 col0\" >Fold Number</td>\n",
       "      <td id=\"T_211e3_row16_col1\" class=\"data row16 col1\" >10</td>\n",
       "    </tr>\n",
       "    <tr>\n",
       "      <th id=\"T_211e3_level0_row17\" class=\"row_heading level0 row17\" >17</th>\n",
       "      <td id=\"T_211e3_row17_col0\" class=\"data row17 col0\" >CPU Jobs</td>\n",
       "      <td id=\"T_211e3_row17_col1\" class=\"data row17 col1\" >-1</td>\n",
       "    </tr>\n",
       "    <tr>\n",
       "      <th id=\"T_211e3_level0_row18\" class=\"row_heading level0 row18\" >18</th>\n",
       "      <td id=\"T_211e3_row18_col0\" class=\"data row18 col0\" >Use GPU</td>\n",
       "      <td id=\"T_211e3_row18_col1\" class=\"data row18 col1\" >False</td>\n",
       "    </tr>\n",
       "    <tr>\n",
       "      <th id=\"T_211e3_level0_row19\" class=\"row_heading level0 row19\" >19</th>\n",
       "      <td id=\"T_211e3_row19_col0\" class=\"data row19 col0\" >Log Experiment</td>\n",
       "      <td id=\"T_211e3_row19_col1\" class=\"data row19 col1\" >False</td>\n",
       "    </tr>\n",
       "    <tr>\n",
       "      <th id=\"T_211e3_level0_row20\" class=\"row_heading level0 row20\" >20</th>\n",
       "      <td id=\"T_211e3_row20_col0\" class=\"data row20 col0\" >Experiment Name</td>\n",
       "      <td id=\"T_211e3_row20_col1\" class=\"data row20 col1\" >clf-default-name</td>\n",
       "    </tr>\n",
       "    <tr>\n",
       "      <th id=\"T_211e3_level0_row21\" class=\"row_heading level0 row21\" >21</th>\n",
       "      <td id=\"T_211e3_row21_col0\" class=\"data row21 col0\" >USI</td>\n",
       "      <td id=\"T_211e3_row21_col1\" class=\"data row21 col1\" >a494</td>\n",
       "    </tr>\n",
       "    <tr>\n",
       "      <th id=\"T_211e3_level0_row22\" class=\"row_heading level0 row22\" >22</th>\n",
       "      <td id=\"T_211e3_row22_col0\" class=\"data row22 col0\" >Imputation Type</td>\n",
       "      <td id=\"T_211e3_row22_col1\" class=\"data row22 col1\" >simple</td>\n",
       "    </tr>\n",
       "    <tr>\n",
       "      <th id=\"T_211e3_level0_row23\" class=\"row_heading level0 row23\" >23</th>\n",
       "      <td id=\"T_211e3_row23_col0\" class=\"data row23 col0\" >Iterative Imputation Iteration</td>\n",
       "      <td id=\"T_211e3_row23_col1\" class=\"data row23 col1\" >None</td>\n",
       "    </tr>\n",
       "    <tr>\n",
       "      <th id=\"T_211e3_level0_row24\" class=\"row_heading level0 row24\" >24</th>\n",
       "      <td id=\"T_211e3_row24_col0\" class=\"data row24 col0\" >Numeric Imputer</td>\n",
       "      <td id=\"T_211e3_row24_col1\" class=\"data row24 col1\" >mean</td>\n",
       "    </tr>\n",
       "    <tr>\n",
       "      <th id=\"T_211e3_level0_row25\" class=\"row_heading level0 row25\" >25</th>\n",
       "      <td id=\"T_211e3_row25_col0\" class=\"data row25 col0\" >Iterative Imputation Numeric Model</td>\n",
       "      <td id=\"T_211e3_row25_col1\" class=\"data row25 col1\" >None</td>\n",
       "    </tr>\n",
       "    <tr>\n",
       "      <th id=\"T_211e3_level0_row26\" class=\"row_heading level0 row26\" >26</th>\n",
       "      <td id=\"T_211e3_row26_col0\" class=\"data row26 col0\" >Categorical Imputer</td>\n",
       "      <td id=\"T_211e3_row26_col1\" class=\"data row26 col1\" >constant</td>\n",
       "    </tr>\n",
       "    <tr>\n",
       "      <th id=\"T_211e3_level0_row27\" class=\"row_heading level0 row27\" >27</th>\n",
       "      <td id=\"T_211e3_row27_col0\" class=\"data row27 col0\" >Iterative Imputation Categorical Model</td>\n",
       "      <td id=\"T_211e3_row27_col1\" class=\"data row27 col1\" >None</td>\n",
       "    </tr>\n",
       "    <tr>\n",
       "      <th id=\"T_211e3_level0_row28\" class=\"row_heading level0 row28\" >28</th>\n",
       "      <td id=\"T_211e3_row28_col0\" class=\"data row28 col0\" >Unknown Categoricals Handling</td>\n",
       "      <td id=\"T_211e3_row28_col1\" class=\"data row28 col1\" >least_frequent</td>\n",
       "    </tr>\n",
       "    <tr>\n",
       "      <th id=\"T_211e3_level0_row29\" class=\"row_heading level0 row29\" >29</th>\n",
       "      <td id=\"T_211e3_row29_col0\" class=\"data row29 col0\" >Normalize</td>\n",
       "      <td id=\"T_211e3_row29_col1\" class=\"data row29 col1\" >False</td>\n",
       "    </tr>\n",
       "    <tr>\n",
       "      <th id=\"T_211e3_level0_row30\" class=\"row_heading level0 row30\" >30</th>\n",
       "      <td id=\"T_211e3_row30_col0\" class=\"data row30 col0\" >Normalize Method</td>\n",
       "      <td id=\"T_211e3_row30_col1\" class=\"data row30 col1\" >None</td>\n",
       "    </tr>\n",
       "    <tr>\n",
       "      <th id=\"T_211e3_level0_row31\" class=\"row_heading level0 row31\" >31</th>\n",
       "      <td id=\"T_211e3_row31_col0\" class=\"data row31 col0\" >Transformation</td>\n",
       "      <td id=\"T_211e3_row31_col1\" class=\"data row31 col1\" >False</td>\n",
       "    </tr>\n",
       "    <tr>\n",
       "      <th id=\"T_211e3_level0_row32\" class=\"row_heading level0 row32\" >32</th>\n",
       "      <td id=\"T_211e3_row32_col0\" class=\"data row32 col0\" >Transformation Method</td>\n",
       "      <td id=\"T_211e3_row32_col1\" class=\"data row32 col1\" >None</td>\n",
       "    </tr>\n",
       "    <tr>\n",
       "      <th id=\"T_211e3_level0_row33\" class=\"row_heading level0 row33\" >33</th>\n",
       "      <td id=\"T_211e3_row33_col0\" class=\"data row33 col0\" >PCA</td>\n",
       "      <td id=\"T_211e3_row33_col1\" class=\"data row33 col1\" >False</td>\n",
       "    </tr>\n",
       "    <tr>\n",
       "      <th id=\"T_211e3_level0_row34\" class=\"row_heading level0 row34\" >34</th>\n",
       "      <td id=\"T_211e3_row34_col0\" class=\"data row34 col0\" >PCA Method</td>\n",
       "      <td id=\"T_211e3_row34_col1\" class=\"data row34 col1\" >None</td>\n",
       "    </tr>\n",
       "    <tr>\n",
       "      <th id=\"T_211e3_level0_row35\" class=\"row_heading level0 row35\" >35</th>\n",
       "      <td id=\"T_211e3_row35_col0\" class=\"data row35 col0\" >PCA Components</td>\n",
       "      <td id=\"T_211e3_row35_col1\" class=\"data row35 col1\" >None</td>\n",
       "    </tr>\n",
       "    <tr>\n",
       "      <th id=\"T_211e3_level0_row36\" class=\"row_heading level0 row36\" >36</th>\n",
       "      <td id=\"T_211e3_row36_col0\" class=\"data row36 col0\" >Ignore Low Variance</td>\n",
       "      <td id=\"T_211e3_row36_col1\" class=\"data row36 col1\" >False</td>\n",
       "    </tr>\n",
       "    <tr>\n",
       "      <th id=\"T_211e3_level0_row37\" class=\"row_heading level0 row37\" >37</th>\n",
       "      <td id=\"T_211e3_row37_col0\" class=\"data row37 col0\" >Combine Rare Levels</td>\n",
       "      <td id=\"T_211e3_row37_col1\" class=\"data row37 col1\" >False</td>\n",
       "    </tr>\n",
       "    <tr>\n",
       "      <th id=\"T_211e3_level0_row38\" class=\"row_heading level0 row38\" >38</th>\n",
       "      <td id=\"T_211e3_row38_col0\" class=\"data row38 col0\" >Rare Level Threshold</td>\n",
       "      <td id=\"T_211e3_row38_col1\" class=\"data row38 col1\" >None</td>\n",
       "    </tr>\n",
       "    <tr>\n",
       "      <th id=\"T_211e3_level0_row39\" class=\"row_heading level0 row39\" >39</th>\n",
       "      <td id=\"T_211e3_row39_col0\" class=\"data row39 col0\" >Numeric Binning</td>\n",
       "      <td id=\"T_211e3_row39_col1\" class=\"data row39 col1\" >False</td>\n",
       "    </tr>\n",
       "    <tr>\n",
       "      <th id=\"T_211e3_level0_row40\" class=\"row_heading level0 row40\" >40</th>\n",
       "      <td id=\"T_211e3_row40_col0\" class=\"data row40 col0\" >Remove Outliers</td>\n",
       "      <td id=\"T_211e3_row40_col1\" class=\"data row40 col1\" >False</td>\n",
       "    </tr>\n",
       "    <tr>\n",
       "      <th id=\"T_211e3_level0_row41\" class=\"row_heading level0 row41\" >41</th>\n",
       "      <td id=\"T_211e3_row41_col0\" class=\"data row41 col0\" >Outliers Threshold</td>\n",
       "      <td id=\"T_211e3_row41_col1\" class=\"data row41 col1\" >None</td>\n",
       "    </tr>\n",
       "    <tr>\n",
       "      <th id=\"T_211e3_level0_row42\" class=\"row_heading level0 row42\" >42</th>\n",
       "      <td id=\"T_211e3_row42_col0\" class=\"data row42 col0\" >Remove Multicollinearity</td>\n",
       "      <td id=\"T_211e3_row42_col1\" class=\"data row42 col1\" >False</td>\n",
       "    </tr>\n",
       "    <tr>\n",
       "      <th id=\"T_211e3_level0_row43\" class=\"row_heading level0 row43\" >43</th>\n",
       "      <td id=\"T_211e3_row43_col0\" class=\"data row43 col0\" >Multicollinearity Threshold</td>\n",
       "      <td id=\"T_211e3_row43_col1\" class=\"data row43 col1\" >None</td>\n",
       "    </tr>\n",
       "    <tr>\n",
       "      <th id=\"T_211e3_level0_row44\" class=\"row_heading level0 row44\" >44</th>\n",
       "      <td id=\"T_211e3_row44_col0\" class=\"data row44 col0\" >Remove Perfect Collinearity</td>\n",
       "      <td id=\"T_211e3_row44_col1\" class=\"data row44 col1\" >True</td>\n",
       "    </tr>\n",
       "    <tr>\n",
       "      <th id=\"T_211e3_level0_row45\" class=\"row_heading level0 row45\" >45</th>\n",
       "      <td id=\"T_211e3_row45_col0\" class=\"data row45 col0\" >Clustering</td>\n",
       "      <td id=\"T_211e3_row45_col1\" class=\"data row45 col1\" >False</td>\n",
       "    </tr>\n",
       "    <tr>\n",
       "      <th id=\"T_211e3_level0_row46\" class=\"row_heading level0 row46\" >46</th>\n",
       "      <td id=\"T_211e3_row46_col0\" class=\"data row46 col0\" >Clustering Iteration</td>\n",
       "      <td id=\"T_211e3_row46_col1\" class=\"data row46 col1\" >None</td>\n",
       "    </tr>\n",
       "    <tr>\n",
       "      <th id=\"T_211e3_level0_row47\" class=\"row_heading level0 row47\" >47</th>\n",
       "      <td id=\"T_211e3_row47_col0\" class=\"data row47 col0\" >Polynomial Features</td>\n",
       "      <td id=\"T_211e3_row47_col1\" class=\"data row47 col1\" >False</td>\n",
       "    </tr>\n",
       "    <tr>\n",
       "      <th id=\"T_211e3_level0_row48\" class=\"row_heading level0 row48\" >48</th>\n",
       "      <td id=\"T_211e3_row48_col0\" class=\"data row48 col0\" >Polynomial Degree</td>\n",
       "      <td id=\"T_211e3_row48_col1\" class=\"data row48 col1\" >None</td>\n",
       "    </tr>\n",
       "    <tr>\n",
       "      <th id=\"T_211e3_level0_row49\" class=\"row_heading level0 row49\" >49</th>\n",
       "      <td id=\"T_211e3_row49_col0\" class=\"data row49 col0\" >Trignometry Features</td>\n",
       "      <td id=\"T_211e3_row49_col1\" class=\"data row49 col1\" >False</td>\n",
       "    </tr>\n",
       "    <tr>\n",
       "      <th id=\"T_211e3_level0_row50\" class=\"row_heading level0 row50\" >50</th>\n",
       "      <td id=\"T_211e3_row50_col0\" class=\"data row50 col0\" >Polynomial Threshold</td>\n",
       "      <td id=\"T_211e3_row50_col1\" class=\"data row50 col1\" >None</td>\n",
       "    </tr>\n",
       "    <tr>\n",
       "      <th id=\"T_211e3_level0_row51\" class=\"row_heading level0 row51\" >51</th>\n",
       "      <td id=\"T_211e3_row51_col0\" class=\"data row51 col0\" >Group Features</td>\n",
       "      <td id=\"T_211e3_row51_col1\" class=\"data row51 col1\" >False</td>\n",
       "    </tr>\n",
       "    <tr>\n",
       "      <th id=\"T_211e3_level0_row52\" class=\"row_heading level0 row52\" >52</th>\n",
       "      <td id=\"T_211e3_row52_col0\" class=\"data row52 col0\" >Feature Selection</td>\n",
       "      <td id=\"T_211e3_row52_col1\" class=\"data row52 col1\" >False</td>\n",
       "    </tr>\n",
       "    <tr>\n",
       "      <th id=\"T_211e3_level0_row53\" class=\"row_heading level0 row53\" >53</th>\n",
       "      <td id=\"T_211e3_row53_col0\" class=\"data row53 col0\" >Feature Selection Method</td>\n",
       "      <td id=\"T_211e3_row53_col1\" class=\"data row53 col1\" >classic</td>\n",
       "    </tr>\n",
       "    <tr>\n",
       "      <th id=\"T_211e3_level0_row54\" class=\"row_heading level0 row54\" >54</th>\n",
       "      <td id=\"T_211e3_row54_col0\" class=\"data row54 col0\" >Features Selection Threshold</td>\n",
       "      <td id=\"T_211e3_row54_col1\" class=\"data row54 col1\" >None</td>\n",
       "    </tr>\n",
       "    <tr>\n",
       "      <th id=\"T_211e3_level0_row55\" class=\"row_heading level0 row55\" >55</th>\n",
       "      <td id=\"T_211e3_row55_col0\" class=\"data row55 col0\" >Feature Interaction</td>\n",
       "      <td id=\"T_211e3_row55_col1\" class=\"data row55 col1\" >False</td>\n",
       "    </tr>\n",
       "    <tr>\n",
       "      <th id=\"T_211e3_level0_row56\" class=\"row_heading level0 row56\" >56</th>\n",
       "      <td id=\"T_211e3_row56_col0\" class=\"data row56 col0\" >Feature Ratio</td>\n",
       "      <td id=\"T_211e3_row56_col1\" class=\"data row56 col1\" >False</td>\n",
       "    </tr>\n",
       "    <tr>\n",
       "      <th id=\"T_211e3_level0_row57\" class=\"row_heading level0 row57\" >57</th>\n",
       "      <td id=\"T_211e3_row57_col0\" class=\"data row57 col0\" >Interaction Threshold</td>\n",
       "      <td id=\"T_211e3_row57_col1\" class=\"data row57 col1\" >None</td>\n",
       "    </tr>\n",
       "    <tr>\n",
       "      <th id=\"T_211e3_level0_row58\" class=\"row_heading level0 row58\" >58</th>\n",
       "      <td id=\"T_211e3_row58_col0\" class=\"data row58 col0\" >Fix Imbalance</td>\n",
       "      <td id=\"T_211e3_row58_col1\" class=\"data row58 col1\" >False</td>\n",
       "    </tr>\n",
       "    <tr>\n",
       "      <th id=\"T_211e3_level0_row59\" class=\"row_heading level0 row59\" >59</th>\n",
       "      <td id=\"T_211e3_row59_col0\" class=\"data row59 col0\" >Fix Imbalance Method</td>\n",
       "      <td id=\"T_211e3_row59_col1\" class=\"data row59 col1\" >SMOTE</td>\n",
       "    </tr>\n",
       "  </tbody>\n",
       "</table>\n"
      ],
      "text/plain": [
       "<pandas.io.formats.style.Styler at 0x7fd283b61df0>"
      ]
     },
     "metadata": {},
     "output_type": "display_data"
    }
   ],
   "source": [
    "pce_1 = setup(data = lda_df, target = 'fake', session_id=5, train_size=0.85, silent=True)"
   ]
  },
  {
   "cell_type": "code",
   "execution_count": 97,
   "metadata": {},
   "outputs": [
    {
     "data": {
      "text/html": [
       "<style type=\"text/css\">\n",
       "#T_baf5d th {\n",
       "  text-align: left;\n",
       "}\n",
       "#T_baf5d_row0_col0, #T_baf5d_row0_col2, #T_baf5d_row0_col3, #T_baf5d_row0_col4, #T_baf5d_row1_col0, #T_baf5d_row1_col1, #T_baf5d_row1_col3, #T_baf5d_row1_col4, #T_baf5d_row1_col5, #T_baf5d_row1_col6, #T_baf5d_row1_col7, #T_baf5d_row2_col0, #T_baf5d_row2_col1, #T_baf5d_row2_col2, #T_baf5d_row2_col4, #T_baf5d_row2_col5, #T_baf5d_row2_col6, #T_baf5d_row2_col7, #T_baf5d_row3_col0, #T_baf5d_row3_col1, #T_baf5d_row3_col2, #T_baf5d_row3_col3, #T_baf5d_row3_col4, #T_baf5d_row3_col5, #T_baf5d_row3_col6, #T_baf5d_row3_col7, #T_baf5d_row4_col0, #T_baf5d_row4_col1, #T_baf5d_row4_col2, #T_baf5d_row4_col3, #T_baf5d_row4_col4, #T_baf5d_row4_col5, #T_baf5d_row4_col6, #T_baf5d_row4_col7, #T_baf5d_row5_col0, #T_baf5d_row5_col1, #T_baf5d_row5_col2, #T_baf5d_row5_col3, #T_baf5d_row5_col4, #T_baf5d_row5_col5, #T_baf5d_row5_col6, #T_baf5d_row5_col7, #T_baf5d_row6_col0, #T_baf5d_row6_col1, #T_baf5d_row6_col2, #T_baf5d_row6_col3, #T_baf5d_row6_col4, #T_baf5d_row6_col5, #T_baf5d_row6_col6, #T_baf5d_row6_col7, #T_baf5d_row7_col0, #T_baf5d_row7_col1, #T_baf5d_row7_col2, #T_baf5d_row7_col3, #T_baf5d_row7_col4, #T_baf5d_row7_col5, #T_baf5d_row7_col6, #T_baf5d_row7_col7, #T_baf5d_row8_col0, #T_baf5d_row8_col1, #T_baf5d_row8_col2, #T_baf5d_row8_col3, #T_baf5d_row8_col4, #T_baf5d_row8_col5, #T_baf5d_row8_col6, #T_baf5d_row8_col7, #T_baf5d_row9_col0, #T_baf5d_row9_col1, #T_baf5d_row9_col2, #T_baf5d_row9_col3, #T_baf5d_row9_col4, #T_baf5d_row9_col5, #T_baf5d_row9_col6, #T_baf5d_row9_col7, #T_baf5d_row10_col0, #T_baf5d_row10_col1, #T_baf5d_row10_col2, #T_baf5d_row10_col3, #T_baf5d_row10_col4, #T_baf5d_row10_col5, #T_baf5d_row10_col6, #T_baf5d_row10_col7, #T_baf5d_row11_col0, #T_baf5d_row11_col1, #T_baf5d_row11_col2, #T_baf5d_row11_col3, #T_baf5d_row11_col5, #T_baf5d_row11_col6, #T_baf5d_row11_col7, #T_baf5d_row12_col0, #T_baf5d_row12_col1, #T_baf5d_row12_col2, #T_baf5d_row12_col3, #T_baf5d_row12_col4, #T_baf5d_row12_col5, #T_baf5d_row12_col6, #T_baf5d_row12_col7, #T_baf5d_row13_col0, #T_baf5d_row13_col1, #T_baf5d_row13_col2, #T_baf5d_row13_col3, #T_baf5d_row13_col4, #T_baf5d_row13_col5, #T_baf5d_row13_col6, #T_baf5d_row13_col7 {\n",
       "  text-align: left;\n",
       "}\n",
       "#T_baf5d_row0_col1, #T_baf5d_row0_col5, #T_baf5d_row0_col6, #T_baf5d_row0_col7, #T_baf5d_row1_col2, #T_baf5d_row2_col3, #T_baf5d_row11_col4 {\n",
       "  text-align: left;\n",
       "  background-color: yellow;\n",
       "}\n",
       "#T_baf5d_row0_col8, #T_baf5d_row1_col8, #T_baf5d_row2_col8, #T_baf5d_row3_col8, #T_baf5d_row4_col8, #T_baf5d_row5_col8, #T_baf5d_row6_col8, #T_baf5d_row8_col8, #T_baf5d_row9_col8, #T_baf5d_row10_col8, #T_baf5d_row11_col8, #T_baf5d_row12_col8 {\n",
       "  text-align: left;\n",
       "  background-color: lightgrey;\n",
       "}\n",
       "#T_baf5d_row7_col8, #T_baf5d_row13_col8 {\n",
       "  text-align: left;\n",
       "  background-color: yellow;\n",
       "  background-color: lightgrey;\n",
       "}\n",
       "</style>\n",
       "<table id=\"T_baf5d\">\n",
       "  <thead>\n",
       "    <tr>\n",
       "      <th class=\"blank level0\" >&nbsp;</th>\n",
       "      <th id=\"T_baf5d_level0_col0\" class=\"col_heading level0 col0\" >Model</th>\n",
       "      <th id=\"T_baf5d_level0_col1\" class=\"col_heading level0 col1\" >Accuracy</th>\n",
       "      <th id=\"T_baf5d_level0_col2\" class=\"col_heading level0 col2\" >AUC</th>\n",
       "      <th id=\"T_baf5d_level0_col3\" class=\"col_heading level0 col3\" >Recall</th>\n",
       "      <th id=\"T_baf5d_level0_col4\" class=\"col_heading level0 col4\" >Prec.</th>\n",
       "      <th id=\"T_baf5d_level0_col5\" class=\"col_heading level0 col5\" >F1</th>\n",
       "      <th id=\"T_baf5d_level0_col6\" class=\"col_heading level0 col6\" >Kappa</th>\n",
       "      <th id=\"T_baf5d_level0_col7\" class=\"col_heading level0 col7\" >MCC</th>\n",
       "      <th id=\"T_baf5d_level0_col8\" class=\"col_heading level0 col8\" >TT (Sec)</th>\n",
       "    </tr>\n",
       "  </thead>\n",
       "  <tbody>\n",
       "    <tr>\n",
       "      <th id=\"T_baf5d_level0_row0\" class=\"row_heading level0 row0\" >lightgbm</th>\n",
       "      <td id=\"T_baf5d_row0_col0\" class=\"data row0 col0\" >Light Gradient Boosting Machine</td>\n",
       "      <td id=\"T_baf5d_row0_col1\" class=\"data row0 col1\" >0.8845</td>\n",
       "      <td id=\"T_baf5d_row0_col2\" class=\"data row0 col2\" >0.9520</td>\n",
       "      <td id=\"T_baf5d_row0_col3\" class=\"data row0 col3\" >0.8847</td>\n",
       "      <td id=\"T_baf5d_row0_col4\" class=\"data row0 col4\" >0.8659</td>\n",
       "      <td id=\"T_baf5d_row0_col5\" class=\"data row0 col5\" >0.8752</td>\n",
       "      <td id=\"T_baf5d_row0_col6\" class=\"data row0 col6\" >0.7678</td>\n",
       "      <td id=\"T_baf5d_row0_col7\" class=\"data row0 col7\" >0.7680</td>\n",
       "      <td id=\"T_baf5d_row0_col8\" class=\"data row0 col8\" >0.0760</td>\n",
       "    </tr>\n",
       "    <tr>\n",
       "      <th id=\"T_baf5d_level0_row1\" class=\"row_heading level0 row1\" >gbc</th>\n",
       "      <td id=\"T_baf5d_row1_col0\" class=\"data row1 col0\" >Gradient Boosting Classifier</td>\n",
       "      <td id=\"T_baf5d_row1_col1\" class=\"data row1 col1\" >0.8833</td>\n",
       "      <td id=\"T_baf5d_row1_col2\" class=\"data row1 col2\" >0.9523</td>\n",
       "      <td id=\"T_baf5d_row1_col3\" class=\"data row1 col3\" >0.8858</td>\n",
       "      <td id=\"T_baf5d_row1_col4\" class=\"data row1 col4\" >0.8629</td>\n",
       "      <td id=\"T_baf5d_row1_col5\" class=\"data row1 col5\" >0.8742</td>\n",
       "      <td id=\"T_baf5d_row1_col6\" class=\"data row1 col6\" >0.7655</td>\n",
       "      <td id=\"T_baf5d_row1_col7\" class=\"data row1 col7\" >0.7657</td>\n",
       "      <td id=\"T_baf5d_row1_col8\" class=\"data row1 col8\" >1.3040</td>\n",
       "    </tr>\n",
       "    <tr>\n",
       "      <th id=\"T_baf5d_level0_row2\" class=\"row_heading level0 row2\" >ada</th>\n",
       "      <td id=\"T_baf5d_row2_col0\" class=\"data row2 col0\" >Ada Boost Classifier</td>\n",
       "      <td id=\"T_baf5d_row2_col1\" class=\"data row2 col1\" >0.8799</td>\n",
       "      <td id=\"T_baf5d_row2_col2\" class=\"data row2 col2\" >0.9496</td>\n",
       "      <td id=\"T_baf5d_row2_col3\" class=\"data row2 col3\" >0.8885</td>\n",
       "      <td id=\"T_baf5d_row2_col4\" class=\"data row2 col4\" >0.8548</td>\n",
       "      <td id=\"T_baf5d_row2_col5\" class=\"data row2 col5\" >0.8713</td>\n",
       "      <td id=\"T_baf5d_row2_col6\" class=\"data row2 col6\" >0.7588</td>\n",
       "      <td id=\"T_baf5d_row2_col7\" class=\"data row2 col7\" >0.7593</td>\n",
       "      <td id=\"T_baf5d_row2_col8\" class=\"data row2 col8\" >0.3140</td>\n",
       "    </tr>\n",
       "    <tr>\n",
       "      <th id=\"T_baf5d_level0_row3\" class=\"row_heading level0 row3\" >rf</th>\n",
       "      <td id=\"T_baf5d_row3_col0\" class=\"data row3 col0\" >Random Forest Classifier</td>\n",
       "      <td id=\"T_baf5d_row3_col1\" class=\"data row3 col1\" >0.8768</td>\n",
       "      <td id=\"T_baf5d_row3_col2\" class=\"data row3 col2\" >0.9440</td>\n",
       "      <td id=\"T_baf5d_row3_col3\" class=\"data row3 col3\" >0.8700</td>\n",
       "      <td id=\"T_baf5d_row3_col4\" class=\"data row3 col4\" >0.8622</td>\n",
       "      <td id=\"T_baf5d_row3_col5\" class=\"data row3 col5\" >0.8660</td>\n",
       "      <td id=\"T_baf5d_row3_col6\" class=\"data row3 col6\" >0.7521</td>\n",
       "      <td id=\"T_baf5d_row3_col7\" class=\"data row3 col7\" >0.7522</td>\n",
       "      <td id=\"T_baf5d_row3_col8\" class=\"data row3 col8\" >1.3040</td>\n",
       "    </tr>\n",
       "    <tr>\n",
       "      <th id=\"T_baf5d_level0_row4\" class=\"row_heading level0 row4\" >lr</th>\n",
       "      <td id=\"T_baf5d_row4_col0\" class=\"data row4 col0\" >Logistic Regression</td>\n",
       "      <td id=\"T_baf5d_row4_col1\" class=\"data row4 col1\" >0.8751</td>\n",
       "      <td id=\"T_baf5d_row4_col2\" class=\"data row4 col2\" >0.9455</td>\n",
       "      <td id=\"T_baf5d_row4_col3\" class=\"data row4 col3\" >0.8411</td>\n",
       "      <td id=\"T_baf5d_row4_col4\" class=\"data row4 col4\" >0.8806</td>\n",
       "      <td id=\"T_baf5d_row4_col5\" class=\"data row4 col5\" >0.8604</td>\n",
       "      <td id=\"T_baf5d_row4_col6\" class=\"data row4 col6\" >0.7475</td>\n",
       "      <td id=\"T_baf5d_row4_col7\" class=\"data row4 col7\" >0.7482</td>\n",
       "      <td id=\"T_baf5d_row4_col8\" class=\"data row4 col8\" >0.0240</td>\n",
       "    </tr>\n",
       "    <tr>\n",
       "      <th id=\"T_baf5d_level0_row5\" class=\"row_heading level0 row5\" >svm</th>\n",
       "      <td id=\"T_baf5d_row5_col0\" class=\"data row5 col0\" >SVM - Linear Kernel</td>\n",
       "      <td id=\"T_baf5d_row5_col1\" class=\"data row5 col1\" >0.8743</td>\n",
       "      <td id=\"T_baf5d_row5_col2\" class=\"data row5 col2\" >0.0000</td>\n",
       "      <td id=\"T_baf5d_row5_col3\" class=\"data row5 col3\" >0.8516</td>\n",
       "      <td id=\"T_baf5d_row5_col4\" class=\"data row5 col4\" >0.8712</td>\n",
       "      <td id=\"T_baf5d_row5_col5\" class=\"data row5 col5\" >0.8611</td>\n",
       "      <td id=\"T_baf5d_row5_col6\" class=\"data row5 col6\" >0.7464</td>\n",
       "      <td id=\"T_baf5d_row5_col7\" class=\"data row5 col7\" >0.7469</td>\n",
       "      <td id=\"T_baf5d_row5_col8\" class=\"data row5 col8\" >0.0140</td>\n",
       "    </tr>\n",
       "    <tr>\n",
       "      <th id=\"T_baf5d_level0_row6\" class=\"row_heading level0 row6\" >lda</th>\n",
       "      <td id=\"T_baf5d_row6_col0\" class=\"data row6 col0\" >Linear Discriminant Analysis</td>\n",
       "      <td id=\"T_baf5d_row6_col1\" class=\"data row6 col1\" >0.8692</td>\n",
       "      <td id=\"T_baf5d_row6_col2\" class=\"data row6 col2\" >0.9457</td>\n",
       "      <td id=\"T_baf5d_row6_col3\" class=\"data row6 col3\" >0.8155</td>\n",
       "      <td id=\"T_baf5d_row6_col4\" class=\"data row6 col4\" >0.8894</td>\n",
       "      <td id=\"T_baf5d_row6_col5\" class=\"data row6 col5\" >0.8508</td>\n",
       "      <td id=\"T_baf5d_row6_col6\" class=\"data row6 col6\" >0.7347</td>\n",
       "      <td id=\"T_baf5d_row6_col7\" class=\"data row6 col7\" >0.7369</td>\n",
       "      <td id=\"T_baf5d_row6_col8\" class=\"data row6 col8\" >0.0150</td>\n",
       "    </tr>\n",
       "    <tr>\n",
       "      <th id=\"T_baf5d_level0_row7\" class=\"row_heading level0 row7\" >ridge</th>\n",
       "      <td id=\"T_baf5d_row7_col0\" class=\"data row7 col0\" >Ridge Classifier</td>\n",
       "      <td id=\"T_baf5d_row7_col1\" class=\"data row7 col1\" >0.8691</td>\n",
       "      <td id=\"T_baf5d_row7_col2\" class=\"data row7 col2\" >0.0000</td>\n",
       "      <td id=\"T_baf5d_row7_col3\" class=\"data row7 col3\" >0.8154</td>\n",
       "      <td id=\"T_baf5d_row7_col4\" class=\"data row7 col4\" >0.8894</td>\n",
       "      <td id=\"T_baf5d_row7_col5\" class=\"data row7 col5\" >0.8508</td>\n",
       "      <td id=\"T_baf5d_row7_col6\" class=\"data row7 col6\" >0.7346</td>\n",
       "      <td id=\"T_baf5d_row7_col7\" class=\"data row7 col7\" >0.7369</td>\n",
       "      <td id=\"T_baf5d_row7_col8\" class=\"data row7 col8\" >0.0110</td>\n",
       "    </tr>\n",
       "    <tr>\n",
       "      <th id=\"T_baf5d_level0_row8\" class=\"row_heading level0 row8\" >nb</th>\n",
       "      <td id=\"T_baf5d_row8_col0\" class=\"data row8 col0\" >Naive Bayes</td>\n",
       "      <td id=\"T_baf5d_row8_col1\" class=\"data row8 col1\" >0.8676</td>\n",
       "      <td id=\"T_baf5d_row8_col2\" class=\"data row8 col2\" >0.9407</td>\n",
       "      <td id=\"T_baf5d_row8_col3\" class=\"data row8 col3\" >0.8176</td>\n",
       "      <td id=\"T_baf5d_row8_col4\" class=\"data row8 col4\" >0.8843</td>\n",
       "      <td id=\"T_baf5d_row8_col5\" class=\"data row8 col5\" >0.8496</td>\n",
       "      <td id=\"T_baf5d_row8_col6\" class=\"data row8 col6\" >0.7316</td>\n",
       "      <td id=\"T_baf5d_row8_col7\" class=\"data row8 col7\" >0.7335</td>\n",
       "      <td id=\"T_baf5d_row8_col8\" class=\"data row8 col8\" >0.0120</td>\n",
       "    </tr>\n",
       "    <tr>\n",
       "      <th id=\"T_baf5d_level0_row9\" class=\"row_heading level0 row9\" >knn</th>\n",
       "      <td id=\"T_baf5d_row9_col0\" class=\"data row9 col0\" >K Neighbors Classifier</td>\n",
       "      <td id=\"T_baf5d_row9_col1\" class=\"data row9 col1\" >0.8651</td>\n",
       "      <td id=\"T_baf5d_row9_col2\" class=\"data row9 col2\" >0.9233</td>\n",
       "      <td id=\"T_baf5d_row9_col3\" class=\"data row9 col3\" >0.8596</td>\n",
       "      <td id=\"T_baf5d_row9_col4\" class=\"data row9 col4\" >0.8478</td>\n",
       "      <td id=\"T_baf5d_row9_col5\" class=\"data row9 col5\" >0.8536</td>\n",
       "      <td id=\"T_baf5d_row9_col6\" class=\"data row9 col6\" >0.7285</td>\n",
       "      <td id=\"T_baf5d_row9_col7\" class=\"data row9 col7\" >0.7286</td>\n",
       "      <td id=\"T_baf5d_row9_col8\" class=\"data row9 col8\" >0.0540</td>\n",
       "    </tr>\n",
       "    <tr>\n",
       "      <th id=\"T_baf5d_level0_row10\" class=\"row_heading level0 row10\" >et</th>\n",
       "      <td id=\"T_baf5d_row10_col0\" class=\"data row10 col0\" >Extra Trees Classifier</td>\n",
       "      <td id=\"T_baf5d_row10_col1\" class=\"data row10 col1\" >0.8646</td>\n",
       "      <td id=\"T_baf5d_row10_col2\" class=\"data row10 col2\" >0.9377</td>\n",
       "      <td id=\"T_baf5d_row10_col3\" class=\"data row10 col3\" >0.8556</td>\n",
       "      <td id=\"T_baf5d_row10_col4\" class=\"data row10 col4\" >0.8497</td>\n",
       "      <td id=\"T_baf5d_row10_col5\" class=\"data row10 col5\" >0.8526</td>\n",
       "      <td id=\"T_baf5d_row10_col6\" class=\"data row10 col6\" >0.7274</td>\n",
       "      <td id=\"T_baf5d_row10_col7\" class=\"data row10 col7\" >0.7275</td>\n",
       "      <td id=\"T_baf5d_row10_col8\" class=\"data row10 col8\" >0.4680</td>\n",
       "    </tr>\n",
       "    <tr>\n",
       "      <th id=\"T_baf5d_level0_row11\" class=\"row_heading level0 row11\" >qda</th>\n",
       "      <td id=\"T_baf5d_row11_col0\" class=\"data row11 col0\" >Quadratic Discriminant Analysis</td>\n",
       "      <td id=\"T_baf5d_row11_col1\" class=\"data row11 col1\" >0.8379</td>\n",
       "      <td id=\"T_baf5d_row11_col2\" class=\"data row11 col2\" >0.9348</td>\n",
       "      <td id=\"T_baf5d_row11_col3\" class=\"data row11 col3\" >0.7175</td>\n",
       "      <td id=\"T_baf5d_row11_col4\" class=\"data row11 col4\" >0.9117</td>\n",
       "      <td id=\"T_baf5d_row11_col5\" class=\"data row11 col5\" >0.8004</td>\n",
       "      <td id=\"T_baf5d_row11_col6\" class=\"data row11 col6\" >0.6676</td>\n",
       "      <td id=\"T_baf5d_row11_col7\" class=\"data row11 col7\" >0.6837</td>\n",
       "      <td id=\"T_baf5d_row11_col8\" class=\"data row11 col8\" >0.0120</td>\n",
       "    </tr>\n",
       "    <tr>\n",
       "      <th id=\"T_baf5d_level0_row12\" class=\"row_heading level0 row12\" >dt</th>\n",
       "      <td id=\"T_baf5d_row12_col0\" class=\"data row12 col0\" >Decision Tree Classifier</td>\n",
       "      <td id=\"T_baf5d_row12_col1\" class=\"data row12 col1\" >0.8316</td>\n",
       "      <td id=\"T_baf5d_row12_col2\" class=\"data row12 col2\" >0.8302</td>\n",
       "      <td id=\"T_baf5d_row12_col3\" class=\"data row12 col3\" >0.8134</td>\n",
       "      <td id=\"T_baf5d_row12_col4\" class=\"data row12 col4\" >0.8178</td>\n",
       "      <td id=\"T_baf5d_row12_col5\" class=\"data row12 col5\" >0.8155</td>\n",
       "      <td id=\"T_baf5d_row12_col6\" class=\"data row12 col6\" >0.6606</td>\n",
       "      <td id=\"T_baf5d_row12_col7\" class=\"data row12 col7\" >0.6607</td>\n",
       "      <td id=\"T_baf5d_row12_col8\" class=\"data row12 col8\" >0.0550</td>\n",
       "    </tr>\n",
       "    <tr>\n",
       "      <th id=\"T_baf5d_level0_row13\" class=\"row_heading level0 row13\" >dummy</th>\n",
       "      <td id=\"T_baf5d_row13_col0\" class=\"data row13 col0\" >Dummy Classifier</td>\n",
       "      <td id=\"T_baf5d_row13_col1\" class=\"data row13 col1\" >0.5424</td>\n",
       "      <td id=\"T_baf5d_row13_col2\" class=\"data row13 col2\" >0.5000</td>\n",
       "      <td id=\"T_baf5d_row13_col3\" class=\"data row13 col3\" >0.0000</td>\n",
       "      <td id=\"T_baf5d_row13_col4\" class=\"data row13 col4\" >0.0000</td>\n",
       "      <td id=\"T_baf5d_row13_col5\" class=\"data row13 col5\" >0.0000</td>\n",
       "      <td id=\"T_baf5d_row13_col6\" class=\"data row13 col6\" >0.0000</td>\n",
       "      <td id=\"T_baf5d_row13_col7\" class=\"data row13 col7\" >0.0000</td>\n",
       "      <td id=\"T_baf5d_row13_col8\" class=\"data row13 col8\" >0.0110</td>\n",
       "    </tr>\n",
       "  </tbody>\n",
       "</table>\n"
      ],
      "text/plain": [
       "<pandas.io.formats.style.Styler at 0x7fd1fd7f7670>"
      ]
     },
     "metadata": {},
     "output_type": "display_data"
    }
   ],
   "source": [
    "top1 = compare_models(n_select=1)"
   ]
  },
  {
   "cell_type": "code",
   "execution_count": 98,
   "metadata": {},
   "outputs": [
    {
     "data": {
      "text/html": [
       "<style type=\"text/css\">\n",
       "#T_bdfef_row10_col0, #T_bdfef_row10_col1, #T_bdfef_row10_col2, #T_bdfef_row10_col3, #T_bdfef_row10_col4, #T_bdfef_row10_col5, #T_bdfef_row10_col6 {\n",
       "  background: yellow;\n",
       "}\n",
       "</style>\n",
       "<table id=\"T_bdfef\">\n",
       "  <thead>\n",
       "    <tr>\n",
       "      <th class=\"blank level0\" >&nbsp;</th>\n",
       "      <th id=\"T_bdfef_level0_col0\" class=\"col_heading level0 col0\" >Accuracy</th>\n",
       "      <th id=\"T_bdfef_level0_col1\" class=\"col_heading level0 col1\" >AUC</th>\n",
       "      <th id=\"T_bdfef_level0_col2\" class=\"col_heading level0 col2\" >Recall</th>\n",
       "      <th id=\"T_bdfef_level0_col3\" class=\"col_heading level0 col3\" >Prec.</th>\n",
       "      <th id=\"T_bdfef_level0_col4\" class=\"col_heading level0 col4\" >F1</th>\n",
       "      <th id=\"T_bdfef_level0_col5\" class=\"col_heading level0 col5\" >Kappa</th>\n",
       "      <th id=\"T_bdfef_level0_col6\" class=\"col_heading level0 col6\" >MCC</th>\n",
       "    </tr>\n",
       "    <tr>\n",
       "      <th class=\"index_name level0\" >Fold</th>\n",
       "      <th class=\"blank col0\" >&nbsp;</th>\n",
       "      <th class=\"blank col1\" >&nbsp;</th>\n",
       "      <th class=\"blank col2\" >&nbsp;</th>\n",
       "      <th class=\"blank col3\" >&nbsp;</th>\n",
       "      <th class=\"blank col4\" >&nbsp;</th>\n",
       "      <th class=\"blank col5\" >&nbsp;</th>\n",
       "      <th class=\"blank col6\" >&nbsp;</th>\n",
       "    </tr>\n",
       "  </thead>\n",
       "  <tbody>\n",
       "    <tr>\n",
       "      <th id=\"T_bdfef_level0_row0\" class=\"row_heading level0 row0\" >0</th>\n",
       "      <td id=\"T_bdfef_row0_col0\" class=\"data row0 col0\" >0.8824</td>\n",
       "      <td id=\"T_bdfef_row0_col1\" class=\"data row0 col1\" >0.9525</td>\n",
       "      <td id=\"T_bdfef_row0_col2\" class=\"data row0 col2\" >0.8883</td>\n",
       "      <td id=\"T_bdfef_row0_col3\" class=\"data row0 col3\" >0.8595</td>\n",
       "      <td id=\"T_bdfef_row0_col4\" class=\"data row0 col4\" >0.8737</td>\n",
       "      <td id=\"T_bdfef_row0_col5\" class=\"data row0 col5\" >0.7637</td>\n",
       "      <td id=\"T_bdfef_row0_col6\" class=\"data row0 col6\" >0.7640</td>\n",
       "    </tr>\n",
       "    <tr>\n",
       "      <th id=\"T_bdfef_level0_row1\" class=\"row_heading level0 row1\" >1</th>\n",
       "      <td id=\"T_bdfef_row1_col0\" class=\"data row1 col0\" >0.8956</td>\n",
       "      <td id=\"T_bdfef_row1_col1\" class=\"data row1 col1\" >0.9563</td>\n",
       "      <td id=\"T_bdfef_row1_col2\" class=\"data row1 col2\" >0.8928</td>\n",
       "      <td id=\"T_bdfef_row1_col3\" class=\"data row1 col3\" >0.8807</td>\n",
       "      <td id=\"T_bdfef_row1_col4\" class=\"data row1 col4\" >0.8867</td>\n",
       "      <td id=\"T_bdfef_row1_col5\" class=\"data row1 col5\" >0.7899</td>\n",
       "      <td id=\"T_bdfef_row1_col6\" class=\"data row1 col6\" >0.7900</td>\n",
       "    </tr>\n",
       "    <tr>\n",
       "      <th id=\"T_bdfef_level0_row2\" class=\"row_heading level0 row2\" >2</th>\n",
       "      <td id=\"T_bdfef_row2_col0\" class=\"data row2 col0\" >0.8872</td>\n",
       "      <td id=\"T_bdfef_row2_col1\" class=\"data row2 col1\" >0.9515</td>\n",
       "      <td id=\"T_bdfef_row2_col2\" class=\"data row2 col2\" >0.8889</td>\n",
       "      <td id=\"T_bdfef_row2_col3\" class=\"data row2 col3\" >0.8678</td>\n",
       "      <td id=\"T_bdfef_row2_col4\" class=\"data row2 col4\" >0.8782</td>\n",
       "      <td id=\"T_bdfef_row2_col5\" class=\"data row2 col5\" >0.7732</td>\n",
       "      <td id=\"T_bdfef_row2_col6\" class=\"data row2 col6\" >0.7734</td>\n",
       "    </tr>\n",
       "    <tr>\n",
       "      <th id=\"T_bdfef_level0_row3\" class=\"row_heading level0 row3\" >3</th>\n",
       "      <td id=\"T_bdfef_row3_col0\" class=\"data row3 col0\" >0.8866</td>\n",
       "      <td id=\"T_bdfef_row3_col1\" class=\"data row3 col1\" >0.9535</td>\n",
       "      <td id=\"T_bdfef_row3_col2\" class=\"data row3 col2\" >0.8909</td>\n",
       "      <td id=\"T_bdfef_row3_col3\" class=\"data row3 col3\" >0.8653</td>\n",
       "      <td id=\"T_bdfef_row3_col4\" class=\"data row3 col4\" >0.8779</td>\n",
       "      <td id=\"T_bdfef_row3_col5\" class=\"data row3 col5\" >0.7720</td>\n",
       "      <td id=\"T_bdfef_row3_col6\" class=\"data row3 col6\" >0.7723</td>\n",
       "    </tr>\n",
       "    <tr>\n",
       "      <th id=\"T_bdfef_level0_row4\" class=\"row_heading level0 row4\" >4</th>\n",
       "      <td id=\"T_bdfef_row4_col0\" class=\"data row4 col0\" >0.8821</td>\n",
       "      <td id=\"T_bdfef_row4_col1\" class=\"data row4 col1\" >0.9480</td>\n",
       "      <td id=\"T_bdfef_row4_col2\" class=\"data row4 col2\" >0.8777</td>\n",
       "      <td id=\"T_bdfef_row4_col3\" class=\"data row4 col3\" >0.8663</td>\n",
       "      <td id=\"T_bdfef_row4_col4\" class=\"data row4 col4\" >0.8720</td>\n",
       "      <td id=\"T_bdfef_row4_col5\" class=\"data row4 col5\" >0.7627</td>\n",
       "      <td id=\"T_bdfef_row4_col6\" class=\"data row4 col6\" >0.7627</td>\n",
       "    </tr>\n",
       "    <tr>\n",
       "      <th id=\"T_bdfef_level0_row5\" class=\"row_heading level0 row5\" >5</th>\n",
       "      <td id=\"T_bdfef_row5_col0\" class=\"data row5 col0\" >0.8745</td>\n",
       "      <td id=\"T_bdfef_row5_col1\" class=\"data row5 col1\" >0.9452</td>\n",
       "      <td id=\"T_bdfef_row5_col2\" class=\"data row5 col2\" >0.8738</td>\n",
       "      <td id=\"T_bdfef_row5_col3\" class=\"data row5 col3\" >0.8552</td>\n",
       "      <td id=\"T_bdfef_row5_col4\" class=\"data row5 col4\" >0.8644</td>\n",
       "      <td id=\"T_bdfef_row5_col5\" class=\"data row5 col5\" >0.7477</td>\n",
       "      <td id=\"T_bdfef_row5_col6\" class=\"data row5 col6\" >0.7479</td>\n",
       "    </tr>\n",
       "    <tr>\n",
       "      <th id=\"T_bdfef_level0_row6\" class=\"row_heading level0 row6\" >6</th>\n",
       "      <td id=\"T_bdfef_row6_col0\" class=\"data row6 col0\" >0.8866</td>\n",
       "      <td id=\"T_bdfef_row6_col1\" class=\"data row6 col1\" >0.9558</td>\n",
       "      <td id=\"T_bdfef_row6_col2\" class=\"data row6 col2\" >0.8836</td>\n",
       "      <td id=\"T_bdfef_row6_col3\" class=\"data row6 col3\" >0.8705</td>\n",
       "      <td id=\"T_bdfef_row6_col4\" class=\"data row6 col4\" >0.8770</td>\n",
       "      <td id=\"T_bdfef_row6_col5\" class=\"data row6 col5\" >0.7718</td>\n",
       "      <td id=\"T_bdfef_row6_col6\" class=\"data row6 col6\" >0.7719</td>\n",
       "    </tr>\n",
       "    <tr>\n",
       "      <th id=\"T_bdfef_level0_row7\" class=\"row_heading level0 row7\" >7</th>\n",
       "      <td id=\"T_bdfef_row7_col0\" class=\"data row7 col0\" >0.8818</td>\n",
       "      <td id=\"T_bdfef_row7_col1\" class=\"data row7 col1\" >0.9495</td>\n",
       "      <td id=\"T_bdfef_row7_col2\" class=\"data row7 col2\" >0.8797</td>\n",
       "      <td id=\"T_bdfef_row7_col3\" class=\"data row7 col3\" >0.8643</td>\n",
       "      <td id=\"T_bdfef_row7_col4\" class=\"data row7 col4\" >0.8719</td>\n",
       "      <td id=\"T_bdfef_row7_col5\" class=\"data row7 col5\" >0.7622</td>\n",
       "      <td id=\"T_bdfef_row7_col6\" class=\"data row7 col6\" >0.7623</td>\n",
       "    </tr>\n",
       "    <tr>\n",
       "      <th id=\"T_bdfef_level0_row8\" class=\"row_heading level0 row8\" >8</th>\n",
       "      <td id=\"T_bdfef_row8_col0\" class=\"data row8 col0\" >0.8881</td>\n",
       "      <td id=\"T_bdfef_row8_col1\" class=\"data row8 col1\" >0.9559</td>\n",
       "      <td id=\"T_bdfef_row8_col2\" class=\"data row8 col2\" >0.8922</td>\n",
       "      <td id=\"T_bdfef_row8_col3\" class=\"data row8 col3\" >0.8671</td>\n",
       "      <td id=\"T_bdfef_row8_col4\" class=\"data row8 col4\" >0.8795</td>\n",
       "      <td id=\"T_bdfef_row8_col5\" class=\"data row8 col5\" >0.7751</td>\n",
       "      <td id=\"T_bdfef_row8_col6\" class=\"data row8 col6\" >0.7753</td>\n",
       "    </tr>\n",
       "    <tr>\n",
       "      <th id=\"T_bdfef_level0_row9\" class=\"row_heading level0 row9\" >9</th>\n",
       "      <td id=\"T_bdfef_row9_col0\" class=\"data row9 col0\" >0.8805</td>\n",
       "      <td id=\"T_bdfef_row9_col1\" class=\"data row9 col1\" >0.9519</td>\n",
       "      <td id=\"T_bdfef_row9_col2\" class=\"data row9 col2\" >0.8790</td>\n",
       "      <td id=\"T_bdfef_row9_col3\" class=\"data row9 col3\" >0.8626</td>\n",
       "      <td id=\"T_bdfef_row9_col4\" class=\"data row9 col4\" >0.8707</td>\n",
       "      <td id=\"T_bdfef_row9_col5\" class=\"data row9 col5\" >0.7597</td>\n",
       "      <td id=\"T_bdfef_row9_col6\" class=\"data row9 col6\" >0.7598</td>\n",
       "    </tr>\n",
       "    <tr>\n",
       "      <th id=\"T_bdfef_level0_row10\" class=\"row_heading level0 row10\" >Mean</th>\n",
       "      <td id=\"T_bdfef_row10_col0\" class=\"data row10 col0\" >0.8845</td>\n",
       "      <td id=\"T_bdfef_row10_col1\" class=\"data row10 col1\" >0.9520</td>\n",
       "      <td id=\"T_bdfef_row10_col2\" class=\"data row10 col2\" >0.8847</td>\n",
       "      <td id=\"T_bdfef_row10_col3\" class=\"data row10 col3\" >0.8659</td>\n",
       "      <td id=\"T_bdfef_row10_col4\" class=\"data row10 col4\" >0.8752</td>\n",
       "      <td id=\"T_bdfef_row10_col5\" class=\"data row10 col5\" >0.7678</td>\n",
       "      <td id=\"T_bdfef_row10_col6\" class=\"data row10 col6\" >0.7680</td>\n",
       "    </tr>\n",
       "    <tr>\n",
       "      <th id=\"T_bdfef_level0_row11\" class=\"row_heading level0 row11\" >Std</th>\n",
       "      <td id=\"T_bdfef_row11_col0\" class=\"data row11 col0\" >0.0053</td>\n",
       "      <td id=\"T_bdfef_row11_col1\" class=\"data row11 col1\" >0.0035</td>\n",
       "      <td id=\"T_bdfef_row11_col2\" class=\"data row11 col2\" >0.0065</td>\n",
       "      <td id=\"T_bdfef_row11_col3\" class=\"data row11 col3\" >0.0064</td>\n",
       "      <td id=\"T_bdfef_row11_col4\" class=\"data row11 col4\" >0.0057</td>\n",
       "      <td id=\"T_bdfef_row11_col5\" class=\"data row11 col5\" >0.0107</td>\n",
       "      <td id=\"T_bdfef_row11_col6\" class=\"data row11 col6\" >0.0107</td>\n",
       "    </tr>\n",
       "  </tbody>\n",
       "</table>\n"
      ],
      "text/plain": [
       "<pandas.io.formats.style.Styler at 0x7fd14ecaa8b0>"
      ]
     },
     "metadata": {},
     "output_type": "display_data"
    }
   ],
   "source": [
    "pce_1_m1 = create_model(top1)"
   ]
  },
  {
   "cell_type": "code",
   "execution_count": 90,
   "metadata": {},
   "outputs": [],
   "source": [
    "# blender = blend_models(top3)\n",
    "\n",
    "# # blend model lousier than lr model"
   ]
  },
  {
   "cell_type": "code",
   "execution_count": 99,
   "metadata": {},
   "outputs": [
    {
     "data": {
      "text/html": [
       "<style type=\"text/css\">\n",
       "#T_d2905_row10_col0, #T_d2905_row10_col1, #T_d2905_row10_col2, #T_d2905_row10_col3, #T_d2905_row10_col4, #T_d2905_row10_col5, #T_d2905_row10_col6 {\n",
       "  background: yellow;\n",
       "}\n",
       "</style>\n",
       "<table id=\"T_d2905\">\n",
       "  <thead>\n",
       "    <tr>\n",
       "      <th class=\"blank level0\" >&nbsp;</th>\n",
       "      <th id=\"T_d2905_level0_col0\" class=\"col_heading level0 col0\" >Accuracy</th>\n",
       "      <th id=\"T_d2905_level0_col1\" class=\"col_heading level0 col1\" >AUC</th>\n",
       "      <th id=\"T_d2905_level0_col2\" class=\"col_heading level0 col2\" >Recall</th>\n",
       "      <th id=\"T_d2905_level0_col3\" class=\"col_heading level0 col3\" >Prec.</th>\n",
       "      <th id=\"T_d2905_level0_col4\" class=\"col_heading level0 col4\" >F1</th>\n",
       "      <th id=\"T_d2905_level0_col5\" class=\"col_heading level0 col5\" >Kappa</th>\n",
       "      <th id=\"T_d2905_level0_col6\" class=\"col_heading level0 col6\" >MCC</th>\n",
       "    </tr>\n",
       "    <tr>\n",
       "      <th class=\"index_name level0\" >Fold</th>\n",
       "      <th class=\"blank col0\" >&nbsp;</th>\n",
       "      <th class=\"blank col1\" >&nbsp;</th>\n",
       "      <th class=\"blank col2\" >&nbsp;</th>\n",
       "      <th class=\"blank col3\" >&nbsp;</th>\n",
       "      <th class=\"blank col4\" >&nbsp;</th>\n",
       "      <th class=\"blank col5\" >&nbsp;</th>\n",
       "      <th class=\"blank col6\" >&nbsp;</th>\n",
       "    </tr>\n",
       "  </thead>\n",
       "  <tbody>\n",
       "    <tr>\n",
       "      <th id=\"T_d2905_level0_row0\" class=\"row_heading level0 row0\" >0</th>\n",
       "      <td id=\"T_d2905_row0_col0\" class=\"data row0 col0\" >0.8827</td>\n",
       "      <td id=\"T_d2905_row0_col1\" class=\"data row0 col1\" >0.9526</td>\n",
       "      <td id=\"T_d2905_row0_col2\" class=\"data row0 col2\" >0.8883</td>\n",
       "      <td id=\"T_d2905_row0_col3\" class=\"data row0 col3\" >0.8601</td>\n",
       "      <td id=\"T_d2905_row0_col4\" class=\"data row0 col4\" >0.8739</td>\n",
       "      <td id=\"T_d2905_row0_col5\" class=\"data row0 col5\" >0.7643</td>\n",
       "      <td id=\"T_d2905_row0_col6\" class=\"data row0 col6\" >0.7646</td>\n",
       "    </tr>\n",
       "    <tr>\n",
       "      <th id=\"T_d2905_level0_row1\" class=\"row_heading level0 row1\" >1</th>\n",
       "      <td id=\"T_d2905_row1_col0\" class=\"data row1 col0\" >0.8941</td>\n",
       "      <td id=\"T_d2905_row1_col1\" class=\"data row1 col1\" >0.9566</td>\n",
       "      <td id=\"T_d2905_row1_col2\" class=\"data row1 col2\" >0.8961</td>\n",
       "      <td id=\"T_d2905_row1_col3\" class=\"data row1 col3\" >0.8754</td>\n",
       "      <td id=\"T_d2905_row1_col4\" class=\"data row1 col4\" >0.8856</td>\n",
       "      <td id=\"T_d2905_row1_col5\" class=\"data row1 col5\" >0.7871</td>\n",
       "      <td id=\"T_d2905_row1_col6\" class=\"data row1 col6\" >0.7873</td>\n",
       "    </tr>\n",
       "    <tr>\n",
       "      <th id=\"T_d2905_level0_row2\" class=\"row_heading level0 row2\" >2</th>\n",
       "      <td id=\"T_d2905_row2_col0\" class=\"data row2 col0\" >0.8878</td>\n",
       "      <td id=\"T_d2905_row2_col1\" class=\"data row2 col1\" >0.9524</td>\n",
       "      <td id=\"T_d2905_row2_col2\" class=\"data row2 col2\" >0.8948</td>\n",
       "      <td id=\"T_d2905_row2_col3\" class=\"data row2 col3\" >0.8647</td>\n",
       "      <td id=\"T_d2905_row2_col4\" class=\"data row2 col4\" >0.8795</td>\n",
       "      <td id=\"T_d2905_row2_col5\" class=\"data row2 col5\" >0.7746</td>\n",
       "      <td id=\"T_d2905_row2_col6\" class=\"data row2 col6\" >0.7750</td>\n",
       "    </tr>\n",
       "    <tr>\n",
       "      <th id=\"T_d2905_level0_row3\" class=\"row_heading level0 row3\" >3</th>\n",
       "      <td id=\"T_d2905_row3_col0\" class=\"data row3 col0\" >0.8860</td>\n",
       "      <td id=\"T_d2905_row3_col1\" class=\"data row3 col1\" >0.9530</td>\n",
       "      <td id=\"T_d2905_row3_col2\" class=\"data row3 col2\" >0.8935</td>\n",
       "      <td id=\"T_d2905_row3_col3\" class=\"data row3 col3\" >0.8623</td>\n",
       "      <td id=\"T_d2905_row3_col4\" class=\"data row3 col4\" >0.8776</td>\n",
       "      <td id=\"T_d2905_row3_col5\" class=\"data row3 col5\" >0.7710</td>\n",
       "      <td id=\"T_d2905_row3_col6\" class=\"data row3 col6\" >0.7714</td>\n",
       "    </tr>\n",
       "    <tr>\n",
       "      <th id=\"T_d2905_level0_row4\" class=\"row_heading level0 row4\" >4</th>\n",
       "      <td id=\"T_d2905_row4_col0\" class=\"data row4 col0\" >0.8806</td>\n",
       "      <td id=\"T_d2905_row4_col1\" class=\"data row4 col1\" >0.9477</td>\n",
       "      <td id=\"T_d2905_row4_col2\" class=\"data row4 col2\" >0.8744</td>\n",
       "      <td id=\"T_d2905_row4_col3\" class=\"data row4 col3\" >0.8659</td>\n",
       "      <td id=\"T_d2905_row4_col4\" class=\"data row4 col4\" >0.8701</td>\n",
       "      <td id=\"T_d2905_row4_col5\" class=\"data row4 col5\" >0.7596</td>\n",
       "      <td id=\"T_d2905_row4_col6\" class=\"data row4 col6\" >0.7596</td>\n",
       "    </tr>\n",
       "    <tr>\n",
       "      <th id=\"T_d2905_level0_row5\" class=\"row_heading level0 row5\" >5</th>\n",
       "      <td id=\"T_d2905_row5_col0\" class=\"data row5 col0\" >0.8773</td>\n",
       "      <td id=\"T_d2905_row5_col1\" class=\"data row5 col1\" >0.9451</td>\n",
       "      <td id=\"T_d2905_row5_col2\" class=\"data row5 col2\" >0.8817</td>\n",
       "      <td id=\"T_d2905_row5_col3\" class=\"data row5 col3\" >0.8547</td>\n",
       "      <td id=\"T_d2905_row5_col4\" class=\"data row5 col4\" >0.8680</td>\n",
       "      <td id=\"T_d2905_row5_col5\" class=\"data row5 col5\" >0.7533</td>\n",
       "      <td id=\"T_d2905_row5_col6\" class=\"data row5 col6\" >0.7537</td>\n",
       "    </tr>\n",
       "    <tr>\n",
       "      <th id=\"T_d2905_level0_row6\" class=\"row_heading level0 row6\" >6</th>\n",
       "      <td id=\"T_d2905_row6_col0\" class=\"data row6 col0\" >0.8866</td>\n",
       "      <td id=\"T_d2905_row6_col1\" class=\"data row6 col1\" >0.9558</td>\n",
       "      <td id=\"T_d2905_row6_col2\" class=\"data row6 col2\" >0.8895</td>\n",
       "      <td id=\"T_d2905_row6_col3\" class=\"data row6 col3\" >0.8662</td>\n",
       "      <td id=\"T_d2905_row6_col4\" class=\"data row6 col4\" >0.8777</td>\n",
       "      <td id=\"T_d2905_row6_col5\" class=\"data row6 col5\" >0.7720</td>\n",
       "      <td id=\"T_d2905_row6_col6\" class=\"data row6 col6\" >0.7722</td>\n",
       "    </tr>\n",
       "    <tr>\n",
       "      <th id=\"T_d2905_level0_row7\" class=\"row_heading level0 row7\" >7</th>\n",
       "      <td id=\"T_d2905_row7_col0\" class=\"data row7 col0\" >0.8800</td>\n",
       "      <td id=\"T_d2905_row7_col1\" class=\"data row7 col1\" >0.9503</td>\n",
       "      <td id=\"T_d2905_row7_col2\" class=\"data row7 col2\" >0.8790</td>\n",
       "      <td id=\"T_d2905_row7_col3\" class=\"data row7 col3\" >0.8615</td>\n",
       "      <td id=\"T_d2905_row7_col4\" class=\"data row7 col4\" >0.8702</td>\n",
       "      <td id=\"T_d2905_row7_col5\" class=\"data row7 col5\" >0.7586</td>\n",
       "      <td id=\"T_d2905_row7_col6\" class=\"data row7 col6\" >0.7587</td>\n",
       "    </tr>\n",
       "    <tr>\n",
       "      <th id=\"T_d2905_level0_row8\" class=\"row_heading level0 row8\" >8</th>\n",
       "      <td id=\"T_d2905_row8_col0\" class=\"data row8 col0\" >0.8884</td>\n",
       "      <td id=\"T_d2905_row8_col1\" class=\"data row8 col1\" >0.9562</td>\n",
       "      <td id=\"T_d2905_row8_col2\" class=\"data row8 col2\" >0.8922</td>\n",
       "      <td id=\"T_d2905_row8_col3\" class=\"data row8 col3\" >0.8676</td>\n",
       "      <td id=\"T_d2905_row8_col4\" class=\"data row8 col4\" >0.8797</td>\n",
       "      <td id=\"T_d2905_row8_col5\" class=\"data row8 col5\" >0.7757</td>\n",
       "      <td id=\"T_d2905_row8_col6\" class=\"data row8 col6\" >0.7759</td>\n",
       "    </tr>\n",
       "    <tr>\n",
       "      <th id=\"T_d2905_level0_row9\" class=\"row_heading level0 row9\" >9</th>\n",
       "      <td id=\"T_d2905_row9_col0\" class=\"data row9 col0\" >0.8802</td>\n",
       "      <td id=\"T_d2905_row9_col1\" class=\"data row9 col1\" >0.9516</td>\n",
       "      <td id=\"T_d2905_row9_col2\" class=\"data row9 col2\" >0.8771</td>\n",
       "      <td id=\"T_d2905_row9_col3\" class=\"data row9 col3\" >0.8634</td>\n",
       "      <td id=\"T_d2905_row9_col4\" class=\"data row9 col4\" >0.8702</td>\n",
       "      <td id=\"T_d2905_row9_col5\" class=\"data row9 col5\" >0.7590</td>\n",
       "      <td id=\"T_d2905_row9_col6\" class=\"data row9 col6\" >0.7591</td>\n",
       "    </tr>\n",
       "    <tr>\n",
       "      <th id=\"T_d2905_level0_row10\" class=\"row_heading level0 row10\" >Mean</th>\n",
       "      <td id=\"T_d2905_row10_col0\" class=\"data row10 col0\" >0.8844</td>\n",
       "      <td id=\"T_d2905_row10_col1\" class=\"data row10 col1\" >0.9521</td>\n",
       "      <td id=\"T_d2905_row10_col2\" class=\"data row10 col2\" >0.8867</td>\n",
       "      <td id=\"T_d2905_row10_col3\" class=\"data row10 col3\" >0.8642</td>\n",
       "      <td id=\"T_d2905_row10_col4\" class=\"data row10 col4\" >0.8753</td>\n",
       "      <td id=\"T_d2905_row10_col5\" class=\"data row10 col5\" >0.7675</td>\n",
       "      <td id=\"T_d2905_row10_col6\" class=\"data row10 col6\" >0.7677</td>\n",
       "    </tr>\n",
       "    <tr>\n",
       "      <th id=\"T_d2905_level0_row11\" class=\"row_heading level0 row11\" >Std</th>\n",
       "      <td id=\"T_d2905_row11_col0\" class=\"data row11 col0\" >0.0048</td>\n",
       "      <td id=\"T_d2905_row11_col1\" class=\"data row11 col1\" >0.0035</td>\n",
       "      <td id=\"T_d2905_row11_col2\" class=\"data row11 col2\" >0.0075</td>\n",
       "      <td id=\"T_d2905_row11_col3\" class=\"data row11 col3\" >0.0051</td>\n",
       "      <td id=\"T_d2905_row11_col4\" class=\"data row11 col4\" >0.0054</td>\n",
       "      <td id=\"T_d2905_row11_col5\" class=\"data row11 col5\" >0.0098</td>\n",
       "      <td id=\"T_d2905_row11_col6\" class=\"data row11 col6\" >0.0098</td>\n",
       "    </tr>\n",
       "  </tbody>\n",
       "</table>\n"
      ],
      "text/plain": [
       "<pandas.io.formats.style.Styler at 0x7fd2838efdc0>"
      ]
     },
     "metadata": {},
     "output_type": "display_data"
    }
   ],
   "source": [
    "tuned_pce_1_m1 = tune_model(pce_1_m1, n_iter=50, early_stopping = True)"
   ]
  },
  {
   "cell_type": "code",
   "execution_count": 103,
   "metadata": {},
   "outputs": [
    {
     "data": {
      "text/html": [
       "<style type=\"text/css\">\n",
       "#T_29273_row10_col0, #T_29273_row10_col1, #T_29273_row10_col2, #T_29273_row10_col3, #T_29273_row10_col4, #T_29273_row10_col5, #T_29273_row10_col6 {\n",
       "  background: yellow;\n",
       "}\n",
       "</style>\n",
       "<table id=\"T_29273\">\n",
       "  <thead>\n",
       "    <tr>\n",
       "      <th class=\"blank level0\" >&nbsp;</th>\n",
       "      <th id=\"T_29273_level0_col0\" class=\"col_heading level0 col0\" >Accuracy</th>\n",
       "      <th id=\"T_29273_level0_col1\" class=\"col_heading level0 col1\" >AUC</th>\n",
       "      <th id=\"T_29273_level0_col2\" class=\"col_heading level0 col2\" >Recall</th>\n",
       "      <th id=\"T_29273_level0_col3\" class=\"col_heading level0 col3\" >Prec.</th>\n",
       "      <th id=\"T_29273_level0_col4\" class=\"col_heading level0 col4\" >F1</th>\n",
       "      <th id=\"T_29273_level0_col5\" class=\"col_heading level0 col5\" >Kappa</th>\n",
       "      <th id=\"T_29273_level0_col6\" class=\"col_heading level0 col6\" >MCC</th>\n",
       "    </tr>\n",
       "    <tr>\n",
       "      <th class=\"index_name level0\" >Fold</th>\n",
       "      <th class=\"blank col0\" >&nbsp;</th>\n",
       "      <th class=\"blank col1\" >&nbsp;</th>\n",
       "      <th class=\"blank col2\" >&nbsp;</th>\n",
       "      <th class=\"blank col3\" >&nbsp;</th>\n",
       "      <th class=\"blank col4\" >&nbsp;</th>\n",
       "      <th class=\"blank col5\" >&nbsp;</th>\n",
       "      <th class=\"blank col6\" >&nbsp;</th>\n",
       "    </tr>\n",
       "  </thead>\n",
       "  <tbody>\n",
       "    <tr>\n",
       "      <th id=\"T_29273_level0_row0\" class=\"row_heading level0 row0\" >0</th>\n",
       "      <td id=\"T_29273_row0_col0\" class=\"data row0 col0\" >0.8827</td>\n",
       "      <td id=\"T_29273_row0_col1\" class=\"data row0 col1\" >0.9527</td>\n",
       "      <td id=\"T_29273_row0_col2\" class=\"data row0 col2\" >0.8778</td>\n",
       "      <td id=\"T_29273_row0_col3\" class=\"data row0 col3\" >0.8675</td>\n",
       "      <td id=\"T_29273_row0_col4\" class=\"data row0 col4\" >0.8726</td>\n",
       "      <td id=\"T_29273_row0_col5\" class=\"data row0 col5\" >0.7639</td>\n",
       "      <td id=\"T_29273_row0_col6\" class=\"data row0 col6\" >0.7639</td>\n",
       "    </tr>\n",
       "    <tr>\n",
       "      <th id=\"T_29273_level0_row1\" class=\"row_heading level0 row1\" >1</th>\n",
       "      <td id=\"T_29273_row1_col0\" class=\"data row1 col0\" >0.8920</td>\n",
       "      <td id=\"T_29273_row1_col1\" class=\"data row1 col1\" >0.9566</td>\n",
       "      <td id=\"T_29273_row1_col2\" class=\"data row1 col2\" >0.8869</td>\n",
       "      <td id=\"T_29273_row1_col3\" class=\"data row1 col3\" >0.8783</td>\n",
       "      <td id=\"T_29273_row1_col4\" class=\"data row1 col4\" >0.8826</td>\n",
       "      <td id=\"T_29273_row1_col5\" class=\"data row1 col5\" >0.7826</td>\n",
       "      <td id=\"T_29273_row1_col6\" class=\"data row1 col6\" >0.7826</td>\n",
       "    </tr>\n",
       "    <tr>\n",
       "      <th id=\"T_29273_level0_row2\" class=\"row_heading level0 row2\" >2</th>\n",
       "      <td id=\"T_29273_row2_col0\" class=\"data row2 col0\" >0.8899</td>\n",
       "      <td id=\"T_29273_row2_col1\" class=\"data row2 col1\" >0.9535</td>\n",
       "      <td id=\"T_29273_row2_col2\" class=\"data row2 col2\" >0.8935</td>\n",
       "      <td id=\"T_29273_row2_col3\" class=\"data row2 col3\" >0.8695</td>\n",
       "      <td id=\"T_29273_row2_col4\" class=\"data row2 col4\" >0.8813</td>\n",
       "      <td id=\"T_29273_row2_col5\" class=\"data row2 col5\" >0.7787</td>\n",
       "      <td id=\"T_29273_row2_col6\" class=\"data row2 col6\" >0.7789</td>\n",
       "    </tr>\n",
       "    <tr>\n",
       "      <th id=\"T_29273_level0_row3\" class=\"row_heading level0 row3\" >3</th>\n",
       "      <td id=\"T_29273_row3_col0\" class=\"data row3 col0\" >0.8845</td>\n",
       "      <td id=\"T_29273_row3_col1\" class=\"data row3 col1\" >0.9533</td>\n",
       "      <td id=\"T_29273_row3_col2\" class=\"data row3 col2\" >0.8863</td>\n",
       "      <td id=\"T_29273_row3_col3\" class=\"data row3 col3\" >0.8647</td>\n",
       "      <td id=\"T_29273_row3_col4\" class=\"data row3 col4\" >0.8753</td>\n",
       "      <td id=\"T_29273_row3_col5\" class=\"data row3 col5\" >0.7677</td>\n",
       "      <td id=\"T_29273_row3_col6\" class=\"data row3 col6\" >0.7679</td>\n",
       "    </tr>\n",
       "    <tr>\n",
       "      <th id=\"T_29273_level0_row4\" class=\"row_heading level0 row4\" >4</th>\n",
       "      <td id=\"T_29273_row4_col0\" class=\"data row4 col0\" >0.8794</td>\n",
       "      <td id=\"T_29273_row4_col1\" class=\"data row4 col1\" >0.9480</td>\n",
       "      <td id=\"T_29273_row4_col2\" class=\"data row4 col2\" >0.8685</td>\n",
       "      <td id=\"T_29273_row4_col3\" class=\"data row4 col3\" >0.8679</td>\n",
       "      <td id=\"T_29273_row4_col4\" class=\"data row4 col4\" >0.8682</td>\n",
       "      <td id=\"T_29273_row4_col5\" class=\"data row4 col5\" >0.7570</td>\n",
       "      <td id=\"T_29273_row4_col6\" class=\"data row4 col6\" >0.7570</td>\n",
       "    </tr>\n",
       "    <tr>\n",
       "      <th id=\"T_29273_level0_row5\" class=\"row_heading level0 row5\" >5</th>\n",
       "      <td id=\"T_29273_row5_col0\" class=\"data row5 col0\" >0.8758</td>\n",
       "      <td id=\"T_29273_row5_col1\" class=\"data row5 col1\" >0.9455</td>\n",
       "      <td id=\"T_29273_row5_col2\" class=\"data row5 col2\" >0.8731</td>\n",
       "      <td id=\"T_29273_row5_col3\" class=\"data row5 col3\" >0.8579</td>\n",
       "      <td id=\"T_29273_row5_col4\" class=\"data row5 col4\" >0.8654</td>\n",
       "      <td id=\"T_29273_row5_col5\" class=\"data row5 col5\" >0.7500</td>\n",
       "      <td id=\"T_29273_row5_col6\" class=\"data row5 col6\" >0.7501</td>\n",
       "    </tr>\n",
       "    <tr>\n",
       "      <th id=\"T_29273_level0_row6\" class=\"row_heading level0 row6\" >6</th>\n",
       "      <td id=\"T_29273_row6_col0\" class=\"data row6 col0\" >0.8854</td>\n",
       "      <td id=\"T_29273_row6_col1\" class=\"data row6 col1\" >0.9561</td>\n",
       "      <td id=\"T_29273_row6_col2\" class=\"data row6 col2\" >0.8777</td>\n",
       "      <td id=\"T_29273_row6_col3\" class=\"data row6 col3\" >0.8725</td>\n",
       "      <td id=\"T_29273_row6_col4\" class=\"data row6 col4\" >0.8751</td>\n",
       "      <td id=\"T_29273_row6_col5\" class=\"data row6 col5\" >0.7692</td>\n",
       "      <td id=\"T_29273_row6_col6\" class=\"data row6 col6\" >0.7692</td>\n",
       "    </tr>\n",
       "    <tr>\n",
       "      <th id=\"T_29273_level0_row7\" class=\"row_heading level0 row7\" >7</th>\n",
       "      <td id=\"T_29273_row7_col0\" class=\"data row7 col0\" >0.8782</td>\n",
       "      <td id=\"T_29273_row7_col1\" class=\"data row7 col1\" >0.9506</td>\n",
       "      <td id=\"T_29273_row7_col2\" class=\"data row7 col2\" >0.8718</td>\n",
       "      <td id=\"T_29273_row7_col3\" class=\"data row7 col3\" >0.8633</td>\n",
       "      <td id=\"T_29273_row7_col4\" class=\"data row7 col4\" >0.8675</td>\n",
       "      <td id=\"T_29273_row7_col5\" class=\"data row7 col5\" >0.7547</td>\n",
       "      <td id=\"T_29273_row7_col6\" class=\"data row7 col6\" >0.7548</td>\n",
       "    </tr>\n",
       "    <tr>\n",
       "      <th id=\"T_29273_level0_row8\" class=\"row_heading level0 row8\" >8</th>\n",
       "      <td id=\"T_29273_row8_col0\" class=\"data row8 col0\" >0.8857</td>\n",
       "      <td id=\"T_29273_row8_col1\" class=\"data row8 col1\" >0.9567</td>\n",
       "      <td id=\"T_29273_row8_col2\" class=\"data row8 col2\" >0.8856</td>\n",
       "      <td id=\"T_29273_row8_col3\" class=\"data row8 col3\" >0.8674</td>\n",
       "      <td id=\"T_29273_row8_col4\" class=\"data row8 col4\" >0.8764</td>\n",
       "      <td id=\"T_29273_row8_col5\" class=\"data row8 col5\" >0.7701</td>\n",
       "      <td id=\"T_29273_row8_col6\" class=\"data row8 col6\" >0.7702</td>\n",
       "    </tr>\n",
       "    <tr>\n",
       "      <th id=\"T_29273_level0_row9\" class=\"row_heading level0 row9\" >9</th>\n",
       "      <td id=\"T_29273_row9_col0\" class=\"data row9 col0\" >0.8814</td>\n",
       "      <td id=\"T_29273_row9_col1\" class=\"data row9 col1\" >0.9524</td>\n",
       "      <td id=\"T_29273_row9_col2\" class=\"data row9 col2\" >0.8725</td>\n",
       "      <td id=\"T_29273_row9_col3\" class=\"data row9 col3\" >0.8690</td>\n",
       "      <td id=\"T_29273_row9_col4\" class=\"data row9 col4\" >0.8707</td>\n",
       "      <td id=\"T_29273_row9_col5\" class=\"data row9 col5\" >0.7612</td>\n",
       "      <td id=\"T_29273_row9_col6\" class=\"data row9 col6\" >0.7612</td>\n",
       "    </tr>\n",
       "    <tr>\n",
       "      <th id=\"T_29273_level0_row10\" class=\"row_heading level0 row10\" >Mean</th>\n",
       "      <td id=\"T_29273_row10_col0\" class=\"data row10 col0\" >0.8835</td>\n",
       "      <td id=\"T_29273_row10_col1\" class=\"data row10 col1\" >0.9525</td>\n",
       "      <td id=\"T_29273_row10_col2\" class=\"data row10 col2\" >0.8794</td>\n",
       "      <td id=\"T_29273_row10_col3\" class=\"data row10 col3\" >0.8678</td>\n",
       "      <td id=\"T_29273_row10_col4\" class=\"data row10 col4\" >0.8735</td>\n",
       "      <td id=\"T_29273_row10_col5\" class=\"data row10 col5\" >0.7655</td>\n",
       "      <td id=\"T_29273_row10_col6\" class=\"data row10 col6\" >0.7656</td>\n",
       "    </tr>\n",
       "    <tr>\n",
       "      <th id=\"T_29273_level0_row11\" class=\"row_heading level0 row11\" >Std</th>\n",
       "      <td id=\"T_29273_row11_col0\" class=\"data row11 col0\" >0.0048</td>\n",
       "      <td id=\"T_29273_row11_col1\" class=\"data row11 col1\" >0.0035</td>\n",
       "      <td id=\"T_29273_row11_col2\" class=\"data row11 col2\" >0.0078</td>\n",
       "      <td id=\"T_29273_row11_col3\" class=\"data row11 col3\" >0.0051</td>\n",
       "      <td id=\"T_29273_row11_col4\" class=\"data row11 col4\" >0.0054</td>\n",
       "      <td id=\"T_29273_row11_col5\" class=\"data row11 col5\" >0.0098</td>\n",
       "      <td id=\"T_29273_row11_col6\" class=\"data row11 col6\" >0.0098</td>\n",
       "    </tr>\n",
       "  </tbody>\n",
       "</table>\n"
      ],
      "text/plain": [
       "<pandas.io.formats.style.Styler at 0x7fd1fd809d00>"
      ]
     },
     "metadata": {},
     "output_type": "display_data"
    }
   ],
   "source": [
    "cali_model = calibrate_model(tuned_pce_1_m1)"
   ]
  },
  {
   "cell_type": "code",
   "execution_count": null,
   "metadata": {},
   "outputs": [],
   "source": [
    "final_model = finalize_model(cali_model)"
   ]
  },
  {
   "cell_type": "code",
   "execution_count": 105,
   "metadata": {},
   "outputs": [
    {
     "data": {
      "application/vnd.jupyter.widget-view+json": {
       "model_id": "d27130a8089f48b5a8e311c15ec8bcf2",
       "version_major": 2,
       "version_minor": 0
      },
      "text/plain": [
       "interactive(children=(ToggleButtons(description='Plot Type:', icons=('',), options=(('Hyperparameters', 'param…"
      ]
     },
     "metadata": {},
     "output_type": "display_data"
    }
   ],
   "source": [
    "evaluate_model(final_model)"
   ]
  },
  {
   "cell_type": "code",
   "execution_count": null,
   "metadata": {},
   "outputs": [],
   "source": []
  }
 ],
 "metadata": {
  "kernelspec": {
   "display_name": "Python 3.8.13 ('test')",
   "language": "python",
   "name": "python3"
  },
  "language_info": {
   "codemirror_mode": {
    "name": "ipython",
    "version": 3
   },
   "file_extension": ".py",
   "mimetype": "text/x-python",
   "name": "python",
   "nbconvert_exporter": "python",
   "pygments_lexer": "ipython3",
   "version": "3.8.13"
  },
  "orig_nbformat": 4,
  "vscode": {
   "interpreter": {
    "hash": "3d664b8fc6c27e44ba8ee3c1eb952d46189ab2ef83a31df39349ad42e7bfa8fc"
   }
  }
 },
 "nbformat": 4,
 "nbformat_minor": 2
}
