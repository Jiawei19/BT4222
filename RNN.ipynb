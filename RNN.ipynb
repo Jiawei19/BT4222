{
 "cells": [
  {
   "cell_type": "markdown",
   "id": "35d231ea",
   "metadata": {},
   "source": [
    "## TOC:\n",
    "* [Read in and clean data](#read_data)\n",
    "* [Data preprocessing & preparation](#data_prep)\n",
    "    * [Identify & pad punctuations](#pad_punc)\n",
    "    * [Tokenize text data](#tokenize)\n",
    "* [Build RNN model](#build_rnn)\n",
    "    * [Model with Bidirectional SimpleRNN (16) > Dense (64 units & relu) > Dropout (0.5) > Dense (1)](#rnn1)\n",
    "        * [Plots of training & validation accuracy & loss](#rnn1_plots)\n",
    "        * [Evaluate on test set](#rnn1_eval)\n",
    "    * [Model with SimpleRNN (16) > Dense (64 units & relu) > Dropout (0.5) > Dense (1)](#rnn2)\n",
    "    * [Model with SimpleRNN (16) > Dropout (0.5) > Dense (1)](#rnn3)\n",
    "        * [Hyperparameter tuning](#rnn3_hp)"
   ]
  },
  {
   "cell_type": "code",
   "execution_count": 1,
   "id": "344ca633",
   "metadata": {},
   "outputs": [],
   "source": [
    "# import packages\n",
    "import os\n",
    "import re\n",
    "import pandas as pd\n",
    "import tensorflow as tf\n",
    "from tensorflow.keras.preprocessing.text import Tokenizer\n",
    "import keras_tuner\n",
    "from sklearn.model_selection import train_test_split\n",
    "import matplotlib.pyplot as plt \n",
    "import math"
   ]
  },
  {
   "cell_type": "markdown",
   "id": "717da7f1",
   "metadata": {},
   "source": [
    "# Read in and clean data <a class=\"anchor\" id=\"read_data\"></a>\n",
    "- drop duplicates\n",
    "- remove publisher info\n",
    "- train-test split"
   ]
  },
  {
   "cell_type": "code",
   "execution_count": 2,
   "id": "b17a5ea4",
   "metadata": {},
   "outputs": [],
   "source": [
    "fake_news = pd.read_csv(\"Fake.csv\")\n",
    "real_news = pd.read_csv(\"True.csv\")\n",
    "\n",
    "fake_news['fake'] = 1\n",
    "real_news['fake'] = 0\n",
    "news = pd.concat([fake_news, real_news])\n",
    "news.reset_index(inplace=True, drop=True)\n",
    "\n",
    "news['all_text'] = news['title'] + ' '+ news['text'] \n",
    "news.drop_duplicates(subset=['all_text'], inplace = True)\n",
    "\n",
    "news['text'] = news['text'].map(lambda x: re.sub(r'^.+ \\(Reuters\\) - ','',x))\n",
    "news['all_text'] = news['title'] + ' ' + news['text'] \n",
    "\n",
    "#features = news.loc[:, ~news.columns.isin(['fake'])]\n",
    "features = news['title']\n",
    "target = news['fake']\n",
    "\n",
    "X_train, X_test, y_train, y_test = train_test_split(features, target, random_state=1)"
   ]
  },
  {
   "cell_type": "markdown",
   "id": "43088a20",
   "metadata": {},
   "source": [
    "# Data preprocessing & preparation <a class=\"anchor\" id=\"data_prep\"></a>"
   ]
  },
  {
   "cell_type": "markdown",
   "id": "31a10180",
   "metadata": {},
   "source": [
    "### Identify & pad punctuations <a class=\"anchor\" id=\"pad_punc\"></a>"
   ]
  },
  {
   "cell_type": "code",
   "execution_count": 3,
   "id": "ddd5a8d1",
   "metadata": {},
   "outputs": [],
   "source": [
    "def getPunctuations(text_col):\n",
    "    '''\n",
    "    Parameters\n",
    "    ----------\n",
    "    text_col : Series of strings\n",
    "    \n",
    "    Returns\n",
    "    -------\n",
    "    punctuations : string of all non-alphanumeric & non-space characters\n",
    "    '''\n",
    "    regx = re.compile(r'[\\W_]')\n",
    "    res = []\n",
    "    for i in text_col:\n",
    "        res.extend(regx.findall(i))\n",
    "    res = set(res)\n",
    "    spaces = ['\\u200a', '\\u200b', '\\u200f', '\\u202a', '\\u200e', '\\xa0', '\\u202c', '\\ufeff', '\\n', '\\r', '\\t', ' ']\n",
    "    for s in spaces:\n",
    "        res.remove(s)\n",
    "    \n",
    "    punctuations = ''\n",
    "    for r in res:\n",
    "        punctuations += r\n",
    "        \n",
    "    return punctuations\n",
    "\n",
    "# pad punctuations with spaces to allow tokenizer to correctly identify words\n",
    "def padPunctuation(data):\n",
    "    res = []\n",
    "    for i in data:\n",
    "        x = i.translate(str.maketrans({key: \" {0} \".format(key) for key in punctuations})) # account for punctuations used in certain text not included in string.punctuation\n",
    "        res.append(x)\n",
    "    return res"
   ]
  },
  {
   "cell_type": "code",
   "execution_count": 4,
   "id": "7b787335",
   "metadata": {},
   "outputs": [],
   "source": [
    "punctuations = getPunctuations(news['all_text'])\n",
    "X_train = padPunctuation(X_train)\n",
    "X_test = padPunctuation(X_test)"
   ]
  },
  {
   "cell_type": "markdown",
   "id": "c55ae66c",
   "metadata": {},
   "source": [
    "### Tokenize text data <a class=\"anchor\" id=\"tokenize\"></a>"
   ]
  },
  {
   "cell_type": "code",
   "execution_count": 5,
   "id": "c067620c",
   "metadata": {},
   "outputs": [
    {
     "name": "stdout",
     "output_type": "stream",
     "text": [
      "Vocab Size: 29542\n",
      "Max Title Length: 56\n"
     ]
    }
   ],
   "source": [
    "tokenizer = Tokenizer(filters='\\t\\n',\n",
    "                      lower=False)\n",
    "tokenizer.fit_on_texts(X_train)\n",
    "\n",
    "vocab_size = len(tokenizer.word_index) + 1\n",
    "print(\"Vocab Size: {}\".format(vocab_size))\n",
    "\n",
    "X_train = tokenizer.texts_to_sequences(X_train)\n",
    "X_test = tokenizer.texts_to_sequences(X_test)\n",
    "\n",
    "# get length of longest title and pad all shorter titles to match length\n",
    "max_len = max([len(x) for x in X_train] + [len(x) for x in X_test])\n",
    "print(\"Max Title Length: {}\".format(max_len))\n",
    "X_train = tf.keras.preprocessing.sequence.pad_sequences(X_train, padding='post', maxlen=max_len)\n",
    "X_test = tf.keras.preprocessing.sequence.pad_sequences(X_test, padding='post', maxlen=max_len)"
   ]
  },
  {
   "cell_type": "markdown",
   "id": "9a90e4d0",
   "metadata": {},
   "source": [
    "# Build RNN model <a class=\"anchor\" id=\"build_rnn\"></a>"
   ]
  },
  {
   "cell_type": "markdown",
   "id": "a09bb224",
   "metadata": {},
   "source": [
    "## Model with Bidirectional SimpleRNN (16) > Dense (64 units & relu) > Dropout (0.5) > Dense (1) <a class=\"anchor\" id=\"rnn1\"></a>"
   ]
  },
  {
   "cell_type": "code",
   "execution_count": 6,
   "id": "1606c3a1",
   "metadata": {},
   "outputs": [
    {
     "name": "stdout",
     "output_type": "stream",
     "text": [
      "Model: \"sequential\"\n",
      "_________________________________________________________________\n",
      " Layer (type)                Output Shape              Param #   \n",
      "=================================================================\n",
      " embedding (Embedding)       (None, 56, 14)            413588    \n",
      "                                                                 \n",
      " bidirectional (Bidirectiona  (None, 32)               992       \n",
      " l)                                                              \n",
      "                                                                 \n",
      " dense (Dense)               (None, 64)                2112      \n",
      "                                                                 \n",
      " dropout (Dropout)           (None, 64)                0         \n",
      "                                                                 \n",
      " dense_1 (Dense)             (None, 1)                 65        \n",
      "                                                                 \n",
      "=================================================================\n",
      "Total params: 416,757\n",
      "Trainable params: 416,757\n",
      "Non-trainable params: 0\n",
      "_________________________________________________________________\n"
     ]
    }
   ],
   "source": [
    "model = tf.keras.Sequential([\n",
    "    tf.keras.layers.Embedding(vocab_size, math.ceil(vocab_size**0.25), input_length=max_len), # https://developers.googleblog.com/2017/11/introducing-tensorflow-feature-columns.html\n",
    "    #tf.keras.layers.Bidirectional(tf.keras.layers.SimpleRNN(64,  return_sequences=True)),\n",
    "    tf.keras.layers.Bidirectional(tf.keras.layers.SimpleRNN(16)),\n",
    "    tf.keras.layers.Dense(64, activation='relu'),\n",
    "    tf.keras.layers.Dropout(0.5),\n",
    "    tf.keras.layers.Dense(1)\n",
    "])\n",
    "\n",
    "model.summary()"
   ]
  },
  {
   "cell_type": "code",
   "execution_count": 7,
   "id": "d53ed65b",
   "metadata": {},
   "outputs": [
    {
     "name": "stdout",
     "output_type": "stream",
     "text": [
      "Epoch 1/10\n",
      "880/880 [==============================] - 148s 165ms/step - loss: 0.2773 - accuracy: 0.8633 - val_loss: 0.0510 - val_accuracy: 0.9857\n",
      "Epoch 2/10\n",
      "880/880 [==============================] - 150s 170ms/step - loss: 0.0349 - accuracy: 0.9924 - val_loss: 0.0168 - val_accuracy: 0.9942\n",
      "Epoch 3/10\n",
      "880/880 [==============================] - 137s 155ms/step - loss: 0.0141 - accuracy: 0.9967 - val_loss: 0.0128 - val_accuracy: 0.9945\n",
      "Epoch 4/10\n",
      "880/880 [==============================] - 145s 164ms/step - loss: 0.0068 - accuracy: 0.9987 - val_loss: 0.0200 - val_accuracy: 0.9945\n",
      "Epoch 5/10\n",
      "880/880 [==============================] - 147s 167ms/step - loss: 0.0068 - accuracy: 0.9983 - val_loss: 0.0140 - val_accuracy: 0.9962\n"
     ]
    }
   ],
   "source": [
    "early_stop = tf.keras.callbacks.EarlyStopping(monitor='val_loss', patience=2, restore_best_weights=True)\n",
    "model.compile(loss=tf.keras.losses.BinaryCrossentropy(from_logits=True),\n",
    "              optimizer=tf.keras.optimizers.Adam(1e-4),\n",
    "              metrics=['accuracy'])\n",
    "\n",
    "history = model.fit(X_train, y_train, epochs=10, \n",
    "                    validation_split=0.1, batch_size=30, \n",
    "                    shuffle=True, callbacks=[early_stop])"
   ]
  },
  {
   "cell_type": "markdown",
   "id": "ca63451f",
   "metadata": {},
   "source": [
    "### Plots of training & validation accuracy & loss <a class=\"anchor\" id=\"rnn1_plots\"></a>"
   ]
  },
  {
   "cell_type": "code",
   "execution_count": 8,
   "id": "eb6ec328",
   "metadata": {},
   "outputs": [
    {
     "data": {
      "image/png": "[encoded data removed]",
      "text/plain": [
       "<Figure size 864x648 with 1 Axes>"
      ]
     },
     "metadata": {
      "needs_background": "light"
     },
     "output_type": "display_data"
    },
    {
     "data": {
      "image/png": "[encoded data removed]",
      "text/plain": [
       "<Figure size 864x648 with 1 Axes>"
      ]
     },
     "metadata": {
      "needs_background": "light"
     },
     "output_type": "display_data"
    }
   ],
   "source": [
    "history_dict = history.history\n",
    "\n",
    "acc = history_dict['accuracy']\n",
    "val_acc = history_dict['val_accuracy']\n",
    "loss = history_dict['loss']\n",
    "val_loss = history_dict['val_loss']\n",
    "epochs = history.epoch\n",
    "\n",
    "plt.figure(figsize=(12,9))\n",
    "plt.plot(epochs, loss, 'r', label='Training loss')\n",
    "plt.plot(epochs, val_loss, 'b', label='Validation loss')\n",
    "plt.title('Training and validation loss', size=20)\n",
    "plt.xlabel('Epochs', size=20)\n",
    "plt.ylabel('Loss', size=20)\n",
    "plt.legend(prop={'size': 20})\n",
    "plt.show()\n",
    "\n",
    "plt.figure(figsize=(12,9))\n",
    "plt.plot(epochs, acc, 'g', label='Training acc')\n",
    "plt.plot(epochs, val_acc, 'b', label='Validation acc')\n",
    "plt.title('Training and validation accuracy', size=20)\n",
    "plt.xlabel('Epochs', size=20)\n",
    "plt.ylabel('Accuracy', size=20)\n",
    "plt.legend(prop={'size': 20})\n",
    "plt.ylim((0.5,1))\n",
    "plt.show()"
   ]
  },
  {
   "cell_type": "markdown",
   "id": "04e930b2",
   "metadata": {},
   "source": [
    "### Evaluate on test set <a class=\"anchor\" id=\"rnn1_eval\"></a>"
   ]
  },
  {
   "cell_type": "code",
   "execution_count": 9,
   "id": "e0dd7bf1",
   "metadata": {},
   "outputs": [
    {
     "name": "stdout",
     "output_type": "stream",
     "text": [
      "306/306 [==============================] - 8s 25ms/step - loss: 0.0141 - accuracy: 0.9954\n"
     ]
    },
    {
     "data": {
      "text/plain": [
       "[0.014117153361439705, 0.9953973889350891]"
      ]
     },
     "execution_count": 9,
     "metadata": {},
     "output_type": "execute_result"
    }
   ],
   "source": [
    "model.evaluate(X_test, y_test)"
   ]
  },
  {
   "cell_type": "markdown",
   "id": "c0b6bc53",
   "metadata": {},
   "source": [
    "## Model with SimpleRNN (16) > Dense (64 units & relu) > Dropout (0.5) > Dense (1) <a class=\"anchor\" id=\"rnn2\"></a>"
   ]
  },
  {
   "cell_type": "code",
   "execution_count": 6,
   "id": "81271523",
   "metadata": {},
   "outputs": [
    {
     "name": "stdout",
     "output_type": "stream",
     "text": [
      "Epoch 1/10\n",
      "880/880 [==============================] - 71s 78ms/step - loss: 0.4295 - accuracy: 0.7611 - val_loss: 0.1298 - val_accuracy: 0.9611\n",
      "Epoch 2/10\n",
      "880/880 [==============================] - 73s 82ms/step - loss: 0.0809 - accuracy: 0.9801 - val_loss: 0.0777 - val_accuracy: 0.9812\n",
      "Epoch 3/10\n",
      "880/880 [==============================] - 74s 84ms/step - loss: 0.0354 - accuracy: 0.9912 - val_loss: 0.0670 - val_accuracy: 0.9836\n",
      "Epoch 4/10\n",
      "880/880 [==============================] - 74s 84ms/step - loss: 0.0169 - accuracy: 0.9962 - val_loss: 0.0642 - val_accuracy: 0.9857\n",
      "Epoch 5/10\n",
      "880/880 [==============================] - 76s 87ms/step - loss: 0.0096 - accuracy: 0.9978 - val_loss: 0.0631 - val_accuracy: 0.9857\n",
      "Epoch 6/10\n",
      "880/880 [==============================] - 76s 86ms/step - loss: 0.0059 - accuracy: 0.9989 - val_loss: 0.0613 - val_accuracy: 0.9877\n",
      "Epoch 7/10\n",
      "880/880 [==============================] - 76s 87ms/step - loss: 0.0030 - accuracy: 0.9995 - val_loss: 0.0675 - val_accuracy: 0.9874\n",
      "Epoch 8/10\n",
      "880/880 [==============================] - 74s 84ms/step - loss: 0.0021 - accuracy: 0.9997 - val_loss: 0.0633 - val_accuracy: 0.9874\n"
     ]
    }
   ],
   "source": [
    "model = tf.keras.Sequential([\n",
    "    tf.keras.layers.Embedding(vocab_size, math.ceil(vocab_size**0.25), input_length=max_len), # https://developers.googleblog.com/2017/11/introducing-tensorflow-feature-columns.html\n",
    "    tf.keras.layers.SimpleRNN(16),\n",
    "    tf.keras.layers.Dense(64, activation='relu'),\n",
    "    tf.keras.layers.Dropout(0.5),\n",
    "    tf.keras.layers.Dense(1)\n",
    "])\n",
    "early_stop = tf.keras.callbacks.EarlyStopping(monitor='val_loss', patience=2, restore_best_weights=True)\n",
    "model.compile(loss=tf.keras.losses.BinaryCrossentropy(from_logits=True),\n",
    "              optimizer=tf.keras.optimizers.Adam(1e-4),\n",
    "              metrics=['accuracy'])\n",
    "\n",
    "history = model.fit(X_train, y_train, epochs=10, \n",
    "                    validation_split=0.1, batch_size=30, \n",
    "                    shuffle=True, callbacks=[early_stop])"
   ]
  },
  {
   "cell_type": "code",
   "execution_count": 7,
   "id": "6ed51c15",
   "metadata": {},
   "outputs": [
    {
     "name": "stdout",
     "output_type": "stream",
     "text": [
      "306/306 [==============================] - 4s 12ms/step - loss: 0.0486 - accuracy: 0.9884\n"
     ]
    },
    {
     "data": {
      "text/plain": [
       "[0.04862477630376816, 0.9884422421455383]"
      ]
     },
     "execution_count": 7,
     "metadata": {},
     "output_type": "execute_result"
    }
   ],
   "source": [
    "model.evaluate(X_test, y_test)"
   ]
  },
  {
   "cell_type": "markdown",
   "id": "bf242fa3",
   "metadata": {},
   "source": [
    "## Model with SimpleRNN (16) > Dropout (0.5) > Dense (1) <a class=\"anchor\" id=\"rnn3\"></a>"
   ]
  },
  {
   "cell_type": "code",
   "execution_count": 8,
   "id": "db49ed94",
   "metadata": {},
   "outputs": [
    {
     "name": "stdout",
     "output_type": "stream",
     "text": [
      "Epoch 1/10\n",
      "880/880 [==============================] - 74s 83ms/step - loss: 0.3899 - accuracy: 0.8424 - val_loss: 0.2170 - val_accuracy: 0.9662\n",
      "Epoch 2/10\n",
      "880/880 [==============================] - 73s 83ms/step - loss: 0.2078 - accuracy: 0.9625 - val_loss: 0.1697 - val_accuracy: 0.9666\n",
      "Epoch 3/10\n",
      "880/880 [==============================] - 75s 85ms/step - loss: 0.1521 - accuracy: 0.9763 - val_loss: 0.1187 - val_accuracy: 0.9795\n",
      "Epoch 4/10\n",
      "880/880 [==============================] - 70s 80ms/step - loss: 0.1692 - accuracy: 0.9668 - val_loss: 0.1005 - val_accuracy: 0.9826\n",
      "Epoch 5/10\n",
      "880/880 [==============================] - 70s 80ms/step - loss: 0.1058 - accuracy: 0.9851 - val_loss: 0.0868 - val_accuracy: 0.9836\n",
      "Epoch 6/10\n",
      "880/880 [==============================] - 70s 80ms/step - loss: 0.0892 - accuracy: 0.9874 - val_loss: 0.0873 - val_accuracy: 0.9830\n",
      "Epoch 7/10\n",
      "880/880 [==============================] - 71s 80ms/step - loss: 0.0951 - accuracy: 0.9849 - val_loss: 0.0745 - val_accuracy: 0.9860\n",
      "Epoch 8/10\n",
      "880/880 [==============================] - 75s 85ms/step - loss: 0.0799 - accuracy: 0.9880 - val_loss: 0.0684 - val_accuracy: 0.9874\n",
      "Epoch 9/10\n",
      "880/880 [==============================] - 74s 85ms/step - loss: 0.0731 - accuracy: 0.9891 - val_loss: 0.0648 - val_accuracy: 0.9881\n",
      "Epoch 10/10\n",
      "880/880 [==============================] - 74s 84ms/step - loss: 0.0648 - accuracy: 0.9906 - val_loss: 0.0691 - val_accuracy: 0.9870\n"
     ]
    }
   ],
   "source": [
    "model = tf.keras.Sequential([\n",
    "    tf.keras.layers.Embedding(vocab_size, math.ceil(vocab_size**0.25), input_length=max_len), # https://developers.googleblog.com/2017/11/introducing-tensorflow-feature-columns.html\n",
    "    tf.keras.layers.SimpleRNN(16),\n",
    "    tf.keras.layers.Dropout(0.5),\n",
    "    tf.keras.layers.Dense(1)\n",
    "])\n",
    "early_stop = tf.keras.callbacks.EarlyStopping(monitor='val_loss', patience=2, restore_best_weights=True)\n",
    "model.compile(loss=tf.keras.losses.BinaryCrossentropy(from_logits=True),\n",
    "              optimizer=tf.keras.optimizers.Adam(1e-4),\n",
    "              metrics=['accuracy'])\n",
    "\n",
    "history = model.fit(X_train, y_train, epochs=10, \n",
    "                    validation_split=0.1, batch_size=30, \n",
    "                    shuffle=True, callbacks=[early_stop])"
   ]
  },
  {
   "cell_type": "code",
   "execution_count": 9,
   "id": "2be4dd18",
   "metadata": {},
   "outputs": [
    {
     "name": "stdout",
     "output_type": "stream",
     "text": [
      "306/306 [==============================] - 4s 11ms/step - loss: 0.0789 - accuracy: 0.9849\n"
     ]
    },
    {
     "data": {
      "text/plain": [
       "[0.07885951548814774, 0.9848624467849731]"
      ]
     },
     "execution_count": 9,
     "metadata": {},
     "output_type": "execute_result"
    }
   ],
   "source": [
    "model.evaluate(X_test, y_test)"
   ]
  },
  {
   "cell_type": "markdown",
   "id": "c0c24de9",
   "metadata": {},
   "source": [
    "### Hyperparameter tuning <a class=\"anchor\" id=\"rnn3_hp\"></a>"
   ]
  },
  {
   "cell_type": "code",
   "execution_count": 25,
   "id": "728b016d",
   "metadata": {},
   "outputs": [],
   "source": [
    "#https://www.tensorflow.org/tutorials/keras/keras_tuner\n",
    "def hyperparameterTuning(hp): #https://keras.io/api/keras_tuner/hyperparameters/\n",
    "    model = tf.keras.Sequential([\n",
    "        tf.keras.layers.Embedding(input_dim=vocab_size, \n",
    "                                  output_dim=hp.Int('output_dim', min_value=6, max_value=30, step=4), \n",
    "                                  input_length=max_len), #https://keras.io/api/layers/core_layers/embedding/\n",
    "        tf.keras.layers.SimpleRNN(units=hp.Int('units', min_value=16, max_value=64, step=16)), #https://keras.io/api/layers/recurrent_layers/simple_rnn/\n",
    "        tf.keras.layers.Dropout(rate=hp.Float('rate', min_value=0.1, max_value=0.5, step=0.1)), #https://keras.io/api/layers/regularization_layers/dropout/\n",
    "        tf.keras.layers.Dense(1)\n",
    "    ])\n",
    "    model.compile(loss=tf.keras.losses.BinaryCrossentropy(from_logits=True),\n",
    "                  optimizer=tf.keras.optimizers.Adam(1e-4),\n",
    "                  metrics=['accuracy'])\n",
    "    return model"
   ]
  },
  {
   "cell_type": "code",
   "execution_count": 28,
   "id": "51b0b7bc",
   "metadata": {},
   "outputs": [
    {
     "name": "stdout",
     "output_type": "stream",
     "text": [
      "INFO:tensorflow:Reloading Oracle from existing project .\\untitled_project\\oracle.json\n"
     ]
    }
   ],
   "source": [
    "tuner = keras_tuner.Hyperband(hyperparameterTuning,\n",
    "                              objective='val_loss')"
   ]
  },
  {
   "cell_type": "code",
   "execution_count": 30,
   "id": "a75b0c43",
   "metadata": {},
   "outputs": [
    {
     "name": "stdout",
     "output_type": "stream",
     "text": [
      "Trial 160 Complete [00h 04m 41s]\n",
      "val_loss: 0.14531034231185913\n",
      "\n",
      "Best val_loss So Far: 0.006980834994465113\n",
      "Total elapsed time: 07h 55m 58s\n",
      "INFO:tensorflow:Oracle triggered exit\n"
     ]
    }
   ],
   "source": [
    "early_stop = tf.keras.callbacks.EarlyStopping(monitor='val_loss')\n",
    "tuner.search(X_train, y_train, epochs=10,\n",
    "             validation_split=0.1,\n",
    "             shuffle=True, callbacks=[early_stop])"
   ]
  },
  {
   "cell_type": "code",
   "execution_count": 35,
   "id": "6d3651c4",
   "metadata": {},
   "outputs": [
    {
     "name": "stdout",
     "output_type": "stream",
     "text": [
      "Results summary\n",
      "Results in .\\untitled_project\n",
      "Showing 10 best trials\n",
      "<keras_tuner.engine.objective.Objective object at 0x000002D887E33DF0>\n",
      "Trial summary\n",
      "Hyperparameters:\n",
      "output_dim: 10\n",
      "units: 64\n",
      "rate: 0.5\n",
      "tuner/epochs: 34\n",
      "tuner/initial_epoch: 12\n",
      "tuner/bracket: 4\n",
      "tuner/round: 3\n",
      "tuner/trial_id: 0138\n",
      "Score: 0.006980834994465113\n",
      "Trial summary\n",
      "Hyperparameters:\n",
      "output_dim: 30\n",
      "units: 64\n",
      "rate: 0.30000000000000004\n",
      "tuner/epochs: 12\n",
      "tuner/initial_epoch: 4\n",
      "tuner/bracket: 4\n",
      "tuner/round: 2\n",
      "tuner/trial_id: 0109\n",
      "Score: 0.013989675790071487\n",
      "Trial summary\n",
      "Hyperparameters:\n",
      "output_dim: 14\n",
      "units: 64\n",
      "rate: 0.1\n",
      "tuner/epochs: 100\n",
      "tuner/initial_epoch: 34\n",
      "tuner/bracket: 4\n",
      "tuner/round: 4\n",
      "tuner/trial_id: 0144\n",
      "Score: 0.015184544026851654\n",
      "Trial summary\n",
      "Hyperparameters:\n",
      "output_dim: 10\n",
      "units: 64\n",
      "rate: 0.5\n",
      "tuner/epochs: 12\n",
      "tuner/initial_epoch: 4\n",
      "tuner/bracket: 4\n",
      "tuner/round: 2\n",
      "tuner/trial_id: 0107\n",
      "Score: 0.016141895204782486\n",
      "Trial summary\n",
      "Hyperparameters:\n",
      "output_dim: 14\n",
      "units: 64\n",
      "rate: 0.1\n",
      "tuner/epochs: 12\n",
      "tuner/initial_epoch: 4\n",
      "tuner/bracket: 4\n",
      "tuner/round: 2\n",
      "tuner/trial_id: 0099\n",
      "Score: 0.016680577769875526\n",
      "Trial summary\n",
      "Hyperparameters:\n",
      "output_dim: 14\n",
      "units: 64\n",
      "rate: 0.1\n",
      "tuner/epochs: 34\n",
      "tuner/initial_epoch: 12\n",
      "tuner/bracket: 4\n",
      "tuner/round: 3\n",
      "tuner/trial_id: 0140\n",
      "Score: 0.017504042014479637\n",
      "Trial summary\n",
      "Hyperparameters:\n",
      "output_dim: 18\n",
      "units: 64\n",
      "rate: 0.1\n",
      "tuner/epochs: 12\n",
      "tuner/initial_epoch: 4\n",
      "tuner/bracket: 4\n",
      "tuner/round: 2\n",
      "tuner/trial_id: 0105\n",
      "Score: 0.018218642100691795\n",
      "Trial summary\n",
      "Hyperparameters:\n",
      "output_dim: 26\n",
      "units: 48\n",
      "rate: 0.1\n",
      "tuner/epochs: 12\n",
      "tuner/initial_epoch: 4\n",
      "tuner/bracket: 4\n",
      "tuner/round: 2\n",
      "tuner/trial_id: 0098\n",
      "Score: 0.019879626110196114\n",
      "Trial summary\n",
      "Hyperparameters:\n",
      "output_dim: 18\n",
      "units: 64\n",
      "rate: 0.2\n",
      "tuner/epochs: 12\n",
      "tuner/initial_epoch: 4\n",
      "tuner/bracket: 4\n",
      "tuner/round: 2\n",
      "tuner/trial_id: 0106\n",
      "Score: 0.02017689310014248\n",
      "Trial summary\n",
      "Hyperparameters:\n",
      "output_dim: 18\n",
      "units: 64\n",
      "rate: 0.1\n",
      "tuner/epochs: 34\n",
      "tuner/initial_epoch: 12\n",
      "tuner/bracket: 4\n",
      "tuner/round: 3\n",
      "tuner/trial_id: 0132\n",
      "Score: 0.02019333280622959\n"
     ]
    }
   ],
   "source": [
    "tuner.results_summary()"
   ]
  },
  {
   "cell_type": "code",
   "execution_count": 39,
   "id": "c28c54d3",
   "metadata": {},
   "outputs": [
    {
     "name": "stdout",
     "output_type": "stream",
     "text": [
      "Trial 26 Complete [00h 02m 20s]\n",
      "val_loss: 0.052951544523239136\n",
      "\n",
      "Best val_loss So Far: 0.018749158829450607\n",
      "Total elapsed time: 01h 00m 54s\n",
      "INFO:tensorflow:Oracle triggered exit\n"
     ]
    }
   ],
   "source": [
    "#https://www.tensorflow.org/tutorials/keras/keras_tuner\n",
    "def hyperparameterTuning2(hp): #https://keras.io/api/keras_tuner/hyperparameters/\n",
    "    model = tf.keras.Sequential([\n",
    "        tf.keras.layers.Embedding(input_dim=vocab_size, \n",
    "                                  output_dim=hp.Int('output_dim', min_value=10, max_value=30, step=10), \n",
    "                                  input_length=max_len), #https://keras.io/api/layers/core_layers/embedding/\n",
    "        tf.keras.layers.SimpleRNN(units=hp.Int('units', min_value=32, max_value=96, step=32)), #https://keras.io/api/layers/recurrent_layers/simple_rnn/\n",
    "        tf.keras.layers.Dropout(rate=hp.Float('rate', min_value=0.1, max_value=0.5, step=0.2)), #https://keras.io/api/layers/regularization_layers/dropout/\n",
    "        tf.keras.layers.Dense(1)\n",
    "    ])\n",
    "    model.compile(loss=tf.keras.losses.BinaryCrossentropy(from_logits=True),\n",
    "                  optimizer=tf.keras.optimizers.Adam(1e-4),\n",
    "                  metrics=['accuracy'])\n",
    "    return model\n",
    "\n",
    "tuner2 = keras_tuner.Hyperband(hyperparameterTuning2,\n",
    "                              objective='val_loss',\n",
    "                              directory='tuner2')\n",
    "tuner2.search(X_train, y_train, epochs=10,\n",
    "             validation_split=0.1,\n",
    "             shuffle=True, callbacks=[early_stop])"
   ]
  },
  {
   "cell_type": "code",
   "execution_count": 40,
   "id": "e5027224",
   "metadata": {},
   "outputs": [
    {
     "name": "stdout",
     "output_type": "stream",
     "text": [
      "Results summary\n",
      "Results in tuner2\\untitled_project\n",
      "Showing 10 best trials\n",
      "<keras_tuner.engine.objective.Objective object at 0x000002D886714BB0>\n",
      "Trial summary\n",
      "Hyperparameters:\n",
      "output_dim: 30\n",
      "units: 96\n",
      "rate: 0.5000000000000001\n",
      "tuner/epochs: 2\n",
      "tuner/initial_epoch: 0\n",
      "tuner/bracket: 4\n",
      "tuner/round: 0\n",
      "Score: 0.018749158829450607\n",
      "Trial summary\n",
      "Hyperparameters:\n",
      "output_dim: 20\n",
      "units: 96\n",
      "rate: 0.30000000000000004\n",
      "tuner/epochs: 2\n",
      "tuner/initial_epoch: 0\n",
      "tuner/bracket: 4\n",
      "tuner/round: 0\n",
      "Score: 0.02514771558344364\n",
      "Trial summary\n",
      "Hyperparameters:\n",
      "output_dim: 30\n",
      "units: 96\n",
      "rate: 0.1\n",
      "tuner/epochs: 2\n",
      "tuner/initial_epoch: 0\n",
      "tuner/bracket: 4\n",
      "tuner/round: 0\n",
      "Score: 0.025511175394058228\n",
      "Trial summary\n",
      "Hyperparameters:\n",
      "output_dim: 20\n",
      "units: 64\n",
      "rate: 0.1\n",
      "tuner/epochs: 2\n",
      "tuner/initial_epoch: 0\n",
      "tuner/bracket: 4\n",
      "tuner/round: 0\n",
      "Score: 0.02601861208677292\n",
      "Trial summary\n",
      "Hyperparameters:\n",
      "output_dim: 30\n",
      "units: 64\n",
      "rate: 0.5000000000000001\n",
      "tuner/epochs: 2\n",
      "tuner/initial_epoch: 0\n",
      "tuner/bracket: 4\n",
      "tuner/round: 0\n",
      "Score: 0.026034077629446983\n",
      "Trial summary\n",
      "Hyperparameters:\n",
      "output_dim: 10\n",
      "units: 96\n",
      "rate: 0.1\n",
      "tuner/epochs: 2\n",
      "tuner/initial_epoch: 0\n",
      "tuner/bracket: 4\n",
      "tuner/round: 0\n",
      "Score: 0.026920944452285767\n",
      "Trial summary\n",
      "Hyperparameters:\n",
      "output_dim: 20\n",
      "units: 96\n",
      "rate: 0.5000000000000001\n",
      "tuner/epochs: 2\n",
      "tuner/initial_epoch: 0\n",
      "tuner/bracket: 4\n",
      "tuner/round: 0\n",
      "Score: 0.027917757630348206\n",
      "Trial summary\n",
      "Hyperparameters:\n",
      "output_dim: 30\n",
      "units: 96\n",
      "rate: 0.30000000000000004\n",
      "tuner/epochs: 2\n",
      "tuner/initial_epoch: 0\n",
      "tuner/bracket: 4\n",
      "tuner/round: 0\n",
      "Score: 0.02922840788960457\n",
      "Trial summary\n",
      "Hyperparameters:\n",
      "output_dim: 10\n",
      "units: 96\n",
      "rate: 0.30000000000000004\n",
      "tuner/epochs: 2\n",
      "tuner/initial_epoch: 0\n",
      "tuner/bracket: 4\n",
      "tuner/round: 0\n",
      "Score: 0.032275762408971786\n",
      "Trial summary\n",
      "Hyperparameters:\n",
      "output_dim: 10\n",
      "units: 64\n",
      "rate: 0.30000000000000004\n",
      "tuner/epochs: 2\n",
      "tuner/initial_epoch: 0\n",
      "tuner/bracket: 4\n",
      "tuner/round: 0\n",
      "Score: 0.03304862603545189\n"
     ]
    }
   ],
   "source": [
    "tuner2.results_summary()"
   ]
  }
 ],
 "metadata": {
  "kernelspec": {
   "display_name": "Python 3 (ipykernel)",
   "language": "python",
   "name": "python3"
  },
  "language_info": {
   "codemirror_mode": {
    "name": "ipython",
    "version": 3
   },
   "file_extension": ".py",
   "mimetype": "text/x-python",
   "name": "python",
   "nbconvert_exporter": "python",
   "pygments_lexer": "ipython3",
   "version": "3.9.12"
  }
 },
 "nbformat": 4,
 "nbformat_minor": 5
}
