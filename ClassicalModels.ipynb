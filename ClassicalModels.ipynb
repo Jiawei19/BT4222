{
 "cells": [
  {
   "cell_type": "markdown",
   "id": "d2b32907",
   "metadata": {},
   "source": [
    "# Importing Libraries"
   ]
  },
  {
   "cell_type": "code",
   "execution_count": null,
   "id": "76ec742f",
   "metadata": {},
   "outputs": [],
   "source": [
    "import pandas as pd\n",
    "import numpy as np\n",
    "import matplotlib.pyplot as plt\n",
    "import gensim\n",
    "import sklearn\n",
    "\n",
    "# Model Building\n",
    "from sklearn.model_selection import train_test_split\n",
    "from sklearn.pipeline import Pipeline\n",
    "from sklearn.preprocessing import StandardScaler\n",
    "from sklearn.linear_model import LogisticRegression\n",
    "from sklearn.preprocessing import MinMaxScaler\n",
    "from sklearn.model_selection import cross_validate\n",
    "from sklearn.model_selection import ShuffleSplit\n",
    "from sklearn.naive_bayes import MultinomialNB\n",
    "from sklearn.naive_bayes import GaussianNB\n",
    "from sklearn.preprocessing import Normalizer\n",
    "from sklearn.svm import SVC\n",
    "from sklearn.ensemble import RandomForestClassifier\n",
    "from xgboost import XGBClassifier\n",
    "\n",
    "\n",
    "# Metrics\n",
    "from sklearn.metrics import fbeta_score\n",
    "\n",
    "# TF-IDF\n",
    "from sklearn.feature_extraction.text import TfidfVectorizer"
   ]
  },
  {
   "cell_type": "markdown",
   "id": "87b19941",
   "metadata": {},
   "source": [
    "# 1. Title - Metadata & Sentiment Features"
   ]
  },
  {
   "cell_type": "markdown",
   "id": "8d1fe92e",
   "metadata": {},
   "source": [
    "## Loading the dataset"
   ]
  },
  {
   "cell_type": "code",
   "execution_count": 2,
   "id": "a127eb20",
   "metadata": {},
   "outputs": [],
   "source": [
    "import pickle \n",
    "\n",
    "with open('news_final_dataset.pickle', 'rb') as file:\n",
    "    news = pickle.load(file)"
   ]
  },
  {
   "cell_type": "code",
   "execution_count": 3,
   "id": "2b860ec4",
   "metadata": {},
   "outputs": [],
   "source": [
    "X_train, X_test, y_train, y_test = news['X_train'], news['X_test'], news['y_train'], news['y_test']"
   ]
  },
  {
   "cell_type": "code",
   "execution_count": 4,
   "id": "04176303",
   "metadata": {},
   "outputs": [
    {
     "data": {
      "text/plain": [
       "Index(['title', 'text', 'subject', 'date', 'all_text', 'char_count',\n",
       "       'word_count', 'sent_count', 'capital_word_count', 'quoted_word_count',\n",
       "       'stopword_count', 'unique_word_count', 'punct_count', 'avg_wordlength',\n",
       "       'avg_sentlength', 'unique_vs_words', 'stopwords_vs_words', 'noun_count',\n",
       "       'adverb_count', 'sentiment_score', 'title_vect', 'text_vect',\n",
       "       'all_text_vect', 'char_count', 'word_count', 'sent_count',\n",
       "       'capital_word_count', 'quoted_word_count', 'stopword_count',\n",
       "       'unique_word_count', 'punct_count', 'avg_wordlength', 'avg_sentlength',\n",
       "       'unique_vs_words', 'stopwords_vs_words', 'noun_count', 'adverb_count',\n",
       "       'sentiment_score'],\n",
       "      dtype='object')"
      ]
     },
     "execution_count": 4,
     "metadata": {},
     "output_type": "execute_result"
    }
   ],
   "source": [
    "X_train.columns"
   ]
  },
  {
   "cell_type": "markdown",
   "id": "2dda4bb9",
   "metadata": {
    "tags": []
   },
   "source": [
    "# 1. Metadata and Sentiments - title only"
   ]
  },
  {
   "cell_type": "code",
   "execution_count": 5,
   "id": "80860f90",
   "metadata": {},
   "outputs": [],
   "source": [
    "X_train_title = X_train.iloc[:,23:]\n",
    "X_test_title = X_test.iloc[:,23:]\n",
    "y_train_title = y_train\n",
    "y_test_title = y_test"
   ]
  },
  {
   "cell_type": "code",
   "execution_count": 6,
   "id": "de73c46b",
   "metadata": {},
   "outputs": [
    {
     "data": {
      "text/html": [
       "<div>\n",
       "<style scoped>\n",
       "    .dataframe tbody tr th:only-of-type {\n",
       "        vertical-align: middle;\n",
       "    }\n",
       "\n",
       "    .dataframe tbody tr th {\n",
       "        vertical-align: top;\n",
       "    }\n",
       "\n",
       "    .dataframe thead th {\n",
       "        text-align: right;\n",
       "    }\n",
       "</style>\n",
       "<table border=\"1\" class=\"dataframe\">\n",
       "  <thead>\n",
       "    <tr style=\"text-align: right;\">\n",
       "      <th></th>\n",
       "      <th>char_count</th>\n",
       "      <th>word_count</th>\n",
       "      <th>sent_count</th>\n",
       "      <th>capital_word_count</th>\n",
       "      <th>quoted_word_count</th>\n",
       "      <th>stopword_count</th>\n",
       "      <th>unique_word_count</th>\n",
       "      <th>punct_count</th>\n",
       "      <th>avg_wordlength</th>\n",
       "      <th>avg_sentlength</th>\n",
       "      <th>unique_vs_words</th>\n",
       "      <th>stopwords_vs_words</th>\n",
       "      <th>noun_count</th>\n",
       "      <th>adverb_count</th>\n",
       "      <th>sentiment_score</th>\n",
       "    </tr>\n",
       "  </thead>\n",
       "  <tbody>\n",
       "    <tr>\n",
       "      <th>30958</th>\n",
       "      <td>71</td>\n",
       "      <td>12</td>\n",
       "      <td>1</td>\n",
       "      <td>0</td>\n",
       "      <td>0</td>\n",
       "      <td>3</td>\n",
       "      <td>12</td>\n",
       "      <td>0</td>\n",
       "      <td>5.916667</td>\n",
       "      <td>12.0</td>\n",
       "      <td>1.0</td>\n",
       "      <td>0.250000</td>\n",
       "      <td>4</td>\n",
       "      <td>0</td>\n",
       "      <td>0.6712</td>\n",
       "    </tr>\n",
       "    <tr>\n",
       "      <th>3203</th>\n",
       "      <td>72</td>\n",
       "      <td>10</td>\n",
       "      <td>1</td>\n",
       "      <td>2</td>\n",
       "      <td>0</td>\n",
       "      <td>0</td>\n",
       "      <td>10</td>\n",
       "      <td>1</td>\n",
       "      <td>7.200000</td>\n",
       "      <td>10.0</td>\n",
       "      <td>1.0</td>\n",
       "      <td>0.000000</td>\n",
       "      <td>3</td>\n",
       "      <td>0</td>\n",
       "      <td>0.0000</td>\n",
       "    </tr>\n",
       "    <tr>\n",
       "      <th>11208</th>\n",
       "      <td>127</td>\n",
       "      <td>21</td>\n",
       "      <td>2</td>\n",
       "      <td>3</td>\n",
       "      <td>0</td>\n",
       "      <td>3</td>\n",
       "      <td>21</td>\n",
       "      <td>4</td>\n",
       "      <td>6.047619</td>\n",
       "      <td>10.5</td>\n",
       "      <td>1.0</td>\n",
       "      <td>0.142857</td>\n",
       "      <td>11</td>\n",
       "      <td>1</td>\n",
       "      <td>0.5613</td>\n",
       "    </tr>\n",
       "    <tr>\n",
       "      <th>4923</th>\n",
       "      <td>81</td>\n",
       "      <td>13</td>\n",
       "      <td>1</td>\n",
       "      <td>1</td>\n",
       "      <td>0</td>\n",
       "      <td>1</td>\n",
       "      <td>13</td>\n",
       "      <td>2</td>\n",
       "      <td>6.230769</td>\n",
       "      <td>13.0</td>\n",
       "      <td>1.0</td>\n",
       "      <td>0.076923</td>\n",
       "      <td>4</td>\n",
       "      <td>1</td>\n",
       "      <td>-0.2839</td>\n",
       "    </tr>\n",
       "    <tr>\n",
       "      <th>14120</th>\n",
       "      <td>103</td>\n",
       "      <td>17</td>\n",
       "      <td>1</td>\n",
       "      <td>2</td>\n",
       "      <td>0</td>\n",
       "      <td>0</td>\n",
       "      <td>17</td>\n",
       "      <td>2</td>\n",
       "      <td>6.058824</td>\n",
       "      <td>17.0</td>\n",
       "      <td>1.0</td>\n",
       "      <td>0.000000</td>\n",
       "      <td>7</td>\n",
       "      <td>0</td>\n",
       "      <td>-0.8056</td>\n",
       "    </tr>\n",
       "  </tbody>\n",
       "</table>\n",
       "</div>"
      ],
      "text/plain": [
       "       char_count  word_count  sent_count  capital_word_count  \\\n",
       "30958          71          12           1                   0   \n",
       "3203           72          10           1                   2   \n",
       "11208         127          21           2                   3   \n",
       "4923           81          13           1                   1   \n",
       "14120         103          17           1                   2   \n",
       "\n",
       "       quoted_word_count  stopword_count  unique_word_count  punct_count  \\\n",
       "30958                  0               3                 12            0   \n",
       "3203                   0               0                 10            1   \n",
       "11208                  0               3                 21            4   \n",
       "4923                   0               1                 13            2   \n",
       "14120                  0               0                 17            2   \n",
       "\n",
       "       avg_wordlength  avg_sentlength  unique_vs_words  stopwords_vs_words  \\\n",
       "30958        5.916667            12.0              1.0            0.250000   \n",
       "3203         7.200000            10.0              1.0            0.000000   \n",
       "11208        6.047619            10.5              1.0            0.142857   \n",
       "4923         6.230769            13.0              1.0            0.076923   \n",
       "14120        6.058824            17.0              1.0            0.000000   \n",
       "\n",
       "       noun_count  adverb_count  sentiment_score  \n",
       "30958           4             0           0.6712  \n",
       "3203            3             0           0.0000  \n",
       "11208          11             1           0.5613  \n",
       "4923            4             1          -0.2839  \n",
       "14120           7             0          -0.8056  "
      ]
     },
     "execution_count": 6,
     "metadata": {},
     "output_type": "execute_result"
    }
   ],
   "source": [
    "X_train_title.head()"
   ]
  },
  {
   "cell_type": "markdown",
   "id": "7032040a",
   "metadata": {},
   "source": [
    "## Model Building"
   ]
  },
  {
   "cell_type": "code",
   "execution_count": 7,
   "id": "ae4405de",
   "metadata": {},
   "outputs": [
    {
     "data": {
      "text/plain": [
       "30958    0\n",
       "3203     1\n",
       "11208    1\n",
       "4923     1\n",
       "14120    1\n",
       "Name: fake, dtype: int64"
      ]
     },
     "execution_count": 7,
     "metadata": {},
     "output_type": "execute_result"
    }
   ],
   "source": [
    "y_train_title.head()"
   ]
  },
  {
   "cell_type": "markdown",
   "id": "9cb82d03",
   "metadata": {},
   "source": [
    "### 1.1 Logistic Regression"
   ]
  },
  {
   "cell_type": "code",
   "execution_count": null,
   "id": "a0577e43",
   "metadata": {},
   "outputs": [],
   "source": [
    "%%time\n",
    "lr_clf_title = Pipeline([\n",
    "    ('scaler', StandardScaler()),\n",
    "    ('clf', LogisticRegression(random_state=1))\n",
    "])\n",
    "\n",
    "cv = ShuffleSplit(n_splits=10, test_size=0.2, random_state=1)\n",
    "lr_cv_results_title = cross_validate(lr_clf_title, X_train_title, y_train_title, cv=cv, return_train_score=True)"
   ]
  },
  {
   "cell_type": "code",
   "execution_count": null,
   "id": "160540a0",
   "metadata": {},
   "outputs": [
    {
     "name": "stderr",
     "output_type": "stream",
     "text": [
      "<<<<<<< local <modified: text/plain>\n"
     ]
    },
    {
     "data": {
      "text/plain": [
       "{'fit_time': array([0.22749281, 0.22252488, 0.22786999, 0.20395589, 0.19286704,\n",
       "        0.16687298, 0.21369004, 0.17273688, 0.22287321, 0.16888499]),\n",
       " 'score_time': array([0.0049932 , 0.00378609, 0.00356507, 0.00461602, 0.00384402,\n",
       "        0.0034833 , 0.00571203, 0.00344992, 0.00422072, 0.00363302]),\n",
       " 'test_score': array([0.94002586, 0.94794698, 0.94406725, 0.94148076, 0.94180407,\n",
       "        0.94358228, 0.94115745, 0.94228904, 0.94083414, 0.9442289 ]),\n",
       " 'train_score': array([0.9434519 , 0.94135004, 0.94232013, 0.94320938, 0.94288601,\n",
       "        0.94211803, 0.94316896, 0.94292643, 0.94292643, 0.94236055])}"
      ]
     },
     "execution_count": 9,
     "metadata": {},
     "output_type": "execute_result"
    },
    {
     "name": "stderr",
     "output_type": "stream",
     "text": [
      "=======\n",
      ">>>>>>> remote <removed>\n"
     ]
    }
   ],
   "source": [
    "lr_cv_results_title"
   ]
  },
  {
   "cell_type": "code",
   "execution_count": null,
   "id": "37910d1e",
   "metadata": {},
   "outputs": [
    {
     "name": "stderr",
     "output_type": "stream",
     "text": [
      "<<<<<<< local <modified: >\n"
     ]
    },
    {
     "name": "stdout",
     "output_type": "stream",
     "text": [
      "Time for fitting classifier on the train set: 0.20197687149047852\n",
      "Time for scoring classifier on the validation set: 0.004130339622497559\n",
      "Accuracy of Train: 0.9426717865804365\n",
      "Accuracy of Validation: 0.9427416747494343\n"
     ]
    },
    {
     "name": "stderr",
     "output_type": "stream",
     "text": [
      "=======\n",
      ">>>>>>> remote <removed>\n"
     ]
    }
   ],
   "source": [
    "print(f'Time for fitting classifier on the train set: {lr_cv_results_title[\"fit_time\"].mean()}')\n",
    "print(f'Time for scoring classifier on the validation set: {lr_cv_results_title[\"score_time\"].mean()}')\n",
    "print(f'Accuracy of Train: {lr_cv_results_title[\"train_score\"].mean()}')\n",
    "print(f'Accuracy of Validation: {lr_cv_results_title[\"test_score\"].mean()}')"
   ]
  },
  {
   "cell_type": "markdown",
   "id": "8cfd42d1",
   "metadata": {},
   "source": [
    "### 1.2 Naive Bayes"
   ]
  },
  {
   "cell_type": "code",
   "execution_count": null,
   "id": "c8a4395a",
   "metadata": {},
   "outputs": [],
   "source": [
    "%%time\n",
    "gnb_clf_title = Pipeline([\n",
    "    ('scale', Normalizer()),\n",
    "    ('clf', GaussianNB())\n",
    "])\n",
    "\n",
    "gnb_cv_results_title = cross_validate(gnb_clf_title, X_train_title, y_train_title, cv=cv, return_train_score=True)"
   ]
  },
  {
   "cell_type": "code",
   "execution_count": null,
   "id": "b060152c",
   "metadata": {},
   "outputs": [],
   "source": [
    "gnb_cv_results_title"
   ]
  },
  {
   "cell_type": "code",
   "execution_count": null,
   "id": "91d44021",
   "metadata": {},
   "outputs": [],
   "source": [
    "print(f'Time for fitting classifier on the train set: {gnb_cv_results_title[\"fit_time\"].mean()}')\n",
    "print(f'Time for scoring classifier on the validation set: {gnb_cv_results_title[\"score_time\"].mean()}')\n",
    "print(f'Accuracy of Train: {gnb_cv_results_title[\"train_score\"].mean()}')\n",
    "print(f'Accuracy of Validation: {gnb_cv_results_title[\"test_score\"].mean()}')"
   ]
  },
  {
   "cell_type": "markdown",
   "id": "abd99da3",
   "metadata": {},
   "source": [
    "### 1.3 SVM"
   ]
  },
  {
   "cell_type": "code",
   "execution_count": null,
   "id": "8975a8d5",
   "metadata": {},
   "outputs": [],
   "source": [
    "%%time\n",
    "\n",
    "svm_clf_title = Pipeline([\n",
    "    ('scale', StandardScaler()),\n",
    "    ('clf', SVC(random_state=1))\n",
    "])\n",
    "\n",
    "svm_cv_results_title = cross_validate(svm_clf_title, X_train_title, y_train_title, cv=cv, return_train_score=True)"
   ]
  },
  {
   "cell_type": "code",
   "execution_count": null,
   "id": "e23c805d",
   "metadata": {},
   "outputs": [],
   "source": [
    "svm_cv_results_title"
   ]
  },
  {
   "cell_type": "code",
   "execution_count": null,
   "id": "c6150efb",
   "metadata": {},
   "outputs": [],
   "source": [
    "print(f'Time for fitting classifier on the train set: {svm_cv_results_title[\"fit_time\"].mean()}')\n",
    "print(f'Time for scoring classifier on the validation set: {svm_cv_results_title[\"score_time\"].mean()}')\n",
    "print(f'Accuracy of Train: {svm_cv_results_title[\"train_score\"].mean()}')\n",
    "print(f'Accuracy of Validation: {svm_cv_results_title[\"test_score\"].mean()}')"
   ]
  },
  {
   "cell_type": "markdown",
   "id": "254cec84",
   "metadata": {},
   "source": [
    "### 1.4 Random Forest"
   ]
  },
  {
   "cell_type": "code",
   "execution_count": null,
   "id": "9c558da3",
   "metadata": {},
   "outputs": [],
   "source": [
    "%%time\n",
    "\n",
    "rf_clf_title = Pipeline([\n",
    "    ('scale', StandardScaler()),\n",
    "    ('clf', RandomForestClassifier(random_state=1))\n",
    "])\n",
    "\n",
    "rf_cv_results_title = cross_validate(rf_clf_title, X_train_title, y_train_title, cv=cv, return_train_score=True)"
   ]
  },
  {
   "cell_type": "code",
   "execution_count": null,
   "id": "a86891e0",
   "metadata": {},
   "outputs": [],
   "source": [
    "rf_cv_results_title"
   ]
  },
  {
   "cell_type": "code",
   "execution_count": null,
   "id": "2d3179cb",
   "metadata": {},
   "outputs": [],
   "source": [
    "print(f'Time for fitting classifier on the train set: {rf_cv_results_title[\"fit_time\"].mean()}')\n",
    "print(f'Time for scoring classifier on the validation set: {rf_cv_results_title[\"score_time\"].mean()}')\n",
    "print(f'Accuracy of Train: {rf_cv_results_title[\"train_score\"].mean()}')\n",
    "print(f'Accuracy of Validation: {rf_cv_results_title[\"test_score\"].mean()}')"
   ]
  },
  {
   "cell_type": "markdown",
   "id": "33ebd255",
   "metadata": {},
   "source": [
    "### 1.5 XGBoost"
   ]
  },
  {
   "cell_type": "code",
   "execution_count": null,
   "id": "d2348c56",
   "metadata": {},
   "outputs": [],
   "source": [
    "%%time\n",
    "\n",
    "xgboost_clf_title = Pipeline([\n",
    "    ('scale', StandardScaler()),\n",
    "    ('clf', XGBClassifier(random_state=1))\n",
    "])\n",
    "\n",
    "xgboost_cv_results_title = cross_validate(xgboost_clf_title, X_train_title, y_train_title, cv=cv, return_train_score=True)"
   ]
  },
  {
   "cell_type": "code",
   "execution_count": null,
   "id": "115e177a",
   "metadata": {},
   "outputs": [],
   "source": [
    "xgboost_cv_results_title"
   ]
  },
  {
   "cell_type": "code",
   "execution_count": null,
   "id": "26ac530c",
   "metadata": {},
   "outputs": [],
   "source": [
    "print(f'Time for fitting classifier on the train set: {xgboost_cv_results_title[\"fit_time\"].mean()}')\n",
    "print(f'Time for scoring classifier on the validation set: {xgboost_cv_results_title[\"score_time\"].mean()}')\n",
    "print(f'Accuracy of Train: {xgboost_cv_results_title[\"train_score\"].mean()}')\n",
    "print(f'Accuracy of Validation: {xgboost_cv_results_title[\"test_score\"].mean()}')"
   ]
  },
  {
   "cell_type": "markdown",
   "id": "118775bc",
   "metadata": {},
   "source": [
    "## Storing Title Results"
   ]
  },
  {
   "cell_type": "code",
   "execution_count": null,
   "id": "3b8023a5",
   "metadata": {},
   "outputs": [],
   "source": [
    "results_title = pd.DataFrame(index=['Logistic Regression', 'Gaussian Naive Bayes', 'Support Vector Machine', 'Random Forest', 'XGBoost'])\n",
    "\n",
    "results_title.loc['Logistic Regression', 'train_acc'] = lr_cv_results_title[\"train_score\"].mean()\n",
    "results_title.loc['Logistic Regression', 'val_acc'] = lr_cv_results_title[\"test_score\"].mean()\n",
    "results_title.loc['Logistic Regression', 'fit_time'] = lr_cv_results_title[\"fit_time\"].mean()\n",
    "\n",
    "results_title.loc['Gaussian Naive Bayes', 'train_acc'] = gnb_cv_results_title[\"train_score\"].mean()\n",
    "results_title.loc['Gaussian Naive Bayes', 'val_acc'] = gnb_cv_results_title[\"test_score\"].mean()\n",
    "results_title.loc['Gaussian Naive Bayes', 'fit_time'] = gnb_cv_results_title[\"fit_time\"].mean()\n",
    "\n",
    "results_title.loc['Support Vector Machine', 'train_acc'] = svm_cv_results_title[\"train_score\"].mean()\n",
    "results_title.loc['Support Vector Machine', 'val_acc'] = svm_cv_results_title[\"test_score\"].mean()\n",
    "results_title.loc['Support Vector Machine', 'fit_time'] = svm_cv_results_title[\"fit_time\"].mean()\n",
    "\n",
    "results_title.loc['Random Forest', 'train_acc'] = rf_cv_results_title[\"train_score\"].mean()\n",
    "results_title.loc['Random Forest', 'val_acc'] = rf_cv_results_title[\"test_score\"].mean()\n",
    "results_title.loc['Random Forest', 'fit_time'] = rf_cv_results_title[\"fit_time\"].mean()\n",
    "\n",
    "results_title.loc['XGBoost', 'train_acc'] = xgboost_cv_results_title[\"train_score\"].mean()\n",
    "results_title.loc['XGBoost', 'val_acc'] = xgboost_cv_results_title[\"test_score\"].mean()\n",
    "results_title.loc['XGBoost', 'fit_time'] = xgboost_cv_results_title[\"fit_time\"].mean()"
   ]
  },
  {
   "cell_type": "code",
   "execution_count": null,
   "id": "7d6a4890",
   "metadata": {},
   "outputs": [],
   "source": [
    "results_title"
   ]
  },
  {
   "cell_type": "markdown",
   "id": "f2de157c",
   "metadata": {},
   "source": [
    "# 2. Metadata and sentiments - all text"
   ]
  },
  {
   "cell_type": "code",
   "execution_count": null,
   "id": "28c02fa4",
   "metadata": {},
   "outputs": [],
   "source": [
    "X_train_text = X_train.iloc[:,5:20]\n",
    "X_test_text = X_test.iloc[:,5:20]\n",
    "y_train_text = y_train\n",
    "y_test_text = y_test"
   ]
  },
  {
   "cell_type": "markdown",
   "id": "bf511776",
   "metadata": {},
   "source": [
    "# 2. All Text - Metadata & Sentiment Features"
   ]
  },
  {
   "cell_type": "markdown",
   "id": "7ec94cc6",
   "metadata": {},
   "source": [
    "## Model Building"
   ]
  },
  {
   "cell_type": "code",
   "execution_count": null,
   "id": "62d381fa",
   "metadata": {},
   "outputs": [],
   "source": [
    "X_train_text.head()"
   ]
  },
  {
   "cell_type": "markdown",
   "id": "7ed9e6db",
   "metadata": {},
   "source": [
    "### 2.1 Logistic Regression"
   ]
  },
  {
   "cell_type": "code",
   "execution_count": null,
   "id": "59f2a8f4",
   "metadata": {},
   "outputs": [],
   "source": [
    "%%time \n",
    "\n",
    "lr_clf = Pipeline([\n",
    "    ('scaler', StandardScaler()),\n",
    "    ('clf', LogisticRegression(random_state=1))\n",
    "])\n",
    "\n",
    "lr_cv_results = cross_validate(lr_clf, X_train, y_train, cv=cv, return_train_score=True)"
   ]
  },
  {
   "cell_type": "code",
   "execution_count": null,
   "id": "5c9bbcb9",
   "metadata": {},
   "outputs": [],
   "source": [
    "lr_cv_results"
   ]
  },
  {
   "cell_type": "code",
   "execution_count": null,
   "id": "a73b6c22",
   "metadata": {},
   "outputs": [],
   "source": [
    "print(f'Time for fitting classifier on the train set: {lr_cv_results[\"fit_time\"].mean()}')\n",
    "print(f'Time for scoring classifier on the validation set: {lr_cv_results[\"score_time\"].mean()}')\n",
    "print(f'Accuracy of Train: {lr_cv_results[\"train_score\"].mean()}')\n",
    "print(f'Accuracy of Validation: {lr_cv_results[\"test_score\"].mean()}')"
   ]
  },
  {
   "cell_type": "markdown",
   "id": "b26fde0e",
   "metadata": {},
   "source": [
    "### 2.2 Naive Bayes"
   ]
  },
  {
   "cell_type": "code",
   "execution_count": null,
   "id": "de20dad3",
   "metadata": {},
   "outputs": [],
   "source": [
    "%%time\n",
    "\n",
    "gnb_clf = Pipeline([\n",
    "    ('scale', Normalizer()),\n",
    "    ('clf', GaussianNB())\n",
    "])\n",
    "\n",
    "gnb_cv_results = cross_validate(gnb_clf, X_train_text, y_train_text, cv=cv, return_train_score=True)"
   ]
  },
  {
   "cell_type": "code",
   "execution_count": null,
   "id": "d88aee4f",
   "metadata": {},
   "outputs": [],
   "source": [
    "gnb_cv_results"
   ]
  },
  {
   "cell_type": "code",
   "execution_count": null,
   "id": "d64db8a7",
   "metadata": {},
   "outputs": [],
   "source": [
    "print(f'Time for fitting classifier on the train set: {gnb_cv_results[\"fit_time\"].mean()}')\n",
    "print(f'Time for scoring classifier on the validation set: {gnb_cv_results[\"score_time\"].mean()}')\n",
    "print(f'Accuracy of Train: {gnb_cv_results[\"train_score\"].mean()}')\n",
    "print(f'Accuracy of Validation: {gnb_cv_results[\"test_score\"].mean()}')"
   ]
  },
  {
   "cell_type": "markdown",
   "id": "d5526cfd",
   "metadata": {},
   "source": [
    "### 2.3 SVM"
   ]
  },
  {
   "cell_type": "code",
   "execution_count": null,
   "id": "660aa5c1",
   "metadata": {},
   "outputs": [],
   "source": [
    "%%time\n",
    "\n",
    "svm_clf = Pipeline([\n",
    "    ('scale', StandardScaler()),\n",
    "    ('clf', SVC(random_state=1))\n",
    "])\n",
    "\n",
    "svm_cv_results = cross_validate(svm_clf, X_train_text, y_train_text, cv=cv, return_train_score=True)"
   ]
  },
  {
   "cell_type": "code",
   "execution_count": null,
   "id": "57e0b242",
   "metadata": {},
   "outputs": [],
   "source": [
    "svm_cv_results"
   ]
  },
  {
   "cell_type": "code",
   "execution_count": null,
   "id": "a68d7f93",
   "metadata": {},
   "outputs": [],
   "source": [
    "print(f'Time for fitting classifier on the train set: {svm_cv_results[\"fit_time\"].mean()}')\n",
    "print(f'Time for scoring classifier on the validation set: {svm_cv_results[\"score_time\"].mean()}')\n",
    "print(f'Accuracy of Train: {svm_cv_results[\"train_score\"].mean()}')\n",
    "print(f'Accuracy of Validation: {svm_cv_results[\"test_score\"].mean()}')"
   ]
  },
  {
   "cell_type": "markdown",
   "id": "3e6cd049",
   "metadata": {},
   "source": [
    "### 2.4 Random Forest"
   ]
  },
  {
   "cell_type": "code",
   "execution_count": null,
   "id": "5e9ac93c",
   "metadata": {},
   "outputs": [],
   "source": [
    "%%time\n",
    "\n",
    "rf_clf = Pipeline([\n",
    "    ('scale', StandardScaler()),\n",
    "    ('clf', RandomForestClassifier(random_state=1))\n",
    "])\n",
    "\n",
    "rf_cv_results = cross_validate(rf_clf, X_train_text, y_train_text, cv=cv, return_train_score=True)"
   ]
  },
  {
   "cell_type": "code",
   "execution_count": null,
   "id": "123f2e1d",
   "metadata": {},
   "outputs": [],
   "source": [
    "rf_cv_results"
   ]
  },
  {
   "cell_type": "code",
   "execution_count": null,
   "id": "e7b00a56",
   "metadata": {},
   "outputs": [],
   "source": [
    "print(f'Time for fitting classifier on the train set: {rf_cv_results[\"fit_time\"].mean()}')\n",
    "print(f'Time for scoring classifier on the validation set: {rf_cv_results[\"score_time\"].mean()}')\n",
    "print(f'Accuracy of Train: {rf_cv_results[\"train_score\"].mean()}')\n",
    "print(f'Accuracy of Validation: {rf_cv_results[\"test_score\"].mean()}')"
   ]
  },
  {
   "cell_type": "markdown",
   "id": "6221b959",
   "metadata": {},
   "source": [
    "### 2.5 XGBoost"
   ]
  },
  {
   "cell_type": "code",
   "execution_count": null,
   "id": "d7fa041d",
   "metadata": {},
   "outputs": [],
   "source": [
    "%%time\n",
    "\n",
    "xgboost_clf = Pipeline([\n",
    "    ('scale', StandardScaler()),\n",
    "    ('clf', XGBClassifier(random_state=1))\n",
    "])\n",
    "\n",
    "xgboost_cv_results = cross_validate(xgboost_clf, X_train_text, y_train_text, cv=cv, return_train_score=True)"
   ]
  },
  {
   "cell_type": "code",
   "execution_count": null,
   "id": "b30fed93",
   "metadata": {},
   "outputs": [],
   "source": [
    "xgboost_cv_results"
   ]
  },
  {
   "cell_type": "code",
   "execution_count": null,
   "id": "4528f13e",
   "metadata": {},
   "outputs": [],
   "source": [
    "print(f'Time for fitting classifier on the train set: {xgboost_cv_results[\"fit_time\"].mean()}')\n",
    "print(f'Time for scoring classifier on the validation set: {xgboost_cv_results[\"score_time\"].mean()}')\n",
    "print(f'Accuracy of Train: {xgboost_cv_results[\"train_score\"].mean()}')\n",
    "print(f'Accuracy of Validation: {xgboost_cv_results[\"test_score\"].mean()}')"
   ]
  },
  {
   "cell_type": "markdown",
   "id": "d4b5b6cc",
   "metadata": {},
   "source": [
    "## Storing All Text Results"
   ]
  },
  {
   "cell_type": "code",
   "execution_count": null,
   "id": "7c601d71",
   "metadata": {},
   "outputs": [],
   "source": [
    "results_all_text = pd.DataFrame(index=['Logistic Regression', 'Gaussian Naive Bayes', 'Support Vector Machine', 'Random Forest', 'XGBoost'])\n",
    "\n",
    "results_all_text.loc['Logistic Regression', 'train_acc'] = lr_cv_results[\"train_score\"].mean()\n",
    "results_all_text.loc['Logistic Regression', 'val_acc'] = lr_cv_results[\"test_score\"].mean()\n",
    "results_all_text.loc['Logistic Regression', 'fit_time'] = lr_cv_results[\"fit_time\"].mean()\n",
    "\n",
    "results_all_text.loc['Gaussian Naive Bayes', 'train_acc'] = gnb_cv_results[\"train_score\"].mean()\n",
    "results_all_text.loc['Gaussian Naive Bayes', 'val_acc'] = gnb_cv_results[\"test_score\"].mean()\n",
    "results_all_text.loc['Gaussian Naive Bayes', 'fit_time'] = gnb_cv_results[\"fit_time\"].mean()\n",
    "\n",
    "results_all_text.loc['Support Vector Machine', 'train_acc'] = svm_cv_results[\"train_score\"].mean()\n",
    "results_all_text.loc['Support Vector Machine', 'val_acc'] = svm_cv_results[\"test_score\"].mean()\n",
    "results_all_text.loc['Support Vector Machine', 'fit_time'] = svm_cv_results[\"fit_time\"].mean()\n",
    "\n",
    "results_all_text.loc['Random Forest', 'train_acc'] = rf_cv_results[\"train_score\"].mean()\n",
    "results_all_text.loc['Random Forest', 'val_acc'] = rf_cv_results[\"test_score\"].mean()\n",
    "results_all_text.loc['Random Forest', 'fit_time'] = rf_cv_results[\"fit_time\"].mean()\n",
    "\n",
    "results_all_text.loc['XGBoost', 'train_acc'] = xgboost_cv_results[\"train_score\"].mean()\n",
    "results_all_text.loc['XGBoost', 'val_acc'] = xgboost_cv_results[\"test_score\"].mean()\n",
    "results_all_text.loc['XGBoost', 'fit_time'] = xgboost_cv_results[\"fit_time\"].mean()"
   ]
  },
  {
   "cell_type": "code",
   "execution_count": null,
   "id": "ae5c492c",
   "metadata": {},
   "outputs": [],
   "source": [
    "results_all_text"
   ]
  },
  {
   "cell_type": "markdown",
   "id": "fb9cc994",
   "metadata": {},
   "source": [
    "# 3. Comparing Validation Accuracy and Fit Time"
   ]
  },
  {
   "cell_type": "code",
   "execution_count": null,
   "id": "de7a7a39",
   "metadata": {},
   "outputs": [],
   "source": [
    "from IPython.display import display_html \n",
    "\n",
    "results_title_style = results_title.style.set_table_attributes(\"style='display:inline; margin-right:20px;'\").set_caption(\"Title Only\")\n",
    "results_all_text_style = results_all_text.style.set_table_attributes(\"style='display:inline'\").set_caption(\"Title & Text\")\n",
    "\n",
    "display_html(results_title_style._repr_html_() + results_all_text_style._repr_html_(), raw=True)"
   ]
  },
  {
   "cell_type": "markdown",
   "id": "e43d2eba",
   "metadata": {},
   "source": [
    "1. SVM takes the longest to fit across both experiments\n",
    "2. For title only, although SVM performed the best, XGBoost wasn't far off in terms of validation accuracy and took 6.5 times less to fit\n",
    "3. For all text, although SVM performed the best, the long fitting time dissauades us from using it, instead XGBoost or even Random Forest would be a better choice\n",
    "4. On average, validation accuracy for title is higher than that of all text, hence we could say that we are able to predict if an article is real based on the title alone"
   ]
  },
  {
   "cell_type": "markdown",
   "id": "4bd96995",
   "metadata": {},
   "source": [
    "# 4. Title - Test Accuracy"
   ]
  },
  {
   "cell_type": "code",
   "execution_count": null,
   "id": "3cb80798",
   "metadata": {},
   "outputs": [],
   "source": [
    "results_title_final = pd.DataFrame(index=['Logistic Regression', 'Gaussian Naive Bayes', 'Support Vector Machine', 'Random Forest', 'XGBoost'])"
   ]
  },
  {
   "cell_type": "code",
   "execution_count": null,
   "id": "7ecd04e6",
   "metadata": {},
   "outputs": [],
   "source": [
    "# Linear Regression\n",
    "lr_clf_title = sklearn.base.clone(lr_clf_title)\n",
    "lr_clf_title.fit(X_train_title, y_train_title)\n",
    "lr_clf_title_train_acc = lr_clf_title.score(X_train_title, y_train_title)\n",
    "lr_clf_title_test_acc = lr_clf_title.score(X_test_title, y_test_title)\n",
    "results_title_final.loc['Logistic Regression', 'train_acc'] = lr_clf_title_train_acc\n",
    "results_title_final.loc['Logistic Regression', 'test_acc'] = lr_clf_title_test_acc\n",
    "lr_y_pred_title = lr_clf_title.predict(X_test_title)\n",
    "results_title_final.loc['Logistic Regression', 'F1-Weighted'] = fbeta_score(y_test_title, lr_y_pred_title, beta=1, average=\"weighted\")\n",
    "results_title_final.loc['Logistic Regression', 'F2-Weighted'] = fbeta_score(y_test_title, lr_y_pred_title, beta=2, average=\"weighted\")\n",
    "\n",
    "\n",
    "# Naive Bayes\n",
    "gnb_clf_title = sklearn.base.clone(gnb_clf_title)\n",
    "gnb_clf_title.fit(X_train_title, y_train_title)\n",
    "gnb_clf_title_train_acc = gnb_clf_title.score(X_train_title, y_train_title)\n",
    "gnb_clf_title_test_acc = gnb_clf_title.score(X_test_title, y_test_title)\n",
    "results_title_final.loc['Gaussian Naive Bayes', 'train_acc'] = gnb_clf_title_train_acc\n",
    "results_title_final.loc['Gaussian Naive Bayes', 'test_acc'] = gnb_clf_title_test_acc\n",
    "gnb_y_pred_title = gnb_clf_title.predict(X_test_title)\n",
    "results_title_final.loc['Gaussian Naive Bayes', 'F1-Weighted'] = fbeta_score(y_test_title, gnb_y_pred_title, beta=1, average=\"weighted\")\n",
    "results_title_final.loc['Gaussian Naive Bayes', 'F2-Weighted'] = fbeta_score(y_test_title, gnb_y_pred_title, beta=2, average=\"weighted\")\n",
    "\n",
    "# SVM\n",
    "svm_clf_title = sklearn.base.clone(svm_clf_title)\n",
    "svm_clf_title.fit(X_train_title, y_train_title)\n",
    "svm_clf_title_train_acc = svm_clf_title.score(X_train_title, y_train_title)\n",
    "svm_clf_title_test_acc = svm_clf_title.score(X_test_title, y_test_title)\n",
    "results_title_final.loc['Support Vector Machine', 'train_acc'] = svm_clf_title_train_acc\n",
    "results_title_final.loc['Support Vector Machine', 'test_acc'] = svm_clf_title_test_acc\n",
    "svm_y_pred_title = svm_clf_title.predict(X_test_title)\n",
    "results_title_final.loc['Support Vector Machine', 'F1-Weighted'] = fbeta_score(y_test_title, svm_y_pred_title, beta=1, average=\"weighted\")\n",
    "results_title_final.loc['Support Vector Machine', 'F2-Weighted'] = fbeta_score(y_test_title, svm_y_pred_title, beta=2, average=\"weighted\")\n",
    "\n",
    "# Random Forest\n",
    "rf_clf_title = sklearn.base.clone(rf_clf_title)\n",
    "rf_clf_title.fit(X_train_title, y_train_title)\n",
    "rf_clf_title_train_acc = rf_clf_title.score(X_train_title, y_train_title)\n",
    "rf_clf_title_test_acc = rf_clf_title.score(X_test_title, y_test_title)\n",
    "results_title_final.loc['Random Forest', 'train_acc'] = rf_clf_title_train_acc\n",
    "results_title_final.loc['Random Forest', 'test_acc'] = rf_clf_title_test_acc\n",
    "rf_y_pred_title = rf_clf_title.predict(X_test_title)\n",
    "results_title_final.loc['Random Forest', 'F1-Weighted'] = fbeta_score(y_test_title, rf_y_pred_title, beta=1, average=\"weighted\")\n",
    "results_title_final.loc['Random Forest', 'F2-Weighted'] = fbeta_score(y_test_title, rf_y_pred_title, beta=2, average=\"weighted\")\n",
    "\n",
    "# XGBoost\n",
    "xgboost_clf_title = sklearn.base.clone(xgboost_clf_title)\n",
    "xgboost_clf_title.fit(X_train_title, y_train_title)\n",
    "xgboost_clf_title_train_acc = xgboost_clf_title.score(X_train_title, y_train_title)\n",
    "xgboost_clf_title_test_acc = xgboost_clf_title.score(X_test_title, y_test_title)\n",
    "results_title_final.loc['XGBoost', 'train_acc'] = xgboost_clf_title_train_acc\n",
    "results_title_final.loc['XGBoost', 'test_acc'] = xgboost_clf_title_test_acc\n",
    "xgboost_y_pred_title = xgboost_clf_title.predict(X_test_title)\n",
    "results_title_final.loc['XGBoost', 'F1-Weighted'] = fbeta_score(y_test_title, xgboost_y_pred_title, beta=1, average=\"weighted\")\n",
    "results_title_final.loc['XGBoost', 'F2-Weighted'] = fbeta_score(y_test_title, xgboost_y_pred_title, beta=2, average=\"weighted\")\n",
    "\n",
    "results_title_final\n",
    ""
   ]
  },
  {
   "cell_type": "markdown",
   "id": "e8794d35",
   "metadata": {},
   "source": [
    "# 5. All Text - Test Accuracy"
   ]
  },
  {
   "cell_type": "code",
   "execution_count": null,
   "id": "a4c59f6e",
   "metadata": {},
   "outputs": [],
   "source": [
    "results_all_final = pd.DataFrame(index=['Logistic Regression', 'Gaussian Naive Bayes', 'Support Vector Machine', 'Random Forest', 'XGBoost'])"
   ]
  },
  {
   "cell_type": "code",
   "execution_count": null,
   "id": "e3b59066",
   "metadata": {},
   "outputs": [],
   "source": [
    "# Linear Regression\n",
    "lr_clf = sklearn.base.clone(lr_clf)\n",
    "lr_clf.fit(X_train, y_train)\n",
    "lr_all_train_acc = lr_clf.score(X_train, y_train)\n",
    "lr_all_test_acc = lr_clf.score(X_test, y_test)\n",
    "results_all_final.loc['Logistic Regression', 'train_acc'] = lr_all_train_acc\n",
    "results_all_final.loc['Logistic Regression', 'test_acc'] = lr_all_test_acc\n",
    "lr_y_pred = lr_clf.predict(X_test)\n",
    "results_all_final.loc['Logistic Regression', 'F1-Weighted'] = fbeta_score(y_test, lr_y_pred, beta=1, average=\"weighted\")\n",
    "results_all_final.loc['Logistic Regression', 'F2-Weighted'] = fbeta_score(y_test, lr_y_pred, beta=2, average=\"weighted\")\n",
    "\n",
    "# Naive Bayes\n",
    "gnb_clf = sklearn.base.clone(gnb_clf)\n",
    "gnb_clf.fit(X_train, y_train)\n",
    "gnb_all_train_acc = gnb_clf.score(X_train, y_train)\n",
    "gnb_all_test_acc = gnb_clf.score(X_test, y_test)\n",
    "results_all_final.loc['Gaussian Naive Bayes', 'train_acc'] = gnb_all_train_acc\n",
    "results_all_final.loc['Gaussian Naive Bayes', 'test_acc'] = gnb_all_test_acc\n",
    "gnb_y_pred = gnb_clf.predict(X_test)\n",
    "results_all_final.loc['Gaussian Naive Bayes', 'F1-Weighted'] = fbeta_score(y_test, gnb_y_pred, beta=1, average=\"weighted\")\n",
    "results_all_final.loc['Gaussian Naive Bayes', 'F2-Weighted'] = fbeta_score(y_test, gnb_y_pred, beta=2, average=\"weighted\")\n",
    "\n",
    "# SVM\n",
    "svm_clf = sklearn.base.clone(svm_clf)\n",
    "svm_clf.fit(X_train, y_train)\n",
    "svm_all_train_acc = svm_clf.score(X_train, y_train)\n",
    "svm_all_test_acc = svm_clf.score(X_test, y_test)\n",
    "results_all_final.loc['Support Vector Machine', 'train_acc'] = svm_all_train_acc\n",
    "results_all_final.loc['Support Vector Machine', 'test_acc'] = svm_all_test_acc\n",
    "svm_y_pred = svm_clf.predict(X_test)\n",
    "results_all_final.loc['Support Vector Machine', 'F1-Weighted'] = fbeta_score(y_test, svm_y_pred, beta=1, average=\"weighted\")\n",
    "results_all_final.loc['Support Vector Machine', 'F2-Weighted'] = fbeta_score(y_test, svm_y_pred, beta=2, average=\"weighted\")\n",
    "\n",
    "# Random Forest\n",
    "rf_clf = sklearn.base.clone(rf_clf)\n",
    "rf_clf.fit(X_train, y_train)\n",
    "rf_all_train_acc = rf_clf.score(X_train, y_train)\n",
    "rf_all_test_acc = rf_clf.score(X_test, y_test)\n",
    "results_all_final.loc['Random Forest', 'train_acc'] = rf_all_train_acc\n",
    "results_all_final.loc['Random Forest', 'test_acc'] = rf_all_test_acc\n",
    "rf_y_pred = rf_clf.predict(X_test)\n",
    "results_all_final.loc['Random Forest', 'F1-Weighted'] = fbeta_score(y_test, rf_y_pred, beta=1, average=\"weighted\")\n",
    "results_all_final.loc['Random Forest', 'F2-Weighted'] = fbeta_score(y_test, rf_y_pred, beta=2, average=\"weighted\")\n",
    "\n",
    "# XGBoost\n",
    "xgboost_clf = sklearn.base.clone(xgboost_clf)\n",
    "xgboost_clf.fit(X_train, y_train)\n",
    "xgboost_all_train_acc = xgboost_clf.score(X_train, y_train)\n",
    "xgboost_all_test_acc = xgboost_clf.score(X_test, y_test)\n",
    "results_all_final.loc['XGBoost', 'train_acc'] = xgboost_all_train_acc\n",
    "results_all_final.loc['XGBoost', 'test_acc'] = xgboost_all_test_acc\n",
    "xgboost_y_pred = xgboost_clf.predict(X_test)\n",
    "results_all_final.loc['XGBoost', 'F1-Weighted'] = fbeta_score(y_test, xgboost_y_pred, beta=1, average=\"weighted\")\n",
    "results_all_final.loc['XGBoost', 'F2-Weighted'] = fbeta_score(y_test, xgboost_y_pred, beta=2, average=\"weighted\")\n",
    "\n",
    "results_all_final"
   ]
  },
  {
   "cell_type": "code",
   "execution_count": null,
   "id": "0b71b02e",
   "metadata": {},
   "outputs": [],
   "source": [
    "results_title_style = results_title_final.style.set_table_attributes(\"style='display:inline; margin-right:20px;'\").set_caption(\"Title Only\")\n",
    "results_all_text_style = results_all_final.style.set_table_attributes(\"style='display:inline'\").set_caption(\"Title & Text\")\n",
    "\n",
    "display_html(results_title_style._repr_html_() + results_all_text_style._repr_html_(), raw=True)"
   ]
  },
  {
   "cell_type": "code",
   "execution_count": null,
   "id": "a80188e5",
   "metadata": {
    "id": "ca6bdbc9"
   },
   "outputs": [],
   "source": [
    "X_train_vec = X_train['all_text']\n",
    "X_test_vec = X_test['all_text']"
   ]
  },
  {
   "cell_type": "code",
   "execution_count": null,
   "id": "e6acd4b4",
   "metadata": {},
   "outputs": [],
   "source": [
    "X_train_vec"
   ]
  },
  {
   "cell_type": "markdown",
   "id": "efabedde",
   "metadata": {},
   "source": [
    "# 6. TF-IDF"
   ]
  },
  {
   "cell_type": "markdown",
   "id": "53b337d1",
   "metadata": {},
   "source": [
    "## 6.1 All Text"
   ]
  },
  {
   "cell_type": "markdown",
   "id": "751e0be0",
   "metadata": {},
   "source": [
    "### 6.1.2 Transforming All Text to Vectors"
   ]
  },
  {
   "cell_type": "code",
   "execution_count": null,
   "id": "a71aa894",
   "metadata": {
    "id": "DKLXJF36ixTI"
   },
   "outputs": [],
   "source": [
    "vectorization = TfidfVectorizer()\n",
    "X_train_vec = vectorization.fit_transform(X_train_vec)\n",
    "X_test_vec = vectorization.transform(X_test_vec)"
   ]
  },
  {
   "cell_type": "markdown",
   "id": "5cb97310",
   "metadata": {},
   "source": [
    "### 6.1.3 Model Building"
   ]
  },
  {
   "cell_type": "code",
   "execution_count": null,
   "id": "5d4d4ad7",
   "metadata": {},
   "outputs": [],
   "source": [
    "nlp_results = {}"
   ]
  },
  {
   "cell_type": "markdown",
   "id": "1c8afcdd",
   "metadata": {},
   "source": [
    "#### 6.1.3.1 Logistic Regression"
   ]
  },
  {
   "cell_type": "code",
   "execution_count": null,
   "id": "e72ddf3f",
   "metadata": {},
   "outputs": [],
   "source": [
    "LR = LogisticRegression()\n",
    "LR.fit(X_train_vec, y_train)\n",
    "nlp_results['LR'] = [LR.score(X_train_vec, y_train), LR.score(X_test_vec, y_test)] "
   ]
  },
  {
   "cell_type": "markdown",
   "id": "debb20ce",
   "metadata": {},
   "source": [
    "#### 6.1.3.2 Naive Bayes"
   ]
  },
  {
   "cell_type": "code",
   "execution_count": null,
   "id": "c51469a0",
   "metadata": {},
   "outputs": [],
   "source": [
    "NB = MultinomialNB().fit(X_train_vec, y_train)\n",
    "nlp_results['NB']= [NB.score(X_train_vec, y_train), NB.score(X_test_vec, y_test)]"
   ]
  },
  {
   "cell_type": "markdown",
   "id": "fb12190e",
   "metadata": {},
   "source": [
    "#### 6.1.3.3 SVM"
   ]
  },
  {
   "cell_type": "code",
   "execution_count": null,
   "id": "162b1634",
   "metadata": {},
   "outputs": [],
   "source": [
    "SVM = SVC(kernel='rbf', gamma='scale', random_state=1)\n",
    "SVM.fit(X_train_vec, y_train)\n",
    "nlp_results['SVM']= [SVM.score(X_train_vec, y_train), SVM.score(X_test_vec, y_test)]"
   ]
  },
  {
   "cell_type": "markdown",
   "id": "d3da8744",
   "metadata": {},
   "source": [
    "#### 6.1.3.4 Random Forest"
   ]
  },
  {
   "cell_type": "code",
   "execution_count": null,
   "id": "f042f79b",
   "metadata": {},
   "outputs": [],
   "source": [
    "RFC = RandomForestClassifier(random_state=1)\n",
    "RFC.fit(X_train_vec, y_train)\n",
    "\n",
    "nlp_results['RFC']= [RFC.score(X_train_vec, y_train), RFC.score(X_test_vec, y_test)]"
   ]
  },
  {
   "cell_type": "markdown",
   "id": "4b62226d",
   "metadata": {},
   "source": [
    "#### 6.1.3.5 XGBoost"
   ]
  },
  {
   "cell_type": "code",
   "execution_count": null,
   "id": "3135d092",
   "metadata": {},
   "outputs": [],
   "source": [
    "XGB = XGBClassifier(random_state=1)\n",
    "XGB.fit(X_train_vec, y_train)\n",
    "nlp_results['XGB'] = [XGB.score(X_train_vec, y_train), XGB.score(X_test_vec, y_test)]"
   ]
  },
  {
   "cell_type": "code",
   "execution_count": null,
   "id": "9237ef06",
   "metadata": {},
   "outputs": [],
   "source": [
    "print(nlp_results)"
   ]
  },
  {
   "cell_type": "markdown",
   "id": "84c9e850",
   "metadata": {},
   "source": [
    "### 6.1.4 Storing All Test TF-IDF Results"
   ]
  },
  {
   "cell_type": "code",
   "execution_count": null,
   "id": "0889304f",
   "metadata": {
    "id": "c8833b85"
   },
   "outputs": [],
   "source": [
    "import pandas as pd\n",
    "tfidf_results_all_text = pd.DataFrame()\n",
    "\n",
    "tfidf_results_all_text.loc['Logistic Regression', 'train_acc'] = nlp_results['LR'][0]\n",
    "tfidf_results_all_text.loc['Logistic Regression', 'test_acc'] = nlp_results['LR'][1]\n",
    "\n",
    "tfidf_results_all_text.loc['Multinomial Naive Bayes', 'train_acc'] = nlp_results['NB'][0]\n",
    "tfidf_results_all_text.loc['Multinomial Naive Bayes', 'test_acc'] = nlp_results['NB'][1]\n",
    "\n",
    "tfidf_results_all_text.loc['Support Vector Machine', 'train_acc'] = nlp_results['SVM'][0]\n",
    "tfidf_results_all_text.loc['Support Vector Machine', 'test_acc'] = nlp_results['SVM'][1]\n",
    "\n",
    "tfidf_results_all_text.loc['Random Forest', 'train_acc'] = nlp_results['RFC'][0]\n",
    "tfidf_results_all_text.loc['Random Forest', 'test_acc'] = nlp_results['RFC'][1]\n",
    "\n",
    "tfidf_results_all_text.loc['XGBoost', 'train_acc'] = nlp_results['XGB'][0]\n",
    "tfidf_results_all_text.loc['XGBoost', 'test_acc'] = nlp_results['XGB'][1]\n",
    "tfidf_results_all_text"
   ]
  },
  {
   "cell_type": "code",
   "execution_count": null,
   "id": "1235e534",
   "metadata": {
    "id": "c291759a"
   },
   "outputs": [],
   "source": [
    "X_train_vec2 = X_train['title']\n",
    "X_test_vec2 = X_test['title']"
   ]
  },
  {
   "cell_type": "code",
   "execution_count": null,
   "id": "fd484da9",
   "metadata": {
    "id": "c7d9e9e4"
   },
   "outputs": [],
   "source": [
    "X_train_vec2.head()"
   ]
  },
  {
   "cell_type": "markdown",
   "id": "fd4f02de",
   "metadata": {
    "id": "c4ed466d"
   },
   "source": [
    "## 6.2 Title"
   ]
  },
  {
   "cell_type": "markdown",
   "id": "5fd16a62",
   "metadata": {},
   "source": [
    "### 6.2.2 Transforming Title to Vectors"
   ]
  },
  {
   "cell_type": "code",
   "execution_count": null,
   "id": "0ae5117d",
   "metadata": {
    "id": "Z2WUUtNmjd3w"
   },
   "outputs": [],
   "source": [
    "# Converting text to vectors\n",
    "\n",
    "from sklearn.feature_extraction.text import TfidfVectorizer\n",
    "\n",
    "vectorization2 = TfidfVectorizer()\n",
    "X_train_vec2 = vectorization2.fit_transform(X_train_vec2)\n",
    "X_test_vec2 = vectorization2.transform(X_test_vec2)"
   ]
  },
  {
   "cell_type": "markdown",
   "id": "5773f99c",
   "metadata": {},
   "source": [
    "### 6.2.3 Model Building"
   ]
  },
  {
   "cell_type": "markdown",
   "id": "5431ce19",
   "metadata": {},
   "source": [
    "#### 6.2.3.1 Logistic Regression"
   ]
  },
  {
   "cell_type": "code",
   "execution_count": null,
   "id": "e6926f19",
   "metadata": {},
   "outputs": [],
   "source": [
    "LR2 = LogisticRegression()\n",
    "LR2.fit(X_train_vec2, y_train2)\n",
    "nlp_results_title['LR'] = [LR2.score(X_train_vec2, y_train2), LR2.score(X_test_vec2, y_test2)] "
   ]
  },
  {
   "cell_type": "markdown",
   "id": "bd6d21de",
   "metadata": {},
   "source": [
    "#### 6.2.3.2 Naive Bayes"
   ]
  },
  {
   "cell_type": "code",
   "execution_count": null,
   "id": "48930230",
   "metadata": {},
   "outputs": [],
   "source": [
    "NB2 = MultinomialNB().fit(X_train_vec2, y_train2)\n",
    "nlp_results_title['NB']= [NB2.score(X_train_vec2, y_train2), NB2.score(X_test_vec2, y_test2)]"
   ]
  },
  {
   "cell_type": "markdown",
   "id": "6006926f",
   "metadata": {},
   "source": [
    "#### 6.2.3.3 SVM"
   ]
  },
  {
   "cell_type": "code",
   "execution_count": null,
   "id": "03e8a8f6",
   "metadata": {},
   "outputs": [],
   "source": [
    "from sklearn.svm import SVC\n",
    "\n",
    "SVM2 = SVC(kernel='rbf', gamma='scale', random_state=1)\n",
    "SVM2.fit(X_train_vec2, y_train2)\n",
    "nlp_results_title['SVM']= [SVM2.score(X_train_vec2, y_train2), SVM2.score(X_test_vec2, y_test2)]"
   ]
  },
  {
   "cell_type": "markdown",
   "id": "f1f3ce76",
   "metadata": {},
   "source": [
    "#### 6.2.3.4 Random Forest"
   ]
  },
  {
   "cell_type": "code",
   "execution_count": null,
   "id": "69dbcd3f",
   "metadata": {},
   "outputs": [],
   "source": [
    "RFC2 = RandomForestClassifier(random_state=1)\n",
    "RFC2.fit(X_train_vec2, y_train)\n",
    "nlp_results_title['RFC']= [RFC2.score(X_train_vec2, y_train), RFC2.score(X_test_vec2, y_test)]"
   ]
  },
  {
   "cell_type": "markdown",
   "id": "09e5ee2d",
   "metadata": {},
   "source": [
    "#### 6.2.3.5 XGBoost"
   ]
  },
  {
   "cell_type": "code",
   "execution_count": null,
   "id": "2c769a23",
   "metadata": {},
   "outputs": [],
   "source": [
    "XGB2 = XGBClassifier(random_state=1)\n",
    "XGB2.fit(X_train_vec2, y_train)\n",
    "nlp_results_title['XGB'] = [XGB2.score(X_train_vec2, y_train), XGB2.score(X_test_vec2, y_test)]"
   ]
  },
  {
   "cell_type": "code",
   "execution_count": null,
   "id": "f19bccef",
   "metadata": {},
   "outputs": [],
   "source": [
    "print(nlp_results_title)"
   ]
  },
  {
   "cell_type": "markdown",
   "id": "4bcece38",
   "metadata": {},
   "source": [
    "### 6.2.4 Storing Title TF-IDF Results"
   ]
  },
  {
   "cell_type": "code",
   "execution_count": null,
   "id": "bb6e6ead",
   "metadata": {},
   "outputs": [],
   "source": [
    "import pandas as pd\n",
    "tfidf_results_title = pd.DataFrame()\n",
    "\n",
    "tfidf_results_title.loc['Logistic Regression', 'train_acc'] = nlp_results_title['LR'][0]\n",
    "tfidf_results_title.loc['Logistic Regression', 'test_acc'] = nlp_results_title['LR'][1]\n",
    "\n",
    "tfidf_results_title.loc['Multinomial Naive Bayes', 'train_acc'] = nlp_results_title['NB'][0]\n",
    "tfidf_results_title.loc['Multinomial Naive Bayes', 'test_acc'] = nlp_results_title['NB'][1]\n",
    "\n",
    "tfidf_results_title.loc['Support Vector Machine', 'train_acc'] = nlp_results_title['SVM'][0]\n",
    "tfidf_results_title.loc['Support Vector Machine', 'test_acc'] = nlp_results_title['SVM'][1]\n",
    "\n",
    "tfidf_results_title.loc['Random Forest', 'train_acc'] = nlp_results_title['RFC'][0]\n",
    "tfidf_results_title.loc['Random Forest', 'test_acc'] = nlp_results_title['RFC'][1]\n",
    "\n",
    "tfidf_results_title.loc['XGBoost', 'train_acc'] = nlp_results_title['XGB'][0]\n",
    "tfidf_results_title.loc['XGBoost', 'test_acc'] = nlp_results_title['XGB'][1]\n",
    "tfidf_results_title"
   ]
  },
  {
   "cell_type": "markdown",
   "id": "7323bef2",
   "metadata": {},
   "source": [
    "# Hyperparameter tuning XGBoost"
   ]
  },
  {
   "cell_type": "code",
   "execution_count": null,
   "id": "2d2111c5",
   "metadata": {},
   "outputs": [],
   "source": [
    "from sklearn.model_selection import RandomizedSearchCV\n",
    "params = {'max_depth': [3, 6, 10, 15],\n",
    "      'learning_rate': [0.01, 0.1, 0.2, 0.3, 0.4],\n",
    "      'subsample': np.arange(0.5, 1.0, 0.1),\n",
    "      'colsample_bytree': np.arange(0.5, 1.0, 0.1),\n",
    "      'colsample_bylevel': np.arange(0.5, 1.0, 0.1),\n",
    "      }\n",
    "search = RandomizedSearchCV(estimator=XGB,\n",
    "                         param_distributions=params,\n",
    "                         scoring='accuracy',\n",
    "                         n_jobs=2, random_state=1)\n",
    "search.fit(X_train_vec, y_train)\n",
    "print(search.best_score_)\n",
    "search.best_params_"
   ]
  },
  {
   "cell_type": "code",
   "execution_count": null,
   "id": "b02c26c9",
   "metadata": {},
   "outputs": [],
   "source": [
    "XGB_tuned = XGBClassifier(**search.best_params_, random_state=1)\n",
    "XGB_tuned.fit(X_train_vec, y_train)\n",
    "nlp_results['XGB Tuned'] = [XGB_tuned.score(X_train_vec, y_train), XGB_tuned.score(X_test_vec, y_test)]\n",
    "print(\"Training Accuracy:\", nlp_results['XGB Tuned'][0])\n",
    "print(\"Testing Accuracy:\", nlp_results['XGB Tuned'][1])"
   ]
  },
  {
   "cell_type": "markdown",
   "id": "11cf951e",
   "metadata": {},
   "source": [
    "Accuracy went up by a marginal 0.02% after tuning hyperparameters. Hence, hyperparameter tuning may not be worth the efforts."
   ]
  },
  {
   "cell_type": "code",
   "execution_count": null,
   "id": "8cf6bdbc",
   "metadata": {},
   "outputs": [],
   "source": [
    "y_pred_prob = XGB.predict_proba(X_test_vec)[:,1]\n",
    "y_pred_prob2 = XGB_tuned.predict_proba(X_test_vec)[:,1]\n",
    "print('XGB ROC_AUC:', metrics.roc_auc_score(y_test, y_pred_prob))\n",
    "print('XGB Tuned ROC_AUC:', metrics.roc_auc_score(y_test, y_pred_prob2))"
   ]
  },
  {
   "cell_type": "code",
   "execution_count": null,
   "id": "afffcf48",
   "metadata": {},
   "outputs": [],
   "source": []
  },
  {
   "cell_type": "code",
   "execution_count": null,
   "id": "eb446f9b",
   "metadata": {},
   "outputs": [],
   "source": []
  }
 ],
 "metadata": {
  "kernelspec": {
   "display_name": "Python 3 (ipykernel)",
   "language": "python",
   "name": "python3"
  },
  "language_info": {
   "codemirror_mode": {
    "name": "ipython",
    "version": 3
   },
   "file_extension": ".py",
   "mimetype": "text/x-python",
   "name": "python",
   "nbconvert_exporter": "python",
   "pygments_lexer": "ipython3",
   "version": "3.10.6"
  },
  "vscode": {
   "interpreter": {
    "hash": "b0a6d3a1c9702cbdea61a84eb923333e247e4db67d8a1f6fe21a7310eabf978f"
   }
  }
 },
 "nbformat": 4,
 "nbformat_minor": 5
}
