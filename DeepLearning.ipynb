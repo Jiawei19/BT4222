{
 "cells": [
  {
   "cell_type": "markdown",
   "id": "cae8188f",
   "metadata": {},
   "source": [
    "# Importing Libraries"
   ]
  },
  {
   "cell_type": "code",
   "execution_count": null,
   "id": "ac56c1ff",
   "metadata": {},
   "outputs": [],
   "source": [
    "import os\n",
    "import re\n",
    "import pandas as pd\n",
    "import numpy as np\n",
    "import math\n",
    "import matplotlib.pyplot as plt \n",
    "from sklearn.model_selection import train_test_split\n",
    "import tensorflow as tf\n",
    "from tensorflow.keras.preprocessing.text import Tokenizer\n",
    "from tensorflow.keras.preprocessing.sequence import pad_sequences\n",
    "from tensorflow.keras import Sequential\n",
    "from tensorflow.keras.layers import Dense, Embedding, Bidirectional, LSTM, Dropout, SimpleRNN\n",
    "import keras_tuner"
   ]
  },
  {
   "cell_type": "markdown",
   "id": "3d2bf77c",
   "metadata": {},
   "source": [
    "## Splitting the dataset"
   ]
  },
  {
   "cell_type": "code",
   "execution_count": 28,
   "id": "d06bf0e0",
   "metadata": {},
   "outputs": [],
   "source": [
    "# loading the cleaned dataset\n",
    "import zipfile\n",
    "\n",
    "with zipfile.ZipFile('news_final.zip', 'r') as zip_ref:\n",
    "    zip_ref.extractall()"
   ]
  },
  {
   "cell_type": "code",
   "execution_count": 72,
   "id": "8a90ae9f",
   "metadata": {},
   "outputs": [],
   "source": [
    "from ast import literal_eval\n",
    "news_final = pd.read_csv(\"news_final\", converters={'title': literal_eval,'all_text': literal_eval})\n",
    "\n",
    "target = news_final['fake']\n",
    "features = news_final[['title','all_text']]"
   ]
  },
  {
   "cell_type": "code",
   "execution_count": null,
   "id": "00d50d96",
   "metadata": {},
   "outputs": [],
   "source": [
    "X_train, X_test, y_train, y_test = train_test_split(features, target, random_state=1,test_size=0.2)\n",
    "X_train, X_val, y_train, y_val = train_test_split(X_train, y_train, random_state=1, test_size=0.25) # 0.25 x 0.8 = 0.2, #20% valid"
   ]
  },
  {
   "cell_type": "markdown",
   "id": "71127efb",
   "metadata": {},
   "source": [
    "# Hypothesis 2: Testing Neural Network models"
   ]
  },
  {
   "cell_type": "markdown",
   "id": "71270f90",
   "metadata": {},
   "source": [
    "## Define Tokenizing, Padding, Plotting functions & Earlystopping"
   ]
  },
  {
   "cell_type": "code",
   "execution_count": null,
   "id": "069b828d",
   "metadata": {},
   "outputs": [],
   "source": [
    "def tokenize(train_data,val_data,test_data):\n",
    "    tokenizer = Tokenizer()\n",
    "    tokenizer.fit_on_texts(train_data)\n",
    "\n",
    "    train_data = tokenizer.texts_to_sequences(train_data)\n",
    "    val_data = tokenizer.texts_to_sequences(val_data)\n",
    "    test_data = tokenizer.texts_to_sequences(test_data)\n",
    "    vocab = tokenizer.word_index\n",
    "    return train_data,val_data,test_data,vocab\n",
    "\n",
    "def pad(train_data,val_data,test_data,max_len):\n",
    "    train_data = pad_sequences(train_data, padding='post', maxlen=max_len)\n",
    "    val_data = pad_sequences(val_data, padding='post', maxlen=max_len)\n",
    "    test_data = pad_sequences(test_data, padding='post', maxlen=max_len)\n",
    "    return train_data,val_data,test_data\n",
    "\n",
    "def plotHistory(history):\n",
    "    history_dict = history.history\n",
    "\n",
    "    acc = history_dict['accuracy']\n",
    "    val_acc = history_dict['val_accuracy']\n",
    "    loss = history_dict['loss']\n",
    "    val_loss = history_dict['val_loss']\n",
    "    epochs = history.epoch\n",
    "\n",
    "    plt.figure()\n",
    "    plt.plot(epochs, loss, 'r', label='Training loss')\n",
    "    plt.plot(epochs, val_loss, 'b', label='Validation loss')\n",
    "    plt.title('Training and validation loss')\n",
    "    plt.xlabel('Epochs')\n",
    "    plt.ylabel('Loss')\n",
    "    plt.legend()\n",
    "    plt.show()\n",
    "\n",
    "    plt.figure()\n",
    "    plt.plot(epochs, acc, 'g', label='Training acc')\n",
    "    plt.plot(epochs, val_acc, 'b', label='Validation acc')\n",
    "    plt.title('Training and validation accuracy')\n",
    "    plt.xlabel('Epochs')\n",
    "    plt.ylabel('Accuracy')\n",
    "    plt.legend()\n",
    "    plt.show()\n",
    "\n",
    "early_stop = tf.keras.callbacks.EarlyStopping(monitor='val_loss', patience=2, restore_best_weights=True)"
   ]
  },
  {
   "cell_type": "markdown",
   "id": "1159e64b",
   "metadata": {},
   "source": [
    "## 1. Training on titles only"
   ]
  },
  {
   "cell_type": "code",
   "execution_count": null,
   "id": "525afd85",
   "metadata": {},
   "outputs": [
    {
     "name": "stderr",
     "output_type": "stream",
     "text": [
      "<<<<<<< local\n"
     ]
    },
    {
     "name": "stdout",
     "output_type": "stream",
     "text": [
      "Vocab Size for Titles: 19731\n",
      "Max Title Length: 34\n"
     ]
    },
    {
     "name": "stderr",
     "output_type": "stream",
     "text": [
      "=======\n"
     ]
    },
    {
     "name": "stdout",
     "output_type": "stream",
     "text": [
      "Vocab Size for Titles: 19388\n",
      "Max Title Length: 34\n"
     ]
    },
    {
     "name": "stderr",
     "output_type": "stream",
     "text": [
      ">>>>>>> remote\n"
     ]
    }
   ],
   "source": [
    "X_train1, X_val1, X_test1, vocab1 = tokenize(X_train['title'], X_val['title'], X_test['title'])\n",
    "max_vocab1 = len(vocab1) + 1 # Adding 1 because of reserved 0 index\n",
    "# Embedding Layer creates one more vector for \"UNKNOWN\" words, or padded words (0s). This Vector is filled with zeros.\n",
    "print(\"Vocab Size for Titles: {}\".format(max_vocab1))\n",
    "\n",
    "# get length of longest title and pad all shorter titles to match length\n",
    "max_len1 = max([len(x) for x in X_train1] + [len(x) for x in X_test1])\n",
    "X_train1, X_val1, X_test1 = pad(X_train1, X_val1, X_test1, max_len1)\n",
    "print(\"Max Title Length: {}\".format(max_len1))"
   ]
  },
  {
   "cell_type": "markdown",
   "id": "d6a73057",
   "metadata": {},
   "source": [
    "### Model 1: Training a simple RNN model on titles only"
   ]
  },
  {
   "cell_type": "code",
   "execution_count": null,
   "id": "6f2ea078",
   "metadata": {},
   "outputs": [
    {
     "name": "stderr",
     "output_type": "stream",
     "text": [
      "<<<<<<< local\n"
     ]
    },
    {
     "name": "stdout",
     "output_type": "stream",
     "text": [
      "Model: \"sequential_2\"\n",
      "_________________________________________________________________\n",
      " Layer (type)                Output Shape              Param #   \n",
      "=================================================================\n",
      " embedding_2 (Embedding)     (None, 34, 100)           1973100   \n",
      "                                                                 \n",
      " bidirectional_2 (Bidirectio  (None, 256)              58624     \n",
      " nal)                                                            \n",
      "                                                                 \n",
      " dropout_2 (Dropout)         (None, 256)               0         \n",
      "                                                                 \n",
      " dense_2 (Dense)             (None, 1)                 257       \n",
      "                                                                 \n",
      "=================================================================\n",
      "Total params: 2,031,981\n",
      "Trainable params: 2,031,981\n",
      "Non-trainable params: 0\n",
      "_________________________________________________________________\n"
     ]
    },
    {
     "name": "stderr",
     "output_type": "stream",
     "text": [
      "=======\n",
      "2022-11-08 01:26:20.900617: I tensorflow/core/platform/cpu_feature_guard.cc:193] This TensorFlow binary is optimized with oneAPI Deep Neural Network Library (oneDNN) to use the following CPU instructions in performance-critical operations:  AVX2 AVX512F AVX512_VNNI FMA\n",
      "To enable them in other operations, rebuild TensorFlow with the appropriate compiler flags.\n"
     ]
    },
    {
     "name": "stdout",
     "output_type": "stream",
     "text": [
      "Model: \"sequential\"\n",
      "_________________________________________________________________\n",
      " Layer (type)                Output Shape              Param #   \n",
      "=================================================================\n",
      " embedding (Embedding)       (None, 34, 100)           1938800   \n",
      "                                                                 \n",
      " bidirectional (Bidirectiona  (None, 256)              58624     \n",
      " l)                                                              \n",
      "                                                                 \n",
      " dropout (Dropout)           (None, 256)               0         \n",
      "                                                                 \n",
      " dense (Dense)               (None, 1)                 257       \n",
      "                                                                 \n",
      "=================================================================\n",
      "Total params: 1,997,681\n",
      "Trainable params: 1,997,681\n",
      "Non-trainable params: 0\n",
      "_________________________________________________________________\n"
     ]
    },
    {
     "name": "stderr",
     "output_type": "stream",
     "text": [
      ">>>>>>> remote\n"
     ]
    }
   ],
   "source": [
    "rnn_title_model = Sequential([\n",
    "    Embedding(max_vocab1, 100, input_length=max_len1),\n",
    "    Bidirectional(SimpleRNN(128)),\n",
    "    Dropout(0.5),\n",
    "    Dense(1, activation='sigmoid')\n",
    "])\n",
    "\n",
    "rnn_title_model.compile(loss=tf.keras.losses.BinaryCrossentropy(),\n",
    "              optimizer=tf.keras.optimizers.Adam(1e-4),\n",
    "              metrics=['accuracy'])\n",
    "\n",
    "rnn_title_model.summary()"
   ]
  },
  {
   "cell_type": "code",
   "execution_count": null,
   "id": "dbd78af3",
   "metadata": {},
   "outputs": [
    {
     "name": "stderr",
     "output_type": "stream",
     "text": [
      "<<<<<<< local <modified: >\n"
     ]
    },
    {
     "name": "stdout",
     "output_type": "stream",
     "text": [
      "Epoch 1/10\n",
      "774/774 [==============================] - 90s 114ms/step - loss: 0.3061 - accuracy: 0.8709 - val_loss: 0.1806 - val_accuracy: 0.9356\n",
      "Epoch 2/10\n",
      "774/774 [==============================] - 86s 112ms/step - loss: 0.1151 - accuracy: 0.9609 - val_loss: 0.1450 - val_accuracy: 0.9436\n",
      "Epoch 3/10\n",
      "774/774 [==============================] - 92s 119ms/step - loss: 0.0566 - accuracy: 0.9829 - val_loss: 0.1837 - val_accuracy: 0.9408\n",
      "Epoch 4/10\n",
      "774/774 [==============================] - 86s 112ms/step - loss: 0.0320 - accuracy: 0.9903 - val_loss: 0.1956 - val_accuracy: 0.9369\n",
      "CPU times: total: 8min 13s\n",
      "Wall time: 5min 54s\n"
     ]
    },
    {
     "name": "stderr",
     "output_type": "stream",
     "text": [
      "=======\n"
     ]
    },
    {
     "name": "stdout",
     "output_type": "stream",
     "text": [
      "Epoch 1/10\n",
      "774/774 [==============================] - 38s 45ms/step - loss: 0.3057 - accuracy: 0.8704 - val_loss: 0.1896 - val_accuracy: 0.9313\n",
      "Epoch 2/10\n",
      "774/774 [==============================] - 41s 53ms/step - loss: 0.1133 - accuracy: 0.9599 - val_loss: 0.1695 - val_accuracy: 0.9378\n",
      "Epoch 3/10\n",
      "774/774 [==============================] - 43s 55ms/step - loss: 0.0545 - accuracy: 0.9823 - val_loss: 0.1813 - val_accuracy: 0.9383\n",
      "Epoch 4/10\n",
      "774/774 [==============================] - 45s 58ms/step - loss: 0.0297 - accuracy: 0.9911 - val_loss: 0.1870 - val_accuracy: 0.9430\n",
      "CPU times: user 4min 32s, sys: 1min 36s, total: 6min 9s\n",
      "Wall time: 2min 46s\n"
     ]
    },
    {
     "name": "stderr",
     "output_type": "stream",
     "text": [
      ">>>>>>> remote <modified: >\n"
     ]
    }
   ],
   "source": [
    "%%time\n",
    "rnn_title_history = rnn_title_model.fit(X_train1, y_train, epochs=10, \n",
    "                    validation_data=(X_val1, y_val), batch_size=30, \n",
    "                    shuffle=True, callbacks=[early_stop])"
   ]
  },
  {
   "cell_type": "code",
   "execution_count": null,
   "id": "6ed2de60",
   "metadata": {},
   "outputs": [
    {
     "name": "stderr",
     "output_type": "stream",
     "text": [
      "<<<<<<< local\n"
     ]
    },
    {
     "data": {
      "image/png": "[encoded data removed]",
      "text/plain": [
       "<Figure size 432x288 with 1 Axes>"
      ]
     },
     "metadata": {
      "needs_background": "light"
     },
     "output_type": "display_data"
    },
    {
     "data": {
      "image/png": "[encoded data removed]",
      "text/plain": [
       "<Figure size 432x288 with 1 Axes>"
      ]
     },
     "metadata": {
      "needs_background": "light"
     },
     "output_type": "display_data"
    },
    {
     "name": "stderr",
     "output_type": "stream",
     "text": [
      "=======\n"
     ]
    },
    {
     "data": {
      "image/png": "[encoded data removed]",
      "text/plain": [
       "<Figure size 640x480 with 1 Axes>"
      ]
     },
     "metadata": {},
     "output_type": "display_data"
    },
    {
     "data": {
      "image/png": "[encoded data removed]",
      "text/plain": [
       "<Figure size 640x480 with 1 Axes>"
      ]
     },
     "metadata": {},
     "output_type": "display_data"
    },
    {
     "name": "stderr",
     "output_type": "stream",
     "text": [
      ">>>>>>> remote\n"
     ]
    },
    {
     "data": {
      "image/png": "[encoded data removed]",
      "text/plain": [
       "<Figure size 432x288 with 1 Axes>"
      ]
     },
     "metadata": {
      "needs_background": "light"
     },
     "output_type": "display_data"
    }
   ],
   "source": [
    "plotHistory(rnn_title_history)"
   ]
  },
  {
   "cell_type": "code",
   "execution_count": null,
   "id": "d7b04c25",
   "metadata": {},
   "outputs": [
    {
     "name": "stderr",
     "output_type": "stream",
     "text": [
      "<<<<<<< local <modified: >\n"
     ]
    },
    {
     "name": "stdout",
     "output_type": "stream",
     "text": [
      "725/725 [==============================] - 12s 16ms/step - loss: 0.0544 - accuracy: 0.9865\n"
     ]
    },
    {
     "name": "stderr",
     "output_type": "stream",
     "text": [
      "=======\n"
     ]
    },
    {
     "name": "stdout",
     "output_type": "stream",
     "text": [
      "725/725 [==============================] - 3s 5ms/step - loss: 0.0579 - accuracy: 0.9818\n"
     ]
    },
    {
     "name": "stderr",
     "output_type": "stream",
     "text": [
      ">>>>>>> remote <modified: >\n",
      "<<<<<<< local\n"
     ]
    },
    {
     "data": {
      "text/plain": [
       "[0.05436372384428978, 0.9865482449531555]"
      ]
     },
     "execution_count": 48,
     "metadata": {},
     "output_type": "execute_result"
    },
    {
     "name": "stderr",
     "output_type": "stream",
     "text": [
      "=======\n"
     ]
    },
    {
     "data": {
      "text/plain": [
       "[0.057937514036893845, 0.9818487763404846]"
      ]
     },
     "execution_count": 40,
     "metadata": {},
     "output_type": "execute_result"
    },
    {
     "name": "stderr",
     "output_type": "stream",
     "text": [
      ">>>>>>> remote\n"
     ]
    }
   ],
   "source": [
    "rnn_title_model.evaluate(X_train1, y_train)"
   ]
  },
  {
   "cell_type": "code",
   "execution_count": null,
   "id": "c5dd91e1",
   "metadata": {},
   "outputs": [
    {
     "name": "stderr",
     "output_type": "stream",
     "text": [
      "<<<<<<< local <modified: >\n"
     ]
    },
    {
     "name": "stdout",
     "output_type": "stream",
     "text": [
      "242/242 [==============================] - 4s 16ms/step - loss: 0.1450 - accuracy: 0.9436\n"
     ]
    },
    {
     "name": "stderr",
     "output_type": "stream",
     "text": [
      "=======\n"
     ]
    },
    {
     "name": "stdout",
     "output_type": "stream",
     "text": [
      "242/242 [==============================] - 1s 5ms/step - loss: 0.1695 - accuracy: 0.9378\n"
     ]
    },
    {
     "name": "stderr",
     "output_type": "stream",
     "text": [
      ">>>>>>> remote <modified: >\n",
      "<<<<<<< local\n"
     ]
    },
    {
     "data": {
      "text/plain": [
       "[0.14502878487110138, 0.9436109662055969]"
      ]
     },
     "execution_count": 49,
     "metadata": {},
     "output_type": "execute_result"
    },
    {
     "name": "stderr",
     "output_type": "stream",
     "text": [
      "=======\n"
     ]
    },
    {
     "data": {
      "text/plain": [
       "[0.16945888102054596, 0.9377909898757935]"
      ]
     },
     "execution_count": 41,
     "metadata": {},
     "output_type": "execute_result"
    },
    {
     "name": "stderr",
     "output_type": "stream",
     "text": [
      ">>>>>>> remote\n"
     ]
    }
   ],
   "source": [
    "rnn_title_model.evaluate(X_val1, y_val)"
   ]
  },
  {
   "cell_type": "code",
   "execution_count": null,
   "id": "441b8460",
   "metadata": {},
   "outputs": [
    {
     "name": "stderr",
     "output_type": "stream",
     "text": [
      "<<<<<<< local <modified: >\n"
     ]
    },
    {
     "name": "stdout",
     "output_type": "stream",
     "text": [
      "242/242 [==============================] - 4s 16ms/step - loss: 0.1502 - accuracy: 0.9430\n"
     ]
    },
    {
     "name": "stderr",
     "output_type": "stream",
     "text": [
      "=======\n"
     ]
    },
    {
     "name": "stdout",
     "output_type": "stream",
     "text": [
      "242/242 [==============================] - 1s 5ms/step - loss: 0.1690 - accuracy: 0.9390\n"
     ]
    },
    {
     "name": "stderr",
     "output_type": "stream",
     "text": [
      ">>>>>>> remote <modified: >\n",
      "<<<<<<< local\n"
     ]
    },
    {
     "data": {
      "text/plain": [
       "[0.15021859109401703, 0.9429643154144287]"
      ]
     },
     "execution_count": 50,
     "metadata": {},
     "output_type": "execute_result"
    },
    {
     "name": "stderr",
     "output_type": "stream",
     "text": [
      "=======\n"
     ]
    },
    {
     "data": {
      "text/plain": [
       "[0.16899777948856354, 0.9389550089836121]"
      ]
     },
     "execution_count": 42,
     "metadata": {},
     "output_type": "execute_result"
    },
    {
     "name": "stderr",
     "output_type": "stream",
     "text": [
      ">>>>>>> remote\n"
     ]
    }
   ],
   "source": [
    "rnn_title_model.evaluate(X_test1, y_test)"
   ]
  },
  {
   "cell_type": "markdown",
   "id": "437d9a9b",
   "metadata": {},
   "source": [
    "### Model 2: Training an LSTM model on titles only"
   ]
  },
  {
   "cell_type": "code",
   "execution_count": null,
   "id": "e5a81a4d",
   "metadata": {},
   "outputs": [
    {
     "name": "stderr",
     "output_type": "stream",
     "text": [
      "<<<<<<< local\n"
     ]
    },
    {
     "name": "stdout",
     "output_type": "stream",
     "text": [
      "Model: \"sequential_3\"\n",
      "_________________________________________________________________\n",
      " Layer (type)                Output Shape              Param #   \n",
      "=================================================================\n",
      " embedding_3 (Embedding)     (None, 34, 100)           1973100   \n",
      "                                                                 \n",
      " bidirectional_3 (Bidirectio  (None, 256)              234496    \n",
      " nal)                                                            \n",
      "                                                                 \n",
      " dropout_3 (Dropout)         (None, 256)               0         \n",
      "                                                                 \n",
      " dense_3 (Dense)             (None, 1)                 257       \n",
      "                                                                 \n",
      "=================================================================\n",
      "Total params: 2,207,853\n",
      "Trainable params: 2,207,853\n",
      "Non-trainable params: 0\n",
      "_________________________________________________________________\n"
     ]
    },
    {
     "name": "stderr",
     "output_type": "stream",
     "text": [
      "=======\n"
     ]
    },
    {
     "name": "stdout",
     "output_type": "stream",
     "text": [
      "Model: \"sequential_1\"\n",
      "_________________________________________________________________\n",
      " Layer (type)                Output Shape              Param #   \n",
      "=================================================================\n",
      " embedding_1 (Embedding)     (None, 34, 100)           1938800   \n",
      "                                                                 \n",
      " bidirectional_1 (Bidirectio  (None, 256)              234496    \n",
      " nal)                                                            \n",
      "                                                                 \n",
      " dropout_1 (Dropout)         (None, 256)               0         \n",
      "                                                                 \n",
      " dense_1 (Dense)             (None, 1)                 257       \n",
      "                                                                 \n",
      "=================================================================\n",
      "Total params: 2,173,553\n",
      "Trainable params: 2,173,553\n",
      "Non-trainable params: 0\n",
      "_________________________________________________________________\n"
     ]
    },
    {
     "name": "stderr",
     "output_type": "stream",
     "text": [
      ">>>>>>> remote\n"
     ]
    }
   ],
   "source": [
    "lstm_title_model = Sequential([\n",
    "    Embedding(max_vocab1, 100, input_length=max_len1),\n",
    "    Bidirectional(LSTM(128)),\n",
    "    Dropout(0.5),\n",
    "    Dense(1, activation='sigmoid')\n",
    "])\n",
    "\n",
    "lstm_title_model.compile(loss=tf.keras.losses.BinaryCrossentropy(),\n",
    "              optimizer=tf.keras.optimizers.Adam(1e-4),\n",
    "              metrics=['accuracy'])\n",
    "\n",
    "lstm_title_model.summary()"
   ]
  },
  {
   "cell_type": "code",
   "execution_count": null,
   "id": "9ea35f10",
   "metadata": {},
   "outputs": [
    {
     "name": "stderr",
     "output_type": "stream",
     "text": [
      "<<<<<<< local\n"
     ]
    },
    {
     "name": "stdout",
     "output_type": "stream",
     "text": [
      "Epoch 1/10\n",
      "774/774 [==============================] - 8s 10ms/step - loss: 0.0752 - accuracy: 0.9747 - val_loss: 0.1348 - val_accuracy: 0.9505\n",
      "Epoch 2/10\n",
      "774/774 [==============================] - 8s 10ms/step - loss: 0.0475 - accuracy: 0.9855 - val_loss: 0.1776 - val_accuracy: 0.9357\n",
      "Epoch 3/10\n",
      "774/774 [==============================] - 8s 10ms/step - loss: 0.0313 - accuracy: 0.9906 - val_loss: 0.1786 - val_accuracy: 0.9448\n",
      "CPU times: total: 31.6 s\n",
      "Wall time: 23.5 s\n"
     ]
    },
    {
     "name": "stderr",
     "output_type": "stream",
     "text": [
      "=======\n"
     ]
    },
    {
     "name": "stdout",
     "output_type": "stream",
     "text": [
      "Epoch 1/10\n",
      "774/774 [==============================] - 101s 124ms/step - loss: 0.3939 - accuracy: 0.8013 - val_loss: 0.1616 - val_accuracy: 0.9359\n",
      "Epoch 2/10\n",
      "774/774 [==============================] - 110s 143ms/step - loss: 0.1225 - accuracy: 0.9543 - val_loss: 0.1505 - val_accuracy: 0.9422\n",
      "Epoch 3/10\n",
      "774/774 [==============================] - 112s 145ms/step - loss: 0.0726 - accuracy: 0.9752 - val_loss: 0.1412 - val_accuracy: 0.9470\n",
      "Epoch 4/10\n",
      "774/774 [==============================] - 95s 123ms/step - loss: 0.0460 - accuracy: 0.9861 - val_loss: 0.1748 - val_accuracy: 0.9414\n",
      "Epoch 5/10\n",
      "774/774 [==============================] - 90s 116ms/step - loss: 0.0280 - accuracy: 0.9926 - val_loss: 0.1884 - val_accuracy: 0.9445\n",
      "CPU times: user 16min 31s, sys: 4min 6s, total: 20min 37s\n",
      "Wall time: 8min 28s\n"
     ]
    },
    {
     "name": "stderr",
     "output_type": "stream",
     "text": [
      ">>>>>>> remote\n"
     ]
    }
   ],
   "source": [
    "%%time\n",
    "lstm_title_history = lstm_title_model.fit(X_train_title, y_train, epochs=10, \n",
    "                    validation_data=(X_val_title, y_val), batch_size=30, \n",
    "                    shuffle=True, callbacks=[early_stop])"
   ]
  },
  {
   "cell_type": "code",
   "execution_count": null,
   "id": "4ad60e55",
   "metadata": {},
   "outputs": [
    {
     "name": "stderr",
     "output_type": "stream",
     "text": [
      "<<<<<<< local\n"
     ]
    },
    {
     "data": {
      "image/png": "[encoded data removed]",
      "text/plain": [
       "<Figure size 432x288 with 1 Axes>"
      ]
     },
     "metadata": {
      "needs_background": "light"
     },
     "output_type": "display_data"
    },
    {
     "data": {
      "image/png": "[encoded data removed]",
      "text/plain": [
       "<Figure size 432x288 with 1 Axes>"
      ]
     },
     "metadata": {
      "needs_background": "light"
     },
     "output_type": "display_data"
    },
    {
     "name": "stderr",
     "output_type": "stream",
     "text": [
      "=======\n"
     ]
    },
    {
     "data": {
      "image/png": "[encoded data removed]",
      "text/plain": [
       "<Figure size 640x480 with 1 Axes>"
      ]
     },
     "metadata": {},
     "output_type": "display_data"
    },
    {
     "data": {
      "image/png": "[encoded data removed]",
      "text/plain": [
       "<Figure size 640x480 with 1 Axes>"
      ]
     },
     "metadata": {},
     "output_type": "display_data"
    },
    {
     "name": "stderr",
     "output_type": "stream",
     "text": [
      ">>>>>>> remote\n"
     ]
    }
   ],
   "source": [
    "plotHistory(lstm_title_history)"
   ]
  },
  {
   "cell_type": "code",
   "execution_count": null,
   "id": "e3cbb597",
   "metadata": {},
   "outputs": [
    {
     "name": "stderr",
     "output_type": "stream",
     "text": [
      "<<<<<<< local\n"
     ]
    },
    {
     "name": "stdout",
     "output_type": "stream",
     "text": [
      "725/725 [==============================] - 3s 4ms/step - loss: 0.0450 - accuracy: 0.9879\n"
     ]
    },
    {
     "data": {
      "text/plain": [
       "[0.04502788931131363, 0.9878848195075989]"
      ]
     },
     "execution_count": 62,
     "metadata": {},
     "output_type": "execute_result"
    },
    {
     "name": "stderr",
     "output_type": "stream",
     "text": [
      "=======\n"
     ]
    },
    {
     "name": "stdout",
     "output_type": "stream",
     "text": [
      "725/725 [==============================] - 16s 22ms/step - loss: 0.0373 - accuracy: 0.9896\n"
     ]
    },
    {
     "data": {
      "text/plain": [
       "[0.0372762568295002, 0.9895662665367126]"
      ]
     },
     "execution_count": 46,
     "metadata": {},
     "output_type": "execute_result"
    },
    {
     "name": "stderr",
     "output_type": "stream",
     "text": [
      ">>>>>>> remote\n"
     ]
    }
   ],
   "source": [
    "lstm_title_model.evaluate(X_train1, y_train)"
   ]
  },
  {
   "cell_type": "code",
   "execution_count": null,
   "id": "18bf3ae6",
   "metadata": {},
   "outputs": [
    {
     "name": "stderr",
     "output_type": "stream",
     "text": [
      "<<<<<<< local\n"
     ]
    },
    {
     "name": "stdout",
     "output_type": "stream",
     "text": [
      "242/242 [==============================] - 1s 5ms/step - loss: 0.1348 - accuracy: 0.9505\n"
     ]
    },
    {
     "data": {
      "text/plain": [
       "[0.134831964969635, 0.9504656195640564]"
      ]
     },
     "execution_count": 63,
     "metadata": {},
     "output_type": "execute_result"
    },
    {
     "name": "stderr",
     "output_type": "stream",
     "text": [
      "=======\n"
     ]
    },
    {
     "name": "stdout",
     "output_type": "stream",
     "text": [
      "242/242 [==============================] - 6s 23ms/step - loss: 0.1412 - accuracy: 0.9470\n"
     ]
    },
    {
     "data": {
      "text/plain": [
       "[0.14121194183826447, 0.9469736218452454]"
      ]
     },
     "execution_count": 47,
     "metadata": {},
     "output_type": "execute_result"
    },
    {
     "name": "stderr",
     "output_type": "stream",
     "text": [
      ">>>>>>> remote\n"
     ]
    }
   ],
   "source": [
    "lstm_title_model.evaluate(X_val1, y_val)"
   ]
  },
  {
   "cell_type": "code",
   "execution_count": null,
   "id": "0f83a0bc",
   "metadata": {},
   "outputs": [
    {
     "name": "stderr",
     "output_type": "stream",
     "text": [
      "<<<<<<< local\n"
     ]
    },
    {
     "name": "stdout",
     "output_type": "stream",
     "text": [
      "242/242 [==============================] - 1s 5ms/step - loss: 0.1357 - accuracy: 0.9472\n"
     ]
    },
    {
     "data": {
      "text/plain": [
       "[0.13569745421409607, 0.9472323060035706]"
      ]
     },
     "execution_count": 64,
     "metadata": {},
     "output_type": "execute_result"
    },
    {
     "name": "stderr",
     "output_type": "stream",
     "text": [
      "=======\n"
     ]
    },
    {
     "name": "stdout",
     "output_type": "stream",
     "text": [
      "242/242 [==============================] - 6s 23ms/step - loss: 0.1477 - accuracy: 0.9468\n"
     ]
    },
    {
     "data": {
      "text/plain": [
       "[0.14769607782363892, 0.9468442797660828]"
      ]
     },
     "execution_count": 48,
     "metadata": {},
     "output_type": "execute_result"
    },
    {
     "name": "stderr",
     "output_type": "stream",
     "text": [
      ">>>>>>> remote\n"
     ]
    }
   ],
   "source": [
    "lstm_title_model.evaluate(X_test1, y_test)"
   ]
  },
  {
   "cell_type": "markdown",
   "id": "2ea4ce12",
   "metadata": {},
   "source": [
    "## 2. Training on all text (title + text)"
   ]
  },
  {
   "cell_type": "markdown",
   "id": "792496dd",
   "metadata": {},
   "source": [
    "### Training the word2vec model on the dataset"
   ]
  },
  {
   "cell_type": "code",
   "execution_count": 75,
   "id": "e4cf4ba8",
   "metadata": {},
   "outputs": [],
   "source": [
    "X_train2 = X_train['all_text']\n",
    "X_val2 = X_val['all_text']\n",
    "X_test2 = X_test['all_text']"
   ]
  },
  {
   "cell_type": "code",
   "execution_count": 76,
   "id": "bf86fec8",
   "metadata": {},
   "outputs": [
    {
     "name": "stdout",
     "output_type": "stream",
     "text": [
      "['donald', 'trump', 'sends', 'embarrassing', 'new', 'year', 'eve', 'message', 'disturbing', 'donald', 'trump', 'wish', 'americans', 'happy', 'new', 'year', 'leave', 'instead', 'give', 'shout', 'enemies', 'haters', 'dishonest', 'fake', 'news', 'media', 'former', 'reality', 'show', 'star', 'one', 'job', 'country', 'rapidly', 'grows', 'stronger', 'smarter', 'want', 'wish', 'friends', 'supporters', 'enemies', 'haters', 'even', 'dishonest', 'fake', 'news', 'media', 'happy', 'healthy', 'new', 'year', 'president', 'angry', 'pants', 'tweeted', 'great', 'year', 'america', 'country', 'rapidly', 'grows', 'stronger', 'smarter', 'want', 'wish', 'friends', 'supporters', 'enemies', 'haters', 'even', 'dishonest', 'fake', 'news', 'media', 'happy', 'healthy', 'new', 'year', 'great', 'year', 'america', 'donald', 'trump', 'realdonaldtrump', 'december', 'trump', 'tweet', 'went', 'welll', 'expect', 'kind', 'president', 'sends', 'new', 'year', 'greeting', 'like', 'despicable', 'petty', 'infantile', 'gibberish', 'trump', 'lack', 'decency', 'even', 'allow', 'rise', 'gutter', 'long', 'enough', 'wish', 'american', 'citizens', 'happy', 'new', 'year', 'bishop', 'talbert', 'swan', 'talbertswan', 'december', 'one', 'likes', 'calvin', 'calvinstowell', 'december', 'impeachment', 'would', 'make', 'great', 'year', 'america', 'also', 'accept', 'regaining', 'control', 'congress', 'miranda', 'yaver', 'mirandayaver', 'december', 'hear', 'talk', 'include', 'many', 'people', 'hate', 'wonder', 'hate', 'alan', 'sandoval', 'alansandoval', 'december', 'uses', 'word', 'haters', 'new', 'years', 'wish', 'marlene', 'marlene', 'december', 'say', 'happy', 'new', 'year', 'koren', 'pollitt', 'korencarpenter', 'december', 'trump', 'new', 'year', 'eve', 'tweet', 'happy', 'new', 'year', 'including', 'many', 'enemies', 'fought', 'lost', 'badly', 'know', 'love', 'donald', 'trump', 'realdonaldtrump', 'december', 'nothing', 'new', 'trump', 'years', 'trump', 'directed', 'messages', 'enemies', 'haters', 'new', 'year', 'easter', 'thanksgiving', 'anniversary', 'pic', 'twitter', 'com', 'fpae', 'kypa', 'daniel', 'dale', 'ddale', 'december', 'trump', 'holiday', 'tweets', 'clearly', 'presidential', 'long', 'work', 'hallmark', 'becoming', 'president', 'steven', 'goodine', 'sgoodine', 'december', 'always', 'like', 'difference', 'last', 'years', 'filter', 'breaking', 'roy', 'schulze', 'thbthttt', 'december', 'apart', 'teenager', 'uses', 'term', 'haters', 'wendy', 'wendywhistles', 'december', 'fucking', 'year', 'old', 'knows', 'rainyday', 'december', 'people', 'voted', 'hole', 'thinking', 'would', 'change', 'got', 'power', 'wrong', '-year-old', 'men', 'change', 'year', 'older', 'photo', 'andrew', 'burton', 'getty', 'images']\n"
     ]
    }
   ],
   "source": [
    "<<<<<<< LOCAL CELL DELETED >>>>>>>\n",
    " # all tokens generated in the first article\n",
    "print(X_train2[0])"
   ]
  },
  {
   "cell_type": "code",
   "execution_count": null,
   "id": "de7d5ff2",
   "metadata": {},
   "outputs": [
    {
     "name": "stdout",
     "output_type": "stream",
     "text": [
      "CPU times: user 1min 31s, sys: 767 ms, total: 1min 32s\n",
      "Wall time: 35.2 s\n"
     ]
    }
   ],
   "source": [
    "# training word2vec on the 'text' corpus to form the embedding layer\n",
    "from gensim.models import Word2Vec\n",
    "\n",
    "EMBEDDING_DIM = 100\n",
    "w2v = Word2Vec(\n",
    "    sentences = X_train_alltext,\n",
    "    vector_size = EMBEDDING_DIM,\n",
    "    window = 5,\n",
    "    min_count = 1\n",
    ")"
   ]
  },
  {
   "cell_type": "code",
   "execution_count": null,
   "id": "a99aa241",
   "metadata": {},
   "outputs": [
    {
     "name": "stdout",
     "output_type": "stream",
     "text": [
      "There are a total of 108281 words in the vocabulary of our trained word2vec model.\n"
     ]
    }
   ],
   "source": [
    "num = len(w2v.wv)\n",
    "print('There are a total of %d words in the vocabulary of our trained word2vec model.' % num)"
   ]
  },
  {
   "cell_type": "code",
   "execution_count": null,
   "id": "304daac9",
   "metadata": {},
   "outputs": [
    {
     "name": "stderr",
     "output_type": "stream",
     "text": [
      "<<<<<<< local\n"
     ]
    },
    {
     "data": {
      "text/plain": [
       "array([-1.2755212e+00, -2.4483891e-01, -3.3259077e+00,  1.1881393e+00,\n",
       "       -1.5453155e+00, -8.5365903e-01, -1.8547323e+00,  1.1752487e+00,\n",
       "       -1.6967301e+00,  2.0702002e+00, -9.6109229e-01,  1.4290427e+00,\n",
       "        5.4061264e-01,  3.0945629e-01, -5.4003048e-01,  1.7356414e+00,\n",
       "        3.8711023e-01, -2.8266547e+00,  3.3998659e+00, -5.0392532e-01,\n",
       "        8.4177375e-01,  2.2277739e+00, -7.3250580e-01, -1.3489498e+00,\n",
       "        2.0691831e+00, -3.0194716e+00, -3.1585147e+00,  1.9094899e+00,\n",
       "       -2.9544780e-01,  1.5127783e+00, -9.7127974e-02,  2.7210884e+00,\n",
       "        9.9397534e-01,  2.4506335e+00,  2.4139216e+00,  1.3392528e+00,\n",
       "       -1.3870788e+00,  7.9234135e-01,  1.9755086e+00, -1.7639482e-01,\n",
       "        1.4515284e+00, -1.9390098e+00, -6.0140169e-01,  1.9122498e+00,\n",
       "        2.2628219e-03, -4.8189834e-01, -6.2620573e-02, -1.0337194e+00,\n",
       "        1.0380130e-01,  1.2568979e+00,  2.1662867e+00,  1.9928960e+00,\n",
       "       -7.5888580e-01, -3.8710940e-01, -1.5432696e+00,  5.4171437e-01,\n",
       "       -1.3162718e+00,  3.1880555e-01,  8.4062624e-01, -9.5896101e-01,\n",
       "        1.9840705e+00,  4.1895247e+00,  2.2411993e+00,  1.7618099e+00,\n",
       "       -1.5512525e+00, -3.2777336e+00,  1.9710433e+00,  8.4711438e-01,\n",
       "        1.7425671e+00, -2.4056222e+00, -1.2562085e+00,  2.8198128e+00,\n",
       "       -1.9616619e+00, -1.7862604e+00,  1.1699055e+00, -8.7039196e-01,\n",
       "        3.5459077e-01, -1.4987017e-03,  1.6938715e+00, -2.6308835e+00,\n",
       "        1.0944748e+00, -2.1845136e+00,  1.3051994e+00,  4.3512406e+00,\n",
       "        1.6018502e+00, -2.3363199e+00, -6.1810565e-01,  5.1221335e-01,\n",
       "        3.1548411e-01,  2.7069283e+00, -1.4386388e+00, -1.8548715e+00,\n",
       "       -2.3171444e+00, -1.2276829e+00,  4.2787991e+00, -8.3771056e-01,\n",
       "       -3.4382794e+00,  1.3468871e+00,  1.0998570e+00,  2.9886236e+00],\n",
       "      dtype=float32)"
      ]
     },
     "execution_count": 67,
     "metadata": {},
     "output_type": "execute_result"
    },
    {
     "name": "stderr",
     "output_type": "stream",
     "text": [
      "=======\n"
     ]
    },
    {
     "data": {
      "text/plain": [
       "array([-1.6314154 ,  1.4955556 , -1.4407815 ,  1.5171522 , -2.5575368 ,\n",
       "       -0.56538314, -1.3531022 ,  0.9889945 , -1.2652371 ,  3.2407134 ,\n",
       "       -0.92265886, -0.25792125, -0.01475068,  1.3487247 , -1.5101459 ,\n",
       "        2.3005598 , -0.71978086, -2.933771  ,  3.6756122 , -1.132561  ,\n",
       "        0.51757133,  0.96989316, -0.45367733, -0.25192797,  2.5143518 ,\n",
       "       -3.2115    , -3.158529  ,  0.08550263, -0.3493004 ,  0.64664286,\n",
       "       -0.6683444 ,  2.1531692 ,  1.9030342 ,  1.8107902 ,  1.3795037 ,\n",
       "        2.1782067 , -1.0706915 ,  1.8116537 ,  0.07430641, -0.31939843,\n",
       "        1.53058   , -0.2774306 ,  0.5602655 ,  0.561102  , -0.94820774,\n",
       "       -0.5505203 , -0.8152316 ,  0.7697111 ,  0.0087425 , -0.16676944,\n",
       "        1.5863199 ,  1.9513414 ,  0.2738626 ,  0.7467672 , -2.7104578 ,\n",
       "       -0.20833962, -2.2161636 ,  0.3763268 ,  0.39972454, -1.7881414 ,\n",
       "        0.8305237 ,  2.7834113 ,  1.5774425 ,  1.1892978 , -1.0226973 ,\n",
       "       -2.1337926 ,  1.6630524 ,  0.21934755,  1.9383119 , -2.4107685 ,\n",
       "       -2.7423215 ,  2.31041   , -3.3539276 , -1.2797627 ,  0.4178094 ,\n",
       "       -1.4381211 , -1.3738159 ,  1.5609161 ,  1.9143414 , -3.2368524 ,\n",
       "        0.8471216 , -2.366322  ,  0.24694955,  4.5232973 ,  3.0947697 ,\n",
       "       -2.4780192 , -1.8623532 ,  1.78846   , -0.15719953,  4.1519856 ,\n",
       "       -1.4809476 , -3.1561134 ,  0.4208604 , -0.2006893 ,  2.9445405 ,\n",
       "       -1.7351325 , -2.776458  , -0.16737469, -0.22009642,  3.8362286 ],\n",
       "      dtype=float32)"
      ]
     },
     "execution_count": 79,
     "metadata": {},
     "output_type": "execute_result"
    },
    {
     "name": "stderr",
     "output_type": "stream",
     "text": [
      ">>>>>>> remote\n"
     ]
    }
   ],
   "source": [
    "w2v.wv[\"donald\"]"
   ]
  },
  {
   "cell_type": "code",
   "execution_count": null,
   "id": "26df7d30",
   "metadata": {},
   "outputs": [
    {
     "name": "stderr",
     "output_type": "stream",
     "text": [
      "<<<<<<< local\n"
     ]
    },
    {
     "data": {
      "text/plain": [
       "[('president-elect', 0.6297062039375305),\n",
       " ('instead', 0.526829719543457),\n",
       " ('course', 0.5192578434944153),\n",
       " ('actually', 0.5098420977592468),\n",
       " ('fact', 0.5029680132865906),\n",
       " ('conway', 0.49326539039611816),\n",
       " ('obama', 0.4837634563446045),\n",
       " ('yet', 0.4737081229686737),\n",
       " ('clearly', 0.46551617980003357),\n",
       " ('haiku', 0.4599129855632782)]"
      ]
     },
     "execution_count": 68,
     "metadata": {},
     "output_type": "execute_result"
    },
    {
     "name": "stderr",
     "output_type": "stream",
     "text": [
      "=======\n"
     ]
    },
    {
     "data": {
      "text/plain": [
       "[('president-elect', 0.646259069442749),\n",
       " ('instead', 0.5322952270507812),\n",
       " ('conway', 0.5134116411209106),\n",
       " ('loose-lipped', 0.5096831321716309),\n",
       " ('course', 0.5056433081626892),\n",
       " ('actually', 0.49975472688674927),\n",
       " ('fact', 0.49385425448417664),\n",
       " ('wherevers', 0.4834011495113373),\n",
       " ('obama', 0.4752030372619629),\n",
       " ('exactly', 0.4715747535228729)]"
      ]
     },
     "execution_count": 80,
     "metadata": {},
     "output_type": "execute_result"
    },
    {
     "name": "stderr",
     "output_type": "stream",
     "text": [
      ">>>>>>> remote\n"
     ]
    }
   ],
   "source": [
    "w2v.wv.most_similar(\"trump\")"
   ]
  },
  {
   "cell_type": "markdown",
   "id": "a08aba56",
   "metadata": {
    "tags": []
   },
   "source": [
    "### Preparing the neural network model inputs"
   ]
  },
  {
   "cell_type": "code",
   "execution_count": null,
   "id": "5da5af48",
   "metadata": {},
   "outputs": [
    {
     "name": "stdout",
     "output_type": "stream",
     "text": [
      "Vocab Size for All Text: 108282\n"
     ]
    }
   ],
   "source": [
    "X_train_alltext,X_val_alltext,X_test_alltext, vocab_alltext = tokenize(X_train_alltext,X_val_alltext,X_test_alltext)\n",
    "max_vocab_alltext = len(vocab_alltext) + 1\n",
    "print(\"Vocab Size for All Text: {}\".format(max_vocab_alltext))"
   ]
  },
  {
   "cell_type": "code",
   "execution_count": null,
   "id": "ec7c3a12",
   "metadata": {},
   "outputs": [
    {
     "name": "stdout",
     "output_type": "stream",
     "text": [
      "[596, 4, 1478, 9658, 1326, 836, 378, 211, 7, 20, 11, 2, 596, 4, 913, 1478, 945, 4, 3491, 1326, 1282, 1137, 6929, 1195, 378, 211, 7, 142, 360, 5112, 1478, 1326, 9, 2265, 2438, 39808, 253, 1270, 459, 393, 3454, 5946, 874, 3455, 20, 11, 2, 78, 337, 218]\n"
     ]
    }
   ],
   "source": [
    "# all token indexes generated from the first article\n",
    "print(X_train2[0])"
   ]
  },
  {
   "cell_type": "code",
   "execution_count": null,
   "id": "20300d01",
   "metadata": {},
   "outputs": [
    {
     "name": "stderr",
     "output_type": "stream",
     "text": [
      "<<<<<<< local\n"
     ]
    },
    {
     "data": {
      "image/png": "[encoded data removed]",
      "text/plain": [
       "<Figure size 432x288 with 1 Axes>"
      ]
     },
     "metadata": {
      "needs_background": "light"
     },
     "output_type": "display_data"
    },
    {
     "name": "stderr",
     "output_type": "stream",
     "text": [
      "=======\n"
     ]
    },
    {
     "data": {
      "image/png": "[encoded data removed]",
      "text/plain": [
       "<Figure size 640x480 with 1 Axes>"
      ]
     },
     "metadata": {},
     "output_type": "display_data"
    },
    {
     "name": "stderr",
     "output_type": "stream",
     "text": [
      ">>>>>>> remote\n"
     ]
    }
   ],
   "source": [
    "article_lens = np.array([len(index) for index in X_train2])\n",
    "plt.hist(article_lens, bins=500)\n",
    "plt.show()"
   ]
  },
  {
   "cell_type": "code",
   "execution_count": null,
   "id": "f453e26b",
   "metadata": {},
   "outputs": [
    {
     "name": "stdout",
     "output_type": "stream",
     "text": [
      "23102 out of 23194 articles have less than 1000 words\n"
     ]
    }
   ],
   "source": [
    "len_1000 = article_lens[article_lens < 1000]\n",
    "print('%d out of %d articles have less than 1000 words' % (len(len_1000),len(article_lens)))"
   ]
  },
  {
   "cell_type": "markdown",
   "id": "a8f7f516",
   "metadata": {},
   "source": [
    "<li>Since the inputs to the neural network have to be of the same size, we have to pad each article in the dataset.</li>\n",
    "<li>Since the majority of articles have less than 1000 words, we pad shorter news articles and truncate longer articles.</li>"
   ]
  },
  {
   "cell_type": "code",
   "execution_count": null,
   "id": "a30971e3",
   "metadata": {},
   "outputs": [
    {
     "name": "stdout",
     "output_type": "stream",
     "text": [
      "Max All Text Length: 1000\n"
     ]
    }
   ],
   "source": [
    "max_len2 = 1000\n",
    "X_train2, X_val2, X_test2 = pad(X_train2, X_val2, X_test2, max_len2)\n",
    "print(\"Max All Text Length: {}\".format(max_len2))"
   ]
  },
  {
   "cell_type": "code",
   "execution_count": null,
   "id": "aa16ba54",
   "metadata": {},
   "outputs": [],
   "source": [
    "# creating a weight matrix to retain weights learned by word2vec in the embedding layer later on\n",
    "def get_weight_matrix(model, vocab):\n",
    "    # total vocabulary size plus 0 for unknown words\n",
    "    vocab_size = len(vocab) + 1\n",
    "    # create weight matrix with number of rows = vocab_size and number of columns = number of embedding dimensions\n",
    "    weight_matrix = np.zeros((vocab_size, EMBEDDING_DIM))\n",
    "    # for each word in the vocab, store its vector created by the word2vec model\n",
    "    for word, row_index in vocab.items():\n",
    "        weight_matrix[row_index] = model.wv[word]\n",
    "    return weight_matrix"
   ]
  },
  {
   "cell_type": "code",
   "execution_count": null,
   "id": "ca1d84d3",
   "metadata": {},
   "outputs": [],
   "source": [
    "embedding_vectors = get_weight_matrix(w2v, vocab2)"
   ]
  },
  {
   "cell_type": "markdown",
   "id": "f8828b9e",
   "metadata": {},
   "source": [
    "### Model 3: Training a simple RNN model on all text"
   ]
  },
  {
   "cell_type": "code",
   "execution_count": null,
   "id": "c9afa498",
   "metadata": {},
   "outputs": [
    {
     "name": "stderr",
     "output_type": "stream",
     "text": [
      "<<<<<<< local\n"
     ]
    },
    {
     "name": "stdout",
     "output_type": "stream",
     "text": [
      "Model: \"sequential_4\"\n",
      "_________________________________________________________________\n",
      " Layer (type)                Output Shape              Param #   \n",
      "=================================================================\n",
      " embedding_4 (Embedding)     (None, 1000, 100)         10828200  \n",
      "                                                                 \n",
      " bidirectional_4 (Bidirectio  (None, 256)              58624     \n",
      " nal)                                                            \n",
      "                                                                 \n",
      " dropout_4 (Dropout)         (None, 256)               0         \n",
      "                                                                 \n",
      " dense_4 (Dense)             (None, 1)                 257       \n",
      "                                                                 \n",
      "=================================================================\n",
      "Total params: 10,887,081\n",
      "Trainable params: 58,881\n",
      "Non-trainable params: 10,828,200\n",
      "_________________________________________________________________\n"
     ]
    },
    {
     "name": "stderr",
     "output_type": "stream",
     "text": [
      "=======\n"
     ]
    },
    {
     "name": "stdout",
     "output_type": "stream",
     "text": [
      "Model: \"sequential_2\"\n",
      "_________________________________________________________________\n",
      " Layer (type)                Output Shape              Param #   \n",
      "=================================================================\n",
      " embedding_2 (Embedding)     (None, 1000, 100)         10828200  \n",
      "                                                                 \n",
      " bidirectional_2 (Bidirectio  (None, 256)              58624     \n",
      " nal)                                                            \n",
      "                                                                 \n",
      " dropout_2 (Dropout)         (None, 256)               0         \n",
      "                                                                 \n",
      " dense_2 (Dense)             (None, 1)                 257       \n",
      "                                                                 \n",
      "=================================================================\n",
      "Total params: 10,887,081\n",
      "Trainable params: 58,881\n",
      "Non-trainable params: 10,828,200\n",
      "_________________________________________________________________\n"
     ]
    },
    {
     "name": "stderr",
     "output_type": "stream",
     "text": [
      ">>>>>>> remote\n"
     ]
    }
   ],
   "source": [
    "rnn_alltext_model = Sequential([\n",
    "    Embedding(max_vocab2, output_dim=EMBEDDING_DIM, weights=[embedding_vectors], input_length=max_len2, trainable=False),\n",
    "    Bidirectional(SimpleRNN(units=128)),\n",
    "    Dropout(0.5),\n",
    "    Dense(1, activation='sigmoid')\n",
    "])\n",
    "\n",
    "rnn_alltext_model.compile(loss=tf.keras.losses.BinaryCrossentropy(),\n",
    "              optimizer=tf.keras.optimizers.Adam(1e-4),\n",
    "              metrics=['accuracy'])\n",
    "\n",
    "rnn_alltext_model.summary()"
   ]
  },
  {
   "cell_type": "code",
   "execution_count": null,
   "id": "ac0a4795",
   "metadata": {},
   "outputs": [
    {
     "name": "stderr",
     "output_type": "stream",
     "text": [
      "<<<<<<< local\n"
     ]
    },
    {
     "name": "stdout",
     "output_type": "stream",
     "text": [
      "Epoch 1/10\n",
      "774/774 [==============================] - 1733s 2s/step - loss: 0.2064 - accuracy: 0.9314 - val_loss: 0.1804 - val_accuracy: 0.9399\n",
      "Epoch 2/10\n",
      "774/774 [==============================] - 1685s 2s/step - loss: 0.1834 - accuracy: 0.9407 - val_loss: 0.1634 - val_accuracy: 0.9470\n",
      "Epoch 3/10\n",
      "774/774 [==============================] - 1671s 2s/step - loss: 0.1656 - accuracy: 0.9487 - val_loss: 0.1577 - val_accuracy: 0.9507\n",
      "Epoch 4/10\n",
      "774/774 [==============================] - 1669s 2s/step - loss: 0.1661 - accuracy: 0.9474 - val_loss: 0.1546 - val_accuracy: 0.9484\n",
      "Epoch 5/10\n",
      "774/774 [==============================] - 1672s 2s/step - loss: 0.1630 - accuracy: 0.9495 - val_loss: 0.1496 - val_accuracy: 0.9512\n",
      "Epoch 6/10\n",
      "774/774 [==============================] - 1680s 2s/step - loss: 0.1491 - accuracy: 0.9538 - val_loss: 0.1490 - val_accuracy: 0.9484\n",
      "Epoch 7/10\n",
      "774/774 [==============================] - 1680s 2s/step - loss: 0.1458 - accuracy: 0.9550 - val_loss: 0.1435 - val_accuracy: 0.9541\n",
      "Epoch 8/10\n",
      "774/774 [==============================] - 1687s 2s/step - loss: 0.1416 - accuracy: 0.9557 - val_loss: 0.1368 - val_accuracy: 0.9553\n",
      "Epoch 9/10\n",
      "774/774 [==============================] - 1682s 2s/step - loss: 0.1316 - accuracy: 0.9609 - val_loss: 0.1401 - val_accuracy: 0.9577\n",
      "Epoch 10/10\n",
      "774/774 [==============================] - 1689s 2s/step - loss: 0.1311 - accuracy: 0.9609 - val_loss: 0.1304 - val_accuracy: 0.9586\n",
      "CPU times: total: 6h 30min 54s\n",
      "Wall time: 4h 40min 48s\n"
     ]
    },
    {
     "name": "stderr",
     "output_type": "stream",
     "text": [
      "=======\n"
     ]
    },
    {
     "name": "stdout",
     "output_type": "stream",
     "text": [
      "Epoch 1/10\n",
      "774/774 [==============================] - 317s 407ms/step - loss: 0.3345 - accuracy: 0.8503 - val_loss: 0.1741 - val_accuracy: 0.9422\n",
      "Epoch 2/10\n",
      "774/774 [==============================] - 288s 372ms/step - loss: 0.1764 - accuracy: 0.9446 - val_loss: 0.1468 - val_accuracy: 0.9506\n",
      "Epoch 3/10\n",
      "774/774 [==============================] - 292s 377ms/step - loss: 0.1576 - accuracy: 0.9520 - val_loss: 0.1450 - val_accuracy: 0.9529\n",
      "Epoch 4/10\n",
      "774/774 [==============================] - 301s 389ms/step - loss: 0.1458 - accuracy: 0.9553 - val_loss: 0.1342 - val_accuracy: 0.9582\n",
      "Epoch 5/10\n",
      "774/774 [==============================] - 280s 362ms/step - loss: 0.1442 - accuracy: 0.9565 - val_loss: 0.1287 - val_accuracy: 0.9572\n",
      "Epoch 6/10\n",
      "774/774 [==============================] - 291s 376ms/step - loss: 0.1315 - accuracy: 0.9602 - val_loss: 0.1254 - val_accuracy: 0.9599\n",
      "Epoch 7/10\n",
      "774/774 [==============================] - 283s 365ms/step - loss: 0.1247 - accuracy: 0.9631 - val_loss: 0.1926 - val_accuracy: 0.9355\n",
      "Epoch 8/10\n",
      "774/774 [==============================] - 285s 368ms/step - loss: 0.1271 - accuracy: 0.9620 - val_loss: 0.1260 - val_accuracy: 0.9604\n",
      "CPU times: user 1h 47min 25s, sys: 10min 45s, total: 1h 58min 10s\n",
      "Wall time: 38min 56s\n"
     ]
    },
    {
     "name": "stderr",
     "output_type": "stream",
     "text": [
      ">>>>>>> remote\n"
     ]
    }
   ],
   "source": [
    "%%time\n",
    "rnn_alltext_history = rnn_alltext_model.fit(X_train_alltext, y_train, epochs=10, \n",
    "                                validation_data=(X_val_alltext, y_val), batch_size=30, \n",
    "                                shuffle=True, callbacks=[early_stop])"
   ]
  },
  {
   "cell_type": "code",
   "execution_count": null,
   "id": "d30a7eaa",
   "metadata": {},
   "outputs": [
    {
     "name": "stderr",
     "output_type": "stream",
     "text": [
      "<<<<<<< local\n"
     ]
    },
    {
     "data": {
      "image/png": "[encoded data removed]",
      "text/plain": [
       "<Figure size 432x288 with 1 Axes>"
      ]
     },
     "metadata": {
      "needs_background": "light"
     },
     "output_type": "display_data"
    },
    {
     "data": {
      "image/png": "[encoded data removed]",
      "text/plain": [
       "<Figure size 432x288 with 1 Axes>"
      ]
     },
     "metadata": {
      "needs_background": "light"
     },
     "output_type": "display_data"
    },
    {
     "name": "stderr",
     "output_type": "stream",
     "text": [
      "=======\n"
     ]
    },
    {
     "data": {
      "image/png": "[encoded data removed]",
      "text/plain": [
       "<Figure size 640x480 with 1 Axes>"
      ]
     },
     "metadata": {},
     "output_type": "display_data"
    },
    {
     "data": {
      "image/png": "[encoded data removed]",
      "text/plain": [
       "<Figure size 640x480 with 1 Axes>"
      ]
     },
     "metadata": {},
     "output_type": "display_data"
    },
    {
     "name": "stderr",
     "output_type": "stream",
     "text": [
      ">>>>>>> remote\n"
     ]
    }
   ],
   "source": [
    "plotHistory(rnn_alltext_history)"
   ]
  },
  {
   "cell_type": "code",
   "execution_count": null,
   "id": "62b86caf",
   "metadata": {},
   "outputs": [
    {
     "name": "stderr",
     "output_type": "stream",
     "text": [
      "<<<<<<< local\n"
     ]
    },
    {
     "name": "stdout",
     "output_type": "stream",
     "text": [
      "725/725 [==============================] - 266s 367ms/step - loss: 0.1161 - accuracy: 0.9646\n"
     ]
    },
    {
     "data": {
      "text/plain": [
       "[0.11612874269485474, 0.96455979347229]"
      ]
     },
     "execution_count": 89,
     "metadata": {},
     "output_type": "execute_result"
    },
    {
     "name": "stderr",
     "output_type": "stream",
     "text": [
      "=======\n"
     ]
    },
    {
     "name": "stdout",
     "output_type": "stream",
     "text": [
      "725/725 [==============================] - 69s 96ms/step - loss: 0.1136 - accuracy: 0.9660\n"
     ]
    },
    {
     "data": {
      "text/plain": [
       "[0.11355914920568466, 0.966025710105896]"
      ]
     },
     "execution_count": 94,
     "metadata": {},
     "output_type": "execute_result"
    },
    {
     "name": "stderr",
     "output_type": "stream",
     "text": [
      ">>>>>>> remote\n"
     ]
    }
   ],
   "source": [
    "rnn_alltext_model.evaluate(X_train2, y_train)"
   ]
  },
  {
   "cell_type": "code",
   "execution_count": null,
   "id": "5bf60d30",
   "metadata": {},
   "outputs": [
    {
     "name": "stderr",
     "output_type": "stream",
     "text": [
      "<<<<<<< local\n"
     ]
    },
    {
     "name": "stdout",
     "output_type": "stream",
     "text": [
      "242/242 [==============================] - 88s 365ms/step - loss: 0.1304 - accuracy: 0.9586\n"
     ]
    },
    {
     "data": {
      "text/plain": [
       "[0.13042132556438446, 0.9586135745048523]"
      ]
     },
     "execution_count": 90,
     "metadata": {},
     "output_type": "execute_result"
    },
    {
     "name": "stderr",
     "output_type": "stream",
     "text": [
      "=======\n"
     ]
    },
    {
     "name": "stdout",
     "output_type": "stream",
     "text": [
      "242/242 [==============================] - 26s 109ms/step - loss: 0.1254 - accuracy: 0.9599\n"
     ]
    },
    {
     "data": {
      "text/plain": [
       "[0.12535838782787323, 0.9599068760871887]"
      ]
     },
     "execution_count": 95,
     "metadata": {},
     "output_type": "execute_result"
    },
    {
     "name": "stderr",
     "output_type": "stream",
     "text": [
      ">>>>>>> remote\n"
     ]
    }
   ],
   "source": [
    "rnn_alltext_model.evaluate(X_val2, y_val)"
   ]
  },
  {
   "cell_type": "code",
   "execution_count": null,
   "id": "5967fe98",
   "metadata": {},
   "outputs": [
    {
     "name": "stderr",
     "output_type": "stream",
     "text": [
      "<<<<<<< local\n"
     ]
    },
    {
     "name": "stdout",
     "output_type": "stream",
     "text": [
      "242/242 [==============================] - 89s 367ms/step - loss: 0.1369 - accuracy: 0.9550\n"
     ]
    },
    {
     "data": {
      "text/plain": [
       "[0.13688859343528748, 0.9549922347068787]"
      ]
     },
     "execution_count": 91,
     "metadata": {},
     "output_type": "execute_result"
    },
    {
     "name": "stderr",
     "output_type": "stream",
     "text": [
      "=======\n"
     ]
    },
    {
     "name": "stdout",
     "output_type": "stream",
     "text": [
      "242/242 [==============================] - 22s 90ms/step - loss: 0.1310 - accuracy: 0.9585\n"
     ]
    },
    {
     "data": {
      "text/plain": [
       "[0.1310245543718338, 0.9584842324256897]"
      ]
     },
     "execution_count": 100,
     "metadata": {},
     "output_type": "execute_result"
    },
    {
     "name": "stderr",
     "output_type": "stream",
     "text": [
      ">>>>>>> remote\n"
     ]
    }
   ],
   "source": [
    "rnn_alltext_model.evaluate(X_test2, y_test)"
   ]
  },
  {
   "cell_type": "markdown",
   "id": "0e6e5f0c",
   "metadata": {},
   "source": [
    "### Model 4: Training an LSTM model on all text"
   ]
  },
  {
   "cell_type": "code",
   "execution_count": null,
   "id": "0909cc63",
   "metadata": {},
   "outputs": [
    {
     "name": "stderr",
     "output_type": "stream",
     "text": [
      "<<<<<<< local\n"
     ]
    },
    {
     "name": "stdout",
     "output_type": "stream",
     "text": [
      "Model: \"sequential_6\"\n",
      "_________________________________________________________________\n",
      " Layer (type)                Output Shape              Param #   \n",
      "=================================================================\n",
      " embedding_6 (Embedding)     (None, 1000, 100)         10828200  \n",
      "                                                                 \n",
      " bidirectional_6 (Bidirectio  (None, 256)              234496    \n",
      " nal)                                                            \n",
      "                                                                 \n",
      " dropout_6 (Dropout)         (None, 256)               0         \n",
      "                                                                 \n",
      " dense_6 (Dense)             (None, 1)                 257       \n",
      "                                                                 \n",
      "=================================================================\n",
      "Total params: 11,062,953\n",
      "Trainable params: 234,753\n",
      "Non-trainable params: 10,828,200\n",
      "_________________________________________________________________\n"
     ]
    },
    {
     "name": "stderr",
     "output_type": "stream",
     "text": [
      "=======\n"
     ]
    },
    {
     "name": "stdout",
     "output_type": "stream",
     "text": [
      "Model: \"sequential_4\"\n",
      "_________________________________________________________________\n",
      " Layer (type)                Output Shape              Param #   \n",
      "=================================================================\n",
      " embedding_4 (Embedding)     (None, 1000, 100)         10828200  \n",
      "                                                                 \n",
      " bidirectional_4 (Bidirectio  (None, 256)              234496    \n",
      " nal)                                                            \n",
      "                                                                 \n",
      " dropout_4 (Dropout)         (None, 256)               0         \n",
      "                                                                 \n",
      " dense_4 (Dense)             (None, 1)                 257       \n",
      "                                                                 \n",
      "=================================================================\n",
      "Total params: 11,062,953\n",
      "Trainable params: 234,753\n",
      "Non-trainable params: 10,828,200\n",
      "_________________________________________________________________\n"
     ]
    },
    {
     "name": "stderr",
     "output_type": "stream",
     "text": [
      ">>>>>>> remote\n"
     ]
    }
   ],
   "source": [
    "lstm_alltext_model = Sequential([\n",
    "    Embedding(max_vocab2, output_dim=EMBEDDING_DIM, weights=[embedding_vectors], input_length=max_len2, trainable=False),\n",
    "    Bidirectional(LSTM(units=128)),\n",
    "    Dropout(0.5),\n",
    "    Dense(1, activation='sigmoid')\n",
    "])\n",
    "\n",
    "lstm_alltext_model.compile(loss=tf.keras.losses.BinaryCrossentropy(),\n",
    "              optimizer=tf.keras.optimizers.Adam(1e-4),\n",
    "              metrics=['accuracy'])\n",
    "\n",
    "lstm_alltext_model.summary()"
   ]
  },
  {
   "cell_type": "code",
   "execution_count": null,
   "id": "7088874c",
   "metadata": {},
   "outputs": [
    {
     "name": "stderr",
     "output_type": "stream",
     "text": [
      "<<<<<<< local\n"
     ]
    },
    {
     "name": "stdout",
     "output_type": "stream",
     "text": [
      "Epoch 1/10\n",
      "774/774 [==============================] - 63s 77ms/step - loss: 0.1838 - accuracy: 0.9333 - val_loss: 0.0928 - val_accuracy: 0.9692\n",
      "Epoch 2/10\n",
      "774/774 [==============================] - 59s 76ms/step - loss: 0.0843 - accuracy: 0.9715 - val_loss: 0.0696 - val_accuracy: 0.9771\n",
      "Epoch 3/10\n",
      "774/774 [==============================] - 59s 76ms/step - loss: 0.0673 - accuracy: 0.9776 - val_loss: 0.0588 - val_accuracy: 0.9809\n",
      "Epoch 4/10\n",
      "774/774 [==============================] - 59s 76ms/step - loss: 0.0568 - accuracy: 0.9821 - val_loss: 0.0545 - val_accuracy: 0.9824\n",
      "Epoch 5/10\n",
      "774/774 [==============================] - 59s 76ms/step - loss: 0.0469 - accuracy: 0.9844 - val_loss: 0.0582 - val_accuracy: 0.9811\n",
      "Epoch 6/10\n",
      "774/774 [==============================] - 59s 76ms/step - loss: 0.0445 - accuracy: 0.9851 - val_loss: 0.0473 - val_accuracy: 0.9837\n",
      "Epoch 7/10\n",
      "774/774 [==============================] - 59s 76ms/step - loss: 0.0510 - accuracy: 0.9824 - val_loss: 0.0486 - val_accuracy: 0.9838\n",
      "Epoch 8/10\n",
      "774/774 [==============================] - 59s 76ms/step - loss: 0.0336 - accuracy: 0.9890 - val_loss: 0.0459 - val_accuracy: 0.9868\n",
      "Epoch 9/10\n",
      "774/774 [==============================] - 59s 76ms/step - loss: 0.0321 - accuracy: 0.9894 - val_loss: 0.0395 - val_accuracy: 0.9877\n",
      "Epoch 10/10\n",
      "774/774 [==============================] - 59s 76ms/step - loss: 0.0262 - accuracy: 0.9909 - val_loss: 0.0549 - val_accuracy: 0.9803\n",
      "CPU times: total: 9min 43s\n",
      "Wall time: 9min 55s\n"
     ]
    },
    {
     "name": "stderr",
     "output_type": "stream",
     "text": [
      "=======\n"
     ]
    },
    {
     "name": "stdout",
     "output_type": "stream",
     "text": [
      "Epoch 1/10\n",
      "774/774 [==============================] - 1350s 2s/step - loss: 0.1743 - accuracy: 0.9409 - val_loss: 0.1068 - val_accuracy: 0.9634\n",
      "Epoch 2/10\n",
      "774/774 [==============================] - 1257s 2s/step - loss: 0.0824 - accuracy: 0.9726 - val_loss: 0.0672 - val_accuracy: 0.9768\n",
      "Epoch 3/10\n",
      "774/774 [==============================] - 1222s 2s/step - loss: 0.0722 - accuracy: 0.9763 - val_loss: 0.0578 - val_accuracy: 0.9794\n",
      "Epoch 4/10\n",
      "774/774 [==============================] - 1230s 2s/step - loss: 0.0634 - accuracy: 0.9792 - val_loss: 0.0617 - val_accuracy: 0.9785\n",
      "Epoch 5/10\n",
      "774/774 [==============================] - 1226s 2s/step - loss: 0.0571 - accuracy: 0.9812 - val_loss: 0.0840 - val_accuracy: 0.9758\n",
      "CPU times: user 4h 59min 12s, sys: 59min 43s, total: 5h 58min 55s\n",
      "Wall time: 1h 44min 45s\n"
     ]
    },
    {
     "name": "stderr",
     "output_type": "stream",
     "text": [
      ">>>>>>> remote\n"
     ]
    }
   ],
   "source": [
    "%%time\n",
    "lstm_alltext_history = lstm_alltext_model.fit(X_train_alltext, y_train, epochs=10, \n",
    "                                validation_data=(X_val_alltext, y_val), batch_size=30, \n",
    "                                shuffle=True, callbacks=[early_stop])"
   ]
  },
  {
   "cell_type": "code",
   "execution_count": 94,
   "id": "c1c5bd8d",
   "metadata": {},
   "outputs": [
    {
     "data": {
      "image/png": "[encoded data removed]",
      "text/plain": [
       "<Figure size 432x288 with 1 Axes>"
      ]
     },
     "metadata": {
      "needs_background": "light"
     },
     "output_type": "display_data"
    },
    {
     "data": {
      "image/png": "[encoded data removed]",
      "text/plain": [
       "<Figure size 432x288 with 1 Axes>"
      ]
     },
     "metadata": {
      "needs_background": "light"
     },
     "output_type": "display_data"
    }
   ],
   "source": [
    "plotHistory(lstm_alltext_history)"
   ]
  },
  {
   "cell_type": "code",
   "execution_count": 95,
   "id": "2863fd31",
   "metadata": {},
   "outputs": [
    {
     "name": "stdout",
     "output_type": "stream",
     "text": [
      "725/725 [==============================] - 27s 37ms/step - loss: 0.0309 - accuracy: 0.9894\n"
     ]
    },
    {
     "data": {
      "text/plain": [
       "[0.03091881424188614, 0.9893506765365601]"
      ]
     },
     "execution_count": 95,
     "metadata": {},
     "output_type": "execute_result"
    }
   ],
   "source": [
    "lstm_alltext_model.evaluate(X_train2, y_train)"
   ]
  },
  {
   "cell_type": "code",
   "execution_count": 96,
   "id": "619deb68",
   "metadata": {},
   "outputs": [
    {
     "name": "stdout",
     "output_type": "stream",
     "text": [
      "242/242 [==============================] - 9s 37ms/step - loss: 0.0549 - accuracy: 0.9803\n"
     ]
    },
    {
     "data": {
      "text/plain": [
       "[0.0549151711165905, 0.9803414344787598]"
      ]
     },
     "execution_count": 96,
     "metadata": {},
     "output_type": "execute_result"
    }
   ],
   "source": [
    "lstm_alltext_model.evaluate(X_val2, y_val)"
   ]
  },
  {
   "cell_type": "code",
   "execution_count": 97,
   "id": "90e94f5a",
   "metadata": {},
   "outputs": [
    {
     "name": "stdout",
     "output_type": "stream",
     "text": [
      "242/242 [==============================] - 9s 36ms/step - loss: 0.0495 - accuracy: 0.9849\n"
     ]
    },
    {
     "data": {
      "text/plain": [
       "[0.04950638487935066, 0.9848681092262268]"
      ]
     },
     "execution_count": 97,
     "metadata": {},
     "output_type": "execute_result"
    }
   ],
   "source": [
    "lstm_alltext_model.evaluate(X_test2, y_test)"
   ]
  },
  {
   "cell_type": "markdown",
   "id": "6059187a",
   "metadata": {},
   "source": [
    "### Hyperparameter tuning for LSTM model for all text"
   ]
  },
  {
   "cell_type": "code",
   "execution_count": null,
   "id": "bb0503dd",
   "metadata": {},
   "outputs": [],
   "source": [
    "def hyperparameterTuning(hp): #https://keras.io/api/keras_tuner/hyperparameters/\n",
    "    model = Sequential([\n",
    "        Embedding(max_vocab2, output_dim=EMBEDDING_DIM, weights=[embedding_vectors], input_length=max_len2, trainable=False),\n",
    "        Bidirectional(LSTM(units=hp.Int('units', min_value=64, max_value=192, step=64))), #https://keras.io/api/layers/recurrent_layers/simple_rnn/\n",
    "        Dropout(rate=hp.Float('rate', min_value=0.3, max_value=0.7, step=0.2)), #https://keras.io/api/layers/regularization_layers/dropout/\n",
    "        Dense(1, activation='sigmoid')\n",
    "    ])\n",
    "    model.compile(loss=tf.keras.losses.BinaryCrossentropy(),\n",
    "              optimizer=tf.keras.optimizers.Adam(1e-4),\n",
    "              metrics=['accuracy'])\n",
    "    return model"
   ]
  },
  {
   "cell_type": "code",
   "execution_count": null,
   "id": "7dffb571",
   "metadata": {},
   "outputs": [],
   "source": [
    "#https://medium.com/swlh/hyperparameter-tuning-in-keras-tensorflow-2-with-keras-tuner-randomsearch-hyperband-3e212647778f\n",
    "tuner = keras_tuner.BayesianOptimization(hyperparameterTuning,\n",
    "                              objective='val_loss',\n",
    "                             directory='lstm_tuner2')"
   ]
  },
  {
   "cell_type": "code",
   "execution_count": null,
   "id": "13217b1f",
   "metadata": {},
   "outputs": [
    {
     "name": "stderr",
     "output_type": "stream",
     "text": [
      "<<<<<<< local <modified: >\n"
     ]
    },
    {
     "name": "stdout",
     "output_type": "stream",
     "text": [
      "Trial 10 Complete [00h 09m 58s]\n",
      "val_loss: 0.04726569354534149\n",
      "\n",
      "Best val_loss So Far: 0.03519487380981445\n",
      "Total elapsed time: 01h 47m 50s\n",
      "INFO:tensorflow:Oracle triggered exit\n"
     ]
    },
    {
     "name": "stderr",
     "output_type": "stream",
     "text": [
      "=======\n",
      ">>>>>>> remote <removed>\n"
     ]
    }
   ],
   "source": [
    "early_stop = tf.keras.callbacks.EarlyStopping(monitor='val_loss', patience=2, restore_best_weights=True)\n",
    "tuner.search(X_train2, y_train, epochs=10, \n",
    "            validation_data=(X_val2, y_val), batch_size=30, \n",
    "            shuffle=True, callbacks=[early_stop])"
   ]
  },
  {
   "cell_type": "code",
   "execution_count": 101,
   "id": "b00b687c",
   "metadata": {},
   "outputs": [
    {
     "name": "stdout",
     "output_type": "stream",
     "text": [
      "Results summary\n",
      "Results in lstm_tuner2\\untitled_project\n",
      "Showing 10 best trials\n",
      "<keras_tuner.engine.objective.Objective object at 0x000002B118530730>\n",
      "Trial summary\n",
      "Hyperparameters:\n",
      "units: 192\n",
      "rate: 0.3\n",
      "Score: 0.03519487380981445\n",
      "Trial summary\n",
      "Hyperparameters:\n",
      "units: 192\n",
      "rate: 0.3\n",
      "Score: 0.03970800340175629\n",
      "Trial summary\n",
      "Hyperparameters:\n",
      "units: 192\n",
      "rate: 0.7\n",
      "Score: 0.04148132726550102\n",
      "Trial summary\n",
      "Hyperparameters:\n",
      "units: 128\n",
      "rate: 0.7\n",
      "Score: 0.042161814868450165\n",
      "Trial summary\n",
      "Hyperparameters:\n",
      "units: 128\n",
      "rate: 0.5\n",
      "Score: 0.04451650008559227\n",
      "Trial summary\n",
      "Hyperparameters:\n",
      "units: 192\n",
      "rate: 0.3\n",
      "Score: 0.04726569354534149\n",
      "Trial summary\n",
      "Hyperparameters:\n",
      "units: 192\n",
      "rate: 0.5\n",
      "Score: 0.04821743443608284\n",
      "Trial summary\n",
      "Hyperparameters:\n",
      "units: 64\n",
      "rate: 0.5\n",
      "Score: 0.0489145964384079\n",
      "Trial summary\n",
      "Hyperparameters:\n",
      "units: 64\n",
      "rate: 0.7\n",
      "Score: 0.05317825824022293\n",
      "Trial summary\n",
      "Hyperparameters:\n",
      "units: 128\n",
      "rate: 0.3\n",
      "Score: 0.06557958573102951\n"
     ]
    }
   ],
   "source": [
    "tuner.results_summary()"
   ]
  },
  {
   "cell_type": "code",
   "execution_count": 102,
   "id": "ccdfb9a0",
   "metadata": {},
   "outputs": [],
   "source": [
    "best_lstm_model = tuner.get_best_models(num_models=1)[0]"
   ]
  },
  {
   "cell_type": "code",
   "execution_count": 103,
   "id": "573e0b0a",
   "metadata": {},
   "outputs": [
    {
     "name": "stdout",
     "output_type": "stream",
     "text": [
      "Model: \"sequential\"\n",
      "_________________________________________________________________\n",
      " Layer (type)                Output Shape              Param #   \n",
      "=================================================================\n",
      " embedding (Embedding)       (None, 1000, 100)         10828200  \n",
      "                                                                 \n",
      " bidirectional (Bidirectiona  (None, 384)              450048    \n",
      " l)                                                              \n",
      "                                                                 \n",
      " dropout (Dropout)           (None, 384)               0         \n",
      "                                                                 \n",
      " dense (Dense)               (None, 1)                 385       \n",
      "                                                                 \n",
      "=================================================================\n",
      "Total params: 11,278,633\n",
      "Trainable params: 450,433\n",
      "Non-trainable params: 10,828,200\n",
      "_________________________________________________________________\n"
     ]
    }
   ],
   "source": [
    "best_lstm_model.summary()"
   ]
  },
  {
   "cell_type": "code",
   "execution_count": 104,
   "id": "dbeaca43",
   "metadata": {},
   "outputs": [
    {
     "name": "stdout",
     "output_type": "stream",
     "text": [
      "725/725 [==============================] - 29s 39ms/step - loss: 0.0192 - accuracy: 0.9933\n"
     ]
    },
    {
     "data": {
      "text/plain": [
       "[0.01915656216442585, 0.9933172464370728]"
      ]
     },
     "execution_count": 104,
     "metadata": {},
     "output_type": "execute_result"
    }
   ],
   "source": [
    "best_lstm_model.evaluate(X_train2, y_train)"
   ]
  },
  {
   "cell_type": "code",
   "execution_count": 105,
   "id": "7461557c",
   "metadata": {},
   "outputs": [
    {
     "name": "stdout",
     "output_type": "stream",
     "text": [
      "242/242 [==============================] - 9s 39ms/step - loss: 0.0352 - accuracy: 0.9886\n"
     ]
    },
    {
     "data": {
      "text/plain": [
       "[0.03519487753510475, 0.9886187314987183]"
      ]
     },
     "execution_count": 105,
     "metadata": {},
     "output_type": "execute_result"
    }
   ],
   "source": [
    "best_lstm_model.evaluate(X_val2, y_val)"
   ]
  },
  {
   "cell_type": "code",
   "execution_count": 106,
   "id": "2b55069e",
   "metadata": {},
   "outputs": [
    {
     "name": "stdout",
     "output_type": "stream",
     "text": [
      "242/242 [==============================] - 9s 39ms/step - loss: 0.0369 - accuracy: 0.9877\n"
     ]
    },
    {
     "data": {
      "text/plain": [
       "[0.03685575723648071, 0.9877133965492249]"
      ]
     },
     "execution_count": 106,
     "metadata": {},
     "output_type": "execute_result"
    }
   ],
   "source": [
    "best_lstm_model.evaluate(X_test2, y_test)"
   ]
  },
  {
   "cell_type": "code",
   "execution_count": null,
   "id": "02b5becb",
   "metadata": {},
   "outputs": [],
   "source": []
  }
 ],
 "metadata": {
  "kernelspec": {
   "display_name": "Python 3 (ipykernel)",
   "language": "python",
   "name": "python3"
  },
  "language_info": {
   "codemirror_mode": {
    "name": "ipython",
    "version": 3
   },
   "file_extension": ".py",
   "mimetype": "text/x-python",
   "name": "python",
   "nbconvert_exporter": "python",
   "pygments_lexer": "ipython3",
   "version": "3.9.12"
  },
  "vscode": {
   "interpreter": {
    "hash": "b0a6d3a1c9702cbdea61a84eb923333e247e4db67d8a1f6fe21a7310eabf978f"
   }
  }
 },
 "nbformat": 4,
 "nbformat_minor": 5
}
