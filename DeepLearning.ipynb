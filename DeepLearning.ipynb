{
 "cells": [
  {
   "cell_type": "markdown",
   "id": "68d923ce",
   "metadata": {},
   "source": [
    "# Importing Libraries"
   ]
  },
  {
   "cell_type": "code",
   "execution_count": 1,
   "id": "4dbe66d8",
   "metadata": {},
   "outputs": [],
   "source": [
    "import os\n",
    "import re\n",
    "import pandas as pd\n",
    "import math\n",
    "import matplotlib.pyplot as plt \n",
    "from sklearn.model_selection import train_test_split\n",
    "import tensorflow as tf\n",
    "from tensorflow.keras.preprocessing.text import Tokenizer\n",
    "from tensorflow.keras.preprocessing.sequence import pad_sequences\n",
    "from tensorflow.keras import Sequential\n",
    "from tensorflow.keras.layers import Dense, Embedding, Bidirectional, LSTM, Dropout, SimpleRNN\n",
    "import keras_tuner"
   ]
  },
  {
   "cell_type": "markdown",
   "id": "4eafc522-8a42-46de-b25c-51f9a0e0ea08",
   "metadata": {},
   "source": [
    "## Cleaning & Splitting the dataset --> to be replaced with standardized data file"
   ]
  },
  {
   "cell_type": "code",
   "execution_count": 21,
   "id": "1d382a0d-1423-45de-977d-5ff39d725cd5",
   "metadata": {},
   "outputs": [],
   "source": [
    "news_final = pd.read_csv(\"news_final.csv\")\n",
    "\n",
    "target = news_final['fake']\n",
    "features = news_final.drop('fake', axis=1)"
   ]
  },
  {
   "cell_type": "code",
   "execution_count": 22,
   "id": "16a4c07b-0302-4ec7-8e33-827a26281a93",
   "metadata": {},
   "outputs": [],
   "source": [
    "X_train, X_test, y_train, y_test = train_test_split(features, target, random_state=1,test_size=0.2)\n",
    "X_train, X_val, y_train, y_val = train_test_split(X_train, y_train, random_state=1, test_size=0.25) # 0.25 x 0.8 = 0.2, #20% valid"
   ]
  },
  {
   "cell_type": "markdown",
   "id": "7cb05939-0323-4b13-87c0-6b9d3397f911",
   "metadata": {},
   "source": [
    "# Hypothesis 2: Testing Neural Network models"
   ]
  },
  {
   "cell_type": "markdown",
   "id": "53aca3cd",
   "metadata": {},
   "source": [
    "## Define Tokenizing, Padding, Plotting functions & Earlystopping"
   ]
  },
  {
   "cell_type": "code",
   "execution_count": 76,
   "id": "bb29e691-732b-4a59-8836-98f5a544c26e",
   "metadata": {},
   "outputs": [],
   "source": [
    "def tokenize(train_data,val_data,test_data):\n",
    "    tokenizer = Tokenizer()\n",
    "    tokenizer.fit_on_texts(train_data)\n",
    "\n",
    "    train_data = tokenizer.texts_to_sequences(train_data)\n",
    "    val_data = tokenizer.texts_to_sequences(val_data)\n",
    "    test_data = tokenizer.texts_to_sequences(test_data)\n",
    "    vocab = tokenizer.word_index\n",
    "    return train_data,val_data,test_data,vocab\n",
    "\n",
    "def pad(train_data,val_data,test_data,max_len):\n",
    "    train_data = pad_sequences(train_data, padding='post', maxlen=max_len)\n",
    "    val_data = pad_sequences(val_data, padding='post', maxlen=max_len)\n",
    "    test_data = pad_sequences(test_data, padding='post', maxlen=max_len)\n",
    "    return train_data,val_data,test_data\n",
    "\n",
    "def plotHistory(history):\n",
    "    history_dict = history.history\n",
    "\n",
    "    acc = history_dict['accuracy']\n",
    "    val_acc = history_dict['val_accuracy']\n",
    "    loss = history_dict['loss']\n",
    "    val_loss = history_dict['val_loss']\n",
    "    epochs = history.epoch\n",
    "\n",
    "    plt.figure()\n",
    "    plt.plot(epochs, loss, 'r', label='Training loss')\n",
    "    plt.plot(epochs, val_loss, 'b', label='Validation loss')\n",
    "    plt.title('Training and validation loss')\n",
    "    plt.xlabel('Epochs')\n",
    "    plt.ylabel('Loss')\n",
    "    plt.legend()\n",
    "    plt.show()\n",
    "\n",
    "    plt.figure()\n",
    "    plt.plot(epochs, acc, 'g', label='Training acc')\n",
    "    plt.plot(epochs, val_acc, 'b', label='Validation acc')\n",
    "    plt.title('Training and validation accuracy')\n",
    "    plt.xlabel('Epochs')\n",
    "    plt.ylabel('Accuracy')\n",
    "    plt.legend()\n",
    "    plt.show()\n",
    "\n",
    "early_stop = tf.keras.callbacks.EarlyStopping(monitor='val_loss', patience=2, restore_best_weights=True)"
   ]
  },
  {
   "cell_type": "markdown",
   "id": "983c7cc0",
   "metadata": {},
   "source": [
    "## Training on titles only"
   ]
  },
  {
   "cell_type": "code",
   "execution_count": 77,
   "id": "6a038fc8",
   "metadata": {},
   "outputs": [],
   "source": [
    "X_train_title,X_val_title,X_test_title,vocab_title = tokenize(X_train['title'],X_val['title'],X_test['title'])\n",
    "max_vocab_title = len(vocab_title) + 1 # Adding 1 because of reserved 0 index\n",
    "# Embedding Layer creates one more vector for \"UNKNOWN\" words, or padded words (0s). This Vector is filled with zeros.\n",
    "print(\"Vocab Size for Titles: {}\".format(max_vocab_title))\n",
    "\n",
    "# get length of longest title and pad all shorter titles to match length\n",
    "max_len_title = max([len(x) for x in X_train_title] + [len(x) for x in X_test_title])\n",
    "X_train_title,X_val_title,X_test_title = pad(X_train_title,X_val_title,X_test_title,max_len_title)\n",
    "print(\"Max Title Length: {}\".format(max_len_title))"
   ]
  },
  {
   "cell_type": "markdown",
   "id": "05f31c71-a719-4a15-845a-4361061dc46a",
   "metadata": {},
   "source": [
    "### Training a simple RNN model on titles only"
   ]
  },
  {
   "cell_type": "code",
   "execution_count": 78,
   "id": "b2fda82e",
   "metadata": {},
   "outputs": [
    {
     "name": "stdout",
     "output_type": "stream",
     "text": [
      "Model: \"sequential_4\"\n",
      "_________________________________________________________________\n",
      " Layer (type)                Output Shape              Param #   \n",
      "=================================================================\n",
      " embedding_4 (Embedding)     (None, 52, 100)           1729200   \n",
      "                                                                 \n",
      " bidirectional_4 (Bidirectio  (None, 256)              58624     \n",
      " nal)                                                            \n",
      "                                                                 \n",
      " dropout_4 (Dropout)         (None, 256)               0         \n",
      "                                                                 \n",
      " dense_4 (Dense)             (None, 1)                 257       \n",
      "                                                                 \n",
      "=================================================================\n",
      "Total params: 1,788,081\n",
      "Trainable params: 1,788,081\n",
      "Non-trainable params: 0\n",
      "_________________________________________________________________\n"
     ]
    }
   ],
   "source": [
    "rnn_title_model = Sequential([\n",
    "    Embedding(max_vocab_title, 100, input_length=max_len_title),\n",
    "    Bidirectional(SimpleRNN(128)),\n",
    "    Dropout(0.5),\n",
    "    Dense(1, activation='sigmoid')\n",
    "])\n",
    "\n",
    "rnn_title_model.compile(loss=tf.keras.losses.BinaryCrossentropy(),\n",
    "              optimizer=tf.keras.optimizers.Adam(1e-4),\n",
    "              metrics=['accuracy'])\n",
    "\n",
    "rnn_title_model.summary()"
   ]
  },
  {
   "cell_type": "code",
   "execution_count": 80,
   "id": "47971c59-78ce-4d7f-99e9-b91691831c3d",
   "metadata": {},
   "outputs": [
    {
     "name": "stdout",
     "output_type": "stream",
     "text": [
      "Epoch 1/10\n",
      "783/783 [==============================] - 125s 158ms/step - loss: 0.1900 - accuracy: 0.9283 - val_loss: 0.1130 - val_accuracy: 0.9605\n",
      "Epoch 2/10\n",
      "783/783 [==============================] - 120s 153ms/step - loss: 0.0655 - accuracy: 0.9801 - val_loss: 0.0895 - val_accuracy: 0.9702\n",
      "Epoch 3/10\n",
      "783/783 [==============================] - 120s 153ms/step - loss: 0.0351 - accuracy: 0.9902 - val_loss: 0.0892 - val_accuracy: 0.9723\n",
      "Epoch 4/10\n",
      "783/783 [==============================] - 122s 156ms/step - loss: 0.0237 - accuracy: 0.9935 - val_loss: 0.1007 - val_accuracy: 0.9693\n",
      "Epoch 5/10\n",
      "783/783 [==============================] - 122s 155ms/step - loss: 0.0142 - accuracy: 0.9962 - val_loss: 0.1155 - val_accuracy: 0.9677\n",
      "CPU times: total: 14min 36s\n",
      "Wall time: 10min 8s\n"
     ]
    }
   ],
   "source": [
    "%%time\n",
    "rnn_title_history = rnn_title_model.fit(X_train_title, y_train, epochs=10, \n",
    "                    validation_data=(X_val_title, y_val), batch_size=30, \n",
    "                    shuffle=True, callbacks=[early_stop])"
   ]
  },
  {
   "cell_type": "code",
   "execution_count": 81,
   "id": "00f87ac3",
   "metadata": {},
   "outputs": [
    {
     "data": {
      "image/png": "[encoded data removed]",
      "text/plain": [
       "<Figure size 432x288 with 1 Axes>"
      ]
     },
     "metadata": {
      "needs_background": "light"
     },
     "output_type": "display_data"
    },
    {
     "data": {
      "image/png": "[encoded data removed]",
      "text/plain": [
       "<Figure size 432x288 with 1 Axes>"
      ]
     },
     "metadata": {
      "needs_background": "light"
     },
     "output_type": "display_data"
    }
   ],
   "source": [
    "plotHistory(rnn_title_history)"
   ]
  },
  {
   "cell_type": "code",
   "execution_count": 82,
   "id": "bb9e142a",
   "metadata": {},
   "outputs": [
    {
     "name": "stdout",
     "output_type": "stream",
     "text": [
      "734/734 [==============================] - 15s 21ms/step - loss: 0.0162 - accuracy: 0.9964\n"
     ]
    },
    {
     "data": {
      "text/plain": [
       "[0.016225943341851234, 0.9963772892951965]"
      ]
     },
     "execution_count": 82,
     "metadata": {},
     "output_type": "execute_result"
    }
   ],
   "source": [
    "rnn_title_model.evaluate(X_train_title, y_train)"
   ]
  },
  {
   "cell_type": "code",
   "execution_count": 83,
   "id": "1cb74b54",
   "metadata": {},
   "outputs": [
    {
     "name": "stdout",
     "output_type": "stream",
     "text": [
      "245/245 [==============================] - 5s 22ms/step - loss: 0.0892 - accuracy: 0.9723\n"
     ]
    },
    {
     "data": {
      "text/plain": [
       "[0.08923334628343582, 0.97225421667099]"
      ]
     },
     "execution_count": 83,
     "metadata": {},
     "output_type": "execute_result"
    }
   ],
   "source": [
    "rnn_title_model.evaluate(X_val_title, y_val)"
   ]
  },
  {
   "cell_type": "code",
   "execution_count": 84,
   "id": "4e29ad9a",
   "metadata": {},
   "outputs": [
    {
     "name": "stdout",
     "output_type": "stream",
     "text": [
      "245/245 [==============================] - 6s 24ms/step - loss: 0.0810 - accuracy: 0.9729\n"
     ]
    },
    {
     "data": {
      "text/plain": [
       "[0.08097951859235764, 0.972893476486206]"
      ]
     },
     "execution_count": 84,
     "metadata": {},
     "output_type": "execute_result"
    }
   ],
   "source": [
    "rnn_title_model.evaluate(X_test_title, y_test)"
   ]
  },
  {
   "cell_type": "markdown",
   "id": "0e773e2a",
   "metadata": {},
   "source": [
    "### Training an LSTM model on titles only"
   ]
  },
  {
   "cell_type": "code",
   "execution_count": null,
   "id": "763d461a",
   "metadata": {},
   "outputs": [],
   "source": [
    "lstm_title_model = Sequential([\n",
    "    Embedding(max_vocab_title, 100, input_length=max_len_title),\n",
    "    Bidirectional(LSTM(128)),\n",
    "    Dropout(0.5),\n",
    "    Dense(1, activation='sigmoid')\n",
    "])\n",
    "\n",
    "lstm_title_model.compile(loss=tf.keras.losses.BinaryCrossentropy(),\n",
    "              optimizer=tf.keras.optimizers.Adam(1e-4),\n",
    "              metrics=['accuracy'])\n",
    "\n",
    "lstm_title_model.summary()"
   ]
  },
  {
   "cell_type": "code",
   "execution_count": null,
   "id": "700dc446",
   "metadata": {},
   "outputs": [],
   "source": [
    "%%time\n",
    "lstm_title_history = rnn_title_model.fit(X_train_title, y_train, epochs=10, \n",
    "                    validation_data=(X_val_title, y_val), batch_size=30, \n",
    "                    shuffle=True, callbacks=[early_stop])"
   ]
  },
  {
   "cell_type": "code",
   "execution_count": null,
   "id": "8dfad306",
   "metadata": {},
   "outputs": [],
   "source": [
    "plotHistory(lstm_title_history)"
   ]
  },
  {
   "cell_type": "code",
   "execution_count": null,
   "id": "2d16264f",
   "metadata": {},
   "outputs": [],
   "source": [
    "lstm_title_model.evaluate(X_train_title, y_train)"
   ]
  },
  {
   "cell_type": "code",
   "execution_count": null,
   "id": "52aa10f0",
   "metadata": {},
   "outputs": [],
   "source": [
    "lstm_title_model.evaluate(X_val_title, y_val)"
   ]
  },
  {
   "cell_type": "code",
   "execution_count": null,
   "id": "5c3371fe",
   "metadata": {},
   "outputs": [],
   "source": [
    "lstm_title_model.evaluate(X_test_title, y_test)"
   ]
  },
  {
   "cell_type": "markdown",
   "id": "424dd77e-eb66-4348-9268-782892bcc34a",
   "metadata": {},
   "source": [
    "## Training on all text (title + text)"
   ]
  },
  {
   "cell_type": "markdown",
   "id": "10bc9e66-e7cb-4970-9210-7c71d978c87c",
   "metadata": {},
   "source": [
    "### Training the word2vec model on the dataset"
   ]
  },
  {
   "cell_type": "markdown",
   "id": "8219508e-3212-4c69-9e00-8a3773135ed8",
   "metadata": {},
   "source": [
    "<li>There are certain characteristics distinct to fake news that would be helpful for prediction (eg. number of capitalised words, punctuations etc. However, since word2vec trains better on words in their raw form, we will preprocess the text for this purpose while extracting the distinctive characteristics and train them in another classification model.</li>\n",
    "<li>Since the use of language and choice of vocabulary differs between real and fake news, we will not lemmatise/stem the words in our corpus</li>\n"
   ]
  },
  {
   "cell_type": "code",
   "execution_count": 85,
   "id": "d0ceee97-e8e8-4ee7-958a-d0da90e8dcb1",
   "metadata": {},
   "outputs": [],
   "source": [
    "# # only words (can have - or ') will be generated as tokens\n",
    "# create a list of elements each containing a list of words from each article in the corpus\n",
    "from nltk.tokenize import RegexpTokenizer\n",
    "from nltk.corpus import stopwords\n",
    "from nltk import sent_tokenize\n",
    "\n",
    "def corpus_to_vect(df_column):\n",
    "    corpus_tokens = []\n",
    "    stop_words = set(stopwords.words(\"english\"))\n",
    "    rtokenizer = RegexpTokenizer(r'[a-zA-Z\\'\\-]+') # matches any word that contains only letters, hyphens, and apostrophes\n",
    "    docs = df_column.values\n",
    "    for doc in docs:\n",
    "        sents = sent_tokenize(doc)\n",
    "        doc_tokens = []\n",
    "        for sent in sents:\n",
    "            sent_lowered = sent.lower()\n",
    "            words = rtokenizer.tokenize(sent_lowered) # convert all words to lower case\n",
    "            filtered = [word.strip() for word in words if word not in stop_words and len(word) > 1] # filter out stopwords\n",
    "            doc_tokens.extend(filtered)\n",
    "        corpus_tokens.append(doc_tokens)\n",
    "    return corpus_tokens"
   ]
  },
  {
   "cell_type": "code",
   "execution_count": 86,
   "id": "5db3bcb2-ef3c-4284-a05a-1955f8700562",
   "metadata": {
    "tags": []
   },
   "outputs": [],
   "source": [
    "# tokenizing the 'text' column \n",
    "X_train_alltext = corpus_to_vect(X_train['all_text'])\n",
    "X_val_alltext = corpus_to_vect(X_val['all_text'])\n",
    "X_test_alltext = corpus_to_vect(X_test['all_text'])"
   ]
  },
  {
   "cell_type": "code",
   "execution_count": 87,
   "id": "28ac03e5-92a2-4569-a820-11fadf6e9ca7",
   "metadata": {},
   "outputs": [
    {
     "name": "stdout",
     "output_type": "stream",
     "text": [
      "['trump', 'meet', 'wilbur', 'ross', 'possible', 'choice', 'commerce', 'secretary', 'president', 'elect', 'donald', 'trump', 'meet', 'sunday', 'billionaire', 'investor', 'wilbur', 'ross', 'possible', 'candidate', 'commerce', 'secretary', 'new', 'administration', 'spokesman', 'trump', 'transition', 'team', 'said', 'saturday', 'trump', 'takes', 'office', 'jan', 'also', 'meet', 'others', 'sunday', 'including', 'new', 'jersey', 'governor', 'chris', 'christie', 'former', 'new', 'york', 'mayor', 'rudy', 'giuliani', 'kris', 'kobach', 'kansas', 'secretary', 'state', 'architect', 'anti', 'immigration', 'efforts', 'says', 'advising', 'trump', 'immigration', 'issues', 'trump', 'transition', 'team', 'official', 'said', 'senior', 'appointment', 'could', 'announced', 'soon']\n"
     ]
    }
   ],
   "source": [
    " # all tokens generated in the first article\n",
    "print(X_train_alltext[0])"
   ]
  },
  {
   "cell_type": "code",
   "execution_count": 88,
   "id": "f3b18b79-f9ce-4628-8bb8-81098f2eb895",
   "metadata": {},
   "outputs": [],
   "source": [
    "# training word2vec on the 'text' corpus to form the embedding layer\n",
    "from gensim.models import Word2Vec\n",
    "\n",
    "EMBEDDING_DIM = 100\n",
    "w2v = Word2Vec(\n",
    "    sentences = X_train_alltext,\n",
    "    vector_size = EMBEDDING_DIM,\n",
    "    window = 5,\n",
    "    min_count = 1\n",
    ")"
   ]
  },
  {
   "cell_type": "code",
   "execution_count": 89,
   "id": "496bdc34-51f2-45c8-b068-5e4f0c187a8f",
   "metadata": {},
   "outputs": [
    {
     "name": "stdout",
     "output_type": "stream",
     "text": [
      "There are a total of 90465 words in the vocabulary of our trained word2vec model.\n"
     ]
    }
   ],
   "source": [
    "num = len(w2v.wv)\n",
    "print('There are a total of %d words in the vocabulary of our trained word2vec model.' % num)"
   ]
  },
  {
   "cell_type": "code",
   "execution_count": 90,
   "id": "b5162c94-f24a-445a-98d9-d7560afcae56",
   "metadata": {},
   "outputs": [
    {
     "data": {
      "text/plain": [
       "array([ 1.1552894 , -0.5198847 ,  1.0302882 , -3.6223907 , -0.2048854 ,\n",
       "       -0.28337118,  0.3356402 , -2.844938  ,  0.10124575, -1.441538  ,\n",
       "        3.593388  , -1.0334003 ,  1.425214  , -1.0650119 ,  1.2551752 ,\n",
       "        1.8217119 ,  0.7099602 , -0.58810145,  1.6516346 , -0.4033152 ,\n",
       "       -0.81854945, -1.1924291 ,  1.8974582 , -1.7437774 ,  1.9729719 ,\n",
       "        2.4017272 , -1.0348462 , -1.637253  ,  3.4399722 ,  1.9604932 ,\n",
       "       -1.7860178 , -0.535136  ,  1.883963  ,  0.5586981 ,  1.6199689 ,\n",
       "        1.8988328 ,  0.6566153 , -0.03721009, -0.16817667, -0.2910872 ,\n",
       "        0.22612746, -1.0175784 , -1.5149072 ,  2.3982847 , -0.7469167 ,\n",
       "       -2.447297  , -1.9995306 ,  0.32351092, -1.4016461 , -0.10110394,\n",
       "        1.0389899 , -1.4136665 , -0.8776653 ,  3.930473  ,  1.6284257 ,\n",
       "       -1.763769  , -3.1475923 ,  2.2891166 ,  0.20814092, -3.8586402 ,\n",
       "        0.07189158, -1.1412206 , -1.9838977 ,  1.5410899 , -1.3529675 ,\n",
       "        1.1406834 , -1.4314263 ,  0.25854883,  1.0665526 , -2.3712938 ,\n",
       "       -1.2147651 ,  2.6920938 ,  0.954694  ,  1.8828092 , -1.02719   ,\n",
       "        5.520762  ,  2.1554627 , -2.7146628 ,  0.34312662,  0.646861  ,\n",
       "        1.0448492 ,  2.1821382 ,  4.248431  , -0.62778425,  0.00725185,\n",
       "       -0.3512437 , -1.3549724 , -0.9322727 ,  2.7572072 ,  1.180134  ,\n",
       "        3.1204674 ,  1.4952623 ,  0.06304067, -0.8646715 ,  0.05693365,\n",
       "       -0.7004371 ,  2.9948149 , -1.0140147 , -1.5888027 ,  0.7619224 ],\n",
       "      dtype=float32)"
      ]
     },
     "execution_count": 90,
     "metadata": {},
     "output_type": "execute_result"
    }
   ],
   "source": [
    "w2v.wv[\"donald\"]"
   ]
  },
  {
   "cell_type": "code",
   "execution_count": 91,
   "id": "d092b9a9-d675-4af3-a209-fc99f859c37b",
   "metadata": {},
   "outputs": [
    {
     "data": {
      "text/plain": [
       "[('elect', 0.6679061651229858),\n",
       " ('course', 0.5462140440940857),\n",
       " ('conway', 0.517255425453186),\n",
       " ('bush', 0.489884614944458),\n",
       " ('actually', 0.4863853454589844),\n",
       " ('proving', 0.4714583456516266),\n",
       " ('however', 0.46439361572265625),\n",
       " ('completely', 0.46291571855545044),\n",
       " ('temperment', 0.4586942493915558),\n",
       " ('instead', 0.4560230076313019)]"
      ]
     },
     "execution_count": 91,
     "metadata": {},
     "output_type": "execute_result"
    }
   ],
   "source": [
    "w2v.wv.most_similar(\"trump\")"
   ]
  },
  {
   "cell_type": "markdown",
   "id": "ab4463ba-7eb2-4ce5-8dcb-2ef4e13d78c3",
   "metadata": {
    "tags": []
   },
   "source": [
    "### Preparing the neural network model inputs"
   ]
  },
  {
   "cell_type": "code",
   "execution_count": 92,
   "id": "7b27cfce-9421-42d1-8bd1-8ee5c1ea2f1f",
   "metadata": {},
   "outputs": [],
   "source": [
    "X_train_alltext,X_val_alltext,X_test_alltext, vocab_alltext = tokenize(X_train_alltext,X_val_alltext,X_test_alltext)\n",
    "max_vocab_alltext = len(vocab_alltext) + 1\n",
    "print(\"Vocab Size for All Text: {}\".format(max_vocab_alltext))"
   ]
  },
  {
   "cell_type": "code",
   "execution_count": 93,
   "id": "fdd88625-909f-4236-8d93-9fb0f77bd62a",
   "metadata": {},
   "outputs": [
    {
     "name": "stdout",
     "output_type": "stream",
     "text": [
      "[1, 483, 5274, 1956, 327, 933, 1940, 116, 3, 634, 11, 1, 483, 215, 1244, 3514, 5274, 1956, 327, 140, 1940, 116, 8, 60, 242, 1, 904, 344, 2, 381, 1, 963, 75, 1187, 9, 483, 369, 215, 74, 8, 1539, 249, 1165, 1507, 31, 8, 142, 884, 5604, 3142, 8601, 6432, 2304, 116, 7, 9088, 164, 213, 410, 68, 7230, 1, 213, 319, 1, 904, 344, 127, 2, 278, 2783, 18, 503, 718]\n"
     ]
    }
   ],
   "source": [
    "# all token indexes generated from the first article\n",
    "print(X_train_alltext[0])"
   ]
  },
  {
   "cell_type": "code",
   "execution_count": 94,
   "id": "5b8e03ea-46d9-4a48-b440-27df2900e9af",
   "metadata": {},
   "outputs": [
    {
     "data": {
      "image/png": "[encoded data removed]",
      "text/plain": [
       "<Figure size 432x288 with 1 Axes>"
      ]
     },
     "metadata": {
      "needs_background": "light"
     },
     "output_type": "display_data"
    }
   ],
   "source": [
    "article_lens = np.array([len(index) for index in X_train_alltext])\n",
    "plt.hist(article_lens, bins=500)\n",
    "plt.show()"
   ]
  },
  {
   "cell_type": "code",
   "execution_count": 95,
   "id": "3fadcb8b-56f5-4953-98b3-a31f94b0255c",
   "metadata": {},
   "outputs": [
    {
     "name": "stdout",
     "output_type": "stream",
     "text": [
      "23361 out of 23463 articles have less than 1000 words\n"
     ]
    }
   ],
   "source": [
    "len_1000 = article_lens[article_lens < 1000]\n",
    "print('%d out of %d articles have less than 1000 words' % (len(len_1000),len(article_lens)))"
   ]
  },
  {
   "cell_type": "markdown",
   "id": "9c1ffcfa-71f4-4b26-8722-2d669103ac2c",
   "metadata": {},
   "source": [
    "<li>Since the inputs to the neural network have to be of the same size, we have to pad each article in the dataset.</li>\n",
    "<li>Since the majority of articles have less than 1000 words, we pad shorter news articles and truncate longer articles.</li>"
   ]
  },
  {
   "cell_type": "code",
   "execution_count": 96,
   "id": "f5a25628-baeb-433e-b245-de9f4946cc54",
   "metadata": {},
   "outputs": [],
   "source": [
    "max_len_alltext = 1000\n",
    "X_train_alltext,X_val_alltext,X_test_alltext = pad(X_train_alltext,X_val_alltext,X_test_alltext,max_len_alltext)\n",
    "print(\"Max All Text Length: {}\".format(max_len_alltext))"
   ]
  },
  {
   "cell_type": "code",
   "execution_count": 97,
   "id": "16e12edc-4237-44d6-9d1b-e904db702881",
   "metadata": {},
   "outputs": [],
   "source": [
    "# creating a weight matrix to retain weights learned by word2vec in the embedding layer later on\n",
    "def get_weight_matrix(model, vocab):\n",
    "    # total vocabulary size plus 0 for unknown words\n",
    "    vocab_size = len(vocab) + 1\n",
    "    # create weight matrix with number of rows = vocab_size and number of columns = number of embedding dimensions\n",
    "    weight_matrix = np.zeros((vocab_size, EMBEDDING_DIM))\n",
    "    # for each word in the vocab, store its vector created by the word2vec model\n",
    "    for word, row_index in vocab.items():\n",
    "        weight_matrix[row_index] = model.wv[word]\n",
    "    return weight_matrix"
   ]
  },
  {
   "cell_type": "code",
   "execution_count": 98,
   "id": "7134691b-9510-44d3-91b2-02095b1b749c",
   "metadata": {},
   "outputs": [],
   "source": [
    "embedding_vectors = get_weight_matrix(w2v, vocab_alltext)"
   ]
  },
  {
   "cell_type": "markdown",
   "id": "cd5fa8b0-d33e-4c83-a751-91197c0a1db0",
   "metadata": {},
   "source": [
    "### Training a simple RNN model on all text"
   ]
  },
  {
   "cell_type": "code",
   "execution_count": null,
   "id": "36f9ffc3",
   "metadata": {},
   "outputs": [],
   "source": [
    "rnn_alltext_model = Sequential([\n",
    "    Embedding(max_vocab_alltext, output_dim=EMBEDDING_DIM, weights=[embedding_vectors], input_length=max_len_alltext, trainable=False),\n",
    "    Bidirectional(SimpleRNN(units=128)),\n",
    "    Dropout(0.5),\n",
    "    Dense(1, activation='sigmoid')\n",
    "])\n",
    "\n",
    "rnn_alltext_model.compile(loss=tf.keras.losses.BinaryCrossentropy(),\n",
    "              optimizer=tf.keras.optimizers.Adam(1e-4),\n",
    "              metrics=['accuracy'])\n",
    "\n",
    "rnn_alltext_model.summary()"
   ]
  },
  {
   "cell_type": "code",
   "execution_count": null,
   "id": "fbfd3bee",
   "metadata": {},
   "outputs": [],
   "source": [
    "%%time\n",
    "rnn_alltext_history = lstm_model.fit(X_train_alltext, y_train, epochs=10, \n",
    "                                validation_data=(X_val_alltext, y_val), batch_size=30, \n",
    "                                shuffle=True, callbacks=[early_stop])"
   ]
  },
  {
   "cell_type": "code",
   "execution_count": null,
   "id": "69d3b9b9",
   "metadata": {},
   "outputs": [],
   "source": [
    "plotHistory(rnn_alltext_history)"
   ]
  },
  {
   "cell_type": "code",
   "execution_count": null,
   "id": "f52b3afd",
   "metadata": {},
   "outputs": [],
   "source": [
    "rnn_alltext_model.evaluate(X_train_alltext, y_train)"
   ]
  },
  {
   "cell_type": "code",
   "execution_count": null,
   "id": "9fd26bca",
   "metadata": {},
   "outputs": [],
   "source": [
    "rnn_alltext_model.evaluate(X_val_alltext, y_val)"
   ]
  },
  {
   "cell_type": "code",
   "execution_count": null,
   "id": "0c2815da",
   "metadata": {},
   "outputs": [],
   "source": [
    "rnn_alltext_model.evaluate(X_test_alltext, y_test)"
   ]
  },
  {
   "cell_type": "markdown",
   "id": "35075452",
   "metadata": {},
   "source": [
    "### Training an LSTM model on all text"
   ]
  },
  {
   "cell_type": "code",
   "execution_count": 99,
   "id": "cfa62649-c773-445f-9f8a-473258600caa",
   "metadata": {},
   "outputs": [],
   "source": [
    "lstm_alltext_model = Sequential([\n",
    "    Embedding(max_vocab_alltext, output_dim=EMBEDDING_DIM, weights=[embedding_vectors], input_length=max_len_alltext, trainable=False),\n",
    "    Bidirectional(LSTM(units=128)),\n",
    "    Dropout(0.5),\n",
    "    Dense(1, activation='sigmoid')\n",
    "])\n",
    "\n",
    "lstm_alltext_model.compile(loss=tf.keras.losses.BinaryCrossentropy(),\n",
    "              optimizer=tf.keras.optimizers.Adam(1e-4),\n",
    "              metrics=['accuracy'])\n",
    "\n",
    "lstm_alltext_model.summary()"
   ]
  },
  {
   "cell_type": "code",
   "execution_count": 102,
   "id": "a26d1c62-fee1-423a-84ed-9e9f9ae7b105",
   "metadata": {},
   "outputs": [
    {
     "name": "stdout",
     "output_type": "stream",
     "text": [
      "Epoch 1/10\n",
      "783/783 [==============================] - 69s 84ms/step - loss: 0.1904 - accuracy: 0.9286 - val_loss: 0.1010 - val_accuracy: 0.9657\n",
      "Epoch 2/10\n",
      "783/783 [==============================] - 65s 83ms/step - loss: 0.0879 - accuracy: 0.9700 - val_loss: 0.0742 - val_accuracy: 0.9753\n",
      "Epoch 3/10\n",
      "783/783 [==============================] - 66s 85ms/step - loss: 0.0672 - accuracy: 0.9772 - val_loss: 0.0617 - val_accuracy: 0.9784\n",
      "Epoch 4/10\n",
      "783/783 [==============================] - 63s 80ms/step - loss: 0.0590 - accuracy: 0.9798 - val_loss: 0.0555 - val_accuracy: 0.9808\n",
      "Epoch 5/10\n",
      "783/783 [==============================] - 63s 80ms/step - loss: 0.0485 - accuracy: 0.9843 - val_loss: 0.0490 - val_accuracy: 0.9829\n",
      "Epoch 6/10\n",
      "783/783 [==============================] - 63s 80ms/step - loss: 0.0420 - accuracy: 0.9863 - val_loss: 0.0476 - val_accuracy: 0.9834\n",
      "Epoch 7/10\n",
      "783/783 [==============================] - 63s 81ms/step - loss: 0.0419 - accuracy: 0.9867 - val_loss: 0.0473 - val_accuracy: 0.9825\n",
      "Epoch 8/10\n",
      "783/783 [==============================] - 63s 81ms/step - loss: 0.0305 - accuracy: 0.9903 - val_loss: 0.0485 - val_accuracy: 0.9840\n",
      "Epoch 9/10\n",
      "783/783 [==============================] - 63s 81ms/step - loss: 0.0316 - accuracy: 0.9892 - val_loss: 0.0426 - val_accuracy: 0.9839\n",
      "Epoch 10/10\n",
      "783/783 [==============================] - 64s 81ms/step - loss: 0.0268 - accuracy: 0.9922 - val_loss: 0.0408 - val_accuracy: 0.9870\n",
      "CPU times: total: 10min 41s\n",
      "Wall time: 10min 41s\n"
     ]
    }
   ],
   "source": [
    "%%time\n",
    "lstm_alltext_history = lstm_model.fit(X_train_alltext, y_train, epochs=10, \n",
    "                                validation_data=(X_val_alltext, y_val), batch_size=30, \n",
    "                                shuffle=True, callbacks=[early_stop])"
   ]
  },
  {
   "cell_type": "code",
   "execution_count": 103,
   "id": "1f293cb1",
   "metadata": {},
   "outputs": [
    {
     "data": {
      "image/png": "[encoded data removed]",
      "text/plain": [
       "<Figure size 432x288 with 1 Axes>"
      ]
     },
     "metadata": {
      "needs_background": "light"
     },
     "output_type": "display_data"
    },
    {
     "data": {
      "image/png": "[encoded data removed]",
      "text/plain": [
       "<Figure size 432x288 with 1 Axes>"
      ]
     },
     "metadata": {
      "needs_background": "light"
     },
     "output_type": "display_data"
    }
   ],
   "source": [
    "plotHistory(lstm_alltext_history)"
   ]
  },
  {
   "cell_type": "code",
   "execution_count": 104,
   "id": "9ca7ec8c",
   "metadata": {},
   "outputs": [
    {
     "name": "stdout",
     "output_type": "stream",
     "text": [
      "734/734 [==============================] - 29s 39ms/step - loss: 0.0191 - accuracy: 0.9943\n"
     ]
    },
    {
     "data": {
      "text/plain": [
       "[0.01908102259039879, 0.9943314790725708]"
      ]
     },
     "execution_count": 104,
     "metadata": {},
     "output_type": "execute_result"
    }
   ],
   "source": [
    "lstm_alltext_model.evaluate(X_train_alltext, y_train)"
   ]
  },
  {
   "cell_type": "code",
   "execution_count": 105,
   "id": "614cc11e",
   "metadata": {},
   "outputs": [
    {
     "name": "stdout",
     "output_type": "stream",
     "text": [
      "245/245 [==============================] - 10s 40ms/step - loss: 0.0408 - accuracy: 0.9870\n"
     ]
    },
    {
     "data": {
      "text/plain": [
       "[0.0407821387052536, 0.9869582056999207]"
      ]
     },
     "execution_count": 105,
     "metadata": {},
     "output_type": "execute_result"
    }
   ],
   "source": [
    "lstm_alltext_model.evaluate(X_val_alltext, y_val)"
   ]
  },
  {
   "cell_type": "code",
   "execution_count": 106,
   "id": "f0923e6a",
   "metadata": {},
   "outputs": [
    {
     "name": "stdout",
     "output_type": "stream",
     "text": [
      "245/245 [==============================] - 10s 39ms/step - loss: 0.0428 - accuracy: 0.9873\n"
     ]
    },
    {
     "data": {
      "text/plain": [
       "[0.04282530024647713, 0.9873417615890503]"
      ]
     },
     "execution_count": 106,
     "metadata": {},
     "output_type": "execute_result"
    }
   ],
   "source": [
    "lstm_alltext_model.evaluate(X_test_alltext, y_test)"
   ]
  },
  {
   "cell_type": "markdown",
   "id": "97e727c2-5fb2-4de8-99e1-568f0a71f1e2",
   "metadata": {},
   "source": [
    "### Hyperparameter tuning for LSTM model for all text"
   ]
  },
  {
   "cell_type": "code",
   "execution_count": 143,
   "id": "1bc98dee-cdd8-450a-a926-f08b19f8abed",
   "metadata": {},
   "outputs": [],
   "source": [
    "def hyperparameterTuning(hp): #https://keras.io/api/keras_tuner/hyperparameters/\n",
    "    model = Sequential([\n",
    "        Embedding(max_vocab_alltext, output_dim=EMBEDDING_DIM, weights=[embedding_vectors], input_length=max_len_alltext, trainable=False),\n",
    "        Bidirectional(LSTM(units=hp.Int('units', min_value=64, max_value=192, step=64))), #https://keras.io/api/layers/recurrent_layers/simple_rnn/\n",
    "        Dropout(rate=hp.Float('rate', min_value=0.3, max_value=0.7, step=0.2)), #https://keras.io/api/layers/regularization_layers/dropout/\n",
    "        Dense(1, activation='sigmoid')\n",
    "    ])\n",
    "    model.compile(loss=tf.keras.losses.BinaryCrossentropy(),\n",
    "              optimizer=tf.keras.optimizers.Adam(1e-4),\n",
    "              metrics=['accuracy'])\n",
    "    return model"
   ]
  },
  {
   "cell_type": "code",
   "execution_count": 145,
   "id": "a7575ed2",
   "metadata": {},
   "outputs": [],
   "source": [
    "#https://medium.com/swlh/hyperparameter-tuning-in-keras-tensorflow-2-with-keras-tuner-randomsearch-hyperband-3e212647778f\n",
    "tuner = keras_tuner.BayesianOptimization(hyperparameterTuning,\n",
    "                              objective='val_loss',\n",
    "                             directory='lstm_tuner2')"
   ]
  },
  {
   "cell_type": "code",
   "execution_count": 146,
   "id": "e3981e01",
   "metadata": {},
   "outputs": [
    {
     "name": "stdout",
     "output_type": "stream",
     "text": [
      "Trial 10 Complete [00h 14m 26s]\n",
      "val_loss: 0.04192085936665535\n",
      "\n",
      "Best val_loss So Far: 0.03331878408789635\n",
      "Total elapsed time: 02h 19m 24s\n",
      "INFO:tensorflow:Oracle triggered exit\n"
     ]
    },
    {
     "name": "stderr",
     "output_type": "stream",
     "text": [
      "INFO:tensorflow:Oracle triggered exit\n"
     ]
    }
   ],
   "source": [
    "early_stop = tf.keras.callbacks.EarlyStopping(monitor='val_loss', patience=2, restore_best_weights=True)\n",
    "tuner.search(X_train_alltext, y_train, epochs=10, \n",
    "            validation_data=(X_val_alltext, y_val), batch_size=30, \n",
    "            shuffle=True, callbacks=[early_stop])"
   ]
  },
  {
   "cell_type": "code",
   "execution_count": 147,
   "id": "b59eb86a",
   "metadata": {},
   "outputs": [
    {
     "name": "stdout",
     "output_type": "stream",
     "text": [
      "Results summary\n",
      "Results in lstm_tuner2\\untitled_project\n",
      "Showing 10 best trials\n",
      "<keras_tuner.engine.objective.Objective object at 0x000001D8A6659A00>\n",
      "Trial summary\n",
      "Hyperparameters:\n",
      "units: 192\n",
      "rate: 0.7\n",
      "Score: 0.03331878408789635\n",
      "Trial summary\n",
      "Hyperparameters:\n",
      "units: 192\n",
      "rate: 0.7\n",
      "Score: 0.039939410984516144\n",
      "Trial summary\n",
      "Hyperparameters:\n",
      "units: 128\n",
      "rate: 0.5\n",
      "Score: 0.041870806366205215\n",
      "Trial summary\n",
      "Hyperparameters:\n",
      "units: 128\n",
      "rate: 0.5\n",
      "Score: 0.04192085936665535\n",
      "Trial summary\n",
      "Hyperparameters:\n",
      "units: 128\n",
      "rate: 0.7\n",
      "Score: 0.04503205046057701\n",
      "Trial summary\n",
      "Hyperparameters:\n",
      "units: 192\n",
      "rate: 0.5\n",
      "Score: 0.04686621576547623\n",
      "Trial summary\n",
      "Hyperparameters:\n",
      "units: 64\n",
      "rate: 0.3\n",
      "Score: 0.04874274879693985\n",
      "Trial summary\n",
      "Hyperparameters:\n",
      "units: 192\n",
      "rate: 0.3\n",
      "Score: 0.05330261215567589\n",
      "Trial summary\n",
      "Hyperparameters:\n",
      "units: 64\n",
      "rate: 0.7\n",
      "Score: 0.05358147248625755\n",
      "Trial summary\n",
      "Hyperparameters:\n",
      "units: 192\n",
      "rate: 0.7\n",
      "Score: 0.05900872126221657\n"
     ]
    }
   ],
   "source": [
    "tuner.results_summary()"
   ]
  },
  {
   "cell_type": "code",
   "execution_count": 148,
   "id": "5be17c8f",
   "metadata": {},
   "outputs": [],
   "source": [
    "best_lstm_model = tuner.get_best_models(num_models=1)[0]"
   ]
  },
  {
   "cell_type": "code",
   "execution_count": 149,
   "id": "cf61f6fa",
   "metadata": {},
   "outputs": [
    {
     "name": "stdout",
     "output_type": "stream",
     "text": [
      "Model: \"sequential\"\n",
      "_________________________________________________________________\n",
      " Layer (type)                Output Shape              Param #   \n",
      "=================================================================\n",
      " embedding (Embedding)       (None, 1000, 100)         9046600   \n",
      "                                                                 \n",
      " bidirectional (Bidirectiona  (None, 384)              450048    \n",
      " l)                                                              \n",
      "                                                                 \n",
      " dropout (Dropout)           (None, 384)               0         \n",
      "                                                                 \n",
      " dense (Dense)               (None, 1)                 385       \n",
      "                                                                 \n",
      "=================================================================\n",
      "Total params: 9,497,033\n",
      "Trainable params: 450,433\n",
      "Non-trainable params: 9,046,600\n",
      "_________________________________________________________________\n"
     ]
    }
   ],
   "source": [
    "best_lstm_model.summary()"
   ]
  },
  {
   "cell_type": "code",
   "execution_count": 150,
   "id": "217bd230",
   "metadata": {},
   "outputs": [
    {
     "name": "stdout",
     "output_type": "stream",
     "text": [
      "734/734 [==============================] - 31s 41ms/step - loss: 0.0210 - accuracy: 0.9932\n"
     ]
    },
    {
     "data": {
      "text/plain": [
       "[0.02104427106678486, 0.9932233691215515]"
      ]
     },
     "execution_count": 150,
     "metadata": {},
     "output_type": "execute_result"
    }
   ],
   "source": [
    "best_lstm_model.evaluate(X_train_alltext, y_train)"
   ]
  },
  {
   "cell_type": "code",
   "execution_count": 151,
   "id": "14ed3bac",
   "metadata": {},
   "outputs": [
    {
     "name": "stdout",
     "output_type": "stream",
     "text": [
      "245/245 [==============================] - 10s 40ms/step - loss: 0.0333 - accuracy: 0.9890\n"
     ]
    },
    {
     "data": {
      "text/plain": [
       "[0.03331877291202545, 0.9890039563179016]"
      ]
     },
     "execution_count": 151,
     "metadata": {},
     "output_type": "execute_result"
    }
   ],
   "source": [
    "best_lstm_model.evaluate(X_val_alltext, y_val)"
   ]
  },
  {
   "cell_type": "code",
   "execution_count": 152,
   "id": "20ef976d",
   "metadata": {},
   "outputs": [
    {
     "name": "stdout",
     "output_type": "stream",
     "text": [
      "245/245 [==============================] - 10s 40ms/step - loss: 0.0442 - accuracy: 0.9873\n"
     ]
    },
    {
     "data": {
      "text/plain": [
       "[0.04415591061115265, 0.9873417615890503]"
      ]
     },
     "execution_count": 152,
     "metadata": {},
     "output_type": "execute_result"
    }
   ],
   "source": [
    "best_lstm_model.evaluate(X_test_alltext, y_test)"
   ]
  },
  {
   "cell_type": "code",
   "execution_count": null,
   "id": "53f7b705",
   "metadata": {},
   "outputs": [],
   "source": []
  }
 ],
 "metadata": {
  "kernelspec": {
   "display_name": "Python 3 (ipykernel)",
   "language": "python",
   "name": "python3"
  },
  "language_info": {
   "codemirror_mode": {
    "name": "ipython",
    "version": 3
   },
   "file_extension": ".py",
   "mimetype": "text/x-python",
   "name": "python",
   "nbconvert_exporter": "python",
   "pygments_lexer": "ipython3",
   "version": "3.9.12"
  },
  "vscode": {
   "interpreter": {
    "hash": "b0a6d3a1c9702cbdea61a84eb923333e247e4db67d8a1f6fe21a7310eabf978f"
   }
  }
 },
 "nbformat": 4,
 "nbformat_minor": 5
}
