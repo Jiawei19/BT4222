{
 "cells": [
  {
   "cell_type": "markdown",
   "id": "68d923ce",
   "metadata": {},
   "source": [
    "# Importing Libraries"
   ]
  },
  {
   "cell_type": "code",
   "execution_count": 73,
   "id": "4dbe66d8",
   "metadata": {},
   "outputs": [],
   "source": [
    "import os\n",
    "import re\n",
    "import pandas as pd\n",
    "import numpy as np\n",
    "import math\n",
    "import matplotlib.pyplot as plt \n",
    "from sklearn.model_selection import train_test_split\n",
    "import tensorflow as tf\n",
    "from tensorflow.keras.preprocessing.text import Tokenizer\n",
    "from tensorflow.keras.preprocessing.sequence import pad_sequences\n",
    "from tensorflow.keras import Sequential\n",
    "from tensorflow.keras.layers import Dense, Embedding, Bidirectional, LSTM, Dropout, SimpleRNN\n",
    "import keras_tuner"
   ]
  },
  {
   "cell_type": "markdown",
   "id": "4eafc522-8a42-46de-b25c-51f9a0e0ea08",
   "metadata": {},
   "source": [
    "## Cleaning & Splitting the dataset --> to be replaced with standardized data file"
   ]
  },
  {
   "cell_type": "code",
   "execution_count": 41,
   "id": "1d382a0d-1423-45de-977d-5ff39d725cd5",
   "metadata": {},
   "outputs": [],
   "source": [
    "news_final = pd.read_csv(\"news_final.csv\")\n",
    "\n",
    "target = news_final['fake']\n",
    "features = news_final.drop('fake', axis=1)"
   ]
  },
  {
   "cell_type": "code",
   "execution_count": 42,
   "id": "16a4c07b-0302-4ec7-8e33-827a26281a93",
   "metadata": {},
   "outputs": [],
   "source": [
    "X_train, X_test, y_train, y_test = train_test_split(features, target, random_state=1,test_size=0.2)\n",
    "X_train, X_val, y_train, y_val = train_test_split(X_train, y_train, random_state=1, test_size=0.25) # 0.25 x 0.8 = 0.2, #20% valid"
   ]
  },
  {
   "cell_type": "markdown",
   "id": "7cb05939-0323-4b13-87c0-6b9d3397f911",
   "metadata": {},
   "source": [
    "# Hypothesis 2: Testing Neural Network models"
   ]
  },
  {
   "cell_type": "markdown",
   "id": "1a6865a9",
   "metadata": {},
   "source": [
    "## Define Tokenizing, Padding, Plotting functions & Earlystopping"
   ]
  },
  {
   "cell_type": "code",
   "execution_count": 43,
   "id": "bb29e691-732b-4a59-8836-98f5a544c26e",
   "metadata": {},
   "outputs": [],
   "source": [
    "# # only words (can have - or ') will be generated as tokens\n",
    "# create a list of elements each containing a list of words from each article in the corpus\n",
    "from nltk.tokenize import RegexpTokenizer\n",
    "from nltk.corpus import stopwords\n",
    "from nltk import sent_tokenize\n",
    "\n",
    "def corpus_to_vect(df_column):\n",
    "    corpus_tokens = []\n",
    "    stop_words = set(stopwords.words(\"english\"))\n",
    "    rtokenizer = RegexpTokenizer(r'[a-zA-Z\\'\\-]+') # matches any word that contains only letters, hyphens, and apostrophes\n",
    "    docs = df_column.values\n",
    "    for doc in docs:\n",
    "        sents = sent_tokenize(doc)\n",
    "        doc_tokens = []\n",
    "        for sent in sents:\n",
    "            sent_lowered = sent.lower()\n",
    "            words = rtokenizer.tokenize(sent_lowered) # convert all words to lower case\n",
    "            filtered = [word.strip() for word in words if word not in stop_words and len(word) > 1] # filter out stopwords\n",
    "            doc_tokens.extend(filtered)\n",
    "        corpus_tokens.append(doc_tokens)\n",
    "    return corpus_tokens\n",
    "\n",
    "def tokenize(train_data,val_data,test_data):\n",
    "    train_data = corpus_to_vect(train_data)\n",
    "    val_data = corpus_to_vect(val_data)\n",
    "    test_data = corpus_to_vect(test_data)\n",
    "    \n",
    "    tokenizer = Tokenizer()\n",
    "    tokenizer.fit_on_texts(train_data)\n",
    "\n",
    "    train_data = tokenizer.texts_to_sequences(train_data)\n",
    "    val_data = tokenizer.texts_to_sequences(val_data)\n",
    "    test_data = tokenizer.texts_to_sequences(test_data)\n",
    "    vocab = tokenizer.word_index\n",
    "    return train_data,val_data,test_data,vocab\n",
    "\n",
    "def pad(train_data,val_data,test_data,max_len):\n",
    "    train_data = pad_sequences(train_data, padding='post', maxlen=max_len)\n",
    "    val_data = pad_sequences(val_data, padding='post', maxlen=max_len)\n",
    "    test_data = pad_sequences(test_data, padding='post', maxlen=max_len)\n",
    "    return train_data,val_data,test_data\n",
    "\n",
    "def plotHistory(history):\n",
    "    history_dict = history.history\n",
    "\n",
    "    acc = history_dict['accuracy']\n",
    "    val_acc = history_dict['val_accuracy']\n",
    "    loss = history_dict['loss']\n",
    "    val_loss = history_dict['val_loss']\n",
    "    epochs = history.epoch\n",
    "\n",
    "    plt.figure()\n",
    "    plt.plot(epochs, loss, 'r', label='Training loss')\n",
    "    plt.plot(epochs, val_loss, 'b', label='Validation loss')\n",
    "    plt.title('Training and validation loss')\n",
    "    plt.xlabel('Epochs')\n",
    "    plt.ylabel('Loss')\n",
    "    plt.legend()\n",
    "    plt.show()\n",
    "\n",
    "    plt.figure()\n",
    "    plt.plot(epochs, acc, 'g', label='Training acc')\n",
    "    plt.plot(epochs, val_acc, 'b', label='Validation acc')\n",
    "    plt.title('Training and validation accuracy')\n",
    "    plt.xlabel('Epochs')\n",
    "    plt.ylabel('Accuracy')\n",
    "    plt.legend()\n",
    "    plt.show()\n",
    "\n",
    "early_stop = tf.keras.callbacks.EarlyStopping(monitor='val_loss', patience=2, restore_best_weights=True)"
   ]
  },
  {
   "cell_type": "markdown",
   "id": "219c5791",
   "metadata": {},
   "source": [
    "## Training on titles only"
   ]
  },
  {
   "cell_type": "code",
   "execution_count": 44,
   "id": "6a038fc8",
   "metadata": {},
   "outputs": [
    {
     "name": "stdout",
     "output_type": "stream",
     "text": [
      "Vocab Size for Titles: 19731\n",
      "Max Title Length: 34\n"
     ]
    }
   ],
   "source": [
    "X_train_title,X_val_title,X_test_title,vocab_title = tokenize(X_train['title'],X_val['title'],X_test['title'])\n",
    "max_vocab_title = len(vocab_title) + 1 # Adding 1 because of reserved 0 index\n",
    "# Embedding Layer creates one more vector for \"UNKNOWN\" words, or padded words (0s). This Vector is filled with zeros.\n",
    "print(\"Vocab Size for Titles: {}\".format(max_vocab_title))\n",
    "\n",
    "# get length of longest title and pad all shorter titles to match length\n",
    "max_len_title = max([len(x) for x in X_train_title] + [len(x) for x in X_test_title])\n",
    "X_train_title,X_val_title,X_test_title = pad(X_train_title,X_val_title,X_test_title,max_len_title)\n",
    "print(\"Max Title Length: {}\".format(max_len_title))"
   ]
  },
  {
   "cell_type": "markdown",
   "id": "05f31c71-a719-4a15-845a-4361061dc46a",
   "metadata": {},
   "source": [
    "### Training a simple RNN model on titles only"
   ]
  },
  {
   "cell_type": "code",
   "execution_count": 45,
   "id": "b2fda82e",
   "metadata": {},
   "outputs": [
    {
     "name": "stdout",
     "output_type": "stream",
     "text": [
      "Model: \"sequential_2\"\n",
      "_________________________________________________________________\n",
      " Layer (type)                Output Shape              Param #   \n",
      "=================================================================\n",
      " embedding_2 (Embedding)     (None, 34, 100)           1973100   \n",
      "                                                                 \n",
      " bidirectional_2 (Bidirectio  (None, 256)              58624     \n",
      " nal)                                                            \n",
      "                                                                 \n",
      " dropout_2 (Dropout)         (None, 256)               0         \n",
      "                                                                 \n",
      " dense_2 (Dense)             (None, 1)                 257       \n",
      "                                                                 \n",
      "=================================================================\n",
      "Total params: 2,031,981\n",
      "Trainable params: 2,031,981\n",
      "Non-trainable params: 0\n",
      "_________________________________________________________________\n"
     ]
    }
   ],
   "source": [
    "rnn_title_model = Sequential([\n",
    "    Embedding(max_vocab_title, 100, input_length=max_len_title),\n",
    "    Bidirectional(SimpleRNN(128)),\n",
    "    Dropout(0.5),\n",
    "    Dense(1, activation='sigmoid')\n",
    "])\n",
    "\n",
    "rnn_title_model.compile(loss=tf.keras.losses.BinaryCrossentropy(),\n",
    "              optimizer=tf.keras.optimizers.Adam(1e-4),\n",
    "              metrics=['accuracy'])\n",
    "\n",
    "rnn_title_model.summary()"
   ]
  },
  {
   "cell_type": "code",
   "execution_count": 46,
   "id": "47971c59-78ce-4d7f-99e9-b91691831c3d",
   "metadata": {},
   "outputs": [
    {
     "name": "stdout",
     "output_type": "stream",
     "text": [
      "Epoch 1/10\n",
      "774/774 [==============================] - 90s 114ms/step - loss: 0.3061 - accuracy: 0.8709 - val_loss: 0.1806 - val_accuracy: 0.9356\n",
      "Epoch 2/10\n",
      "774/774 [==============================] - 86s 112ms/step - loss: 0.1151 - accuracy: 0.9609 - val_loss: 0.1450 - val_accuracy: 0.9436\n",
      "Epoch 3/10\n",
      "774/774 [==============================] - 92s 119ms/step - loss: 0.0566 - accuracy: 0.9829 - val_loss: 0.1837 - val_accuracy: 0.9408\n",
      "Epoch 4/10\n",
      "774/774 [==============================] - 86s 112ms/step - loss: 0.0320 - accuracy: 0.9903 - val_loss: 0.1956 - val_accuracy: 0.9369\n",
      "CPU times: total: 8min 13s\n",
      "Wall time: 5min 54s\n"
     ]
    }
   ],
   "source": [
    "%%time\n",
    "rnn_title_history = rnn_title_model.fit(X_train_title, y_train, epochs=10, \n",
    "                    validation_data=(X_val_title, y_val), batch_size=30, \n",
    "                    shuffle=True, callbacks=[early_stop])"
   ]
  },
  {
   "cell_type": "code",
   "execution_count": 47,
   "id": "00f87ac3",
   "metadata": {},
   "outputs": [
    {
     "data": {
      "image/png": "[encoded data removed]",
      "text/plain": [
       "<Figure size 432x288 with 1 Axes>"
      ]
     },
     "metadata": {
      "needs_background": "light"
     },
     "output_type": "display_data"
    },
    {
     "data": {
      "image/png": "[encoded data removed]",
      "text/plain": [
       "<Figure size 432x288 with 1 Axes>"
      ]
     },
     "metadata": {
      "needs_background": "light"
     },
     "output_type": "display_data"
    }
   ],
   "source": [
    "plotHistory(rnn_title_history)"
   ]
  },
  {
   "cell_type": "code",
   "execution_count": 48,
   "id": "bb9e142a",
   "metadata": {},
   "outputs": [
    {
     "name": "stdout",
     "output_type": "stream",
     "text": [
      "725/725 [==============================] - 12s 16ms/step - loss: 0.0544 - accuracy: 0.9865\n"
     ]
    },
    {
     "data": {
      "text/plain": [
       "[0.05436372384428978, 0.9865482449531555]"
      ]
     },
     "execution_count": 48,
     "metadata": {},
     "output_type": "execute_result"
    }
   ],
   "source": [
    "rnn_title_model.evaluate(X_train_title, y_train)"
   ]
  },
  {
   "cell_type": "code",
   "execution_count": 49,
   "id": "1cb74b54",
   "metadata": {},
   "outputs": [
    {
     "name": "stdout",
     "output_type": "stream",
     "text": [
      "242/242 [==============================] - 4s 16ms/step - loss: 0.1450 - accuracy: 0.9436\n"
     ]
    },
    {
     "data": {
      "text/plain": [
       "[0.14502878487110138, 0.9436109662055969]"
      ]
     },
     "execution_count": 49,
     "metadata": {},
     "output_type": "execute_result"
    }
   ],
   "source": [
    "rnn_title_model.evaluate(X_val_title, y_val)"
   ]
  },
  {
   "cell_type": "code",
   "execution_count": 50,
   "id": "4e29ad9a",
   "metadata": {},
   "outputs": [
    {
     "name": "stdout",
     "output_type": "stream",
     "text": [
      "242/242 [==============================] - 4s 16ms/step - loss: 0.1502 - accuracy: 0.9430\n"
     ]
    },
    {
     "data": {
      "text/plain": [
       "[0.15021859109401703, 0.9429643154144287]"
      ]
     },
     "execution_count": 50,
     "metadata": {},
     "output_type": "execute_result"
    }
   ],
   "source": [
    "rnn_title_model.evaluate(X_test_title, y_test)"
   ]
  },
  {
   "cell_type": "markdown",
   "id": "20e125c3",
   "metadata": {},
   "source": [
    "### Training an LSTM model on titles only"
   ]
  },
  {
   "cell_type": "code",
   "execution_count": 51,
   "id": "a333b824",
   "metadata": {},
   "outputs": [
    {
     "name": "stdout",
     "output_type": "stream",
     "text": [
      "Model: \"sequential_3\"\n",
      "_________________________________________________________________\n",
      " Layer (type)                Output Shape              Param #   \n",
      "=================================================================\n",
      " embedding_3 (Embedding)     (None, 34, 100)           1973100   \n",
      "                                                                 \n",
      " bidirectional_3 (Bidirectio  (None, 256)              234496    \n",
      " nal)                                                            \n",
      "                                                                 \n",
      " dropout_3 (Dropout)         (None, 256)               0         \n",
      "                                                                 \n",
      " dense_3 (Dense)             (None, 1)                 257       \n",
      "                                                                 \n",
      "=================================================================\n",
      "Total params: 2,207,853\n",
      "Trainable params: 2,207,853\n",
      "Non-trainable params: 0\n",
      "_________________________________________________________________\n"
     ]
    }
   ],
   "source": [
    "lstm_title_model = Sequential([\n",
    "    Embedding(max_vocab_title, 100, input_length=max_len_title),\n",
    "    Bidirectional(LSTM(128)),\n",
    "    Dropout(0.5),\n",
    "    Dense(1, activation='sigmoid')\n",
    "])\n",
    "\n",
    "lstm_title_model.compile(loss=tf.keras.losses.BinaryCrossentropy(),\n",
    "              optimizer=tf.keras.optimizers.Adam(1e-4),\n",
    "              metrics=['accuracy'])\n",
    "\n",
    "lstm_title_model.summary()"
   ]
  },
  {
   "cell_type": "code",
   "execution_count": 60,
   "id": "0a7059ed",
   "metadata": {},
   "outputs": [
    {
     "name": "stdout",
     "output_type": "stream",
     "text": [
      "Epoch 1/10\n",
      "774/774 [==============================] - 8s 10ms/step - loss: 0.0752 - accuracy: 0.9747 - val_loss: 0.1348 - val_accuracy: 0.9505\n",
      "Epoch 2/10\n",
      "774/774 [==============================] - 8s 10ms/step - loss: 0.0475 - accuracy: 0.9855 - val_loss: 0.1776 - val_accuracy: 0.9357\n",
      "Epoch 3/10\n",
      "774/774 [==============================] - 8s 10ms/step - loss: 0.0313 - accuracy: 0.9906 - val_loss: 0.1786 - val_accuracy: 0.9448\n",
      "CPU times: total: 31.6 s\n",
      "Wall time: 23.5 s\n"
     ]
    }
   ],
   "source": [
    "%%time\n",
    "lstm_title_history = lstm_title_model.fit(X_train_title, y_train, epochs=10, \n",
    "                    validation_data=(X_val_title, y_val), batch_size=30, \n",
    "                    shuffle=True, callbacks=[early_stop])"
   ]
  },
  {
   "cell_type": "code",
   "execution_count": 61,
   "id": "eac83689",
   "metadata": {},
   "outputs": [
    {
     "data": {
      "image/png": "[encoded data removed]",
      "text/plain": [
       "<Figure size 432x288 with 1 Axes>"
      ]
     },
     "metadata": {
      "needs_background": "light"
     },
     "output_type": "display_data"
    },
    {
     "data": {
      "image/png": "[encoded data removed]",
      "text/plain": [
       "<Figure size 432x288 with 1 Axes>"
      ]
     },
     "metadata": {
      "needs_background": "light"
     },
     "output_type": "display_data"
    }
   ],
   "source": [
    "plotHistory(lstm_title_history)"
   ]
  },
  {
   "cell_type": "code",
   "execution_count": 62,
   "id": "23958683",
   "metadata": {},
   "outputs": [
    {
     "name": "stdout",
     "output_type": "stream",
     "text": [
      "725/725 [==============================] - 3s 4ms/step - loss: 0.0450 - accuracy: 0.9879\n"
     ]
    },
    {
     "data": {
      "text/plain": [
       "[0.04502788931131363, 0.9878848195075989]"
      ]
     },
     "execution_count": 62,
     "metadata": {},
     "output_type": "execute_result"
    }
   ],
   "source": [
    "lstm_title_model.evaluate(X_train_title, y_train)"
   ]
  },
  {
   "cell_type": "code",
   "execution_count": 63,
   "id": "41e761a5",
   "metadata": {},
   "outputs": [
    {
     "name": "stdout",
     "output_type": "stream",
     "text": [
      "242/242 [==============================] - 1s 5ms/step - loss: 0.1348 - accuracy: 0.9505\n"
     ]
    },
    {
     "data": {
      "text/plain": [
       "[0.134831964969635, 0.9504656195640564]"
      ]
     },
     "execution_count": 63,
     "metadata": {},
     "output_type": "execute_result"
    }
   ],
   "source": [
    "lstm_title_model.evaluate(X_val_title, y_val)"
   ]
  },
  {
   "cell_type": "code",
   "execution_count": 64,
   "id": "0efeef12",
   "metadata": {},
   "outputs": [
    {
     "name": "stdout",
     "output_type": "stream",
     "text": [
      "242/242 [==============================] - 1s 5ms/step - loss: 0.1357 - accuracy: 0.9472\n"
     ]
    },
    {
     "data": {
      "text/plain": [
       "[0.13569745421409607, 0.9472323060035706]"
      ]
     },
     "execution_count": 64,
     "metadata": {},
     "output_type": "execute_result"
    }
   ],
   "source": [
    "lstm_title_model.evaluate(X_test_title, y_test)"
   ]
  },
  {
   "cell_type": "markdown",
   "id": "424dd77e-eb66-4348-9268-782892bcc34a",
   "metadata": {},
   "source": [
    "## Training on all text (title + text)"
   ]
  },
  {
   "cell_type": "markdown",
   "id": "10bc9e66-e7cb-4970-9210-7c71d978c87c",
   "metadata": {},
   "source": [
    "### Training the word2vec model on the dataset"
   ]
  },
  {
   "cell_type": "markdown",
   "id": "8219508e-3212-4c69-9e00-8a3773135ed8",
   "metadata": {},
   "source": [
    "<li>There are certain characteristics distinct to fake news that would be helpful for prediction (eg. number of capitalised words, punctuations etc. However, since word2vec trains better on words in their raw form, we will preprocess the text for this purpose while extracting the distinctive characteristics and train them in another classification model.</li>\n",
    "<li>Since the use of language and choice of vocabulary differs between real and fake news, we will not lemmatise/stem the words in our corpus</li>\n"
   ]
  },
  {
   "cell_type": "code",
   "execution_count": 65,
   "id": "f3b18b79-f9ce-4628-8bb8-81098f2eb895",
   "metadata": {},
   "outputs": [],
   "source": [
    "# training word2vec on the 'text' corpus to form the embedding layer\n",
    "from gensim.models import Word2Vec\n",
    "\n",
    "EMBEDDING_DIM = 100\n",
    "w2v = Word2Vec(\n",
    "    sentences = corpus_to_vect(X_train['all_text']),\n",
    "    vector_size = EMBEDDING_DIM,\n",
    "    window = 5,\n",
    "    min_count = 1\n",
    ")"
   ]
  },
  {
   "cell_type": "code",
   "execution_count": 66,
   "id": "496bdc34-51f2-45c8-b068-5e4f0c187a8f",
   "metadata": {},
   "outputs": [
    {
     "name": "stdout",
     "output_type": "stream",
     "text": [
      "There are a total of 108281 words in the vocabulary of our trained word2vec model.\n"
     ]
    }
   ],
   "source": [
    "num = len(w2v.wv)\n",
    "print('There are a total of %d words in the vocabulary of our trained word2vec model.' % num)"
   ]
  },
  {
   "cell_type": "code",
   "execution_count": 67,
   "id": "b5162c94-f24a-445a-98d9-d7560afcae56",
   "metadata": {},
   "outputs": [
    {
     "data": {
      "text/plain": [
       "array([-1.2755212e+00, -2.4483891e-01, -3.3259077e+00,  1.1881393e+00,\n",
       "       -1.5453155e+00, -8.5365903e-01, -1.8547323e+00,  1.1752487e+00,\n",
       "       -1.6967301e+00,  2.0702002e+00, -9.6109229e-01,  1.4290427e+00,\n",
       "        5.4061264e-01,  3.0945629e-01, -5.4003048e-01,  1.7356414e+00,\n",
       "        3.8711023e-01, -2.8266547e+00,  3.3998659e+00, -5.0392532e-01,\n",
       "        8.4177375e-01,  2.2277739e+00, -7.3250580e-01, -1.3489498e+00,\n",
       "        2.0691831e+00, -3.0194716e+00, -3.1585147e+00,  1.9094899e+00,\n",
       "       -2.9544780e-01,  1.5127783e+00, -9.7127974e-02,  2.7210884e+00,\n",
       "        9.9397534e-01,  2.4506335e+00,  2.4139216e+00,  1.3392528e+00,\n",
       "       -1.3870788e+00,  7.9234135e-01,  1.9755086e+00, -1.7639482e-01,\n",
       "        1.4515284e+00, -1.9390098e+00, -6.0140169e-01,  1.9122498e+00,\n",
       "        2.2628219e-03, -4.8189834e-01, -6.2620573e-02, -1.0337194e+00,\n",
       "        1.0380130e-01,  1.2568979e+00,  2.1662867e+00,  1.9928960e+00,\n",
       "       -7.5888580e-01, -3.8710940e-01, -1.5432696e+00,  5.4171437e-01,\n",
       "       -1.3162718e+00,  3.1880555e-01,  8.4062624e-01, -9.5896101e-01,\n",
       "        1.9840705e+00,  4.1895247e+00,  2.2411993e+00,  1.7618099e+00,\n",
       "       -1.5512525e+00, -3.2777336e+00,  1.9710433e+00,  8.4711438e-01,\n",
       "        1.7425671e+00, -2.4056222e+00, -1.2562085e+00,  2.8198128e+00,\n",
       "       -1.9616619e+00, -1.7862604e+00,  1.1699055e+00, -8.7039196e-01,\n",
       "        3.5459077e-01, -1.4987017e-03,  1.6938715e+00, -2.6308835e+00,\n",
       "        1.0944748e+00, -2.1845136e+00,  1.3051994e+00,  4.3512406e+00,\n",
       "        1.6018502e+00, -2.3363199e+00, -6.1810565e-01,  5.1221335e-01,\n",
       "        3.1548411e-01,  2.7069283e+00, -1.4386388e+00, -1.8548715e+00,\n",
       "       -2.3171444e+00, -1.2276829e+00,  4.2787991e+00, -8.3771056e-01,\n",
       "       -3.4382794e+00,  1.3468871e+00,  1.0998570e+00,  2.9886236e+00],\n",
       "      dtype=float32)"
      ]
     },
     "execution_count": 67,
     "metadata": {},
     "output_type": "execute_result"
    }
   ],
   "source": [
    "w2v.wv[\"donald\"]"
   ]
  },
  {
   "cell_type": "code",
   "execution_count": 68,
   "id": "d092b9a9-d675-4af3-a209-fc99f859c37b",
   "metadata": {},
   "outputs": [
    {
     "data": {
      "text/plain": [
       "[('president-elect', 0.6297062039375305),\n",
       " ('instead', 0.526829719543457),\n",
       " ('course', 0.5192578434944153),\n",
       " ('actually', 0.5098420977592468),\n",
       " ('fact', 0.5029680132865906),\n",
       " ('conway', 0.49326539039611816),\n",
       " ('obama', 0.4837634563446045),\n",
       " ('yet', 0.4737081229686737),\n",
       " ('clearly', 0.46551617980003357),\n",
       " ('haiku', 0.4599129855632782)]"
      ]
     },
     "execution_count": 68,
     "metadata": {},
     "output_type": "execute_result"
    }
   ],
   "source": [
    "w2v.wv.most_similar(\"trump\")"
   ]
  },
  {
   "cell_type": "markdown",
   "id": "ab4463ba-7eb2-4ce5-8dcb-2ef4e13d78c3",
   "metadata": {
    "tags": []
   },
   "source": [
    "### Preparing the neural network model inputs"
   ]
  },
  {
   "cell_type": "code",
   "execution_count": 69,
   "id": "7b27cfce-9421-42d1-8bd1-8ee5c1ea2f1f",
   "metadata": {},
   "outputs": [
    {
     "name": "stdout",
     "output_type": "stream",
     "text": [
      "Vocab Size for All Text: 108282\n"
     ]
    }
   ],
   "source": [
    "X_train_alltext,X_val_alltext,X_test_alltext, vocab_alltext = tokenize(X_train['all_text'],X_val['all_text'],X_test['all_text'])\n",
    "max_vocab_alltext = len(vocab_alltext) + 1\n",
    "print(\"Vocab Size for All Text: {}\".format(max_vocab_alltext))"
   ]
  },
  {
   "cell_type": "code",
   "execution_count": 70,
   "id": "fdd88625-909f-4236-8d93-9fb0f77bd62a",
   "metadata": {},
   "outputs": [
    {
     "name": "stdout",
     "output_type": "stream",
     "text": [
      "[596, 4, 1478, 9658, 1326, 836, 378, 211, 7, 20, 11, 2, 596, 4, 913, 1478, 945, 4, 3491, 1326, 1282, 1137, 6929, 1195, 378, 211, 7, 142, 360, 5112, 1478, 1326, 9, 2265, 2438, 39808, 253, 1270, 459, 393, 3454, 5946, 874, 3455, 20, 11, 2, 78, 337, 218]\n"
     ]
    }
   ],
   "source": [
    "# all token indexes generated from the first article\n",
    "print(X_train_alltext[0])"
   ]
  },
  {
   "cell_type": "code",
   "execution_count": 74,
   "id": "5b8e03ea-46d9-4a48-b440-27df2900e9af",
   "metadata": {},
   "outputs": [
    {
     "data": {
      "image/png": "[encoded data removed]",
      "text/plain": [
       "<Figure size 432x288 with 1 Axes>"
      ]
     },
     "metadata": {
      "needs_background": "light"
     },
     "output_type": "display_data"
    }
   ],
   "source": [
    "article_lens = np.array([len(index) for index in X_train_alltext])\n",
    "plt.hist(article_lens, bins=500)\n",
    "plt.show()"
   ]
  },
  {
   "cell_type": "code",
   "execution_count": 75,
   "id": "3fadcb8b-56f5-4953-98b3-a31f94b0255c",
   "metadata": {},
   "outputs": [
    {
     "name": "stdout",
     "output_type": "stream",
     "text": [
      "23102 out of 23194 articles have less than 1000 words\n"
     ]
    }
   ],
   "source": [
    "len_1000 = article_lens[article_lens < 1000]\n",
    "print('%d out of %d articles have less than 1000 words' % (len(len_1000),len(article_lens)))"
   ]
  },
  {
   "cell_type": "markdown",
   "id": "9c1ffcfa-71f4-4b26-8722-2d669103ac2c",
   "metadata": {},
   "source": [
    "<li>Since the inputs to the neural network have to be of the same size, we have to pad each article in the dataset.</li>\n",
    "<li>Since the majority of articles have less than 1000 words, we pad shorter news articles and truncate longer articles.</li>"
   ]
  },
  {
   "cell_type": "code",
   "execution_count": 76,
   "id": "f5a25628-baeb-433e-b245-de9f4946cc54",
   "metadata": {},
   "outputs": [
    {
     "name": "stdout",
     "output_type": "stream",
     "text": [
      "Max All Text Length: 1000\n"
     ]
    }
   ],
   "source": [
    "max_len_alltext = 1000\n",
    "X_train_alltext,X_val_alltext,X_test_alltext = pad(X_train_alltext,X_val_alltext,X_test_alltext,max_len_alltext)\n",
    "print(\"Max All Text Length: {}\".format(max_len_alltext))"
   ]
  },
  {
   "cell_type": "code",
   "execution_count": 77,
   "id": "16e12edc-4237-44d6-9d1b-e904db702881",
   "metadata": {},
   "outputs": [],
   "source": [
    "# creating a weight matrix to retain weights learned by word2vec in the embedding layer later on\n",
    "def get_weight_matrix(model, vocab):\n",
    "    # total vocabulary size plus 0 for unknown words\n",
    "    vocab_size = len(vocab) + 1\n",
    "    # create weight matrix with number of rows = vocab_size and number of columns = number of embedding dimensions\n",
    "    weight_matrix = np.zeros((vocab_size, EMBEDDING_DIM))\n",
    "    # for each word in the vocab, store its vector created by the word2vec model\n",
    "    for word, row_index in vocab.items():\n",
    "        weight_matrix[row_index] = model.wv[word]\n",
    "    return weight_matrix"
   ]
  },
  {
   "cell_type": "code",
   "execution_count": 78,
   "id": "7134691b-9510-44d3-91b2-02095b1b749c",
   "metadata": {},
   "outputs": [],
   "source": [
    "embedding_vectors = get_weight_matrix(w2v, vocab_alltext)"
   ]
  },
  {
   "cell_type": "markdown",
   "id": "cd5fa8b0-d33e-4c83-a751-91197c0a1db0",
   "metadata": {},
   "source": [
    "### Training a simple RNN model on all text"
   ]
  },
  {
   "cell_type": "code",
   "execution_count": 79,
   "id": "5d99c71f",
   "metadata": {},
   "outputs": [
    {
     "name": "stdout",
     "output_type": "stream",
     "text": [
      "Model: \"sequential_4\"\n",
      "_________________________________________________________________\n",
      " Layer (type)                Output Shape              Param #   \n",
      "=================================================================\n",
      " embedding_4 (Embedding)     (None, 1000, 100)         10828200  \n",
      "                                                                 \n",
      " bidirectional_4 (Bidirectio  (None, 256)              58624     \n",
      " nal)                                                            \n",
      "                                                                 \n",
      " dropout_4 (Dropout)         (None, 256)               0         \n",
      "                                                                 \n",
      " dense_4 (Dense)             (None, 1)                 257       \n",
      "                                                                 \n",
      "=================================================================\n",
      "Total params: 10,887,081\n",
      "Trainable params: 58,881\n",
      "Non-trainable params: 10,828,200\n",
      "_________________________________________________________________\n"
     ]
    }
   ],
   "source": [
    "rnn_alltext_model = Sequential([\n",
    "    Embedding(max_vocab_alltext, output_dim=EMBEDDING_DIM, weights=[embedding_vectors], input_length=max_len_alltext, trainable=False),\n",
    "    Bidirectional(SimpleRNN(units=128)),\n",
    "    Dropout(0.5),\n",
    "    Dense(1, activation='sigmoid')\n",
    "])\n",
    "\n",
    "rnn_alltext_model.compile(loss=tf.keras.losses.BinaryCrossentropy(),\n",
    "              optimizer=tf.keras.optimizers.Adam(1e-4),\n",
    "              metrics=['accuracy'])\n",
    "\n",
    "rnn_alltext_model.summary()"
   ]
  },
  {
   "cell_type": "code",
   "execution_count": null,
   "id": "75be2f61",
   "metadata": {},
   "outputs": [
    {
     "name": "stdout",
     "output_type": "stream",
     "text": [
      "Epoch 1/10\n",
      "  3/774 [..............................] - ETA: 28:00 - loss: 0.7453 - accuracy: 0.5556"
     ]
    }
   ],
   "source": [
    "%%time\n",
    "rnn_alltext_history = rnn_alltext_model.fit(X_train_alltext, y_train, epochs=10, \n",
    "                                validation_data=(X_val_alltext, y_val), batch_size=30, \n",
    "                                shuffle=True, callbacks=[early_stop])"
   ]
  },
  {
   "cell_type": "code",
   "execution_count": null,
   "id": "059fd563",
   "metadata": {},
   "outputs": [],
   "source": [
    "plotHistory(rnn_alltext_history)"
   ]
  },
  {
   "cell_type": "code",
   "execution_count": null,
   "id": "33c96ca1",
   "metadata": {},
   "outputs": [],
   "source": [
    "rnn_alltext_model.evaluate(X_train_alltext, y_train)"
   ]
  },
  {
   "cell_type": "code",
   "execution_count": null,
   "id": "6ea45569",
   "metadata": {},
   "outputs": [],
   "source": [
    "rnn_alltext_model.evaluate(X_val_alltext, y_val)"
   ]
  },
  {
   "cell_type": "code",
   "execution_count": null,
   "id": "0320036e",
   "metadata": {},
   "outputs": [],
   "source": [
    "rnn_alltext_model.evaluate(X_test_alltext, y_test)"
   ]
  },
  {
   "cell_type": "markdown",
   "id": "673bf092",
   "metadata": {},
   "source": [
    "### Training an LSTM model on all text"
   ]
  },
  {
   "cell_type": "code",
   "execution_count": 99,
   "id": "cfa62649-c773-445f-9f8a-473258600caa",
   "metadata": {},
   "outputs": [],
   "source": [
    "lstm_alltext_model = Sequential([\n",
    "    Embedding(max_vocab_alltext, output_dim=EMBEDDING_DIM, weights=[embedding_vectors], input_length=max_len_alltext, trainable=False),\n",
    "    Bidirectional(LSTM(units=128)),\n",
    "    Dropout(0.5),\n",
    "    Dense(1, activation='sigmoid')\n",
    "])\n",
    "\n",
    "lstm_alltext_model.compile(loss=tf.keras.losses.BinaryCrossentropy(),\n",
    "              optimizer=tf.keras.optimizers.Adam(1e-4),\n",
    "              metrics=['accuracy'])\n",
    "\n",
    "lstm_alltext_model.summary()"
   ]
  },
  {
   "cell_type": "code",
   "execution_count": 102,
   "id": "a26d1c62-fee1-423a-84ed-9e9f9ae7b105",
   "metadata": {},
   "outputs": [
    {
     "name": "stdout",
     "output_type": "stream",
     "text": [
      "Epoch 1/10\n",
      "783/783 [==============================] - 69s 84ms/step - loss: 0.1904 - accuracy: 0.9286 - val_loss: 0.1010 - val_accuracy: 0.9657\n",
      "Epoch 2/10\n",
      "783/783 [==============================] - 65s 83ms/step - loss: 0.0879 - accuracy: 0.9700 - val_loss: 0.0742 - val_accuracy: 0.9753\n",
      "Epoch 3/10\n",
      "783/783 [==============================] - 66s 85ms/step - loss: 0.0672 - accuracy: 0.9772 - val_loss: 0.0617 - val_accuracy: 0.9784\n",
      "Epoch 4/10\n",
      "783/783 [==============================] - 63s 80ms/step - loss: 0.0590 - accuracy: 0.9798 - val_loss: 0.0555 - val_accuracy: 0.9808\n",
      "Epoch 5/10\n",
      "783/783 [==============================] - 63s 80ms/step - loss: 0.0485 - accuracy: 0.9843 - val_loss: 0.0490 - val_accuracy: 0.9829\n",
      "Epoch 6/10\n",
      "783/783 [==============================] - 63s 80ms/step - loss: 0.0420 - accuracy: 0.9863 - val_loss: 0.0476 - val_accuracy: 0.9834\n",
      "Epoch 7/10\n",
      "783/783 [==============================] - 63s 81ms/step - loss: 0.0419 - accuracy: 0.9867 - val_loss: 0.0473 - val_accuracy: 0.9825\n",
      "Epoch 8/10\n",
      "783/783 [==============================] - 63s 81ms/step - loss: 0.0305 - accuracy: 0.9903 - val_loss: 0.0485 - val_accuracy: 0.9840\n",
      "Epoch 9/10\n",
      "783/783 [==============================] - 63s 81ms/step - loss: 0.0316 - accuracy: 0.9892 - val_loss: 0.0426 - val_accuracy: 0.9839\n",
      "Epoch 10/10\n",
      "783/783 [==============================] - 64s 81ms/step - loss: 0.0268 - accuracy: 0.9922 - val_loss: 0.0408 - val_accuracy: 0.9870\n",
      "CPU times: total: 10min 41s\n",
      "Wall time: 10min 41s\n"
     ]
    }
   ],
   "source": [
    "%%time\n",
    "lstm_alltext_history = lstm_alltext_model.fit(X_train_alltext, y_train, epochs=10, \n",
    "                                validation_data=(X_val_alltext, y_val), batch_size=30, \n",
    "                                shuffle=True, callbacks=[early_stop])"
   ]
  },
  {
   "cell_type": "code",
   "execution_count": 103,
   "id": "1f293cb1",
   "metadata": {},
   "outputs": [
    {
     "data": {
      "image/png": "[encoded data removed]",
      "text/plain": [
       "<Figure size 432x288 with 1 Axes>"
      ]
     },
     "metadata": {
      "needs_background": "light"
     },
     "output_type": "display_data"
    },
    {
     "data": {
      "image/png": "[encoded data removed]",
      "text/plain": [
       "<Figure size 432x288 with 1 Axes>"
      ]
     },
     "metadata": {
      "needs_background": "light"
     },
     "output_type": "display_data"
    }
   ],
   "source": [
    "plotHistory(lstm_alltext_history)"
   ]
  },
  {
   "cell_type": "code",
   "execution_count": 104,
   "id": "9ca7ec8c",
   "metadata": {},
   "outputs": [
    {
     "name": "stdout",
     "output_type": "stream",
     "text": [
      "734/734 [==============================] - 29s 39ms/step - loss: 0.0191 - accuracy: 0.9943\n"
     ]
    },
    {
     "data": {
      "text/plain": [
       "[0.01908102259039879, 0.9943314790725708]"
      ]
     },
     "execution_count": 104,
     "metadata": {},
     "output_type": "execute_result"
    }
   ],
   "source": [
    "lstm_alltext_model.evaluate(X_train_alltext, y_train)"
   ]
  },
  {
   "cell_type": "code",
   "execution_count": 105,
   "id": "614cc11e",
   "metadata": {},
   "outputs": [
    {
     "name": "stdout",
     "output_type": "stream",
     "text": [
      "245/245 [==============================] - 10s 40ms/step - loss: 0.0408 - accuracy: 0.9870\n"
     ]
    },
    {
     "data": {
      "text/plain": [
       "[0.0407821387052536, 0.9869582056999207]"
      ]
     },
     "execution_count": 105,
     "metadata": {},
     "output_type": "execute_result"
    }
   ],
   "source": [
    "lstm_alltext_model.evaluate(X_val_alltext, y_val)"
   ]
  },
  {
   "cell_type": "code",
   "execution_count": 106,
   "id": "f0923e6a",
   "metadata": {},
   "outputs": [
    {
     "name": "stdout",
     "output_type": "stream",
     "text": [
      "245/245 [==============================] - 10s 39ms/step - loss: 0.0428 - accuracy: 0.9873\n"
     ]
    },
    {
     "data": {
      "text/plain": [
       "[0.04282530024647713, 0.9873417615890503]"
      ]
     },
     "execution_count": 106,
     "metadata": {},
     "output_type": "execute_result"
    }
   ],
   "source": [
    "lstm_alltext_model.evaluate(X_test_alltext, y_test)"
   ]
  },
  {
   "cell_type": "markdown",
   "id": "97e727c2-5fb2-4de8-99e1-568f0a71f1e2",
   "metadata": {},
   "source": [
    "### Hyperparameter tuning for LSTM model for all text"
   ]
  },
  {
   "cell_type": "code",
   "execution_count": 143,
   "id": "1bc98dee-cdd8-450a-a926-f08b19f8abed",
   "metadata": {},
   "outputs": [],
   "source": [
    "def hyperparameterTuning(hp): #https://keras.io/api/keras_tuner/hyperparameters/\n",
    "    model = Sequential([\n",
    "        Embedding(max_vocab_alltext, output_dim=EMBEDDING_DIM, weights=[embedding_vectors], input_length=max_len_alltext, trainable=False),\n",
    "        Bidirectional(LSTM(units=hp.Int('units', min_value=64, max_value=192, step=64))), #https://keras.io/api/layers/recurrent_layers/simple_rnn/\n",
    "        Dropout(rate=hp.Float('rate', min_value=0.3, max_value=0.7, step=0.2)), #https://keras.io/api/layers/regularization_layers/dropout/\n",
    "        Dense(1, activation='sigmoid')\n",
    "    ])\n",
    "    model.compile(loss=tf.keras.losses.BinaryCrossentropy(),\n",
    "              optimizer=tf.keras.optimizers.Adam(1e-4),\n",
    "              metrics=['accuracy'])\n",
    "    return model"
   ]
  },
  {
   "cell_type": "code",
   "execution_count": 145,
   "id": "a7575ed2",
   "metadata": {},
   "outputs": [],
   "source": [
    "#https://medium.com/swlh/hyperparameter-tuning-in-keras-tensorflow-2-with-keras-tuner-randomsearch-hyperband-3e212647778f\n",
    "tuner = keras_tuner.BayesianOptimization(hyperparameterTuning,\n",
    "                              objective='val_loss',\n",
    "                             directory='lstm_tuner2')"
   ]
  },
  {
   "cell_type": "code",
   "execution_count": 146,
   "id": "e3981e01",
   "metadata": {},
   "outputs": [
    {
     "name": "stdout",
     "output_type": "stream",
     "text": [
      "Trial 10 Complete [00h 14m 26s]\n",
      "val_loss: 0.04192085936665535\n",
      "\n",
      "Best val_loss So Far: 0.03331878408789635\n",
      "Total elapsed time: 02h 19m 24s\n",
      "INFO:tensorflow:Oracle triggered exit\n"
     ]
    },
    {
     "name": "stderr",
     "output_type": "stream",
     "text": [
      "INFO:tensorflow:Oracle triggered exit\n"
     ]
    }
   ],
   "source": [
    "early_stop = tf.keras.callbacks.EarlyStopping(monitor='val_loss', patience=2, restore_best_weights=True)\n",
    "tuner.search(X_train_alltext, y_train, epochs=10, \n",
    "            validation_data=(X_val_alltext, y_val), batch_size=30, \n",
    "            shuffle=True, callbacks=[early_stop])"
   ]
  },
  {
   "cell_type": "code",
   "execution_count": 147,
   "id": "b59eb86a",
   "metadata": {},
   "outputs": [
    {
     "name": "stdout",
     "output_type": "stream",
     "text": [
      "Results summary\n",
      "Results in lstm_tuner2\\untitled_project\n",
      "Showing 10 best trials\n",
      "<keras_tuner.engine.objective.Objective object at 0x000001D8A6659A00>\n",
      "Trial summary\n",
      "Hyperparameters:\n",
      "units: 192\n",
      "rate: 0.7\n",
      "Score: 0.03331878408789635\n",
      "Trial summary\n",
      "Hyperparameters:\n",
      "units: 192\n",
      "rate: 0.7\n",
      "Score: 0.039939410984516144\n",
      "Trial summary\n",
      "Hyperparameters:\n",
      "units: 128\n",
      "rate: 0.5\n",
      "Score: 0.041870806366205215\n",
      "Trial summary\n",
      "Hyperparameters:\n",
      "units: 128\n",
      "rate: 0.5\n",
      "Score: 0.04192085936665535\n",
      "Trial summary\n",
      "Hyperparameters:\n",
      "units: 128\n",
      "rate: 0.7\n",
      "Score: 0.04503205046057701\n",
      "Trial summary\n",
      "Hyperparameters:\n",
      "units: 192\n",
      "rate: 0.5\n",
      "Score: 0.04686621576547623\n",
      "Trial summary\n",
      "Hyperparameters:\n",
      "units: 64\n",
      "rate: 0.3\n",
      "Score: 0.04874274879693985\n",
      "Trial summary\n",
      "Hyperparameters:\n",
      "units: 192\n",
      "rate: 0.3\n",
      "Score: 0.05330261215567589\n",
      "Trial summary\n",
      "Hyperparameters:\n",
      "units: 64\n",
      "rate: 0.7\n",
      "Score: 0.05358147248625755\n",
      "Trial summary\n",
      "Hyperparameters:\n",
      "units: 192\n",
      "rate: 0.7\n",
      "Score: 0.05900872126221657\n"
     ]
    }
   ],
   "source": [
    "tuner.results_summary()"
   ]
  },
  {
   "cell_type": "code",
   "execution_count": 148,
   "id": "5be17c8f",
   "metadata": {},
   "outputs": [],
   "source": [
    "best_lstm_model = tuner.get_best_models(num_models=1)[0]"
   ]
  },
  {
   "cell_type": "code",
   "execution_count": 149,
   "id": "cf61f6fa",
   "metadata": {},
   "outputs": [
    {
     "name": "stdout",
     "output_type": "stream",
     "text": [
      "Model: \"sequential\"\n",
      "_________________________________________________________________\n",
      " Layer (type)                Output Shape              Param #   \n",
      "=================================================================\n",
      " embedding (Embedding)       (None, 1000, 100)         9046600   \n",
      "                                                                 \n",
      " bidirectional (Bidirectiona  (None, 384)              450048    \n",
      " l)                                                              \n",
      "                                                                 \n",
      " dropout (Dropout)           (None, 384)               0         \n",
      "                                                                 \n",
      " dense (Dense)               (None, 1)                 385       \n",
      "                                                                 \n",
      "=================================================================\n",
      "Total params: 9,497,033\n",
      "Trainable params: 450,433\n",
      "Non-trainable params: 9,046,600\n",
      "_________________________________________________________________\n"
     ]
    }
   ],
   "source": [
    "best_lstm_model.summary()"
   ]
  },
  {
   "cell_type": "code",
   "execution_count": 150,
   "id": "217bd230",
   "metadata": {},
   "outputs": [
    {
     "name": "stdout",
     "output_type": "stream",
     "text": [
      "734/734 [==============================] - 31s 41ms/step - loss: 0.0210 - accuracy: 0.9932\n"
     ]
    },
    {
     "data": {
      "text/plain": [
       "[0.02104427106678486, 0.9932233691215515]"
      ]
     },
     "execution_count": 150,
     "metadata": {},
     "output_type": "execute_result"
    }
   ],
   "source": [
    "best_lstm_model.evaluate(X_train_alltext, y_train)"
   ]
  },
  {
   "cell_type": "code",
   "execution_count": 151,
   "id": "14ed3bac",
   "metadata": {},
   "outputs": [
    {
     "name": "stdout",
     "output_type": "stream",
     "text": [
      "245/245 [==============================] - 10s 40ms/step - loss: 0.0333 - accuracy: 0.9890\n"
     ]
    },
    {
     "data": {
      "text/plain": [
       "[0.03331877291202545, 0.9890039563179016]"
      ]
     },
     "execution_count": 151,
     "metadata": {},
     "output_type": "execute_result"
    }
   ],
   "source": [
    "best_lstm_model.evaluate(X_val_alltext, y_val)"
   ]
  },
  {
   "cell_type": "code",
   "execution_count": 152,
   "id": "20ef976d",
   "metadata": {},
   "outputs": [
    {
     "name": "stdout",
     "output_type": "stream",
     "text": [
      "245/245 [==============================] - 10s 40ms/step - loss: 0.0442 - accuracy: 0.9873\n"
     ]
    },
    {
     "data": {
      "text/plain": [
       "[0.04415591061115265, 0.9873417615890503]"
      ]
     },
     "execution_count": 152,
     "metadata": {},
     "output_type": "execute_result"
    }
   ],
   "source": [
    "best_lstm_model.evaluate(X_test_alltext, y_test)"
   ]
  },
  {
   "cell_type": "code",
   "execution_count": null,
   "id": "53f7b705",
   "metadata": {},
   "outputs": [],
   "source": []
  }
 ],
 "metadata": {
  "kernelspec": {
   "display_name": "Python 3 (ipykernel)",
   "language": "python",
   "name": "python3"
  },
  "language_info": {
   "codemirror_mode": {
    "name": "ipython",
    "version": 3
   },
   "file_extension": ".py",
   "mimetype": "text/x-python",
   "name": "python",
   "nbconvert_exporter": "python",
   "pygments_lexer": "ipython3",
   "version": "3.9.12"
  },
  "vscode": {
   "interpreter": {
    "hash": "b0a6d3a1c9702cbdea61a84eb923333e247e4db67d8a1f6fe21a7310eabf978f"
   }
  }
 },
 "nbformat": 4,
 "nbformat_minor": 5
}
